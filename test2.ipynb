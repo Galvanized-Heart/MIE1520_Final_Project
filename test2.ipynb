{
 "cells": [
  {
   "cell_type": "code",
   "execution_count": 1,
   "metadata": {},
   "outputs": [],
   "source": [
    "import torch\n",
    "from torch_geometric.datasets import TUDataset\n",
    "from torch_geometric.data import HeteroData"
   ]
  },
  {
   "cell_type": "code",
   "execution_count": 2,
   "metadata": {},
   "outputs": [],
   "source": [
    "dataset = TUDataset(root='data/ENZYMES', name='ENZYMES')"
   ]
  },
  {
   "cell_type": "code",
   "execution_count": null,
   "metadata": {},
   "outputs": [],
   "source": []
  },
  {
   "cell_type": "code",
   "execution_count": 4,
   "metadata": {},
   "outputs": [],
   "source": [
    "c_list = []\n",
    "for idx, datum in enumerate(dataset):\n",
    "    if 1.0 in datum.x.T[-1]:\n",
    "        c_list.append(idx)\n",
    "    "
   ]
  },
  {
   "cell_type": "code",
   "execution_count": 5,
   "metadata": {},
   "outputs": [
    {
     "data": {
      "text/plain": [
       "[10,\n",
       " 61,\n",
       " 66,\n",
       " 79,\n",
       " 115,\n",
       " 119,\n",
       " 121,\n",
       " 123,\n",
       " 124,\n",
       " 125,\n",
       " 130,\n",
       " 131,\n",
       " 132,\n",
       " 133,\n",
       " 138,\n",
       " 144,\n",
       " 161,\n",
       " 163,\n",
       " 200,\n",
       " 214,\n",
       " 215,\n",
       " 254,\n",
       " 255,\n",
       " 256,\n",
       " 259,\n",
       " 272,\n",
       " 442,\n",
       " 443,\n",
       " 447,\n",
       " 450,\n",
       " 452,\n",
       " 458,\n",
       " 459,\n",
       " 460,\n",
       " 463,\n",
       " 464,\n",
       " 523,\n",
       " 540,\n",
       " 542,\n",
       " 543,\n",
       " 544,\n",
       " 545,\n",
       " 552]"
      ]
     },
     "execution_count": 5,
     "metadata": {},
     "output_type": "execute_result"
    }
   ],
   "source": [
    "c_list"
   ]
  },
  {
   "cell_type": "code",
   "execution_count": 6,
   "metadata": {},
   "outputs": [],
   "source": [
    "all_list = []\n",
    "for idx, datum in enumerate(dataset):\n",
    "    if 1.0 in datum.x.T[2] and 1.0 in datum.x.T[1] and 1.0 in datum.x.T[0]:\n",
    "        all_list.append(idx)"
   ]
  },
  {
   "cell_type": "code",
   "execution_count": 7,
   "metadata": {},
   "outputs": [
    {
     "data": {
      "text/plain": [
       "[61,\n",
       " 66,\n",
       " 79,\n",
       " 115,\n",
       " 119,\n",
       " 121,\n",
       " 123,\n",
       " 124,\n",
       " 125,\n",
       " 130,\n",
       " 131,\n",
       " 132,\n",
       " 133,\n",
       " 138,\n",
       " 144,\n",
       " 161,\n",
       " 163,\n",
       " 200,\n",
       " 214,\n",
       " 215,\n",
       " 254,\n",
       " 255,\n",
       " 256,\n",
       " 259,\n",
       " 272,\n",
       " 442,\n",
       " 443,\n",
       " 447,\n",
       " 450,\n",
       " 452,\n",
       " 458,\n",
       " 459,\n",
       " 460,\n",
       " 463,\n",
       " 464,\n",
       " 523,\n",
       " 540,\n",
       " 542,\n",
       " 543,\n",
       " 544,\n",
       " 545,\n",
       " 552]"
      ]
     },
     "execution_count": 7,
     "metadata": {},
     "output_type": "execute_result"
    }
   ],
   "source": [
    "all_list"
   ]
  },
  {
   "cell_type": "code",
   "execution_count": null,
   "metadata": {},
   "outputs": [],
   "source": []
  }
 ],
 "metadata": {
  "kernelspec": {
   "display_name": "ML_ENV",
   "language": "python",
   "name": "python3"
  },
  "language_info": {
   "codemirror_mode": {
    "name": "ipython",
    "version": 3
   },
   "file_extension": ".py",
   "mimetype": "text/x-python",
   "name": "python",
   "nbconvert_exporter": "python",
   "pygments_lexer": "ipython3",
   "version": "3.8.10"
  }
 },
 "nbformat": 4,
 "nbformat_minor": 2
}
