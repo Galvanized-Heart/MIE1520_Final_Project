{
 "cells": [
  {
   "cell_type": "code",
   "execution_count": 3,
   "metadata": {},
   "outputs": [],
   "source": [
    "import pandas as pd"
   ]
  },
  {
   "cell_type": "code",
   "execution_count": 4,
   "metadata": {},
   "outputs": [
    {
     "data": {
      "text/html": [
       "<div>\n",
       "<style scoped>\n",
       "    .dataframe tbody tr th:only-of-type {\n",
       "        vertical-align: middle;\n",
       "    }\n",
       "\n",
       "    .dataframe tbody tr th {\n",
       "        vertical-align: top;\n",
       "    }\n",
       "\n",
       "    .dataframe thead th {\n",
       "        text-align: right;\n",
       "    }\n",
       "</style>\n",
       "<table border=\"1\" class=\"dataframe\">\n",
       "  <thead>\n",
       "    <tr style=\"text-align: right;\">\n",
       "      <th></th>\n",
       "      <th>Unnamed: 0</th>\n",
       "      <th>level_0</th>\n",
       "      <th>index</th>\n",
       "      <th>PSCID</th>\n",
       "      <th>Protein Name</th>\n",
       "      <th>Free form</th>\n",
       "      <th>Bound form</th>\n",
       "      <th>Ligands</th>\n",
       "      <th>Classification(?)</th>\n",
       "      <th>motion_type</th>\n",
       "      <th>Free PDB</th>\n",
       "      <th>Free Chains</th>\n",
       "      <th>Bound PDB</th>\n",
       "      <th>Bound Chains</th>\n",
       "    </tr>\n",
       "  </thead>\n",
       "  <tbody>\n",
       "    <tr>\n",
       "      <th>0</th>\n",
       "      <td>0</td>\n",
       "      <td>0</td>\n",
       "      <td>0</td>\n",
       "      <td>CD.1</td>\n",
       "      <td>HYPOTHETICAL OXIDOREDUCTASE YIAK</td>\n",
       "      <td>1nxu_AB</td>\n",
       "      <td>1s20_AB</td>\n",
       "      <td>2xNAD,2xTLA</td>\n",
       "      <td>200004</td>\n",
       "      <td>coupled_domain_motion</td>\n",
       "      <td>1nxu</td>\n",
       "      <td>AB</td>\n",
       "      <td>1s20</td>\n",
       "      <td>AB</td>\n",
       "    </tr>\n",
       "    <tr>\n",
       "      <th>1</th>\n",
       "      <td>1</td>\n",
       "      <td>1</td>\n",
       "      <td>1</td>\n",
       "      <td>CD.2</td>\n",
       "      <td>ADENYLATE KINASE</td>\n",
       "      <td>4ake_A</td>\n",
       "      <td>2eck_A</td>\n",
       "      <td>ADP,AMP</td>\n",
       "      <td>200003</td>\n",
       "      <td>coupled_domain_motion</td>\n",
       "      <td>4ake</td>\n",
       "      <td>A</td>\n",
       "      <td>2eck</td>\n",
       "      <td>A</td>\n",
       "    </tr>\n",
       "    <tr>\n",
       "      <th>2</th>\n",
       "      <td>2</td>\n",
       "      <td>2</td>\n",
       "      <td>2</td>\n",
       "      <td>CD.3</td>\n",
       "      <td>GLUCOKINASE</td>\n",
       "      <td>1q18_AB</td>\n",
       "      <td>1sz2_AB</td>\n",
       "      <td>2xBGC</td>\n",
       "      <td>200003</td>\n",
       "      <td>coupled_domain_motion</td>\n",
       "      <td>1q18</td>\n",
       "      <td>AB</td>\n",
       "      <td>1sz2</td>\n",
       "      <td>AB</td>\n",
       "    </tr>\n",
       "    <tr>\n",
       "      <th>3</th>\n",
       "      <td>3</td>\n",
       "      <td>3</td>\n",
       "      <td>3</td>\n",
       "      <td>CD.4</td>\n",
       "      <td>LACTOFERRIN</td>\n",
       "      <td>1lfh_A</td>\n",
       "      <td>1lfi_A</td>\n",
       "      <td>2xCU,2xNAG</td>\n",
       "      <td>110103</td>\n",
       "      <td>coupled_domain_motion</td>\n",
       "      <td>1lfh</td>\n",
       "      <td>A</td>\n",
       "      <td>1lfi</td>\n",
       "      <td>A</td>\n",
       "    </tr>\n",
       "    <tr>\n",
       "      <th>4</th>\n",
       "      <td>4</td>\n",
       "      <td>4</td>\n",
       "      <td>4</td>\n",
       "      <td>CD.5</td>\n",
       "      <td>ELONGATION FACTOR 2</td>\n",
       "      <td>1n0v_D</td>\n",
       "      <td>1n0u_A</td>\n",
       "      <td>SO1</td>\n",
       "      <td>110002</td>\n",
       "      <td>coupled_domain_motion</td>\n",
       "      <td>1n0v</td>\n",
       "      <td>D</td>\n",
       "      <td>1n0u</td>\n",
       "      <td>A</td>\n",
       "    </tr>\n",
       "  </tbody>\n",
       "</table>\n",
       "</div>"
      ],
      "text/plain": [
       "   Unnamed: 0  level_0  index PSCID                      Protein Name  \\\n",
       "0           0        0      0  CD.1  HYPOTHETICAL OXIDOREDUCTASE YIAK   \n",
       "1           1        1      1  CD.2                  ADENYLATE KINASE   \n",
       "2           2        2      2  CD.3                       GLUCOKINASE   \n",
       "3           3        3      3  CD.4                       LACTOFERRIN   \n",
       "4           4        4      4  CD.5               ELONGATION FACTOR 2   \n",
       "\n",
       "  Free form Bound form      Ligands  Classification(?)            motion_type  \\\n",
       "0   1nxu_AB    1s20_AB  2xNAD,2xTLA             200004  coupled_domain_motion   \n",
       "1    4ake_A     2eck_A      ADP,AMP             200003  coupled_domain_motion   \n",
       "2   1q18_AB    1sz2_AB        2xBGC             200003  coupled_domain_motion   \n",
       "3    1lfh_A     1lfi_A   2xCU,2xNAG             110103  coupled_domain_motion   \n",
       "4    1n0v_D     1n0u_A          SO1             110002  coupled_domain_motion   \n",
       "\n",
       "  Free PDB Free Chains Bound PDB Bound Chains  \n",
       "0     1nxu          AB      1s20           AB  \n",
       "1     4ake           A      2eck            A  \n",
       "2     1q18          AB      1sz2           AB  \n",
       "3     1lfh           A      1lfi            A  \n",
       "4     1n0v           D      1n0u            A  "
      ]
     },
     "execution_count": 4,
     "metadata": {},
     "output_type": "execute_result"
    }
   ],
   "source": [
    "df = pd.read_csv('data/PSCDB/structural_rearrangement_data.csv')\n",
    "df.head()"
   ]
  },
  {
   "cell_type": "code",
   "execution_count": 5,
   "metadata": {},
   "outputs": [
    {
     "name": "stdout",
     "output_type": "stream",
     "text": [
      "0 coupled_domain_motion\n",
      "1 independent_domain_motion\n",
      "2 coupled_local_motion\n",
      "3 independent_local_motion\n",
      "4 burying_ligand_motion\n",
      "5 no_significant_motion\n",
      "6 other_motion\n"
     ]
    }
   ],
   "source": [
    "for i, j in enumerate(df.motion_type.unique()):\n",
    "    print(i, j)"
   ]
  },
  {
   "cell_type": "code",
   "execution_count": 6,
   "metadata": {},
   "outputs": [
    {
     "data": {
      "text/plain": [
       "{'coupled_domain_motion': 0,\n",
       " 'independent_domain_motion': 1,\n",
       " 'coupled_local_motion': 2,\n",
       " 'independent_local_motion': 3,\n",
       " 'burying_ligand_motion': 4,\n",
       " 'no_significant_motion': 5,\n",
       " 'other_motion': 6}"
      ]
     },
     "execution_count": 6,
     "metadata": {},
     "output_type": "execute_result"
    }
   ],
   "source": [
    "labels_map = {key: value for value, key in enumerate(df.motion_type.unique())} \n",
    "labels_map"
   ]
  },
  {
   "cell_type": "code",
   "execution_count": 12,
   "metadata": {},
   "outputs": [
    {
     "ename": "ModuleNotFoundError",
     "evalue": "No module named 'graphein.construct_graphs'",
     "output_type": "error",
     "traceback": [
      "\u001b[0;31m---------------------------------------------------------------------------\u001b[0m",
      "\u001b[0;31mModuleNotFoundError\u001b[0m                       Traceback (most recent call last)",
      "Cell \u001b[0;32mIn[12], line 2\u001b[0m\n\u001b[1;32m      1\u001b[0m \u001b[38;5;28;01mfrom\u001b[39;00m\u001b[38;5;250m \u001b[39m\u001b[38;5;21;01msklearn\u001b[39;00m\u001b[38;5;21;01m.\u001b[39;00m\u001b[38;5;21;01mmodel_selection\u001b[39;00m\u001b[38;5;250m \u001b[39m\u001b[38;5;28;01mimport\u001b[39;00m train_test_split\n\u001b[0;32m----> 2\u001b[0m \u001b[38;5;28;01mfrom\u001b[39;00m\u001b[38;5;250m \u001b[39m\u001b[38;5;21;01mgraphein\u001b[39;00m\u001b[38;5;21;01m.\u001b[39;00m\u001b[38;5;21;01mconstruct_graphs\u001b[39;00m\u001b[38;5;250m \u001b[39m\u001b[38;5;28;01mimport\u001b[39;00m ProteinGraph\n\u001b[1;32m      4\u001b[0m \u001b[38;5;66;03m# Split datasets\u001b[39;00m\n\u001b[1;32m      5\u001b[0m x_train, x_test, y_train, y_test \u001b[38;5;241m=\u001b[39m train_test_split(df, labels, test_size\u001b[38;5;241m=\u001b[39m\u001b[38;5;241m0.15\u001b[39m)\n",
      "\u001b[0;31mModuleNotFoundError\u001b[0m: No module named 'graphein.construct_graphs'"
     ]
    }
   ],
   "source": [
    "from sklearn.model_selection import train_test_split\n",
    "from graphein.construct_graphs import ProteinGraph\n",
    "\n",
    "# Split datasets\n",
    "x_train, x_test, y_train, y_test = train_test_split(df, labels, test_size=0.15)\n",
    "\n",
    "# Initialise Graph Constructor\n",
    "pg = ProteinGraph(granularity='CA', insertions=False, keep_hets=True,\n",
    "                  node_featuriser='meiler', get_contacts_path='/Users/arianjamasb/github/getcontacts',\n",
    "                  pdb_dir='../../examples/pdbs/',\n",
    "                  contacts_dir='../../examples/contacts/',\n",
    "                  exclude_waters=True, covalent_bonds=False, include_ss=True)\n",
    "\n",
    "# Build Graphs\n",
    "train_graphs = [pg.dgl_graph_from_pdb_code(pdb_code=x_train['Free PDB'].iloc[i],\n",
    "                                         chain_selection=list(x_train['Free Chains'].iloc[i])) for i in tqdm(range(len(x_train)))]\n",
    "\n",
    "test_graphs = [pg.dgl_graph_from_pdb_code(pdb_code=x_test['Free PDB'].iloc[i],\n",
    "                                         chain_selection=list(x_test['Free Chains'].iloc[i])) for i in tqdm(range(len(x_test)))]"
   ]
  },
  {
   "cell_type": "markdown",
   "metadata": {},
   "source": [
    "https://github.com/a-r-j/graphein/blob/master/datasets/pscdb/process_data.ipynb "
   ]
  },
  {
   "cell_type": "code",
   "execution_count": 13,
   "metadata": {},
   "outputs": [
    {
     "data": {
      "text/html": [
       "<pre style=\"white-space:pre;overflow-x:auto;line-height:normal;font-family:Menlo,'DejaVu Sans Mono',consolas,'Courier New',monospace\">/home/galvanized_heart/MIE1520_Final_Project/ML_ENV/lib/python3.10/site-packages/rich/live.py:231: UserWarning: \n",
       "install \"ipywidgets\" for Jupyter support\n",
       "  warnings.warn('install \"ipywidgets\" for Jupyter support')\n",
       "</pre>\n"
      ],
      "text/plain": [
       "/home/galvanized_heart/MIE1520_Final_Project/ML_ENV/lib/python3.10/site-packages/rich/live.py:231: UserWarning: \n",
       "install \"ipywidgets\" for Jupyter support\n",
       "  warnings.warn('install \"ipywidgets\" for Jupyter support')\n"
      ]
     },
     "metadata": {},
     "output_type": "display_data"
    },
    {
     "data": {
      "text/html": [
       "<pre style=\"white-space:pre;overflow-x:auto;line-height:normal;font-family:Menlo,'DejaVu Sans Mono',consolas,'Courier New',monospace\">/home/galvanized_heart/MIE1520_Final_Project/ML_ENV/lib/python3.10/site-packages/rich/live.py:231: UserWarning: \n",
       "install \"ipywidgets\" for Jupyter support\n",
       "  warnings.warn('install \"ipywidgets\" for Jupyter support')\n",
       "</pre>\n"
      ],
      "text/plain": [
       "/home/galvanized_heart/MIE1520_Final_Project/ML_ENV/lib/python3.10/site-packages/rich/live.py:231: UserWarning: \n",
       "install \"ipywidgets\" for Jupyter support\n",
       "  warnings.warn('install \"ipywidgets\" for Jupyter support')\n"
      ]
     },
     "metadata": {},
     "output_type": "display_data"
    },
    {
     "data": {
      "text/html": [
       "<pre style=\"white-space:pre;overflow-x:auto;line-height:normal;font-family:Menlo,'DejaVu Sans Mono',consolas,'Courier New',monospace\">/home/galvanized_heart/MIE1520_Final_Project/ML_ENV/lib/python3.10/site-packages/rich/live.py:231: UserWarning: \n",
       "install \"ipywidgets\" for Jupyter support\n",
       "  warnings.warn('install \"ipywidgets\" for Jupyter support')\n",
       "</pre>\n"
      ],
      "text/plain": [
       "/home/galvanized_heart/MIE1520_Final_Project/ML_ENV/lib/python3.10/site-packages/rich/live.py:231: UserWarning: \n",
       "install \"ipywidgets\" for Jupyter support\n",
       "  warnings.warn('install \"ipywidgets\" for Jupyter support')\n"
      ]
     },
     "metadata": {},
     "output_type": "display_data"
    },
    {
     "data": {
      "text/html": [
       "<pre style=\"white-space:pre;overflow-x:auto;line-height:normal;font-family:Menlo,'DejaVu Sans Mono',consolas,'Courier New',monospace\">/home/galvanized_heart/MIE1520_Final_Project/ML_ENV/lib/python3.10/site-packages/rich/live.py:231: UserWarning: \n",
       "install \"ipywidgets\" for Jupyter support\n",
       "  warnings.warn('install \"ipywidgets\" for Jupyter support')\n",
       "</pre>\n"
      ],
      "text/plain": [
       "/home/galvanized_heart/MIE1520_Final_Project/ML_ENV/lib/python3.10/site-packages/rich/live.py:231: UserWarning: \n",
       "install \"ipywidgets\" for Jupyter support\n",
       "  warnings.warn('install \"ipywidgets\" for Jupyter support')\n"
      ]
     },
     "metadata": {},
     "output_type": "display_data"
    },
    {
     "data": {
      "text/html": [
       "<pre style=\"white-space:pre;overflow-x:auto;line-height:normal;font-family:Menlo,'DejaVu Sans Mono',consolas,'Courier New',monospace\">/home/galvanized_heart/MIE1520_Final_Project/ML_ENV/lib/python3.10/site-packages/rich/live.py:231: UserWarning: \n",
       "install \"ipywidgets\" for Jupyter support\n",
       "  warnings.warn('install \"ipywidgets\" for Jupyter support')\n",
       "</pre>\n"
      ],
      "text/plain": [
       "/home/galvanized_heart/MIE1520_Final_Project/ML_ENV/lib/python3.10/site-packages/rich/live.py:231: UserWarning: \n",
       "install \"ipywidgets\" for Jupyter support\n",
       "  warnings.warn('install \"ipywidgets\" for Jupyter support')\n"
      ]
     },
     "metadata": {},
     "output_type": "display_data"
    },
    {
     "data": {
      "text/html": [
       "<pre style=\"white-space:pre;overflow-x:auto;line-height:normal;font-family:Menlo,'DejaVu Sans Mono',consolas,'Courier New',monospace\">/home/galvanized_heart/MIE1520_Final_Project/ML_ENV/lib/python3.10/site-packages/rich/live.py:231: UserWarning: \n",
       "install \"ipywidgets\" for Jupyter support\n",
       "  warnings.warn('install \"ipywidgets\" for Jupyter support')\n",
       "</pre>\n"
      ],
      "text/plain": [
       "/home/galvanized_heart/MIE1520_Final_Project/ML_ENV/lib/python3.10/site-packages/rich/live.py:231: UserWarning: \n",
       "install \"ipywidgets\" for Jupyter support\n",
       "  warnings.warn('install \"ipywidgets\" for Jupyter support')\n"
      ]
     },
     "metadata": {},
     "output_type": "display_data"
    },
    {
     "data": {
      "text/html": [
       "<pre style=\"white-space:pre;overflow-x:auto;line-height:normal;font-family:Menlo,'DejaVu Sans Mono',consolas,'Courier New',monospace\"></pre>\n"
      ],
      "text/plain": []
     },
     "metadata": {},
     "output_type": "display_data"
    },
    {
     "name": "stdout",
     "output_type": "stream",
     "text": [
      "Skipping 1nxu: 'str' object is not callablePlease ensure that provided node metadata functions match the f(n: str, d: Dict) function signature, where n is the node ID and d is the node data dictionary \n"
     ]
    }
   ],
   "source": [
    "import pandas as pd\n",
    "from graphein.protein.config import ProteinGraphConfig\n",
    "from graphein.protein.graphs import construct_graph\n",
    "from torch_geometric.data import Data\n",
    "import torch\n",
    "\n",
    "# Load PSCDB metadata\n",
    "df = pd.read_csv(\"data/PSCDB/structural_rearrangement_data.csv\")\n",
    "\n",
    "# Define graph configuration (customize features as needed)\n",
    "config = ProteinGraphConfig(\n",
    "    edge_construction_functions=[\"add_distance_threshold\"],  # 5Å cutoff\n",
    "    node_metadata_functions=[\"amino_acid_one_hot\", \"secondary_structure\"],\n",
    "    graph_format=\"pyg\",  # Output PyG Data objects directly\n",
    ")\n",
    "\n",
    "labels = pd.get_dummies(df.motion_type).values.tolist()\n",
    "labels = [torch.Tensor(i) for i in labels]\n",
    "\n",
    "# Convert PDB entries to PyG graphs with labels\n",
    "graphs = []\n",
    "labels_map = {key: value for value, key in enumerate(df.motion_type.unique())} \n",
    "\n",
    "for pdb_id, label in zip(df[\"Free PDB\"], df[\"motion_type\"]):\n",
    "    try:\n",
    "        # Fetch and construct graph (Graphein downloads PDB files automatically)\n",
    "        pyg_data = construct_graph(config=config, pdb_code=pdb_id)\n",
    "        \n",
    "        # Add label to the PyG Data object\n",
    "        pyg_data.y = torch.tensor([labels_map[label]], dtype=torch.long)\n",
    "        \n",
    "        graphs.append(pyg_data)\n",
    "    except Exception as e:\n",
    "        print(f\"Skipping {pdb_id}: {e}\")\n",
    "    break"
   ]
  },
  {
   "cell_type": "code",
   "execution_count": 15,
   "metadata": {},
   "outputs": [
    {
     "data": {
      "text/plain": [
       "[]"
      ]
     },
     "execution_count": 15,
     "metadata": {},
     "output_type": "execute_result"
    }
   ],
   "source": [
    "graphs"
   ]
  },
  {
   "cell_type": "code",
   "execution_count": null,
   "metadata": {},
   "outputs": [],
   "source": []
  }
 ],
 "metadata": {
  "kernelspec": {
   "display_name": "ML_ENV",
   "language": "python",
   "name": "python3"
  },
  "language_info": {
   "codemirror_mode": {
    "name": "ipython",
    "version": 3
   },
   "file_extension": ".py",
   "mimetype": "text/x-python",
   "name": "python",
   "nbconvert_exporter": "python",
   "pygments_lexer": "ipython3",
   "version": "3.10.12"
  }
 },
 "nbformat": 4,
 "nbformat_minor": 2
}
