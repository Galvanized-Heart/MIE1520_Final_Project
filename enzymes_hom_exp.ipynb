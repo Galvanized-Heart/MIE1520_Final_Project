{
 "cells": [
  {
   "cell_type": "code",
   "execution_count": null,
   "id": "44e13973",
   "metadata": {},
   "outputs": [],
   "source": [
    "from tools.utils import *\n",
    "from tools.hom_networks import *\n",
    "\n",
    "import torch\n",
    "\n",
    "from torch_geometric.datasets import TUDataset\n",
    "from torch_geometric.loader import DataLoader\n",
    "\n",
    "from sklearn.model_selection import train_test_split\n",
    "\n",
    "device = torch.device('cuda' if torch.cuda.is_available() else 'cpu')\n",
    "print(device)"
   ]
  },
  {
   "cell_type": "code",
   "execution_count": null,
   "id": "4df760c7",
   "metadata": {},
   "outputs": [],
   "source": [
    "# Random\n",
    "seed = 42\n",
    "\n",
    "# Model\n",
    "hidden_channels = 128\n",
    "num_layers = 2\n",
    "aggr='mean'\n",
    "dropout = 0.5\n",
    "\n",
    "# Training\n",
    "batch_size = 8\n",
    "epochs = 15\n",
    "lr = 1e-4\n",
    "maxlr = 1e-3"
   ]
  }
 ],
 "metadata": {
  "language_info": {
   "name": "python"
  }
 },
 "nbformat": 4,
 "nbformat_minor": 5
}
