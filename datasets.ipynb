{
 "cells": [
  {
   "cell_type": "code",
   "execution_count": 6,
   "metadata": {},
   "outputs": [
    {
     "name": "stderr",
     "output_type": "stream",
     "text": [
      "Downloading https://www.chrsmrrs.com/graphkerneldatasets/ENZYMES.zip\n",
      "Processing...\n",
      "Done!\n"
     ]
    },
    {
     "name": "stdout",
     "output_type": "stream",
     "text": [
      "HeteroData(\n",
      "  graph_label=[1],\n",
      "  A={ x=[24, 3] },\n",
      "  B={ x=[13, 3] },\n",
      "  (A, to, A)={ edge_index=[2, 86] },\n",
      "  (A, to, B)={ edge_index=[2, 17] },\n",
      "  (B, to, B)={ edge_index=[2, 48] }\n",
      ")\n"
     ]
    }
   ],
   "source": [
    "import torch\n",
    "from torch_geometric.datasets import TUDataset\n",
    "from torch_geometric.data import HeteroData\n",
    "\n",
    "# Load the ENZYMES dataset (assumes the nodes are one-hot encoded into 3 types)\n",
    "dataset = TUDataset(root='data/ENZYMES', name='ENZYMES')\n",
    "\n",
    "# We'll store the converted heterogeneous graphs here.\n",
    "hetero_graphs = []\n",
    "\n",
    "# Define a mapping from one-hot vector to a node type label.\n",
    "# This assumes the one-hot vector is of length 3.\n",
    "def one_hot_to_type(x_row):\n",
    "    # Find the index of the 1.0 entry.\n",
    "    type_idx = int(torch.argmax(x_row))\n",
    "    if type_idx == 0:\n",
    "        return \"A\"\n",
    "    elif type_idx == 1:\n",
    "        return \"B\"\n",
    "    elif type_idx == 2:\n",
    "        return \"C\"\n",
    "    else:\n",
    "        return \"Unknown\"\n",
    "\n",
    "# For an undirected graph with 3 node types, we only need to specify each unordered pair once.\n",
    "# We choose a canonical order, e.g. using the list ['A', 'B', 'C'].\n",
    "node_type_order = ['A', 'B', 'C']\n",
    "\n",
    "# Process every graph in the dataset.\n",
    "for graph in dataset:\n",
    "    hetero_data = HeteroData()\n",
    "    \n",
    "    num_nodes = graph.x.size(0)\n",
    "    # Determine node type for each node.\n",
    "    node_types = [one_hot_to_type(graph.x[i]) for i in range(num_nodes)]\n",
    "    \n",
    "    # Group nodes by type.\n",
    "    node_type_to_indices = {}\n",
    "    for idx, n_type in enumerate(node_types):\n",
    "        if n_type not in node_type_to_indices:\n",
    "            node_type_to_indices[n_type] = []\n",
    "        node_type_to_indices[n_type].append(idx)\n",
    "    \n",
    "    # Add node features for each type to HeteroData.\n",
    "    for n_type, indices in node_type_to_indices.items():\n",
    "        indices_tensor = torch.tensor(indices, dtype=torch.long)\n",
    "        hetero_data[n_type].x = graph.x[indices_tensor]\n",
    "    \n",
    "    # Prepare a dictionary to collect edges for each relation.\n",
    "    edge_dict = {}\n",
    "    # Iterate over each edge in the homogeneous graph.\n",
    "    # Note: graph.edge_index is assumed to be of shape [2, num_edges]\n",
    "    for i in range(graph.edge_index.size(1)):\n",
    "        u = int(graph.edge_index[0, i])\n",
    "        v = int(graph.edge_index[1, i])\n",
    "        # Get the node types for the endpoints.\n",
    "        t_u = node_types[u]\n",
    "        t_v = node_types[v]\n",
    "        # For an undirected graph, define the relation using a canonical order.\n",
    "        # For example, if t_u and t_v are different, we sort them.\n",
    "        if node_type_order.index(t_u) <= node_type_order.index(t_v):\n",
    "            relation = (t_u, 'to', t_v)\n",
    "        else:\n",
    "            relation = (t_v, 'to', t_u)\n",
    "        if relation not in edge_dict:\n",
    "            edge_dict[relation] = []\n",
    "        edge_dict[relation].append([u, v])\n",
    "    \n",
    "    # To convert edge indices for heterogeneous data, we need a mapping from\n",
    "    # the original node indices to the new indices within each node type group.\n",
    "    mapping = {}\n",
    "    for n_type, indices in node_type_to_indices.items():\n",
    "        mapping[n_type] = {old_idx: new_idx for new_idx, old_idx in enumerate(indices)}\n",
    "    \n",
    "    # For each relation, convert the edge indices to the new indexing.\n",
    "    for relation, edges in edge_dict.items():\n",
    "        src_type, _, dst_type = relation\n",
    "        converted_edges = []\n",
    "        for edge in edges:\n",
    "            u, v = edge\n",
    "            # Depending on the canonical ordering chosen above, ensure we use the correct mapping.\n",
    "            if node_type_order.index(src_type) <= node_type_order.index(dst_type):\n",
    "                # Expect u to be from src_type and v from dst_type.\n",
    "                if u in mapping[src_type] and v in mapping[dst_type]:\n",
    "                    new_u = mapping[src_type][u]\n",
    "                    new_v = mapping[dst_type][v]\n",
    "                    converted_edges.append([new_u, new_v])\n",
    "            else:\n",
    "                # If the relation was reversed (should not happen due to our sorting) handle similarly.\n",
    "                if u in mapping[dst_type] and v in mapping[src_type]:\n",
    "                    new_u = mapping[dst_type][u]\n",
    "                    new_v = mapping[src_type][v]\n",
    "                    converted_edges.append([new_u, new_v])\n",
    "        # Create an edge index tensor; if no edges exist, use an empty tensor.\n",
    "        if len(converted_edges) == 0:\n",
    "            edge_index_tensor = torch.empty((2, 0), dtype=torch.long)\n",
    "        else:\n",
    "            edge_index_tensor = torch.tensor(converted_edges, dtype=torch.long).t().contiguous()\n",
    "        # Add the relation to hetero_data.\n",
    "        hetero_data[relation].edge_index = edge_index_tensor\n",
    "\n",
    "    # Optionally, you can also store the graph-level label.\n",
    "    hetero_data.graph_label = graph.y\n",
    "    \n",
    "    hetero_graphs.append(hetero_data)\n",
    "\n",
    "# Example: Print the first heterogeneous graph's structure.\n",
    "print(hetero_graphs[0])\n"
   ]
  },
  {
   "cell_type": "code",
   "execution_count": 7,
   "metadata": {},
   "outputs": [
    {
     "data": {
      "text/plain": [
       "[HeteroData(\n",
       "   graph_label=[1],\n",
       "   A={ x=[24, 3] },\n",
       "   B={ x=[13, 3] },\n",
       "   (A, to, A)={ edge_index=[2, 86] },\n",
       "   (A, to, B)={ edge_index=[2, 17] },\n",
       "   (B, to, B)={ edge_index=[2, 48] }\n",
       " ),\n",
       " HeteroData(\n",
       "   graph_label=[1],\n",
       "   A={ x=[15, 3] },\n",
       "   B={ x=[8, 3] },\n",
       "   (A, to, A)={ edge_index=[2, 52] },\n",
       "   (A, to, B)={ edge_index=[2, 19] },\n",
       "   (B, to, B)={ edge_index=[2, 12] }\n",
       " ),\n",
       " HeteroData(\n",
       "   graph_label=[1],\n",
       "   A={ x=[19, 3] },\n",
       "   B={ x=[6, 3] },\n",
       "   (A, to, A)={ edge_index=[2, 54] },\n",
       "   (A, to, B)={ edge_index=[2, 16] },\n",
       "   (B, to, B)={ edge_index=[2, 6] }\n",
       " ),\n",
       " HeteroData(\n",
       "   graph_label=[1],\n",
       "   A={ x=[18, 3] },\n",
       "   B={ x=[6, 3] },\n",
       "   (A, to, A)={ edge_index=[2, 50] },\n",
       "   (A, to, B)={ edge_index=[2, 17] },\n",
       "   (B, to, B)={ edge_index=[2, 6] }\n",
       " ),\n",
       " HeteroData(\n",
       "   graph_label=[1],\n",
       "   A={ x=[18, 3] },\n",
       "   B={ x=[5, 3] },\n",
       "   (A, to, A)={ edge_index=[2, 58] },\n",
       "   (A, to, B)={ edge_index=[2, 14] },\n",
       "   (B, to, B)={ edge_index=[2, 4] }\n",
       " )]"
      ]
     },
     "execution_count": 7,
     "metadata": {},
     "output_type": "execute_result"
    }
   ],
   "source": [
    "hetero_graphs[:5]"
   ]
  },
  {
   "cell_type": "code",
   "execution_count": 3,
   "metadata": {},
   "outputs": [
    {
     "data": {
      "text/plain": [
       "(torch.Size([19580, 3]), torch.Size([600]))"
      ]
     },
     "execution_count": 3,
     "metadata": {},
     "output_type": "execute_result"
    }
   ],
   "source": [
    "dataset.x.shape, dataset.y.shape"
   ]
  },
  {
   "cell_type": "code",
   "execution_count": 4,
   "metadata": {},
   "outputs": [
    {
     "data": {
      "text/plain": [
       "600"
      ]
     },
     "execution_count": 4,
     "metadata": {},
     "output_type": "execute_result"
    }
   ],
   "source": [
    "len(heterogeneous_graphs)"
   ]
  },
  {
   "cell_type": "code",
   "execution_count": 5,
   "metadata": {},
   "outputs": [
    {
     "data": {
      "text/plain": [
       "(ENZYMES(5),\n",
       " [HeteroData(\n",
       "    type_B={ x=[37, 3] },\n",
       "    (type_B, same_type, type_B)={ edge_index=[2, 168] }\n",
       "  ),\n",
       "  HeteroData(\n",
       "    type_B={ x=[23, 3] },\n",
       "    (type_B, same_type, type_B)={ edge_index=[2, 102] }\n",
       "  ),\n",
       "  HeteroData(\n",
       "    type_B={ x=[25, 3] },\n",
       "    (type_B, same_type, type_B)={ edge_index=[2, 92] }\n",
       "  ),\n",
       "  HeteroData(\n",
       "    type_B={ x=[24, 3] },\n",
       "    (type_B, same_type, type_B)={ edge_index=[2, 90] }\n",
       "  ),\n",
       "  HeteroData(\n",
       "    type_B={ x=[23, 3] },\n",
       "    (type_B, same_type, type_B)={ edge_index=[2, 90] }\n",
       "  )])"
      ]
     },
     "execution_count": 5,
     "metadata": {},
     "output_type": "execute_result"
    }
   ],
   "source": [
    "dataset[:5], heterogeneous_graphs[:5]"
   ]
  },
  {
   "cell_type": "code",
   "execution_count": null,
   "metadata": {},
   "outputs": [],
   "source": []
  }
 ],
 "metadata": {
  "kernelspec": {
   "display_name": "ML_ENV",
   "language": "python",
   "name": "python3"
  },
  "language_info": {
   "codemirror_mode": {
    "name": "ipython",
    "version": 3
   },
   "file_extension": ".py",
   "mimetype": "text/x-python",
   "name": "python",
   "nbconvert_exporter": "python",
   "pygments_lexer": "ipython3",
   "version": "3.8.10"
  }
 },
 "nbformat": 4,
 "nbformat_minor": 2
}
