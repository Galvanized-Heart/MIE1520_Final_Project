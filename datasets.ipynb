{
 "cells": [
  {
   "cell_type": "code",
   "execution_count": null,
   "metadata": {},
   "outputs": [
    {
     "name": "stdout",
     "output_type": "stream",
     "text": [
      "HeteroData(\n",
      "  type_B={ x=[37, 3] },\n",
      "  (type_B, same_type, type_B)={ edge_index=[2, 168] }\n",
      ")\n"
     ]
    }
   ],
   "source": [
    "import torch\n",
    "from torch_geometric.datasets import TUDataset\n",
    "from torch_geometric.data import HeteroData\n",
    "\n",
    "# Load the ENZYMES dataset\n",
    "dataset = TUDataset(root=\"data\", name=\"ENZYMES\")\n",
    "\n",
    "# Define node type mapping based on features\n",
    "def categorize_node(node_feature):\n",
    "    \"\"\"Dummy function to assign node types based on features\"\"\"\n",
    "    if node_feature.mean() > 0.5:\n",
    "        return \"type_A\"\n",
    "    else:\n",
    "        return \"type_B\"\n",
    "\n",
    "# Define edge type mapping\n",
    "def categorize_edge(node_type_1, node_type_2):\n",
    "    \"\"\"Dummy function to assign edge types\"\"\"\n",
    "    if node_type_1 == node_type_2:\n",
    "        return \"same_type\"\n",
    "    else:\n",
    "        return \"diff_type\"\n",
    "\n",
    "# Convert each graph into a heterogeneous graph\n",
    "heterogeneous_graphs = []\n",
    "\n",
    "for graph in dataset:\n",
    "    hetero_data = HeteroData()\n",
    "    \n",
    "    # Assign node types based on their features\n",
    "    node_types = [categorize_node(graph.x[i]) for i in range(graph.x.size(0))]\n",
    "    unique_types = list(set(node_types))\n",
    "    \n",
    "    # Create a mapping from type to node indices\n",
    "    node_type_mapping = {t: [] for t in unique_types}\n",
    "    for i, t in enumerate(node_types):\n",
    "        node_type_mapping[t].append(i)\n",
    "\n",
    "    # Store node features for each type\n",
    "    for node_type, indices in node_type_mapping.items():\n",
    "        hetero_data[node_type].x = graph.x[torch.tensor(indices)]\n",
    "    \n",
    "    # Assign edge types\n",
    "    edge_index = graph.edge_index\n",
    "    edge_types = []\n",
    "\n",
    "    for i in range(edge_index.shape[1]):\n",
    "        src, dst = edge_index[:, i]\n",
    "        src_type = node_types[src]\n",
    "        dst_type = node_types[dst]\n",
    "        edge_types.append(categorize_edge(src_type, dst_type))\n",
    "\n",
    "    # Create edge index per relation\n",
    "    edge_type_mapping = {t: [] for t in set(edge_types)}\n",
    "    for i, edge_type in enumerate(edge_types):\n",
    "        edge_type_mapping[edge_type].append(edge_index[:, i])\n",
    "\n",
    "    # Store edges in HeteroData\n",
    "    for edge_type, edges in edge_type_mapping.items():\n",
    "        hetero_data[src_type, edge_type, dst_type].edge_index = torch.stack(edges, dim=1)\n",
    "\n",
    "    heterogeneous_graphs.append(hetero_data)\n",
    "\n",
    "# Print an example graph\n",
    "print(heterogeneous_graphs[0])\n"
   ]
  },
  {
   "cell_type": "code",
   "execution_count": 3,
   "metadata": {},
   "outputs": [
    {
     "data": {
      "text/plain": [
       "(torch.Size([19580, 3]), torch.Size([600]))"
      ]
     },
     "execution_count": 3,
     "metadata": {},
     "output_type": "execute_result"
    }
   ],
   "source": [
    "dataset.x.shape, dataset.y.shape"
   ]
  },
  {
   "cell_type": "code",
   "execution_count": 4,
   "metadata": {},
   "outputs": [
    {
     "data": {
      "text/plain": [
       "600"
      ]
     },
     "execution_count": 4,
     "metadata": {},
     "output_type": "execute_result"
    }
   ],
   "source": [
    "len(heterogeneous_graphs)"
   ]
  },
  {
   "cell_type": "code",
   "execution_count": 5,
   "metadata": {},
   "outputs": [
    {
     "data": {
      "text/plain": [
       "(ENZYMES(5),\n",
       " [HeteroData(\n",
       "    type_B={ x=[37, 3] },\n",
       "    (type_B, same_type, type_B)={ edge_index=[2, 168] }\n",
       "  ),\n",
       "  HeteroData(\n",
       "    type_B={ x=[23, 3] },\n",
       "    (type_B, same_type, type_B)={ edge_index=[2, 102] }\n",
       "  ),\n",
       "  HeteroData(\n",
       "    type_B={ x=[25, 3] },\n",
       "    (type_B, same_type, type_B)={ edge_index=[2, 92] }\n",
       "  ),\n",
       "  HeteroData(\n",
       "    type_B={ x=[24, 3] },\n",
       "    (type_B, same_type, type_B)={ edge_index=[2, 90] }\n",
       "  ),\n",
       "  HeteroData(\n",
       "    type_B={ x=[23, 3] },\n",
       "    (type_B, same_type, type_B)={ edge_index=[2, 90] }\n",
       "  )])"
      ]
     },
     "execution_count": 5,
     "metadata": {},
     "output_type": "execute_result"
    }
   ],
   "source": [
    "dataset[:5], heterogeneous_graphs[:5]"
   ]
  },
  {
   "cell_type": "code",
   "execution_count": null,
   "metadata": {},
   "outputs": [],
   "source": []
  }
 ],
 "metadata": {
  "kernelspec": {
   "display_name": "ML_ENV",
   "language": "python",
   "name": "python3"
  },
  "language_info": {
   "codemirror_mode": {
    "name": "ipython",
    "version": 3
   },
   "file_extension": ".py",
   "mimetype": "text/x-python",
   "name": "python",
   "nbconvert_exporter": "python",
   "pygments_lexer": "ipython3",
   "version": "3.8.10"
  }
 },
 "nbformat": 4,
 "nbformat_minor": 2
}
