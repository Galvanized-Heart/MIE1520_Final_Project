{
 "cells": [
  {
   "cell_type": "code",
   "execution_count": 142,
   "metadata": {},
   "outputs": [],
   "source": [
    "import matplotlib.pyplot as plt\n",
    "import networkx as nx\n",
    "\n",
    "import torch\n",
    "from torch_geometric.datasets import TUDataset\n",
    "from torch_geometric.data import HeteroData\n",
    "from torch_geometric.utils import to_networkx\n"
   ]
  },
  {
   "cell_type": "code",
   "execution_count": 143,
   "metadata": {},
   "outputs": [],
   "source": [
    "dataset = TUDataset(root='/tmp/ENZYMES', name='ENZYMES')\n",
    "hom_data = dataset[61] # example with A, B, and C"
   ]
  },
  {
   "cell_type": "code",
   "execution_count": 144,
   "metadata": {},
   "outputs": [
    {
     "data": {
      "text/plain": [
       "39"
      ]
     },
     "execution_count": 144,
     "metadata": {},
     "output_type": "execute_result"
    }
   ],
   "source": [
    "len(hom_data.x)"
   ]
  },
  {
   "cell_type": "code",
   "execution_count": 145,
   "metadata": {},
   "outputs": [],
   "source": [
    "a_list = []\n",
    "b_list = []\n",
    "c_list = []\n",
    "\n",
    "for idx, x_row in enumerate(hom_data.x):\n",
    "    type_idx = int(torch.argmax(x_row))\n",
    "    if type_idx == 0:\n",
    "        a_list.append(idx)\n",
    "    elif type_idx == 1:\n",
    "        b_list.append(idx)\n",
    "    elif type_idx == 2:\n",
    "        c_list.append(idx)\n",
    "    else:\n",
    "        print(\"Unknown\")\n"
   ]
  },
  {
   "cell_type": "code",
   "execution_count": 146,
   "metadata": {},
   "outputs": [
    {
     "data": {
      "text/plain": [
       "([0, 1, 2, 3, 4, 5, 6, 7, 8, 9], 10)"
      ]
     },
     "execution_count": 146,
     "metadata": {},
     "output_type": "execute_result"
    }
   ],
   "source": [
    "a_list, len(a_list)"
   ]
  },
  {
   "cell_type": "code",
   "execution_count": 147,
   "metadata": {},
   "outputs": [
    {
     "data": {
      "text/plain": [
       "{0: 0, 1: 1, 2: 2, 3: 3, 4: 4, 5: 5, 6: 6, 7: 7, 8: 8, 9: 9}"
      ]
     },
     "execution_count": 147,
     "metadata": {},
     "output_type": "execute_result"
    }
   ],
   "source": [
    "a_map = {orig_idx: new_idx for new_idx, orig_idx in enumerate(a_list)}\n",
    "a_map"
   ]
  },
  {
   "cell_type": "code",
   "execution_count": 148,
   "metadata": {},
   "outputs": [
    {
     "data": {
      "text/plain": [
       "([10, 11, 12, 13, 14, 15, 16, 17, 18, 19, 20, 21, 22, 23, 24, 25, 26, 27], 18)"
      ]
     },
     "execution_count": 148,
     "metadata": {},
     "output_type": "execute_result"
    }
   ],
   "source": [
    "b_list, len(b_list)"
   ]
  },
  {
   "cell_type": "code",
   "execution_count": 149,
   "metadata": {},
   "outputs": [
    {
     "data": {
      "text/plain": [
       "{10: 0,\n",
       " 11: 1,\n",
       " 12: 2,\n",
       " 13: 3,\n",
       " 14: 4,\n",
       " 15: 5,\n",
       " 16: 6,\n",
       " 17: 7,\n",
       " 18: 8,\n",
       " 19: 9,\n",
       " 20: 10,\n",
       " 21: 11,\n",
       " 22: 12,\n",
       " 23: 13,\n",
       " 24: 14,\n",
       " 25: 15,\n",
       " 26: 16,\n",
       " 27: 17}"
      ]
     },
     "execution_count": 149,
     "metadata": {},
     "output_type": "execute_result"
    }
   ],
   "source": [
    "b_map = {orig_idx: new_idx for new_idx, orig_idx in enumerate(b_list)}\n",
    "b_map"
   ]
  },
  {
   "cell_type": "code",
   "execution_count": 150,
   "metadata": {},
   "outputs": [
    {
     "data": {
      "text/plain": [
       "([28, 29, 30, 31, 32, 33, 34, 35, 36, 37, 38], 11)"
      ]
     },
     "execution_count": 150,
     "metadata": {},
     "output_type": "execute_result"
    }
   ],
   "source": [
    "c_list, len(c_list)"
   ]
  },
  {
   "cell_type": "code",
   "execution_count": 151,
   "metadata": {},
   "outputs": [
    {
     "data": {
      "text/plain": [
       "{28: 0, 29: 1, 30: 2, 31: 3, 32: 4, 33: 5, 34: 6, 35: 7, 36: 8, 37: 9, 38: 10}"
      ]
     },
     "execution_count": 151,
     "metadata": {},
     "output_type": "execute_result"
    }
   ],
   "source": [
    "c_map = {orig_idx: new_idx for new_idx, orig_idx in enumerate(c_list)}\n",
    "c_map"
   ]
  },
  {
   "cell_type": "code",
   "execution_count": 152,
   "metadata": {},
   "outputs": [
    {
     "data": {
      "text/plain": [
       "39"
      ]
     },
     "execution_count": 152,
     "metadata": {},
     "output_type": "execute_result"
    }
   ],
   "source": [
    "sum((len(a_list),len(b_list),len(c_list)))"
   ]
  },
  {
   "cell_type": "code",
   "execution_count": 153,
   "metadata": {},
   "outputs": [],
   "source": [
    "het_data = HeteroData()"
   ]
  },
  {
   "cell_type": "code",
   "execution_count": 154,
   "metadata": {},
   "outputs": [],
   "source": [
    "het_data[\"A\"].x = torch.ones(len(a_list), 1)\n",
    "het_data[\"B\"].x = torch.ones(len(b_list), 1)\n",
    "het_data[\"C\"].x = torch.ones(len(c_list), 1)"
   ]
  },
  {
   "cell_type": "code",
   "execution_count": 155,
   "metadata": {},
   "outputs": [
    {
     "data": {
      "text/plain": [
       "tensor([[ 0,  0,  0,  0,  1,  1,  1,  1,  2,  2,  2,  3,  3,  3,  3,  4,  4,  4,\n",
       "          5,  5,  5,  6,  6,  6,  6,  7,  7,  7,  8,  8,  8,  9,  9,  9, 10, 10,\n",
       "         10, 10, 11, 11, 11, 11, 12, 12, 12, 12, 12, 13, 13, 13, 14, 14, 14, 15,\n",
       "         15, 15, 16, 16, 16, 17, 17, 17, 18, 18, 18, 18, 18, 18, 19, 19, 19, 20,\n",
       "         20, 20, 21, 21, 21, 22, 22, 22, 23, 23, 23, 24, 24, 24, 24, 25, 25, 25,\n",
       "         25, 26, 26, 26, 26, 27, 27, 27, 27, 28, 28, 28, 29, 29, 29, 29, 30, 30,\n",
       "         30, 31, 31, 31, 32, 32, 32, 33, 33, 33, 33, 33, 34, 34, 34, 34, 34, 35,\n",
       "         35, 35, 35, 36, 36, 36, 37, 37, 37, 38, 38, 38, 38, 38],\n",
       "        [12, 13, 28, 29, 14, 15, 33, 34,  3, 15, 35,  2, 15, 19, 35, 19, 21, 35,\n",
       "         20, 22, 36, 20, 24, 25, 37, 23, 26, 38,  9, 27, 38,  8, 27, 38, 11, 16,\n",
       "         33, 34, 10, 17, 18, 32,  0, 18, 29, 30, 31,  0, 28, 29,  1, 33, 34,  1,\n",
       "          2,  3, 10, 33, 34, 11, 18, 32, 11, 12, 17, 30, 31, 32,  3,  4, 35,  5,\n",
       "          6, 25,  4, 22, 36,  5, 21, 36,  7, 24, 26,  6, 23, 25, 37,  6, 20, 24,\n",
       "         37,  7, 23, 27, 38,  8,  9, 26, 38,  0, 13, 29,  0, 12, 13, 28, 12, 18,\n",
       "         31, 12, 18, 30, 11, 17, 18,  1, 10, 14, 16, 34,  1, 10, 14, 16, 33,  2,\n",
       "          3,  4, 19,  5, 21, 22,  6, 24, 25,  7,  8,  9, 26, 27]])"
      ]
     },
     "execution_count": 155,
     "metadata": {},
     "output_type": "execute_result"
    }
   ],
   "source": [
    "hom_data.edge_index"
   ]
  },
  {
   "cell_type": "code",
   "execution_count": 156,
   "metadata": {},
   "outputs": [
    {
     "data": {
      "text/plain": [
       "tensor([ True,  True,  True,  True,  True,  True,  True,  True,  True,  True,\n",
       "         True,  True,  True,  True,  True,  True,  True,  True,  True,  True,\n",
       "         True,  True,  True,  True,  True,  True,  True,  True,  True,  True,\n",
       "         True,  True,  True,  True, False, False, False, False, False, False,\n",
       "        False, False, False, False, False, False, False, False, False, False,\n",
       "        False, False, False, False, False, False, False, False, False, False,\n",
       "        False, False, False, False, False, False, False, False, False, False,\n",
       "        False, False, False, False, False, False, False, False, False, False,\n",
       "        False, False, False, False, False, False, False, False, False, False,\n",
       "        False, False, False, False, False, False, False, False, False, False,\n",
       "        False, False, False, False, False, False, False, False, False, False,\n",
       "        False, False, False, False, False, False, False, False, False, False,\n",
       "        False, False, False, False, False, False, False, False, False, False,\n",
       "        False, False, False, False, False, False, False, False, False, False])"
      ]
     },
     "execution_count": 156,
     "metadata": {},
     "output_type": "execute_result"
    }
   ],
   "source": [
    "a_tensor = torch.tensor(a_list)\n",
    "a_mask = torch.isin(hom_data.edge_index[0], a_tensor)\n",
    "a_mask"
   ]
  },
  {
   "cell_type": "code",
   "execution_count": 157,
   "metadata": {},
   "outputs": [
    {
     "data": {
      "text/plain": [
       "tensor([ True,  True, False, False,  True,  True, False, False, False,  True,\n",
       "        False, False,  True,  True, False,  True,  True, False,  True,  True,\n",
       "        False,  True,  True,  True, False,  True,  True, False, False,  True,\n",
       "        False, False,  True, False,  True,  True, False, False,  True,  True,\n",
       "         True, False, False,  True, False, False, False, False, False, False,\n",
       "        False, False, False, False, False, False,  True, False, False,  True,\n",
       "         True, False,  True,  True,  True, False, False, False, False, False,\n",
       "        False, False, False,  True, False,  True, False, False,  True, False,\n",
       "        False,  True,  True, False,  True,  True, False, False,  True,  True,\n",
       "        False, False,  True,  True, False, False, False,  True, False, False,\n",
       "         True, False, False,  True,  True, False,  True,  True, False,  True,\n",
       "         True, False,  True,  True,  True, False,  True,  True,  True, False,\n",
       "        False,  True,  True,  True, False, False, False, False,  True, False,\n",
       "         True,  True, False,  True,  True, False, False, False,  True,  True])"
      ]
     },
     "execution_count": 157,
     "metadata": {},
     "output_type": "execute_result"
    }
   ],
   "source": [
    "b_tensor = torch.tensor(b_list)\n",
    "b_mask = torch.isin(hom_data.edge_index[1], b_tensor)\n",
    "b_mask"
   ]
  },
  {
   "cell_type": "code",
   "execution_count": 158,
   "metadata": {},
   "outputs": [
    {
     "data": {
      "text/plain": [
       "tensor([ True,  True, False, False,  True,  True, False, False, False,  True,\n",
       "        False, False,  True,  True, False,  True,  True, False,  True,  True,\n",
       "        False,  True,  True,  True, False,  True,  True, False, False,  True,\n",
       "        False, False,  True, False, False, False, False, False, False, False,\n",
       "        False, False, False, False, False, False, False, False, False, False,\n",
       "        False, False, False, False, False, False, False, False, False, False,\n",
       "        False, False, False, False, False, False, False, False, False, False,\n",
       "        False, False, False, False, False, False, False, False, False, False,\n",
       "        False, False, False, False, False, False, False, False, False, False,\n",
       "        False, False, False, False, False, False, False, False, False, False,\n",
       "        False, False, False, False, False, False, False, False, False, False,\n",
       "        False, False, False, False, False, False, False, False, False, False,\n",
       "        False, False, False, False, False, False, False, False, False, False,\n",
       "        False, False, False, False, False, False, False, False, False, False])"
      ]
     },
     "execution_count": 158,
     "metadata": {},
     "output_type": "execute_result"
    }
   ],
   "source": [
    "a_b_mask = a_mask & b_mask\n",
    "a_b_mask"
   ]
  },
  {
   "cell_type": "code",
   "execution_count": 192,
   "metadata": {},
   "outputs": [
    {
     "data": {
      "text/plain": [
       "tensor([[ 0,  0,  1,  1,  2,  3,  3,  4,  4,  5,  5,  6,  6,  6,  7,  7,  8,  9],\n",
       "        [12, 13, 14, 15, 15, 15, 19, 19, 21, 20, 22, 20, 24, 25, 23, 26, 27, 27]])"
      ]
     },
     "execution_count": 192,
     "metadata": {},
     "output_type": "execute_result"
    }
   ],
   "source": [
    "a_b_edge_index = hom_data.edge_index[:, a_b_mask]\n",
    "a_b_edge_index"
   ]
  },
  {
   "cell_type": "code",
   "execution_count": 194,
   "metadata": {},
   "outputs": [
    {
     "data": {
      "text/plain": [
       "torch.Size([2, 18])"
      ]
     },
     "execution_count": 194,
     "metadata": {},
     "output_type": "execute_result"
    }
   ],
   "source": [
    "a_b_edge_index.shape"
   ]
  },
  {
   "cell_type": "code",
   "execution_count": 160,
   "metadata": {},
   "outputs": [
    {
     "data": {
      "text/plain": [
       "tensor([[ 0,  0,  1,  1,  2,  3,  3,  4,  4,  5,  5,  6,  6,  6,  7,  7,  8,  9],\n",
       "        [ 2,  3,  4,  5,  5,  5,  9,  9, 11, 10, 12, 10, 14, 15, 13, 16, 17, 17]])"
      ]
     },
     "execution_count": 160,
     "metadata": {},
     "output_type": "execute_result"
    }
   ],
   "source": [
    "a_edges = torch.tensor([a_map[orig_id.item()] for orig_id in a_b_edge_index[0]])\n",
    "b_edges = torch.tensor([b_map[orig_id.item()] for orig_id in a_b_edge_index[1]])\n",
    "a_b_edge_index = torch.stack((a_edges, b_edges))\n",
    "a_b_edge_index"
   ]
  },
  {
   "cell_type": "code",
   "execution_count": 161,
   "metadata": {},
   "outputs": [],
   "source": [
    "het_data[\"A\", \"connects\", \"B\"].edge_index = a_b_edge_index"
   ]
  },
  {
   "cell_type": "code",
   "execution_count": null,
   "metadata": {},
   "outputs": [],
   "source": [
    "filtered_edges.numel()"
   ]
  },
  {
   "cell_type": "code",
   "execution_count": 162,
   "metadata": {},
   "outputs": [
    {
     "data": {
      "text/plain": [
       "HeteroData(\n",
       "  A={ x=[10, 1] },\n",
       "  B={ x=[18, 1] },\n",
       "  C={ x=[11, 1] },\n",
       "  (A, connects, B)={ edge_index=[2, 18] }\n",
       ")"
      ]
     },
     "execution_count": 162,
     "metadata": {},
     "output_type": "execute_result"
    }
   ],
   "source": [
    "het_data"
   ]
  },
  {
   "cell_type": "code",
   "execution_count": 163,
   "metadata": {},
   "outputs": [],
   "source": [
    "def get_lists(hom_data):\n",
    "    \"\"\"\n",
    "    Split one-hot encoded homogeneous nodes into distinct types. \n",
    "    \"\"\"\n",
    "    a_list = []\n",
    "    b_list = []\n",
    "    c_list = []\n",
    "\n",
    "    for idx, x_row in enumerate(hom_data.x):\n",
    "        type_idx = int(torch.argmax(x_row))\n",
    "        if type_idx == 0:\n",
    "            a_list.append(idx)\n",
    "        elif type_idx == 1:\n",
    "            b_list.append(idx)\n",
    "        elif type_idx == 2:\n",
    "            c_list.append(idx)\n",
    "        else:\n",
    "            print(\"Unknown\")\n",
    "\n",
    "    return a_list, b_list, c_list\n",
    "\n",
    "def get_maps(type_list):\n",
    "    \"\"\"\n",
    "    Map homogeneous node indicies to heterogeneous node indicies for a given node type.\n",
    "    \"\"\"\n",
    "    return {orig_idx: new_idx for new_idx, orig_idx in enumerate(type_list)}\n",
    "\n",
    "def get_edge_index(hom_data, type1_list, type2_list, type1_map, type2_map):\n",
    "    \"\"\"\n",
    "    Split homogeneous edge_index into distinc types.\n",
    "    \"\"\"\n",
    "    type1_tensor = torch.tensor(type1_list)\n",
    "    type2_tensor = torch.tensor(type2_list)\n",
    "\n",
    "    type1_mask = torch.isin(hom_data.edge_index[0], type1_tensor)\n",
    "    type2_mask = torch.isin(hom_data.edge_index[1], type2_tensor)\n",
    "\n",
    "    type1_type2_mask = type1_mask & type2_mask\n",
    "\n",
    "    type1_type2_edge_index = hom_data.edge_index[:, type1_type2_mask]\n",
    "\n",
    "    type1_edges = torch.tensor([type1_map[orig_id.item()] for orig_id in type1_type2_edge_index[0]])\n",
    "    type2_edges = torch.tensor([type2_map[orig_id.item()] for orig_id in type1_type2_edge_index[1]])\n",
    "    \n",
    "    type1_type2_edge_index = torch.stack((type1_edges, type2_edges))\n",
    "\n",
    "    return type1_type2_edge_index\n",
    "\n",
    "def convert_hom_to_het(hom_data):\n",
    "    \"\"\"\n",
    "    Converts undirected homogeneous graph into undirected heterogeneous graph.\n",
    "    \"\"\"\n",
    "    het_data = HeteroData()\n",
    "\n",
    "    # 1. Get lists\n",
    "    a_list, b_list, c_list = get_lists(hom_data)\n",
    "\n",
    "    # 2. Assign nodes to type\n",
    "    het_data[\"A\"].x = torch.ones(len(a_list), 1)\n",
    "    het_data[\"B\"].x = torch.ones(len(b_list), 1)\n",
    "    het_data[\"C\"].x = torch.ones(len(c_list), 1)\n",
    "\n",
    "    # 3. Get maps\n",
    "    a_map, b_map, c_map = get_maps(a_list), get_maps(b_list), get_maps(c_list)\n",
    "\n",
    "    # 4. Assign edge types\n",
    "    het_data[\"A\", \"connects\", \"A\"].edge_index = get_edge_index(hom_data, a_list, a_list, a_map, a_map)\n",
    "    het_data[\"A\", \"connects\", \"B\"].edge_index = get_edge_index(hom_data, a_list, b_list, a_map, b_map)\n",
    "    het_data[\"A\", \"connects\", \"C\"].edge_index = get_edge_index(hom_data, a_list, c_list, a_map, c_map)\n",
    "    het_data[\"B\", \"connects\", \"B\"].edge_index = get_edge_index(hom_data, b_list, b_list, b_map, b_map)\n",
    "    het_data[\"B\", \"connects\", \"C\"].edge_index = get_edge_index(hom_data, b_list, c_list, b_map, c_map)\n",
    "    het_data[\"C\", \"connects\", \"C\"].edge_index = get_edge_index(hom_data, c_list, c_list, c_map, c_map)\n",
    "\n",
    "    het_data.y = hom_data.y\n",
    "\n",
    "    return het_data\n",
    "\n",
    "# Main\n",
    "def convert_dataset(dataset):\n",
    "    hetero_graphs = []\n",
    "    for graph in dataset:\n",
    "        hetero_graph = convert_hom_to_het(graph)\n",
    "        hetero_graphs.append(hetero_graph)\n",
    "    return hetero_graphs"
   ]
  },
  {
   "cell_type": "code",
   "execution_count": 164,
   "metadata": {},
   "outputs": [
    {
     "data": {
      "text/plain": [
       "HeteroData(\n",
       "  y=[1],\n",
       "  A={ x=[10, 1] },\n",
       "  B={ x=[18, 1] },\n",
       "  C={ x=[11, 1] },\n",
       "  (A, connects, A)={ edge_index=[2, 4] },\n",
       "  (A, connects, B)={ edge_index=[2, 18] },\n",
       "  (A, connects, C)={ edge_index=[2, 12] },\n",
       "  (B, connects, B)={ edge_index=[2, 24] },\n",
       "  (B, connects, C)={ edge_index=[2, 23] },\n",
       "  (C, connects, C)={ edge_index=[2, 6] }\n",
       ")"
      ]
     },
     "execution_count": 164,
     "metadata": {},
     "output_type": "execute_result"
    }
   ],
   "source": [
    "het_data = convert_hom_to_het(hom_data)\n",
    "het_data # since B-A, C-A, C-B = A-B, A-C, C-B in undirected graph, we don't need to count these double to total 140 edges (87 edges works, but mb we should include it cuz the original data has it)"
   ]
  },
  {
   "cell_type": "code",
   "execution_count": 165,
   "metadata": {},
   "outputs": [
    {
     "data": {
      "text/plain": [
       "tensor([[ 0,  0,  0,  0,  1,  1,  1,  1,  2,  2,  2,  3,  3,  3,  3,  4,  4,  4,\n",
       "          5,  5,  5,  6,  6,  6,  6,  7,  7,  7,  8,  8,  8,  9,  9,  9, 10, 10,\n",
       "         10, 10, 11, 11, 11, 11, 12, 12, 12, 12, 12, 13, 13, 13, 14, 14, 14, 15,\n",
       "         15, 15, 16, 16, 16, 17, 17, 17, 18, 18, 18, 18, 18, 18, 19, 19, 19, 20,\n",
       "         20, 20, 21, 21, 21, 22, 22, 22, 23, 23, 23, 24, 24, 24, 24, 25, 25, 25,\n",
       "         25, 26, 26, 26, 26, 27, 27, 27, 27, 28, 28, 28, 29, 29, 29, 29, 30, 30,\n",
       "         30, 31, 31, 31, 32, 32, 32, 33, 33, 33, 33, 33, 34, 34, 34, 34, 34, 35,\n",
       "         35, 35, 35, 36, 36, 36, 37, 37, 37, 38, 38, 38, 38, 38],\n",
       "        [12, 13, 28, 29, 14, 15, 33, 34,  3, 15, 35,  2, 15, 19, 35, 19, 21, 35,\n",
       "         20, 22, 36, 20, 24, 25, 37, 23, 26, 38,  9, 27, 38,  8, 27, 38, 11, 16,\n",
       "         33, 34, 10, 17, 18, 32,  0, 18, 29, 30, 31,  0, 28, 29,  1, 33, 34,  1,\n",
       "          2,  3, 10, 33, 34, 11, 18, 32, 11, 12, 17, 30, 31, 32,  3,  4, 35,  5,\n",
       "          6, 25,  4, 22, 36,  5, 21, 36,  7, 24, 26,  6, 23, 25, 37,  6, 20, 24,\n",
       "         37,  7, 23, 27, 38,  8,  9, 26, 38,  0, 13, 29,  0, 12, 13, 28, 12, 18,\n",
       "         31, 12, 18, 30, 11, 17, 18,  1, 10, 14, 16, 34,  1, 10, 14, 16, 33,  2,\n",
       "          3,  4, 19,  5, 21, 22,  6, 24, 25,  7,  8,  9, 26, 27]])"
      ]
     },
     "execution_count": 165,
     "metadata": {},
     "output_type": "execute_result"
    }
   ],
   "source": [
    "hom_data.edge_index"
   ]
  },
  {
   "cell_type": "code",
   "execution_count": 166,
   "metadata": {},
   "outputs": [],
   "source": [
    "het_graphs = []\n",
    "for i in (0, 10, 61, 115, 200):\n",
    "    het_graphs.append(convert_hom_to_het(dataset[i]))"
   ]
  },
  {
   "cell_type": "code",
   "execution_count": 167,
   "metadata": {},
   "outputs": [
    {
     "name": "stdout",
     "output_type": "stream",
     "text": [
      "HeteroData(\n",
      "  y=[1],\n",
      "  A={ x=[24, 1] },\n",
      "  B={ x=[13, 1] },\n",
      "  C={ x=[0, 1] },\n",
      "  (A, connects, A)={ edge_index=[2, 86] },\n",
      "  (A, connects, B)={ edge_index=[2, 17] },\n",
      "  (A, connects, C)={ edge_index=[2, 0] },\n",
      "  (B, connects, B)={ edge_index=[2, 48] },\n",
      "  (B, connects, C)={ edge_index=[2, 0] },\n",
      "  (C, connects, C)={ edge_index=[2, 0] }\n",
      ")\n",
      "HeteroData(\n",
      "  y=[1],\n",
      "  A={ x=[0, 1] },\n",
      "  B={ x=[0, 1] },\n",
      "  C={ x=[4, 1] },\n",
      "  (A, connects, A)={ edge_index=[2, 0] },\n",
      "  (A, connects, B)={ edge_index=[2, 0] },\n",
      "  (A, connects, C)={ edge_index=[2, 0] },\n",
      "  (B, connects, B)={ edge_index=[2, 0] },\n",
      "  (B, connects, C)={ edge_index=[2, 0] },\n",
      "  (C, connects, C)={ edge_index=[2, 12] }\n",
      ")\n",
      "HeteroData(\n",
      "  y=[1],\n",
      "  A={ x=[10, 1] },\n",
      "  B={ x=[18, 1] },\n",
      "  C={ x=[11, 1] },\n",
      "  (A, connects, A)={ edge_index=[2, 4] },\n",
      "  (A, connects, B)={ edge_index=[2, 18] },\n",
      "  (A, connects, C)={ edge_index=[2, 12] },\n",
      "  (B, connects, B)={ edge_index=[2, 24] },\n",
      "  (B, connects, C)={ edge_index=[2, 23] },\n",
      "  (C, connects, C)={ edge_index=[2, 6] }\n",
      ")\n",
      "HeteroData(\n",
      "  y=[1],\n",
      "  A={ x=[11, 1] },\n",
      "  B={ x=[11, 1] },\n",
      "  C={ x=[20, 1] },\n",
      "  (A, connects, A)={ edge_index=[2, 4] },\n",
      "  (A, connects, B)={ edge_index=[2, 12] },\n",
      "  (A, connects, C)={ edge_index=[2, 21] },\n",
      "  (B, connects, B)={ edge_index=[2, 2] },\n",
      "  (B, connects, C)={ edge_index=[2, 22] },\n",
      "  (C, connects, C)={ edge_index=[2, 32] }\n",
      ")\n",
      "HeteroData(\n",
      "  y=[1],\n",
      "  A={ x=[5, 1] },\n",
      "  B={ x=[16, 1] },\n",
      "  C={ x=[8, 1] },\n",
      "  (A, connects, A)={ edge_index=[2, 2] },\n",
      "  (A, connects, B)={ edge_index=[2, 10] },\n",
      "  (A, connects, C)={ edge_index=[2, 6] },\n",
      "  (B, connects, B)={ edge_index=[2, 26] },\n",
      "  (B, connects, C)={ edge_index=[2, 19] },\n",
      "  (C, connects, C)={ edge_index=[2, 8] }\n",
      ")\n"
     ]
    }
   ],
   "source": [
    "for i in het_graphs:\n",
    "    print(i)"
   ]
  },
  {
   "cell_type": "code",
   "execution_count": 190,
   "metadata": {},
   "outputs": [],
   "source": [
    "import torch\n",
    "from torch_geometric.data import HeteroData\n",
    "\n",
    "\n",
    "\n",
    "def get_node_type_mapping(hom_data):\n",
    "    \"\"\"Dynamically identify node types from one-hot encoded features.\"\"\"\n",
    "    type_dict = {}\n",
    "    for idx, x_row in enumerate(hom_data.x):\n",
    "        type_idx = int(torch.argmax(x_row))\n",
    "        if type_idx not in type_dict:\n",
    "            type_dict[type_idx] = []\n",
    "        type_dict[type_idx].append(idx)\n",
    "    return type_dict\n",
    "\n",
    "\n",
    "\n",
    "def create_mapping_dict(type_dict):\n",
    "    \"\"\"Create ID mapping dictionaries for all node types.\"\"\"\n",
    "    return {t: {orig_idx: new_idx for new_idx, orig_idx in enumerate(nodes)} \n",
    "            for t, nodes in type_dict.items()}\n",
    "\n",
    "\n",
    "\n",
    "def filter_and_remap_edges(hom_data, src_type_nodes, dst_type_nodes, \n",
    "                          src_map, dst_map):\n",
    "    \"\"\"Generalized edge filtering and index remapping.\"\"\"\n",
    "    src_tensor = torch.tensor(src_type_nodes)\n",
    "    dst_tensor = torch.tensor(dst_type_nodes)\n",
    "    \n",
    "    # Find edges between these types\n",
    "    mask = torch.isin(hom_data.edge_index[0], src_tensor) & \\\n",
    "           torch.isin(hom_data.edge_index[1], dst_tensor)\n",
    "    \n",
    "    filtered_edges = hom_data.edge_index[:, mask]\n",
    "    \n",
    "    # Remap indices using dictionaries\n",
    "    src_indices = torch.tensor([src_map[orig.item()] for orig in filtered_edges[0]])\n",
    "    dst_indices = torch.tensor([dst_map[orig.item()] for orig in filtered_edges[1]])\n",
    "    \n",
    "    return torch.stack([src_indices, dst_indices])\n",
    "\n",
    "\n",
    "\n",
    "def convert_hom_to_het(hom_data):\n",
    "    \"\"\"Convert any one-hot encoded homogeneous graph to heterogeneous format.\"\"\"\n",
    "    het_data = HeteroData()\n",
    "    \n",
    "    # 1. Dynamically identify node types\n",
    "    type_dict = get_node_type_mapping(hom_data)\n",
    "    \n",
    "    # 2. Create mappings and initialize nodes\n",
    "    mapping_dict = create_mapping_dict(type_dict)\n",
    "    \n",
    "    # Add node types and features\n",
    "    for t, nodes in type_dict.items():\n",
    "        het_data[str(t)].x = torch.ones(len(nodes), 1)  # or use original features\n",
    "    \n",
    "    # 3. Process all possible edge type combinations\n",
    "    for src_type in type_dict:\n",
    "        for dst_type in type_dict:\n",
    "            edge_type = (str(src_type), \"connects\", str(dst_type))\n",
    "            \n",
    "            src_nodes = type_dict[src_type]\n",
    "            dst_nodes = type_dict[dst_type]\n",
    "            \n",
    "            edge_index = filter_and_remap_edges(\n",
    "                hom_data,\n",
    "                src_nodes,\n",
    "                dst_nodes,\n",
    "                mapping_dict[src_type],\n",
    "                mapping_dict[dst_type]\n",
    "            )\n",
    "            \n",
    "            if edge_index.shape[1] > 0:  # Only add if edges exist\n",
    "                het_data[edge_type].edge_index = edge_index\n",
    "    \n",
    "    # Preserve labels if they exist\n",
    "    if hasattr(hom_data, 'y'):\n",
    "        het_data.y = hom_data.y\n",
    "    \n",
    "    return het_data"
   ]
  },
  {
   "cell_type": "code",
   "execution_count": 191,
   "metadata": {},
   "outputs": [
    {
     "name": "stdout",
     "output_type": "stream",
     "text": [
      "HeteroData(\n",
      "  y=[1],\n",
      "  0={ x=[24, 1] },\n",
      "  1={ x=[13, 1] },\n",
      "  (0, connects, 0)={ edge_index=[2, 86] },\n",
      "  (0, connects, 1)={ edge_index=[2, 17] },\n",
      "  (1, connects, 0)={ edge_index=[2, 17] },\n",
      "  (1, connects, 1)={ edge_index=[2, 48] }\n",
      ")\n",
      "HeteroData(\n",
      "  y=[1],\n",
      "  2={ x=[4, 1] },\n",
      "  (2, connects, 2)={ edge_index=[2, 12] }\n",
      ")\n",
      "HeteroData(\n",
      "  y=[1],\n",
      "  0={ x=[10, 1] },\n",
      "  1={ x=[18, 1] },\n",
      "  2={ x=[11, 1] },\n",
      "  (0, connects, 0)={ edge_index=[2, 4] },\n",
      "  (0, connects, 1)={ edge_index=[2, 18] },\n",
      "  (0, connects, 2)={ edge_index=[2, 12] },\n",
      "  (1, connects, 0)={ edge_index=[2, 18] },\n",
      "  (1, connects, 1)={ edge_index=[2, 24] },\n",
      "  (1, connects, 2)={ edge_index=[2, 23] },\n",
      "  (2, connects, 0)={ edge_index=[2, 12] },\n",
      "  (2, connects, 1)={ edge_index=[2, 23] },\n",
      "  (2, connects, 2)={ edge_index=[2, 6] }\n",
      ")\n",
      "HeteroData(\n",
      "  y=[1],\n",
      "  0={ x=[11, 1] },\n",
      "  1={ x=[11, 1] },\n",
      "  2={ x=[20, 1] },\n",
      "  (0, connects, 0)={ edge_index=[2, 4] },\n",
      "  (0, connects, 1)={ edge_index=[2, 12] },\n",
      "  (0, connects, 2)={ edge_index=[2, 21] },\n",
      "  (1, connects, 0)={ edge_index=[2, 12] },\n",
      "  (1, connects, 1)={ edge_index=[2, 2] },\n",
      "  (1, connects, 2)={ edge_index=[2, 22] },\n",
      "  (2, connects, 0)={ edge_index=[2, 21] },\n",
      "  (2, connects, 1)={ edge_index=[2, 22] },\n",
      "  (2, connects, 2)={ edge_index=[2, 32] }\n",
      ")\n",
      "HeteroData(\n",
      "  y=[1],\n",
      "  0={ x=[5, 1] },\n",
      "  1={ x=[16, 1] },\n",
      "  2={ x=[8, 1] },\n",
      "  (0, connects, 0)={ edge_index=[2, 2] },\n",
      "  (0, connects, 1)={ edge_index=[2, 10] },\n",
      "  (0, connects, 2)={ edge_index=[2, 6] },\n",
      "  (1, connects, 0)={ edge_index=[2, 10] },\n",
      "  (1, connects, 1)={ edge_index=[2, 26] },\n",
      "  (1, connects, 2)={ edge_index=[2, 19] },\n",
      "  (2, connects, 0)={ edge_index=[2, 6] },\n",
      "  (2, connects, 1)={ edge_index=[2, 19] },\n",
      "  (2, connects, 2)={ edge_index=[2, 8] }\n",
      ")\n"
     ]
    }
   ],
   "source": [
    "for i in (0, 10, 61, 115, 200):\n",
    "    print(convert_hom_to_het(dataset[i]))"
   ]
  },
  {
   "cell_type": "code",
   "execution_count": 195,
   "metadata": {},
   "outputs": [],
   "source": [
    "import torch\n",
    "from torch_geometric.data import HeteroData\n",
    "\n",
    "def get_node_type_mapping(hom_data):\n",
    "    \"\"\"\n",
    "    Dynamically identify node types from one-hot encoded features.\n",
    "    \n",
    "    e.g. [[0,0,1],      {0: [2]\n",
    "          [1,0,0],  ->   1: [1]\n",
    "          [0,1,0],       2: [0, 3]}\n",
    "          [0,0,1]]\n",
    "    \"\"\"\n",
    "    type_dict = {}\n",
    "    for idx, x_row in enumerate(hom_data.x):\n",
    "        type_idx = int(torch.argmax(x_row))\n",
    "        if type_idx not in type_dict:\n",
    "            type_dict[type_idx] = []\n",
    "        type_dict[type_idx].append(idx)\n",
    "    return type_dict\n",
    "\n",
    "def create_mapping_dict(type_dict):\n",
    "    \"\"\"\n",
    "    Create ID mapping dictionaries for all node types.\n",
    "\n",
    "    Effectively, this resets node indecies for each node type in \n",
    "    the heterogeneous graph instead or maintaining the original \n",
    "    index from the homogeneous graph.    \n",
    "    \"\"\"\n",
    "    return {t: {orig_idx: new_idx for new_idx, orig_idx in enumerate(nodes)} \n",
    "            for t, nodes in type_dict.items()}\n",
    "\n",
    "def filter_and_remap_edges(hom_data, src_type_nodes, dst_type_nodes, \n",
    "                          src_map, dst_map, enforce_canonical):\n",
    "    \"\"\"Generalized edge filtering and index remapping.\"\"\"\n",
    "    src_tensor = torch.tensor(src_type_nodes)\n",
    "    dst_tensor = torch.tensor(dst_type_nodes)\n",
    "\n",
    "    # Create heterogeneous mask over homogeneous edge_index    \n",
    "    mask = torch.isin(hom_data.edge_index[0], src_tensor) & torch.isin(hom_data.edge_index[1], dst_tensor)\n",
    "    \n",
    "    # Mask out edges other than source and destination edges\n",
    "    filtered_edges = hom_data.edge_index[:, mask]\n",
    "    \n",
    "    # If there are no edges between source and destination nodes, create empty tensor for edge_index\n",
    "    if filtered_edges.numel() == 0:\n",
    "        return torch.empty((2, 0), dtype=torch.long)\n",
    "    \n",
    "    # Apply filter to get only edges between source and destination nodes\n",
    "    src_indices = torch.tensor([src_map[orig.item()] for orig in filtered_edges[0]])\n",
    "    dst_indices = torch.tensor([dst_map[orig.item()] for orig in filtered_edges[1]])\n",
    "    \n",
    "    # If graph is undirected, ensure the order is canonical\n",
    "    if enforce_canonical:\n",
    "        src_indices, dst_indices = torch.min(src_indices, dst_indices), torch.max(src_indices, dst_indices)\n",
    "    \n",
    "    # Stack to get final edge_index for source and destination nodes\n",
    "    return torch.stack([src_indices, dst_indices])\n",
    "\n",
    "def convert_hom_to_het(hom_data, expected_types=[0, 1, 2], enforce_canonical=False):\n",
    "    \"\"\"Convert any one-hot encoded homogeneous graph to heterogeneous format.\"\"\"\n",
    "    het_data = HeteroData()\n",
    "    \n",
    "    # Dynamically identify one-hot encoded node types\n",
    "    type_dict = get_node_type_mapping(hom_data)\n",
    "\n",
    "    # Create mappings and initialize nodes\n",
    "    mapping_dict = create_mapping_dict(type_dict)\n",
    "    \n",
    "    # Add node types and features\n",
    "    for t in expected_types:\n",
    "        if t in type_dict:\n",
    "            het_data[str(t)].x = hom_data.x[type_dict[t]]\n",
    "        else:\n",
    "            het_data[str(t)].x = torch.empty((0, hom_data.x.shape[1]))  # Placeholder if missing\n",
    "    \n",
    "    # Process all possible edge type combinations\n",
    "    for src_type in expected_types:\n",
    "        for dst_type in expected_types:\n",
    "            edge_type = (str(src_type), \"connects\", str(dst_type))\n",
    "            \n",
    "            src_nodes = type_dict.get(src_type, [])\n",
    "            dst_nodes = type_dict.get(dst_type, [])\n",
    "            \n",
    "            edge_index = filter_and_remap_edges(\n",
    "                hom_data,\n",
    "                src_nodes,\n",
    "                dst_nodes,\n",
    "                mapping_dict.get(src_type, {}),\n",
    "                mapping_dict.get(dst_type, {}),\n",
    "                enforce_canonical\n",
    "            )\n",
    "            \n",
    "            het_data[edge_type].edge_index = edge_index\n",
    "    \n",
    "    # If label exists, add to graph\n",
    "    if hasattr(hom_data, 'y'):\n",
    "        het_data.y = hom_data.y\n",
    "    \n",
    "    return het_data\n"
   ]
  },
  {
   "cell_type": "code",
   "execution_count": 189,
   "metadata": {},
   "outputs": [
    {
     "name": "stdout",
     "output_type": "stream",
     "text": [
      "HeteroData(\n",
      "  y=[1],\n",
      "  0={ x=[24, 3] },\n",
      "  1={ x=[13, 3] },\n",
      "  2={ x=[0, 3] },\n",
      "  (0, connects, 0)={ edge_index=[2, 86] },\n",
      "  (0, connects, 1)={ edge_index=[2, 17] },\n",
      "  (0, connects, 2)={ edge_index=[2, 0] },\n",
      "  (1, connects, 0)={ edge_index=[2, 17] },\n",
      "  (1, connects, 1)={ edge_index=[2, 48] },\n",
      "  (1, connects, 2)={ edge_index=[2, 0] },\n",
      "  (2, connects, 0)={ edge_index=[2, 0] },\n",
      "  (2, connects, 1)={ edge_index=[2, 0] },\n",
      "  (2, connects, 2)={ edge_index=[2, 0] }\n",
      ")\n",
      "HeteroData(\n",
      "  y=[1],\n",
      "  0={ x=[0, 3] },\n",
      "  1={ x=[0, 3] },\n",
      "  2={ x=[4, 3] },\n",
      "  (0, connects, 0)={ edge_index=[2, 0] },\n",
      "  (0, connects, 1)={ edge_index=[2, 0] },\n",
      "  (0, connects, 2)={ edge_index=[2, 0] },\n",
      "  (1, connects, 0)={ edge_index=[2, 0] },\n",
      "  (1, connects, 1)={ edge_index=[2, 0] },\n",
      "  (1, connects, 2)={ edge_index=[2, 0] },\n",
      "  (2, connects, 0)={ edge_index=[2, 0] },\n",
      "  (2, connects, 1)={ edge_index=[2, 0] },\n",
      "  (2, connects, 2)={ edge_index=[2, 12] }\n",
      ")\n",
      "HeteroData(\n",
      "  y=[1],\n",
      "  0={ x=[10, 3] },\n",
      "  1={ x=[18, 3] },\n",
      "  2={ x=[11, 3] },\n",
      "  (0, connects, 0)={ edge_index=[2, 4] },\n",
      "  (0, connects, 1)={ edge_index=[2, 18] },\n",
      "  (0, connects, 2)={ edge_index=[2, 12] },\n",
      "  (1, connects, 0)={ edge_index=[2, 18] },\n",
      "  (1, connects, 1)={ edge_index=[2, 24] },\n",
      "  (1, connects, 2)={ edge_index=[2, 23] },\n",
      "  (2, connects, 0)={ edge_index=[2, 12] },\n",
      "  (2, connects, 1)={ edge_index=[2, 23] },\n",
      "  (2, connects, 2)={ edge_index=[2, 6] }\n",
      ")\n",
      "HeteroData(\n",
      "  y=[1],\n",
      "  0={ x=[11, 3] },\n",
      "  1={ x=[11, 3] },\n",
      "  2={ x=[20, 3] },\n",
      "  (0, connects, 0)={ edge_index=[2, 4] },\n",
      "  (0, connects, 1)={ edge_index=[2, 12] },\n",
      "  (0, connects, 2)={ edge_index=[2, 21] },\n",
      "  (1, connects, 0)={ edge_index=[2, 12] },\n",
      "  (1, connects, 1)={ edge_index=[2, 2] },\n",
      "  (1, connects, 2)={ edge_index=[2, 22] },\n",
      "  (2, connects, 0)={ edge_index=[2, 21] },\n",
      "  (2, connects, 1)={ edge_index=[2, 22] },\n",
      "  (2, connects, 2)={ edge_index=[2, 32] }\n",
      ")\n",
      "HeteroData(\n",
      "  y=[1],\n",
      "  0={ x=[5, 3] },\n",
      "  1={ x=[16, 3] },\n",
      "  2={ x=[8, 3] },\n",
      "  (0, connects, 0)={ edge_index=[2, 2] },\n",
      "  (0, connects, 1)={ edge_index=[2, 10] },\n",
      "  (0, connects, 2)={ edge_index=[2, 6] },\n",
      "  (1, connects, 0)={ edge_index=[2, 10] },\n",
      "  (1, connects, 1)={ edge_index=[2, 26] },\n",
      "  (1, connects, 2)={ edge_index=[2, 19] },\n",
      "  (2, connects, 0)={ edge_index=[2, 6] },\n",
      "  (2, connects, 1)={ edge_index=[2, 19] },\n",
      "  (2, connects, 2)={ edge_index=[2, 8] }\n",
      ")\n"
     ]
    }
   ],
   "source": [
    "for i in (0, 10, 61, 115, 200):\n",
    "    print(convert_hom_to_het(dataset[i]))"
   ]
  },
  {
   "cell_type": "code",
   "execution_count": null,
   "metadata": {},
   "outputs": [],
   "source": []
  }
 ],
 "metadata": {
  "kernelspec": {
   "display_name": "ML_ENV",
   "language": "python",
   "name": "python3"
  },
  "language_info": {
   "codemirror_mode": {
    "name": "ipython",
    "version": 3
   },
   "file_extension": ".py",
   "mimetype": "text/x-python",
   "name": "python",
   "nbconvert_exporter": "python",
   "pygments_lexer": "ipython3",
   "version": "3.8.10"
  }
 },
 "nbformat": 4,
 "nbformat_minor": 2
}
