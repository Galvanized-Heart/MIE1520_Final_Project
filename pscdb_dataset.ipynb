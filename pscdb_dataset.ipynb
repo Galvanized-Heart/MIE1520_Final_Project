{
 "cells": [
  {
   "cell_type": "code",
   "execution_count": 1,
   "metadata": {},
   "outputs": [],
   "source": [
    "from pscdb_dataset import ProteinPairGraphBuilder\n",
    "from tqdm import tqdm\n",
    "import pandas as pd\n",
    "import torch\n",
    "\n",
    "import warnings\n",
    "from Bio import BiopythonWarning\n",
    "warnings.filterwarnings(\"ignore\", category=BiopythonWarning)\n"
   ]
  },
  {
   "cell_type": "code",
   "execution_count": 2,
   "metadata": {},
   "outputs": [
    {
     "data": {
      "text/html": [
       "<div>\n",
       "<style scoped>\n",
       "    .dataframe tbody tr th:only-of-type {\n",
       "        vertical-align: middle;\n",
       "    }\n",
       "\n",
       "    .dataframe tbody tr th {\n",
       "        vertical-align: top;\n",
       "    }\n",
       "\n",
       "    .dataframe thead th {\n",
       "        text-align: right;\n",
       "    }\n",
       "</style>\n",
       "<table border=\"1\" class=\"dataframe\">\n",
       "  <thead>\n",
       "    <tr style=\"text-align: right;\">\n",
       "      <th></th>\n",
       "      <th>Unnamed: 0</th>\n",
       "      <th>level_0</th>\n",
       "      <th>index</th>\n",
       "      <th>PSCID</th>\n",
       "      <th>Protein Name</th>\n",
       "      <th>Free form</th>\n",
       "      <th>Bound form</th>\n",
       "      <th>Ligands</th>\n",
       "      <th>Classification(?)</th>\n",
       "      <th>motion_type</th>\n",
       "      <th>Free PDB</th>\n",
       "      <th>Free Chains</th>\n",
       "      <th>Bound PDB</th>\n",
       "      <th>Bound Chains</th>\n",
       "    </tr>\n",
       "  </thead>\n",
       "  <tbody>\n",
       "    <tr>\n",
       "      <th>0</th>\n",
       "      <td>0</td>\n",
       "      <td>0</td>\n",
       "      <td>0</td>\n",
       "      <td>CD.1</td>\n",
       "      <td>HYPOTHETICAL OXIDOREDUCTASE YIAK</td>\n",
       "      <td>1nxu_AB</td>\n",
       "      <td>1s20_AB</td>\n",
       "      <td>2xNAD,2xTLA</td>\n",
       "      <td>200004</td>\n",
       "      <td>coupled_domain_motion</td>\n",
       "      <td>1nxu</td>\n",
       "      <td>AB</td>\n",
       "      <td>1s20</td>\n",
       "      <td>AB</td>\n",
       "    </tr>\n",
       "    <tr>\n",
       "      <th>1</th>\n",
       "      <td>1</td>\n",
       "      <td>1</td>\n",
       "      <td>1</td>\n",
       "      <td>CD.2</td>\n",
       "      <td>ADENYLATE KINASE</td>\n",
       "      <td>4ake_A</td>\n",
       "      <td>2eck_A</td>\n",
       "      <td>ADP,AMP</td>\n",
       "      <td>200003</td>\n",
       "      <td>coupled_domain_motion</td>\n",
       "      <td>4ake</td>\n",
       "      <td>A</td>\n",
       "      <td>2eck</td>\n",
       "      <td>A</td>\n",
       "    </tr>\n",
       "    <tr>\n",
       "      <th>2</th>\n",
       "      <td>2</td>\n",
       "      <td>2</td>\n",
       "      <td>2</td>\n",
       "      <td>CD.3</td>\n",
       "      <td>GLUCOKINASE</td>\n",
       "      <td>1q18_AB</td>\n",
       "      <td>1sz2_AB</td>\n",
       "      <td>2xBGC</td>\n",
       "      <td>200003</td>\n",
       "      <td>coupled_domain_motion</td>\n",
       "      <td>1q18</td>\n",
       "      <td>AB</td>\n",
       "      <td>1sz2</td>\n",
       "      <td>AB</td>\n",
       "    </tr>\n",
       "    <tr>\n",
       "      <th>3</th>\n",
       "      <td>3</td>\n",
       "      <td>3</td>\n",
       "      <td>3</td>\n",
       "      <td>CD.4</td>\n",
       "      <td>LACTOFERRIN</td>\n",
       "      <td>1lfh_A</td>\n",
       "      <td>1lfi_A</td>\n",
       "      <td>2xCU,2xNAG</td>\n",
       "      <td>110103</td>\n",
       "      <td>coupled_domain_motion</td>\n",
       "      <td>1lfh</td>\n",
       "      <td>A</td>\n",
       "      <td>1lfi</td>\n",
       "      <td>A</td>\n",
       "    </tr>\n",
       "    <tr>\n",
       "      <th>4</th>\n",
       "      <td>4</td>\n",
       "      <td>4</td>\n",
       "      <td>4</td>\n",
       "      <td>CD.5</td>\n",
       "      <td>ELONGATION FACTOR 2</td>\n",
       "      <td>1n0v_D</td>\n",
       "      <td>1n0u_A</td>\n",
       "      <td>SO1</td>\n",
       "      <td>110002</td>\n",
       "      <td>coupled_domain_motion</td>\n",
       "      <td>1n0v</td>\n",
       "      <td>D</td>\n",
       "      <td>1n0u</td>\n",
       "      <td>A</td>\n",
       "    </tr>\n",
       "  </tbody>\n",
       "</table>\n",
       "</div>"
      ],
      "text/plain": [
       "   Unnamed: 0  level_0  index PSCID                      Protein Name  \\\n",
       "0           0        0      0  CD.1  HYPOTHETICAL OXIDOREDUCTASE YIAK   \n",
       "1           1        1      1  CD.2                  ADENYLATE KINASE   \n",
       "2           2        2      2  CD.3                       GLUCOKINASE   \n",
       "3           3        3      3  CD.4                       LACTOFERRIN   \n",
       "4           4        4      4  CD.5               ELONGATION FACTOR 2   \n",
       "\n",
       "  Free form Bound form      Ligands  Classification(?)            motion_type  \\\n",
       "0   1nxu_AB    1s20_AB  2xNAD,2xTLA             200004  coupled_domain_motion   \n",
       "1    4ake_A     2eck_A      ADP,AMP             200003  coupled_domain_motion   \n",
       "2   1q18_AB    1sz2_AB        2xBGC             200003  coupled_domain_motion   \n",
       "3    1lfh_A     1lfi_A   2xCU,2xNAG             110103  coupled_domain_motion   \n",
       "4    1n0v_D     1n0u_A          SO1             110002  coupled_domain_motion   \n",
       "\n",
       "  Free PDB Free Chains Bound PDB Bound Chains  \n",
       "0     1nxu          AB      1s20           AB  \n",
       "1     4ake           A      2eck            A  \n",
       "2     1q18          AB      1sz2           AB  \n",
       "3     1lfh           A      1lfi            A  \n",
       "4     1n0v           D      1n0u            A  "
      ]
     },
     "execution_count": 2,
     "metadata": {},
     "output_type": "execute_result"
    }
   ],
   "source": [
    "df = pd.read_csv('data/PSCDB/structural_rearrangement_data.csv')\n",
    "df.head()"
   ]
  },
  {
   "cell_type": "code",
   "execution_count": 3,
   "metadata": {},
   "outputs": [
    {
     "data": {
      "text/plain": [
       "(891, 14)"
      ]
     },
     "execution_count": 3,
     "metadata": {},
     "output_type": "execute_result"
    }
   ],
   "source": [
    "df.shape"
   ]
  },
  {
   "cell_type": "code",
   "execution_count": 4,
   "metadata": {},
   "outputs": [
    {
     "data": {
      "text/html": [
       "<div>\n",
       "<style scoped>\n",
       "    .dataframe tbody tr th:only-of-type {\n",
       "        vertical-align: middle;\n",
       "    }\n",
       "\n",
       "    .dataframe tbody tr th {\n",
       "        vertical-align: top;\n",
       "    }\n",
       "\n",
       "    .dataframe thead th {\n",
       "        text-align: right;\n",
       "    }\n",
       "</style>\n",
       "<table border=\"1\" class=\"dataframe\">\n",
       "  <thead>\n",
       "    <tr style=\"text-align: right;\">\n",
       "      <th></th>\n",
       "      <th>Free PDB</th>\n",
       "      <th>Bound PDB</th>\n",
       "      <th>motion_type</th>\n",
       "    </tr>\n",
       "  </thead>\n",
       "  <tbody>\n",
       "    <tr>\n",
       "      <th>0</th>\n",
       "      <td>1nxu</td>\n",
       "      <td>1s20</td>\n",
       "      <td>coupled_domain_motion</td>\n",
       "    </tr>\n",
       "    <tr>\n",
       "      <th>1</th>\n",
       "      <td>4ake</td>\n",
       "      <td>2eck</td>\n",
       "      <td>coupled_domain_motion</td>\n",
       "    </tr>\n",
       "    <tr>\n",
       "      <th>2</th>\n",
       "      <td>1q18</td>\n",
       "      <td>1sz2</td>\n",
       "      <td>coupled_domain_motion</td>\n",
       "    </tr>\n",
       "    <tr>\n",
       "      <th>3</th>\n",
       "      <td>1lfh</td>\n",
       "      <td>1lfi</td>\n",
       "      <td>coupled_domain_motion</td>\n",
       "    </tr>\n",
       "    <tr>\n",
       "      <th>4</th>\n",
       "      <td>1n0v</td>\n",
       "      <td>1n0u</td>\n",
       "      <td>coupled_domain_motion</td>\n",
       "    </tr>\n",
       "    <tr>\n",
       "      <th>...</th>\n",
       "      <td>...</td>\n",
       "      <td>...</td>\n",
       "      <td>...</td>\n",
       "    </tr>\n",
       "    <tr>\n",
       "      <th>886</th>\n",
       "      <td>2dec</td>\n",
       "      <td>2df8</td>\n",
       "      <td>other_motion</td>\n",
       "    </tr>\n",
       "    <tr>\n",
       "      <th>887</th>\n",
       "      <td>3bu9</td>\n",
       "      <td>3bu1</td>\n",
       "      <td>other_motion</td>\n",
       "    </tr>\n",
       "    <tr>\n",
       "      <th>888</th>\n",
       "      <td>2f8h</td>\n",
       "      <td>2f7v</td>\n",
       "      <td>other_motion</td>\n",
       "    </tr>\n",
       "    <tr>\n",
       "      <th>889</th>\n",
       "      <td>2qht</td>\n",
       "      <td>2qhv</td>\n",
       "      <td>other_motion</td>\n",
       "    </tr>\n",
       "    <tr>\n",
       "      <th>890</th>\n",
       "      <td>1uj4</td>\n",
       "      <td>1uj5</td>\n",
       "      <td>other_motion</td>\n",
       "    </tr>\n",
       "  </tbody>\n",
       "</table>\n",
       "<p>891 rows × 3 columns</p>\n",
       "</div>"
      ],
      "text/plain": [
       "    Free PDB Bound PDB            motion_type\n",
       "0       1nxu      1s20  coupled_domain_motion\n",
       "1       4ake      2eck  coupled_domain_motion\n",
       "2       1q18      1sz2  coupled_domain_motion\n",
       "3       1lfh      1lfi  coupled_domain_motion\n",
       "4       1n0v      1n0u  coupled_domain_motion\n",
       "..       ...       ...                    ...\n",
       "886     2dec      2df8           other_motion\n",
       "887     3bu9      3bu1           other_motion\n",
       "888     2f8h      2f7v           other_motion\n",
       "889     2qht      2qhv           other_motion\n",
       "890     1uj4      1uj5           other_motion\n",
       "\n",
       "[891 rows x 3 columns]"
      ]
     },
     "execution_count": 4,
     "metadata": {},
     "output_type": "execute_result"
    }
   ],
   "source": [
    "df_parsed = df[['Free PDB', 'Bound PDB', 'motion_type']]\n",
    "df_parsed"
   ]
  },
  {
   "cell_type": "code",
   "execution_count": 5,
   "metadata": {},
   "outputs": [
    {
     "name": "stderr",
     "output_type": "stream",
     "text": [
      "/tmp/ipykernel_10805/3995635854.py:2: SettingWithCopyWarning: \n",
      "A value is trying to be set on a copy of a slice from a DataFrame.\n",
      "Try using .loc[row_indexer,col_indexer] = value instead\n",
      "\n",
      "See the caveats in the documentation: https://pandas.pydata.org/pandas-docs/stable/user_guide/indexing.html#returning-a-view-versus-a-copy\n",
      "  df_parsed['motion_type'] = pd.Categorical(df_parsed['motion_type']).copy()\n",
      "/tmp/ipykernel_10805/3995635854.py:3: SettingWithCopyWarning: \n",
      "A value is trying to be set on a copy of a slice from a DataFrame.\n",
      "Try using .loc[row_indexer,col_indexer] = value instead\n",
      "\n",
      "See the caveats in the documentation: https://pandas.pydata.org/pandas-docs/stable/user_guide/indexing.html#returning-a-view-versus-a-copy\n",
      "  df_parsed['motion_type_int'] = df_parsed['motion_type'].cat.codes\n"
     ]
    },
    {
     "data": {
      "text/html": [
       "<div>\n",
       "<style scoped>\n",
       "    .dataframe tbody tr th:only-of-type {\n",
       "        vertical-align: middle;\n",
       "    }\n",
       "\n",
       "    .dataframe tbody tr th {\n",
       "        vertical-align: top;\n",
       "    }\n",
       "\n",
       "    .dataframe thead th {\n",
       "        text-align: right;\n",
       "    }\n",
       "</style>\n",
       "<table border=\"1\" class=\"dataframe\">\n",
       "  <thead>\n",
       "    <tr style=\"text-align: right;\">\n",
       "      <th></th>\n",
       "      <th>Free PDB</th>\n",
       "      <th>Bound PDB</th>\n",
       "      <th>motion_type</th>\n",
       "      <th>motion_type_int</th>\n",
       "    </tr>\n",
       "  </thead>\n",
       "  <tbody>\n",
       "    <tr>\n",
       "      <th>0</th>\n",
       "      <td>1nxu</td>\n",
       "      <td>1s20</td>\n",
       "      <td>coupled_domain_motion</td>\n",
       "      <td>1</td>\n",
       "    </tr>\n",
       "    <tr>\n",
       "      <th>1</th>\n",
       "      <td>4ake</td>\n",
       "      <td>2eck</td>\n",
       "      <td>coupled_domain_motion</td>\n",
       "      <td>1</td>\n",
       "    </tr>\n",
       "    <tr>\n",
       "      <th>2</th>\n",
       "      <td>1q18</td>\n",
       "      <td>1sz2</td>\n",
       "      <td>coupled_domain_motion</td>\n",
       "      <td>1</td>\n",
       "    </tr>\n",
       "    <tr>\n",
       "      <th>3</th>\n",
       "      <td>1lfh</td>\n",
       "      <td>1lfi</td>\n",
       "      <td>coupled_domain_motion</td>\n",
       "      <td>1</td>\n",
       "    </tr>\n",
       "    <tr>\n",
       "      <th>4</th>\n",
       "      <td>1n0v</td>\n",
       "      <td>1n0u</td>\n",
       "      <td>coupled_domain_motion</td>\n",
       "      <td>1</td>\n",
       "    </tr>\n",
       "  </tbody>\n",
       "</table>\n",
       "</div>"
      ],
      "text/plain": [
       "  Free PDB Bound PDB            motion_type  motion_type_int\n",
       "0     1nxu      1s20  coupled_domain_motion                1\n",
       "1     4ake      2eck  coupled_domain_motion                1\n",
       "2     1q18      1sz2  coupled_domain_motion                1\n",
       "3     1lfh      1lfi  coupled_domain_motion                1\n",
       "4     1n0v      1n0u  coupled_domain_motion                1"
      ]
     },
     "execution_count": 5,
     "metadata": {},
     "output_type": "execute_result"
    }
   ],
   "source": [
    "# Create int labels for motion_type\n",
    "df_parsed['motion_type'] = pd.Categorical(df_parsed['motion_type']).copy()\n",
    "df_parsed['motion_type_int'] = df_parsed['motion_type'].cat.codes\n",
    "\n",
    "# Mappings from int label to string label\n",
    "int_to_name = dict(enumerate(df_parsed['motion_type'].cat.categories))\n",
    "name_to_int = {v: k for k, v in int_to_name.items()}\n",
    "\n",
    "df_parsed.head()\n"
   ]
  },
  {
   "cell_type": "code",
   "execution_count": 6,
   "metadata": {},
   "outputs": [
    {
     "data": {
      "text/plain": [
       "{0: 'A',\n",
       " 1: 'C',\n",
       " 2: 'D',\n",
       " 3: 'E',\n",
       " 4: 'F',\n",
       " 5: 'G',\n",
       " 6: 'H',\n",
       " 7: 'I',\n",
       " 8: 'K',\n",
       " 9: 'L',\n",
       " 10: 'M',\n",
       " 11: 'N',\n",
       " 12: 'P',\n",
       " 13: 'Q',\n",
       " 14: 'R',\n",
       " 15: 'S',\n",
       " 16: 'T',\n",
       " 17: 'V',\n",
       " 18: 'W',\n",
       " 19: 'Y'}"
      ]
     },
     "execution_count": 6,
     "metadata": {},
     "output_type": "execute_result"
    }
   ],
   "source": [
    "three_to_one = {\n",
    "    'ALA': 'A', 'ARG': 'R', 'ASN': 'N', 'ASP': 'D',\n",
    "    'CYS': 'C', 'GLN': 'Q', 'GLU': 'E', 'GLY': 'G',\n",
    "    'HIS': 'H', 'ILE': 'I', 'LEU': 'L', 'LYS': 'K',\n",
    "    'MET': 'M', 'PHE': 'F', 'PRO': 'P', 'SER': 'S',\n",
    "    'THR': 'T', 'TRP': 'W', 'TYR': 'Y', 'VAL': 'V'\n",
    "}\n",
    "amino_acids = sorted(three_to_one.values())  # Sorted alphabetically\n",
    "idx_to_aa = {i: aa for i, aa in enumerate(amino_acids)}\n",
    "idx_to_aa"
   ]
  },
  {
   "cell_type": "code",
   "execution_count": 7,
   "metadata": {},
   "outputs": [
    {
     "data": {
      "text/plain": [
       "'import logging\\nimport traceback\\nfrom tqdm import tqdm\\n\\n# Configure logging\\nlogging.basicConfig(\\n    filename=\\'pdb_processing.log\\',\\n    level=logging.INFO,\\n    format=\\'%(asctime)s - %(levelname)s - %(message)s\\'\\n)\\n\\nclass DebuggableBuilder(ProteinPairGraphBuilder):\\n    def build_graph_pair(self, free_pdb, bound_pdb, motion_label):\\n        try:\\n            logging.info(f\"Processing {free_pdb} & {bound_pdb}\")\\n            result = super().build_graph_pair(free_pdb, bound_pdb, motion_label)\\n            \\n            if not result:\\n                logging.warning(f\"Skipped {free_pdb}-{bound_pdb}: No valid data\")\\n                \\n            return result\\n            \\n        except Exception as e:\\n            logging.error(f\"CRASHED ON {free_pdb}-{bound_pdb}:\")\\n            logging.error(traceback.format_exc())\\n            print(f\"\\n\\nCritical error processing {free_pdb}-{bound_pdb}\")\\n            print(traceback.format_exc())\\n            return None\\n\\ndef process_with_resume(df, builder, existing_data=[]):\\n    my_dataset = existing_data\\n    \\n    try:\\n        for idx, row in tqdm(df.iterrows(), total=len(df)):\\n            if idx < len(my_dataset):\\n                continue\\n                \\n            data = builder.build_graph_pair(\\n                row[\\'Free PDB\\'],\\n                row[\\'Bound PDB\\'],\\n                row[\\'motion_type_int\\']\\n            )\\n            if data:\\n                my_dataset.append(data)\\n                \\n            # Save progress every 50 entries\\n            if idx % 50 == 0:\\n                torch.save(my_dataset, f\\'data/PSCDB/graphs/partial_dataset_{idx}.pt\\')\\n                \\n    except KeyboardInterrupt:\\n        print(\"\\nUser interrupted. Saving partial dataset...\")\\n        return my_dataset\\n    except Exception as e:\\n        logging.error(\"Fatal error:\")\\n        logging.error(traceback.format_exc())\\n        print(\"\\nFatal error - partial dataset saved\")\\n        return my_dataset\\n        \\n    return my_dataset\\n\\n# Usage\\nbuilder = DebuggableBuilder(threshold=5.0, data_path=\\'data/PSCDB/PDB_structures\\')\\n\\n# Try to load existing partial dataset\\ntry:\\n    my_dataset = torch.load(\\'partial_dataset.pt\\', weights_only=False)[\\'dataset\\']\\n    print(f\"Resuming from {len(my_dataset)} existing entries\")\\nexcept FileNotFoundError:\\n    my_dataset = []\\n\\nmy_dataset = process_with_resume(df_parsed, builder, my_dataset)\\n\\n# Final save\\ntorch.save(my_dataset, \\'complete_dataset.pt\\')\\nprint(f\"Built {len(my_dataset)} valid graph pairs\")'"
      ]
     },
     "execution_count": 7,
     "metadata": {},
     "output_type": "execute_result"
    }
   ],
   "source": [
    "\"\"\"import logging\n",
    "import traceback\n",
    "from tqdm import tqdm\n",
    "\n",
    "# Configure logging\n",
    "logging.basicConfig(\n",
    "    filename='pdb_processing.log',\n",
    "    level=logging.INFO,\n",
    "    format='%(asctime)s - %(levelname)s - %(message)s'\n",
    ")\n",
    "\n",
    "class DebuggableBuilder(ProteinPairGraphBuilder):\n",
    "    def build_graph_pair(self, free_pdb, bound_pdb, motion_label):\n",
    "        try:\n",
    "            logging.info(f\"Processing {free_pdb} & {bound_pdb}\")\n",
    "            result = super().build_graph_pair(free_pdb, bound_pdb, motion_label)\n",
    "            \n",
    "            if not result:\n",
    "                logging.warning(f\"Skipped {free_pdb}-{bound_pdb}: No valid data\")\n",
    "                \n",
    "            return result\n",
    "            \n",
    "        except Exception as e:\n",
    "            logging.error(f\"CRASHED ON {free_pdb}-{bound_pdb}:\")\n",
    "            logging.error(traceback.format_exc())\n",
    "            print(f\"\\n\\nCritical error processing {free_pdb}-{bound_pdb}\")\n",
    "            print(traceback.format_exc())\n",
    "            return None\n",
    "\n",
    "def process_with_resume(df, builder, existing_data=[]):\n",
    "    my_dataset = existing_data\n",
    "    \n",
    "    try:\n",
    "        for idx, row in tqdm(df.iterrows(), total=len(df)):\n",
    "            if idx < len(my_dataset):\n",
    "                continue\n",
    "                \n",
    "            data = builder.build_graph_pair(\n",
    "                row['Free PDB'],\n",
    "                row['Bound PDB'],\n",
    "                row['motion_type_int']\n",
    "            )\n",
    "            if data:\n",
    "                my_dataset.append(data)\n",
    "                \n",
    "            # Save progress every 50 entries\n",
    "            if idx % 50 == 0:\n",
    "                torch.save(my_dataset, f'data/PSCDB/graphs/partial_dataset_{idx}.pt')\n",
    "                \n",
    "    except KeyboardInterrupt:\n",
    "        print(\"\\nUser interrupted. Saving partial dataset...\")\n",
    "        return my_dataset\n",
    "    except Exception as e:\n",
    "        logging.error(\"Fatal error:\")\n",
    "        logging.error(traceback.format_exc())\n",
    "        print(\"\\nFatal error - partial dataset saved\")\n",
    "        return my_dataset\n",
    "        \n",
    "    return my_dataset\n",
    "\n",
    "# Usage\n",
    "builder = DebuggableBuilder(threshold=5.0, data_path='data/PSCDB/PDB_structures')\n",
    "\n",
    "# Try to load existing partial dataset\n",
    "try:\n",
    "    my_dataset = torch.load('partial_dataset.pt', weights_only=False)['dataset']\n",
    "    print(f\"Resuming from {len(my_dataset)} existing entries\")\n",
    "except FileNotFoundError:\n",
    "    my_dataset = []\n",
    "\n",
    "my_dataset = process_with_resume(df_parsed, builder, my_dataset)\n",
    "\n",
    "# Final save\n",
    "torch.save(my_dataset, 'complete_dataset.pt')\n",
    "print(f\"Built {len(my_dataset)} valid graph pairs\")\"\"\""
   ]
  },
  {
   "cell_type": "code",
   "execution_count": 8,
   "metadata": {},
   "outputs": [
    {
     "name": "stderr",
     "output_type": "stream",
     "text": [
      "  0%|          | 0/891 [00:00<?, ?it/s]"
     ]
    },
    {
     "name": "stdout",
     "output_type": "stream",
     "text": [
      "Structure exists: 'data/PSCDB/PDB_structures/pdb1nxu.ent' \n",
      "Structure exists: 'data/PSCDB/PDB_structures/pdb1s20.ent' \n"
     ]
    },
    {
     "name": "stderr",
     "output_type": "stream",
     "text": [
      "  0%|          | 2/891 [00:00<06:02,  2.45it/s]"
     ]
    },
    {
     "name": "stdout",
     "output_type": "stream",
     "text": [
      "Aligned 317 residues (Free: 317, Bound: 319, Excluded: 2)\n",
      "Structure exists: 'data/PSCDB/PDB_structures/pdb4ake.ent' \n",
      "Structure exists: 'data/PSCDB/PDB_structures/pdb2eck.ent' \n",
      "Aligned 214 residues (Free: 214, Bound: 214, Excluded: 0)\n",
      "Structure exists: 'data/PSCDB/PDB_structures/pdb1q18.ent' \n"
     ]
    },
    {
     "name": "stderr",
     "output_type": "stream",
     "text": [
      "  0%|          | 3/891 [00:01<04:31,  3.27it/s]"
     ]
    },
    {
     "name": "stdout",
     "output_type": "stream",
     "text": [
      "Structure exists: 'data/PSCDB/PDB_structures/pdb1sz2.ent' \n",
      "Aligned 314 residues (Free: 315, Bound: 314, Excluded: 1)\n",
      "Structure exists: 'data/PSCDB/PDB_structures/pdb1lfh.ent' \n",
      "Structure exists: 'data/PSCDB/PDB_structures/pdb1lfi.ent' \n"
     ]
    },
    {
     "name": "stderr",
     "output_type": "stream",
     "text": [
      "  0%|          | 4/891 [00:01<05:50,  2.53it/s]"
     ]
    },
    {
     "name": "stdout",
     "output_type": "stream",
     "text": [
      "Aligned 691 residues (Free: 691, Bound: 691, Excluded: 0)\n",
      "Structure exists: 'data/PSCDB/PDB_structures/pdb1n0v.ent' \n"
     ]
    },
    {
     "name": "stderr",
     "output_type": "stream",
     "text": [
      "  1%|          | 5/891 [00:01<05:09,  2.86it/s]"
     ]
    },
    {
     "name": "stdout",
     "output_type": "stream",
     "text": [
      "Structure exists: 'data/PSCDB/PDB_structures/pdb1n0u.ent' \n",
      "No common residues between 1n0v and 1n0u\n",
      "Structure exists: 'data/PSCDB/PDB_structures/pdb5csc.ent' \n",
      "Structure exists: 'data/PSCDB/PDB_structures/pdb6cts.ent' \n"
     ]
    },
    {
     "name": "stderr",
     "output_type": "stream",
     "text": [
      "  1%|          | 6/891 [00:02<04:22,  3.37it/s]"
     ]
    },
    {
     "name": "stdout",
     "output_type": "stream",
     "text": [
      "Aligned 429 residues (Free: 429, Bound: 429, Excluded: 0)\n",
      "Structure exists: 'data/PSCDB/PDB_structures/pdb2p0m.ent' \n",
      "Structure exists: 'data/PSCDB/PDB_structures/pdb2p0m.ent' \n",
      "Aligned 662 residues (Free: 662, Bound: 662, Excluded: 0)\n"
     ]
    },
    {
     "name": "stderr",
     "output_type": "stream",
     "text": [
      "  1%|          | 7/891 [00:02<06:06,  2.41it/s]"
     ]
    },
    {
     "name": "stdout",
     "output_type": "stream",
     "text": [
      "Structure exists: 'data/PSCDB/PDB_structures/pdb3cze.ent' \n",
      "Structure exists: 'data/PSCDB/PDB_structures/pdb3czk.ent' \n",
      "Aligned 587 residues (Free: 587, Bound: 618, Excluded: 31)\n"
     ]
    },
    {
     "name": "stderr",
     "output_type": "stream",
     "text": [
      "  1%|          | 8/891 [00:02<05:08,  2.86it/s]"
     ]
    },
    {
     "name": "stdout",
     "output_type": "stream",
     "text": [
      "Structure exists: 'data/PSCDB/PDB_structures/pdb2bjb.ent' \n"
     ]
    },
    {
     "name": "stderr",
     "output_type": "stream",
     "text": [
      "  1%|          | 9/891 [00:03<05:13,  2.81it/s]"
     ]
    },
    {
     "name": "stdout",
     "output_type": "stream",
     "text": [
      "Structure exists: 'data/PSCDB/PDB_structures/pdb2o0d.ent' \n",
      "Aligned 421 residues (Free: 421, Bound: 424, Excluded: 3)\n",
      "Structure exists: 'data/PSCDB/PDB_structures/pdb2ex0.ent' \n",
      "Structure exists: 'data/PSCDB/PDB_structures/pdb2ihz.ent' \n"
     ]
    },
    {
     "name": "stderr",
     "output_type": "stream",
     "text": [
      "  1%|          | 10/891 [00:03<04:33,  3.22it/s]"
     ]
    },
    {
     "name": "stdout",
     "output_type": "stream",
     "text": [
      "Aligned 379 residues (Free: 392, Bound: 379, Excluded: 13)\n",
      "Structure exists: 'data/PSCDB/PDB_structures/pdb1oen.ent' \n",
      "Structure exists: 'data/PSCDB/PDB_structures/pdb2olr.ent' \n"
     ]
    },
    {
     "name": "stderr",
     "output_type": "stream",
     "text": [
      "  1%|          | 11/891 [00:03<04:18,  3.40it/s]"
     ]
    },
    {
     "name": "stdout",
     "output_type": "stream",
     "text": [
      "Aligned 524 residues (Free: 524, Bound: 535, Excluded: 11)\n",
      "Structure exists: 'data/PSCDB/PDB_structures/pdb2car.ent' \n",
      "Structure exists: 'data/PSCDB/PDB_structures/pdb2j4e.ent' \n"
     ]
    },
    {
     "name": "stderr",
     "output_type": "stream",
     "text": [
      "  1%|▏         | 12/891 [00:04<06:20,  2.31it/s]"
     ]
    },
    {
     "name": "stdout",
     "output_type": "stream",
     "text": [
      "Aligned 184 residues (Free: 196, Bound: 184, Excluded: 12)\n",
      "Structure exists: 'data/PSCDB/PDB_structures/pdb2pry.ent' \n",
      "Structure exists: 'data/PSCDB/PDB_structures/pdb2prz.ent' \n"
     ]
    },
    {
     "name": "stderr",
     "output_type": "stream",
     "text": [
      "  1%|▏         | 13/891 [00:04<05:26,  2.69it/s]"
     ]
    },
    {
     "name": "stdout",
     "output_type": "stream",
     "text": [
      "Aligned 212 residues (Free: 215, Bound: 215, Excluded: 6)\n",
      "Structure exists: 'data/PSCDB/PDB_structures/pdb1d2r.ent' \n"
     ]
    },
    {
     "name": "stderr",
     "output_type": "stream",
     "text": [
      "  2%|▏         | 14/891 [00:05<06:24,  2.28it/s]"
     ]
    },
    {
     "name": "stdout",
     "output_type": "stream",
     "text": [
      "Structure exists: 'data/PSCDB/PDB_structures/pdb1m83.ent' \n",
      "Aligned 326 residues (Free: 326, Bound: 328, Excluded: 2)\n",
      "Structure exists: 'data/PSCDB/PDB_structures/pdb2gg4.ent' \n",
      "Structure exists: 'data/PSCDB/PDB_structures/pdb2pqc.ent' \n"
     ]
    },
    {
     "name": "stderr",
     "output_type": "stream",
     "text": [
      "  2%|▏         | 15/891 [00:05<05:39,  2.58it/s]"
     ]
    },
    {
     "name": "stdout",
     "output_type": "stream",
     "text": [
      "Aligned 443 residues (Free: 443, Bound: 445, Excluded: 2)\n",
      "Structure exists: 'data/PSCDB/PDB_structures/pdb1gqz.ent' \n"
     ]
    },
    {
     "name": "stderr",
     "output_type": "stream",
     "text": [
      "  2%|▏         | 16/891 [00:05<05:03,  2.89it/s]"
     ]
    },
    {
     "name": "stdout",
     "output_type": "stream",
     "text": [
      "Structure exists: 'data/PSCDB/PDB_structures/pdb2gke.ent' \n",
      "Aligned 274 residues (Free: 274, Bound: 274, Excluded: 0)\n",
      "Structure exists: 'data/PSCDB/PDB_structures/pdb1qzt.ent' \n"
     ]
    },
    {
     "name": "stderr",
     "output_type": "stream",
     "text": [
      "  2%|▏         | 17/891 [00:06<05:21,  2.72it/s]"
     ]
    },
    {
     "name": "stdout",
     "output_type": "stream",
     "text": [
      "Structure exists: 'data/PSCDB/PDB_structures/pdb2af3.ent' \n",
      "No common residues between 1qzt and 2af3\n",
      "Structure exists: 'data/PSCDB/PDB_structures/pdb1pn2.ent' \n"
     ]
    },
    {
     "name": "stderr",
     "output_type": "stream",
     "text": [
      "  2%|▏         | 18/891 [00:06<06:24,  2.27it/s]"
     ]
    },
    {
     "name": "stdout",
     "output_type": "stream",
     "text": [
      "Structure exists: 'data/PSCDB/PDB_structures/pdb1pn4.ent' \n",
      "Aligned 268 residues (Free: 269, Bound: 272, Excluded: 5)\n",
      "Structure exists: 'data/PSCDB/PDB_structures/pdb2nrb.ent' \n",
      "Structure exists: 'data/PSCDB/PDB_structures/pdb1o9l.ent' \n"
     ]
    },
    {
     "name": "stderr",
     "output_type": "stream",
     "text": [
      "  2%|▏         | 19/891 [00:07<08:08,  1.78it/s]"
     ]
    },
    {
     "name": "stdout",
     "output_type": "stream",
     "text": [
      "Aligned 415 residues (Free: 467, Bound: 468, Excluded: 105)\n",
      "Structure exists: 'data/PSCDB/PDB_structures/pdb1t8p.ent' \n",
      "Structure exists: 'data/PSCDB/PDB_structures/pdb2h4z.ent' \n"
     ]
    },
    {
     "name": "stderr",
     "output_type": "stream",
     "text": [
      "  2%|▏         | 20/891 [00:08<07:21,  1.97it/s]"
     ]
    },
    {
     "name": "stdout",
     "output_type": "stream",
     "text": [
      "Aligned 249 residues (Free: 249, Bound: 255, Excluded: 6)\n",
      "Structure exists: 'data/PSCDB/PDB_structures/pdb1vh3.ent' \n",
      "Structure exists: 'data/PSCDB/PDB_structures/pdb1vh3.ent' \n"
     ]
    },
    {
     "name": "stderr",
     "output_type": "stream",
     "text": [
      "  2%|▏         | 21/891 [00:08<06:22,  2.27it/s]"
     ]
    },
    {
     "name": "stdout",
     "output_type": "stream",
     "text": [
      "Aligned 207 residues (Free: 207, Bound: 207, Excluded: 0)\n",
      "Structure exists: 'data/PSCDB/PDB_structures/pdb2gca.ent' \n"
     ]
    },
    {
     "name": "stderr",
     "output_type": "stream",
     "text": [
      "  2%|▏         | 22/891 [00:08<06:31,  2.22it/s]"
     ]
    },
    {
     "name": "stdout",
     "output_type": "stream",
     "text": [
      "Structure exists: 'data/PSCDB/PDB_structures/pdb1jbw.ent' \n",
      "Aligned 405 residues (Free: 410, Bound: 409, Excluded: 9)\n",
      "Structure exists: 'data/PSCDB/PDB_structures/pdb1yz5.ent' \n",
      "Structure exists: 'data/PSCDB/PDB_structures/pdb1ywt.ent' \n"
     ]
    },
    {
     "name": "stderr",
     "output_type": "stream",
     "text": [
      "  3%|▎         | 23/891 [00:09<05:22,  2.69it/s]"
     ]
    },
    {
     "name": "stdout",
     "output_type": "stream",
     "text": [
      "Aligned 220 residues (Free: 223, Bound: 223, Excluded: 6)\n",
      "Structure exists: 'data/PSCDB/PDB_structures/pdb1y2q.ent' \n",
      "Structure exists: 'data/PSCDB/PDB_structures/pdb2hl0.ent' \n",
      "Aligned 143 residues (Free: 143, Bound: 143, Excluded: 0)\n",
      "Structure exists: 'data/PSCDB/PDB_structures/pdb2e2n.ent' \n",
      "Structure exists: 'data/PSCDB/PDB_structures/pdb2e2o.ent' \n"
     ]
    },
    {
     "name": "stderr",
     "output_type": "stream",
     "text": [
      "  3%|▎         | 25/891 [00:09<03:45,  3.85it/s]"
     ]
    },
    {
     "name": "stdout",
     "output_type": "stream",
     "text": [
      "Aligned 298 residues (Free: 298, Bound: 299, Excluded: 1)\n",
      "Structure exists: 'data/PSCDB/PDB_structures/pdb1sjs.ent' \n",
      "Structure exists: 'data/PSCDB/PDB_structures/pdb1pb1.ent' \n"
     ]
    },
    {
     "name": "stderr",
     "output_type": "stream",
     "text": [
      "  3%|▎         | 26/891 [00:09<04:12,  3.43it/s]"
     ]
    },
    {
     "name": "stdout",
     "output_type": "stream",
     "text": [
      "Aligned 415 residues (Free: 415, Bound: 416, Excluded: 1)\n",
      "Structure exists: 'data/PSCDB/PDB_structures/pdb1xk7.ent' \n"
     ]
    },
    {
     "name": "stderr",
     "output_type": "stream",
     "text": [
      "  3%|▎         | 27/891 [00:10<04:07,  3.50it/s]"
     ]
    },
    {
     "name": "stdout",
     "output_type": "stream",
     "text": [
      "Structure exists: 'data/PSCDB/PDB_structures/pdb1xvt.ent' \n",
      "Aligned 386 residues (Free: 390, Bound: 386, Excluded: 4)\n",
      "Structure exists: 'data/PSCDB/PDB_structures/pdb2f7m.ent' \n",
      "Structure exists: 'data/PSCDB/PDB_structures/pdb2f8z.ent' \n"
     ]
    },
    {
     "name": "stderr",
     "output_type": "stream",
     "text": [
      "  3%|▎         | 29/891 [00:10<03:01,  4.75it/s]"
     ]
    },
    {
     "name": "stdout",
     "output_type": "stream",
     "text": [
      "Aligned 341 residues (Free: 341, Bound: 346, Excluded: 5)\n",
      "Structure exists: 'data/PSCDB/PDB_structures/pdb2znd.ent' \n",
      "Structure exists: 'data/PSCDB/PDB_structures/pdb2zn9.ent' \n",
      "Aligned 165 residues (Free: 167, Bound: 169, Excluded: 6)\n",
      "Structure exists: 'data/PSCDB/PDB_structures/pdb1x0a.ent' \n",
      "Structure exists: 'data/PSCDB/PDB_structures/pdb1vbi.ent' \n"
     ]
    },
    {
     "name": "stderr",
     "output_type": "stream",
     "text": [
      "  3%|▎         | 30/891 [00:10<02:45,  5.19it/s]"
     ]
    },
    {
     "name": "stdout",
     "output_type": "stream",
     "text": [
      "Aligned 340 residues (Free: 344, Bound: 340, Excluded: 4)\n",
      "Structure exists: 'data/PSCDB/PDB_structures/pdb1oid.ent' \n",
      "Structure exists: 'data/PSCDB/PDB_structures/pdb1ho5.ent' \n"
     ]
    },
    {
     "name": "stderr",
     "output_type": "stream",
     "text": [
      "  3%|▎         | 31/891 [00:11<05:12,  2.75it/s]"
     ]
    },
    {
     "name": "stdout",
     "output_type": "stream",
     "text": [
      "Aligned 525 residues (Free: 525, Bound: 525, Excluded: 0)\n",
      "Structure exists: 'data/PSCDB/PDB_structures/pdb3d8r.ent' \n",
      "Structure exists: 'data/PSCDB/PDB_structures/pdb3d8n.ent' \n"
     ]
    },
    {
     "name": "stderr",
     "output_type": "stream",
     "text": [
      "  4%|▎         | 32/891 [00:11<04:22,  3.27it/s]"
     ]
    },
    {
     "name": "stdout",
     "output_type": "stream",
     "text": [
      "Aligned 250 residues (Free: 253, Bound: 250, Excluded: 3)\n",
      "Structure exists: 'data/PSCDB/PDB_structures/pdb1zty.ent' \n",
      "Structure exists: 'data/PSCDB/PDB_structures/pdb1zu0.ent' \n"
     ]
    },
    {
     "name": "stderr",
     "output_type": "stream",
     "text": [
      "  4%|▎         | 33/891 [00:11<05:20,  2.68it/s]"
     ]
    },
    {
     "name": "stdout",
     "output_type": "stream",
     "text": [
      "Aligned 528 residues (Free: 528, Bound: 529, Excluded: 1)\n",
      "Structure exists: 'data/PSCDB/PDB_structures/pdb1z15.ent' \n",
      "Structure exists: 'data/PSCDB/PDB_structures/pdb1z17.ent' \n",
      "Aligned 344 residues (Free: 344, Bound: 344, Excluded: 0)\n"
     ]
    },
    {
     "name": "stderr",
     "output_type": "stream",
     "text": [
      "  4%|▍         | 35/891 [00:12<03:54,  3.65it/s]"
     ]
    },
    {
     "name": "stdout",
     "output_type": "stream",
     "text": [
      "Structure exists: 'data/PSCDB/PDB_structures/pdb1l5t.ent' \n",
      "Structure exists: 'data/PSCDB/PDB_structures/pdb1lct.ent' \n",
      "Aligned 324 residues (Free: 329, Bound: 324, Excluded: 5)\n",
      "Structure exists: 'data/PSCDB/PDB_structures/pdb2ghb.ent' \n"
     ]
    },
    {
     "name": "stderr",
     "output_type": "stream",
     "text": [
      "  4%|▍         | 36/891 [00:12<04:06,  3.47it/s]"
     ]
    },
    {
     "name": "stdout",
     "output_type": "stream",
     "text": [
      "Structure exists: 'data/PSCDB/PDB_structures/pdb2gha.ent' \n",
      "Aligned 373 residues (Free: 373, Bound: 374, Excluded: 1)\n",
      "Structure exists: 'data/PSCDB/PDB_structures/pdb2uvg.ent' \n"
     ]
    },
    {
     "name": "stderr",
     "output_type": "stream",
     "text": [
      "  4%|▍         | 37/891 [00:13<05:46,  2.47it/s]"
     ]
    },
    {
     "name": "stdout",
     "output_type": "stream",
     "text": [
      "Structure exists: 'data/PSCDB/PDB_structures/pdb2uvi.ent' \n",
      "Aligned 401 residues (Free: 401, Bound: 404, Excluded: 3)\n",
      "Structure exists: 'data/PSCDB/PDB_structures/pdb2c00.ent' \n"
     ]
    },
    {
     "name": "stderr",
     "output_type": "stream",
     "text": [
      "  4%|▍         | 38/891 [00:13<04:57,  2.87it/s]"
     ]
    },
    {
     "name": "stdout",
     "output_type": "stream",
     "text": [
      "Structure exists: 'data/PSCDB/PDB_structures/pdb2vqd.ent' \n",
      "Aligned 440 residues (Free: 440, Bound: 447, Excluded: 7)\n",
      "Structure exists: 'data/PSCDB/PDB_structures/pdb1zkb.ent' \n",
      "Structure exists: 'data/PSCDB/PDB_structures/pdb1jvy.ent' \n",
      "Aligned 368 residues (Free: 370, Bound: 369, Excluded: 3)\n"
     ]
    },
    {
     "name": "stderr",
     "output_type": "stream",
     "text": [
      "  4%|▍         | 40/891 [00:13<03:27,  4.11it/s]"
     ]
    },
    {
     "name": "stdout",
     "output_type": "stream",
     "text": [
      "Structure exists: 'data/PSCDB/PDB_structures/pdb1ex6.ent' \n",
      "Structure exists: 'data/PSCDB/PDB_structures/pdb1gky.ent' \n",
      "Aligned 186 residues (Free: 186, Bound: 186, Excluded: 0)\n",
      "Structure exists: 'data/PSCDB/PDB_structures/pdb3c6q.ent' \n",
      "Structure exists: 'data/PSCDB/PDB_structures/pdb3c6q.ent' \n"
     ]
    },
    {
     "name": "stderr",
     "output_type": "stream",
     "text": [
      "  5%|▍         | 41/891 [00:14<05:52,  2.41it/s]"
     ]
    },
    {
     "name": "stdout",
     "output_type": "stream",
     "text": [
      "Aligned 305 residues (Free: 305, Bound: 305, Excluded: 0)\n",
      "Structure exists: 'data/PSCDB/PDB_structures/pdb2q5r.ent' \n",
      "Structure exists: 'data/PSCDB/PDB_structures/pdb2jg1.ent' \n"
     ]
    },
    {
     "name": "stderr",
     "output_type": "stream",
     "text": [
      "  5%|▍         | 43/891 [00:15<05:33,  2.54it/s]"
     ]
    },
    {
     "name": "stdout",
     "output_type": "stream",
     "text": [
      "Aligned 314 residues (Free: 316, Bound: 314, Excluded: 2)\n",
      "Structure exists: 'data/PSCDB/PDB_structures/pdb1lio.ent' \n",
      "Structure exists: 'data/PSCDB/PDB_structures/pdb1lii.ent' \n",
      "Aligned 328 residues (Free: 329, Bound: 331, Excluded: 4)\n",
      "Structure exists: 'data/PSCDB/PDB_structures/pdb1xgd.ent' \n"
     ]
    },
    {
     "name": "stderr",
     "output_type": "stream",
     "text": [
      "  5%|▍         | 44/891 [00:15<04:41,  3.01it/s]"
     ]
    },
    {
     "name": "stdout",
     "output_type": "stream",
     "text": [
      "Structure exists: 'data/PSCDB/PDB_structures/pdb1ef3.ent' \n",
      "Aligned 315 residues (Free: 315, Bound: 315, Excluded: 0)\n",
      "Structure exists: 'data/PSCDB/PDB_structures/pdb2brw.ent' \n",
      "Structure exists: 'data/PSCDB/PDB_structures/pdb1ojp.ent' \n",
      "Aligned 721 residues (Free: 721, Bound: 722, Excluded: 1)\n"
     ]
    },
    {
     "name": "stderr",
     "output_type": "stream",
     "text": [
      "  5%|▌         | 46/891 [00:16<04:57,  2.84it/s]"
     ]
    },
    {
     "name": "stdout",
     "output_type": "stream",
     "text": [
      "Structure exists: 'data/PSCDB/PDB_structures/pdb1jej.ent' \n",
      "Structure exists: 'data/PSCDB/PDB_structures/pdb1qkj.ent' \n",
      "Aligned 351 residues (Free: 351, Bound: 351, Excluded: 0)\n",
      "Structure exists: 'data/PSCDB/PDB_structures/pdb2cgk.ent' \n"
     ]
    },
    {
     "name": "stderr",
     "output_type": "stream",
     "text": [
      "  5%|▌         | 47/891 [00:16<04:30,  3.12it/s]"
     ]
    },
    {
     "name": "stdout",
     "output_type": "stream",
     "text": [
      "Structure exists: 'data/PSCDB/PDB_structures/pdb2uyt.ent' \n",
      "Aligned 478 residues (Free: 478, Bound: 479, Excluded: 1)\n",
      "Structure exists: 'data/PSCDB/PDB_structures/pdb1a48.ent' \n",
      "Structure exists: 'data/PSCDB/PDB_structures/pdb2cnq.ent' \n"
     ]
    },
    {
     "name": "stderr",
     "output_type": "stream",
     "text": [
      "  5%|▌         | 49/891 [00:17<03:28,  4.03it/s]"
     ]
    },
    {
     "name": "stdout",
     "output_type": "stream",
     "text": [
      "Aligned 297 residues (Free: 298, Bound: 301, Excluded: 5)\n",
      "Structure exists: 'data/PSCDB/PDB_structures/pdb2qrj.ent' \n",
      "Structure exists: 'data/PSCDB/PDB_structures/pdb2qrl.ent' \n",
      "Aligned 365 residues (Free: 365, Bound: 371, Excluded: 6)\n",
      "Structure exists: 'data/PSCDB/PDB_structures/pdb2ous.ent' \n"
     ]
    },
    {
     "name": "stderr",
     "output_type": "stream",
     "text": [
      "  6%|▌         | 50/891 [00:17<05:08,  2.72it/s]"
     ]
    },
    {
     "name": "stdout",
     "output_type": "stream",
     "text": [
      "Structure exists: 'data/PSCDB/PDB_structures/pdb2ouu.ent' \n",
      "Aligned 326 residues (Free: 326, Bound: 329, Excluded: 3)\n",
      "Structure exists: 'data/PSCDB/PDB_structures/pdb1fwl.ent' \n"
     ]
    },
    {
     "name": "stderr",
     "output_type": "stream",
     "text": [
      "  6%|▌         | 51/891 [00:18<05:05,  2.75it/s]"
     ]
    },
    {
     "name": "stdout",
     "output_type": "stream",
     "text": [
      "Structure exists: 'data/PSCDB/PDB_structures/pdb1h72.ent' \n",
      "No common residues between 1fwl and 1h72\n",
      "Structure exists: 'data/PSCDB/PDB_structures/pdb1yhk.ent' \n",
      "Structure exists: 'data/PSCDB/PDB_structures/pdb1yhm.ent' \n"
     ]
    },
    {
     "name": "stderr",
     "output_type": "stream",
     "text": [
      "  6%|▌         | 53/891 [00:18<04:32,  3.08it/s]"
     ]
    },
    {
     "name": "stdout",
     "output_type": "stream",
     "text": [
      "Aligned 345 residues (Free: 360, Bound: 347, Excluded: 17)\n",
      "Structure exists: 'data/PSCDB/PDB_structures/pdb1eym.ent' \n",
      "Structure exists: 'data/PSCDB/PDB_structures/pdb1j4r.ent' \n",
      "Aligned 107 residues (Free: 107, Bound: 107, Excluded: 0)\n",
      "Structure exists: 'data/PSCDB/PDB_structures/pdb1meo.ent' \n",
      "Structure exists: 'data/PSCDB/PDB_structures/pdb1rby.ent' \n"
     ]
    },
    {
     "name": "stderr",
     "output_type": "stream",
     "text": [
      "  6%|▌         | 54/891 [00:18<04:12,  3.31it/s]"
     ]
    },
    {
     "name": "stdout",
     "output_type": "stream",
     "text": [
      "Aligned 197 residues (Free: 202, Bound: 200, Excluded: 8)\n",
      "Structure exists: 'data/PSCDB/PDB_structures/pdb2q50.ent' \n"
     ]
    },
    {
     "name": "stderr",
     "output_type": "stream",
     "text": [
      "  6%|▌         | 55/891 [00:20<10:20,  1.35it/s]"
     ]
    },
    {
     "name": "stdout",
     "output_type": "stream",
     "text": [
      "Structure exists: 'data/PSCDB/PDB_structures/pdb2gcg.ent' \n",
      "Aligned 316 residues (Free: 316, Bound: 324, Excluded: 8)\n",
      "Structure exists: 'data/PSCDB/PDB_structures/pdb1yj4.ent' \n",
      "Structure exists: 'data/PSCDB/PDB_structures/pdb1yyr.ent' \n"
     ]
    },
    {
     "name": "stderr",
     "output_type": "stream",
     "text": [
      "  6%|▋         | 56/891 [00:21<10:55,  1.27it/s]"
     ]
    },
    {
     "name": "stdout",
     "output_type": "stream",
     "text": [
      "Aligned 353 residues (Free: 354, Bound: 353, Excluded: 1)\n",
      "Structure exists: 'data/PSCDB/PDB_structures/pdb2cbi.ent' \n",
      "Structure exists: 'data/PSCDB/PDB_structures/pdb2j62.ent' \n",
      "Aligned 584 residues (Free: 584, Bound: 585, Excluded: 1)\n"
     ]
    },
    {
     "name": "stderr",
     "output_type": "stream",
     "text": [
      "  7%|▋         | 58/891 [00:22<07:21,  1.89it/s]"
     ]
    },
    {
     "name": "stdout",
     "output_type": "stream",
     "text": [
      "Structure exists: 'data/PSCDB/PDB_structures/pdb1sbq.ent' \n",
      "Structure exists: 'data/PSCDB/PDB_structures/pdb1u3g.ent' \n",
      "Aligned 164 residues (Free: 164, Bound: 164, Excluded: 0)\n",
      "Structure exists: 'data/PSCDB/PDB_structures/pdb1g7r.ent' \n",
      "Structure exists: 'data/PSCDB/PDB_structures/pdb1g7t.ent' \n"
     ]
    },
    {
     "name": "stderr",
     "output_type": "stream",
     "text": [
      "  7%|▋         | 59/891 [00:22<07:38,  1.81it/s]"
     ]
    },
    {
     "name": "stdout",
     "output_type": "stream",
     "text": [
      "Aligned 537 residues (Free: 542, Bound: 569, Excluded: 37)\n",
      "Structure exists: 'data/PSCDB/PDB_structures/pdb1bbw.ent' \n"
     ]
    },
    {
     "name": "stderr",
     "output_type": "stream",
     "text": [
      "  7%|▋         | 60/891 [00:23<06:30,  2.13it/s]"
     ]
    },
    {
     "name": "stdout",
     "output_type": "stream",
     "text": [
      "Structure exists: 'data/PSCDB/PDB_structures/pdb1bbu.ent' \n",
      "Aligned 469 residues (Free: 469, Bound: 486, Excluded: 17)\n",
      "Structure exists: 'data/PSCDB/PDB_structures/pdb1h4v.ent' \n"
     ]
    },
    {
     "name": "stderr",
     "output_type": "stream",
     "text": [
      "  7%|▋         | 61/891 [00:23<05:39,  2.45it/s]"
     ]
    },
    {
     "name": "stdout",
     "output_type": "stream",
     "text": [
      "Structure exists: 'data/PSCDB/PDB_structures/pdb1ady.ent' \n",
      "No common residues between 1h4v and 1ady\n",
      "Structure exists: 'data/PSCDB/PDB_structures/pdb2olu.ent' \n",
      "Structure exists: 'data/PSCDB/PDB_structures/pdb2olv.ent' \n"
     ]
    },
    {
     "name": "stderr",
     "output_type": "stream",
     "text": [
      "  7%|▋         | 62/891 [00:24<06:29,  2.13it/s]"
     ]
    },
    {
     "name": "stdout",
     "output_type": "stream",
     "text": [
      "Aligned 591 residues (Free: 596, Bound: 605, Excluded: 19)\n",
      "Structure exists: 'data/PSCDB/PDB_structures/pdb2ns7.ent' \n",
      "Structure exists: 'data/PSCDB/PDB_structures/pdb2ns8.ent' \n"
     ]
    },
    {
     "name": "stderr",
     "output_type": "stream",
     "text": [
      "  7%|▋         | 63/891 [00:24<05:38,  2.45it/s]"
     ]
    },
    {
     "name": "stdout",
     "output_type": "stream",
     "text": [
      "Aligned 192 residues (Free: 196, Bound: 200, Excluded: 12)\n",
      "Structure exists: 'data/PSCDB/PDB_structures/pdb1o17.ent' \n",
      "Structure exists: 'data/PSCDB/PDB_structures/pdb1zxy.ent' \n"
     ]
    },
    {
     "name": "stderr",
     "output_type": "stream",
     "text": [
      "  7%|▋         | 65/891 [00:25<05:11,  2.65it/s]"
     ]
    },
    {
     "name": "stdout",
     "output_type": "stream",
     "text": [
      "Aligned 339 residues (Free: 339, Bound: 344, Excluded: 5)\n",
      "Structure exists: 'data/PSCDB/PDB_structures/pdb1z9u.ent' \n",
      "Structure exists: 'data/PSCDB/PDB_structures/pdb1s7n.ent' \n",
      "Aligned 172 residues (Free: 172, Bound: 177, Excluded: 5)\n"
     ]
    },
    {
     "name": "stderr",
     "output_type": "stream",
     "text": [
      "  7%|▋         | 66/891 [00:25<04:19,  3.18it/s]"
     ]
    },
    {
     "name": "stdout",
     "output_type": "stream",
     "text": [
      "Structure exists: 'data/PSCDB/PDB_structures/pdb2hni.ent' \n",
      "Structure exists: 'data/PSCDB/PDB_structures/pdb2dth.ent' \n",
      "Aligned 230 residues (Free: 230, Bound: 235, Excluded: 5)\n",
      "Structure exists: 'data/PSCDB/PDB_structures/pdb1e0d.ent' \n",
      "Structure exists: 'data/PSCDB/PDB_structures/pdb1eeh.ent' \n"
     ]
    },
    {
     "name": "stderr",
     "output_type": "stream",
     "text": [
      "  8%|▊         | 67/891 [00:25<04:49,  2.85it/s]"
     ]
    },
    {
     "name": "stdout",
     "output_type": "stream",
     "text": [
      "Aligned 423 residues (Free: 429, Bound: 431, Excluded: 14)\n",
      "Structure exists: 'data/PSCDB/PDB_structures/pdb1ynf.ent' \n",
      "Structure exists: 'data/PSCDB/PDB_structures/pdb1ynh.ent' \n"
     ]
    },
    {
     "name": "stderr",
     "output_type": "stream",
     "text": [
      "  8%|▊         | 69/891 [00:26<05:11,  2.64it/s]"
     ]
    },
    {
     "name": "stdout",
     "output_type": "stream",
     "text": [
      "Aligned 419 residues (Free: 420, Bound: 439, Excluded: 21)\n",
      "Structure exists: 'data/PSCDB/PDB_structures/pdb1vgt.ent' \n",
      "Structure exists: 'data/PSCDB/PDB_structures/pdb1i52.ent' \n",
      "Aligned 207 residues (Free: 207, Bound: 225, Excluded: 18)\n",
      "Structure exists: 'data/PSCDB/PDB_structures/pdb2nxc.ent' \n"
     ]
    },
    {
     "name": "stderr",
     "output_type": "stream",
     "text": [
      "  8%|▊         | 70/891 [00:26<04:13,  3.24it/s]"
     ]
    },
    {
     "name": "stdout",
     "output_type": "stream",
     "text": [
      "Structure exists: 'data/PSCDB/PDB_structures/pdb2nxe.ent' \n",
      "Aligned 249 residues (Free: 249, Bound: 254, Excluded: 5)\n",
      "Structure exists: 'data/PSCDB/PDB_structures/pdb1l7d.ent' \n",
      "Structure exists: 'data/PSCDB/PDB_structures/pdb1l7e.ent' \n"
     ]
    },
    {
     "name": "stderr",
     "output_type": "stream",
     "text": [
      "  8%|▊         | 71/891 [00:27<05:57,  2.29it/s]"
     ]
    },
    {
     "name": "stdout",
     "output_type": "stream",
     "text": [
      "Aligned 354 residues (Free: 354, Bound: 372, Excluded: 18)\n",
      "Structure exists: 'data/PSCDB/PDB_structures/pdb2gk7.ent' \n",
      "Structure exists: 'data/PSCDB/PDB_structures/pdb2gk6.ent' \n"
     ]
    },
    {
     "name": "stderr",
     "output_type": "stream",
     "text": [
      "  8%|▊         | 72/891 [00:27<05:46,  2.36it/s]"
     ]
    },
    {
     "name": "stdout",
     "output_type": "stream",
     "text": [
      "Aligned 582 residues (Free: 596, Bound: 602, Excluded: 34)\n",
      "Structure exists: 'data/PSCDB/PDB_structures/pdb1fmv.ent' \n",
      "Structure exists: 'data/PSCDB/PDB_structures/pdb1w9j.ent' \n"
     ]
    },
    {
     "name": "stderr",
     "output_type": "stream",
     "text": [
      "  8%|▊         | 73/891 [00:28<06:42,  2.03it/s]"
     ]
    },
    {
     "name": "stdout",
     "output_type": "stream",
     "text": [
      "Aligned 718 residues (Free: 743, Bound: 728, Excluded: 35)\n",
      "Structure exists: 'data/PSCDB/PDB_structures/pdb2gt1.ent' \n",
      "Structure exists: 'data/PSCDB/PDB_structures/pdb2h1f.ent' \n"
     ]
    },
    {
     "name": "stderr",
     "output_type": "stream",
     "text": [
      "  8%|▊         | 74/891 [00:28<05:38,  2.41it/s]"
     ]
    },
    {
     "name": "stdout",
     "output_type": "stream",
     "text": [
      "Aligned 320 residues (Free: 323, Bound: 320, Excluded: 3)\n",
      "Structure exists: 'data/PSCDB/PDB_structures/pdb2o1p.ent' \n"
     ]
    },
    {
     "name": "stderr",
     "output_type": "stream",
     "text": [
      "  8%|▊         | 75/891 [00:29<05:29,  2.48it/s]"
     ]
    },
    {
     "name": "stdout",
     "output_type": "stream",
     "text": [
      "Structure exists: 'data/PSCDB/PDB_structures/pdb2hhp.ent' \n",
      "Aligned 508 residues (Free: 523, Bound: 508, Excluded: 15)\n",
      "Structure exists: 'data/PSCDB/PDB_structures/pdb1w2f.ent' \n",
      "Structure exists: 'data/PSCDB/PDB_structures/pdb1w2d.ent' \n"
     ]
    },
    {
     "name": "stderr",
     "output_type": "stream",
     "text": [
      "  9%|▊         | 76/891 [00:29<06:34,  2.07it/s]"
     ]
    },
    {
     "name": "stdout",
     "output_type": "stream",
     "text": [
      "Aligned 260 residues (Free: 270, Bound: 265, Excluded: 15)\n",
      "Structure exists: 'data/PSCDB/PDB_structures/pdb2qmr.ent' \n",
      "Structure exists: 'data/PSCDB/PDB_structures/pdb2z5k.ent' \n"
     ]
    },
    {
     "name": "stderr",
     "output_type": "stream",
     "text": [
      "  9%|▊         | 77/891 [00:30<09:14,  1.47it/s]"
     ]
    },
    {
     "name": "stdout",
     "output_type": "stream",
     "text": [
      "Aligned 835 residues (Free: 835, Bound: 840, Excluded: 5)\n",
      "Structure exists: 'data/PSCDB/PDB_structures/pdb2fh4.ent' \n",
      "Structure exists: 'data/PSCDB/PDB_structures/pdb1p8x.ent' \n",
      "Aligned 307 residues (Free: 307, Bound: 316, Excluded: 9)\n"
     ]
    },
    {
     "name": "stderr",
     "output_type": "stream",
     "text": [
      "  9%|▉         | 79/891 [00:31<06:06,  2.22it/s]"
     ]
    },
    {
     "name": "stdout",
     "output_type": "stream",
     "text": [
      "Structure exists: 'data/PSCDB/PDB_structures/pdb1smt.ent' \n",
      "Structure exists: 'data/PSCDB/PDB_structures/pdb1r22.ent' \n",
      "Aligned 93 residues (Free: 98, Bound: 93, Excluded: 5)\n",
      "Structure exists: 'data/PSCDB/PDB_structures/pdb1tqd.ent' \n"
     ]
    },
    {
     "name": "stderr",
     "output_type": "stream",
     "text": [
      "  9%|▉         | 80/891 [00:31<05:21,  2.52it/s]"
     ]
    },
    {
     "name": "stdout",
     "output_type": "stream",
     "text": [
      "Structure exists: 'data/PSCDB/PDB_structures/pdb1tq6.ent' \n",
      "Aligned 385 residues (Free: 385, Bound: 402, Excluded: 17)\n",
      "Structure exists: 'data/PSCDB/PDB_structures/pdb2pkf.ent' \n"
     ]
    },
    {
     "name": "stderr",
     "output_type": "stream",
     "text": [
      "  9%|▉         | 81/891 [00:32<06:31,  2.07it/s]"
     ]
    },
    {
     "name": "stdout",
     "output_type": "stream",
     "text": [
      "Structure exists: 'data/PSCDB/PDB_structures/pdb2pkn.ent' \n",
      "Aligned 323 residues (Free: 332, Bound: 323, Excluded: 9)\n",
      "Structure exists: 'data/PSCDB/PDB_structures/pdb2o5p.ent' \n"
     ]
    },
    {
     "name": "stderr",
     "output_type": "stream",
     "text": [
      "  9%|▉         | 82/891 [00:32<06:25,  2.10it/s]"
     ]
    },
    {
     "name": "stdout",
     "output_type": "stream",
     "text": [
      "Structure exists: 'data/PSCDB/PDB_structures/pdb2iah.ent' \n",
      "Aligned 752 residues (Free: 772, Bound: 752, Excluded: 20)\n",
      "Structure exists: 'data/PSCDB/PDB_structures/pdb3csg.ent' \n",
      "Structure exists: 'data/PSCDB/PDB_structures/pdb3csb.ent' \n"
     ]
    },
    {
     "name": "stderr",
     "output_type": "stream",
     "text": [
      "  9%|▉         | 84/891 [00:33<05:01,  2.68it/s]"
     ]
    },
    {
     "name": "stdout",
     "output_type": "stream",
     "text": [
      "Aligned 458 residues (Free: 458, Bound: 464, Excluded: 6)\n",
      "Structure exists: 'data/PSCDB/PDB_structures/pdb2gf7.ent' \n",
      "Structure exists: 'data/PSCDB/PDB_structures/pdb2gfa.ent' \n",
      "Aligned 105 residues (Free: 115, Bound: 107, Excluded: 12)\n",
      "Structure exists: 'data/PSCDB/PDB_structures/pdb2ec5.ent' \n"
     ]
    },
    {
     "name": "stderr",
     "output_type": "stream",
     "text": [
      " 10%|▉         | 85/891 [00:33<04:34,  2.94it/s]"
     ]
    },
    {
     "name": "stdout",
     "output_type": "stream",
     "text": [
      "Structure exists: 'data/PSCDB/PDB_structures/pdb2ebf.ent' \n",
      "No common residues between 2ec5 and 2ebf\n",
      "Structure exists: 'data/PSCDB/PDB_structures/pdb1j8t.ent' \n",
      "Structure exists: 'data/PSCDB/PDB_structures/pdb1mmt.ent' \n",
      "Aligned 307 residues (Free: 307, Bound: 308, Excluded: 1)\n"
     ]
    },
    {
     "name": "stderr",
     "output_type": "stream",
     "text": [
      " 10%|▉         | 86/891 [00:33<03:44,  3.59it/s]"
     ]
    },
    {
     "name": "stdout",
     "output_type": "stream",
     "text": [
      "Structure exists: 'data/PSCDB/PDB_structures/pdb1e4f.ent' \n"
     ]
    },
    {
     "name": "stderr",
     "output_type": "stream",
     "text": [
      " 10%|▉         | 87/891 [00:34<04:22,  3.06it/s]"
     ]
    },
    {
     "name": "stdout",
     "output_type": "stream",
     "text": [
      "Structure exists: 'data/PSCDB/PDB_structures/pdb1e4g.ent' \n",
      "Aligned 372 residues (Free: 378, Bound: 375, Excluded: 9)\n",
      "Structure exists: 'data/PSCDB/PDB_structures/pdb2ps3.ent' \n",
      "Structure exists: 'data/PSCDB/PDB_structures/pdb2ps0.ent' \n"
     ]
    },
    {
     "name": "stderr",
     "output_type": "stream",
     "text": [
      " 10%|▉         | 88/891 [00:34<04:15,  3.14it/s]"
     ]
    },
    {
     "name": "stdout",
     "output_type": "stream",
     "text": [
      "Aligned 264 residues (Free: 265, Bound: 264, Excluded: 1)\n",
      "Structure exists: 'data/PSCDB/PDB_structures/pdb1gu7.ent' \n",
      "Structure exists: 'data/PSCDB/PDB_structures/pdb1guf.ent' \n"
     ]
    },
    {
     "name": "stderr",
     "output_type": "stream",
     "text": [
      " 10%|▉         | 89/891 [00:34<04:01,  3.33it/s]"
     ]
    },
    {
     "name": "stdout",
     "output_type": "stream",
     "text": [
      "Aligned 364 residues (Free: 364, Bound: 364, Excluded: 0)\n",
      "Structure exists: 'data/PSCDB/PDB_structures/pdb1bet.ent' \n",
      "Structure exists: 'data/PSCDB/PDB_structures/pdb1btg.ent' \n",
      "Aligned 107 residues (Free: 107, Bound: 108, Excluded: 1)\n",
      "Structure exists: 'data/PSCDB/PDB_structures/pdb1r5d.ent' \n"
     ]
    },
    {
     "name": "stderr",
     "output_type": "stream",
     "text": [
      " 10%|█         | 91/891 [00:35<03:32,  3.77it/s]"
     ]
    },
    {
     "name": "stdout",
     "output_type": "stream",
     "text": [
      "Structure exists: 'data/PSCDB/PDB_structures/pdb1tq9.ent' \n",
      "Aligned 122 residues (Free: 124, Bound: 122, Excluded: 2)\n",
      "Structure exists: 'data/PSCDB/PDB_structures/pdb2hyg.ent' \n",
      "Structure exists: 'data/PSCDB/PDB_structures/pdb2f5f.ent' \n",
      "No common residues between 2hyg and 2f5f\n",
      "Structure exists: 'data/PSCDB/PDB_structures/pdb1eut.ent' \n"
     ]
    },
    {
     "name": "stderr",
     "output_type": "stream",
     "text": [
      " 10%|█         | 93/891 [00:35<02:58,  4.46it/s]"
     ]
    },
    {
     "name": "stdout",
     "output_type": "stream",
     "text": [
      "Structure exists: 'data/PSCDB/PDB_structures/pdb1w8n.ent' \n",
      "Aligned 601 residues (Free: 601, Bound: 601, Excluded: 0)\n",
      "Structure exists: 'data/PSCDB/PDB_structures/pdb1qmt.ent' \n",
      "Structure exists: 'data/PSCDB/PDB_structures/pdb1dyt.ent' \n"
     ]
    },
    {
     "name": "stderr",
     "output_type": "stream",
     "text": [
      " 11%|█         | 95/891 [00:35<02:22,  5.59it/s]"
     ]
    },
    {
     "name": "stdout",
     "output_type": "stream",
     "text": [
      "Aligned 133 residues (Free: 134, Bound: 133, Excluded: 1)\n",
      "Structure exists: 'data/PSCDB/PDB_structures/pdb3eug.ent' \n",
      "Structure exists: 'data/PSCDB/PDB_structures/pdb1flz.ent' \n",
      "Aligned 225 residues (Free: 225, Bound: 228, Excluded: 3)\n",
      "Structure exists: 'data/PSCDB/PDB_structures/pdb1wxx.ent' \n"
     ]
    },
    {
     "name": "stderr",
     "output_type": "stream",
     "text": [
      " 11%|█         | 96/891 [00:36<03:27,  3.83it/s]"
     ]
    },
    {
     "name": "stdout",
     "output_type": "stream",
     "text": [
      "Structure exists: 'data/PSCDB/PDB_structures/pdb2cww.ent' \n",
      "Aligned 372 residues (Free: 378, Bound: 376, Excluded: 10)\n",
      "Structure exists: 'data/PSCDB/PDB_structures/pdb1fzr.ent' \n",
      "Structure exists: 'data/PSCDB/PDB_structures/pdb1m0d.ent' \n"
     ]
    },
    {
     "name": "stderr",
     "output_type": "stream",
     "text": [
      " 11%|█         | 97/891 [00:36<03:13,  4.10it/s]"
     ]
    },
    {
     "name": "stdout",
     "output_type": "stream",
     "text": [
      "Aligned 129 residues (Free: 129, Bound: 129, Excluded: 0)\n",
      "Structure exists: 'data/PSCDB/PDB_structures/pdb1ogb.ent' \n",
      "Structure exists: 'data/PSCDB/PDB_structures/pdb1w1y.ent' \n"
     ]
    },
    {
     "name": "stderr",
     "output_type": "stream",
     "text": [
      " 11%|█         | 98/891 [00:37<04:19,  3.05it/s]"
     ]
    },
    {
     "name": "stdout",
     "output_type": "stream",
     "text": [
      "Aligned 496 residues (Free: 497, Bound: 496, Excluded: 1)\n",
      "Structure exists: 'data/PSCDB/PDB_structures/pdb1dpg.ent' \n",
      "Structure exists: 'data/PSCDB/PDB_structures/pdb2dpg.ent' \n"
     ]
    },
    {
     "name": "stderr",
     "output_type": "stream",
     "text": [
      " 11%|█         | 99/891 [00:37<04:06,  3.22it/s]"
     ]
    },
    {
     "name": "stdout",
     "output_type": "stream",
     "text": [
      "Aligned 485 residues (Free: 485, Bound: 485, Excluded: 0)\n",
      "Structure exists: 'data/PSCDB/PDB_structures/pdb1r0s.ent' \n",
      "Structure exists: 'data/PSCDB/PDB_structures/pdb1r15.ent' \n"
     ]
    },
    {
     "name": "stderr",
     "output_type": "stream",
     "text": [
      " 11%|█         | 100/891 [00:37<04:57,  2.66it/s]"
     ]
    },
    {
     "name": "stdout",
     "output_type": "stream",
     "text": [
      "Aligned 251 residues (Free: 251, Bound: 251, Excluded: 0)\n",
      "Structure exists: 'data/PSCDB/PDB_structures/pdb2cfo.ent' \n"
     ]
    },
    {
     "name": "stderr",
     "output_type": "stream",
     "text": [
      " 11%|█▏        | 101/891 [00:38<04:59,  2.64it/s]"
     ]
    },
    {
     "name": "stdout",
     "output_type": "stream",
     "text": [
      "Structure exists: 'data/PSCDB/PDB_structures/pdb2cfo.ent' \n",
      "Aligned 484 residues (Free: 484, Bound: 484, Excluded: 0)\n",
      "Structure exists: 'data/PSCDB/PDB_structures/pdb2i78.ent' \n",
      "Structure exists: 'data/PSCDB/PDB_structures/pdb1u8e.ent' \n",
      "Aligned 726 residues (Free: 726, Bound: 726, Excluded: 0)\n"
     ]
    },
    {
     "name": "stderr",
     "output_type": "stream",
     "text": [
      " 12%|█▏        | 104/891 [00:39<04:32,  2.88it/s]"
     ]
    },
    {
     "name": "stdout",
     "output_type": "stream",
     "text": [
      "Structure exists: 'data/PSCDB/PDB_structures/pdb1lr9.ent' \n",
      "Structure exists: 'data/PSCDB/PDB_structures/pdb1lr8.ent' \n",
      "Aligned 73 residues (Free: 73, Bound: 73, Excluded: 0)\n",
      "Structure exists: 'data/PSCDB/PDB_structures/pdb1dcl.ent' \n",
      "Structure exists: 'data/PSCDB/PDB_structures/pdb1mcs.ent' \n",
      "Aligned 216 residues (Free: 216, Bound: 216, Excluded: 0)\n",
      "Structure exists: 'data/PSCDB/PDB_structures/pdb1jyu.ent' \n"
     ]
    },
    {
     "name": "stderr",
     "output_type": "stream",
     "text": [
      " 12%|█▏        | 106/891 [00:40<03:45,  3.49it/s]"
     ]
    },
    {
     "name": "stdout",
     "output_type": "stream",
     "text": [
      "Structure exists: 'data/PSCDB/PDB_structures/pdb1jyr.ent' \n",
      "Aligned 96 residues (Free: 96, Bound: 96, Excluded: 0)\n",
      "Structure exists: 'data/PSCDB/PDB_structures/pdb3ezm.ent' \n",
      "Structure exists: 'data/PSCDB/PDB_structures/pdb1l5b.ent' \n",
      "Aligned 101 residues (Free: 101, Bound: 101, Excluded: 0)\n",
      "Structure exists: 'data/PSCDB/PDB_structures/pdb2qza.ent' \n",
      "Structure exists: 'data/PSCDB/PDB_structures/pdb2qyu.ent' \n",
      "Aligned 605 residues (Free: 605, Bound: 620, Excluded: 15)\n"
     ]
    },
    {
     "name": "stderr",
     "output_type": "stream",
     "text": [
      " 12%|█▏        | 107/891 [00:40<04:02,  3.24it/s]"
     ]
    },
    {
     "name": "stdout",
     "output_type": "stream",
     "text": [
      "Structure exists: 'data/PSCDB/PDB_structures/pdb3c3b.ent' \n",
      "Structure exists: 'data/PSCDB/PDB_structures/pdb2zgv.ent' \n",
      "Aligned 402 residues (Free: 403, Bound: 403, Excluded: 2)\n"
     ]
    },
    {
     "name": "stderr",
     "output_type": "stream",
     "text": [
      " 12%|█▏        | 108/891 [00:40<03:41,  3.53it/s]"
     ]
    },
    {
     "name": "stdout",
     "output_type": "stream",
     "text": [
      "Structure exists: 'data/PSCDB/PDB_structures/pdb2zc2.ent' \n",
      "Structure exists: 'data/PSCDB/PDB_structures/pdb2zc2.ent' \n",
      "Aligned 74 residues (Free: 74, Bound: 74, Excluded: 0)\n",
      "Structure exists: 'data/PSCDB/PDB_structures/pdb3deo.ent' \n"
     ]
    },
    {
     "name": "stderr",
     "output_type": "stream",
     "text": [
      " 12%|█▏        | 110/891 [00:41<03:23,  3.84it/s]"
     ]
    },
    {
     "name": "stdout",
     "output_type": "stream",
     "text": [
      "Structure exists: 'data/PSCDB/PDB_structures/pdb3dep.ent' \n",
      "Aligned 183 residues (Free: 183, Bound: 183, Excluded: 0)\n",
      "Structure exists: 'data/PSCDB/PDB_structures/pdb2v8i.ent' \n",
      "Structure exists: 'data/PSCDB/PDB_structures/pdb2v8j.ent' \n"
     ]
    },
    {
     "name": "stderr",
     "output_type": "stream",
     "text": [
      " 13%|█▎        | 112/891 [00:41<02:54,  4.47it/s]"
     ]
    },
    {
     "name": "stdout",
     "output_type": "stream",
     "text": [
      "Aligned 535 residues (Free: 543, Bound: 535, Excluded: 8)\n",
      "Structure exists: 'data/PSCDB/PDB_structures/pdb2vj2.ent' \n",
      "Structure exists: 'data/PSCDB/PDB_structures/pdb2vj2.ent' \n",
      "Aligned 149 residues (Free: 149, Bound: 149, Excluded: 0)\n",
      "Structure exists: 'data/PSCDB/PDB_structures/pdb1rki.ent' \n"
     ]
    },
    {
     "name": "stderr",
     "output_type": "stream",
     "text": [
      " 13%|█▎        | 113/891 [00:41<02:28,  5.24it/s]"
     ]
    },
    {
     "name": "stdout",
     "output_type": "stream",
     "text": [
      "Structure exists: 'data/PSCDB/PDB_structures/pdb1rki.ent' \n",
      "Aligned 101 residues (Free: 101, Bound: 101, Excluded: 0)\n",
      "Structure exists: 'data/PSCDB/PDB_structures/pdb3b8s.ent' \n",
      "Structure exists: 'data/PSCDB/PDB_structures/pdb3b9d.ent' \n"
     ]
    },
    {
     "name": "stderr",
     "output_type": "stream",
     "text": [
      " 13%|█▎        | 114/891 [00:42<03:55,  3.31it/s]"
     ]
    },
    {
     "name": "stdout",
     "output_type": "stream",
     "text": [
      "Aligned 567 residues (Free: 567, Bound: 567, Excluded: 0)\n",
      "Structure exists: 'data/PSCDB/PDB_structures/pdb2ddb.ent' \n",
      "Structure exists: 'data/PSCDB/PDB_structures/pdb2epf.ent' \n"
     ]
    },
    {
     "name": "stderr",
     "output_type": "stream",
     "text": [
      " 13%|█▎        | 115/891 [00:42<03:52,  3.34it/s]"
     ]
    },
    {
     "name": "stdout",
     "output_type": "stream",
     "text": [
      "Aligned 207 residues (Free: 207, Bound: 207, Excluded: 0)\n",
      "Structure exists: 'data/PSCDB/PDB_structures/pdb1oxs.ent' \n",
      "Structure exists: 'data/PSCDB/PDB_structures/pdb1oxu.ent' \n"
     ]
    },
    {
     "name": "stderr",
     "output_type": "stream",
     "text": [
      " 13%|█▎        | 117/891 [00:43<03:53,  3.31it/s]"
     ]
    },
    {
     "name": "stdout",
     "output_type": "stream",
     "text": [
      "No common residues between 1oxs and 1oxu\n",
      "Structure exists: 'data/PSCDB/PDB_structures/pdb2j4r.ent' \n",
      "Structure exists: 'data/PSCDB/PDB_structures/pdb1t6c.ent' \n",
      "Aligned 299 residues (Free: 299, Bound: 306, Excluded: 7)\n",
      "Structure exists: 'data/PSCDB/PDB_structures/pdb1uk2.ent' \n"
     ]
    },
    {
     "name": "stderr",
     "output_type": "stream",
     "text": [
      " 13%|█▎        | 118/891 [00:43<03:22,  3.81it/s]"
     ]
    },
    {
     "name": "stdout",
     "output_type": "stream",
     "text": [
      "Structure exists: 'data/PSCDB/PDB_structures/pdb2z3c.ent' \n",
      "Aligned 302 residues (Free: 302, Bound: 306, Excluded: 4)\n",
      "Structure exists: 'data/PSCDB/PDB_structures/pdb2dpy.ent' \n",
      "Structure exists: 'data/PSCDB/PDB_structures/pdb2dpy.ent' \n"
     ]
    },
    {
     "name": "stderr",
     "output_type": "stream",
     "text": [
      " 13%|█▎        | 119/891 [00:43<03:26,  3.74it/s]"
     ]
    },
    {
     "name": "stdout",
     "output_type": "stream",
     "text": [
      "Aligned 422 residues (Free: 422, Bound: 422, Excluded: 0)\n",
      "Structure exists: 'data/PSCDB/PDB_structures/pdb1g6y.ent' \n",
      "Structure exists: 'data/PSCDB/PDB_structures/pdb1jzr.ent' \n"
     ]
    },
    {
     "name": "stderr",
     "output_type": "stream",
     "text": [
      " 13%|█▎        | 120/891 [00:44<04:24,  2.91it/s]"
     ]
    },
    {
     "name": "stdout",
     "output_type": "stream",
     "text": [
      "Aligned 225 residues (Free: 245, Bound: 234, Excluded: 29)\n",
      "Structure exists: 'data/PSCDB/PDB_structures/pdb2o1c.ent' \n",
      "Structure exists: 'data/PSCDB/PDB_structures/pdb2o1c.ent' \n",
      "Aligned 147 residues (Free: 147, Bound: 147, Excluded: 0)\n"
     ]
    },
    {
     "name": "stderr",
     "output_type": "stream",
     "text": [
      " 14%|█▎        | 121/891 [00:44<03:50,  3.34it/s]"
     ]
    },
    {
     "name": "stdout",
     "output_type": "stream",
     "text": [
      "Structure exists: 'data/PSCDB/PDB_structures/pdb1g9u.ent' \n",
      "Structure exists: 'data/PSCDB/PDB_structures/pdb1jl5.ent' \n",
      "No common residues between 1g9u and 1jl5\n"
     ]
    },
    {
     "name": "stderr",
     "output_type": "stream",
     "text": [
      " 14%|█▎        | 122/891 [00:44<03:31,  3.64it/s]"
     ]
    },
    {
     "name": "stdout",
     "output_type": "stream",
     "text": [
      "Structure exists: 'data/PSCDB/PDB_structures/pdb1rif.ent' \n",
      "Structure exists: 'data/PSCDB/PDB_structures/pdb1rif.ent' \n"
     ]
    },
    {
     "name": "stderr",
     "output_type": "stream",
     "text": [
      " 14%|█▍        | 123/891 [00:44<04:18,  2.97it/s]"
     ]
    },
    {
     "name": "stdout",
     "output_type": "stream",
     "text": [
      "Aligned 282 residues (Free: 282, Bound: 282, Excluded: 0)\n",
      "Structure exists: 'data/PSCDB/PDB_structures/pdb2rjc.ent' \n",
      "Structure exists: 'data/PSCDB/PDB_structures/pdb2rhu.ent' \n"
     ]
    },
    {
     "name": "stderr",
     "output_type": "stream",
     "text": [
      " 14%|█▍        | 124/891 [00:45<04:00,  3.18it/s]"
     ]
    },
    {
     "name": "stdout",
     "output_type": "stream",
     "text": [
      "Aligned 311 residues (Free: 313, Bound: 323, Excluded: 14)\n",
      "Structure exists: 'data/PSCDB/PDB_structures/pdb1uln.ent' \n",
      "Structure exists: 'data/PSCDB/PDB_structures/pdb1uha.ent' \n",
      "Aligned 82 residues (Free: 82, Bound: 82, Excluded: 0)\n",
      "Structure exists: 'data/PSCDB/PDB_structures/pdb1wpo.ent' \n",
      "Structure exists: 'data/PSCDB/PDB_structures/pdb1njt.ent' \n"
     ]
    },
    {
     "name": "stderr",
     "output_type": "stream",
     "text": [
      " 14%|█▍        | 126/891 [00:45<02:54,  4.38it/s]"
     ]
    },
    {
     "name": "stdout",
     "output_type": "stream",
     "text": [
      "Aligned 204 residues (Free: 204, Bound: 226, Excluded: 22)\n",
      "Structure exists: 'data/PSCDB/PDB_structures/pdb2qm8.ent' \n"
     ]
    },
    {
     "name": "stderr",
     "output_type": "stream",
     "text": [
      " 14%|█▍        | 127/891 [00:45<03:49,  3.33it/s]"
     ]
    },
    {
     "name": "stdout",
     "output_type": "stream",
     "text": [
      "Structure exists: 'data/PSCDB/PDB_structures/pdb2qm7.ent' \n",
      "Aligned 302 residues (Free: 314, Bound: 314, Excluded: 24)\n",
      "Structure exists: 'data/PSCDB/PDB_structures/pdb1wd8.ent' \n"
     ]
    },
    {
     "name": "stderr",
     "output_type": "stream",
     "text": [
      " 14%|█▍        | 128/891 [00:46<03:43,  3.41it/s]"
     ]
    },
    {
     "name": "stdout",
     "output_type": "stream",
     "text": [
      "Structure exists: 'data/PSCDB/PDB_structures/pdb1wd9.ent' \n",
      "Aligned 545 residues (Free: 559, Bound: 603, Excluded: 72)\n",
      "Structure exists: 'data/PSCDB/PDB_structures/pdb1dg3.ent' \n"
     ]
    },
    {
     "name": "stderr",
     "output_type": "stream",
     "text": [
      " 14%|█▍        | 129/891 [00:46<03:36,  3.52it/s]"
     ]
    },
    {
     "name": "stdout",
     "output_type": "stream",
     "text": [
      "Structure exists: 'data/PSCDB/PDB_structures/pdb1f5n.ent' \n",
      "Aligned 539 residues (Free: 540, Bound: 570, Excluded: 32)\n",
      "Structure exists: 'data/PSCDB/PDB_structures/pdb3enl.ent' \n",
      "Structure exists: 'data/PSCDB/PDB_structures/pdb2one.ent' \n"
     ]
    },
    {
     "name": "stderr",
     "output_type": "stream",
     "text": [
      " 15%|█▍        | 130/891 [00:47<04:28,  2.84it/s]"
     ]
    },
    {
     "name": "stdout",
     "output_type": "stream",
     "text": [
      "Aligned 436 residues (Free: 436, Bound: 436, Excluded: 0)\n",
      "Structure exists: 'data/PSCDB/PDB_structures/pdb1vk3.ent' \n",
      "Structure exists: 'data/PSCDB/PDB_structures/pdb2hs4.ent' \n"
     ]
    },
    {
     "name": "stderr",
     "output_type": "stream",
     "text": [
      " 15%|█▍        | 131/891 [00:47<04:06,  3.08it/s]"
     ]
    },
    {
     "name": "stdout",
     "output_type": "stream",
     "text": [
      "Aligned 570 residues (Free: 570, Bound: 602, Excluded: 32)\n",
      "Structure exists: 'data/PSCDB/PDB_structures/pdb2g67.ent' \n",
      "Structure exists: 'data/PSCDB/PDB_structures/pdb2g25.ent' \n"
     ]
    },
    {
     "name": "stderr",
     "output_type": "stream",
     "text": [
      " 15%|█▍        | 132/891 [00:48<05:53,  2.15it/s]"
     ]
    },
    {
     "name": "stdout",
     "output_type": "stream",
     "text": [
      "Aligned 801 residues (Free: 801, Bound: 831, Excluded: 30)\n",
      "Structure exists: 'data/PSCDB/PDB_structures/pdb3bwb.ent' \n",
      "Structure exists: 'data/PSCDB/PDB_structures/pdb3bwc.ent' \n"
     ]
    },
    {
     "name": "stderr",
     "output_type": "stream",
     "text": [
      " 15%|█▍        | 133/891 [00:48<05:00,  2.52it/s]"
     ]
    },
    {
     "name": "stdout",
     "output_type": "stream",
     "text": [
      "Aligned 275 residues (Free: 281, Bound: 275, Excluded: 6)\n",
      "Structure exists: 'data/PSCDB/PDB_structures/pdb2cn2.ent' \n",
      "Structure exists: 'data/PSCDB/PDB_structures/pdb2cn3.ent' \n",
      "Aligned 686 residues (Free: 686, Bound: 728, Excluded: 42)\n"
     ]
    },
    {
     "name": "stderr",
     "output_type": "stream",
     "text": [
      " 15%|█▌        | 135/891 [00:49<05:31,  2.28it/s]"
     ]
    },
    {
     "name": "stdout",
     "output_type": "stream",
     "text": [
      "Structure exists: 'data/PSCDB/PDB_structures/pdb1ywf.ent' \n",
      "Structure exists: 'data/PSCDB/PDB_structures/pdb2oz5.ent' \n",
      "Aligned 240 residues (Free: 241, Bound: 265, Excluded: 26)\n",
      "Structure exists: 'data/PSCDB/PDB_structures/pdb2gp7.ent' \n",
      "Structure exists: 'data/PSCDB/PDB_structures/pdb2gpu.ent' \n"
     ]
    },
    {
     "name": "stderr",
     "output_type": "stream",
     "text": [
      " 15%|█▌        | 136/891 [00:49<05:47,  2.17it/s]"
     ]
    },
    {
     "name": "stdout",
     "output_type": "stream",
     "text": [
      "Aligned 221 residues (Free: 224, Bound: 222, Excluded: 4)\n",
      "Structure exists: 'data/PSCDB/PDB_structures/pdb1kp9.ent' \n",
      "Structure exists: 'data/PSCDB/PDB_structures/pdb1kph.ent' \n"
     ]
    },
    {
     "name": "stderr",
     "output_type": "stream",
     "text": [
      " 15%|█▌        | 138/891 [00:50<04:00,  3.13it/s]"
     ]
    },
    {
     "name": "stdout",
     "output_type": "stream",
     "text": [
      "Aligned 270 residues (Free: 270, Bound: 283, Excluded: 13)\n",
      "Structure exists: 'data/PSCDB/PDB_structures/pdb1sqe.ent' \n",
      "Structure exists: 'data/PSCDB/PDB_structures/pdb2zdp.ent' \n",
      "Aligned 85 residues (Free: 101, Bound: 110, Excluded: 41)\n",
      "Structure exists: 'data/PSCDB/PDB_structures/pdb1pa1.ent' \n",
      "Structure exists: 'data/PSCDB/PDB_structures/pdb1t48.ent' \n",
      "No common residues between 1pa1 and 1t48\n",
      "Structure exists: 'data/PSCDB/PDB_structures/pdb1so7.ent' \n",
      "Structure exists: 'data/PSCDB/PDB_structures/pdb1vcu.ent' \n"
     ]
    },
    {
     "name": "stderr",
     "output_type": "stream",
     "text": [
      " 16%|█▌        | 140/891 [00:50<03:50,  3.25it/s]"
     ]
    },
    {
     "name": "stdout",
     "output_type": "stream",
     "text": [
      "Aligned 360 residues (Free: 361, Bound: 370, Excluded: 11)\n",
      "Structure exists: 'data/PSCDB/PDB_structures/pdb2de2.ent' \n",
      "Structure exists: 'data/PSCDB/PDB_structures/pdb2de3.ent' \n"
     ]
    },
    {
     "name": "stderr",
     "output_type": "stream",
     "text": [
      " 16%|█▌        | 141/891 [00:51<03:36,  3.46it/s]"
     ]
    },
    {
     "name": "stdout",
     "output_type": "stream",
     "text": [
      "Aligned 344 residues (Free: 347, Bound: 344, Excluded: 3)\n",
      "Structure exists: 'data/PSCDB/PDB_structures/pdb2go1.ent' \n",
      "Structure exists: 'data/PSCDB/PDB_structures/pdb2nad.ent' \n"
     ]
    },
    {
     "name": "stderr",
     "output_type": "stream",
     "text": [
      " 16%|█▌        | 142/891 [00:51<03:19,  3.75it/s]"
     ]
    },
    {
     "name": "stdout",
     "output_type": "stream",
     "text": [
      "Aligned 374 residues (Free: 374, Bound: 391, Excluded: 17)\n",
      "Structure exists: 'data/PSCDB/PDB_structures/pdb2e3c.ent' \n",
      "Structure exists: 'data/PSCDB/PDB_structures/pdb2zim.ent' \n"
     ]
    },
    {
     "name": "stderr",
     "output_type": "stream",
     "text": [
      " 16%|█▌        | 143/891 [00:51<03:11,  3.90it/s]"
     ]
    },
    {
     "name": "stdout",
     "output_type": "stream",
     "text": [
      "Aligned 256 residues (Free: 260, Bound: 260, Excluded: 8)\n",
      "Structure exists: 'data/PSCDB/PDB_structures/pdb1irm.ent' \n"
     ]
    },
    {
     "name": "stderr",
     "output_type": "stream",
     "text": [
      " 16%|█▌        | 144/891 [00:52<03:40,  3.39it/s]"
     ]
    },
    {
     "name": "stdout",
     "output_type": "stream",
     "text": [
      "Structure exists: 'data/PSCDB/PDB_structures/pdb2dy5.ent' \n",
      "No common residues between 1irm and 2dy5\n",
      "Structure exists: 'data/PSCDB/PDB_structures/pdb2vcl.ent' \n",
      "Structure exists: 'data/PSCDB/PDB_structures/pdb2vck.ent' \n"
     ]
    },
    {
     "name": "stderr",
     "output_type": "stream",
     "text": [
      " 16%|█▋        | 146/891 [00:52<02:54,  4.26it/s]"
     ]
    },
    {
     "name": "stdout",
     "output_type": "stream",
     "text": [
      "Aligned 198 residues (Free: 199, Bound: 202, Excluded: 5)\n",
      "Structure exists: 'data/PSCDB/PDB_structures/pdb2btz.ent' \n",
      "Structure exists: 'data/PSCDB/PDB_structures/pdb2bu2.ent' \n",
      "Aligned 353 residues (Free: 357, Bound: 358, Excluded: 9)\n",
      "Structure exists: 'data/PSCDB/PDB_structures/pdb2osw.ent' \n"
     ]
    },
    {
     "name": "stderr",
     "output_type": "stream",
     "text": [
      " 16%|█▋        | 147/891 [00:52<03:04,  4.02it/s]"
     ]
    },
    {
     "name": "stdout",
     "output_type": "stream",
     "text": [
      "Structure exists: 'data/PSCDB/PDB_structures/pdb2osx.ent' \n",
      "Aligned 433 residues (Free: 433, Bound: 449, Excluded: 16)\n",
      "Structure exists: 'data/PSCDB/PDB_structures/pdb1x56.ent' \n"
     ]
    },
    {
     "name": "stderr",
     "output_type": "stream",
     "text": [
      " 17%|█▋        | 148/891 [00:53<04:03,  3.05it/s]"
     ]
    },
    {
     "name": "stdout",
     "output_type": "stream",
     "text": [
      "Structure exists: 'data/PSCDB/PDB_structures/pdb1x55.ent' \n",
      "Aligned 420 residues (Free: 420, Bound: 434, Excluded: 14)\n",
      "Structure exists: 'data/PSCDB/PDB_structures/pdb1ofp.ent' \n",
      "Structure exists: 'data/PSCDB/PDB_structures/pdb1of6.ent' \n"
     ]
    },
    {
     "name": "stderr",
     "output_type": "stream",
     "text": [
      " 17%|█▋        | 149/891 [00:53<05:32,  2.23it/s]"
     ]
    },
    {
     "name": "stdout",
     "output_type": "stream",
     "text": [
      "Aligned 306 residues (Free: 306, Bound: 350, Excluded: 44)\n",
      "Structure exists: 'data/PSCDB/PDB_structures/pdb2qt8.ent' \n",
      "Structure exists: 'data/PSCDB/PDB_structures/pdb3dwr.ent' \n"
     ]
    },
    {
     "name": "stderr",
     "output_type": "stream",
     "text": [
      " 17%|█▋        | 150/891 [00:54<04:44,  2.60it/s]"
     ]
    },
    {
     "name": "stdout",
     "output_type": "stream",
     "text": [
      "Aligned 282 residues (Free: 297, Bound: 286, Excluded: 19)\n",
      "Structure exists: 'data/PSCDB/PDB_structures/pdb2q0d.ent' \n",
      "Structure exists: 'data/PSCDB/PDB_structures/pdb2q0e.ent' \n"
     ]
    },
    {
     "name": "stderr",
     "output_type": "stream",
     "text": [
      " 17%|█▋        | 151/891 [00:54<04:21,  2.83it/s]"
     ]
    },
    {
     "name": "stdout",
     "output_type": "stream",
     "text": [
      "Aligned 325 residues (Free: 325, Bound: 331, Excluded: 6)\n",
      "Structure exists: 'data/PSCDB/PDB_structures/pdb1qme.ent' \n",
      "Structure exists: 'data/PSCDB/PDB_structures/pdb1pyy.ent' \n"
     ]
    },
    {
     "name": "stderr",
     "output_type": "stream",
     "text": [
      " 17%|█▋        | 152/891 [00:54<03:56,  3.12it/s]"
     ]
    },
    {
     "name": "stdout",
     "output_type": "stream",
     "text": [
      "Aligned 552 residues (Free: 558, Bound: 607, Excluded: 61)\n",
      "Structure exists: 'data/PSCDB/PDB_structures/pdb2zcg.ent' \n"
     ]
    },
    {
     "name": "stderr",
     "output_type": "stream",
     "text": [
      " 17%|█▋        | 153/891 [00:55<05:03,  2.43it/s]"
     ]
    },
    {
     "name": "stdout",
     "output_type": "stream",
     "text": [
      "Structure exists: 'data/PSCDB/PDB_structures/pdb2za1.ent' \n",
      "Aligned 315 residues (Free: 318, Bound: 318, Excluded: 6)\n",
      "Structure exists: 'data/PSCDB/PDB_structures/pdb1gyn.ent' \n",
      "Structure exists: 'data/PSCDB/PDB_structures/pdb1zen.ent' \n"
     ]
    },
    {
     "name": "stderr",
     "output_type": "stream",
     "text": [
      " 17%|█▋        | 154/891 [00:55<04:06,  2.99it/s]"
     ]
    },
    {
     "name": "stdout",
     "output_type": "stream",
     "text": [
      "Aligned 331 residues (Free: 333, Bound: 338, Excluded: 9)\n",
      "Structure exists: 'data/PSCDB/PDB_structures/pdb1kn9.ent' \n",
      "Structure exists: 'data/PSCDB/PDB_structures/pdb1b12.ent' \n"
     ]
    },
    {
     "name": "stderr",
     "output_type": "stream",
     "text": [
      " 17%|█▋        | 155/891 [00:55<04:52,  2.52it/s]"
     ]
    },
    {
     "name": "stdout",
     "output_type": "stream",
     "text": [
      "Aligned 233 residues (Free: 234, Bound: 239, Excluded: 7)\n",
      "Structure exists: 'data/PSCDB/PDB_structures/pdb3b7y.ent' \n",
      "Structure exists: 'data/PSCDB/PDB_structures/pdb3b7y.ent' \n",
      "Aligned 144 residues (Free: 144, Bound: 144, Excluded: 0)\n"
     ]
    },
    {
     "name": "stderr",
     "output_type": "stream",
     "text": [
      " 18%|█▊        | 156/891 [00:56<04:06,  2.98it/s]"
     ]
    },
    {
     "name": "stdout",
     "output_type": "stream",
     "text": [
      "Structure exists: 'data/PSCDB/PDB_structures/pdb2amj.ent' \n",
      "Structure exists: 'data/PSCDB/PDB_structures/pdb2b3d.ent' \n"
     ]
    },
    {
     "name": "stderr",
     "output_type": "stream",
     "text": [
      " 18%|█▊        | 157/891 [00:56<03:58,  3.08it/s]"
     ]
    },
    {
     "name": "stdout",
     "output_type": "stream",
     "text": [
      "Aligned 174 residues (Free: 174, Bound: 193, Excluded: 19)\n",
      "Structure exists: 'data/PSCDB/PDB_structures/pdb2dka.ent' \n",
      "Structure exists: 'data/PSCDB/PDB_structures/pdb2dkc.ent' \n"
     ]
    },
    {
     "name": "stderr",
     "output_type": "stream",
     "text": [
      " 18%|█▊        | 158/891 [00:57<05:51,  2.09it/s]"
     ]
    },
    {
     "name": "stdout",
     "output_type": "stream",
     "text": [
      "Aligned 517 residues (Free: 519, Bound: 536, Excluded: 21)\n",
      "Structure exists: 'data/PSCDB/PDB_structures/pdb2rkt.ent' \n",
      "Structure exists: 'data/PSCDB/PDB_structures/pdb2rkv.ent' \n"
     ]
    },
    {
     "name": "stderr",
     "output_type": "stream",
     "text": [
      " 18%|█▊        | 159/891 [00:57<05:04,  2.41it/s]"
     ]
    },
    {
     "name": "stdout",
     "output_type": "stream",
     "text": [
      "Aligned 418 residues (Free: 421, Bound: 443, Excluded: 28)\n",
      "Structure exists: 'data/PSCDB/PDB_structures/pdb1fdp.ent' \n"
     ]
    },
    {
     "name": "stderr",
     "output_type": "stream",
     "text": [
      " 18%|█▊        | 160/891 [00:57<04:27,  2.73it/s]"
     ]
    },
    {
     "name": "stdout",
     "output_type": "stream",
     "text": [
      "Structure exists: 'data/PSCDB/PDB_structures/pdb1bio.ent' \n",
      "Aligned 212 residues (Free: 220, Bound: 228, Excluded: 24)\n",
      "Structure exists: 'data/PSCDB/PDB_structures/pdb2vxm.ent' \n"
     ]
    },
    {
     "name": "stderr",
     "output_type": "stream",
     "text": [
      " 18%|█▊        | 161/891 [00:58<04:01,  3.02it/s]"
     ]
    },
    {
     "name": "stdout",
     "output_type": "stream",
     "text": [
      "Structure exists: 'data/PSCDB/PDB_structures/pdb2jcj.ent' \n",
      "Aligned 268 residues (Free: 268, Bound: 284, Excluded: 16)\n",
      "Structure exists: 'data/PSCDB/PDB_structures/pdb1lhp.ent' \n"
     ]
    },
    {
     "name": "stderr",
     "output_type": "stream",
     "text": [
      " 18%|█▊        | 162/891 [00:58<04:33,  2.67it/s]"
     ]
    },
    {
     "name": "stdout",
     "output_type": "stream",
     "text": [
      "Structure exists: 'data/PSCDB/PDB_structures/pdb1rft.ent' \n",
      "Aligned 306 residues (Free: 306, Bound: 309, Excluded: 3)\n",
      "Structure exists: 'data/PSCDB/PDB_structures/pdb1xxo.ent' \n",
      "Structure exists: 'data/PSCDB/PDB_structures/pdb2aq6.ent' \n"
     ]
    },
    {
     "name": "stderr",
     "output_type": "stream",
     "text": [
      " 19%|█▊        | 165/891 [00:58<02:25,  4.98it/s]"
     ]
    },
    {
     "name": "stdout",
     "output_type": "stream",
     "text": [
      "Aligned 143 residues (Free: 143, Bound: 143, Excluded: 0)\n",
      "Structure exists: 'data/PSCDB/PDB_structures/pdb1ufp.ent' \n",
      "Structure exists: 'data/PSCDB/PDB_structures/pdb2eb8.ent' \n",
      "Aligned 154 residues (Free: 154, Bound: 154, Excluded: 0)\n",
      "Structure exists: 'data/PSCDB/PDB_structures/pdb1h6o.ent' \n",
      "Structure exists: 'data/PSCDB/PDB_structures/pdb3bqo.ent' \n",
      "Aligned 192 residues (Free: 195, Bound: 202, Excluded: 13)\n",
      "Structure exists: 'data/PSCDB/PDB_structures/pdb1pu5.ent' \n"
     ]
    },
    {
     "name": "stderr",
     "output_type": "stream",
     "text": [
      " 19%|█▊        | 166/891 [00:59<02:19,  5.20it/s]"
     ]
    },
    {
     "name": "stdout",
     "output_type": "stream",
     "text": [
      "Structure exists: 'data/PSCDB/PDB_structures/pdb2ag4.ent' \n",
      "Aligned 164 residues (Free: 164, Bound: 164, Excluded: 0)\n",
      "Structure exists: 'data/PSCDB/PDB_structures/pdb1rlr.ent' \n",
      "Structure exists: 'data/PSCDB/PDB_structures/pdb2r1r.ent' \n"
     ]
    },
    {
     "name": "stderr",
     "output_type": "stream",
     "text": [
      " 19%|█▊        | 167/891 [00:59<04:03,  2.97it/s]"
     ]
    },
    {
     "name": "stdout",
     "output_type": "stream",
     "text": [
      "Aligned 727 residues (Free: 737, Bound: 733, Excluded: 16)\n",
      "Structure exists: 'data/PSCDB/PDB_structures/pdb1pnz.ent' \n",
      "Structure exists: 'data/PSCDB/PDB_structures/pdb1kmp.ent' \n"
     ]
    },
    {
     "name": "stderr",
     "output_type": "stream",
     "text": [
      " 19%|█▉        | 168/891 [01:00<03:55,  3.08it/s]"
     ]
    },
    {
     "name": "stdout",
     "output_type": "stream",
     "text": [
      "Aligned 633 residues (Free: 661, Bound: 633, Excluded: 28)\n",
      "Structure exists: 'data/PSCDB/PDB_structures/pdb1bs0.ent' \n",
      "Structure exists: 'data/PSCDB/PDB_structures/pdb1dj9.ent' \n"
     ]
    },
    {
     "name": "stderr",
     "output_type": "stream",
     "text": [
      " 19%|█▉        | 169/891 [01:00<03:27,  3.48it/s]"
     ]
    },
    {
     "name": "stdout",
     "output_type": "stream",
     "text": [
      "Aligned 383 residues (Free: 383, Bound: 383, Excluded: 0)\n",
      "Structure exists: 'data/PSCDB/PDB_structures/pdb1imf.ent' \n"
     ]
    },
    {
     "name": "stderr",
     "output_type": "stream",
     "text": [
      " 19%|█▉        | 170/891 [01:00<03:59,  3.01it/s]"
     ]
    },
    {
     "name": "stdout",
     "output_type": "stream",
     "text": [
      "Structure exists: 'data/PSCDB/PDB_structures/pdb1ime.ent' \n",
      "Aligned 262 residues (Free: 262, Bound: 272, Excluded: 10)\n",
      "Structure exists: 'data/PSCDB/PDB_structures/pdb1sgz.ent' \n"
     ]
    },
    {
     "name": "stderr",
     "output_type": "stream",
     "text": [
      " 19%|█▉        | 171/891 [01:01<04:16,  2.81it/s]"
     ]
    },
    {
     "name": "stdout",
     "output_type": "stream",
     "text": [
      "Structure exists: 'data/PSCDB/PDB_structures/pdb2f3e.ent' \n",
      "Aligned 374 residues (Free: 389, Bound: 377, Excluded: 18)\n",
      "Structure exists: 'data/PSCDB/PDB_structures/pdb1mss.ent' \n",
      "Structure exists: 'data/PSCDB/PDB_structures/pdb1ttj.ent' \n"
     ]
    },
    {
     "name": "stderr",
     "output_type": "stream",
     "text": [
      " 19%|█▉        | 172/891 [01:01<04:36,  2.60it/s]"
     ]
    },
    {
     "name": "stdout",
     "output_type": "stream",
     "text": [
      "Aligned 235 residues (Free: 242, Bound: 235, Excluded: 7)\n",
      "Structure exists: 'data/PSCDB/PDB_structures/pdb1n2o.ent' \n",
      "Structure exists: 'data/PSCDB/PDB_structures/pdb2a86.ent' \n"
     ]
    },
    {
     "name": "stderr",
     "output_type": "stream",
     "text": [
      " 19%|█▉        | 173/891 [01:01<04:15,  2.81it/s]"
     ]
    },
    {
     "name": "stdout",
     "output_type": "stream",
     "text": [
      "Aligned 279 residues (Free: 279, Bound: 288, Excluded: 9)\n",
      "Structure exists: 'data/PSCDB/PDB_structures/pdb1h7s.ent' \n",
      "Structure exists: 'data/PSCDB/PDB_structures/pdb1ea6.ent' \n"
     ]
    },
    {
     "name": "stderr",
     "output_type": "stream",
     "text": [
      " 20%|█▉        | 174/891 [01:02<03:46,  3.17it/s]"
     ]
    },
    {
     "name": "stdout",
     "output_type": "stream",
     "text": [
      "Aligned 298 residues (Free: 317, Bound: 304, Excluded: 25)\n",
      "Structure exists: 'data/PSCDB/PDB_structures/pdb2qpq.ent' \n",
      "Structure exists: 'data/PSCDB/PDB_structures/pdb2qpq.ent' \n"
     ]
    },
    {
     "name": "stderr",
     "output_type": "stream",
     "text": [
      " 20%|█▉        | 175/891 [01:02<05:10,  2.31it/s]"
     ]
    },
    {
     "name": "stdout",
     "output_type": "stream",
     "text": [
      "Aligned 296 residues (Free: 296, Bound: 296, Excluded: 0)\n",
      "Structure exists: 'data/PSCDB/PDB_structures/pdb1aja.ent' \n",
      "Structure exists: 'data/PSCDB/PDB_structures/pdb1elz.ent' \n"
     ]
    },
    {
     "name": "stderr",
     "output_type": "stream",
     "text": [
      " 20%|█▉        | 176/891 [01:03<05:09,  2.31it/s]"
     ]
    },
    {
     "name": "stdout",
     "output_type": "stream",
     "text": [
      "Aligned 435 residues (Free: 435, Bound: 449, Excluded: 14)\n",
      "Structure exists: 'data/PSCDB/PDB_structures/pdb1zvw.ent' \n",
      "Structure exists: 'data/PSCDB/PDB_structures/pdb1zvw.ent' \n",
      "Aligned 339 residues (Free: 339, Bound: 339, Excluded: 0)\n"
     ]
    },
    {
     "name": "stderr",
     "output_type": "stream",
     "text": [
      " 20%|█▉        | 177/891 [01:03<04:59,  2.39it/s]"
     ]
    },
    {
     "name": "stdout",
     "output_type": "stream",
     "text": [
      "Structure exists: 'data/PSCDB/PDB_structures/pdb2ywe.ent' \n"
     ]
    },
    {
     "name": "stderr",
     "output_type": "stream",
     "text": [
      " 20%|█▉        | 178/891 [01:04<05:36,  2.12it/s]"
     ]
    },
    {
     "name": "stdout",
     "output_type": "stream",
     "text": [
      "Structure exists: 'data/PSCDB/PDB_structures/pdb2ywf.ent' \n",
      "Aligned 526 residues (Free: 526, Bound: 532, Excluded: 6)\n",
      "Structure exists: 'data/PSCDB/PDB_structures/pdb2gyy.ent' \n"
     ]
    },
    {
     "name": "stderr",
     "output_type": "stream",
     "text": [
      " 20%|██        | 179/891 [01:04<05:42,  2.08it/s]"
     ]
    },
    {
     "name": "stdout",
     "output_type": "stream",
     "text": [
      "Structure exists: 'data/PSCDB/PDB_structures/pdb2gz1.ent' \n",
      "Aligned 352 residues (Free: 352, Bound: 357, Excluded: 5)\n",
      "Structure exists: 'data/PSCDB/PDB_structures/pdb2f9t.ent' \n"
     ]
    },
    {
     "name": "stderr",
     "output_type": "stream",
     "text": [
      " 20%|██        | 180/891 [01:04<04:40,  2.53it/s]"
     ]
    },
    {
     "name": "stdout",
     "output_type": "stream",
     "text": [
      "Structure exists: 'data/PSCDB/PDB_structures/pdb2f9w.ent' \n",
      "Aligned 234 residues (Free: 235, Bound: 243, Excluded: 10)\n",
      "Structure exists: 'data/PSCDB/PDB_structures/pdb1k5h.ent' \n"
     ]
    },
    {
     "name": "stderr",
     "output_type": "stream",
     "text": [
      " 20%|██        | 181/891 [01:05<05:20,  2.21it/s]"
     ]
    },
    {
     "name": "stdout",
     "output_type": "stream",
     "text": [
      "Structure exists: 'data/PSCDB/PDB_structures/pdb1q0q.ent' \n",
      "Aligned 398 residues (Free: 398, Bound: 398, Excluded: 0)\n",
      "Structure exists: 'data/PSCDB/PDB_structures/pdb2iyt.ent' \n",
      "Structure exists: 'data/PSCDB/PDB_structures/pdb2iyx.ent' \n"
     ]
    },
    {
     "name": "stderr",
     "output_type": "stream",
     "text": [
      " 21%|██        | 183/891 [01:05<03:32,  3.34it/s]"
     ]
    },
    {
     "name": "stdout",
     "output_type": "stream",
     "text": [
      "Aligned 169 residues (Free: 175, Bound: 169, Excluded: 6)\n",
      "Structure exists: 'data/PSCDB/PDB_structures/pdb2fb9.ent' \n",
      "Structure exists: 'data/PSCDB/PDB_structures/pdb2zdq.ent' \n",
      "Aligned 319 residues (Free: 322, Bound: 319, Excluded: 3)\n",
      "Structure exists: 'data/PSCDB/PDB_structures/pdb1xja.ent' \n"
     ]
    },
    {
     "name": "stderr",
     "output_type": "stream",
     "text": [
      " 21%|██        | 184/891 [01:06<04:04,  2.89it/s]"
     ]
    },
    {
     "name": "stdout",
     "output_type": "stream",
     "text": [
      "Structure exists: 'data/PSCDB/PDB_structures/pdb2aac.ent' \n",
      "Aligned 161 residues (Free: 165, Bound: 163, Excluded: 6)\n",
      "Structure exists: 'data/PSCDB/PDB_structures/pdb1pzt.ent' \n",
      "Structure exists: 'data/PSCDB/PDB_structures/pdb1o0r.ent' \n",
      "Aligned 271 residues (Free: 271, Bound: 271, Excluded: 0)\n"
     ]
    },
    {
     "name": "stderr",
     "output_type": "stream",
     "text": [
      " 21%|██        | 186/891 [01:06<02:56,  4.00it/s]"
     ]
    },
    {
     "name": "stdout",
     "output_type": "stream",
     "text": [
      "Structure exists: 'data/PSCDB/PDB_structures/pdb1b6b.ent' \n",
      "Structure exists: 'data/PSCDB/PDB_structures/pdb1cjw.ent' \n",
      "Aligned 162 residues (Free: 168, Bound: 166, Excluded: 10)\n",
      "Structure exists: 'data/PSCDB/PDB_structures/pdb1dqz.ent' \n"
     ]
    },
    {
     "name": "stderr",
     "output_type": "stream",
     "text": [
      " 21%|██        | 187/891 [01:06<02:54,  4.03it/s]"
     ]
    },
    {
     "name": "stdout",
     "output_type": "stream",
     "text": [
      "Structure exists: 'data/PSCDB/PDB_structures/pdb1dqy.ent' \n",
      "Aligned 280 residues (Free: 280, Bound: 283, Excluded: 3)\n",
      "Structure exists: 'data/PSCDB/PDB_structures/pdb1kx9.ent' \n",
      "Structure exists: 'data/PSCDB/PDB_structures/pdb1n8v.ent' \n"
     ]
    },
    {
     "name": "stderr",
     "output_type": "stream",
     "text": [
      " 21%|██        | 188/891 [01:06<02:28,  4.72it/s]"
     ]
    },
    {
     "name": "stdout",
     "output_type": "stream",
     "text": [
      "Aligned 100 residues (Free: 108, Bound: 101, Excluded: 9)\n",
      "Structure exists: 'data/PSCDB/PDB_structures/pdb2z1c.ent' \n",
      "Structure exists: 'data/PSCDB/PDB_structures/pdb2z1c.ent' \n",
      "Aligned 71 residues (Free: 71, Bound: 71, Excluded: 0)\n",
      "Structure exists: 'data/PSCDB/PDB_structures/pdb1zuh.ent' \n",
      "Structure exists: 'data/PSCDB/PDB_structures/pdb1zui.ent' \n"
     ]
    },
    {
     "name": "stderr",
     "output_type": "stream",
     "text": [
      " 21%|██▏       | 191/891 [01:07<02:17,  5.09it/s]"
     ]
    },
    {
     "name": "stdout",
     "output_type": "stream",
     "text": [
      "Aligned 151 residues (Free: 151, Bound: 158, Excluded: 7)\n",
      "Structure exists: 'data/PSCDB/PDB_structures/pdb3seb.ent' \n",
      "Structure exists: 'data/PSCDB/PDB_structures/pdb1se3.ent' \n",
      "Aligned 238 residues (Free: 238, Bound: 239, Excluded: 1)\n",
      "Structure exists: 'data/PSCDB/PDB_structures/pdb2zlb.ent' \n",
      "Structure exists: 'data/PSCDB/PDB_structures/pdb2cl5.ent' \n"
     ]
    },
    {
     "name": "stderr",
     "output_type": "stream",
     "text": [
      " 22%|██▏       | 192/891 [01:07<02:07,  5.46it/s]"
     ]
    },
    {
     "name": "stdout",
     "output_type": "stream",
     "text": [
      "Aligned 212 residues (Free: 212, Bound: 214, Excluded: 2)\n",
      "Structure exists: 'data/PSCDB/PDB_structures/pdb3bqh.ent' \n",
      "Structure exists: 'data/PSCDB/PDB_structures/pdb3bqf.ent' \n",
      "Aligned 162 residues (Free: 162, Bound: 167, Excluded: 5)\n",
      "Structure exists: 'data/PSCDB/PDB_structures/pdb2f4b.ent' \n",
      "Structure exists: 'data/PSCDB/PDB_structures/pdb2om9.ent' \n"
     ]
    },
    {
     "name": "stderr",
     "output_type": "stream",
     "text": [
      " 22%|██▏       | 194/891 [01:08<02:27,  4.74it/s]"
     ]
    },
    {
     "name": "stdout",
     "output_type": "stream",
     "text": [
      "Aligned 270 residues (Free: 271, Bound: 270, Excluded: 1)\n",
      "Structure exists: 'data/PSCDB/PDB_structures/pdb1jfv.ent' \n",
      "Structure exists: 'data/PSCDB/PDB_structures/pdb1rxe.ent' \n",
      "Aligned 129 residues (Free: 129, Bound: 131, Excluded: 2)\n",
      "Structure exists: 'data/PSCDB/PDB_structures/pdb1nzu.ent' \n"
     ]
    },
    {
     "name": "stderr",
     "output_type": "stream",
     "text": [
      " 22%|██▏       | 196/891 [01:08<02:36,  4.43it/s]"
     ]
    },
    {
     "name": "stdout",
     "output_type": "stream",
     "text": [
      "Structure exists: 'data/PSCDB/PDB_structures/pdb3bec.ent' \n",
      "Aligned 346 residues (Free: 347, Bound: 352, Excluded: 7)\n",
      "Structure exists: 'data/PSCDB/PDB_structures/pdb1ww7.ent' \n"
     ]
    },
    {
     "name": "stderr",
     "output_type": "stream",
     "text": [
      " 22%|██▏       | 197/891 [01:08<02:41,  4.31it/s]"
     ]
    },
    {
     "name": "stdout",
     "output_type": "stream",
     "text": [
      "Structure exists: 'data/PSCDB/PDB_structures/pdb1ww4.ent' \n",
      "Aligned 160 residues (Free: 160, Bound: 160, Excluded: 0)\n",
      "Structure exists: 'data/PSCDB/PDB_structures/pdb1kt9.ent' \n",
      "Structure exists: 'data/PSCDB/PDB_structures/pdb1ktg.ent' \n",
      "Aligned 131 residues (Free: 132, Bound: 137, Excluded: 7)\n"
     ]
    },
    {
     "name": "stderr",
     "output_type": "stream",
     "text": [
      " 22%|██▏       | 198/891 [01:08<02:19,  4.97it/s]"
     ]
    },
    {
     "name": "stdout",
     "output_type": "stream",
     "text": [
      "Structure exists: 'data/PSCDB/PDB_structures/pdb1nxm.ent' \n",
      "Structure exists: 'data/PSCDB/PDB_structures/pdb2ixl.ent' \n"
     ]
    },
    {
     "name": "stderr",
     "output_type": "stream",
     "text": [
      " 22%|██▏       | 199/891 [01:09<03:46,  3.05it/s]"
     ]
    },
    {
     "name": "stdout",
     "output_type": "stream",
     "text": [
      "Aligned 194 residues (Free: 194, Bound: 196, Excluded: 2)\n",
      "Structure exists: 'data/PSCDB/PDB_structures/pdb2hv6.ent' \n",
      "Structure exists: 'data/PSCDB/PDB_structures/pdb2hv7.ent' \n"
     ]
    },
    {
     "name": "stderr",
     "output_type": "stream",
     "text": [
      " 23%|██▎       | 201/891 [01:10<03:26,  3.35it/s]"
     ]
    },
    {
     "name": "stdout",
     "output_type": "stream",
     "text": [
      "Aligned 301 residues (Free: 301, Bound: 301, Excluded: 0)\n",
      "Structure exists: 'data/PSCDB/PDB_structures/pdb2o0k.ent' \n",
      "Structure exists: 'data/PSCDB/PDB_structures/pdb2o0j.ent' \n",
      "Aligned 357 residues (Free: 357, Bound: 360, Excluded: 3)\n",
      "Structure exists: 'data/PSCDB/PDB_structures/pdb1bhs.ent' \n",
      "Structure exists: 'data/PSCDB/PDB_structures/pdb1i5r.ent' \n"
     ]
    },
    {
     "name": "stderr",
     "output_type": "stream",
     "text": [
      " 23%|██▎       | 202/891 [01:10<03:51,  2.97it/s]"
     ]
    },
    {
     "name": "stdout",
     "output_type": "stream",
     "text": [
      "Aligned 284 residues (Free: 284, Bound: 285, Excluded: 1)\n",
      "Structure exists: 'data/PSCDB/PDB_structures/pdb1tib.ent' \n",
      "Structure exists: 'data/PSCDB/PDB_structures/pdb1ein.ent' \n",
      "Aligned 269 residues (Free: 269, Bound: 269, Excluded: 0)\n"
     ]
    },
    {
     "name": "stderr",
     "output_type": "stream",
     "text": [
      " 23%|██▎       | 203/891 [01:10<03:23,  3.38it/s]"
     ]
    },
    {
     "name": "stdout",
     "output_type": "stream",
     "text": [
      "Structure exists: 'data/PSCDB/PDB_structures/pdb1gqn.ent' \n",
      "Structure exists: 'data/PSCDB/PDB_structures/pdb1l9w.ent' \n"
     ]
    },
    {
     "name": "stderr",
     "output_type": "stream",
     "text": [
      " 23%|██▎       | 204/891 [01:11<03:10,  3.60it/s]"
     ]
    },
    {
     "name": "stdout",
     "output_type": "stream",
     "text": [
      "Aligned 252 residues (Free: 252, Bound: 252, Excluded: 0)\n",
      "Structure exists: 'data/PSCDB/PDB_structures/pdb1vjs.ent' \n"
     ]
    },
    {
     "name": "stderr",
     "output_type": "stream",
     "text": [
      " 23%|██▎       | 205/891 [01:11<03:20,  3.42it/s]"
     ]
    },
    {
     "name": "stdout",
     "output_type": "stream",
     "text": [
      "Structure exists: 'data/PSCDB/PDB_structures/pdb1bli.ent' \n",
      "Aligned 469 residues (Free: 469, Bound: 481, Excluded: 12)\n",
      "Structure exists: 'data/PSCDB/PDB_structures/pdb1hz6.ent' \n",
      "Structure exists: 'data/PSCDB/PDB_structures/pdb1k52.ent' \n"
     ]
    },
    {
     "name": "stderr",
     "output_type": "stream",
     "text": [
      " 23%|██▎       | 207/891 [01:12<03:11,  3.57it/s]"
     ]
    },
    {
     "name": "stdout",
     "output_type": "stream",
     "text": [
      "Aligned 67 residues (Free: 67, Bound: 72, Excluded: 5)\n",
      "Structure exists: 'data/PSCDB/PDB_structures/pdb2gt2.ent' \n",
      "Structure exists: 'data/PSCDB/PDB_structures/pdb1rya.ent' \n",
      "Aligned 151 residues (Free: 151, Bound: 160, Excluded: 9)\n",
      "Structure exists: 'data/PSCDB/PDB_structures/pdb2i4l.ent' \n"
     ]
    },
    {
     "name": "stderr",
     "output_type": "stream",
     "text": [
      " 23%|██▎       | 208/891 [01:12<03:31,  3.23it/s]"
     ]
    },
    {
     "name": "stdout",
     "output_type": "stream",
     "text": [
      "Structure exists: 'data/PSCDB/PDB_structures/pdb2i4n.ent' \n",
      "Aligned 439 residues (Free: 439, Bound: 441, Excluded: 2)\n",
      "Structure exists: 'data/PSCDB/PDB_structures/pdb2og6.ent' \n"
     ]
    },
    {
     "name": "stderr",
     "output_type": "stream",
     "text": [
      " 24%|██▎       | 210/891 [01:12<03:08,  3.62it/s]"
     ]
    },
    {
     "name": "stdout",
     "output_type": "stream",
     "text": [
      "Structure exists: 'data/PSCDB/PDB_structures/pdb2og7.ent' \n",
      "Aligned 319 residues (Free: 323, Bound: 319, Excluded: 4)\n",
      "Structure exists: 'data/PSCDB/PDB_structures/pdb2p52.ent' \n",
      "Structure exists: 'data/PSCDB/PDB_structures/pdb2iom.ent' \n",
      "Aligned 187 residues (Free: 196, Bound: 187, Excluded: 9)\n",
      "Structure exists: 'data/PSCDB/PDB_structures/pdb1l7o.ent' \n"
     ]
    },
    {
     "name": "stderr",
     "output_type": "stream",
     "text": [
      " 24%|██▎       | 211/891 [01:13<02:45,  4.12it/s]"
     ]
    },
    {
     "name": "stdout",
     "output_type": "stream",
     "text": [
      "Structure exists: 'data/PSCDB/PDB_structures/pdb1l7p.ent' \n",
      "Aligned 199 residues (Free: 199, Bound: 206, Excluded: 7)\n",
      "Structure exists: 'data/PSCDB/PDB_structures/pdb1ey0.ent' \n",
      "Structure exists: 'data/PSCDB/PDB_structures/pdb1stb.ent' \n",
      "Aligned 136 residues (Free: 136, Bound: 137, Excluded: 1)\n",
      "Structure exists: 'data/PSCDB/PDB_structures/pdb1n00.ent' \n"
     ]
    },
    {
     "name": "stderr",
     "output_type": "stream",
     "text": [
      " 24%|██▍       | 213/891 [01:13<02:07,  5.34it/s]"
     ]
    },
    {
     "name": "stdout",
     "output_type": "stream",
     "text": [
      "Structure exists: 'data/PSCDB/PDB_structures/pdb3brx.ent' \n",
      "Aligned 317 residues (Free: 318, Bound: 317, Excluded: 1)\n",
      "Structure exists: 'data/PSCDB/PDB_structures/pdb1bsq.ent' \n",
      "Structure exists: 'data/PSCDB/PDB_structures/pdb2gj5.ent' \n",
      "Aligned 161 residues (Free: 162, Bound: 161, Excluded: 1)\n",
      "Structure exists: 'data/PSCDB/PDB_structures/pdb1r1c.ent' \n",
      "Structure exists: 'data/PSCDB/PDB_structures/pdb1r1c.ent' \n"
     ]
    },
    {
     "name": "stderr",
     "output_type": "stream",
     "text": [
      " 24%|██▍       | 216/891 [01:14<02:20,  4.79it/s]"
     ]
    },
    {
     "name": "stdout",
     "output_type": "stream",
     "text": [
      "Aligned 128 residues (Free: 128, Bound: 128, Excluded: 0)\n",
      "Structure exists: 'data/PSCDB/PDB_structures/pdb2z8n.ent' \n",
      "Structure exists: 'data/PSCDB/PDB_structures/pdb2z8p.ent' \n",
      "Aligned 215 residues (Free: 215, Bound: 217, Excluded: 2)\n",
      "Structure exists: 'data/PSCDB/PDB_structures/pdb1t2w.ent' \n"
     ]
    },
    {
     "name": "stderr",
     "output_type": "stream",
     "text": [
      " 24%|██▍       | 217/891 [01:14<02:11,  5.11it/s]"
     ]
    },
    {
     "name": "stdout",
     "output_type": "stream",
     "text": [
      "Structure exists: 'data/PSCDB/PDB_structures/pdb1t2w.ent' \n",
      "Aligned 145 residues (Free: 145, Bound: 145, Excluded: 0)\n",
      "Structure exists: 'data/PSCDB/PDB_structures/pdb2vrk.ent' \n",
      "Structure exists: 'data/PSCDB/PDB_structures/pdb2vrq.ent' \n"
     ]
    },
    {
     "name": "stderr",
     "output_type": "stream",
     "text": [
      " 24%|██▍       | 218/891 [01:15<03:54,  2.87it/s]"
     ]
    },
    {
     "name": "stdout",
     "output_type": "stream",
     "text": [
      "Aligned 478 residues (Free: 478, Bound: 493, Excluded: 15)\n",
      "Structure exists: 'data/PSCDB/PDB_structures/pdb2b7k.ent' \n",
      "Structure exists: 'data/PSCDB/PDB_structures/pdb2b7j.ent' \n"
     ]
    },
    {
     "name": "stderr",
     "output_type": "stream",
     "text": [
      " 25%|██▍       | 219/891 [01:15<03:34,  3.13it/s]"
     ]
    },
    {
     "name": "stdout",
     "output_type": "stream",
     "text": [
      "Aligned 154 residues (Free: 155, Bound: 158, Excluded: 5)\n",
      "Structure exists: 'data/PSCDB/PDB_structures/pdb1ujm.ent' \n",
      "Structure exists: 'data/PSCDB/PDB_structures/pdb1y1p.ent' \n"
     ]
    },
    {
     "name": "stderr",
     "output_type": "stream",
     "text": [
      " 25%|██▍       | 220/891 [01:15<04:12,  2.65it/s]"
     ]
    },
    {
     "name": "stdout",
     "output_type": "stream",
     "text": [
      "Aligned 337 residues (Free: 337, Bound: 342, Excluded: 5)\n",
      "Structure exists: 'data/PSCDB/PDB_structures/pdb2epl.ent' \n",
      "Structure exists: 'data/PSCDB/PDB_structures/pdb2epn.ent' \n"
     ]
    },
    {
     "name": "stderr",
     "output_type": "stream",
     "text": [
      " 25%|██▍       | 222/891 [01:16<03:35,  3.11it/s]"
     ]
    },
    {
     "name": "stdout",
     "output_type": "stream",
     "text": [
      "No common residues between 2epl and 2epn\n",
      "Structure exists: 'data/PSCDB/PDB_structures/pdb2r4i.ent' \n",
      "Structure exists: 'data/PSCDB/PDB_structures/pdb2r4i.ent' \n",
      "Aligned 121 residues (Free: 121, Bound: 121, Excluded: 0)\n",
      "Structure exists: 'data/PSCDB/PDB_structures/pdb1smk.ent' \n",
      "Structure exists: 'data/PSCDB/PDB_structures/pdb1smk.ent' \n"
     ]
    },
    {
     "name": "stderr",
     "output_type": "stream",
     "text": [
      " 25%|██▌       | 223/891 [01:17<05:15,  2.12it/s]"
     ]
    },
    {
     "name": "stdout",
     "output_type": "stream",
     "text": [
      "Aligned 313 residues (Free: 313, Bound: 313, Excluded: 0)\n",
      "Structure exists: 'data/PSCDB/PDB_structures/pdb2rda.ent' \n"
     ]
    },
    {
     "name": "stderr",
     "output_type": "stream",
     "text": [
      " 25%|██▌       | 224/891 [01:17<05:55,  1.88it/s]"
     ]
    },
    {
     "name": "stdout",
     "output_type": "stream",
     "text": [
      "Structure exists: 'data/PSCDB/PDB_structures/pdb1juj.ent' \n",
      "Aligned 279 residues (Free: 282, Bound: 286, Excluded: 10)\n",
      "Structure exists: 'data/PSCDB/PDB_structures/pdb1qat.ent' \n",
      "Structure exists: 'data/PSCDB/PDB_structures/pdb1djz.ent' \n"
     ]
    },
    {
     "name": "stderr",
     "output_type": "stream",
     "text": [
      " 25%|██▌       | 225/891 [01:18<06:38,  1.67it/s]"
     ]
    },
    {
     "name": "stdout",
     "output_type": "stream",
     "text": [
      "Aligned 507 residues (Free: 509, Bound: 513, Excluded: 8)\n",
      "Structure exists: 'data/PSCDB/PDB_structures/pdb1wdp.ent' \n"
     ]
    },
    {
     "name": "stderr",
     "output_type": "stream",
     "text": [
      " 25%|██▌       | 226/891 [01:18<05:38,  1.96it/s]"
     ]
    },
    {
     "name": "stdout",
     "output_type": "stream",
     "text": [
      "Structure exists: 'data/PSCDB/PDB_structures/pdb1q6f.ent' \n",
      "Aligned 490 residues (Free: 493, Bound: 490, Excluded: 3)\n",
      "Structure exists: 'data/PSCDB/PDB_structures/pdb2j24.ent' \n"
     ]
    },
    {
     "name": "stderr",
     "output_type": "stream",
     "text": [
      " 25%|██▌       | 227/891 [01:19<04:49,  2.29it/s]"
     ]
    },
    {
     "name": "stdout",
     "output_type": "stream",
     "text": [
      "Structure exists: 'data/PSCDB/PDB_structures/pdb2j27.ent' \n",
      "Aligned 249 residues (Free: 249, Bound: 249, Excluded: 0)\n",
      "Structure exists: 'data/PSCDB/PDB_structures/pdb3ei7.ent' \n",
      "Structure exists: 'data/PSCDB/PDB_structures/pdb2z1z.ent' \n"
     ]
    },
    {
     "name": "stderr",
     "output_type": "stream",
     "text": [
      " 26%|██▌       | 228/891 [01:19<05:18,  2.08it/s]"
     ]
    },
    {
     "name": "stdout",
     "output_type": "stream",
     "text": [
      "Aligned 408 residues (Free: 412, Bound: 408, Excluded: 4)\n",
      "Structure exists: 'data/PSCDB/PDB_structures/pdb2zco.ent' \n",
      "Structure exists: 'data/PSCDB/PDB_structures/pdb2zcq.ent' \n",
      "Aligned 284 residues (Free: 284, Bound: 284, Excluded: 0)\n"
     ]
    },
    {
     "name": "stderr",
     "output_type": "stream",
     "text": [
      " 26%|██▌       | 229/891 [01:19<04:12,  2.62it/s]"
     ]
    },
    {
     "name": "stdout",
     "output_type": "stream",
     "text": [
      "Structure exists: 'data/PSCDB/PDB_structures/pdb1jez.ent' \n",
      "Structure exists: 'data/PSCDB/PDB_structures/pdb1k8c.ent' \n"
     ]
    },
    {
     "name": "stderr",
     "output_type": "stream",
     "text": [
      " 26%|██▌       | 230/891 [01:20<04:01,  2.73it/s]"
     ]
    },
    {
     "name": "stdout",
     "output_type": "stream",
     "text": [
      "Aligned 300 residues (Free: 300, Bound: 317, Excluded: 17)\n",
      "Structure exists: 'data/PSCDB/PDB_structures/pdb1x0v.ent' \n",
      "Structure exists: 'data/PSCDB/PDB_structures/pdb1wpq.ent' \n"
     ]
    },
    {
     "name": "stderr",
     "output_type": "stream",
     "text": [
      " 26%|██▌       | 232/891 [01:20<03:39,  3.00it/s]"
     ]
    },
    {
     "name": "stdout",
     "output_type": "stream",
     "text": [
      "Aligned 340 residues (Free: 340, Bound: 348, Excluded: 8)\n",
      "Structure exists: 'data/PSCDB/PDB_structures/pdb1i6w.ent' \n",
      "Structure exists: 'data/PSCDB/PDB_structures/pdb1r4z.ent' \n",
      "Aligned 179 residues (Free: 179, Bound: 179, Excluded: 0)\n",
      "Structure exists: 'data/PSCDB/PDB_structures/pdb2ze4.ent' \n"
     ]
    },
    {
     "name": "stderr",
     "output_type": "stream",
     "text": [
      " 26%|██▌       | 233/891 [01:21<03:13,  3.40it/s]"
     ]
    },
    {
     "name": "stdout",
     "output_type": "stream",
     "text": [
      "Structure exists: 'data/PSCDB/PDB_structures/pdb2ze9.ent' \n",
      "Aligned 501 residues (Free: 501, Bound: 504, Excluded: 3)\n",
      "Structure exists: 'data/PSCDB/PDB_structures/pdb2dps.ent' \n",
      "Structure exists: 'data/PSCDB/PDB_structures/pdb2dpt.ent' \n"
     ]
    },
    {
     "name": "stderr",
     "output_type": "stream",
     "text": [
      " 26%|██▋       | 234/891 [01:21<03:07,  3.50it/s]"
     ]
    },
    {
     "name": "stdout",
     "output_type": "stream",
     "text": [
      "Aligned 228 residues (Free: 228, Bound: 232, Excluded: 4)\n",
      "Structure exists: 'data/PSCDB/PDB_structures/pdb1rn4.ent' \n",
      "Structure exists: 'data/PSCDB/PDB_structures/pdb2bir.ent' \n",
      "Aligned 100 residues (Free: 100, Bound: 104, Excluded: 4)\n",
      "Structure exists: 'data/PSCDB/PDB_structures/pdb2b4v.ent' \n",
      "Structure exists: 'data/PSCDB/PDB_structures/pdb2b51.ent' \n"
     ]
    },
    {
     "name": "stderr",
     "output_type": "stream",
     "text": [
      " 26%|██▋       | 236/891 [01:21<03:00,  3.63it/s]"
     ]
    },
    {
     "name": "stdout",
     "output_type": "stream",
     "text": [
      "Aligned 422 residues (Free: 422, Bound: 444, Excluded: 22)\n",
      "Structure exists: 'data/PSCDB/PDB_structures/pdb2on3.ent' \n",
      "Structure exists: 'data/PSCDB/PDB_structures/pdb2oo0.ent' \n"
     ]
    },
    {
     "name": "stderr",
     "output_type": "stream",
     "text": [
      " 27%|██▋       | 237/891 [01:22<03:04,  3.54it/s]"
     ]
    },
    {
     "name": "stdout",
     "output_type": "stream",
     "text": [
      "Aligned 392 residues (Free: 392, Bound: 419, Excluded: 27)\n",
      "Structure exists: 'data/PSCDB/PDB_structures/pdb1mqr.ent' \n",
      "Structure exists: 'data/PSCDB/PDB_structures/pdb1mqq.ent' \n"
     ]
    },
    {
     "name": "stderr",
     "output_type": "stream",
     "text": [
      " 27%|██▋       | 238/891 [01:22<03:09,  3.44it/s]"
     ]
    },
    {
     "name": "stdout",
     "output_type": "stream",
     "text": [
      "Aligned 672 residues (Free: 674, Bound: 675, Excluded: 5)\n",
      "Structure exists: 'data/PSCDB/PDB_structures/pdb1rjf.ent' \n"
     ]
    },
    {
     "name": "stderr",
     "output_type": "stream",
     "text": [
      " 27%|██▋       | 239/891 [01:23<04:00,  2.71it/s]"
     ]
    },
    {
     "name": "stdout",
     "output_type": "stream",
     "text": [
      "Structure exists: 'data/PSCDB/PDB_structures/pdb2ob2.ent' \n",
      "Aligned 319 residues (Free: 321, Bound: 326, Excluded: 9)\n",
      "Structure exists: 'data/PSCDB/PDB_structures/pdb2c9r.ent' \n",
      "Structure exists: 'data/PSCDB/PDB_structures/pdb2c9p.ent' \n"
     ]
    },
    {
     "name": "stderr",
     "output_type": "stream",
     "text": [
      " 27%|██▋       | 241/891 [01:23<02:46,  3.91it/s]"
     ]
    },
    {
     "name": "stdout",
     "output_type": "stream",
     "text": [
      "Aligned 97 residues (Free: 97, Bound: 102, Excluded: 5)\n",
      "Structure exists: 'data/PSCDB/PDB_structures/pdb2bgq.ent' \n",
      "Structure exists: 'data/PSCDB/PDB_structures/pdb2vdg.ent' \n",
      "Aligned 301 residues (Free: 305, Bound: 308, Excluded: 11)\n",
      "Structure exists: 'data/PSCDB/PDB_structures/pdb1m22.ent' \n",
      "Structure exists: 'data/PSCDB/PDB_structures/pdb1m21.ent' \n"
     ]
    },
    {
     "name": "stderr",
     "output_type": "stream",
     "text": [
      " 27%|██▋       | 242/891 [01:24<04:19,  2.50it/s]"
     ]
    },
    {
     "name": "stdout",
     "output_type": "stream",
     "text": [
      "Aligned 484 residues (Free: 487, Bound: 487, Excluded: 6)\n",
      "Structure exists: 'data/PSCDB/PDB_structures/pdb2vf4.ent' \n",
      "Structure exists: 'data/PSCDB/PDB_structures/pdb2vf5.ent' \n"
     ]
    },
    {
     "name": "stderr",
     "output_type": "stream",
     "text": [
      " 27%|██▋       | 243/891 [01:24<04:04,  2.66it/s]"
     ]
    },
    {
     "name": "stdout",
     "output_type": "stream",
     "text": [
      "Aligned 359 residues (Free: 359, Bound: 366, Excluded: 7)\n",
      "Structure exists: 'data/PSCDB/PDB_structures/pdb1fo8.ent' \n",
      "Structure exists: 'data/PSCDB/PDB_structures/pdb1foa.ent' \n",
      "Aligned 329 residues (Free: 330, Bound: 342, Excluded: 14)\n"
     ]
    },
    {
     "name": "stderr",
     "output_type": "stream",
     "text": [
      " 27%|██▋       | 245/891 [01:24<02:51,  3.76it/s]"
     ]
    },
    {
     "name": "stdout",
     "output_type": "stream",
     "text": [
      "Structure exists: 'data/PSCDB/PDB_structures/pdb2q18.ent' \n",
      "Structure exists: 'data/PSCDB/PDB_structures/pdb2q1c.ent' \n",
      "Aligned 282 residues (Free: 282, Bound: 291, Excluded: 9)\n",
      "Structure exists: 'data/PSCDB/PDB_structures/pdb1tqi.ent' \n"
     ]
    },
    {
     "name": "stderr",
     "output_type": "stream",
     "text": [
      " 28%|██▊       | 246/891 [01:24<02:29,  4.32it/s]"
     ]
    },
    {
     "name": "stdout",
     "output_type": "stream",
     "text": [
      "Structure exists: 'data/PSCDB/PDB_structures/pdb1zao.ent' \n",
      "Aligned 268 residues (Free: 269, Bound: 271, Excluded: 4)\n",
      "Structure exists: 'data/PSCDB/PDB_structures/pdb1jxh.ent' \n"
     ]
    },
    {
     "name": "stderr",
     "output_type": "stream",
     "text": [
      " 28%|██▊       | 247/891 [01:25<03:13,  3.33it/s]"
     ]
    },
    {
     "name": "stdout",
     "output_type": "stream",
     "text": [
      "Structure exists: 'data/PSCDB/PDB_structures/pdb1jxi.ent' \n",
      "Aligned 248 residues (Free: 248, Bound: 254, Excluded: 6)\n",
      "Structure exists: 'data/PSCDB/PDB_structures/pdb1nsj.ent' \n",
      "Structure exists: 'data/PSCDB/PDB_structures/pdb1lbm.ent' \n"
     ]
    },
    {
     "name": "stderr",
     "output_type": "stream",
     "text": [
      " 28%|██▊       | 248/891 [01:25<02:59,  3.59it/s]"
     ]
    },
    {
     "name": "stdout",
     "output_type": "stream",
     "text": [
      "Aligned 194 residues (Free: 205, Bound: 194, Excluded: 11)\n",
      "Structure exists: 'data/PSCDB/PDB_structures/pdb2etv.ent' \n",
      "Structure exists: 'data/PSCDB/PDB_structures/pdb2etv.ent' \n"
     ]
    },
    {
     "name": "stderr",
     "output_type": "stream",
     "text": [
      " 28%|██▊       | 249/891 [01:25<03:03,  3.49it/s]"
     ]
    },
    {
     "name": "stdout",
     "output_type": "stream",
     "text": [
      "Aligned 318 residues (Free: 318, Bound: 318, Excluded: 0)\n",
      "Structure exists: 'data/PSCDB/PDB_structures/pdb2bce.ent' \n",
      "Structure exists: 'data/PSCDB/PDB_structures/pdb1akn.ent' \n"
     ]
    },
    {
     "name": "stderr",
     "output_type": "stream",
     "text": [
      " 28%|██▊       | 250/891 [01:26<03:00,  3.55it/s]"
     ]
    },
    {
     "name": "stdout",
     "output_type": "stream",
     "text": [
      "Aligned 526 residues (Free: 532, Bound: 547, Excluded: 27)\n",
      "Structure exists: 'data/PSCDB/PDB_structures/pdb1rba.ent' \n"
     ]
    },
    {
     "name": "stderr",
     "output_type": "stream",
     "text": [
      " 28%|██▊       | 251/891 [01:26<03:56,  2.71it/s]"
     ]
    },
    {
     "name": "stdout",
     "output_type": "stream",
     "text": [
      "Structure exists: 'data/PSCDB/PDB_structures/pdb9rub.ent' \n",
      "Aligned 419 residues (Free: 419, Bound: 459, Excluded: 40)\n",
      "Structure exists: 'data/PSCDB/PDB_structures/pdb1s0g.ent' \n",
      "Structure exists: 'data/PSCDB/PDB_structures/pdb1f31.ent' \n",
      "Aligned 1280 residues (Free: 1288, Bound: 1280, Excluded: 8)\n"
     ]
    },
    {
     "name": "stderr",
     "output_type": "stream",
     "text": [
      " 28%|██▊       | 252/891 [01:27<05:31,  1.92it/s]"
     ]
    },
    {
     "name": "stdout",
     "output_type": "stream",
     "text": [
      "Structure exists: 'data/PSCDB/PDB_structures/pdb2f8s.ent' \n"
     ]
    },
    {
     "name": "stderr",
     "output_type": "stream",
     "text": [
      " 28%|██▊       | 253/891 [01:27<04:56,  2.15it/s]"
     ]
    },
    {
     "name": "stdout",
     "output_type": "stream",
     "text": [
      "Structure exists: 'data/PSCDB/PDB_structures/pdb1yvu.ent' \n",
      "Structure exists: 'data/PSCDB/PDB_structures/pdb1goh.ent' \n"
     ]
    },
    {
     "name": "stderr",
     "output_type": "stream",
     "text": [
      " 29%|██▊       | 254/891 [01:28<04:26,  2.39it/s]"
     ]
    },
    {
     "name": "stdout",
     "output_type": "stream",
     "text": [
      "Structure exists: 'data/PSCDB/PDB_structures/pdb1k3i.ent' \n",
      "Aligned 638 residues (Free: 639, Bound: 650, Excluded: 13)\n",
      "Structure exists: 'data/PSCDB/PDB_structures/pdb1yuy.ent' \n"
     ]
    },
    {
     "name": "stderr",
     "output_type": "stream",
     "text": [
      " 29%|██▊       | 255/891 [01:28<04:52,  2.18it/s]"
     ]
    },
    {
     "name": "stdout",
     "output_type": "stream",
     "text": [
      "Structure exists: 'data/PSCDB/PDB_structures/pdb1yvz.ent' \n",
      "Aligned 543 residues (Free: 558, Bound: 548, Excluded: 20)\n",
      "Structure exists: 'data/PSCDB/PDB_structures/pdb2p7l.ent' \n"
     ]
    },
    {
     "name": "stderr",
     "output_type": "stream",
     "text": [
      " 29%|██▊       | 256/891 [01:29<04:17,  2.46it/s]"
     ]
    },
    {
     "name": "stdout",
     "output_type": "stream",
     "text": [
      "Structure exists: 'data/PSCDB/PDB_structures/pdb2p7p.ent' \n",
      "Aligned 125 residues (Free: 125, Bound: 131, Excluded: 6)\n",
      "Structure exists: 'data/PSCDB/PDB_structures/pdb1m47.ent' \n",
      "Structure exists: 'data/PSCDB/PDB_structures/pdb1pw6.ent' \n"
     ]
    },
    {
     "name": "stderr",
     "output_type": "stream",
     "text": [
      " 29%|██▉       | 257/891 [01:29<03:33,  2.98it/s]"
     ]
    },
    {
     "name": "stdout",
     "output_type": "stream",
     "text": [
      "Aligned 117 residues (Free: 122, Bound: 121, Excluded: 9)\n",
      "Structure exists: 'data/PSCDB/PDB_structures/pdb1vde.ent' \n",
      "Structure exists: 'data/PSCDB/PDB_structures/pdb1ef0.ent' \n"
     ]
    },
    {
     "name": "stderr",
     "output_type": "stream",
     "text": [
      " 29%|██▉       | 258/891 [01:30<04:54,  2.15it/s]"
     ]
    },
    {
     "name": "stdout",
     "output_type": "stream",
     "text": [
      "Aligned 418 residues (Free: 429, Bound: 425, Excluded: 18)\n",
      "Structure exists: 'data/PSCDB/PDB_structures/pdb2qct.ent' \n",
      "Structure exists: 'data/PSCDB/PDB_structures/pdb2qct.ent' \n"
     ]
    },
    {
     "name": "stderr",
     "output_type": "stream",
     "text": [
      " 29%|██▉       | 259/891 [01:30<04:07,  2.55it/s]"
     ]
    },
    {
     "name": "stdout",
     "output_type": "stream",
     "text": [
      "Aligned 282 residues (Free: 282, Bound: 282, Excluded: 0)\n",
      "Structure exists: 'data/PSCDB/PDB_structures/pdb1kzh.ent' \n",
      "Structure exists: 'data/PSCDB/PDB_structures/pdb2f48.ent' \n"
     ]
    },
    {
     "name": "stderr",
     "output_type": "stream",
     "text": [
      " 29%|██▉       | 260/891 [01:30<04:09,  2.53it/s]"
     ]
    },
    {
     "name": "stdout",
     "output_type": "stream",
     "text": [
      "Aligned 550 residues (Free: 550, Bound: 551, Excluded: 1)\n",
      "Structure exists: 'data/PSCDB/PDB_structures/pdb3bok.ent' \n"
     ]
    },
    {
     "name": "stderr",
     "output_type": "stream",
     "text": [
      " 29%|██▉       | 261/891 [01:31<04:49,  2.17it/s]"
     ]
    },
    {
     "name": "stdout",
     "output_type": "stream",
     "text": [
      "Structure exists: 'data/PSCDB/PDB_structures/pdb2ise.ent' \n",
      "Aligned 414 residues (Free: 416, Bound: 421, Excluded: 9)\n",
      "Structure exists: 'data/PSCDB/PDB_structures/pdb1ymy.ent' \n",
      "Structure exists: 'data/PSCDB/PDB_structures/pdb2p50.ent' \n",
      "Aligned 376 residues (Free: 376, Bound: 382, Excluded: 6)\n"
     ]
    },
    {
     "name": "stderr",
     "output_type": "stream",
     "text": [
      " 30%|██▉       | 263/891 [01:31<03:34,  2.92it/s]"
     ]
    },
    {
     "name": "stdout",
     "output_type": "stream",
     "text": [
      "Structure exists: 'data/PSCDB/PDB_structures/pdb2e3m.ent' \n",
      "Structure exists: 'data/PSCDB/PDB_structures/pdb2e3p.ent' \n",
      "Aligned 235 residues (Free: 237, Bound: 235, Excluded: 2)\n",
      "Structure exists: 'data/PSCDB/PDB_structures/pdb1tws.ent' \n"
     ]
    },
    {
     "name": "stderr",
     "output_type": "stream",
     "text": [
      " 30%|██▉       | 264/891 [01:32<04:00,  2.60it/s]"
     ]
    },
    {
     "name": "stdout",
     "output_type": "stream",
     "text": [
      "Structure exists: 'data/PSCDB/PDB_structures/pdb1tx2.ent' \n",
      "Aligned 269 residues (Free: 273, Bound: 269, Excluded: 4)\n",
      "Structure exists: 'data/PSCDB/PDB_structures/pdb1f8n.ent' \n",
      "Structure exists: 'data/PSCDB/PDB_structures/pdb2sbl.ent' \n",
      "No common residues between 1f8n and 2sbl\n"
     ]
    },
    {
     "name": "stderr",
     "output_type": "stream",
     "text": [
      " 30%|██▉       | 265/891 [01:32<03:54,  2.67it/s]"
     ]
    },
    {
     "name": "stdout",
     "output_type": "stream",
     "text": [
      "Structure exists: 'data/PSCDB/PDB_structures/pdb1sry.ent' \n"
     ]
    },
    {
     "name": "stderr",
     "output_type": "stream",
     "text": [
      " 30%|██▉       | 266/891 [01:33<04:29,  2.32it/s]"
     ]
    },
    {
     "name": "stdout",
     "output_type": "stream",
     "text": [
      "Structure exists: 'data/PSCDB/PDB_structures/pdb1set.ent' \n",
      "Aligned 421 residues (Free: 421, Bound: 421, Excluded: 0)\n",
      "Structure exists: 'data/PSCDB/PDB_structures/pdb1jop.ent' \n"
     ]
    },
    {
     "name": "stderr",
     "output_type": "stream",
     "text": [
      " 30%|██▉       | 267/891 [01:33<03:48,  2.73it/s]"
     ]
    },
    {
     "name": "stdout",
     "output_type": "stream",
     "text": [
      "Structure exists: 'data/PSCDB/PDB_structures/pdb1s4c.ent' \n",
      "Aligned 140 residues (Free: 140, Bound: 150, Excluded: 10)\n",
      "Structure exists: 'data/PSCDB/PDB_structures/pdb1rxt.ent' \n",
      "Structure exists: 'data/PSCDB/PDB_structures/pdb1rxt.ent' \n"
     ]
    },
    {
     "name": "stderr",
     "output_type": "stream",
     "text": [
      " 30%|███       | 268/891 [01:34<04:57,  2.09it/s]"
     ]
    },
    {
     "name": "stdout",
     "output_type": "stream",
     "text": [
      "Aligned 342 residues (Free: 342, Bound: 342, Excluded: 0)\n",
      "Structure exists: 'data/PSCDB/PDB_structures/pdb1u6e.ent' \n",
      "Structure exists: 'data/PSCDB/PDB_structures/pdb2qo0.ent' \n"
     ]
    },
    {
     "name": "stderr",
     "output_type": "stream",
     "text": [
      " 30%|███       | 269/891 [01:34<04:14,  2.44it/s]"
     ]
    },
    {
     "name": "stdout",
     "output_type": "stream",
     "text": [
      "Aligned 321 residues (Free: 334, Bound: 328, Excluded: 20)\n",
      "Structure exists: 'data/PSCDB/PDB_structures/pdb1xyf.ent' \n",
      "Structure exists: 'data/PSCDB/PDB_structures/pdb1v6u.ent' \n"
     ]
    },
    {
     "name": "stderr",
     "output_type": "stream",
     "text": [
      " 30%|███       | 270/891 [01:34<04:05,  2.53it/s]"
     ]
    },
    {
     "name": "stdout",
     "output_type": "stream",
     "text": [
      "Aligned 427 residues (Free: 427, Bound: 436, Excluded: 9)\n",
      "Structure exists: 'data/PSCDB/PDB_structures/pdb3c8v.ent' \n",
      "Structure exists: 'data/PSCDB/PDB_structures/pdb3c8v.ent' \n",
      "Aligned 443 residues (Free: 443, Bound: 443, Excluded: 0)\n"
     ]
    },
    {
     "name": "stderr",
     "output_type": "stream",
     "text": [
      " 31%|███       | 272/891 [01:35<04:18,  2.39it/s]"
     ]
    },
    {
     "name": "stdout",
     "output_type": "stream",
     "text": [
      "Structure exists: 'data/PSCDB/PDB_structures/pdb2dwq.ent' \n",
      "Structure exists: 'data/PSCDB/PDB_structures/pdb2dby.ent' \n",
      "Aligned 348 residues (Free: 354, Bound: 353, Excluded: 11)\n",
      "Structure exists: 'data/PSCDB/PDB_structures/pdb2orx.ent' \n"
     ]
    },
    {
     "name": "stderr",
     "output_type": "stream",
     "text": [
      " 31%|███       | 273/891 [01:36<04:22,  2.35it/s]"
     ]
    },
    {
     "name": "stdout",
     "output_type": "stream",
     "text": [
      "Structure exists: 'data/PSCDB/PDB_structures/pdb2orz.ent' \n",
      "Aligned 313 residues (Free: 314, Bound: 313, Excluded: 1)\n",
      "Structure exists: 'data/PSCDB/PDB_structures/pdb1lyy.ent' \n",
      "Structure exists: 'data/PSCDB/PDB_structures/pdb1re2.ent' \n",
      "Aligned 130 residues (Free: 130, Bound: 130, Excluded: 0)\n",
      "Structure exists: 'data/PSCDB/PDB_structures/pdb3e59.ent' \n"
     ]
    },
    {
     "name": "stderr",
     "output_type": "stream",
     "text": [
      " 31%|███       | 275/891 [01:36<03:20,  3.07it/s]"
     ]
    },
    {
     "name": "stdout",
     "output_type": "stream",
     "text": [
      "Structure exists: 'data/PSCDB/PDB_structures/pdb3e59.ent' \n",
      "Aligned 311 residues (Free: 311, Bound: 311, Excluded: 0)\n",
      "Structure exists: 'data/PSCDB/PDB_structures/pdb1zy4.ent' \n",
      "Structure exists: 'data/PSCDB/PDB_structures/pdb1zyd.ent' \n"
     ]
    },
    {
     "name": "stderr",
     "output_type": "stream",
     "text": [
      " 31%|███       | 276/891 [01:37<03:52,  2.65it/s]"
     ]
    },
    {
     "name": "stdout",
     "output_type": "stream",
     "text": [
      "Aligned 267 residues (Free: 271, Bound: 270, Excluded: 7)\n",
      "Structure exists: 'data/PSCDB/PDB_structures/pdb2dh3.ent' \n",
      "Structure exists: 'data/PSCDB/PDB_structures/pdb2dh3.ent' \n"
     ]
    },
    {
     "name": "stderr",
     "output_type": "stream",
     "text": [
      " 31%|███       | 277/891 [01:37<03:37,  2.82it/s]"
     ]
    },
    {
     "name": "stdout",
     "output_type": "stream",
     "text": [
      "Aligned 416 residues (Free: 416, Bound: 416, Excluded: 0)\n",
      "Structure exists: 'data/PSCDB/PDB_structures/pdb1jde.ent' \n",
      "Structure exists: 'data/PSCDB/PDB_structures/pdb1kc7.ent' \n"
     ]
    },
    {
     "name": "stderr",
     "output_type": "stream",
     "text": [
      " 31%|███       | 278/891 [01:37<03:40,  2.78it/s]"
     ]
    },
    {
     "name": "stdout",
     "output_type": "stream",
     "text": [
      "Aligned 867 residues (Free: 868, Bound: 872, Excluded: 6)\n",
      "Structure exists: 'data/PSCDB/PDB_structures/pdb2ofj.ent' \n"
     ]
    },
    {
     "name": "stderr",
     "output_type": "stream",
     "text": [
      " 31%|███▏      | 279/891 [01:38<04:35,  2.22it/s]"
     ]
    },
    {
     "name": "stdout",
     "output_type": "stream",
     "text": [
      "Structure exists: 'data/PSCDB/PDB_structures/pdb1fhv.ent' \n",
      "Aligned 299 residues (Free: 300, Bound: 322, Excluded: 24)\n",
      "Structure exists: 'data/PSCDB/PDB_structures/pdb2v6f.ent' \n"
     ]
    },
    {
     "name": "stderr",
     "output_type": "stream",
     "text": [
      " 31%|███▏      | 280/891 [01:38<04:04,  2.50it/s]"
     ]
    },
    {
     "name": "stdout",
     "output_type": "stream",
     "text": [
      "Structure exists: 'data/PSCDB/PDB_structures/pdb2v6g.ent' \n",
      "Aligned 355 residues (Free: 355, Bound: 364, Excluded: 9)\n",
      "Structure exists: 'data/PSCDB/PDB_structures/pdb1mw9.ent' \n"
     ]
    },
    {
     "name": "stderr",
     "output_type": "stream",
     "text": [
      " 32%|███▏      | 281/891 [01:38<03:32,  2.86it/s]"
     ]
    },
    {
     "name": "stdout",
     "output_type": "stream",
     "text": [
      "Structure exists: 'data/PSCDB/PDB_structures/pdb1cy0.ent' \n",
      "No common residues between 1mw9 and 1cy0\n",
      "Structure exists: 'data/PSCDB/PDB_structures/pdb1tr9.ent' \n",
      "Structure exists: 'data/PSCDB/PDB_structures/pdb2oxn.ent' \n",
      "Aligned 317 residues (Free: 318, Bound: 333, Excluded: 17)\n"
     ]
    },
    {
     "name": "stderr",
     "output_type": "stream",
     "text": [
      " 32%|███▏      | 282/891 [01:39<02:58,  3.41it/s]"
     ]
    },
    {
     "name": "stdout",
     "output_type": "stream",
     "text": [
      "Structure exists: 'data/PSCDB/PDB_structures/pdb2imo.ent' \n"
     ]
    },
    {
     "name": "stderr",
     "output_type": "stream",
     "text": [
      " 32%|███▏      | 283/891 [01:39<03:48,  2.67it/s]"
     ]
    },
    {
     "name": "stdout",
     "output_type": "stream",
     "text": [
      "Structure exists: 'data/PSCDB/PDB_structures/pdb1z2l.ent' \n",
      "Aligned 386 residues (Free: 386, Bound: 411, Excluded: 25)\n",
      "Structure exists: 'data/PSCDB/PDB_structures/pdb1qzq.ent' \n"
     ]
    },
    {
     "name": "stderr",
     "output_type": "stream",
     "text": [
      " 32%|███▏      | 284/891 [01:39<03:28,  2.91it/s]"
     ]
    },
    {
     "name": "stdout",
     "output_type": "stream",
     "text": [
      "Structure exists: 'data/PSCDB/PDB_structures/pdb1rg2.ent' \n",
      "Structure exists: 'data/PSCDB/PDB_structures/pdb2zig.ent' \n",
      "Structure exists: 'data/PSCDB/PDB_structures/pdb2zif.ent' \n"
     ]
    },
    {
     "name": "stderr",
     "output_type": "stream",
     "text": [
      " 32%|███▏      | 285/891 [01:40<03:03,  3.30it/s]"
     ]
    },
    {
     "name": "stdout",
     "output_type": "stream",
     "text": [
      "Aligned 233 residues (Free: 236, Bound: 239, Excluded: 9)\n",
      "Structure exists: 'data/PSCDB/PDB_structures/pdb2dul.ent' \n"
     ]
    },
    {
     "name": "stderr",
     "output_type": "stream",
     "text": [
      " 32%|███▏      | 286/891 [01:40<03:42,  2.71it/s]"
     ]
    },
    {
     "name": "stdout",
     "output_type": "stream",
     "text": [
      "Structure exists: 'data/PSCDB/PDB_structures/pdb2ytz.ent' \n",
      "Aligned 362 residues (Free: 367, Bound: 371, Excluded: 14)\n",
      "Structure exists: 'data/PSCDB/PDB_structures/pdb1uzq.ent' \n",
      "Structure exists: 'data/PSCDB/PDB_structures/pdb1uzj.ent' \n"
     ]
    },
    {
     "name": "stderr",
     "output_type": "stream",
     "text": [
      " 32%|███▏      | 287/891 [01:40<03:04,  3.28it/s]"
     ]
    },
    {
     "name": "stdout",
     "output_type": "stream",
     "text": [
      "Aligned 152 residues (Free: 152, Bound: 162, Excluded: 10)\n",
      "Structure exists: 'data/PSCDB/PDB_structures/pdb2fjy.ent' \n",
      "Structure exists: 'data/PSCDB/PDB_structures/pdb1dqe.ent' \n"
     ]
    },
    {
     "name": "stderr",
     "output_type": "stream",
     "text": [
      " 32%|███▏      | 288/891 [01:41<02:56,  3.41it/s]"
     ]
    },
    {
     "name": "stdout",
     "output_type": "stream",
     "text": [
      "Aligned 131 residues (Free: 136, Bound: 137, Excluded: 11)\n",
      "Structure exists: 'data/PSCDB/PDB_structures/pdb2f6p.ent' \n",
      "Structure exists: 'data/PSCDB/PDB_structures/pdb2f8d.ent' \n",
      "Aligned 213 residues (Free: 213, Bound: 221, Excluded: 8)\n"
     ]
    },
    {
     "name": "stderr",
     "output_type": "stream",
     "text": [
      " 33%|███▎      | 290/891 [01:41<02:13,  4.50it/s]"
     ]
    },
    {
     "name": "stdout",
     "output_type": "stream",
     "text": [
      "Structure exists: 'data/PSCDB/PDB_structures/pdb3bgu.ent' \n",
      "Structure exists: 'data/PSCDB/PDB_structures/pdb3bgu.ent' \n",
      "Aligned 104 residues (Free: 104, Bound: 104, Excluded: 0)\n",
      "Structure exists: 'data/PSCDB/PDB_structures/pdb2dke.ent' \n"
     ]
    },
    {
     "name": "stderr",
     "output_type": "stream",
     "text": [
      " 33%|███▎      | 291/891 [01:41<02:48,  3.55it/s]"
     ]
    },
    {
     "name": "stdout",
     "output_type": "stream",
     "text": [
      "Structure exists: 'data/PSCDB/PDB_structures/pdb2d1e.ent' \n",
      "Aligned 240 residues (Free: 241, Bound: 243, Excluded: 4)\n",
      "Structure exists: 'data/PSCDB/PDB_structures/pdb2qfd.ent' \n"
     ]
    },
    {
     "name": "stderr",
     "output_type": "stream",
     "text": [
      " 33%|███▎      | 292/891 [01:42<03:03,  3.27it/s]"
     ]
    },
    {
     "name": "stdout",
     "output_type": "stream",
     "text": [
      "Structure exists: 'data/PSCDB/PDB_structures/pdb2qfb.ent' \n",
      "Aligned 121 residues (Free: 121, Bound: 121, Excluded: 0)\n",
      "Structure exists: 'data/PSCDB/PDB_structures/pdb2ci3.ent' \n"
     ]
    },
    {
     "name": "stderr",
     "output_type": "stream",
     "text": [
      " 33%|███▎      | 293/891 [01:42<02:37,  3.79it/s]"
     ]
    },
    {
     "name": "stdout",
     "output_type": "stream",
     "text": [
      "Structure exists: 'data/PSCDB/PDB_structures/pdb2ci6.ent' \n",
      "Aligned 273 residues (Free: 274, Bound: 273, Excluded: 1)\n",
      "Structure exists: 'data/PSCDB/PDB_structures/pdb2jdw.ent' \n",
      "Structure exists: 'data/PSCDB/PDB_structures/pdb4jdw.ent' \n"
     ]
    },
    {
     "name": "stderr",
     "output_type": "stream",
     "text": [
      " 33%|███▎      | 295/891 [01:42<02:37,  3.78it/s]"
     ]
    },
    {
     "name": "stdout",
     "output_type": "stream",
     "text": [
      "Aligned 360 residues (Free: 360, Bound: 360, Excluded: 0)\n",
      "Structure exists: 'data/PSCDB/PDB_structures/pdb1ivn.ent' \n",
      "Structure exists: 'data/PSCDB/PDB_structures/pdb1u8u.ent' \n",
      "Aligned 177 residues (Free: 178, Bound: 178, Excluded: 2)\n",
      "Structure exists: 'data/PSCDB/PDB_structures/pdb1pvw.ent' \n"
     ]
    },
    {
     "name": "stderr",
     "output_type": "stream",
     "text": [
      " 33%|███▎      | 296/891 [01:43<02:26,  4.06it/s]"
     ]
    },
    {
     "name": "stdout",
     "output_type": "stream",
     "text": [
      "Structure exists: 'data/PSCDB/PDB_structures/pdb1snn.ent' \n",
      "Aligned 219 residues (Free: 219, Bound: 219, Excluded: 0)\n",
      "Structure exists: 'data/PSCDB/PDB_structures/pdb2pqi.ent' \n"
     ]
    },
    {
     "name": "stderr",
     "output_type": "stream",
     "text": [
      " 33%|███▎      | 297/891 [01:43<02:31,  3.92it/s]"
     ]
    },
    {
     "name": "stdout",
     "output_type": "stream",
     "text": [
      "Structure exists: 'data/PSCDB/PDB_structures/pdb2pqj.ent' \n",
      "Aligned 233 residues (Free: 238, Bound: 233, Excluded: 5)\n",
      "Structure exists: 'data/PSCDB/PDB_structures/pdb1xe8.ent' \n",
      "Structure exists: 'data/PSCDB/PDB_structures/pdb1xe8.ent' \n"
     ]
    },
    {
     "name": "stderr",
     "output_type": "stream",
     "text": [
      " 33%|███▎      | 298/891 [01:43<03:13,  3.07it/s]"
     ]
    },
    {
     "name": "stdout",
     "output_type": "stream",
     "text": [
      "Aligned 186 residues (Free: 186, Bound: 186, Excluded: 0)\n",
      "Structure exists: 'data/PSCDB/PDB_structures/pdb2e0k.ent' \n",
      "Structure exists: 'data/PSCDB/PDB_structures/pdb2e0n.ent' \n"
     ]
    },
    {
     "name": "stderr",
     "output_type": "stream",
     "text": [
      " 34%|███▎      | 300/891 [01:44<02:35,  3.79it/s]"
     ]
    },
    {
     "name": "stdout",
     "output_type": "stream",
     "text": [
      "Aligned 229 residues (Free: 241, Bound: 229, Excluded: 12)\n",
      "Structure exists: 'data/PSCDB/PDB_structures/pdb1a3h.ent' \n",
      "Structure exists: 'data/PSCDB/PDB_structures/pdb1qhz.ent' \n",
      "Aligned 300 residues (Free: 300, Bound: 302, Excluded: 2)\n",
      "Structure exists: 'data/PSCDB/PDB_structures/pdb2znb.ent' \n"
     ]
    },
    {
     "name": "stderr",
     "output_type": "stream",
     "text": [
      " 34%|███▍      | 301/891 [01:44<02:20,  4.20it/s]"
     ]
    },
    {
     "name": "stdout",
     "output_type": "stream",
     "text": [
      "Structure exists: 'data/PSCDB/PDB_structures/pdb1a8t.ent' \n",
      "Aligned 204 residues (Free: 222, Bound: 230, Excluded: 44)\n",
      "Structure exists: 'data/PSCDB/PDB_structures/pdb2pgx.ent' \n",
      "Structure exists: 'data/PSCDB/PDB_structures/pdb2oyr.ent' \n"
     ]
    },
    {
     "name": "stderr",
     "output_type": "stream",
     "text": [
      " 34%|███▍      | 302/891 [01:44<02:05,  4.68it/s]"
     ]
    },
    {
     "name": "stdout",
     "output_type": "stream",
     "text": [
      "Aligned 239 residues (Free: 241, Bound: 239, Excluded: 2)\n",
      "Structure exists: 'data/PSCDB/PDB_structures/pdb1ds0.ent' \n",
      "Structure exists: 'data/PSCDB/PDB_structures/pdb1gvg.ent' \n"
     ]
    },
    {
     "name": "stderr",
     "output_type": "stream",
     "text": [
      " 34%|███▍      | 303/891 [01:45<02:53,  3.39it/s]"
     ]
    },
    {
     "name": "stdout",
     "output_type": "stream",
     "text": [
      "Aligned 315 residues (Free: 323, Bound: 315, Excluded: 8)\n",
      "Structure exists: 'data/PSCDB/PDB_structures/pdb2fss.ent' \n",
      "Structure exists: 'data/PSCDB/PDB_structures/pdb2j6i.ent' \n",
      "Aligned 353 residues (Free: 353, Bound: 353, Excluded: 0)\n"
     ]
    },
    {
     "name": "stderr",
     "output_type": "stream",
     "text": [
      " 34%|███▍      | 304/891 [01:45<03:16,  2.98it/s]"
     ]
    },
    {
     "name": "stdout",
     "output_type": "stream",
     "text": [
      "Structure exists: 'data/PSCDB/PDB_structures/pdb1t2u.ent' \n",
      "Structure exists: 'data/PSCDB/PDB_structures/pdb1t15.ent' \n"
     ]
    },
    {
     "name": "stderr",
     "output_type": "stream",
     "text": [
      " 34%|███▍      | 305/891 [01:46<03:24,  2.86it/s]"
     ]
    },
    {
     "name": "stdout",
     "output_type": "stream",
     "text": [
      "Aligned 207 residues (Free: 207, Bound: 211, Excluded: 4)\n",
      "Structure exists: 'data/PSCDB/PDB_structures/pdb3c2h.ent' \n",
      "Structure exists: 'data/PSCDB/PDB_structures/pdb3c2g.ent' \n"
     ]
    },
    {
     "name": "stderr",
     "output_type": "stream",
     "text": [
      " 34%|███▍      | 306/891 [01:46<03:27,  2.82it/s]"
     ]
    },
    {
     "name": "stdout",
     "output_type": "stream",
     "text": [
      "Aligned 601 residues (Free: 617, Bound: 603, Excluded: 18)\n",
      "Structure exists: 'data/PSCDB/PDB_structures/pdb2cz9.ent' \n",
      "Structure exists: 'data/PSCDB/PDB_structures/pdb2dei.ent' \n",
      "Aligned 346 residues (Free: 346, Bound: 350, Excluded: 4)\n"
     ]
    },
    {
     "name": "stderr",
     "output_type": "stream",
     "text": [
      " 34%|███▍      | 307/891 [01:46<02:49,  3.44it/s]"
     ]
    },
    {
     "name": "stdout",
     "output_type": "stream",
     "text": [
      "Structure exists: 'data/PSCDB/PDB_structures/pdb2nrt.ent' \n",
      "Structure exists: 'data/PSCDB/PDB_structures/pdb2nrz.ent' \n"
     ]
    },
    {
     "name": "stderr",
     "output_type": "stream",
     "text": [
      " 35%|███▍      | 308/891 [01:46<02:42,  3.58it/s]"
     ]
    },
    {
     "name": "stdout",
     "output_type": "stream",
     "text": [
      "Aligned 217 residues (Free: 217, Bound: 218, Excluded: 1)\n",
      "Structure exists: 'data/PSCDB/PDB_structures/pdb1br8.ent' \n"
     ]
    },
    {
     "name": "stderr",
     "output_type": "stream",
     "text": [
      " 35%|███▍      | 309/891 [01:47<03:48,  2.55it/s]"
     ]
    },
    {
     "name": "stdout",
     "output_type": "stream",
     "text": [
      "Structure exists: 'data/PSCDB/PDB_structures/pdb1azx.ent' \n",
      "No common residues between 1br8 and 1azx\n",
      "Structure exists: 'data/PSCDB/PDB_structures/pdb1h8n.ent' \n",
      "Structure exists: 'data/PSCDB/PDB_structures/pdb1h8s.ent' \n"
     ]
    },
    {
     "name": "stderr",
     "output_type": "stream",
     "text": [
      " 35%|███▍      | 311/891 [01:47<02:34,  3.75it/s]"
     ]
    },
    {
     "name": "stdout",
     "output_type": "stream",
     "text": [
      "Aligned 216 residues (Free: 217, Bound: 218, Excluded: 3)\n",
      "Structure exists: 'data/PSCDB/PDB_structures/pdb1h3i.ent' \n",
      "Structure exists: 'data/PSCDB/PDB_structures/pdb1mt6.ent' \n",
      "Aligned 280 residues (Free: 293, Bound: 280, Excluded: 13)\n",
      "Structure exists: 'data/PSCDB/PDB_structures/pdb1hka.ent' \n",
      "Structure exists: 'data/PSCDB/PDB_structures/pdb1rao.ent' \n"
     ]
    },
    {
     "name": "stderr",
     "output_type": "stream",
     "text": [
      " 35%|███▌      | 313/891 [01:47<01:43,  5.56it/s]"
     ]
    },
    {
     "name": "stdout",
     "output_type": "stream",
     "text": [
      "Aligned 158 residues (Free: 158, Bound: 158, Excluded: 0)\n",
      "Structure exists: 'data/PSCDB/PDB_structures/pdb2f1w.ent' \n",
      "Structure exists: 'data/PSCDB/PDB_structures/pdb2fop.ent' \n",
      "Aligned 137 residues (Free: 144, Bound: 137, Excluded: 7)\n",
      "Structure exists: 'data/PSCDB/PDB_structures/pdb2fz6.ent' \n"
     ]
    },
    {
     "name": "stderr",
     "output_type": "stream",
     "text": [
      " 35%|███▌      | 315/891 [01:48<01:56,  4.97it/s]"
     ]
    },
    {
     "name": "stdout",
     "output_type": "stream",
     "text": [
      "Structure exists: 'data/PSCDB/PDB_structures/pdb2fz6.ent' \n",
      "Aligned 72 residues (Free: 72, Bound: 72, Excluded: 0)\n",
      "Structure exists: 'data/PSCDB/PDB_structures/pdb1q31.ent' \n",
      "Structure exists: 'data/PSCDB/PDB_structures/pdb1lvb.ent' \n",
      "Aligned 208 residues (Free: 227, Bound: 208, Excluded: 19)\n",
      "Structure exists: 'data/PSCDB/PDB_structures/pdb1l0w.ent' \n"
     ]
    },
    {
     "name": "stderr",
     "output_type": "stream",
     "text": [
      " 35%|███▌      | 316/891 [01:48<02:24,  3.97it/s]"
     ]
    },
    {
     "name": "stdout",
     "output_type": "stream",
     "text": [
      "Structure exists: 'data/PSCDB/PDB_structures/pdb1g51.ent' \n",
      "Aligned 580 residues (Free: 580, Bound: 580, Excluded: 0)\n",
      "Structure exists: 'data/PSCDB/PDB_structures/pdb1o7v.ent' \n",
      "Structure exists: 'data/PSCDB/PDB_structures/pdb2hrl.ent' \n",
      "Aligned 116 residues (Free: 127, Bound: 116, Excluded: 11)\n",
      "Structure exists: 'data/PSCDB/PDB_structures/pdb1pz9.ent' \n"
     ]
    },
    {
     "name": "stderr",
     "output_type": "stream",
     "text": [
      " 36%|███▌      | 318/891 [01:49<02:20,  4.07it/s]"
     ]
    },
    {
     "name": "stdout",
     "output_type": "stream",
     "text": [
      "Structure exists: 'data/PSCDB/PDB_structures/pdb1pz7.ent' \n",
      "Aligned 183 residues (Free: 185, Bound: 188, Excluded: 7)\n",
      "Structure exists: 'data/PSCDB/PDB_structures/pdb2pyq.ent' \n",
      "Structure exists: 'data/PSCDB/PDB_structures/pdb2pyq.ent' \n"
     ]
    },
    {
     "name": "stderr",
     "output_type": "stream",
     "text": [
      " 36%|███▌      | 319/891 [01:49<02:20,  4.07it/s]"
     ]
    },
    {
     "name": "stdout",
     "output_type": "stream",
     "text": [
      "Aligned 108 residues (Free: 108, Bound: 108, Excluded: 0)\n",
      "Structure exists: 'data/PSCDB/PDB_structures/pdb1k4k.ent' \n",
      "Structure exists: 'data/PSCDB/PDB_structures/pdb1k4m.ent' \n"
     ]
    },
    {
     "name": "stderr",
     "output_type": "stream",
     "text": [
      " 36%|███▌      | 320/891 [01:49<02:29,  3.83it/s]"
     ]
    },
    {
     "name": "stdout",
     "output_type": "stream",
     "text": [
      "Aligned 213 residues (Free: 213, Bound: 213, Excluded: 0)\n",
      "Structure exists: 'data/PSCDB/PDB_structures/pdb2q7u.ent' \n",
      "Structure exists: 'data/PSCDB/PDB_structures/pdb2q7t.ent' \n"
     ]
    },
    {
     "name": "stderr",
     "output_type": "stream",
     "text": [
      " 36%|███▌      | 321/891 [01:50<02:58,  3.20it/s]"
     ]
    },
    {
     "name": "stdout",
     "output_type": "stream",
     "text": [
      "Aligned 267 residues (Free: 268, Bound: 267, Excluded: 1)\n",
      "Structure exists: 'data/PSCDB/PDB_structures/pdb1vsm.ent' \n",
      "Structure exists: 'data/PSCDB/PDB_structures/pdb1vsf.ent' \n",
      "Aligned 146 residues (Free: 146, Bound: 146, Excluded: 0)\n",
      "Structure exists: 'data/PSCDB/PDB_structures/pdb1xti.ent' \n",
      "Structure exists: 'data/PSCDB/PDB_structures/pdb1xtj.ent' \n",
      "Aligned 373 residues (Free: 381, Bound: 374, Excluded: 9)\n"
     ]
    },
    {
     "name": "stderr",
     "output_type": "stream",
     "text": [
      " 36%|███▋      | 324/891 [01:50<01:59,  4.75it/s]"
     ]
    },
    {
     "name": "stdout",
     "output_type": "stream",
     "text": [
      "Structure exists: 'data/PSCDB/PDB_structures/pdb1upl.ent' \n",
      "Structure exists: 'data/PSCDB/PDB_structures/pdb1upk.ent' \n",
      "Aligned 298 residues (Free: 303, Bound: 310, Excluded: 17)\n",
      "Structure exists: 'data/PSCDB/PDB_structures/pdb1a8d.ent' \n",
      "Structure exists: 'data/PSCDB/PDB_structures/pdb1fv3.ent' \n"
     ]
    },
    {
     "name": "stderr",
     "output_type": "stream",
     "text": [
      " 37%|███▋      | 326/891 [01:51<02:14,  4.20it/s]"
     ]
    },
    {
     "name": "stdout",
     "output_type": "stream",
     "text": [
      "No common residues between 1a8d and 1fv3\n",
      "Structure exists: 'data/PSCDB/PDB_structures/pdb1yjl.ent' \n",
      "Structure exists: 'data/PSCDB/PDB_structures/pdb1sdw.ent' \n",
      "Aligned 285 residues (Free: 285, Bound: 312, Excluded: 27)\n",
      "Structure exists: 'data/PSCDB/PDB_structures/pdb2it9.ent' \n",
      "Structure exists: 'data/PSCDB/PDB_structures/pdb2it9.ent' \n"
     ]
    },
    {
     "name": "stderr",
     "output_type": "stream",
     "text": [
      " 37%|███▋      | 327/891 [01:51<02:00,  4.66it/s]"
     ]
    },
    {
     "name": "stdout",
     "output_type": "stream",
     "text": [
      "Aligned 115 residues (Free: 115, Bound: 115, Excluded: 0)\n",
      "Structure exists: 'data/PSCDB/PDB_structures/pdb1p92.ent' \n",
      "Structure exists: 'data/PSCDB/PDB_structures/pdb1g3y.ent' \n",
      "Aligned 211 residues (Free: 218, Bound: 212, Excluded: 8)\n",
      "Structure exists: 'data/PSCDB/PDB_structures/pdb2gol.ent' \n",
      "Structure exists: 'data/PSCDB/PDB_structures/pdb2gon.ent' \n"
     ]
    },
    {
     "name": "stderr",
     "output_type": "stream",
     "text": [
      " 37%|███▋      | 330/891 [01:51<01:35,  5.86it/s]"
     ]
    },
    {
     "name": "stdout",
     "output_type": "stream",
     "text": [
      "No common residues between 2gol and 2gon\n",
      "Structure exists: 'data/PSCDB/PDB_structures/pdb3d97.ent' \n",
      "Structure exists: 'data/PSCDB/PDB_structures/pdb3d97.ent' \n",
      "Aligned 137 residues (Free: 137, Bound: 137, Excluded: 0)\n",
      "Structure exists: 'data/PSCDB/PDB_structures/pdb2z7a.ent' \n"
     ]
    },
    {
     "name": "stderr",
     "output_type": "stream",
     "text": [
      " 37%|███▋      | 331/891 [01:52<02:10,  4.28it/s]"
     ]
    },
    {
     "name": "stdout",
     "output_type": "stream",
     "text": [
      "Structure exists: 'data/PSCDB/PDB_structures/pdb2z76.ent' \n",
      "Aligned 131 residues (Free: 133, Bound: 131, Excluded: 2)\n",
      "Structure exists: 'data/PSCDB/PDB_structures/pdb1m0z.ent' \n",
      "Structure exists: 'data/PSCDB/PDB_structures/pdb1qyy.ent' \n",
      "Aligned 259 residues (Free: 259, Bound: 266, Excluded: 7)\n"
     ]
    },
    {
     "name": "stderr",
     "output_type": "stream",
     "text": [
      " 37%|███▋      | 332/891 [01:52<02:02,  4.57it/s]"
     ]
    },
    {
     "name": "stdout",
     "output_type": "stream",
     "text": [
      "Structure exists: 'data/PSCDB/PDB_structures/pdb1x2g.ent' \n",
      "Structure exists: 'data/PSCDB/PDB_structures/pdb1x2h.ent' \n"
     ]
    },
    {
     "name": "stderr",
     "output_type": "stream",
     "text": [
      " 37%|███▋      | 333/891 [01:52<02:20,  3.97it/s]"
     ]
    },
    {
     "name": "stdout",
     "output_type": "stream",
     "text": [
      "Aligned 325 residues (Free: 326, Bound: 325, Excluded: 1)\n",
      "Structure exists: 'data/PSCDB/PDB_structures/pdb2fsj.ent' \n"
     ]
    },
    {
     "name": "stderr",
     "output_type": "stream",
     "text": [
      " 37%|███▋      | 334/891 [01:53<02:51,  3.25it/s]"
     ]
    },
    {
     "name": "stdout",
     "output_type": "stream",
     "text": [
      "Structure exists: 'data/PSCDB/PDB_structures/pdb2fsn.ent' \n",
      "Aligned 305 residues (Free: 318, Bound: 305, Excluded: 13)\n",
      "Structure exists: 'data/PSCDB/PDB_structures/pdb1e8y.ent' \n",
      "Structure exists: 'data/PSCDB/PDB_structures/pdb3dbs.ent' \n"
     ]
    },
    {
     "name": "stderr",
     "output_type": "stream",
     "text": [
      " 38%|███▊      | 335/891 [01:53<02:52,  3.22it/s]"
     ]
    },
    {
     "name": "stdout",
     "output_type": "stream",
     "text": [
      "Aligned 840 residues (Free: 841, Bound: 841, Excluded: 2)\n",
      "Structure exists: 'data/PSCDB/PDB_structures/pdb1ebu.ent' \n",
      "Structure exists: 'data/PSCDB/PDB_structures/pdb1ebf.ent' \n"
     ]
    },
    {
     "name": "stderr",
     "output_type": "stream",
     "text": [
      " 38%|███▊      | 337/891 [01:54<02:52,  3.21it/s]"
     ]
    },
    {
     "name": "stdout",
     "output_type": "stream",
     "text": [
      "Aligned 358 residues (Free: 358, Bound: 358, Excluded: 0)\n",
      "Structure exists: 'data/PSCDB/PDB_structures/pdb2jkf.ent' \n",
      "Structure exists: 'data/PSCDB/PDB_structures/pdb2jkg.ent' \n",
      "Aligned 165 residues (Free: 170, Bound: 165, Excluded: 5)\n",
      "Structure exists: 'data/PSCDB/PDB_structures/pdb1n4d.ent' \n"
     ]
    },
    {
     "name": "stderr",
     "output_type": "stream",
     "text": [
      " 38%|███▊      | 338/891 [01:54<02:27,  3.76it/s]"
     ]
    },
    {
     "name": "stdout",
     "output_type": "stream",
     "text": [
      "Structure exists: 'data/PSCDB/PDB_structures/pdb1n4a.ent' \n",
      "Aligned 242 residues (Free: 242, Bound: 242, Excluded: 0)\n",
      "Structure exists: 'data/PSCDB/PDB_structures/pdb2gzr.ent' \n",
      "Structure exists: 'data/PSCDB/PDB_structures/pdb2gzs.ent' \n",
      "Aligned 238 residues (Free: 238, Bound: 245, Excluded: 7)\n"
     ]
    },
    {
     "name": "stderr",
     "output_type": "stream",
     "text": [
      " 38%|███▊      | 339/891 [01:54<02:01,  4.55it/s]"
     ]
    },
    {
     "name": "stdout",
     "output_type": "stream",
     "text": [
      "Structure exists: 'data/PSCDB/PDB_structures/pdb1thf.ent' \n",
      "Structure exists: 'data/PSCDB/PDB_structures/pdb2a0n.ent' \n",
      "No common residues between 1thf and 2a0n\n",
      "Structure exists: 'data/PSCDB/PDB_structures/pdb2oej.ent' \n",
      "Structure exists: 'data/PSCDB/PDB_structures/pdb2oek.ent' \n"
     ]
    },
    {
     "name": "stderr",
     "output_type": "stream",
     "text": [
      " 38%|███▊      | 341/891 [01:55<02:32,  3.62it/s]"
     ]
    },
    {
     "name": "stdout",
     "output_type": "stream",
     "text": [
      "Aligned 406 residues (Free: 407, Bound: 411, Excluded: 6)\n",
      "Structure exists: 'data/PSCDB/PDB_structures/pdb2jep.ent' \n",
      "Structure exists: 'data/PSCDB/PDB_structures/pdb2jeq.ent' \n",
      "Aligned 359 residues (Free: 363, Bound: 359, Excluded: 4)\n"
     ]
    },
    {
     "name": "stderr",
     "output_type": "stream",
     "text": [
      " 38%|███▊      | 342/891 [01:55<03:42,  2.47it/s]"
     ]
    },
    {
     "name": "stdout",
     "output_type": "stream",
     "text": [
      "Structure exists: 'data/PSCDB/PDB_structures/pdb2ik9.ent' \n"
     ]
    },
    {
     "name": "stderr",
     "output_type": "stream",
     "text": [
      " 38%|███▊      | 343/891 [01:56<03:55,  2.33it/s]"
     ]
    },
    {
     "name": "stdout",
     "output_type": "stream",
     "text": [
      "Structure exists: 'data/PSCDB/PDB_structures/pdb1huj.ent' \n",
      "Aligned 277 residues (Free: 278, Bound: 281, Excluded: 5)\n",
      "Structure exists: 'data/PSCDB/PDB_structures/pdb2izp.ent' \n",
      "Structure exists: 'data/PSCDB/PDB_structures/pdb2j9t.ent' \n"
     ]
    },
    {
     "name": "stderr",
     "output_type": "stream",
     "text": [
      " 39%|███▊      | 344/891 [01:57<05:14,  1.74it/s]"
     ]
    },
    {
     "name": "stdout",
     "output_type": "stream",
     "text": [
      "No common residues between 2izp and 2j9t\n",
      "Structure exists: 'data/PSCDB/PDB_structures/pdb1k0m.ent' \n",
      "Structure exists: 'data/PSCDB/PDB_structures/pdb1k0n.ent' \n"
     ]
    },
    {
     "name": "stderr",
     "output_type": "stream",
     "text": [
      " 39%|███▊      | 345/891 [01:57<04:35,  1.99it/s]"
     ]
    },
    {
     "name": "stdout",
     "output_type": "stream",
     "text": [
      "Aligned 225 residues (Free: 235, Bound: 226, Excluded: 11)\n",
      "Structure exists: 'data/PSCDB/PDB_structures/pdb2uyr.ent' \n",
      "Structure exists: 'data/PSCDB/PDB_structures/pdb2dds.ent' \n"
     ]
    },
    {
     "name": "stderr",
     "output_type": "stream",
     "text": [
      " 39%|███▉      | 346/891 [01:58<04:05,  2.22it/s]"
     ]
    },
    {
     "name": "stdout",
     "output_type": "stream",
     "text": [
      "No common residues between 2uyr and 2dds\n",
      "Structure exists: 'data/PSCDB/PDB_structures/pdb2plf.ent' \n",
      "Structure exists: 'data/PSCDB/PDB_structures/pdb2pmd.ent' \n"
     ]
    },
    {
     "name": "stderr",
     "output_type": "stream",
     "text": [
      " 39%|███▉      | 347/891 [01:58<05:01,  1.80it/s]"
     ]
    },
    {
     "name": "stdout",
     "output_type": "stream",
     "text": [
      "Aligned 414 residues (Free: 414, Bound: 414, Excluded: 0)\n",
      "Structure exists: 'data/PSCDB/PDB_structures/pdb2yx6.ent' \n",
      "Structure exists: 'data/PSCDB/PDB_structures/pdb2yx6.ent' \n"
     ]
    },
    {
     "name": "stderr",
     "output_type": "stream",
     "text": [
      " 39%|███▉      | 348/891 [01:59<04:16,  2.12it/s]"
     ]
    },
    {
     "name": "stdout",
     "output_type": "stream",
     "text": [
      "Aligned 110 residues (Free: 110, Bound: 110, Excluded: 0)\n",
      "Structure exists: 'data/PSCDB/PDB_structures/pdb2rck.ent' \n"
     ]
    },
    {
     "name": "stderr",
     "output_type": "stream",
     "text": [
      " 39%|███▉      | 349/891 [01:59<03:58,  2.27it/s]"
     ]
    },
    {
     "name": "stdout",
     "output_type": "stream",
     "text": [
      "Structure exists: 'data/PSCDB/PDB_structures/pdb2rck.ent' \n",
      "Aligned 221 residues (Free: 221, Bound: 221, Excluded: 0)\n",
      "Structure exists: 'data/PSCDB/PDB_structures/pdb3c95.ent' \n",
      "Structure exists: 'data/PSCDB/PDB_structures/pdb3c94.ent' \n",
      "Aligned 445 residues (Free: 446, Bound: 458, Excluded: 14)\n"
     ]
    },
    {
     "name": "stderr",
     "output_type": "stream",
     "text": [
      " 39%|███▉      | 350/891 [02:00<04:25,  2.04it/s]"
     ]
    },
    {
     "name": "stdout",
     "output_type": "stream",
     "text": [
      "Structure exists: 'data/PSCDB/PDB_structures/pdb3d5u.ent' \n",
      "Structure exists: 'data/PSCDB/PDB_structures/pdb3d5w.ent' \n",
      "Aligned 284 residues (Free: 288, Bound: 284, Excluded: 4)\n"
     ]
    },
    {
     "name": "stderr",
     "output_type": "stream",
     "text": [
      " 39%|███▉      | 351/891 [02:00<04:25,  2.03it/s]"
     ]
    },
    {
     "name": "stdout",
     "output_type": "stream",
     "text": [
      "Structure exists: 'data/PSCDB/PDB_structures/pdb2oew.ent' \n",
      "Structure exists: 'data/PSCDB/PDB_structures/pdb3c3o.ent' \n"
     ]
    },
    {
     "name": "stderr",
     "output_type": "stream",
     "text": [
      " 40%|███▉      | 352/891 [02:01<04:10,  2.15it/s]"
     ]
    },
    {
     "name": "stdout",
     "output_type": "stream",
     "text": [
      "Aligned 357 residues (Free: 358, Bound: 357, Excluded: 1)\n",
      "Structure exists: 'data/PSCDB/PDB_structures/pdb2vns.ent' \n"
     ]
    },
    {
     "name": "stderr",
     "output_type": "stream",
     "text": [
      " 40%|███▉      | 353/891 [02:02<05:38,  1.59it/s]"
     ]
    },
    {
     "name": "stdout",
     "output_type": "stream",
     "text": [
      "Structure exists: 'data/PSCDB/PDB_structures/pdb2vq3.ent' \n",
      "Aligned 180 residues (Free: 180, Bound: 181, Excluded: 1)\n",
      "Structure exists: 'data/PSCDB/PDB_structures/pdb1od4.ent' \n",
      "Structure exists: 'data/PSCDB/PDB_structures/pdb1od2.ent' \n"
     ]
    },
    {
     "name": "stderr",
     "output_type": "stream",
     "text": [
      " 40%|███▉      | 354/891 [02:02<06:18,  1.42it/s]"
     ]
    },
    {
     "name": "stdout",
     "output_type": "stream",
     "text": [
      "Aligned 662 residues (Free: 666, Bound: 702, Excluded: 44)\n",
      "Structure exists: 'data/PSCDB/PDB_structures/pdb1h7b.ent' \n"
     ]
    },
    {
     "name": "stderr",
     "output_type": "stream",
     "text": [
      " 40%|███▉      | 355/891 [02:03<06:11,  1.44it/s]"
     ]
    },
    {
     "name": "stdout",
     "output_type": "stream",
     "text": [
      "Structure exists: 'data/PSCDB/PDB_structures/pdb1h78.ent' \n",
      "Aligned 532 residues (Free: 534, Bound: 534, Excluded: 4)\n",
      "Structure exists: 'data/PSCDB/PDB_structures/pdb2qo2.ent' \n"
     ]
    },
    {
     "name": "stderr",
     "output_type": "stream",
     "text": [
      " 40%|███▉      | 356/891 [02:03<04:54,  1.82it/s]"
     ]
    },
    {
     "name": "stdout",
     "output_type": "stream",
     "text": [
      "Structure exists: 'data/PSCDB/PDB_structures/pdb2qoq.ent' \n",
      "Aligned 280 residues (Free: 282, Bound: 284, Excluded: 6)\n",
      "Structure exists: 'data/PSCDB/PDB_structures/pdb1fcq.ent' \n",
      "Structure exists: 'data/PSCDB/PDB_structures/pdb1fcv.ent' \n"
     ]
    },
    {
     "name": "stderr",
     "output_type": "stream",
     "text": [
      " 40%|████      | 357/891 [02:04<04:35,  1.94it/s]"
     ]
    },
    {
     "name": "stdout",
     "output_type": "stream",
     "text": [
      "Aligned 314 residues (Free: 314, Bound: 324, Excluded: 10)\n",
      "Structure exists: 'data/PSCDB/PDB_structures/pdb1g6l.ent' \n",
      "Structure exists: 'data/PSCDB/PDB_structures/pdb1hvc.ent' \n"
     ]
    },
    {
     "name": "stderr",
     "output_type": "stream",
     "text": [
      " 40%|████      | 358/891 [02:04<04:43,  1.88it/s]"
     ]
    },
    {
     "name": "stdout",
     "output_type": "stream",
     "text": [
      "Aligned 99 residues (Free: 198, Bound: 203, Excluded: 203)\n",
      "Structure exists: 'data/PSCDB/PDB_structures/pdb1pbg.ent' \n",
      "Structure exists: 'data/PSCDB/PDB_structures/pdb4pbg.ent' \n"
     ]
    },
    {
     "name": "stderr",
     "output_type": "stream",
     "text": [
      " 40%|████      | 359/891 [02:05<05:40,  1.56it/s]"
     ]
    },
    {
     "name": "stdout",
     "output_type": "stream",
     "text": [
      "Aligned 454 residues (Free: 454, Bound: 468, Excluded: 14)\n",
      "Structure exists: 'data/PSCDB/PDB_structures/pdb1pgs.ent' \n",
      "Structure exists: 'data/PSCDB/PDB_structures/pdb1pnf.ent' \n",
      "Aligned 311 residues (Free: 311, Bound: 314, Excluded: 3)\n"
     ]
    },
    {
     "name": "stderr",
     "output_type": "stream",
     "text": [
      " 40%|████      | 360/891 [02:05<04:27,  1.98it/s]"
     ]
    },
    {
     "name": "stdout",
     "output_type": "stream",
     "text": [
      "Structure exists: 'data/PSCDB/PDB_structures/pdb1dkl.ent' \n",
      "Structure exists: 'data/PSCDB/PDB_structures/pdb1dkq.ent' \n",
      "Aligned 404 residues (Free: 404, Bound: 410, Excluded: 6)\n"
     ]
    },
    {
     "name": "stderr",
     "output_type": "stream",
     "text": [
      " 41%|████      | 361/891 [02:06<04:21,  2.03it/s]"
     ]
    },
    {
     "name": "stdout",
     "output_type": "stream",
     "text": [
      "Structure exists: 'data/PSCDB/PDB_structures/pdb2pgy.ent' \n"
     ]
    },
    {
     "name": "stderr",
     "output_type": "stream",
     "text": [
      " 41%|████      | 362/891 [02:06<04:15,  2.07it/s]"
     ]
    },
    {
     "name": "stdout",
     "output_type": "stream",
     "text": [
      "Structure exists: 'data/PSCDB/PDB_structures/pdb1r7y.ent' \n",
      "Aligned 264 residues (Free: 272, Bound: 264, Excluded: 8)\n",
      "Structure exists: 'data/PSCDB/PDB_structures/pdb2veg.ent' \n",
      "Structure exists: 'data/PSCDB/PDB_structures/pdb2veg.ent' \n"
     ]
    },
    {
     "name": "stderr",
     "output_type": "stream",
     "text": [
      " 41%|████      | 363/891 [02:07<05:18,  1.66it/s]"
     ]
    },
    {
     "name": "stdout",
     "output_type": "stream",
     "text": [
      "Aligned 279 residues (Free: 279, Bound: 279, Excluded: 0)\n",
      "Structure exists: 'data/PSCDB/PDB_structures/pdb1rpl.ent' \n",
      "Structure exists: 'data/PSCDB/PDB_structures/pdb1nom.ent' \n",
      "Aligned 238 residues (Free: 241, Bound: 242, Excluded: 7)\n"
     ]
    },
    {
     "name": "stderr",
     "output_type": "stream",
     "text": [
      " 41%|████      | 364/891 [02:07<04:12,  2.09it/s]"
     ]
    },
    {
     "name": "stdout",
     "output_type": "stream",
     "text": [
      "Structure exists: 'data/PSCDB/PDB_structures/pdb2znv.ent' \n"
     ]
    },
    {
     "name": "stderr",
     "output_type": "stream",
     "text": [
      " 41%|████      | 365/891 [02:08<04:23,  2.00it/s]"
     ]
    },
    {
     "name": "stdout",
     "output_type": "stream",
     "text": [
      "Structure exists: 'data/PSCDB/PDB_structures/pdb2zcc.ent' \n",
      "No common residues between 2znv and 2zcc\n",
      "Structure exists: 'data/PSCDB/PDB_structures/pdb2ajg.ent' \n"
     ]
    },
    {
     "name": "stderr",
     "output_type": "stream",
     "text": [
      " 41%|████      | 366/891 [02:08<04:08,  2.12it/s]"
     ]
    },
    {
     "name": "stdout",
     "output_type": "stream",
     "text": [
      "Structure exists: 'data/PSCDB/PDB_structures/pdb2ajh.ent' \n",
      "Aligned 186 residues (Free: 186, Bound: 186, Excluded: 0)\n",
      "Structure exists: 'data/PSCDB/PDB_structures/pdb1gxr.ent' \n",
      "Structure exists: 'data/PSCDB/PDB_structures/pdb2ce9.ent' \n"
     ]
    },
    {
     "name": "stderr",
     "output_type": "stream",
     "text": [
      " 41%|████      | 367/891 [02:09<05:42,  1.53it/s]"
     ]
    },
    {
     "name": "stdout",
     "output_type": "stream",
     "text": [
      "Aligned 335 residues (Free: 335, Bound: 337, Excluded: 2)\n",
      "Structure exists: 'data/PSCDB/PDB_structures/pdb1f1s.ent' \n",
      "Structure exists: 'data/PSCDB/PDB_structures/pdb1i8q.ent' \n",
      "Aligned 814 residues (Free: 814, Bound: 814, Excluded: 0)\n"
     ]
    },
    {
     "name": "stderr",
     "output_type": "stream",
     "text": [
      " 41%|████▏     | 368/891 [02:10<05:19,  1.64it/s]"
     ]
    },
    {
     "name": "stdout",
     "output_type": "stream",
     "text": [
      "Structure exists: 'data/PSCDB/PDB_structures/pdb2d5l.ent' \n",
      "Structure exists: 'data/PSCDB/PDB_structures/pdb2eep.ent' \n"
     ]
    },
    {
     "name": "stderr",
     "output_type": "stream",
     "text": [
      " 41%|████▏     | 369/891 [02:10<04:32,  1.92it/s]"
     ]
    },
    {
     "name": "stdout",
     "output_type": "stream",
     "text": [
      "Aligned 655 residues (Free: 665, Bound: 659, Excluded: 14)\n",
      "Structure exists: 'data/PSCDB/PDB_structures/pdb1tvl.ent' \n"
     ]
    },
    {
     "name": "stderr",
     "output_type": "stream",
     "text": [
      " 42%|████▏     | 370/891 [02:11<04:57,  1.75it/s]"
     ]
    },
    {
     "name": "stdout",
     "output_type": "stream",
     "text": [
      "Structure exists: 'data/PSCDB/PDB_structures/pdb1yw1.ent' \n",
      "Aligned 385 residues (Free: 390, Bound: 389, Excluded: 9)\n",
      "Structure exists: 'data/PSCDB/PDB_structures/pdb3cgz.ent' \n"
     ]
    },
    {
     "name": "stderr",
     "output_type": "stream",
     "text": [
      " 42%|████▏     | 371/891 [02:11<03:57,  2.19it/s]"
     ]
    },
    {
     "name": "stdout",
     "output_type": "stream",
     "text": [
      "Structure exists: 'data/PSCDB/PDB_structures/pdb3cgy.ent' \n",
      "Aligned 133 residues (Free: 143, Bound: 133, Excluded: 10)\n",
      "Structure exists: 'data/PSCDB/PDB_structures/pdb2qj3.ent' \n",
      "Structure exists: 'data/PSCDB/PDB_structures/pdb2qj3.ent' \n"
     ]
    },
    {
     "name": "stderr",
     "output_type": "stream",
     "text": [
      " 42%|████▏     | 372/891 [02:12<03:51,  2.24it/s]"
     ]
    },
    {
     "name": "stdout",
     "output_type": "stream",
     "text": [
      "Aligned 314 residues (Free: 314, Bound: 314, Excluded: 0)\n",
      "Structure exists: 'data/PSCDB/PDB_structures/pdb2obl.ent' \n",
      "Structure exists: 'data/PSCDB/PDB_structures/pdb2obm.ent' \n"
     ]
    },
    {
     "name": "stderr",
     "output_type": "stream",
     "text": [
      " 42%|████▏     | 373/891 [02:12<03:20,  2.58it/s]"
     ]
    },
    {
     "name": "stdout",
     "output_type": "stream",
     "text": [
      "Aligned 340 residues (Free: 346, Bound: 340, Excluded: 6)\n",
      "Structure exists: 'data/PSCDB/PDB_structures/pdb1uoc.ent' \n"
     ]
    },
    {
     "name": "stderr",
     "output_type": "stream",
     "text": [
      " 42%|████▏     | 374/891 [02:12<03:10,  2.72it/s]"
     ]
    },
    {
     "name": "stdout",
     "output_type": "stream",
     "text": [
      "Structure exists: 'data/PSCDB/PDB_structures/pdb1uoc.ent' \n",
      "Aligned 263 residues (Free: 263, Bound: 263, Excluded: 0)\n",
      "Structure exists: 'data/PSCDB/PDB_structures/pdb2ddm.ent' \n"
     ]
    },
    {
     "name": "stderr",
     "output_type": "stream",
     "text": [
      " 42%|████▏     | 375/891 [02:13<03:52,  2.22it/s]"
     ]
    },
    {
     "name": "stdout",
     "output_type": "stream",
     "text": [
      "Structure exists: 'data/PSCDB/PDB_structures/pdb2ddo.ent' \n",
      "Aligned 263 residues (Free: 264, Bound: 263, Excluded: 1)\n",
      "Structure exists: 'data/PSCDB/PDB_structures/pdb2lkf.ent' \n",
      "Structure exists: 'data/PSCDB/PDB_structures/pdb3lkf.ent' \n"
     ]
    },
    {
     "name": "stderr",
     "output_type": "stream",
     "text": [
      " 42%|████▏     | 376/891 [02:13<03:06,  2.76it/s]"
     ]
    },
    {
     "name": "stdout",
     "output_type": "stream",
     "text": [
      "Aligned 292 residues (Free: 296, Bound: 292, Excluded: 4)\n",
      "Structure exists: 'data/PSCDB/PDB_structures/pdb2qvl.ent' \n",
      "Structure exists: 'data/PSCDB/PDB_structures/pdb2qv7.ent' \n",
      "Aligned 274 residues (Free: 274, Bound: 293, Excluded: 19)\n"
     ]
    },
    {
     "name": "stderr",
     "output_type": "stream",
     "text": [
      " 42%|████▏     | 377/891 [02:13<02:40,  3.21it/s]"
     ]
    },
    {
     "name": "stdout",
     "output_type": "stream",
     "text": [
      "Structure exists: 'data/PSCDB/PDB_structures/pdb2hp3.ent' \n",
      "Structure exists: 'data/PSCDB/PDB_structures/pdb2hp0.ent' \n"
     ]
    },
    {
     "name": "stderr",
     "output_type": "stream",
     "text": [
      " 42%|████▏     | 378/891 [02:14<03:27,  2.47it/s]"
     ]
    },
    {
     "name": "stdout",
     "output_type": "stream",
     "text": [
      "Aligned 430 residues (Free: 446, Bound: 431, Excluded: 17)\n",
      "Structure exists: 'data/PSCDB/PDB_structures/pdb2i2w.ent' \n"
     ]
    },
    {
     "name": "stderr",
     "output_type": "stream",
     "text": [
      " 43%|████▎     | 379/891 [02:14<03:20,  2.55it/s]"
     ]
    },
    {
     "name": "stdout",
     "output_type": "stream",
     "text": [
      "Structure exists: 'data/PSCDB/PDB_structures/pdb2i22.ent' \n",
      "Aligned 179 residues (Free: 192, Bound: 179, Excluded: 13)\n",
      "Structure exists: 'data/PSCDB/PDB_structures/pdb2d2e.ent' \n"
     ]
    },
    {
     "name": "stderr",
     "output_type": "stream",
     "text": [
      " 43%|████▎     | 380/891 [02:14<02:38,  3.23it/s]"
     ]
    },
    {
     "name": "stdout",
     "output_type": "stream",
     "text": [
      "Structure exists: 'data/PSCDB/PDB_structures/pdb2d2f.ent' \n",
      "Aligned 239 residues (Free: 239, Bound: 246, Excluded: 7)\n",
      "Structure exists: 'data/PSCDB/PDB_structures/pdb1w16.ent' \n",
      "Structure exists: 'data/PSCDB/PDB_structures/pdb1w15.ent' \n",
      "Aligned 125 residues (Free: 125, Bound: 132, Excluded: 7)\n",
      "Structure exists: 'data/PSCDB/PDB_structures/pdb1obp.ent' \n"
     ]
    },
    {
     "name": "stderr",
     "output_type": "stream",
     "text": [
      " 43%|████▎     | 382/891 [02:14<01:48,  4.70it/s]"
     ]
    },
    {
     "name": "stdout",
     "output_type": "stream",
     "text": [
      "Structure exists: 'data/PSCDB/PDB_structures/pdb1pbo.ent' \n",
      "Aligned 156 residues (Free: 158, Bound: 157, Excluded: 3)\n",
      "Structure exists: 'data/PSCDB/PDB_structures/pdb1na5.ent' \n",
      "Structure exists: 'data/PSCDB/PDB_structures/pdb1ido.ent' \n",
      "Aligned 184 residues (Free: 195, Bound: 184, Excluded: 11)\n",
      "Structure exists: 'data/PSCDB/PDB_structures/pdb3wrp.ent' \n",
      "Structure exists: 'data/PSCDB/PDB_structures/pdb2oz9.ent' \n"
     ]
    },
    {
     "name": "stderr",
     "output_type": "stream",
     "text": [
      " 43%|████▎     | 385/891 [02:15<01:39,  5.10it/s]"
     ]
    },
    {
     "name": "stdout",
     "output_type": "stream",
     "text": [
      "No common residues between 3wrp and 2oz9\n",
      "Structure exists: 'data/PSCDB/PDB_structures/pdb2f08.ent' \n",
      "Structure exists: 'data/PSCDB/PDB_structures/pdb1xwv.ent' \n",
      "Aligned 129 residues (Free: 129, Bound: 129, Excluded: 0)\n",
      "Structure exists: 'data/PSCDB/PDB_structures/pdb2quk.ent' \n",
      "Structure exists: 'data/PSCDB/PDB_structures/pdb2quj.ent' \n"
     ]
    },
    {
     "name": "stderr",
     "output_type": "stream",
     "text": [
      " 43%|████▎     | 386/891 [02:15<01:38,  5.14it/s]"
     ]
    },
    {
     "name": "stdout",
     "output_type": "stream",
     "text": [
      "Aligned 374 residues (Free: 374, Bound: 388, Excluded: 14)\n",
      "Structure exists: 'data/PSCDB/PDB_structures/pdb2acf.ent' \n",
      "Structure exists: 'data/PSCDB/PDB_structures/pdb2fav.ent' \n"
     ]
    },
    {
     "name": "stderr",
     "output_type": "stream",
     "text": [
      " 43%|████▎     | 387/891 [02:15<01:35,  5.27it/s]"
     ]
    },
    {
     "name": "stdout",
     "output_type": "stream",
     "text": [
      "No common residues between 2acf and 2fav\n",
      "Structure exists: 'data/PSCDB/PDB_structures/pdb2i7h.ent' \n"
     ]
    },
    {
     "name": "stderr",
     "output_type": "stream",
     "text": [
      " 44%|████▎     | 388/891 [02:16<02:36,  3.22it/s]"
     ]
    },
    {
     "name": "stdout",
     "output_type": "stream",
     "text": [
      "Structure exists: 'data/PSCDB/PDB_structures/pdb2i7h.ent' \n",
      "Aligned 183 residues (Free: 183, Bound: 183, Excluded: 0)\n",
      "Structure exists: 'data/PSCDB/PDB_structures/pdb1ozt.ent' \n"
     ]
    },
    {
     "name": "stderr",
     "output_type": "stream",
     "text": [
      " 44%|████▎     | 389/891 [02:16<02:26,  3.43it/s]"
     ]
    },
    {
     "name": "stdout",
     "output_type": "stream",
     "text": [
      "Structure exists: 'data/PSCDB/PDB_structures/pdb1spd.ent' \n",
      "No common residues between 1ozt and 1spd\n",
      "Structure exists: 'data/PSCDB/PDB_structures/pdb1uu0.ent' \n"
     ]
    },
    {
     "name": "stderr",
     "output_type": "stream",
     "text": [
      " 44%|████▍     | 390/891 [02:17<03:04,  2.71it/s]"
     ]
    },
    {
     "name": "stdout",
     "output_type": "stream",
     "text": [
      "Structure exists: 'data/PSCDB/PDB_structures/pdb1uu2.ent' \n",
      "Aligned 321 residues (Free: 328, Bound: 321, Excluded: 7)\n",
      "Structure exists: 'data/PSCDB/PDB_structures/pdb1beo.ent' \n",
      "Structure exists: 'data/PSCDB/PDB_structures/pdb1lri.ent' \n",
      "Aligned 98 residues (Free: 98, Bound: 98, Excluded: 0)\n",
      "Structure exists: 'data/PSCDB/PDB_structures/pdb2sbt.ent' \n",
      "Structure exists: 'data/PSCDB/PDB_structures/pdb1ubn.ent' \n"
     ]
    },
    {
     "name": "stderr",
     "output_type": "stream",
     "text": [
      " 44%|████▍     | 392/891 [02:17<02:00,  4.14it/s]"
     ]
    },
    {
     "name": "stdout",
     "output_type": "stream",
     "text": [
      "Aligned 274 residues (Free: 275, Bound: 274, Excluded: 1)\n",
      "Structure exists: 'data/PSCDB/PDB_structures/pdb1hxj.ent' \n",
      "Structure exists: 'data/PSCDB/PDB_structures/pdb1v08.ent' \n"
     ]
    },
    {
     "name": "stderr",
     "output_type": "stream",
     "text": [
      " 44%|████▍     | 394/891 [02:18<02:31,  3.29it/s]"
     ]
    },
    {
     "name": "stdout",
     "output_type": "stream",
     "text": [
      "Aligned 484 residues (Free: 490, Bound: 490, Excluded: 12)\n",
      "Structure exists: 'data/PSCDB/PDB_structures/pdb1gy0.ent' \n",
      "Structure exists: 'data/PSCDB/PDB_structures/pdb1gxz.ent' \n",
      "Aligned 223 residues (Free: 223, Bound: 223, Excluded: 0)\n",
      "Structure exists: 'data/PSCDB/PDB_structures/pdb1fqn.ent' \n"
     ]
    },
    {
     "name": "stderr",
     "output_type": "stream",
     "text": [
      " 44%|████▍     | 395/891 [02:18<02:21,  3.50it/s]"
     ]
    },
    {
     "name": "stdout",
     "output_type": "stream",
     "text": [
      "Structure exists: 'data/PSCDB/PDB_structures/pdb1xev.ent' \n",
      "Aligned 257 residues (Free: 257, Bound: 258, Excluded: 1)\n",
      "Structure exists: 'data/PSCDB/PDB_structures/pdb2qvk.ent' \n",
      "Structure exists: 'data/PSCDB/PDB_structures/pdb2qvm.ent' \n",
      "Aligned 116 residues (Free: 121, Bound: 116, Excluded: 5)\n",
      "Structure exists: 'data/PSCDB/PDB_structures/pdb1x8e.ent' \n",
      "Structure exists: 'data/PSCDB/PDB_structures/pdb1x82.ent' \n",
      "Aligned 184 residues (Free: 189, Bound: 185, Excluded: 6)\n"
     ]
    },
    {
     "name": "stderr",
     "output_type": "stream",
     "text": [
      " 45%|████▍     | 398/891 [02:19<01:41,  4.86it/s]"
     ]
    },
    {
     "name": "stdout",
     "output_type": "stream",
     "text": [
      "Structure exists: 'data/PSCDB/PDB_structures/pdb2qbv.ent' \n",
      "Structure exists: 'data/PSCDB/PDB_structures/pdb2vkl.ent' \n",
      "Aligned 62 residues (Free: 73, Bound: 77, Excluded: 26)\n",
      "Structure exists: 'data/PSCDB/PDB_structures/pdb2qzp.ent' \n"
     ]
    },
    {
     "name": "stderr",
     "output_type": "stream",
     "text": [
      " 45%|████▍     | 399/891 [02:19<02:31,  3.25it/s]"
     ]
    },
    {
     "name": "stdout",
     "output_type": "stream",
     "text": [
      "Structure exists: 'data/PSCDB/PDB_structures/pdb1ve7.ent' \n",
      "Aligned 560 residues (Free: 560, Bound: 573, Excluded: 13)\n",
      "Structure exists: 'data/PSCDB/PDB_structures/pdb2c7i.ent' \n"
     ]
    },
    {
     "name": "stderr",
     "output_type": "stream",
     "text": [
      " 45%|████▍     | 400/891 [02:19<02:24,  3.40it/s]"
     ]
    },
    {
     "name": "stdout",
     "output_type": "stream",
     "text": [
      "Structure exists: 'data/PSCDB/PDB_structures/pdb2art.ent' \n",
      "Aligned 243 residues (Free: 244, Bound: 247, Excluded: 5)\n",
      "Structure exists: 'data/PSCDB/PDB_structures/pdb2dg0.ent' \n",
      "Structure exists: 'data/PSCDB/PDB_structures/pdb2dso.ent' \n"
     ]
    },
    {
     "name": "stderr",
     "output_type": "stream",
     "text": [
      " 45%|████▌     | 401/891 [02:21<04:39,  1.75it/s]"
     ]
    },
    {
     "name": "stdout",
     "output_type": "stream",
     "text": [
      "Aligned 317 residues (Free: 317, Bound: 322, Excluded: 5)\n",
      "Structure exists: 'data/PSCDB/PDB_structures/pdb2zf3.ent' \n"
     ]
    },
    {
     "name": "stderr",
     "output_type": "stream",
     "text": [
      " 45%|████▌     | 402/891 [02:21<04:10,  1.95it/s]"
     ]
    },
    {
     "name": "stdout",
     "output_type": "stream",
     "text": [
      "Structure exists: 'data/PSCDB/PDB_structures/pdb2zf4.ent' \n",
      "Aligned 185 residues (Free: 186, Bound: 187, Excluded: 3)\n",
      "Structure exists: 'data/PSCDB/PDB_structures/pdb2box.ent' \n",
      "Structure exists: 'data/PSCDB/PDB_structures/pdb2bo2.ent' \n",
      "Aligned 134 residues (Free: 135, Bound: 140, Excluded: 7)\n",
      "Structure exists: 'data/PSCDB/PDB_structures/pdb2av8.ent' \n",
      "Structure exists: 'data/PSCDB/PDB_structures/pdb1pfr.ent' \n"
     ]
    },
    {
     "name": "stderr",
     "output_type": "stream",
     "text": [
      " 45%|████▌     | 404/891 [02:22<03:42,  2.19it/s]"
     ]
    },
    {
     "name": "stdout",
     "output_type": "stream",
     "text": [
      "Aligned 340 residues (Free: 340, Bound: 340, Excluded: 0)\n",
      "Structure exists: 'data/PSCDB/PDB_structures/pdb1jiq.ent' \n"
     ]
    },
    {
     "name": "stderr",
     "output_type": "stream",
     "text": [
      " 45%|████▌     | 405/891 [02:22<03:47,  2.13it/s]"
     ]
    },
    {
     "name": "stdout",
     "output_type": "stream",
     "text": [
      "Structure exists: 'data/PSCDB/PDB_structures/pdb1nuh.ent' \n",
      "Aligned 555 residues (Free: 557, Bound: 555, Excluded: 2)\n",
      "Structure exists: 'data/PSCDB/PDB_structures/pdb1psr.ent' \n",
      "Downloading PDB structure '3psr'...\n"
     ]
    },
    {
     "name": "stderr",
     "output_type": "stream",
     "text": [
      " 46%|████▌     | 406/891 [02:24<05:17,  1.53it/s]"
     ]
    },
    {
     "name": "stdout",
     "output_type": "stream",
     "text": [
      "Aligned 96 residues (Free: 100, Bound: 96, Excluded: 4)\n",
      "Downloading PDB structure '2rca'...\n",
      "Downloading PDB structure '2rcb'...\n"
     ]
    },
    {
     "name": "stderr",
     "output_type": "stream",
     "text": [
      " 46%|████▌     | 407/891 [02:25<06:46,  1.19it/s]"
     ]
    },
    {
     "name": "stdout",
     "output_type": "stream",
     "text": [
      "Aligned 282 residues (Free: 282, Bound: 282, Excluded: 0)\n",
      "Downloading PDB structure '2yrf'...\n",
      "Downloading PDB structure '2yvk'...\n"
     ]
    },
    {
     "name": "stderr",
     "output_type": "stream",
     "text": [
      " 46%|████▌     | 408/891 [02:26<07:47,  1.03it/s]"
     ]
    },
    {
     "name": "stdout",
     "output_type": "stream",
     "text": [
      "Aligned 340 residues (Free: 340, Bound: 349, Excluded: 9)\n",
      "Downloading PDB structure '1iun'...\n",
      "Downloading PDB structure '1uk9'...\n"
     ]
    },
    {
     "name": "stderr",
     "output_type": "stream",
     "text": [
      " 46%|████▌     | 409/891 [02:28<08:40,  1.08s/it]"
     ]
    },
    {
     "name": "stdout",
     "output_type": "stream",
     "text": [
      "Aligned 271 residues (Free: 272, Bound: 271, Excluded: 1)\n",
      "Downloading PDB structure '1f2v'...\n",
      "Downloading PDB structure '1i1h'...\n"
     ]
    },
    {
     "name": "stderr",
     "output_type": "stream",
     "text": [
      " 46%|████▌     | 410/891 [02:28<07:55,  1.01it/s]"
     ]
    },
    {
     "name": "stdout",
     "output_type": "stream",
     "text": [
      "Aligned 209 residues (Free: 209, Bound: 209, Excluded: 0)\n",
      "Downloading PDB structure '2o70'...\n",
      "Downloading PDB structure '2o74'...\n"
     ]
    },
    {
     "name": "stderr",
     "output_type": "stream",
     "text": [
      " 46%|████▌     | 411/891 [02:30<08:58,  1.12s/it]"
     ]
    },
    {
     "name": "stdout",
     "output_type": "stream",
     "text": [
      "Aligned 165 residues (Free: 165, Bound: 165, Excluded: 0)\n",
      "Downloading PDB structure '2vb3'...\n",
      "Downloading PDB structure '2vb2'...\n"
     ]
    },
    {
     "name": "stderr",
     "output_type": "stream",
     "text": [
      " 46%|████▌     | 412/891 [02:31<08:26,  1.06s/it]"
     ]
    },
    {
     "name": "stdout",
     "output_type": "stream",
     "text": [
      "Aligned 75 residues (Free: 75, Bound: 75, Excluded: 0)\n",
      "Downloading PDB structure '1avk'...\n",
      "Downloading PDB structure '1ui7'...\n"
     ]
    },
    {
     "name": "stderr",
     "output_type": "stream",
     "text": [
      " 46%|████▋     | 413/891 [02:33<10:27,  1.31s/it]"
     ]
    },
    {
     "name": "stdout",
     "output_type": "stream",
     "text": [
      "Aligned 620 residues (Free: 620, Bound: 620, Excluded: 0)\n",
      "Downloading PDB structure '2vw0'...\n",
      "Downloading PDB structure '2vw1'...\n"
     ]
    },
    {
     "name": "stderr",
     "output_type": "stream",
     "text": [
      " 46%|████▋     | 414/891 [02:34<10:33,  1.33s/it]"
     ]
    },
    {
     "name": "stdout",
     "output_type": "stream",
     "text": [
      "Aligned 657 residues (Free: 657, Bound: 658, Excluded: 1)\n",
      "Downloading PDB structure '1evq'...\n",
      "Downloading PDB structure '1qz3'...\n"
     ]
    },
    {
     "name": "stderr",
     "output_type": "stream",
     "text": [
      " 47%|████▋     | 415/891 [02:35<09:40,  1.22s/it]"
     ]
    },
    {
     "name": "stdout",
     "output_type": "stream",
     "text": [
      "Aligned 304 residues (Free: 304, Bound: 309, Excluded: 5)\n",
      "Downloading PDB structure '2eaw'...\n",
      "Downloading PDB structure '3bgg'...\n"
     ]
    },
    {
     "name": "stderr",
     "output_type": "stream",
     "text": [
      " 47%|████▋     | 416/891 [02:36<09:18,  1.18s/it]"
     ]
    },
    {
     "name": "stdout",
     "output_type": "stream",
     "text": [
      "Aligned 256 residues (Free: 256, Bound: 257, Excluded: 1)\n",
      "Downloading PDB structure '1mzl'...\n",
      "Downloading PDB structure '1fk1'...\n"
     ]
    },
    {
     "name": "stderr",
     "output_type": "stream",
     "text": [
      " 47%|████▋     | 417/891 [02:37<08:26,  1.07s/it]"
     ]
    },
    {
     "name": "stdout",
     "output_type": "stream",
     "text": [
      "Aligned 93 residues (Free: 93, Bound: 93, Excluded: 0)\n",
      "Downloading PDB structure '1o9n'...\n",
      "Downloading PDB structure '1ocl'...\n"
     ]
    },
    {
     "name": "stderr",
     "output_type": "stream",
     "text": [
      " 47%|████▋     | 418/891 [02:39<10:03,  1.28s/it]"
     ]
    },
    {
     "name": "stdout",
     "output_type": "stream",
     "text": [
      "Aligned 412 residues (Free: 412, Bound: 412, Excluded: 0)\n",
      "Downloading PDB structure '1jx1'...\n",
      "Structure exists: 'data/PSCDB/PDB_structures/pdb1jx1.ent' \n"
     ]
    },
    {
     "name": "stderr",
     "output_type": "stream",
     "text": [
      " 47%|████▋     | 419/891 [02:40<09:34,  1.22s/it]"
     ]
    },
    {
     "name": "stdout",
     "output_type": "stream",
     "text": [
      "Aligned 218 residues (Free: 218, Bound: 218, Excluded: 0)\n",
      "Downloading PDB structure '2e7i'...\n",
      "Downloading PDB structure '2e7j'...\n"
     ]
    },
    {
     "name": "stderr",
     "output_type": "stream",
     "text": [
      " 47%|████▋     | 420/891 [02:41<09:37,  1.23s/it]"
     ]
    },
    {
     "name": "stdout",
     "output_type": "stream",
     "text": [
      "Aligned 344 residues (Free: 344, Bound: 344, Excluded: 0)\n",
      "Downloading PDB structure '2oyc'...\n",
      "Downloading PDB structure '2p69'...\n"
     ]
    },
    {
     "name": "stderr",
     "output_type": "stream",
     "text": [
      " 47%|████▋     | 421/891 [02:42<09:03,  1.16s/it]"
     ]
    },
    {
     "name": "stdout",
     "output_type": "stream",
     "text": [
      "Aligned 285 residues (Free: 289, Bound: 285, Excluded: 4)\n",
      "Downloading PDB structure '1mdf'...\n",
      "Downloading PDB structure '1md9'...\n"
     ]
    },
    {
     "name": "stderr",
     "output_type": "stream",
     "text": [
      " 47%|████▋     | 422/891 [02:43<09:18,  1.19s/it]"
     ]
    },
    {
     "name": "stdout",
     "output_type": "stream",
     "text": [
      "Aligned 528 residues (Free: 536, Bound: 528, Excluded: 8)\n",
      "Downloading PDB structure '1w5r'...\n",
      "Downloading PDB structure '1w6f'...\n"
     ]
    },
    {
     "name": "stderr",
     "output_type": "stream",
     "text": [
      " 47%|████▋     | 423/891 [02:45<10:18,  1.32s/it]"
     ]
    },
    {
     "name": "stdout",
     "output_type": "stream",
     "text": [
      "Aligned 273 residues (Free: 273, Bound: 273, Excluded: 0)\n",
      "Downloading PDB structure '2zr3'...\n",
      "Downloading PDB structure '2dq0'...\n"
     ]
    },
    {
     "name": "stderr",
     "output_type": "stream",
     "text": [
      " 48%|████▊     | 424/891 [02:46<10:13,  1.31s/it]"
     ]
    },
    {
     "name": "stdout",
     "output_type": "stream",
     "text": [
      "Aligned 447 residues (Free: 448, Bound: 447, Excluded: 1)\n",
      "Downloading PDB structure '2iqy'...\n",
      "Downloading PDB structure '2iqx'...\n"
     ]
    },
    {
     "name": "stderr",
     "output_type": "stream",
     "text": [
      " 48%|████▊     | 425/891 [02:47<09:35,  1.23s/it]"
     ]
    },
    {
     "name": "stdout",
     "output_type": "stream",
     "text": [
      "Aligned 185 residues (Free: 190, Bound: 185, Excluded: 5)\n",
      "Downloading PDB structure '2bkb'...\n",
      "Downloading PDB structure '1za5'...\n"
     ]
    },
    {
     "name": "stderr",
     "output_type": "stream",
     "text": [
      " 48%|████▊     | 426/891 [02:48<09:15,  1.19s/it]"
     ]
    },
    {
     "name": "stdout",
     "output_type": "stream",
     "text": [
      "Aligned 192 residues (Free: 192, Bound: 192, Excluded: 0)\n",
      "Downloading PDB structure '1vf8'...\n",
      "Downloading PDB structure '1e9l'...\n"
     ]
    },
    {
     "name": "stderr",
     "output_type": "stream",
     "text": [
      " 48%|████▊     | 427/891 [02:49<09:04,  1.17s/it]"
     ]
    },
    {
     "name": "stdout",
     "output_type": "stream",
     "text": [
      "Aligned 352 residues (Free: 373, Bound: 372, Excluded: 41)\n",
      "Downloading PDB structure '1fhm'...\n",
      "Downloading PDB structure '1t9p'...\n"
     ]
    },
    {
     "name": "stderr",
     "output_type": "stream",
     "text": [
      " 48%|████▊     | 428/891 [02:50<08:11,  1.06s/it]"
     ]
    },
    {
     "name": "stdout",
     "output_type": "stream",
     "text": [
      "Aligned 53 residues (Free: 53, Bound: 54, Excluded: 1)\n",
      "Downloading PDB structure '1usl'...\n",
      "Downloading PDB structure '2vvo'...\n"
     ]
    },
    {
     "name": "stderr",
     "output_type": "stream",
     "text": [
      " 48%|████▊     | 429/891 [02:51<08:42,  1.13s/it]"
     ]
    },
    {
     "name": "stdout",
     "output_type": "stream",
     "text": [
      "Aligned 156 residues (Free: 156, Bound: 156, Excluded: 0)\n",
      "Downloading PDB structure '2fyo'...\n",
      "Downloading PDB structure '2fw3'...\n"
     ]
    },
    {
     "name": "stderr",
     "output_type": "stream",
     "text": [
      " 48%|████▊     | 430/891 [02:53<09:40,  1.26s/it]"
     ]
    },
    {
     "name": "stdout",
     "output_type": "stream",
     "text": [
      "Aligned 611 residues (Free: 613, Bound: 623, Excluded: 14)\n",
      "Downloading PDB structure '2fp8'...\n",
      "Downloading PDB structure '2fp9'...\n"
     ]
    },
    {
     "name": "stderr",
     "output_type": "stream",
     "text": [
      " 48%|████▊     | 431/891 [02:54<09:42,  1.27s/it]"
     ]
    },
    {
     "name": "stdout",
     "output_type": "stream",
     "text": [
      "Aligned 302 residues (Free: 302, Bound: 305, Excluded: 3)\n",
      "Downloading PDB structure '2g6v'...\n",
      "Downloading PDB structure '2obc'...\n"
     ]
    },
    {
     "name": "stderr",
     "output_type": "stream",
     "text": [
      " 48%|████▊     | 432/891 [02:56<09:45,  1.28s/it]"
     ]
    },
    {
     "name": "stdout",
     "output_type": "stream",
     "text": [
      "Aligned 345 residues (Free: 346, Bound: 345, Excluded: 1)\n",
      "Downloading PDB structure '3chi'...\n",
      "Downloading PDB structure '3cht'...\n"
     ]
    },
    {
     "name": "stderr",
     "output_type": "stream",
     "text": [
      " 49%|████▊     | 433/891 [02:57<10:14,  1.34s/it]"
     ]
    },
    {
     "name": "stdout",
     "output_type": "stream",
     "text": [
      "Aligned 301 residues (Free: 301, Bound: 301, Excluded: 0)\n",
      "Downloading PDB structure '2byw'...\n",
      "Downloading PDB structure '2bui'...\n"
     ]
    },
    {
     "name": "stderr",
     "output_type": "stream",
     "text": [
      " 49%|████▊     | 434/891 [02:59<11:22,  1.49s/it]"
     ]
    },
    {
     "name": "stdout",
     "output_type": "stream",
     "text": [
      "Aligned 406 residues (Free: 406, Bound: 406, Excluded: 0)\n",
      "Downloading PDB structure '2aej'...\n",
      "Downloading PDB structure '2aef'...\n"
     ]
    },
    {
     "name": "stderr",
     "output_type": "stream",
     "text": [
      " 49%|████▉     | 435/891 [03:00<10:31,  1.39s/it]"
     ]
    },
    {
     "name": "stdout",
     "output_type": "stream",
     "text": [
      "Aligned 221 residues (Free: 224, Bound: 221, Excluded: 3)\n",
      "Downloading PDB structure '1wac'...\n",
      "Downloading PDB structure '1hhs'...\n"
     ]
    },
    {
     "name": "stderr",
     "output_type": "stream",
     "text": [
      " 49%|████▉     | 436/891 [03:02<11:58,  1.58s/it]"
     ]
    },
    {
     "name": "stdout",
     "output_type": "stream",
     "text": [
      "Aligned 662 residues (Free: 662, Bound: 664, Excluded: 2)\n",
      "Downloading PDB structure '1ncz'...\n",
      "Downloading PDB structure '5tnc'...\n"
     ]
    },
    {
     "name": "stderr",
     "output_type": "stream",
     "text": [
      " 49%|████▉     | 437/891 [03:03<09:57,  1.32s/it]"
     ]
    },
    {
     "name": "stdout",
     "output_type": "stream",
     "text": [
      "Aligned 161 residues (Free: 162, Bound: 161, Excluded: 1)\n",
      "Downloading PDB structure '1arl'...\n",
      "Downloading PDB structure '1cpx'...\n"
     ]
    },
    {
     "name": "stderr",
     "output_type": "stream",
     "text": [
      " 49%|████▉     | 438/891 [03:04<09:05,  1.20s/it]"
     ]
    },
    {
     "name": "stdout",
     "output_type": "stream",
     "text": [
      "Aligned 305 residues (Free: 307, Bound: 305, Excluded: 2)\n",
      "Downloading PDB structure '2f3n'...\n",
      "Downloading PDB structure '2f44'...\n"
     ]
    },
    {
     "name": "stderr",
     "output_type": "stream",
     "text": [
      " 49%|████▉     | 439/891 [03:05<08:14,  1.09s/it]"
     ]
    },
    {
     "name": "stdout",
     "output_type": "stream",
     "text": [
      "Aligned 65 residues (Free: 65, Bound: 65, Excluded: 0)\n",
      "Downloading PDB structure '1juk'...\n",
      "Downloading PDB structure '1lbl'...\n"
     ]
    },
    {
     "name": "stderr",
     "output_type": "stream",
     "text": [
      " 49%|████▉     | 440/891 [03:05<07:48,  1.04s/it]"
     ]
    },
    {
     "name": "stdout",
     "output_type": "stream",
     "text": [
      "Aligned 247 residues (Free: 247, Bound: 247, Excluded: 0)\n",
      "Downloading PDB structure '2bw0'...\n",
      "Downloading PDB structure '2cfi'...\n"
     ]
    },
    {
     "name": "stderr",
     "output_type": "stream",
     "text": [
      " 49%|████▉     | 441/891 [03:06<07:35,  1.01s/it]"
     ]
    },
    {
     "name": "stdout",
     "output_type": "stream",
     "text": [
      "Aligned 309 residues (Free: 309, Bound: 310, Excluded: 1)\n",
      "Downloading PDB structure '2yyv'...\n",
      "Downloading PDB structure '2yzo'...\n"
     ]
    },
    {
     "name": "stderr",
     "output_type": "stream",
     "text": [
      " 50%|████▉     | 442/891 [03:08<08:28,  1.13s/it]"
     ]
    },
    {
     "name": "stdout",
     "output_type": "stream",
     "text": [
      "Aligned 223 residues (Free: 223, Bound: 223, Excluded: 0)\n",
      "Downloading PDB structure '2hkl'...\n",
      "Downloading PDB structure '1zat'...\n"
     ]
    },
    {
     "name": "stderr",
     "output_type": "stream",
     "text": [
      " 50%|████▉     | 443/891 [03:09<08:29,  1.14s/it]"
     ]
    },
    {
     "name": "stdout",
     "output_type": "stream",
     "text": [
      "Aligned 248 residues (Free: 248, Bound: 248, Excluded: 0)\n",
      "Downloading PDB structure '2oam'...\n",
      "Downloading PDB structure '2oa1'...\n"
     ]
    },
    {
     "name": "stderr",
     "output_type": "stream",
     "text": [
      " 50%|████▉     | 444/891 [03:11<09:28,  1.27s/it]"
     ]
    },
    {
     "name": "stdout",
     "output_type": "stream",
     "text": [
      "Aligned 523 residues (Free: 523, Bound: 527, Excluded: 4)\n",
      "Downloading PDB structure '1kko'...\n",
      "Downloading PDB structure '1kkr'...\n"
     ]
    },
    {
     "name": "stderr",
     "output_type": "stream",
     "text": [
      " 50%|████▉     | 445/891 [03:12<10:05,  1.36s/it]"
     ]
    },
    {
     "name": "stdout",
     "output_type": "stream",
     "text": [
      "Aligned 401 residues (Free: 401, Bound: 401, Excluded: 0)\n",
      "Downloading PDB structure '2o6f'...\n",
      "Downloading PDB structure '2o6e'...\n"
     ]
    },
    {
     "name": "stderr",
     "output_type": "stream",
     "text": [
      " 50%|█████     | 446/891 [03:13<09:21,  1.26s/it]"
     ]
    },
    {
     "name": "stdout",
     "output_type": "stream",
     "text": [
      "Aligned 157 residues (Free: 157, Bound: 158, Excluded: 1)\n",
      "Downloading PDB structure '1bt2'...\n",
      "Downloading PDB structure '1bug'...\n"
     ]
    },
    {
     "name": "stderr",
     "output_type": "stream",
     "text": [
      " 50%|█████     | 447/891 [03:14<09:22,  1.27s/it]"
     ]
    },
    {
     "name": "stdout",
     "output_type": "stream",
     "text": [
      "Aligned 336 residues (Free: 336, Bound: 336, Excluded: 0)\n",
      "Downloading PDB structure '1lkp'...\n",
      "Downloading PDB structure '1dvb'...\n"
     ]
    },
    {
     "name": "stderr",
     "output_type": "stream",
     "text": [
      " 50%|█████     | 448/891 [03:15<08:35,  1.16s/it]"
     ]
    },
    {
     "name": "stdout",
     "output_type": "stream",
     "text": [
      "Aligned 190 residues (Free: 190, Bound: 191, Excluded: 1)\n",
      "Downloading PDB structure '1iad'...\n",
      "Downloading PDB structure '1iaa'...\n"
     ]
    },
    {
     "name": "stderr",
     "output_type": "stream",
     "text": [
      " 50%|█████     | 449/891 [03:16<07:54,  1.07s/it]"
     ]
    },
    {
     "name": "stdout",
     "output_type": "stream",
     "text": [
      "Aligned 200 residues (Free: 200, Bound: 200, Excluded: 0)\n",
      "Downloading PDB structure '2p76'...\n",
      "Downloading PDB structure '2oog'...\n"
     ]
    },
    {
     "name": "stderr",
     "output_type": "stream",
     "text": [
      " 51%|█████     | 450/891 [03:18<09:28,  1.29s/it]"
     ]
    },
    {
     "name": "stdout",
     "output_type": "stream",
     "text": [
      "Aligned 267 residues (Free: 267, Bound: 267, Excluded: 0)\n",
      "Downloading PDB structure '2yu2'...\n",
      "Downloading PDB structure '2yu1'...\n"
     ]
    },
    {
     "name": "stderr",
     "output_type": "stream",
     "text": [
      " 51%|█████     | 451/891 [03:19<08:53,  1.21s/it]"
     ]
    },
    {
     "name": "stdout",
     "output_type": "stream",
     "text": [
      "Aligned 385 residues (Free: 387, Bound: 386, Excluded: 3)\n",
      "Downloading PDB structure '1l7r'...\n",
      "Downloading PDB structure '1ju4'...\n"
     ]
    },
    {
     "name": "stderr",
     "output_type": "stream",
     "text": [
      " 51%|█████     | 452/891 [03:20<08:55,  1.22s/it]"
     ]
    },
    {
     "name": "stdout",
     "output_type": "stream",
     "text": [
      "Aligned 570 residues (Free: 573, Bound: 570, Excluded: 3)\n",
      "Downloading PDB structure '2vzo'...\n",
      "Downloading PDB structure '2vzs'...\n"
     ]
    },
    {
     "name": "stderr",
     "output_type": "stream",
     "text": [
      " 51%|█████     | 453/891 [03:22<10:55,  1.50s/it]"
     ]
    },
    {
     "name": "stdout",
     "output_type": "stream",
     "text": [
      "Aligned 850 residues (Free: 850, Bound: 857, Excluded: 7)\n",
      "Downloading PDB structure '1dcd'...\n",
      "Downloading PDB structure '1dxg'...\n"
     ]
    },
    {
     "name": "stderr",
     "output_type": "stream",
     "text": [
      " 51%|█████     | 454/891 [03:23<09:24,  1.29s/it]"
     ]
    },
    {
     "name": "stdout",
     "output_type": "stream",
     "text": [
      "Aligned 36 residues (Free: 36, Bound: 36, Excluded: 0)\n",
      "Downloading PDB structure '2e3j'...\n",
      "Downloading PDB structure '2zjf'...\n"
     ]
    },
    {
     "name": "stderr",
     "output_type": "stream",
     "text": [
      " 51%|█████     | 455/891 [03:24<08:47,  1.21s/it]"
     ]
    },
    {
     "name": "stdout",
     "output_type": "stream",
     "text": [
      "Aligned 346 residues (Free: 346, Bound: 346, Excluded: 0)\n",
      "Downloading PDB structure '2qev'...\n",
      "Downloading PDB structure '2qeo'...\n"
     ]
    },
    {
     "name": "stderr",
     "output_type": "stream",
     "text": [
      " 51%|█████     | 456/891 [03:25<08:11,  1.13s/it]"
     ]
    },
    {
     "name": "stdout",
     "output_type": "stream",
     "text": [
      "Aligned 144 residues (Free: 145, Bound: 144, Excluded: 1)\n",
      "Downloading PDB structure '2vfw'...\n",
      "Downloading PDB structure '2vg0'...\n"
     ]
    },
    {
     "name": "stderr",
     "output_type": "stream",
     "text": [
      " 51%|█████▏    | 457/891 [03:28<11:10,  1.55s/it]"
     ]
    },
    {
     "name": "stdout",
     "output_type": "stream",
     "text": [
      "Aligned 227 residues (Free: 227, Bound: 227, Excluded: 0)\n",
      "Downloading PDB structure '1mkb'...\n",
      "Downloading PDB structure '1mka'...\n"
     ]
    },
    {
     "name": "stderr",
     "output_type": "stream",
     "text": [
      " 51%|█████▏    | 458/891 [03:29<09:50,  1.36s/it]"
     ]
    },
    {
     "name": "stdout",
     "output_type": "stream",
     "text": [
      "Aligned 171 residues (Free: 171, Bound: 171, Excluded: 0)\n",
      "Downloading PDB structure '1fa8'...\n",
      "Downloading PDB structure '1f9z'...\n"
     ]
    },
    {
     "name": "stderr",
     "output_type": "stream",
     "text": [
      " 52%|█████▏    | 459/891 [03:30<08:57,  1.24s/it]"
     ]
    },
    {
     "name": "stdout",
     "output_type": "stream",
     "text": [
      "Aligned 128 residues (Free: 128, Bound: 128, Excluded: 0)\n",
      "Downloading PDB structure '3c6y'...\n",
      "Downloading PDB structure '1yas'...\n"
     ]
    },
    {
     "name": "stderr",
     "output_type": "stream",
     "text": [
      " 52%|█████▏    | 460/891 [03:31<08:29,  1.18s/it]"
     ]
    },
    {
     "name": "stdout",
     "output_type": "stream",
     "text": [
      "Aligned 256 residues (Free: 256, Bound: 256, Excluded: 0)\n",
      "Downloading PDB structure '1qam'...\n",
      "Downloading PDB structure '1qaq'...\n"
     ]
    },
    {
     "name": "stderr",
     "output_type": "stream",
     "text": [
      " 52%|█████▏    | 461/891 [03:32<07:50,  1.09s/it]"
     ]
    },
    {
     "name": "stdout",
     "output_type": "stream",
     "text": [
      "Aligned 235 residues (Free: 235, Bound: 236, Excluded: 1)\n",
      "Downloading PDB structure '2veo'...\n",
      "Structure exists: 'data/PSCDB/PDB_structures/pdb2veo.ent' \n"
     ]
    },
    {
     "name": "stderr",
     "output_type": "stream",
     "text": [
      " 52%|█████▏    | 462/891 [03:33<07:37,  1.07s/it]"
     ]
    },
    {
     "name": "stdout",
     "output_type": "stream",
     "text": [
      "Aligned 430 residues (Free: 430, Bound: 430, Excluded: 0)\n",
      "Downloading PDB structure '2i49'...\n",
      "Downloading PDB structure '2i4c'...\n"
     ]
    },
    {
     "name": "stderr",
     "output_type": "stream",
     "text": [
      " 52%|█████▏    | 463/891 [03:34<07:45,  1.09s/it]"
     ]
    },
    {
     "name": "stdout",
     "output_type": "stream",
     "text": [
      "Aligned 398 residues (Free: 398, Bound: 401, Excluded: 3)\n",
      "Downloading PDB structure '1tee'...\n",
      "Downloading PDB structure '1ted'...\n"
     ]
    },
    {
     "name": "stderr",
     "output_type": "stream",
     "text": [
      " 52%|█████▏    | 464/891 [03:35<09:08,  1.28s/it]"
     ]
    },
    {
     "name": "stdout",
     "output_type": "stream",
     "text": [
      "Aligned 368 residues (Free: 368, Bound: 368, Excluded: 0)\n",
      "Downloading PDB structure '1hzt'...\n",
      "Downloading PDB structure '1r67'...\n"
     ]
    },
    {
     "name": "stderr",
     "output_type": "stream",
     "text": [
      " 52%|█████▏    | 465/891 [03:36<07:58,  1.12s/it]"
     ]
    },
    {
     "name": "stdout",
     "output_type": "stream",
     "text": [
      "Aligned 151 residues (Free: 153, Bound: 151, Excluded: 2)\n",
      "Downloading PDB structure '1snz'...\n",
      "Downloading PDB structure '1so0'...\n"
     ]
    },
    {
     "name": "stderr",
     "output_type": "stream",
     "text": [
      " 52%|█████▏    | 466/891 [03:38<09:02,  1.28s/it]"
     ]
    },
    {
     "name": "stdout",
     "output_type": "stream",
     "text": [
      "Aligned 344 residues (Free: 344, Bound: 344, Excluded: 0)\n",
      "Downloading PDB structure '1iiw'...\n",
      "Downloading PDB structure '1ii5'...\n"
     ]
    },
    {
     "name": "stderr",
     "output_type": "stream",
     "text": [
      " 52%|█████▏    | 467/891 [03:39<07:53,  1.12s/it]"
     ]
    },
    {
     "name": "stdout",
     "output_type": "stream",
     "text": [
      "Aligned 221 residues (Free: 221, Bound: 221, Excluded: 0)\n",
      "Downloading PDB structure '2b3l'...\n",
      "Downloading PDB structure '2b3h'...\n"
     ]
    },
    {
     "name": "stderr",
     "output_type": "stream",
     "text": [
      " 53%|█████▎    | 468/891 [03:40<07:56,  1.13s/it]"
     ]
    },
    {
     "name": "stdout",
     "output_type": "stream",
     "text": [
      "Aligned 304 residues (Free: 305, Bound: 304, Excluded: 1)\n",
      "Downloading PDB structure '2v28'...\n",
      "Downloading PDB structure '2v27'...\n"
     ]
    },
    {
     "name": "stderr",
     "output_type": "stream",
     "text": [
      " 53%|█████▎    | 469/891 [03:41<08:31,  1.21s/it]"
     ]
    },
    {
     "name": "stdout",
     "output_type": "stream",
     "text": [
      "Aligned 264 residues (Free: 264, Bound: 264, Excluded: 0)\n",
      "Downloading PDB structure '1esc'...\n",
      "Downloading PDB structure '1ese'...\n"
     ]
    },
    {
     "name": "stderr",
     "output_type": "stream",
     "text": [
      " 53%|█████▎    | 470/891 [03:42<07:56,  1.13s/it]"
     ]
    },
    {
     "name": "stdout",
     "output_type": "stream",
     "text": [
      "Aligned 302 residues (Free: 302, Bound: 302, Excluded: 0)\n",
      "Downloading PDB structure '2cwc'...\n",
      "Downloading PDB structure '2yzv'...\n"
     ]
    },
    {
     "name": "stderr",
     "output_type": "stream",
     "text": [
      " 53%|█████▎    | 471/891 [03:43<07:35,  1.08s/it]"
     ]
    },
    {
     "name": "stdout",
     "output_type": "stream",
     "text": [
      "Aligned 284 residues (Free: 284, Bound: 286, Excluded: 2)\n",
      "Downloading PDB structure '2a0k'...\n",
      "Downloading PDB structure '2f62'...\n"
     ]
    },
    {
     "name": "stderr",
     "output_type": "stream",
     "text": [
      " 53%|█████▎    | 472/891 [03:44<07:28,  1.07s/it]"
     ]
    },
    {
     "name": "stdout",
     "output_type": "stream",
     "text": [
      "Aligned 151 residues (Free: 151, Bound: 151, Excluded: 0)\n",
      "Downloading PDB structure '2iw2'...\n",
      "Downloading PDB structure '2okn'...\n"
     ]
    },
    {
     "name": "stderr",
     "output_type": "stream",
     "text": [
      " 53%|█████▎    | 473/891 [03:46<08:39,  1.24s/it]"
     ]
    },
    {
     "name": "stdout",
     "output_type": "stream",
     "text": [
      "Aligned 477 residues (Free: 477, Bound: 477, Excluded: 0)\n",
      "Downloading PDB structure '1ilw'...\n",
      "Downloading PDB structure '1im5'...\n"
     ]
    },
    {
     "name": "stderr",
     "output_type": "stream",
     "text": [
      " 53%|█████▎    | 474/891 [03:47<07:46,  1.12s/it]"
     ]
    },
    {
     "name": "stdout",
     "output_type": "stream",
     "text": [
      "Aligned 179 residues (Free: 179, Bound: 179, Excluded: 0)\n",
      "Downloading PDB structure '3bbe'...\n",
      "Downloading PDB structure '3bbh'...\n"
     ]
    },
    {
     "name": "stderr",
     "output_type": "stream",
     "text": [
      " 53%|█████▎    | 475/891 [03:47<07:12,  1.04s/it]"
     ]
    },
    {
     "name": "stdout",
     "output_type": "stream",
     "text": [
      "Aligned 204 residues (Free: 204, Bound: 204, Excluded: 0)\n",
      "Downloading PDB structure '1l5n'...\n",
      "Downloading PDB structure '1l5l'...\n"
     ]
    },
    {
     "name": "stderr",
     "output_type": "stream",
     "text": [
      " 53%|█████▎    | 476/891 [03:48<07:07,  1.03s/it]"
     ]
    },
    {
     "name": "stdout",
     "output_type": "stream",
     "text": [
      "Aligned 346 residues (Free: 346, Bound: 347, Excluded: 1)\n",
      "Downloading PDB structure '3bf7'...\n",
      "Downloading PDB structure '3bf8'...\n"
     ]
    },
    {
     "name": "stderr",
     "output_type": "stream",
     "text": [
      " 54%|█████▎    | 477/891 [03:50<08:09,  1.18s/it]"
     ]
    },
    {
     "name": "stdout",
     "output_type": "stream",
     "text": [
      "Aligned 255 residues (Free: 255, Bound: 255, Excluded: 0)\n",
      "Downloading PDB structure '1tzb'...\n",
      "Downloading PDB structure '1tzc'...\n"
     ]
    },
    {
     "name": "stderr",
     "output_type": "stream",
     "text": [
      " 54%|█████▎    | 478/891 [03:51<08:30,  1.24s/it]"
     ]
    },
    {
     "name": "stdout",
     "output_type": "stream",
     "text": [
      "Aligned 301 residues (Free: 301, Bound: 301, Excluded: 0)\n",
      "Downloading PDB structure '1oi2'...\n",
      "Downloading PDB structure '1uod'...\n"
     ]
    },
    {
     "name": "stderr",
     "output_type": "stream",
     "text": [
      " 54%|█████▍    | 479/891 [03:52<07:59,  1.16s/it]"
     ]
    },
    {
     "name": "stdout",
     "output_type": "stream",
     "text": [
      "Aligned 336 residues (Free: 336, Bound: 336, Excluded: 0)\n",
      "Downloading PDB structure '2dec'...\n",
      "Downloading PDB structure '2df8'...\n"
     ]
    },
    {
     "name": "stderr",
     "output_type": "stream",
     "text": [
      " 54%|█████▍    | 480/891 [03:54<08:48,  1.29s/it]"
     ]
    },
    {
     "name": "stdout",
     "output_type": "stream",
     "text": [
      "Aligned 325 residues (Free: 325, Bound: 325, Excluded: 0)\n",
      "Downloading PDB structure '3bu9'...\n",
      "Downloading PDB structure '3bu1'...\n"
     ]
    },
    {
     "name": "stderr",
     "output_type": "stream",
     "text": [
      " 54%|█████▍    | 481/891 [03:55<08:06,  1.19s/it]"
     ]
    },
    {
     "name": "stdout",
     "output_type": "stream",
     "text": [
      "Aligned 140 residues (Free: 140, Bound: 144, Excluded: 4)\n",
      "Downloading PDB structure '2f8h'...\n",
      "Downloading PDB structure '2f7v'...\n"
     ]
    },
    {
     "name": "stderr",
     "output_type": "stream",
     "text": [
      " 54%|█████▍    | 482/891 [03:56<07:29,  1.10s/it]"
     ]
    },
    {
     "name": "stdout",
     "output_type": "stream",
     "text": [
      "Aligned 360 residues (Free: 360, Bound: 360, Excluded: 0)\n",
      "Downloading PDB structure '2qht'...\n",
      "Downloading PDB structure '2qhv'...\n"
     ]
    },
    {
     "name": "stderr",
     "output_type": "stream",
     "text": [
      " 54%|█████▍    | 483/891 [03:57<06:55,  1.02s/it]"
     ]
    },
    {
     "name": "stdout",
     "output_type": "stream",
     "text": [
      "Aligned 210 residues (Free: 210, Bound: 210, Excluded: 0)\n",
      "Downloading PDB structure '1uj4'...\n",
      "Downloading PDB structure '1uj5'...\n"
     ]
    },
    {
     "name": "stderr",
     "output_type": "stream",
     "text": [
      " 54%|█████▍    | 484/891 [03:57<06:25,  1.05it/s]"
     ]
    },
    {
     "name": "stdout",
     "output_type": "stream",
     "text": [
      "Aligned 221 residues (Free: 221, Bound: 225, Excluded: 4)\n",
      "Downloading PDB structure '1m14'...\n",
      "Downloading PDB structure '2itp'...\n"
     ]
    },
    {
     "name": "stderr",
     "output_type": "stream",
     "text": [
      " 54%|█████▍    | 485/891 [03:58<06:10,  1.09it/s]"
     ]
    },
    {
     "name": "stdout",
     "output_type": "stream",
     "text": [
      "Aligned 270 residues (Free: 307, Bound: 305, Excluded: 72)\n",
      "Downloading PDB structure '1mix'...\n",
      "Downloading PDB structure '1miz'...\n"
     ]
    },
    {
     "name": "stderr",
     "output_type": "stream",
     "text": [
      " 55%|█████▍    | 486/891 [03:59<06:24,  1.05it/s]"
     ]
    },
    {
     "name": "stdout",
     "output_type": "stream",
     "text": [
      "No common residues between 1mix and 1miz\n",
      "Downloading PDB structure '1jrk'...\n",
      "Downloading PDB structure '1k2e'...\n"
     ]
    },
    {
     "name": "stderr",
     "output_type": "stream",
     "text": [
      " 55%|█████▍    | 487/891 [04:00<06:43,  1.00it/s]"
     ]
    },
    {
     "name": "stdout",
     "output_type": "stream",
     "text": [
      "Aligned 148 residues (Free: 148, Bound: 152, Excluded: 4)\n",
      "Downloading PDB structure '1w59'...\n",
      "Downloading PDB structure '1w5e'...\n"
     ]
    },
    {
     "name": "stderr",
     "output_type": "stream",
     "text": [
      " 55%|█████▍    | 488/891 [04:02<07:55,  1.18s/it]"
     ]
    },
    {
     "name": "stdout",
     "output_type": "stream",
     "text": [
      "Aligned 332 residues (Free: 350, Bound: 332, Excluded: 18)\n",
      "Downloading PDB structure '1g24'...\n",
      "Downloading PDB structure '1gzf'...\n"
     ]
    },
    {
     "name": "stderr",
     "output_type": "stream",
     "text": [
      " 55%|█████▍    | 489/891 [04:03<07:59,  1.19s/it]"
     ]
    },
    {
     "name": "stdout",
     "output_type": "stream",
     "text": [
      "Aligned 203 residues (Free: 211, Bound: 203, Excluded: 8)\n",
      "Downloading PDB structure '1vz0'...\n",
      "Structure exists: 'data/PSCDB/PDB_structures/pdb1vz0.ent' \n"
     ]
    },
    {
     "name": "stderr",
     "output_type": "stream",
     "text": [
      " 55%|█████▍    | 490/891 [04:04<08:10,  1.22s/it]"
     ]
    },
    {
     "name": "stdout",
     "output_type": "stream",
     "text": [
      "Aligned 186 residues (Free: 186, Bound: 186, Excluded: 0)\n",
      "Downloading PDB structure '2f6l'...\n",
      "Downloading PDB structure '2ao2'...\n"
     ]
    },
    {
     "name": "stderr",
     "output_type": "stream",
     "text": [
      " 55%|█████▌    | 491/891 [04:05<07:46,  1.17s/it]"
     ]
    },
    {
     "name": "stdout",
     "output_type": "stream",
     "text": [
      "Aligned 165 residues (Free: 166, Bound: 165, Excluded: 1)\n",
      "Downloading PDB structure '2idh'...\n",
      "Downloading PDB structure '2oei'...\n"
     ]
    },
    {
     "name": "stderr",
     "output_type": "stream",
     "text": [
      " 55%|█████▌    | 492/891 [04:06<06:58,  1.05s/it]"
     ]
    },
    {
     "name": "stdout",
     "output_type": "stream",
     "text": [
      "Aligned 30 residues (Free: 30, Bound: 37, Excluded: 7)\n",
      "Downloading PDB structure '3dj1'...\n",
      "Downloading PDB structure '3diw'...\n"
     ]
    },
    {
     "name": "stderr",
     "output_type": "stream",
     "text": [
      " 55%|█████▌    | 493/891 [04:07<06:41,  1.01s/it]"
     ]
    },
    {
     "name": "stdout",
     "output_type": "stream",
     "text": [
      "Aligned 107 residues (Free: 115, Bound: 108, Excluded: 9)\n",
      "Downloading PDB structure '2hhl'...\n"
     ]
    },
    {
     "name": "stderr",
     "output_type": "stream",
     "text": [
      " 55%|█████▌    | 494/891 [04:08<06:49,  1.03s/it]"
     ]
    },
    {
     "name": "stdout",
     "output_type": "stream",
     "text": [
      "Structure exists: 'data/PSCDB/PDB_structures/pdb2hhl.ent' \n",
      "Aligned 180 residues (Free: 180, Bound: 180, Excluded: 0)\n",
      "Downloading PDB structure '1w90'...\n",
      "Downloading PDB structure '1gwm'...\n"
     ]
    },
    {
     "name": "stderr",
     "output_type": "stream",
     "text": [
      " 56%|█████▌    | 495/891 [04:09<06:19,  1.04it/s]"
     ]
    },
    {
     "name": "stdout",
     "output_type": "stream",
     "text": [
      "Aligned 151 residues (Free: 151, Bound: 153, Excluded: 2)\n",
      "Downloading PDB structure '2j3p'...\n",
      "Downloading PDB structure '2uus'...\n"
     ]
    },
    {
     "name": "stderr",
     "output_type": "stream",
     "text": [
      " 56%|█████▌    | 496/891 [04:10<06:16,  1.05it/s]"
     ]
    },
    {
     "name": "stdout",
     "output_type": "stream",
     "text": [
      "Aligned 116 residues (Free: 134, Bound: 131, Excluded: 33)\n",
      "Downloading PDB structure '2cua'...\n"
     ]
    },
    {
     "name": "stderr",
     "output_type": "stream",
     "text": [
      " 56%|█████▌    | 497/891 [04:11<05:29,  1.20it/s]"
     ]
    },
    {
     "name": "stdout",
     "output_type": "stream",
     "text": [
      "Structure exists: 'data/PSCDB/PDB_structures/pdb2cua.ent' \n",
      "Aligned 122 residues (Free: 122, Bound: 122, Excluded: 0)\n",
      "Downloading PDB structure '1u4r'...\n",
      "Downloading PDB structure '1u4m'...\n"
     ]
    },
    {
     "name": "stderr",
     "output_type": "stream",
     "text": [
      " 56%|█████▌    | 498/891 [04:11<05:25,  1.21it/s]"
     ]
    },
    {
     "name": "stdout",
     "output_type": "stream",
     "text": [
      "Aligned 62 residues (Free: 62, Bound: 67, Excluded: 5)\n",
      "Downloading PDB structure '1i4s'...\n",
      "Downloading PDB structure '1rc5'...\n"
     ]
    },
    {
     "name": "stderr",
     "output_type": "stream",
     "text": [
      " 56%|█████▌    | 499/891 [04:12<05:48,  1.13it/s]"
     ]
    },
    {
     "name": "stdout",
     "output_type": "stream",
     "text": [
      "Aligned 147 residues (Free: 147, Bound: 148, Excluded: 1)\n",
      "Downloading PDB structure '1sza'...\n"
     ]
    },
    {
     "name": "stderr",
     "output_type": "stream",
     "text": [
      " 56%|█████▌    | 500/891 [04:13<05:41,  1.14it/s]"
     ]
    },
    {
     "name": "stdout",
     "output_type": "stream",
     "text": [
      "Structure exists: 'data/PSCDB/PDB_structures/pdb1sza.ent' \n",
      "Aligned 144 residues (Free: 144, Bound: 144, Excluded: 0)\n",
      "Downloading PDB structure '1mmi'...\n",
      "Downloading PDB structure '1ok7'...\n"
     ]
    },
    {
     "name": "stderr",
     "output_type": "stream",
     "text": [
      " 56%|█████▌    | 501/891 [04:14<06:18,  1.03it/s]"
     ]
    },
    {
     "name": "stdout",
     "output_type": "stream",
     "text": [
      "Aligned 366 residues (Free: 366, Bound: 366, Excluded: 0)\n",
      "Downloading PDB structure '1jqq'...\n",
      "Downloading PDB structure '1n5z'...\n"
     ]
    },
    {
     "name": "stderr",
     "output_type": "stream",
     "text": [
      " 56%|█████▋    | 502/891 [04:15<06:05,  1.06it/s]"
     ]
    },
    {
     "name": "stdout",
     "output_type": "stream",
     "text": [
      "Aligned 71 residues (Free: 79, Bound: 71, Excluded: 8)\n",
      "Downloading PDB structure '1gaj'...\n",
      "Downloading PDB structure '1g6h'...\n"
     ]
    },
    {
     "name": "stderr",
     "output_type": "stream",
     "text": [
      " 56%|█████▋    | 503/891 [04:16<05:58,  1.08it/s]"
     ]
    },
    {
     "name": "stdout",
     "output_type": "stream",
     "text": [
      "Aligned 253 residues (Free: 253, Bound: 254, Excluded: 1)\n",
      "Downloading PDB structure '1gnu'...\n",
      "Downloading PDB structure '3d32'...\n"
     ]
    },
    {
     "name": "stderr",
     "output_type": "stream",
     "text": [
      " 57%|█████▋    | 504/891 [04:17<05:52,  1.10it/s]"
     ]
    },
    {
     "name": "stdout",
     "output_type": "stream",
     "text": [
      "Aligned 117 residues (Free: 117, Bound: 118, Excluded: 1)\n",
      "Downloading PDB structure '5gal'...\n",
      "Downloading PDB structure '4gal'...\n"
     ]
    },
    {
     "name": "stderr",
     "output_type": "stream",
     "text": [
      " 57%|█████▋    | 505/891 [04:18<06:28,  1.01s/it]"
     ]
    },
    {
     "name": "stdout",
     "output_type": "stream",
     "text": [
      "Aligned 135 residues (Free: 135, Bound: 135, Excluded: 0)\n",
      "Downloading PDB structure '1vll'...\n",
      "Downloading PDB structure '1omo'...\n"
     ]
    },
    {
     "name": "stderr",
     "output_type": "stream",
     "text": [
      " 57%|█████▋    | 506/891 [04:19<06:38,  1.03s/it]"
     ]
    },
    {
     "name": "stdout",
     "output_type": "stream",
     "text": [
      "Aligned 320 residues (Free: 321, Bound: 320, Excluded: 1)\n",
      "Downloading PDB structure '3bzt'...\n",
      "Downloading PDB structure '3c03'...\n"
     ]
    },
    {
     "name": "stderr",
     "output_type": "stream",
     "text": [
      " 57%|█████▋    | 507/891 [04:20<06:20,  1.01it/s]"
     ]
    },
    {
     "name": "stdout",
     "output_type": "stream",
     "text": [
      "Aligned 97 residues (Free: 101, Bound: 97, Excluded: 4)\n",
      "Downloading PDB structure '2q04'...\n",
      "Structure exists: 'data/PSCDB/PDB_structures/pdb2q04.ent' \n"
     ]
    },
    {
     "name": "stderr",
     "output_type": "stream",
     "text": [
      " 57%|█████▋    | 508/891 [04:21<06:40,  1.05s/it]"
     ]
    },
    {
     "name": "stdout",
     "output_type": "stream",
     "text": [
      "Aligned 203 residues (Free: 203, Bound: 203, Excluded: 0)\n",
      "Downloading PDB structure '1wn2'...\n",
      "Downloading PDB structure '2d3k'...\n"
     ]
    },
    {
     "name": "stderr",
     "output_type": "stream",
     "text": [
      " 57%|█████▋    | 509/891 [04:22<06:22,  1.00s/it]"
     ]
    },
    {
     "name": "stdout",
     "output_type": "stream",
     "text": [
      "Aligned 118 residues (Free: 118, Bound: 118, Excluded: 0)\n",
      "Downloading PDB structure '2d59'...\n",
      "Downloading PDB structure '2d5a'...\n"
     ]
    },
    {
     "name": "stderr",
     "output_type": "stream",
     "text": [
      " 57%|█████▋    | 510/891 [04:24<07:45,  1.22s/it]"
     ]
    },
    {
     "name": "stdout",
     "output_type": "stream",
     "text": [
      "Aligned 139 residues (Free: 141, Bound: 142, Excluded: 5)\n",
      "Downloading PDB structure '1wns'...\n",
      "Downloading PDB structure '1wn7'...\n"
     ]
    },
    {
     "name": "stderr",
     "output_type": "stream",
     "text": [
      " 57%|█████▋    | 511/891 [04:26<08:17,  1.31s/it]"
     ]
    },
    {
     "name": "stdout",
     "output_type": "stream",
     "text": [
      "Aligned 727 residues (Free: 729, Bound: 729, Excluded: 4)\n",
      "Downloading PDB structure '2fcj'...\n",
      "Downloading PDB structure '2i5r'...\n"
     ]
    },
    {
     "name": "stderr",
     "output_type": "stream",
     "text": [
      " 57%|█████▋    | 512/891 [04:27<08:06,  1.28s/it]"
     ]
    },
    {
     "name": "stdout",
     "output_type": "stream",
     "text": [
      "Aligned 114 residues (Free: 114, Bound: 115, Excluded: 1)\n",
      "Downloading PDB structure '1uuj'...\n",
      "Structure exists: 'data/PSCDB/PDB_structures/pdb1uuj.ent' \n"
     ]
    },
    {
     "name": "stderr",
     "output_type": "stream",
     "text": [
      " 58%|█████▊    | 513/891 [04:28<07:18,  1.16s/it]"
     ]
    },
    {
     "name": "stdout",
     "output_type": "stream",
     "text": [
      "Aligned 74 residues (Free: 74, Bound: 74, Excluded: 0)\n",
      "Downloading PDB structure '2hts'...\n",
      "Downloading PDB structure '1fyk'...\n"
     ]
    },
    {
     "name": "stderr",
     "output_type": "stream",
     "text": [
      " 58%|█████▊    | 514/891 [04:29<06:44,  1.07s/it]"
     ]
    },
    {
     "name": "stdout",
     "output_type": "stream",
     "text": [
      "Downloading PDB structure '1w1h'...\n",
      "Downloading PDB structure '1w1d'...\n"
     ]
    },
    {
     "name": "stderr",
     "output_type": "stream",
     "text": [
      " 58%|█████▊    | 515/891 [04:30<06:50,  1.09s/it]"
     ]
    },
    {
     "name": "stdout",
     "output_type": "stream",
     "text": [
      "Aligned 140 residues (Free: 147, Bound: 143, Excluded: 10)\n",
      "Downloading PDB structure '1yes'...\n",
      "Downloading PDB structure '3bmy'...\n"
     ]
    },
    {
     "name": "stderr",
     "output_type": "stream",
     "text": [
      " 58%|█████▊    | 516/891 [04:31<06:38,  1.06s/it]"
     ]
    },
    {
     "name": "stdout",
     "output_type": "stream",
     "text": [
      "Aligned 213 residues (Free: 213, Bound: 213, Excluded: 0)\n",
      "Downloading PDB structure '2h74'...\n",
      "Downloading PDB structure '1tho'...\n"
     ]
    },
    {
     "name": "stderr",
     "output_type": "stream",
     "text": [
      " 58%|█████▊    | 517/891 [04:31<05:52,  1.06it/s]"
     ]
    },
    {
     "name": "stdout",
     "output_type": "stream",
     "text": [
      "Aligned 108 residues (Free: 108, Bound: 109, Excluded: 1)\n",
      "Downloading PDB structure '2c3g'...\n",
      "Downloading PDB structure '2c3h'...\n"
     ]
    },
    {
     "name": "stderr",
     "output_type": "stream",
     "text": [
      " 58%|█████▊    | 518/891 [04:32<05:56,  1.05it/s]"
     ]
    },
    {
     "name": "stdout",
     "output_type": "stream",
     "text": [
      "Aligned 93 residues (Free: 98, Bound: 93, Excluded: 5)\n",
      "Downloading PDB structure '2ok3'...\n",
      "Downloading PDB structure '2oju'...\n"
     ]
    },
    {
     "name": "stderr",
     "output_type": "stream",
     "text": [
      " 58%|█████▊    | 519/891 [04:33<05:35,  1.11it/s]"
     ]
    },
    {
     "name": "stdout",
     "output_type": "stream",
     "text": [
      "Aligned 158 residues (Free: 160, Bound: 163, Excluded: 7)\n",
      "Downloading PDB structure '1m6t'...\n",
      "Downloading PDB structure '1lm3'...\n"
     ]
    },
    {
     "name": "stderr",
     "output_type": "stream",
     "text": [
      " 58%|█████▊    | 520/891 [04:34<05:26,  1.13it/s]"
     ]
    },
    {
     "name": "stdout",
     "output_type": "stream",
     "text": [
      "No common residues between 1m6t and 1lm3\n",
      "Downloading PDB structure '1orb'...\n",
      "Downloading PDB structure '1dp2'...\n"
     ]
    },
    {
     "name": "stderr",
     "output_type": "stream",
     "text": [
      " 58%|█████▊    | 521/891 [04:35<05:57,  1.04it/s]"
     ]
    },
    {
     "name": "stdout",
     "output_type": "stream",
     "text": [
      "Aligned 292 residues (Free: 293, Bound: 292, Excluded: 1)\n",
      "Downloading PDB structure '1u8t'...\n"
     ]
    },
    {
     "name": "stderr",
     "output_type": "stream",
     "text": [
      " 59%|█████▊    | 522/891 [04:36<05:21,  1.15it/s]"
     ]
    },
    {
     "name": "stdout",
     "output_type": "stream",
     "text": [
      "Structure exists: 'data/PSCDB/PDB_structures/pdb1u8t.ent' \n",
      "Aligned 120 residues (Free: 120, Bound: 120, Excluded: 0)\n",
      "Downloading PDB structure '2bl7'...\n",
      "Downloading PDB structure '2bl8'...\n"
     ]
    },
    {
     "name": "stderr",
     "output_type": "stream",
     "text": [
      " 59%|█████▊    | 523/891 [04:37<05:25,  1.13it/s]"
     ]
    },
    {
     "name": "stdout",
     "output_type": "stream",
     "text": [
      "Aligned 69 residues (Free: 77, Bound: 93, Excluded: 32)\n",
      "Downloading PDB structure '2ccq'...\n",
      "Downloading PDB structure '2hpl'...\n"
     ]
    },
    {
     "name": "stderr",
     "output_type": "stream",
     "text": [
      " 59%|█████▉    | 524/891 [04:38<05:22,  1.14it/s]"
     ]
    },
    {
     "name": "stdout",
     "output_type": "stream",
     "text": [
      "Aligned 98 residues (Free: 99, Bound: 100, Excluded: 3)\n",
      "Downloading PDB structure '2pe8'...\n",
      "Downloading PDB structure '2peh'...\n"
     ]
    },
    {
     "name": "stderr",
     "output_type": "stream",
     "text": [
      " 59%|█████▉    | 525/891 [04:38<04:36,  1.32it/s]"
     ]
    },
    {
     "name": "stdout",
     "output_type": "stream",
     "text": [
      "Aligned 101 residues (Free: 101, Bound: 104, Excluded: 3)\n",
      "Downloading PDB structure '1p9u'...\n",
      "Structure exists: 'data/PSCDB/PDB_structures/pdb1p9u.ent' \n"
     ]
    },
    {
     "name": "stderr",
     "output_type": "stream",
     "text": [
      " 59%|█████▉    | 526/891 [04:39<05:25,  1.12it/s]"
     ]
    },
    {
     "name": "stdout",
     "output_type": "stream",
     "text": [
      "Aligned 299 residues (Free: 299, Bound: 299, Excluded: 0)\n",
      "Downloading PDB structure '2z42'...\n",
      "Downloading PDB structure '2zaa'...\n"
     ]
    },
    {
     "name": "stderr",
     "output_type": "stream",
     "text": [
      " 59%|█████▉    | 527/891 [04:40<05:43,  1.06it/s]"
     ]
    },
    {
     "name": "stdout",
     "output_type": "stream",
     "text": [
      "Aligned 232 residues (Free: 233, Bound: 232, Excluded: 1)\n",
      "Downloading PDB structure '1nk1'...\n",
      "Downloading PDB structure '1gmo'...\n"
     ]
    },
    {
     "name": "stderr",
     "output_type": "stream",
     "text": [
      " 59%|█████▉    | 528/891 [04:42<06:31,  1.08s/it]"
     ]
    },
    {
     "name": "stdout",
     "output_type": "stream",
     "text": [
      "Aligned 171 residues (Free: 172, Bound: 172, Excluded: 2)\n",
      "Downloading PDB structure '2d2q'...\n",
      "Downloading PDB structure '2zpy'...\n"
     ]
    },
    {
     "name": "stderr",
     "output_type": "stream",
     "text": [
      " 59%|█████▉    | 529/891 [04:43<06:32,  1.08s/it]"
     ]
    },
    {
     "name": "stdout",
     "output_type": "stream",
     "text": [
      "Aligned 295 residues (Free: 297, Bound: 295, Excluded: 2)\n",
      "Downloading PDB structure '1l0h'...\n",
      "Downloading PDB structure '2fae'...\n"
     ]
    },
    {
     "name": "stderr",
     "output_type": "stream",
     "text": [
      " 59%|█████▉    | 530/891 [04:43<05:46,  1.04it/s]"
     ]
    },
    {
     "name": "stdout",
     "output_type": "stream",
     "text": [
      "Aligned 76 residues (Free: 76, Bound: 77, Excluded: 1)\n",
      "Downloading PDB structure '1xze'...\n",
      "Downloading PDB structure '1xzk'...\n"
     ]
    },
    {
     "name": "stderr",
     "output_type": "stream",
     "text": [
      " 60%|█████▉    | 531/891 [04:44<05:51,  1.02it/s]"
     ]
    },
    {
     "name": "stdout",
     "output_type": "stream",
     "text": [
      "Aligned 197 residues (Free: 197, Bound: 197, Excluded: 0)\n",
      "Downloading PDB structure '2h68'...\n",
      "Downloading PDB structure '2g9a'...\n"
     ]
    },
    {
     "name": "stderr",
     "output_type": "stream",
     "text": [
      " 60%|█████▉    | 532/891 [04:46<06:04,  1.02s/it]"
     ]
    },
    {
     "name": "stdout",
     "output_type": "stream",
     "text": [
      "Aligned 303 residues (Free: 304, Bound: 310, Excluded: 8)\n",
      "Downloading PDB structure '2bis'...\n",
      "Structure exists: 'data/PSCDB/PDB_structures/pdb2bis.ent' \n"
     ]
    },
    {
     "name": "stderr",
     "output_type": "stream",
     "text": [
      " 60%|█████▉    | 533/891 [04:47<06:14,  1.05s/it]"
     ]
    },
    {
     "name": "stdout",
     "output_type": "stream",
     "text": [
      "Aligned 440 residues (Free: 440, Bound: 440, Excluded: 0)\n",
      "Downloading PDB structure '1f46'...\n",
      "Downloading PDB structure '1y2f'...\n"
     ]
    },
    {
     "name": "stderr",
     "output_type": "stream",
     "text": [
      " 60%|█████▉    | 534/891 [04:48<06:03,  1.02s/it]"
     ]
    },
    {
     "name": "stdout",
     "output_type": "stream",
     "text": [
      "Aligned 139 residues (Free: 139, Bound: 139, Excluded: 0)\n",
      "Downloading PDB structure '2c3v'...\n",
      "Downloading PDB structure '2c3w'...\n"
     ]
    },
    {
     "name": "stderr",
     "output_type": "stream",
     "text": [
      " 60%|██████    | 535/891 [04:49<05:57,  1.00s/it]"
     ]
    },
    {
     "name": "stdout",
     "output_type": "stream",
     "text": [
      "Aligned 18 residues (Free: 92, Bound: 95, Excluded: 151)\n",
      "Downloading PDB structure '1i3c'...\n",
      "Downloading PDB structure '1jlk'...\n"
     ]
    },
    {
     "name": "stderr",
     "output_type": "stream",
     "text": [
      " 60%|██████    | 536/891 [04:50<05:49,  1.02it/s]"
     ]
    },
    {
     "name": "stdout",
     "output_type": "stream",
     "text": [
      "Aligned 139 residues (Free: 142, Bound: 141, Excluded: 5)\n",
      "Downloading PDB structure '1z52'...\n",
      "Downloading PDB structure '3c0o'...\n"
     ]
    },
    {
     "name": "stderr",
     "output_type": "stream",
     "text": [
      " 60%|██████    | 537/891 [04:51<07:08,  1.21s/it]"
     ]
    },
    {
     "name": "stdout",
     "output_type": "stream",
     "text": [
      "Aligned 449 residues (Free: 451, Bound: 450, Excluded: 3)\n",
      "Downloading PDB structure '1fil'...\n",
      "Downloading PDB structure '1awi'...\n"
     ]
    },
    {
     "name": "stderr",
     "output_type": "stream",
     "text": [
      " 60%|██████    | 538/891 [04:52<06:26,  1.09s/it]"
     ]
    },
    {
     "name": "stdout",
     "output_type": "stream",
     "text": [
      "Aligned 138 residues (Free: 139, Bound: 138, Excluded: 1)\n",
      "Downloading PDB structure '1gnd'...\n",
      "Downloading PDB structure '1lv0'...\n"
     ]
    },
    {
     "name": "stderr",
     "output_type": "stream",
     "text": [
      " 60%|██████    | 539/891 [04:53<06:15,  1.07s/it]"
     ]
    },
    {
     "name": "stdout",
     "output_type": "stream",
     "text": [
      "Aligned 430 residues (Free: 430, Bound: 433, Excluded: 3)\n",
      "Downloading PDB structure '1yft'...\n",
      "Downloading PDB structure '1yfr'...\n"
     ]
    },
    {
     "name": "stderr",
     "output_type": "stream",
     "text": [
      " 61%|██████    | 540/891 [04:54<06:32,  1.12s/it]"
     ]
    },
    {
     "name": "stdout",
     "output_type": "stream",
     "text": [
      "Aligned 448 residues (Free: 448, Bound: 448, Excluded: 0)\n",
      "Downloading PDB structure '1ox8'...\n",
      "Downloading PDB structure '1ox9'...\n"
     ]
    },
    {
     "name": "stderr",
     "output_type": "stream",
     "text": [
      " 61%|██████    | 541/891 [04:56<06:54,  1.18s/it]"
     ]
    },
    {
     "name": "stdout",
     "output_type": "stream",
     "text": [
      "Aligned 105 residues (Free: 105, Bound: 108, Excluded: 3)\n",
      "Downloading PDB structure '2ecr'...\n",
      "Downloading PDB structure '2ed4'...\n"
     ]
    },
    {
     "name": "stderr",
     "output_type": "stream",
     "text": [
      " 61%|██████    | 542/891 [04:57<06:29,  1.12s/it]"
     ]
    },
    {
     "name": "stdout",
     "output_type": "stream",
     "text": [
      "Aligned 149 residues (Free: 149, Bound: 149, Excluded: 0)\n",
      "Downloading PDB structure '1r6k'...\n",
      "Downloading PDB structure '1r6n'...\n"
     ]
    },
    {
     "name": "stderr",
     "output_type": "stream",
     "text": [
      " 61%|██████    | 543/891 [04:58<06:05,  1.05s/it]"
     ]
    },
    {
     "name": "stdout",
     "output_type": "stream",
     "text": [
      "Aligned 187 residues (Free: 187, Bound: 196, Excluded: 9)\n",
      "Downloading PDB structure '1p5q'...\n",
      "Downloading PDB structure '1qz2'...\n"
     ]
    },
    {
     "name": "stderr",
     "output_type": "stream",
     "text": [
      " 61%|██████    | 544/891 [04:59<06:18,  1.09s/it]"
     ]
    },
    {
     "name": "stdout",
     "output_type": "stream",
     "text": [
      "Aligned 279 residues (Free: 281, Bound: 285, Excluded: 8)\n",
      "Downloading PDB structure '1jwf'...\n",
      "Downloading PDB structure '1jwg'...\n"
     ]
    },
    {
     "name": "stderr",
     "output_type": "stream",
     "text": [
      " 61%|██████    | 545/891 [05:00<06:07,  1.06s/it]"
     ]
    },
    {
     "name": "stdout",
     "output_type": "stream",
     "text": [
      "Aligned 139 residues (Free: 139, Bound: 140, Excluded: 1)\n",
      "Downloading PDB structure '2gvl'...\n",
      "Downloading PDB structure '2gvg'...\n",
      "Aligned 460 residues (Free: 463, Bound: 461, Excluded: 4)\n"
     ]
    },
    {
     "name": "stderr",
     "output_type": "stream",
     "text": [
      " 61%|██████▏   | 546/891 [05:02<07:35,  1.32s/it]"
     ]
    },
    {
     "name": "stdout",
     "output_type": "stream",
     "text": [
      "Downloading PDB structure '1k9x'...\n",
      "Downloading PDB structure '1ka2'...\n"
     ]
    },
    {
     "name": "stderr",
     "output_type": "stream",
     "text": [
      " 61%|██████▏   | 547/891 [05:03<07:29,  1.31s/it]"
     ]
    },
    {
     "name": "stdout",
     "output_type": "stream",
     "text": [
      "Aligned 497 residues (Free: 497, Bound: 497, Excluded: 0)\n",
      "Downloading PDB structure '2dcz'...\n",
      "Downloading PDB structure '2qz3'...\n"
     ]
    },
    {
     "name": "stderr",
     "output_type": "stream",
     "text": [
      " 62%|██████▏   | 548/891 [05:04<06:48,  1.19s/it]"
     ]
    },
    {
     "name": "stdout",
     "output_type": "stream",
     "text": [
      "Aligned 184 residues (Free: 185, Bound: 184, Excluded: 1)\n",
      "Downloading PDB structure '1xqv'...\n",
      "Downloading PDB structure '1xrr'...\n"
     ]
    },
    {
     "name": "stderr",
     "output_type": "stream",
     "text": [
      " 62%|██████▏   | 549/891 [05:05<06:22,  1.12s/it]"
     ]
    },
    {
     "name": "stdout",
     "output_type": "stream",
     "text": [
      "Aligned 290 residues (Free: 290, Bound: 290, Excluded: 0)\n",
      "Downloading PDB structure '1slc'...\n",
      "Downloading PDB structure '1slb'...\n"
     ]
    },
    {
     "name": "stderr",
     "output_type": "stream",
     "text": [
      " 62%|██████▏   | 550/891 [05:06<06:46,  1.19s/it]"
     ]
    },
    {
     "name": "stdout",
     "output_type": "stream",
     "text": [
      "Aligned 134 residues (Free: 134, Bound: 134, Excluded: 0)\n",
      "Downloading PDB structure '2fs5'...\n",
      "Downloading PDB structure '2ft0'...\n"
     ]
    },
    {
     "name": "stderr",
     "output_type": "stream",
     "text": [
      " 62%|██████▏   | 551/891 [05:07<06:14,  1.10s/it]"
     ]
    },
    {
     "name": "stdout",
     "output_type": "stream",
     "text": [
      "Aligned 222 residues (Free: 222, Bound: 222, Excluded: 0)\n",
      "Downloading PDB structure '1yz4'...\n"
     ]
    },
    {
     "name": "stderr",
     "output_type": "stream",
     "text": [
      " 62%|██████▏   | 552/891 [05:07<04:54,  1.15it/s]"
     ]
    },
    {
     "name": "stdout",
     "output_type": "stream",
     "text": [
      "Structure exists: 'data/PSCDB/PDB_structures/pdb1yz4.ent' \n",
      "Aligned 159 residues (Free: 159, Bound: 159, Excluded: 0)\n",
      "Downloading PDB structure '1lwb'...\n",
      "Downloading PDB structure '1kp4'...\n"
     ]
    },
    {
     "name": "stderr",
     "output_type": "stream",
     "text": [
      " 62%|██████▏   | 553/891 [05:08<04:55,  1.14it/s]"
     ]
    },
    {
     "name": "stdout",
     "output_type": "stream",
     "text": [
      "Aligned 122 residues (Free: 122, Bound: 122, Excluded: 0)\n",
      "Downloading PDB structure '2d1z'...\n",
      "Downloading PDB structure '2d24'...\n"
     ]
    },
    {
     "name": "stderr",
     "output_type": "stream",
     "text": [
      " 62%|██████▏   | 554/891 [05:09<05:10,  1.08it/s]"
     ]
    },
    {
     "name": "stdout",
     "output_type": "stream",
     "text": [
      "Aligned 427 residues (Free: 427, Bound: 427, Excluded: 0)\n",
      "Downloading PDB structure '2ckd'...\n",
      "Downloading PDB structure '2uyq'...\n"
     ]
    },
    {
     "name": "stderr",
     "output_type": "stream",
     "text": [
      " 62%|██████▏   | 555/891 [05:10<05:23,  1.04it/s]"
     ]
    },
    {
     "name": "stdout",
     "output_type": "stream",
     "text": [
      "Aligned 274 residues (Free: 303, Bound: 274, Excluded: 29)\n",
      "Downloading PDB structure '2hvf'...\n",
      "Downloading PDB structure '2hba'...\n"
     ]
    },
    {
     "name": "stderr",
     "output_type": "stream",
     "text": [
      " 62%|██████▏   | 556/891 [05:11<05:05,  1.10it/s]"
     ]
    },
    {
     "name": "stdout",
     "output_type": "stream",
     "text": [
      "Aligned 51 residues (Free: 51, Bound: 52, Excluded: 1)\n",
      "Downloading PDB structure '1pp3'...\n",
      "Downloading PDB structure '2oqn'...\n"
     ]
    },
    {
     "name": "stderr",
     "output_type": "stream",
     "text": [
      " 63%|██████▎   | 557/891 [05:12<05:04,  1.10it/s]"
     ]
    },
    {
     "name": "stdout",
     "output_type": "stream",
     "text": [
      "Aligned 207 residues (Free: 207, Bound: 207, Excluded: 0)\n",
      "Downloading PDB structure '2bjw'...\n",
      "Downloading PDB structure '2c9c'...\n"
     ]
    },
    {
     "name": "stderr",
     "output_type": "stream",
     "text": [
      " 63%|██████▎   | 558/891 [05:13<04:59,  1.11it/s]"
     ]
    },
    {
     "name": "stdout",
     "output_type": "stream",
     "text": [
      "Aligned 242 residues (Free: 242, Bound: 244, Excluded: 2)\n",
      "Downloading PDB structure '2gty'...\n",
      "Downloading PDB structure '2hyr'...\n"
     ]
    },
    {
     "name": "stderr",
     "output_type": "stream",
     "text": [
      " 63%|██████▎   | 559/891 [05:14<05:03,  1.09it/s]"
     ]
    },
    {
     "name": "stdout",
     "output_type": "stream",
     "text": [
      "Aligned 121 residues (Free: 121, Bound: 121, Excluded: 0)\n",
      "Downloading PDB structure '2q5x'...\n",
      "Downloading PDB structure '2q5y'...\n"
     ]
    },
    {
     "name": "stderr",
     "output_type": "stream",
     "text": [
      " 63%|██████▎   | 560/891 [05:15<04:39,  1.18it/s]"
     ]
    },
    {
     "name": "stdout",
     "output_type": "stream",
     "text": [
      "Aligned 144 residues (Free: 151, Bound: 152, Excluded: 15)\n",
      "Downloading PDB structure '1knl'...\n",
      "Downloading PDB structure '1mc9'...\n"
     ]
    },
    {
     "name": "stderr",
     "output_type": "stream",
     "text": [
      " 63%|██████▎   | 561/891 [05:16<04:51,  1.13it/s]"
     ]
    },
    {
     "name": "stdout",
     "output_type": "stream",
     "text": [
      "Aligned 126 residues (Free: 126, Bound: 126, Excluded: 0)\n",
      "Downloading PDB structure '1lxt'...\n",
      "Downloading PDB structure '3pmg'...\n"
     ]
    },
    {
     "name": "stderr",
     "output_type": "stream",
     "text": [
      " 63%|██████▎   | 562/891 [05:17<05:37,  1.03s/it]"
     ]
    },
    {
     "name": "stdout",
     "output_type": "stream",
     "text": [
      "Aligned 560 residues (Free: 561, Bound: 560, Excluded: 1)\n",
      "Downloading PDB structure '2rad'...\n",
      "Downloading PDB structure '3b55'...\n"
     ]
    },
    {
     "name": "stderr",
     "output_type": "stream",
     "text": [
      " 63%|██████▎   | 563/891 [05:18<05:56,  1.09s/it]"
     ]
    },
    {
     "name": "stdout",
     "output_type": "stream",
     "text": [
      "Aligned 395 residues (Free: 395, Bound: 400, Excluded: 5)\n",
      "Downloading PDB structure '1oee'...\n",
      "Downloading PDB structure '1oek'...\n"
     ]
    },
    {
     "name": "stderr",
     "output_type": "stream",
     "text": [
      " 63%|██████▎   | 564/891 [05:19<05:48,  1.07s/it]"
     ]
    },
    {
     "name": "stdout",
     "output_type": "stream",
     "text": [
      "Aligned 185 residues (Free: 185, Bound: 185, Excluded: 0)\n",
      "Downloading PDB structure '1t7n'...\n",
      "Downloading PDB structure '1ndi'...\n"
     ]
    },
    {
     "name": "stderr",
     "output_type": "stream",
     "text": [
      " 63%|██████▎   | 565/891 [05:21<06:20,  1.17s/it]"
     ]
    },
    {
     "name": "stdout",
     "output_type": "stream",
     "text": [
      "Aligned 596 residues (Free: 599, Bound: 596, Excluded: 3)\n",
      "Downloading PDB structure '3c8n'...\n",
      "Downloading PDB structure '3b4y'...\n"
     ]
    },
    {
     "name": "stderr",
     "output_type": "stream",
     "text": [
      " 64%|██████▎   | 566/891 [05:22<06:58,  1.29s/it]"
     ]
    },
    {
     "name": "stdout",
     "output_type": "stream",
     "text": [
      "Aligned 322 residues (Free: 334, Bound: 323, Excluded: 13)\n",
      "Downloading PDB structure '1vhr'...\n",
      "Downloading PDB structure '1j4x'...\n"
     ]
    },
    {
     "name": "stderr",
     "output_type": "stream",
     "text": [
      " 64%|██████▎   | 567/891 [05:23<05:59,  1.11s/it]"
     ]
    },
    {
     "name": "stdout",
     "output_type": "stream",
     "text": [
      "Aligned 178 residues (Free: 178, Bound: 178, Excluded: 0)\n",
      "Downloading PDB structure '2zg2'...\n",
      "Downloading PDB structure '2zg1'...\n"
     ]
    },
    {
     "name": "stderr",
     "output_type": "stream",
     "text": [
      " 64%|██████▎   | 568/891 [05:24<05:33,  1.03s/it]"
     ]
    },
    {
     "name": "stdout",
     "output_type": "stream",
     "text": [
      "Aligned 208 residues (Free: 214, Bound: 208, Excluded: 6)\n",
      "Downloading PDB structure '2gxu'...\n",
      "Downloading PDB structure '2gxs'...\n"
     ]
    },
    {
     "name": "stderr",
     "output_type": "stream",
     "text": [
      " 64%|██████▍   | 569/891 [05:25<05:31,  1.03s/it]"
     ]
    },
    {
     "name": "stdout",
     "output_type": "stream",
     "text": [
      "Aligned 206 residues (Free: 206, Bound: 206, Excluded: 0)\n",
      "Downloading PDB structure '1gcu'...\n",
      "Downloading PDB structure '1lc3'...\n"
     ]
    },
    {
     "name": "stderr",
     "output_type": "stream",
     "text": [
      " 64%|██████▍   | 570/891 [05:26<05:14,  1.02it/s]"
     ]
    },
    {
     "name": "stdout",
     "output_type": "stream",
     "text": [
      "Aligned 291 residues (Free: 292, Bound: 292, Excluded: 2)\n",
      "Downloading PDB structure '1qim'...\n",
      "Downloading PDB structure '1zgc'...\n"
     ]
    },
    {
     "name": "stderr",
     "output_type": "stream",
     "text": [
      " 64%|██████▍   | 571/891 [05:27<05:47,  1.09s/it]"
     ]
    },
    {
     "name": "stdout",
     "output_type": "stream",
     "text": [
      "Aligned 528 residues (Free: 532, Bound: 528, Excluded: 4)\n",
      "Downloading PDB structure '4kiv'...\n",
      "Downloading PDB structure '3kiv'...\n"
     ]
    },
    {
     "name": "stderr",
     "output_type": "stream",
     "text": [
      " 64%|██████▍   | 572/891 [05:28<05:19,  1.00s/it]"
     ]
    },
    {
     "name": "stdout",
     "output_type": "stream",
     "text": [
      "Aligned 79 residues (Free: 79, Bound: 79, Excluded: 0)\n",
      "Downloading PDB structure '3e2j'...\n",
      "Downloading PDB structure '3e3z'...\n"
     ]
    },
    {
     "name": "stderr",
     "output_type": "stream",
     "text": [
      " 64%|██████▍   | 573/891 [05:29<05:03,  1.05it/s]"
     ]
    },
    {
     "name": "stdout",
     "output_type": "stream",
     "text": [
      "Aligned 175 residues (Free: 175, Bound: 176, Excluded: 1)\n",
      "Downloading PDB structure '1gxm'...\n",
      "Downloading PDB structure '1gxo'...\n"
     ]
    },
    {
     "name": "stderr",
     "output_type": "stream",
     "text": [
      " 64%|██████▍   | 574/891 [05:30<05:10,  1.02it/s]"
     ]
    },
    {
     "name": "stdout",
     "output_type": "stream",
     "text": [
      "Aligned 320 residues (Free: 324, Bound: 320, Excluded: 4)\n",
      "Downloading PDB structure '2cbm'...\n",
      "Downloading PDB structure '2cbo'...\n"
     ]
    },
    {
     "name": "stderr",
     "output_type": "stream",
     "text": [
      " 65%|██████▍   | 575/891 [05:30<04:38,  1.13it/s]"
     ]
    },
    {
     "name": "stdout",
     "output_type": "stream",
     "text": [
      "Aligned 112 residues (Free: 112, Bound: 115, Excluded: 3)\n",
      "Downloading PDB structure '2if8'...\n"
     ]
    },
    {
     "name": "stderr",
     "output_type": "stream",
     "text": [
      " 65%|██████▍   | 576/891 [05:31<04:12,  1.25it/s]"
     ]
    },
    {
     "name": "stdout",
     "output_type": "stream",
     "text": [
      "Structure exists: 'data/PSCDB/PDB_structures/pdb2if8.ent' \n",
      "Aligned 255 residues (Free: 255, Bound: 255, Excluded: 0)\n",
      "Downloading PDB structure '2z2n'...\n",
      "Downloading PDB structure '2z2p'...\n"
     ]
    },
    {
     "name": "stderr",
     "output_type": "stream",
     "text": [
      " 65%|██████▍   | 577/891 [05:32<04:49,  1.09it/s]"
     ]
    },
    {
     "name": "stdout",
     "output_type": "stream",
     "text": [
      "Aligned 289 residues (Free: 289, Bound: 293, Excluded: 4)\n",
      "Downloading PDB structure '1ayf'...\n",
      "Downloading PDB structure '2bt6'...\n"
     ]
    },
    {
     "name": "stderr",
     "output_type": "stream",
     "text": [
      " 65%|██████▍   | 578/891 [05:33<04:39,  1.12it/s]"
     ]
    },
    {
     "name": "stdout",
     "output_type": "stream",
     "text": [
      "Aligned 103 residues (Free: 103, Bound: 104, Excluded: 1)\n",
      "Downloading PDB structure '1fbt'...\n",
      "Downloading PDB structure '1c80'...\n"
     ]
    },
    {
     "name": "stderr",
     "output_type": "stream",
     "text": [
      " 65%|██████▍   | 579/891 [05:34<05:02,  1.03it/s]"
     ]
    },
    {
     "name": "stdout",
     "output_type": "stream",
     "text": [
      "Aligned 186 residues (Free: 186, Bound: 191, Excluded: 5)\n",
      "Downloading PDB structure '1cz3'...\n",
      "Downloading PDB structure '1d1g'...\n"
     ]
    },
    {
     "name": "stderr",
     "output_type": "stream",
     "text": [
      " 65%|██████▌   | 580/891 [05:35<04:27,  1.16it/s]"
     ]
    },
    {
     "name": "stdout",
     "output_type": "stream",
     "text": [
      "Aligned 164 residues (Free: 164, Bound: 164, Excluded: 0)\n",
      "Downloading PDB structure '1x2j'...\n",
      "Downloading PDB structure '1x2r'...\n"
     ]
    },
    {
     "name": "stderr",
     "output_type": "stream",
     "text": [
      " 65%|██████▌   | 581/891 [05:36<04:35,  1.13it/s]"
     ]
    },
    {
     "name": "stdout",
     "output_type": "stream",
     "text": [
      "Aligned 290 residues (Free: 290, Bound: 290, Excluded: 0)\n",
      "Downloading PDB structure '3dwh'...\n",
      "Downloading PDB structure '3bi7'...\n"
     ]
    },
    {
     "name": "stderr",
     "output_type": "stream",
     "text": [
      " 65%|██████▌   | 582/891 [05:37<04:50,  1.07it/s]"
     ]
    },
    {
     "name": "stdout",
     "output_type": "stream",
     "text": [
      "Aligned 187 residues (Free: 193, Bound: 192, Excluded: 11)\n",
      "Downloading PDB structure '1qpo'...\n",
      "Downloading PDB structure '1qpr'...\n"
     ]
    },
    {
     "name": "stderr",
     "output_type": "stream",
     "text": [
      " 65%|██████▌   | 583/891 [05:38<05:29,  1.07s/it]"
     ]
    },
    {
     "name": "stdout",
     "output_type": "stream",
     "text": [
      "Aligned 284 residues (Free: 284, Bound: 284, Excluded: 0)\n",
      "Downloading PDB structure '2awx'...\n",
      "Downloading PDB structure '2g2l'...\n"
     ]
    },
    {
     "name": "stderr",
     "output_type": "stream",
     "text": [
      " 66%|██████▌   | 584/891 [05:39<05:05,  1.01it/s]"
     ]
    },
    {
     "name": "stdout",
     "output_type": "stream",
     "text": [
      "Aligned 90 residues (Free: 92, Bound: 90, Excluded: 2)\n",
      "Downloading PDB structure '1wgc'...\n",
      "Downloading PDB structure '2uvo'...\n"
     ]
    },
    {
     "name": "stderr",
     "output_type": "stream",
     "text": [
      " 66%|██████▌   | 585/891 [05:40<05:37,  1.10s/it]"
     ]
    },
    {
     "name": "stdout",
     "output_type": "stream",
     "text": [
      "Aligned 169 residues (Free: 170, Bound: 169, Excluded: 1)\n",
      "Downloading PDB structure '2a6c'...\n"
     ]
    },
    {
     "name": "stderr",
     "output_type": "stream",
     "text": [
      " 66%|██████▌   | 586/891 [05:41<04:38,  1.10it/s]"
     ]
    },
    {
     "name": "stdout",
     "output_type": "stream",
     "text": [
      "Structure exists: 'data/PSCDB/PDB_structures/pdb2a6c.ent' \n",
      "Aligned 72 residues (Free: 72, Bound: 72, Excluded: 0)\n",
      "Downloading PDB structure '1b6w'...\n",
      "Downloading PDB structure '1a7w'...\n"
     ]
    },
    {
     "name": "stderr",
     "output_type": "stream",
     "text": [
      " 66%|██████▌   | 587/891 [05:42<04:55,  1.03it/s]"
     ]
    },
    {
     "name": "stdout",
     "output_type": "stream",
     "text": [
      "Aligned 66 residues (Free: 66, Bound: 68, Excluded: 2)\n",
      "Downloading PDB structure '1sqg'...\n",
      "Downloading PDB structure '1sqf'...\n"
     ]
    },
    {
     "name": "stderr",
     "output_type": "stream",
     "text": [
      " 66%|██████▌   | 588/891 [05:43<04:44,  1.07it/s]"
     ]
    },
    {
     "name": "stdout",
     "output_type": "stream",
     "text": [
      "Aligned 424 residues (Free: 424, Bound: 425, Excluded: 1)\n",
      "Downloading PDB structure '1u24'...\n",
      "Downloading PDB structure '1u26'...\n"
     ]
    },
    {
     "name": "stderr",
     "output_type": "stream",
     "text": [
      " 66%|██████▌   | 589/891 [05:44<05:01,  1.00it/s]"
     ]
    },
    {
     "name": "stdout",
     "output_type": "stream",
     "text": [
      "Aligned 308 residues (Free: 308, Bound: 314, Excluded: 6)\n",
      "Downloading PDB structure '1glh'...\n",
      "Downloading PDB structure '1byh'...\n"
     ]
    },
    {
     "name": "stderr",
     "output_type": "stream",
     "text": [
      " 66%|██████▌   | 590/891 [05:45<05:08,  1.02s/it]"
     ]
    },
    {
     "name": "stdout",
     "output_type": "stream",
     "text": [
      "Aligned 214 residues (Free: 214, Bound: 214, Excluded: 0)\n",
      "Downloading PDB structure '2huz'...\n",
      "Downloading PDB structure '2o28'...\n"
     ]
    },
    {
     "name": "stderr",
     "output_type": "stream",
     "text": [
      " 66%|██████▋   | 591/891 [05:46<05:06,  1.02s/it]"
     ]
    },
    {
     "name": "stdout",
     "output_type": "stream",
     "text": [
      "Aligned 182 residues (Free: 182, Bound: 182, Excluded: 0)\n",
      "Downloading PDB structure '1f14'...\n",
      "Downloading PDB structure '1f12'...\n"
     ]
    },
    {
     "name": "stderr",
     "output_type": "stream",
     "text": [
      " 66%|██████▋   | 592/891 [05:47<05:06,  1.03s/it]"
     ]
    },
    {
     "name": "stdout",
     "output_type": "stream",
     "text": [
      "Aligned 291 residues (Free: 291, Bound: 293, Excluded: 2)\n",
      "Downloading PDB structure '2iru'...\n",
      "Downloading PDB structure '2iry'...\n"
     ]
    },
    {
     "name": "stderr",
     "output_type": "stream",
     "text": [
      " 67%|██████▋   | 593/891 [05:48<05:24,  1.09s/it]"
     ]
    },
    {
     "name": "stdout",
     "output_type": "stream",
     "text": [
      "Aligned 286 residues (Free: 286, Bound: 288, Excluded: 2)\n",
      "Downloading PDB structure '2h1v'...\n",
      "Downloading PDB structure '1c1h'...\n"
     ]
    },
    {
     "name": "stderr",
     "output_type": "stream",
     "text": [
      " 67%|██████▋   | 594/891 [05:49<05:40,  1.15s/it]"
     ]
    },
    {
     "name": "stdout",
     "output_type": "stream",
     "text": [
      "Aligned 306 residues (Free: 309, Bound: 306, Excluded: 3)\n",
      "Downloading PDB structure '1ew4'...\n",
      "Downloading PDB structure '2eff'...\n"
     ]
    },
    {
     "name": "stderr",
     "output_type": "stream",
     "text": [
      " 67%|██████▋   | 595/891 [05:50<05:03,  1.02s/it]"
     ]
    },
    {
     "name": "stdout",
     "output_type": "stream",
     "text": [
      "Aligned 106 residues (Free: 106, Bound: 106, Excluded: 0)\n",
      "Downloading PDB structure '1jax'...\n",
      "Downloading PDB structure '1jay'...\n"
     ]
    },
    {
     "name": "stderr",
     "output_type": "stream",
     "text": [
      " 67%|██████▋   | 596/891 [05:51<04:56,  1.01s/it]"
     ]
    },
    {
     "name": "stdout",
     "output_type": "stream",
     "text": [
      "Aligned 212 residues (Free: 212, Bound: 212, Excluded: 0)\n",
      "Downloading PDB structure '1wcv'...\n",
      "Downloading PDB structure '2bej'...\n"
     ]
    },
    {
     "name": "stderr",
     "output_type": "stream",
     "text": [
      " 67%|██████▋   | 597/891 [05:52<04:47,  1.02it/s]"
     ]
    },
    {
     "name": "stdout",
     "output_type": "stream",
     "text": [
      "No common residues between 1wcv and 2bej\n",
      "Downloading PDB structure '1w79'...\n",
      "Downloading PDB structure '1w8y'...\n"
     ]
    },
    {
     "name": "stderr",
     "output_type": "stream",
     "text": [
      " 67%|██████▋   | 598/891 [05:54<05:54,  1.21s/it]"
     ]
    },
    {
     "name": "stdout",
     "output_type": "stream",
     "text": [
      "Aligned 466 residues (Free: 466, Bound: 466, Excluded: 0)\n",
      "Downloading PDB structure '1nh1'...\n",
      "Downloading PDB structure '2nun'...\n"
     ]
    },
    {
     "name": "stderr",
     "output_type": "stream",
     "text": [
      " 67%|██████▋   | 599/891 [05:55<05:20,  1.10s/it]"
     ]
    },
    {
     "name": "stdout",
     "output_type": "stream",
     "text": [
      "Aligned 287 residues (Free: 290, Bound: 301, Excluded: 17)\n",
      "Downloading PDB structure '3cb6'...\n",
      "Downloading PDB structure '3cb5'...\n"
     ]
    },
    {
     "name": "stderr",
     "output_type": "stream",
     "text": [
      " 67%|██████▋   | 600/891 [05:56<05:18,  1.10s/it]"
     ]
    },
    {
     "name": "stdout",
     "output_type": "stream",
     "text": [
      "Aligned 436 residues (Free: 441, Bound: 439, Excluded: 8)\n",
      "Downloading PDB structure '1gyj'...\n",
      "Downloading PDB structure '1gyx'...\n"
     ]
    },
    {
     "name": "stderr",
     "output_type": "stream",
     "text": [
      " 67%|██████▋   | 601/891 [05:56<04:40,  1.03it/s]"
     ]
    },
    {
     "name": "stdout",
     "output_type": "stream",
     "text": [
      "Aligned 76 residues (Free: 76, Bound: 76, Excluded: 0)\n",
      "Downloading PDB structure '1zgr'...\n",
      "Downloading PDB structure '1zgs'...\n"
     ]
    },
    {
     "name": "stderr",
     "output_type": "stream",
     "text": [
      " 68%|██████▊   | 602/891 [05:58<05:03,  1.05s/it]"
     ]
    },
    {
     "name": "stdout",
     "output_type": "stream",
     "text": [
      "Aligned 441 residues (Free: 441, Bound: 442, Excluded: 1)\n",
      "Downloading PDB structure '1kpc'...\n",
      "Downloading PDB structure '1kpf'...\n"
     ]
    },
    {
     "name": "stderr",
     "output_type": "stream",
     "text": [
      " 68%|██████▊   | 603/891 [05:58<04:49,  1.01s/it]"
     ]
    },
    {
     "name": "stdout",
     "output_type": "stream",
     "text": [
      "Aligned 111 residues (Free: 111, Bound: 111, Excluded: 0)\n",
      "Downloading PDB structure '2byd'...\n",
      "Downloading PDB structure '2c43'...\n"
     ]
    },
    {
     "name": "stderr",
     "output_type": "stream",
     "text": [
      " 68%|██████▊   | 604/891 [05:59<04:37,  1.03it/s]"
     ]
    },
    {
     "name": "stdout",
     "output_type": "stream",
     "text": [
      "Aligned 278 residues (Free: 283, Bound: 280, Excluded: 7)\n",
      "Downloading PDB structure '1cmb'...\n",
      "Downloading PDB structure '1mjl'...\n"
     ]
    },
    {
     "name": "stderr",
     "output_type": "stream",
     "text": [
      " 68%|██████▊   | 605/891 [06:00<04:18,  1.11it/s]"
     ]
    },
    {
     "name": "stdout",
     "output_type": "stream",
     "text": [
      "Aligned 104 residues (Free: 104, Bound: 104, Excluded: 0)\n",
      "Downloading PDB structure '1h09'...\n",
      "Downloading PDB structure '2j8g'...\n"
     ]
    },
    {
     "name": "stderr",
     "output_type": "stream",
     "text": [
      " 68%|██████▊   | 606/891 [06:01<04:32,  1.05it/s]"
     ]
    },
    {
     "name": "stdout",
     "output_type": "stream",
     "text": [
      "Aligned 338 residues (Free: 338, Bound: 338, Excluded: 0)\n",
      "Downloading PDB structure '3cyp'...\n",
      "Downloading PDB structure '3cyq'...\n"
     ]
    },
    {
     "name": "stderr",
     "output_type": "stream",
     "text": [
      " 68%|██████▊   | 607/891 [06:03<05:07,  1.08s/it]"
     ]
    },
    {
     "name": "stdout",
     "output_type": "stream",
     "text": [
      "Aligned 129 residues (Free: 129, Bound: 133, Excluded: 4)\n",
      "Downloading PDB structure '2nyh'...\n",
      "Downloading PDB structure '2p8i'...\n"
     ]
    },
    {
     "name": "stderr",
     "output_type": "stream",
     "text": [
      " 68%|██████▊   | 608/891 [06:04<05:02,  1.07s/it]"
     ]
    },
    {
     "name": "stdout",
     "output_type": "stream",
     "text": [
      "Aligned 114 residues (Free: 114, Bound: 115, Excluded: 1)\n",
      "Downloading PDB structure '2jfd'...\n",
      "Downloading PDB structure '2jfk'...\n"
     ]
    },
    {
     "name": "stderr",
     "output_type": "stream",
     "text": [
      " 68%|██████▊   | 609/891 [06:05<05:38,  1.20s/it]"
     ]
    },
    {
     "name": "stdout",
     "output_type": "stream",
     "text": [
      "Aligned 400 residues (Free: 404, Bound: 400, Excluded: 4)\n",
      "Downloading PDB structure '1ri5'...\n",
      "Downloading PDB structure '1ri2'...\n"
     ]
    },
    {
     "name": "stderr",
     "output_type": "stream",
     "text": [
      " 68%|██████▊   | 610/891 [06:06<05:13,  1.11s/it]"
     ]
    },
    {
     "name": "stdout",
     "output_type": "stream",
     "text": [
      "Aligned 252 residues (Free: 252, Bound: 252, Excluded: 0)\n",
      "Downloading PDB structure '2ii2'...\n",
      "Downloading PDB structure '2iic'...\n"
     ]
    },
    {
     "name": "stderr",
     "output_type": "stream",
     "text": [
      " 69%|██████▊   | 611/891 [06:08<05:42,  1.22s/it]"
     ]
    },
    {
     "name": "stdout",
     "output_type": "stream",
     "text": [
      "Aligned 302 residues (Free: 304, Bound: 302, Excluded: 2)\n",
      "Downloading PDB structure '2i6i'...\n",
      "Downloading PDB structure '2i6p'...\n"
     ]
    },
    {
     "name": "stderr",
     "output_type": "stream",
     "text": [
      " 69%|██████▊   | 612/891 [06:08<04:56,  1.06s/it]"
     ]
    },
    {
     "name": "stdout",
     "output_type": "stream",
     "text": [
      "Aligned 159 residues (Free: 161, Bound: 159, Excluded: 2)\n",
      "Downloading PDB structure '1tw7'...\n",
      "Downloading PDB structure '1rv7'...\n"
     ]
    },
    {
     "name": "stderr",
     "output_type": "stream",
     "text": [
      " 69%|██████▉   | 613/891 [06:09<04:36,  1.01it/s]"
     ]
    },
    {
     "name": "stdout",
     "output_type": "stream",
     "text": [
      "Aligned 99 residues (Free: 99, Bound: 99, Excluded: 0)\n",
      "Downloading PDB structure '2atb'...\n",
      "Downloading PDB structure '2asc'...\n"
     ]
    },
    {
     "name": "stderr",
     "output_type": "stream",
     "text": [
      " 69%|██████▉   | 614/891 [06:10<04:28,  1.03it/s]"
     ]
    },
    {
     "name": "stdout",
     "output_type": "stream",
     "text": [
      "Aligned 65 residues (Free: 65, Bound: 65, Excluded: 0)\n",
      "Downloading PDB structure '1n57'...\n",
      "Downloading PDB structure '1ons'...\n"
     ]
    },
    {
     "name": "stderr",
     "output_type": "stream",
     "text": [
      " 69%|██████▉   | 615/891 [06:11<04:22,  1.05it/s]"
     ]
    },
    {
     "name": "stdout",
     "output_type": "stream",
     "text": [
      "Aligned 270 residues (Free: 272, Bound: 278, Excluded: 10)\n",
      "Downloading PDB structure '1qsa'...\n",
      "Downloading PDB structure '1sly'...\n",
      "Aligned 618 residues (Free: 618, Bound: 618, Excluded: 0)\n"
     ]
    },
    {
     "name": "stderr",
     "output_type": "stream",
     "text": [
      " 69%|██████▉   | 616/891 [06:12<05:00,  1.09s/it]"
     ]
    },
    {
     "name": "stdout",
     "output_type": "stream",
     "text": [
      "Downloading PDB structure '1xnh'...\n",
      "Downloading PDB structure '1xng'...\n"
     ]
    },
    {
     "name": "stderr",
     "output_type": "stream",
     "text": [
      " 69%|██████▉   | 617/891 [06:13<04:33,  1.00it/s]"
     ]
    },
    {
     "name": "stdout",
     "output_type": "stream",
     "text": [
      "Aligned 251 residues (Free: 251, Bound: 255, Excluded: 4)\n",
      "Downloading PDB structure '2obr'...\n",
      "Downloading PDB structure '2obt'...\n"
     ]
    },
    {
     "name": "stderr",
     "output_type": "stream",
     "text": [
      " 69%|██████▉   | 618/891 [06:14<04:24,  1.03it/s]"
     ]
    },
    {
     "name": "stdout",
     "output_type": "stream",
     "text": [
      "Aligned 296 residues (Free: 296, Bound: 307, Excluded: 11)\n",
      "Downloading PDB structure '1ppn'...\n",
      "Downloading PDB structure '4pad'...\n"
     ]
    },
    {
     "name": "stderr",
     "output_type": "stream",
     "text": [
      " 69%|██████▉   | 619/891 [06:15<04:05,  1.11it/s]"
     ]
    },
    {
     "name": "stdout",
     "output_type": "stream",
     "text": [
      "Aligned 212 residues (Free: 212, Bound: 212, Excluded: 0)\n",
      "Downloading PDB structure '1tje'...\n",
      "Downloading PDB structure '1tkg'...\n"
     ]
    },
    {
     "name": "stderr",
     "output_type": "stream",
     "text": [
      " 70%|██████▉   | 620/891 [06:16<04:10,  1.08it/s]"
     ]
    },
    {
     "name": "stdout",
     "output_type": "stream",
     "text": [
      "Aligned 224 residues (Free: 224, Bound: 224, Excluded: 0)\n",
      "Downloading PDB structure '1ah6'...\n",
      "Downloading PDB structure '1amw'...\n"
     ]
    },
    {
     "name": "stderr",
     "output_type": "stream",
     "text": [
      " 70%|██████▉   | 621/891 [06:17<04:04,  1.10it/s]"
     ]
    },
    {
     "name": "stdout",
     "output_type": "stream",
     "text": [
      "Aligned 213 residues (Free: 213, Bound: 213, Excluded: 0)\n",
      "Downloading PDB structure '2eak'...\n",
      "Downloading PDB structure '2eal'...\n"
     ]
    },
    {
     "name": "stderr",
     "output_type": "stream",
     "text": [
      " 70%|██████▉   | 622/891 [06:18<04:09,  1.08it/s]"
     ]
    },
    {
     "name": "stdout",
     "output_type": "stream",
     "text": [
      "Aligned 141 residues (Free: 143, Bound: 141, Excluded: 2)\n",
      "Downloading PDB structure '1wny'...\n",
      "Downloading PDB structure '1wk8'...\n"
     ]
    },
    {
     "name": "stderr",
     "output_type": "stream",
     "text": [
      " 70%|██████▉   | 623/891 [06:19<04:25,  1.01it/s]"
     ]
    },
    {
     "name": "stdout",
     "output_type": "stream",
     "text": [
      "Aligned 180 residues (Free: 180, Bound: 182, Excluded: 2)\n",
      "Downloading PDB structure '1f6y'...\n",
      "Downloading PDB structure '2ogy'...\n"
     ]
    },
    {
     "name": "stderr",
     "output_type": "stream",
     "text": [
      " 70%|███████   | 624/891 [06:20<04:40,  1.05s/it]"
     ]
    },
    {
     "name": "stdout",
     "output_type": "stream",
     "text": [
      "Aligned 258 residues (Free: 258, Bound: 262, Excluded: 4)\n",
      "Downloading PDB structure '1na8'...\n",
      "Downloading PDB structure '1om9'...\n"
     ]
    },
    {
     "name": "stderr",
     "output_type": "stream",
     "text": [
      " 70%|███████   | 625/891 [06:21<04:26,  1.00s/it]"
     ]
    },
    {
     "name": "stdout",
     "output_type": "stream",
     "text": [
      "Aligned 142 residues (Free: 151, Bound: 142, Excluded: 9)\n",
      "Downloading PDB structure '1ayx'...\n",
      "Downloading PDB structure '2f6d'...\n"
     ]
    },
    {
     "name": "stderr",
     "output_type": "stream",
     "text": [
      " 70%|███████   | 626/891 [06:22<04:43,  1.07s/it]"
     ]
    },
    {
     "name": "stdout",
     "output_type": "stream",
     "text": [
      "Aligned 492 residues (Free: 492, Bound: 492, Excluded: 0)\n",
      "Downloading PDB structure '1h8u'...\n",
      "Downloading PDB structure '2brs'...\n"
     ]
    },
    {
     "name": "stderr",
     "output_type": "stream",
     "text": [
      " 70%|███████   | 627/891 [06:23<04:25,  1.01s/it]"
     ]
    },
    {
     "name": "stdout",
     "output_type": "stream",
     "text": [
      "Aligned 115 residues (Free: 115, Bound: 115, Excluded: 0)\n",
      "Downloading PDB structure '1bk7'...\n",
      "Downloading PDB structure '1ucg'...\n"
     ]
    },
    {
     "name": "stderr",
     "output_type": "stream",
     "text": [
      " 70%|███████   | 628/891 [06:24<04:32,  1.04s/it]"
     ]
    },
    {
     "name": "stdout",
     "output_type": "stream",
     "text": [
      "Aligned 190 residues (Free: 190, Bound: 190, Excluded: 0)\n",
      "Downloading PDB structure '1k75'...\n",
      "Downloading PDB structure '1kae'...\n"
     ]
    },
    {
     "name": "stderr",
     "output_type": "stream",
     "text": [
      " 71%|███████   | 629/891 [06:25<04:44,  1.09s/it]"
     ]
    },
    {
     "name": "stdout",
     "output_type": "stream",
     "text": [
      "Aligned 425 residues (Free: 425, Bound: 427, Excluded: 2)\n",
      "Downloading PDB structure '2r7f'...\n",
      "Downloading PDB structure '2r7d'...\n"
     ]
    },
    {
     "name": "stderr",
     "output_type": "stream",
     "text": [
      " 71%|███████   | 630/891 [06:27<05:10,  1.19s/it]"
     ]
    },
    {
     "name": "stdout",
     "output_type": "stream",
     "text": [
      "Aligned 450 residues (Free: 450, Bound: 452, Excluded: 2)\n",
      "Downloading PDB structure '1c3f'...\n",
      "Downloading PDB structure '1c8y'...\n"
     ]
    },
    {
     "name": "stderr",
     "output_type": "stream",
     "text": [
      " 71%|███████   | 631/891 [06:27<04:47,  1.11s/it]"
     ]
    },
    {
     "name": "stdout",
     "output_type": "stream",
     "text": [
      "Aligned 265 residues (Free: 265, Bound: 265, Excluded: 0)\n",
      "Downloading PDB structure '2raf'...\n"
     ]
    },
    {
     "name": "stderr",
     "output_type": "stream",
     "text": [
      " 71%|███████   | 632/891 [06:28<03:50,  1.12it/s]"
     ]
    },
    {
     "name": "stdout",
     "output_type": "stream",
     "text": [
      "Structure exists: 'data/PSCDB/PDB_structures/pdb2raf.ent' \n",
      "Aligned 184 residues (Free: 184, Bound: 184, Excluded: 0)\n",
      "Downloading PDB structure '1w28'...\n",
      "Downloading PDB structure '1w2o'...\n"
     ]
    },
    {
     "name": "stderr",
     "output_type": "stream",
     "text": [
      " 71%|███████   | 633/891 [06:29<03:49,  1.13it/s]"
     ]
    },
    {
     "name": "stdout",
     "output_type": "stream",
     "text": [
      "Aligned 272 residues (Free: 272, Bound: 275, Excluded: 3)\n",
      "Downloading PDB structure '1r7i'...\n",
      "Downloading PDB structure '1t02'...\n"
     ]
    },
    {
     "name": "stderr",
     "output_type": "stream",
     "text": [
      " 71%|███████   | 634/891 [06:30<04:13,  1.01it/s]"
     ]
    },
    {
     "name": "stdout",
     "output_type": "stream",
     "text": [
      "Aligned 371 residues (Free: 372, Bound: 371, Excluded: 1)\n",
      "Downloading PDB structure '2hzb'...\n",
      "Downloading PDB structure '2o2z'...\n"
     ]
    },
    {
     "name": "stderr",
     "output_type": "stream",
     "text": [
      " 71%|███████▏  | 635/891 [06:31<04:31,  1.06s/it]"
     ]
    },
    {
     "name": "stdout",
     "output_type": "stream",
     "text": [
      "Aligned 303 residues (Free: 306, Bound: 304, Excluded: 4)\n",
      "Downloading PDB structure '2vfx'...\n",
      "Structure exists: 'data/PSCDB/PDB_structures/pdb2vfx.ent' \n"
     ]
    },
    {
     "name": "stderr",
     "output_type": "stream",
     "text": [
      " 71%|███████▏  | 636/891 [06:33<04:52,  1.15s/it]"
     ]
    },
    {
     "name": "stdout",
     "output_type": "stream",
     "text": [
      "Aligned 203 residues (Free: 203, Bound: 203, Excluded: 0)\n",
      "Downloading PDB structure '3d9i'...\n",
      "Downloading PDB structure '3d9p'...\n"
     ]
    },
    {
     "name": "stderr",
     "output_type": "stream",
     "text": [
      " 71%|███████▏  | 637/891 [06:34<04:54,  1.16s/it]"
     ]
    },
    {
     "name": "stdout",
     "output_type": "stream",
     "text": [
      "Aligned 138 residues (Free: 138, Bound: 138, Excluded: 0)\n",
      "Downloading PDB structure '1j85'...\n",
      "Downloading PDB structure '1mxi'...\n"
     ]
    },
    {
     "name": "stderr",
     "output_type": "stream",
     "text": [
      " 72%|███████▏  | 638/891 [06:34<04:16,  1.01s/it]"
     ]
    },
    {
     "name": "stdout",
     "output_type": "stream",
     "text": [
      "Aligned 156 residues (Free: 156, Bound: 156, Excluded: 0)\n",
      "Downloading PDB structure '4ptd'...\n",
      "Downloading PDB structure '1gym'...\n"
     ]
    },
    {
     "name": "stderr",
     "output_type": "stream",
     "text": [
      " 72%|███████▏  | 639/891 [06:35<03:56,  1.07it/s]"
     ]
    },
    {
     "name": "stdout",
     "output_type": "stream",
     "text": [
      "Aligned 296 residues (Free: 296, Bound: 296, Excluded: 0)\n",
      "Downloading PDB structure '1twd'...\n",
      "Downloading PDB structure '1x8c'...\n"
     ]
    },
    {
     "name": "stderr",
     "output_type": "stream",
     "text": [
      " 72%|███████▏  | 640/891 [06:36<04:00,  1.04it/s]"
     ]
    },
    {
     "name": "stdout",
     "output_type": "stream",
     "text": [
      "Aligned 224 residues (Free: 225, Bound: 224, Excluded: 1)\n",
      "Downloading PDB structure '1bdj'...\n",
      "Downloading PDB structure '2a0b'...\n"
     ]
    },
    {
     "name": "stderr",
     "output_type": "stream",
     "text": [
      " 72%|███████▏  | 641/891 [06:37<03:50,  1.09it/s]"
     ]
    },
    {
     "name": "stdout",
     "output_type": "stream",
     "text": [
      "No common residues between 1bdj and 2a0b\n",
      "Downloading PDB structure '2f5g'...\n",
      "Downloading PDB structure '2f4f'...\n"
     ]
    },
    {
     "name": "stderr",
     "output_type": "stream",
     "text": [
      " 72%|███████▏  | 642/891 [06:38<03:44,  1.11it/s]"
     ]
    },
    {
     "name": "stdout",
     "output_type": "stream",
     "text": [
      "Aligned 130 residues (Free: 130, Bound: 130, Excluded: 0)\n",
      "Downloading PDB structure '1qjv'...\n",
      "Downloading PDB structure '2nt9'...\n"
     ]
    },
    {
     "name": "stderr",
     "output_type": "stream",
     "text": [
      " 72%|███████▏  | 643/891 [06:39<04:22,  1.06s/it]"
     ]
    },
    {
     "name": "stdout",
     "output_type": "stream",
     "text": [
      "Aligned 342 residues (Free: 342, Bound: 342, Excluded: 0)\n",
      "Downloading PDB structure '2qgq'...\n",
      "Structure exists: 'data/PSCDB/PDB_structures/pdb2qgq.ent' \n"
     ]
    },
    {
     "name": "stderr",
     "output_type": "stream",
     "text": [
      " 72%|███████▏  | 644/891 [06:41<04:35,  1.12s/it]"
     ]
    },
    {
     "name": "stdout",
     "output_type": "stream",
     "text": [
      "Aligned 266 residues (Free: 266, Bound: 266, Excluded: 0)\n",
      "Downloading PDB structure '2vfy'...\n",
      "Downloading PDB structure '2vfk'...\n"
     ]
    },
    {
     "name": "stderr",
     "output_type": "stream",
     "text": [
      " 72%|███████▏  | 645/891 [06:42<04:25,  1.08s/it]"
     ]
    },
    {
     "name": "stdout",
     "output_type": "stream",
     "text": [
      "Aligned 203 residues (Free: 203, Bound: 205, Excluded: 2)\n",
      "Downloading PDB structure '1ww8'...\n",
      "Downloading PDB structure '2dvm'...\n"
     ]
    },
    {
     "name": "stderr",
     "output_type": "stream",
     "text": [
      " 73%|███████▎  | 646/891 [06:43<05:05,  1.25s/it]"
     ]
    },
    {
     "name": "stdout",
     "output_type": "stream",
     "text": [
      "Aligned 427 residues (Free: 427, Bound: 438, Excluded: 11)\n",
      "Downloading PDB structure '3c8h'...\n",
      "Downloading PDB structure '3c8d'...\n"
     ]
    },
    {
     "name": "stderr",
     "output_type": "stream",
     "text": [
      " 73%|███████▎  | 647/891 [06:45<05:50,  1.44s/it]"
     ]
    },
    {
     "name": "stdout",
     "output_type": "stream",
     "text": [
      "Aligned 370 residues (Free: 376, Bound: 378, Excluded: 14)\n",
      "Downloading PDB structure '1r6j'...\n",
      "Downloading PDB structure '1oby'...\n"
     ]
    },
    {
     "name": "stderr",
     "output_type": "stream",
     "text": [
      " 73%|███████▎  | 648/891 [06:46<05:03,  1.25s/it]"
     ]
    },
    {
     "name": "stdout",
     "output_type": "stream",
     "text": [
      "Aligned 75 residues (Free: 82, Bound: 75, Excluded: 7)\n",
      "Downloading PDB structure '1agj'...\n",
      "Downloading PDB structure '1exf'...\n"
     ]
    },
    {
     "name": "stderr",
     "output_type": "stream",
     "text": [
      " 73%|███████▎  | 649/891 [06:47<05:00,  1.24s/it]"
     ]
    },
    {
     "name": "stdout",
     "output_type": "stream",
     "text": [
      "Aligned 210 residues (Free: 242, Bound: 241, Excluded: 63)\n",
      "Downloading PDB structure '1v8q'...\n"
     ]
    },
    {
     "name": "stderr",
     "output_type": "stream",
     "text": [
      " 73%|███████▎  | 650/891 [06:47<03:58,  1.01it/s]"
     ]
    },
    {
     "name": "stdout",
     "output_type": "stream",
     "text": [
      "Structure exists: 'data/PSCDB/PDB_structures/pdb1v8q.ent' \n",
      "Aligned 66 residues (Free: 66, Bound: 66, Excluded: 0)\n",
      "Downloading PDB structure '2d05'...\n",
      "Downloading PDB structure '1qgi'...\n"
     ]
    },
    {
     "name": "stderr",
     "output_type": "stream",
     "text": [
      " 73%|███████▎  | 651/891 [06:48<03:37,  1.10it/s]"
     ]
    },
    {
     "name": "stdout",
     "output_type": "stream",
     "text": [
      "Aligned 259 residues (Free: 259, Bound: 259, Excluded: 0)\n",
      "Downloading PDB structure '2r88'...\n",
      "Downloading PDB structure '2r8a'...\n"
     ]
    },
    {
     "name": "stderr",
     "output_type": "stream",
     "text": [
      " 73%|███████▎  | 652/891 [06:49<03:51,  1.03it/s]"
     ]
    },
    {
     "name": "stdout",
     "output_type": "stream",
     "text": [
      "Aligned 357 residues (Free: 365, Bound: 360, Excluded: 11)\n",
      "Downloading PDB structure '2eh1'...\n"
     ]
    },
    {
     "name": "stderr",
     "output_type": "stream",
     "text": [
      " 73%|███████▎  | 653/891 [06:50<03:02,  1.30it/s]"
     ]
    },
    {
     "name": "stdout",
     "output_type": "stream",
     "text": [
      "Structure exists: 'data/PSCDB/PDB_structures/pdb2eh1.ent' \n",
      "Aligned 87 residues (Free: 87, Bound: 87, Excluded: 0)\n",
      "Downloading PDB structure '1gy7'...\n",
      "Downloading PDB structure '1gyb'...\n"
     ]
    },
    {
     "name": "stderr",
     "output_type": "stream",
     "text": [
      " 73%|███████▎  | 654/891 [06:51<03:25,  1.15it/s]"
     ]
    },
    {
     "name": "stdout",
     "output_type": "stream",
     "text": [
      "Aligned 121 residues (Free: 121, Bound: 122, Excluded: 1)\n",
      "Downloading PDB structure '1l8f'...\n",
      "Downloading PDB structure '1oa7'...\n"
     ]
    },
    {
     "name": "stderr",
     "output_type": "stream",
     "text": [
      " 74%|███████▎  | 655/891 [06:51<03:14,  1.21it/s]"
     ]
    },
    {
     "name": "stdout",
     "output_type": "stream",
     "text": [
      "Aligned 207 residues (Free: 207, Bound: 207, Excluded: 0)\n",
      "Downloading PDB structure '2fao'...\n",
      "Downloading PDB structure '2faq'...\n"
     ]
    },
    {
     "name": "stderr",
     "output_type": "stream",
     "text": [
      " 74%|███████▎  | 656/891 [06:52<03:21,  1.16it/s]"
     ]
    },
    {
     "name": "stdout",
     "output_type": "stream",
     "text": [
      "Aligned 295 residues (Free: 295, Bound: 295, Excluded: 0)\n",
      "Downloading PDB structure '1e9n'...\n",
      "Downloading PDB structure '2isi'...\n"
     ]
    },
    {
     "name": "stderr",
     "output_type": "stream",
     "text": [
      " 74%|███████▎  | 657/891 [06:53<03:20,  1.16it/s]"
     ]
    },
    {
     "name": "stdout",
     "output_type": "stream",
     "text": [
      "Aligned 274 residues (Free: 274, Bound: 276, Excluded: 2)\n",
      "Downloading PDB structure '4mat'...\n",
      "Downloading PDB structure '3mat'...\n"
     ]
    },
    {
     "name": "stderr",
     "output_type": "stream",
     "text": [
      " 74%|███████▍  | 658/891 [06:54<03:35,  1.08it/s]"
     ]
    },
    {
     "name": "stdout",
     "output_type": "stream",
     "text": [
      "Aligned 264 residues (Free: 271, Bound: 264, Excluded: 7)\n",
      "Downloading PDB structure '2j16'...\n",
      "Downloading PDB structure '2j17'...\n"
     ]
    },
    {
     "name": "stderr",
     "output_type": "stream",
     "text": [
      " 74%|███████▍  | 659/891 [06:55<03:32,  1.09it/s]"
     ]
    },
    {
     "name": "stdout",
     "output_type": "stream",
     "text": [
      "Aligned 132 residues (Free: 132, Bound: 144, Excluded: 12)\n",
      "Downloading PDB structure '2hqq'...\n",
      "Downloading PDB structure '2hw1'...\n"
     ]
    },
    {
     "name": "stderr",
     "output_type": "stream",
     "text": [
      " 74%|███████▍  | 660/891 [06:56<03:33,  1.08it/s]"
     ]
    },
    {
     "name": "stdout",
     "output_type": "stream",
     "text": [
      "Aligned 296 residues (Free: 296, Bound: 296, Excluded: 0)\n",
      "Downloading PDB structure '1qj9'...\n",
      "Downloading PDB structure '1qj8'...\n"
     ]
    },
    {
     "name": "stderr",
     "output_type": "stream",
     "text": [
      " 74%|███████▍  | 661/891 [06:57<03:19,  1.15it/s]"
     ]
    },
    {
     "name": "stdout",
     "output_type": "stream",
     "text": [
      "Aligned 148 residues (Free: 148, Bound: 148, Excluded: 0)\n",
      "Downloading PDB structure '1ohd'...\n",
      "Downloading PDB structure '1ohe'...\n"
     ]
    },
    {
     "name": "stderr",
     "output_type": "stream",
     "text": [
      " 74%|███████▍  | 662/891 [06:58<03:06,  1.23it/s]"
     ]
    },
    {
     "name": "stdout",
     "output_type": "stream",
     "text": [
      "Aligned 338 residues (Free: 338, Bound: 338, Excluded: 0)\n",
      "Downloading PDB structure '2fbt'...\n",
      "Downloading PDB structure '2fc0'...\n"
     ]
    },
    {
     "name": "stderr",
     "output_type": "stream",
     "text": [
      " 74%|███████▍  | 663/891 [06:58<03:11,  1.19it/s]"
     ]
    },
    {
     "name": "stdout",
     "output_type": "stream",
     "text": [
      "Aligned 196 residues (Free: 196, Bound: 196, Excluded: 0)\n",
      "Downloading PDB structure '1vz2'...\n",
      "Downloading PDB structure '1o6g'...\n"
     ]
    },
    {
     "name": "stderr",
     "output_type": "stream",
     "text": [
      " 75%|███████▍  | 664/891 [07:00<03:58,  1.05s/it]"
     ]
    },
    {
     "name": "stdout",
     "output_type": "stream",
     "text": [
      "Aligned 710 residues (Free: 710, Bound: 710, Excluded: 0)\n",
      "Downloading PDB structure '3db4'...\n",
      "Downloading PDB structure '3db3'...\n"
     ]
    },
    {
     "name": "stderr",
     "output_type": "stream",
     "text": [
      " 75%|███████▍  | 665/891 [07:01<03:49,  1.01s/it]"
     ]
    },
    {
     "name": "stdout",
     "output_type": "stream",
     "text": [
      "Aligned 132 residues (Free: 132, Bound: 137, Excluded: 5)\n",
      "Downloading PDB structure '1czt'...\n",
      "Downloading PDB structure '1czs'...\n"
     ]
    },
    {
     "name": "stderr",
     "output_type": "stream",
     "text": [
      " 75%|███████▍  | 666/891 [07:02<03:29,  1.08it/s]"
     ]
    },
    {
     "name": "stdout",
     "output_type": "stream",
     "text": [
      "Aligned 160 residues (Free: 160, Bound: 160, Excluded: 0)\n",
      "Downloading PDB structure '2rem'...\n"
     ]
    },
    {
     "name": "stderr",
     "output_type": "stream",
     "text": [
      " 75%|███████▍  | 667/891 [07:02<03:12,  1.16it/s]"
     ]
    },
    {
     "name": "stdout",
     "output_type": "stream",
     "text": [
      "Structure exists: 'data/PSCDB/PDB_structures/pdb2rem.ent' \n",
      "Aligned 190 residues (Free: 190, Bound: 190, Excluded: 0)\n",
      "Downloading PDB structure '1nl3'...\n",
      "Downloading PDB structure '1nkt'...\n"
     ]
    },
    {
     "name": "stderr",
     "output_type": "stream",
     "text": [
      " 75%|███████▍  | 668/891 [07:04<04:05,  1.10s/it]"
     ]
    },
    {
     "name": "stdout",
     "output_type": "stream",
     "text": [
      "Aligned 836 residues (Free: 839, Bound: 836, Excluded: 3)\n",
      "Downloading PDB structure '3c1z'...\n",
      "Downloading PDB structure '3c1y'...\n"
     ]
    },
    {
     "name": "stderr",
     "output_type": "stream",
     "text": [
      " 75%|███████▌  | 669/891 [07:05<04:11,  1.13s/it]"
     ]
    },
    {
     "name": "stdout",
     "output_type": "stream",
     "text": [
      "Aligned 349 residues (Free: 349, Bound: 349, Excluded: 0)\n",
      "Downloading PDB structure '1uyp'...\n",
      "Downloading PDB structure '1w2t'...\n"
     ]
    },
    {
     "name": "stderr",
     "output_type": "stream",
     "text": [
      " 75%|███████▌  | 670/891 [07:08<05:26,  1.48s/it]"
     ]
    },
    {
     "name": "stdout",
     "output_type": "stream",
     "text": [
      "Aligned 432 residues (Free: 432, Bound: 432, Excluded: 0)\n",
      "Downloading PDB structure '1wtj'...\n",
      "Downloading PDB structure '2cwh'...\n"
     ]
    },
    {
     "name": "stderr",
     "output_type": "stream",
     "text": [
      " 75%|███████▌  | 671/891 [07:09<05:05,  1.39s/it]"
     ]
    },
    {
     "name": "stdout",
     "output_type": "stream",
     "text": [
      "Aligned 332 residues (Free: 332, Bound: 332, Excluded: 0)\n",
      "Downloading PDB structure '1xxl'...\n",
      "Downloading PDB structure '2glu'...\n"
     ]
    },
    {
     "name": "stderr",
     "output_type": "stream",
     "text": [
      " 75%|███████▌  | 672/891 [07:10<04:39,  1.28s/it]"
     ]
    },
    {
     "name": "stdout",
     "output_type": "stream",
     "text": [
      "Aligned 231 residues (Free: 231, Bound: 231, Excluded: 0)\n",
      "Downloading PDB structure '3bi9'...\n",
      "Downloading PDB structure '3bib'...\n"
     ]
    },
    {
     "name": "stderr",
     "output_type": "stream",
     "text": [
      " 76%|███████▌  | 673/891 [07:11<04:08,  1.14s/it]"
     ]
    },
    {
     "name": "stdout",
     "output_type": "stream",
     "text": [
      "Aligned 109 residues (Free: 114, Bound: 109, Excluded: 5)\n",
      "Downloading PDB structure '1cqz'...\n",
      "Downloading PDB structure '1ek2'...\n"
     ]
    },
    {
     "name": "stderr",
     "output_type": "stream",
     "text": [
      " 76%|███████▌  | 674/891 [07:12<04:33,  1.26s/it]"
     ]
    },
    {
     "name": "stdout",
     "output_type": "stream",
     "text": [
      "Aligned 487 residues (Free: 487, Bound: 487, Excluded: 0)\n",
      "Downloading PDB structure '2hy7'...\n",
      "Downloading PDB structure '2q6v'...\n"
     ]
    },
    {
     "name": "stderr",
     "output_type": "stream",
     "text": [
      " 76%|███████▌  | 675/891 [07:13<04:12,  1.17s/it]"
     ]
    },
    {
     "name": "stdout",
     "output_type": "stream",
     "text": [
      "Aligned 370 residues (Free: 373, Bound: 370, Excluded: 3)\n",
      "Downloading PDB structure '2d0a'...\n",
      "Downloading PDB structure '2d0c'...\n"
     ]
    },
    {
     "name": "stderr",
     "output_type": "stream",
     "text": [
      " 76%|███████▌  | 676/891 [07:14<03:54,  1.09s/it]"
     ]
    },
    {
     "name": "stdout",
     "output_type": "stream",
     "text": [
      "Aligned 308 residues (Free: 308, Bound: 308, Excluded: 0)\n",
      "Downloading PDB structure '2uy2'...\n",
      "Downloading PDB structure '2uy3'...\n"
     ]
    },
    {
     "name": "stderr",
     "output_type": "stream",
     "text": [
      " 76%|███████▌  | 677/891 [07:15<03:43,  1.04s/it]"
     ]
    },
    {
     "name": "stdout",
     "output_type": "stream",
     "text": [
      "Aligned 284 residues (Free: 287, Bound: 285, Excluded: 4)\n",
      "Downloading PDB structure '1uc8'...\n",
      "Downloading PDB structure '1uc9'...\n"
     ]
    },
    {
     "name": "stderr",
     "output_type": "stream",
     "text": [
      " 76%|███████▌  | 678/891 [07:16<03:42,  1.05s/it]"
     ]
    },
    {
     "name": "stdout",
     "output_type": "stream",
     "text": [
      "Aligned 240 residues (Free: 240, Bound: 240, Excluded: 0)\n",
      "Downloading PDB structure '3sqc'...\n",
      "Downloading PDB structure '2sqc'...\n"
     ]
    },
    {
     "name": "stderr",
     "output_type": "stream",
     "text": [
      " 76%|███████▌  | 679/891 [07:18<04:27,  1.26s/it]"
     ]
    },
    {
     "name": "stdout",
     "output_type": "stream",
     "text": [
      "Aligned 619 residues (Free: 619, Bound: 623, Excluded: 4)\n",
      "Downloading PDB structure '2pfl'...\n",
      "Downloading PDB structure '1h16'...\n"
     ]
    },
    {
     "name": "stderr",
     "output_type": "stream",
     "text": [
      " 76%|███████▋  | 680/891 [07:19<04:47,  1.36s/it]"
     ]
    },
    {
     "name": "stdout",
     "output_type": "stream",
     "text": [
      "Aligned 759 residues (Free: 759, Bound: 759, Excluded: 0)\n",
      "Downloading PDB structure '2paw'...\n",
      "Downloading PDB structure '1efy'...\n"
     ]
    },
    {
     "name": "stderr",
     "output_type": "stream",
     "text": [
      " 76%|███████▋  | 681/891 [07:20<04:22,  1.25s/it]"
     ]
    },
    {
     "name": "stdout",
     "output_type": "stream",
     "text": [
      "Aligned 348 residues (Free: 348, Bound: 350, Excluded: 2)\n",
      "Downloading PDB structure '2q4o'...\n",
      "Downloading PDB structure '2a33'...\n"
     ]
    },
    {
     "name": "stderr",
     "output_type": "stream",
     "text": [
      " 77%|███████▋  | 682/891 [07:22<04:37,  1.33s/it]"
     ]
    },
    {
     "name": "stdout",
     "output_type": "stream",
     "text": [
      "Aligned 170 residues (Free: 170, Bound: 170, Excluded: 0)\n",
      "Downloading PDB structure '1lf6'...\n",
      "Downloading PDB structure '1lf9'...\n"
     ]
    },
    {
     "name": "stderr",
     "output_type": "stream",
     "text": [
      " 77%|███████▋  | 683/891 [07:23<04:47,  1.38s/it]"
     ]
    },
    {
     "name": "stdout",
     "output_type": "stream",
     "text": [
      "Aligned 674 residues (Free: 674, Bound: 674, Excluded: 0)\n",
      "Downloading PDB structure '1fe4'...\n",
      "Downloading PDB structure '1fee'...\n"
     ]
    },
    {
     "name": "stderr",
     "output_type": "stream",
     "text": [
      " 77%|███████▋  | 684/891 [07:24<04:15,  1.23s/it]"
     ]
    },
    {
     "name": "stdout",
     "output_type": "stream",
     "text": [
      "Aligned 67 residues (Free: 68, Bound: 67, Excluded: 1)\n",
      "Downloading PDB structure '2ree'...\n",
      "Downloading PDB structure '2ref'...\n"
     ]
    },
    {
     "name": "stderr",
     "output_type": "stream",
     "text": [
      " 77%|███████▋  | 685/891 [07:26<04:21,  1.27s/it]"
     ]
    },
    {
     "name": "stdout",
     "output_type": "stream",
     "text": [
      "Aligned 199 residues (Free: 199, Bound: 203, Excluded: 4)\n",
      "Downloading PDB structure '2q6z'...\n",
      "Downloading PDB structure '2q71'...\n"
     ]
    },
    {
     "name": "stderr",
     "output_type": "stream",
     "text": [
      " 77%|███████▋  | 686/891 [07:27<04:11,  1.23s/it]"
     ]
    },
    {
     "name": "stdout",
     "output_type": "stream",
     "text": [
      "Aligned 356 residues (Free: 356, Bound: 356, Excluded: 0)\n",
      "Downloading PDB structure '2egt'...\n",
      "Downloading PDB structure '2e8e'...\n"
     ]
    },
    {
     "name": "stderr",
     "output_type": "stream",
     "text": [
      " 77%|███████▋  | 687/891 [07:27<03:32,  1.04s/it]"
     ]
    },
    {
     "name": "stdout",
     "output_type": "stream",
     "text": [
      "Aligned 132 residues (Free: 132, Bound: 132, Excluded: 0)\n",
      "Downloading PDB structure '1ut9'...\n",
      "Downloading PDB structure '1rq5'...\n"
     ]
    },
    {
     "name": "stderr",
     "output_type": "stream",
     "text": [
      " 77%|███████▋  | 688/891 [07:28<03:28,  1.03s/it]"
     ]
    },
    {
     "name": "stdout",
     "output_type": "stream",
     "text": [
      "Aligned 602 residues (Free: 605, Bound: 602, Excluded: 3)\n",
      "Downloading PDB structure '2gwm'...\n",
      "Downloading PDB structure '2gwl'...\n"
     ]
    },
    {
     "name": "stderr",
     "output_type": "stream",
     "text": [
      " 77%|███████▋  | 689/891 [07:29<03:20,  1.01it/s]"
     ]
    },
    {
     "name": "stdout",
     "output_type": "stream",
     "text": [
      "Aligned 199 residues (Free: 200, Bound: 200, Excluded: 2)\n",
      "Downloading PDB structure '1i7a'...\n"
     ]
    },
    {
     "name": "stderr",
     "output_type": "stream",
     "text": [
      " 77%|███████▋  | 690/891 [07:30<02:53,  1.16it/s]"
     ]
    },
    {
     "name": "stdout",
     "output_type": "stream",
     "text": [
      "Structure exists: 'data/PSCDB/PDB_structures/pdb1i7a.ent' \n",
      "Aligned 103 residues (Free: 103, Bound: 103, Excluded: 0)\n",
      "Downloading PDB structure '1qyo'...\n",
      "Downloading PDB structure '1jbz'...\n"
     ]
    },
    {
     "name": "stderr",
     "output_type": "stream",
     "text": [
      " 78%|███████▊  | 691/891 [07:31<03:10,  1.05it/s]"
     ]
    },
    {
     "name": "stdout",
     "output_type": "stream",
     "text": [
      "Aligned 223 residues (Free: 236, Bound: 223, Excluded: 13)\n",
      "Downloading PDB structure '2f1v'...\n",
      "Downloading PDB structure '2f1t'...\n"
     ]
    },
    {
     "name": "stderr",
     "output_type": "stream",
     "text": [
      " 78%|███████▊  | 692/891 [07:32<03:21,  1.01s/it]"
     ]
    },
    {
     "name": "stdout",
     "output_type": "stream",
     "text": [
      "Aligned 182 residues (Free: 182, Bound: 183, Excluded: 1)\n",
      "Downloading PDB structure '2bkn'...\n",
      "Downloading PDB structure '2bko'...\n"
     ]
    },
    {
     "name": "stderr",
     "output_type": "stream",
     "text": [
      " 78%|███████▊  | 693/891 [07:33<03:08,  1.05it/s]"
     ]
    },
    {
     "name": "stdout",
     "output_type": "stream",
     "text": [
      "Aligned 188 residues (Free: 190, Bound: 190, Excluded: 4)\n",
      "Downloading PDB structure '1ogm'...\n",
      "Downloading PDB structure '1ogo'...\n"
     ]
    },
    {
     "name": "stderr",
     "output_type": "stream",
     "text": [
      " 78%|███████▊  | 694/891 [07:34<03:17,  1.00s/it]"
     ]
    },
    {
     "name": "stdout",
     "output_type": "stream",
     "text": [
      "Aligned 572 residues (Free: 572, Bound: 572, Excluded: 0)\n",
      "Downloading PDB structure '1f1m'...\n"
     ]
    },
    {
     "name": "stderr",
     "output_type": "stream",
     "text": [
      " 78%|███████▊  | 695/891 [07:35<03:00,  1.08it/s]"
     ]
    },
    {
     "name": "stdout",
     "output_type": "stream",
     "text": [
      "Structure exists: 'data/PSCDB/PDB_structures/pdb1f1m.ent' \n",
      "Aligned 162 residues (Free: 162, Bound: 162, Excluded: 0)\n",
      "Downloading PDB structure '2e4p'...\n"
     ]
    },
    {
     "name": "stderr",
     "output_type": "stream",
     "text": [
      " 78%|███████▊  | 696/891 [07:35<02:29,  1.30it/s]"
     ]
    },
    {
     "name": "stdout",
     "output_type": "stream",
     "text": [
      "Structure exists: 'data/PSCDB/PDB_structures/pdb2e4p.ent' \n",
      "Aligned 108 residues (Free: 108, Bound: 108, Excluded: 0)\n",
      "Downloading PDB structure '1ebb'...\n",
      "Downloading PDB structure '1h2f'...\n"
     ]
    },
    {
     "name": "stderr",
     "output_type": "stream",
     "text": [
      " 78%|███████▊  | 697/891 [07:36<02:34,  1.25it/s]"
     ]
    },
    {
     "name": "stdout",
     "output_type": "stream",
     "text": [
      "Aligned 202 residues (Free: 202, Bound: 207, Excluded: 5)\n",
      "Downloading PDB structure '1o9z'...\n",
      "Downloading PDB structure '1o9w'...\n"
     ]
    },
    {
     "name": "stderr",
     "output_type": "stream",
     "text": [
      " 78%|███████▊  | 698/891 [07:37<02:31,  1.27it/s]"
     ]
    },
    {
     "name": "stdout",
     "output_type": "stream",
     "text": [
      "Aligned 169 residues (Free: 170, Bound: 169, Excluded: 1)\n",
      "Downloading PDB structure '1l0x'...\n",
      "Downloading PDB structure '1l0y'...\n"
     ]
    },
    {
     "name": "stderr",
     "output_type": "stream",
     "text": [
      " 78%|███████▊  | 699/891 [07:38<03:05,  1.03it/s]"
     ]
    },
    {
     "name": "stdout",
     "output_type": "stream",
     "text": [
      "Aligned 236 residues (Free: 236, Bound: 236, Excluded: 0)\n",
      "Downloading PDB structure '2jhj'...\n",
      "Downloading PDB structure '2jhn'...\n"
     ]
    },
    {
     "name": "stderr",
     "output_type": "stream",
     "text": [
      " 79%|███████▊  | 700/891 [07:39<03:09,  1.01it/s]"
     ]
    },
    {
     "name": "stdout",
     "output_type": "stream",
     "text": [
      "Aligned 290 residues (Free: 290, Bound: 293, Excluded: 3)\n",
      "Downloading PDB structure '2cck'...\n",
      "Downloading PDB structure '2ccj'...\n"
     ]
    },
    {
     "name": "stderr",
     "output_type": "stream",
     "text": [
      " 79%|███████▊  | 701/891 [07:40<02:59,  1.06it/s]"
     ]
    },
    {
     "name": "stdout",
     "output_type": "stream",
     "text": [
      "Aligned 192 residues (Free: 192, Bound: 196, Excluded: 4)\n",
      "Downloading PDB structure '3crm'...\n",
      "Downloading PDB structure '3crq'...\n"
     ]
    },
    {
     "name": "stderr",
     "output_type": "stream",
     "text": [
      " 79%|███████▉  | 702/891 [07:41<02:55,  1.08it/s]"
     ]
    },
    {
     "name": "stdout",
     "output_type": "stream",
     "text": [
      "Aligned 236 residues (Free: 236, Bound: 236, Excluded: 0)\n",
      "Downloading PDB structure '1plu'...\n",
      "Downloading PDB structure '2ewe'...\n"
     ]
    },
    {
     "name": "stderr",
     "output_type": "stream",
     "text": [
      " 79%|███████▉  | 703/891 [07:42<02:41,  1.16it/s]"
     ]
    },
    {
     "name": "stdout",
     "output_type": "stream",
     "text": [
      "Aligned 352 residues (Free: 352, Bound: 352, Excluded: 0)\n",
      "Downloading PDB structure '3eo4'...\n"
     ]
    },
    {
     "name": "stderr",
     "output_type": "stream",
     "text": [
      " 79%|███████▉  | 704/891 [07:42<02:39,  1.17it/s]"
     ]
    },
    {
     "name": "stdout",
     "output_type": "stream",
     "text": [
      "Structure exists: 'data/PSCDB/PDB_structures/pdb3eo4.ent' \n",
      "Aligned 156 residues (Free: 156, Bound: 156, Excluded: 0)\n",
      "Downloading PDB structure '1ll3'...\n",
      "Downloading PDB structure '1ll2'...\n"
     ]
    },
    {
     "name": "stderr",
     "output_type": "stream",
     "text": [
      " 79%|███████▉  | 705/891 [07:43<02:38,  1.18it/s]"
     ]
    },
    {
     "name": "stdout",
     "output_type": "stream",
     "text": [
      "Aligned 255 residues (Free: 261, Bound: 255, Excluded: 6)\n",
      "Downloading PDB structure '1na3'...\n"
     ]
    },
    {
     "name": "stderr",
     "output_type": "stream",
     "text": [
      " 79%|███████▉  | 706/891 [07:44<02:09,  1.43it/s]"
     ]
    },
    {
     "name": "stdout",
     "output_type": "stream",
     "text": [
      "Structure exists: 'data/PSCDB/PDB_structures/pdb1na3.ent' \n",
      "Aligned 86 residues (Free: 86, Bound: 86, Excluded: 0)\n",
      "Downloading PDB structure '1ltu'...\n",
      "Downloading PDB structure '1ltz'...\n"
     ]
    },
    {
     "name": "stderr",
     "output_type": "stream",
     "text": [
      " 79%|███████▉  | 707/891 [07:45<02:20,  1.31it/s]"
     ]
    },
    {
     "name": "stdout",
     "output_type": "stream",
     "text": [
      "Aligned 274 residues (Free: 284, Bound: 274, Excluded: 10)\n",
      "Downloading PDB structure '3d59'...\n",
      "Downloading PDB structure '3d5e'...\n"
     ]
    },
    {
     "name": "stderr",
     "output_type": "stream",
     "text": [
      " 79%|███████▉  | 708/891 [07:46<03:02,  1.00it/s]"
     ]
    },
    {
     "name": "stdout",
     "output_type": "stream",
     "text": [
      "Aligned 372 residues (Free: 372, Bound: 373, Excluded: 1)\n",
      "Downloading PDB structure '1c3p'...\n",
      "Downloading PDB structure '1c3r'...\n"
     ]
    },
    {
     "name": "stderr",
     "output_type": "stream",
     "text": [
      " 80%|███████▉  | 709/891 [07:47<03:03,  1.01s/it]"
     ]
    },
    {
     "name": "stdout",
     "output_type": "stream",
     "text": [
      "Aligned 372 residues (Free: 372, Bound: 372, Excluded: 0)\n",
      "Downloading PDB structure '1qba'...\n",
      "Downloading PDB structure '1c7s'...\n"
     ]
    },
    {
     "name": "stderr",
     "output_type": "stream",
     "text": [
      " 80%|███████▉  | 710/891 [07:48<03:15,  1.08s/it]"
     ]
    },
    {
     "name": "stdout",
     "output_type": "stream",
     "text": [
      "Aligned 858 residues (Free: 858, Bound: 858, Excluded: 0)\n",
      "Downloading PDB structure '1l7j'...\n",
      "Downloading PDB structure '1mmu'...\n"
     ]
    },
    {
     "name": "stderr",
     "output_type": "stream",
     "text": [
      " 80%|███████▉  | 711/891 [07:50<03:32,  1.18s/it]"
     ]
    },
    {
     "name": "stdout",
     "output_type": "stream",
     "text": [
      "Aligned 338 residues (Free: 338, Bound: 339, Excluded: 1)\n",
      "Downloading PDB structure '2hzr'...\n",
      "Downloading PDB structure '2hzq'...\n"
     ]
    },
    {
     "name": "stderr",
     "output_type": "stream",
     "text": [
      " 80%|███████▉  | 712/891 [07:51<03:10,  1.06s/it]"
     ]
    },
    {
     "name": "stdout",
     "output_type": "stream",
     "text": [
      "Aligned 158 residues (Free: 158, Bound: 163, Excluded: 5)\n",
      "Downloading PDB structure '2e1y'...\n",
      "Downloading PDB structure '2e20'...\n"
     ]
    },
    {
     "name": "stderr",
     "output_type": "stream",
     "text": [
      " 80%|████████  | 713/891 [07:52<03:04,  1.04s/it]"
     ]
    },
    {
     "name": "stdout",
     "output_type": "stream",
     "text": [
      "Aligned 394 residues (Free: 394, Bound: 394, Excluded: 0)\n",
      "Downloading PDB structure '1eg3'...\n",
      "Downloading PDB structure '1eg4'...\n"
     ]
    },
    {
     "name": "stderr",
     "output_type": "stream",
     "text": [
      " 80%|████████  | 714/891 [07:52<02:54,  1.02it/s]"
     ]
    },
    {
     "name": "stdout",
     "output_type": "stream",
     "text": [
      "No common residues between 1eg3 and 1eg4\n",
      "Downloading PDB structure '2d2r'...\n",
      "Downloading PDB structure '2dtn'...\n"
     ]
    },
    {
     "name": "stderr",
     "output_type": "stream",
     "text": [
      " 80%|████████  | 715/891 [07:54<03:02,  1.04s/it]"
     ]
    },
    {
     "name": "stdout",
     "output_type": "stream",
     "text": [
      "Aligned 214 residues (Free: 215, Bound: 214, Excluded: 1)\n",
      "Downloading PDB structure '1bia'...\n",
      "Downloading PDB structure '1bib'...\n"
     ]
    },
    {
     "name": "stderr",
     "output_type": "stream",
     "text": [
      " 80%|████████  | 716/891 [07:55<02:59,  1.02s/it]"
     ]
    },
    {
     "name": "stdout",
     "output_type": "stream",
     "text": [
      "Aligned 291 residues (Free: 292, Bound: 294, Excluded: 4)\n",
      "Downloading PDB structure '2jcp'...\n",
      "Downloading PDB structure '2jcr'...\n"
     ]
    },
    {
     "name": "stderr",
     "output_type": "stream",
     "text": [
      " 80%|████████  | 717/891 [07:55<02:50,  1.02it/s]"
     ]
    },
    {
     "name": "stdout",
     "output_type": "stream",
     "text": [
      "Aligned 150 residues (Free: 150, Bound: 150, Excluded: 0)\n",
      "Downloading PDB structure '1b73'...\n",
      "Downloading PDB structure '1b74'...\n"
     ]
    },
    {
     "name": "stderr",
     "output_type": "stream",
     "text": [
      " 81%|████████  | 718/891 [07:56<02:38,  1.09it/s]"
     ]
    },
    {
     "name": "stdout",
     "output_type": "stream",
     "text": [
      "Aligned 252 residues (Free: 252, Bound: 252, Excluded: 0)\n",
      "Downloading PDB structure '1va0'...\n",
      "Downloading PDB structure '1v9a'...\n"
     ]
    },
    {
     "name": "stderr",
     "output_type": "stream",
     "text": [
      " 81%|████████  | 719/891 [07:57<02:44,  1.04it/s]"
     ]
    },
    {
     "name": "stdout",
     "output_type": "stream",
     "text": [
      "Aligned 219 residues (Free: 221, Bound: 219, Excluded: 2)\n",
      "Downloading PDB structure '2fv0'...\n",
      "Downloading PDB structure '2fv1'...\n"
     ]
    },
    {
     "name": "stderr",
     "output_type": "stream",
     "text": [
      " 81%|████████  | 720/891 [07:59<03:10,  1.12s/it]"
     ]
    },
    {
     "name": "stdout",
     "output_type": "stream",
     "text": [
      "Aligned 377 residues (Free: 377, Bound: 377, Excluded: 0)\n",
      "Downloading PDB structure '1nw8'...\n",
      "Downloading PDB structure '1nw5'...\n"
     ]
    },
    {
     "name": "stderr",
     "output_type": "stream",
     "text": [
      " 81%|████████  | 721/891 [08:00<03:00,  1.06s/it]"
     ]
    },
    {
     "name": "stdout",
     "output_type": "stream",
     "text": [
      "Aligned 270 residues (Free: 272, Bound: 270, Excluded: 2)\n",
      "Downloading PDB structure '3b9n'...\n",
      "Downloading PDB structure '3b9o'...\n"
     ]
    },
    {
     "name": "stderr",
     "output_type": "stream",
     "text": [
      " 81%|████████  | 722/891 [08:01<02:58,  1.06s/it]"
     ]
    },
    {
     "name": "stdout",
     "output_type": "stream",
     "text": [
      "Aligned 433 residues (Free: 433, Bound: 433, Excluded: 0)\n",
      "Downloading PDB structure '1sgk'...\n",
      "Downloading PDB structure '1ddt'...\n"
     ]
    },
    {
     "name": "stderr",
     "output_type": "stream",
     "text": [
      " 81%|████████  | 723/891 [08:02<03:04,  1.10s/it]"
     ]
    },
    {
     "name": "stdout",
     "output_type": "stream",
     "text": [
      "Aligned 523 residues (Free: 523, Bound: 523, Excluded: 0)\n",
      "Downloading PDB structure '1v43'...\n",
      "Downloading PDB structure '1vci'...\n"
     ]
    },
    {
     "name": "stderr",
     "output_type": "stream",
     "text": [
      " 81%|████████▏ | 724/891 [08:03<02:57,  1.06s/it]"
     ]
    },
    {
     "name": "stdout",
     "output_type": "stream",
     "text": [
      "Aligned 353 residues (Free: 353, Bound: 353, Excluded: 0)\n",
      "Downloading PDB structure '1dqg'...\n",
      "Downloading PDB structure '1fwu'...\n"
     ]
    },
    {
     "name": "stderr",
     "output_type": "stream",
     "text": [
      " 81%|████████▏ | 725/891 [08:04<02:33,  1.08it/s]"
     ]
    },
    {
     "name": "stdout",
     "output_type": "stream",
     "text": [
      "Aligned 134 residues (Free: 134, Bound: 134, Excluded: 0)\n",
      "Downloading PDB structure '2ghr'...\n",
      "Downloading PDB structure '2vdj'...\n"
     ]
    },
    {
     "name": "stderr",
     "output_type": "stream",
     "text": [
      " 81%|████████▏ | 726/891 [08:04<02:34,  1.07it/s]"
     ]
    },
    {
     "name": "stdout",
     "output_type": "stream",
     "text": [
      "Aligned 263 residues (Free: 264, Bound: 268, Excluded: 6)\n",
      "Downloading PDB structure '1xix'...\n",
      "Downloading PDB structure '1ne9'...\n"
     ]
    },
    {
     "name": "stderr",
     "output_type": "stream",
     "text": [
      " 82%|████████▏ | 727/891 [08:05<02:27,  1.11it/s]"
     ]
    },
    {
     "name": "stdout",
     "output_type": "stream",
     "text": [
      "Aligned 335 residues (Free: 335, Bound: 335, Excluded: 0)\n",
      "Downloading PDB structure '2v3j'...\n",
      "Downloading PDB structure '2v3k'...\n"
     ]
    },
    {
     "name": "stderr",
     "output_type": "stream",
     "text": [
      " 82%|████████▏ | 728/891 [08:06<02:31,  1.07it/s]"
     ]
    },
    {
     "name": "stdout",
     "output_type": "stream",
     "text": [
      "Aligned 210 residues (Free: 212, Bound: 213, Excluded: 5)\n",
      "Downloading PDB structure '1h9s'...\n",
      "Downloading PDB structure '1h9r'...\n"
     ]
    },
    {
     "name": "stderr",
     "output_type": "stream",
     "text": [
      " 82%|████████▏ | 729/891 [08:07<02:20,  1.15it/s]"
     ]
    },
    {
     "name": "stdout",
     "output_type": "stream",
     "text": [
      "Aligned 138 residues (Free: 138, Bound: 139, Excluded: 1)\n",
      "Downloading PDB structure '1edz'...\n",
      "Downloading PDB structure '1ee9'...\n"
     ]
    },
    {
     "name": "stderr",
     "output_type": "stream",
     "text": [
      " 82%|████████▏ | 730/891 [08:08<02:27,  1.09it/s]"
     ]
    },
    {
     "name": "stdout",
     "output_type": "stream",
     "text": [
      "Aligned 317 residues (Free: 317, Bound: 317, Excluded: 0)\n",
      "Downloading PDB structure '2hbj'...\n",
      "Downloading PDB structure '2hbm'...\n"
     ]
    },
    {
     "name": "stderr",
     "output_type": "stream",
     "text": [
      " 82%|████████▏ | 731/891 [08:09<02:46,  1.04s/it]"
     ]
    },
    {
     "name": "stdout",
     "output_type": "stream",
     "text": [
      "Aligned 390 residues (Free: 390, Bound: 390, Excluded: 0)\n",
      "Downloading PDB structure '2j0a'...\n",
      "Downloading PDB structure '2j0b'...\n"
     ]
    },
    {
     "name": "stderr",
     "output_type": "stream",
     "text": [
      " 82%|████████▏ | 732/891 [08:10<02:36,  1.02it/s]"
     ]
    },
    {
     "name": "stdout",
     "output_type": "stream",
     "text": [
      "Aligned 243 residues (Free: 243, Bound: 243, Excluded: 0)\n",
      "Downloading PDB structure '2vx4'...\n",
      "Downloading PDB structure '2vx7'...\n"
     ]
    },
    {
     "name": "stderr",
     "output_type": "stream",
     "text": [
      " 82%|████████▏ | 733/891 [08:11<02:47,  1.06s/it]"
     ]
    },
    {
     "name": "stdout",
     "output_type": "stream",
     "text": [
      "Aligned 367 residues (Free: 367, Bound: 367, Excluded: 0)\n",
      "Downloading PDB structure '3cxu'...\n",
      "Downloading PDB structure '2cjp'...\n"
     ]
    },
    {
     "name": "stderr",
     "output_type": "stream",
     "text": [
      " 82%|████████▏ | 734/891 [08:13<02:51,  1.09s/it]"
     ]
    },
    {
     "name": "stdout",
     "output_type": "stream",
     "text": [
      "Aligned 320 residues (Free: 320, Bound: 320, Excluded: 0)\n",
      "Downloading PDB structure '2g0a'...\n",
      "Downloading PDB structure '2g09'...\n"
     ]
    },
    {
     "name": "stderr",
     "output_type": "stream",
     "text": [
      " 82%|████████▏ | 735/891 [08:14<02:56,  1.13s/it]"
     ]
    },
    {
     "name": "stdout",
     "output_type": "stream",
     "text": [
      "Aligned 283 residues (Free: 283, Bound: 283, Excluded: 0)\n",
      "Downloading PDB structure '1ty0'...\n",
      "Downloading PDB structure '1ty2'...\n"
     ]
    },
    {
     "name": "stderr",
     "output_type": "stream",
     "text": [
      " 83%|████████▎ | 736/891 [08:15<02:56,  1.14s/it]"
     ]
    },
    {
     "name": "stdout",
     "output_type": "stream",
     "text": [
      "Aligned 211 residues (Free: 211, Bound: 211, Excluded: 0)\n",
      "Downloading PDB structure '1cem'...\n",
      "Downloading PDB structure '1kwf'...\n"
     ]
    },
    {
     "name": "stderr",
     "output_type": "stream",
     "text": [
      " 83%|████████▎ | 737/891 [08:16<02:53,  1.13s/it]"
     ]
    },
    {
     "name": "stdout",
     "output_type": "stream",
     "text": [
      "Aligned 363 residues (Free: 363, Bound: 363, Excluded: 0)\n",
      "Downloading PDB structure '2jfu'...\n",
      "Downloading PDB structure '2jfv'...\n"
     ]
    },
    {
     "name": "stderr",
     "output_type": "stream",
     "text": [
      " 83%|████████▎ | 738/891 [08:17<02:46,  1.09s/it]"
     ]
    },
    {
     "name": "stdout",
     "output_type": "stream",
     "text": [
      "Aligned 270 residues (Free: 271, Bound: 270, Excluded: 1)\n",
      "Downloading PDB structure '1zs7'...\n",
      "Downloading PDB structure '2cx1'...\n"
     ]
    },
    {
     "name": "stderr",
     "output_type": "stream",
     "text": [
      " 83%|████████▎ | 739/891 [08:18<02:29,  1.02it/s]"
     ]
    },
    {
     "name": "stdout",
     "output_type": "stream",
     "text": [
      "Aligned 181 residues (Free: 184, Bound: 181, Excluded: 3)\n",
      "Downloading PDB structure '1kuf'...\n",
      "Downloading PDB structure '1kug'...\n"
     ]
    },
    {
     "name": "stderr",
     "output_type": "stream",
     "text": [
      " 83%|████████▎ | 740/891 [08:19<02:38,  1.05s/it]"
     ]
    },
    {
     "name": "stdout",
     "output_type": "stream",
     "text": [
      "Aligned 201 residues (Free: 201, Bound: 201, Excluded: 0)\n",
      "Downloading PDB structure '1mpg'...\n",
      "Downloading PDB structure '1pvs'...\n"
     ]
    },
    {
     "name": "stderr",
     "output_type": "stream",
     "text": [
      " 83%|████████▎ | 741/891 [08:20<02:40,  1.07s/it]"
     ]
    },
    {
     "name": "stdout",
     "output_type": "stream",
     "text": [
      "Aligned 282 residues (Free: 282, Bound: 282, Excluded: 0)\n",
      "Downloading PDB structure '1q6h'...\n",
      "Downloading PDB structure '1q6i'...\n"
     ]
    },
    {
     "name": "stderr",
     "output_type": "stream",
     "text": [
      " 83%|████████▎ | 742/891 [08:21<02:41,  1.08s/it]"
     ]
    },
    {
     "name": "stdout",
     "output_type": "stream",
     "text": [
      "Aligned 208 residues (Free: 208, Bound: 208, Excluded: 0)\n",
      "Downloading PDB structure '2yvn'...\n",
      "Downloading PDB structure '2yvp'...\n"
     ]
    },
    {
     "name": "stderr",
     "output_type": "stream",
     "text": [
      " 83%|████████▎ | 743/891 [08:22<02:23,  1.03it/s]"
     ]
    },
    {
     "name": "stdout",
     "output_type": "stream",
     "text": [
      "Aligned 182 residues (Free: 182, Bound: 182, Excluded: 0)\n",
      "Downloading PDB structure '2p0f'...\n",
      "Downloading PDB structure '2p0h'...\n"
     ]
    },
    {
     "name": "stderr",
     "output_type": "stream",
     "text": [
      " 84%|████████▎ | 744/891 [08:23<02:04,  1.18it/s]"
     ]
    },
    {
     "name": "stdout",
     "output_type": "stream",
     "text": [
      "Aligned 118 residues (Free: 119, Bound: 118, Excluded: 1)\n",
      "Downloading PDB structure '3cj1'...\n",
      "Downloading PDB structure '3cja'...\n"
     ]
    },
    {
     "name": "stderr",
     "output_type": "stream",
     "text": [
      " 84%|████████▎ | 745/891 [08:24<02:20,  1.04it/s]"
     ]
    },
    {
     "name": "stdout",
     "output_type": "stream",
     "text": [
      "Aligned 419 residues (Free: 419, Bound: 419, Excluded: 0)\n",
      "Downloading PDB structure '2bvy'...\n",
      "Downloading PDB structure '2bvt'...\n"
     ]
    },
    {
     "name": "stderr",
     "output_type": "stream",
     "text": [
      " 84%|████████▎ | 746/891 [08:25<02:26,  1.01s/it]"
     ]
    },
    {
     "name": "stdout",
     "output_type": "stream",
     "text": [
      "Aligned 451 residues (Free: 451, Bound: 451, Excluded: 0)\n",
      "Downloading PDB structure '2cb9'...\n",
      "Downloading PDB structure '2cbg'...\n"
     ]
    },
    {
     "name": "stderr",
     "output_type": "stream",
     "text": [
      " 84%|████████▍ | 747/891 [08:26<02:17,  1.04it/s]"
     ]
    },
    {
     "name": "stdout",
     "output_type": "stream",
     "text": [
      "Aligned 210 residues (Free: 212, Bound: 210, Excluded: 2)\n",
      "Downloading PDB structure '2hkn'...\n",
      "Downloading PDB structure '2hl3'...\n"
     ]
    },
    {
     "name": "stderr",
     "output_type": "stream",
     "text": [
      " 84%|████████▍ | 748/891 [08:26<02:06,  1.13it/s]"
     ]
    },
    {
     "name": "stdout",
     "output_type": "stream",
     "text": [
      "Aligned 76 residues (Free: 76, Bound: 76, Excluded: 0)\n",
      "Downloading PDB structure '1w17'...\n",
      "Downloading PDB structure '1w1a'...\n"
     ]
    },
    {
     "name": "stderr",
     "output_type": "stream",
     "text": [
      " 84%|████████▍ | 749/891 [08:28<02:13,  1.07it/s]"
     ]
    },
    {
     "name": "stdout",
     "output_type": "stream",
     "text": [
      "No common residues between 1w17 and 1w1a\n",
      "Downloading PDB structure '1lbq'...\n",
      "Downloading PDB structure '1l8x'...\n"
     ]
    },
    {
     "name": "stderr",
     "output_type": "stream",
     "text": [
      " 84%|████████▍ | 750/891 [08:29<02:33,  1.09s/it]"
     ]
    },
    {
     "name": "stdout",
     "output_type": "stream",
     "text": [
      "Aligned 355 residues (Free: 356, Bound: 355, Excluded: 1)\n",
      "Downloading PDB structure '1wxd'...\n",
      "Downloading PDB structure '2ev9'...\n"
     ]
    },
    {
     "name": "stderr",
     "output_type": "stream",
     "text": [
      " 84%|████████▍ | 751/891 [08:30<02:32,  1.09s/it]"
     ]
    },
    {
     "name": "stdout",
     "output_type": "stream",
     "text": [
      "Aligned 261 residues (Free: 263, Bound: 261, Excluded: 2)\n",
      "Downloading PDB structure '1w9s'...\n",
      "Downloading PDB structure '1w9w'...\n"
     ]
    },
    {
     "name": "stderr",
     "output_type": "stream",
     "text": [
      " 84%|████████▍ | 752/891 [08:31<02:20,  1.01s/it]"
     ]
    },
    {
     "name": "stdout",
     "output_type": "stream",
     "text": [
      "Aligned 134 residues (Free: 134, Bound: 134, Excluded: 0)\n",
      "Downloading PDB structure '153l'...\n",
      "Downloading PDB structure '1lsp'...\n"
     ]
    },
    {
     "name": "stderr",
     "output_type": "stream",
     "text": [
      " 85%|████████▍ | 753/891 [08:32<02:11,  1.05it/s]"
     ]
    },
    {
     "name": "stdout",
     "output_type": "stream",
     "text": [
      "Aligned 185 residues (Free: 185, Bound: 185, Excluded: 0)\n",
      "Downloading PDB structure '2jh1'...\n",
      "Downloading PDB structure '2jh7'...\n"
     ]
    },
    {
     "name": "stderr",
     "output_type": "stream",
     "text": [
      " 85%|████████▍ | 754/891 [08:33<02:05,  1.09it/s]"
     ]
    },
    {
     "name": "stdout",
     "output_type": "stream",
     "text": [
      "Aligned 225 residues (Free: 234, Bound: 225, Excluded: 9)\n",
      "Downloading PDB structure '2e1u'...\n",
      "Downloading PDB structure '2e1t'...\n"
     ]
    },
    {
     "name": "stderr",
     "output_type": "stream",
     "text": [
      " 85%|████████▍ | 755/891 [08:34<02:26,  1.08s/it]"
     ]
    },
    {
     "name": "stdout",
     "output_type": "stream",
     "text": [
      "Aligned 440 residues (Free: 440, Bound: 440, Excluded: 0)\n",
      "Downloading PDB structure '1yd3'...\n",
      "Downloading PDB structure '1yd4'...\n"
     ]
    },
    {
     "name": "stderr",
     "output_type": "stream",
     "text": [
      " 85%|████████▍ | 756/891 [08:35<02:14,  1.01it/s]"
     ]
    },
    {
     "name": "stdout",
     "output_type": "stream",
     "text": [
      "Aligned 89 residues (Free: 90, Bound: 89, Excluded: 1)\n",
      "Downloading PDB structure '1tf5'...\n",
      "Downloading PDB structure '1tf2'...\n"
     ]
    },
    {
     "name": "stderr",
     "output_type": "stream",
     "text": [
      " 85%|████████▍ | 757/891 [08:36<02:22,  1.06s/it]"
     ]
    },
    {
     "name": "stdout",
     "output_type": "stream",
     "text": [
      "Aligned 772 residues (Free: 775, Bound: 772, Excluded: 3)\n",
      "Downloading PDB structure '2ciq'...\n",
      "Downloading PDB structure '2cir'...\n"
     ]
    },
    {
     "name": "stderr",
     "output_type": "stream",
     "text": [
      " 85%|████████▌ | 758/891 [08:37<02:23,  1.08s/it]"
     ]
    },
    {
     "name": "stdout",
     "output_type": "stream",
     "text": [
      "Aligned 286 residues (Free: 287, Bound: 287, Excluded: 2)\n",
      "Downloading PDB structure '2pgd'...\n",
      "Downloading PDB structure '1pgn'...\n"
     ]
    },
    {
     "name": "stderr",
     "output_type": "stream",
     "text": [
      " 85%|████████▌ | 759/891 [08:38<02:23,  1.09s/it]"
     ]
    },
    {
     "name": "stdout",
     "output_type": "stream",
     "text": [
      "Aligned 473 residues (Free: 473, Bound: 473, Excluded: 0)\n",
      "Downloading PDB structure '1xw3'...\n",
      "Downloading PDB structure '3cyi'...\n"
     ]
    },
    {
     "name": "stderr",
     "output_type": "stream",
     "text": [
      " 85%|████████▌ | 760/891 [08:39<02:06,  1.03it/s]"
     ]
    },
    {
     "name": "stdout",
     "output_type": "stream",
     "text": [
      "Aligned 107 residues (Free: 110, Bound: 107, Excluded: 3)\n",
      "Downloading PDB structure '3csr'...\n",
      "Downloading PDB structure '3ct5'...\n"
     ]
    },
    {
     "name": "stderr",
     "output_type": "stream",
     "text": [
      " 85%|████████▌ | 761/891 [08:40<02:03,  1.05it/s]"
     ]
    },
    {
     "name": "stdout",
     "output_type": "stream",
     "text": [
      "Aligned 159 residues (Free: 159, Bound: 159, Excluded: 0)\n",
      "Downloading PDB structure '1smn'...\n",
      "Downloading PDB structure '1g8t'...\n"
     ]
    },
    {
     "name": "stderr",
     "output_type": "stream",
     "text": [
      " 86%|████████▌ | 762/891 [08:41<02:08,  1.00it/s]"
     ]
    },
    {
     "name": "stdout",
     "output_type": "stream",
     "text": [
      "Aligned 241 residues (Free: 241, Bound: 241, Excluded: 0)\n",
      "Downloading PDB structure '1obs'...\n",
      "Downloading PDB structure '1ifu'...\n"
     ]
    },
    {
     "name": "stderr",
     "output_type": "stream",
     "text": [
      " 86%|████████▌ | 763/891 [08:42<02:01,  1.05it/s]"
     ]
    },
    {
     "name": "stdout",
     "output_type": "stream",
     "text": [
      "Aligned 257 residues (Free: 257, Bound: 258, Excluded: 1)\n",
      "Downloading PDB structure '1wos'...\n",
      "Downloading PDB structure '1wop'...\n"
     ]
    },
    {
     "name": "stderr",
     "output_type": "stream",
     "text": [
      " 86%|████████▌ | 764/891 [08:43<01:56,  1.09it/s]"
     ]
    },
    {
     "name": "stdout",
     "output_type": "stream",
     "text": [
      "Aligned 361 residues (Free: 361, Bound: 362, Excluded: 1)\n",
      "Downloading PDB structure '2nsg'...\n",
      "Downloading PDB structure '2nsf'...\n"
     ]
    },
    {
     "name": "stderr",
     "output_type": "stream",
     "text": [
      " 86%|████████▌ | 765/891 [08:44<02:06,  1.01s/it]"
     ]
    },
    {
     "name": "stdout",
     "output_type": "stream",
     "text": [
      "Aligned 240 residues (Free: 240, Bound: 240, Excluded: 0)\n",
      "Downloading PDB structure '1auo'...\n",
      "Downloading PDB structure '1aur'...\n"
     ]
    },
    {
     "name": "stderr",
     "output_type": "stream",
     "text": [
      " 86%|████████▌ | 766/891 [08:45<02:02,  1.02it/s]"
     ]
    },
    {
     "name": "stdout",
     "output_type": "stream",
     "text": [
      "Aligned 218 residues (Free: 218, Bound: 218, Excluded: 0)\n",
      "Downloading PDB structure '2r57'...\n",
      "Downloading PDB structure '2r5m'...\n"
     ]
    },
    {
     "name": "stderr",
     "output_type": "stream",
     "text": [
      " 86%|████████▌ | 767/891 [08:46<01:59,  1.04it/s]"
     ]
    },
    {
     "name": "stdout",
     "output_type": "stream",
     "text": [
      "Aligned 210 residues (Free: 210, Bound: 212, Excluded: 2)\n",
      "Downloading PDB structure '1jly'...\n",
      "Downloading PDB structure '1jlx'...\n"
     ]
    },
    {
     "name": "stderr",
     "output_type": "stream",
     "text": [
      " 86%|████████▌ | 768/891 [08:47<02:02,  1.00it/s]"
     ]
    },
    {
     "name": "stdout",
     "output_type": "stream",
     "text": [
      "Aligned 299 residues (Free: 299, Bound: 299, Excluded: 0)\n",
      "Downloading PDB structure '1i9y'...\n",
      "Downloading PDB structure '1i9z'...\n"
     ]
    },
    {
     "name": "stderr",
     "output_type": "stream",
     "text": [
      " 86%|████████▋ | 769/891 [08:47<01:50,  1.10it/s]"
     ]
    },
    {
     "name": "stdout",
     "output_type": "stream",
     "text": [
      "Aligned 336 residues (Free: 336, Bound: 336, Excluded: 0)\n",
      "Downloading PDB structure '2fma'...\n",
      "Downloading PDB structure '2fk1'...\n"
     ]
    },
    {
     "name": "stderr",
     "output_type": "stream",
     "text": [
      " 86%|████████▋ | 770/891 [08:48<01:40,  1.20it/s]"
     ]
    },
    {
     "name": "stdout",
     "output_type": "stream",
     "text": [
      "Aligned 59 residues (Free: 59, Bound: 59, Excluded: 0)\n",
      "Downloading PDB structure '2r60'...\n",
      "Downloading PDB structure '2r68'...\n"
     ]
    },
    {
     "name": "stderr",
     "output_type": "stream",
     "text": [
      " 87%|████████▋ | 771/891 [08:49<01:48,  1.11it/s]"
     ]
    },
    {
     "name": "stdout",
     "output_type": "stream",
     "text": [
      "Aligned 456 residues (Free: 456, Bound: 456, Excluded: 0)\n",
      "Downloading PDB structure '1g5r'...\n",
      "Downloading PDB structure '1g5t'...\n"
     ]
    },
    {
     "name": "stderr",
     "output_type": "stream",
     "text": [
      " 87%|████████▋ | 772/891 [08:50<01:43,  1.14it/s]"
     ]
    },
    {
     "name": "stdout",
     "output_type": "stream",
     "text": [
      "Aligned 152 residues (Free: 152, Bound: 157, Excluded: 5)\n",
      "Downloading PDB structure '1jsy'...\n",
      "Downloading PDB structure '1zsh'...\n"
     ]
    },
    {
     "name": "stderr",
     "output_type": "stream",
     "text": [
      " 87%|████████▋ | 773/891 [08:51<01:49,  1.08it/s]"
     ]
    },
    {
     "name": "stdout",
     "output_type": "stream",
     "text": [
      "Aligned 354 residues (Free: 358, Bound: 354, Excluded: 4)\n",
      "Downloading PDB structure '2r11'...\n",
      "Structure exists: 'data/PSCDB/PDB_structures/pdb2r11.ent' \n"
     ]
    },
    {
     "name": "stderr",
     "output_type": "stream",
     "text": [
      " 87%|████████▋ | 774/891 [08:52<01:52,  1.04it/s]"
     ]
    },
    {
     "name": "stdout",
     "output_type": "stream",
     "text": [
      "Aligned 274 residues (Free: 274, Bound: 274, Excluded: 0)\n",
      "Downloading PDB structure '2g7e'...\n",
      "Downloading PDB structure '2g7f'...\n"
     ]
    },
    {
     "name": "stderr",
     "output_type": "stream",
     "text": [
      " 87%|████████▋ | 775/891 [08:53<01:47,  1.08it/s]"
     ]
    },
    {
     "name": "stdout",
     "output_type": "stream",
     "text": [
      "Aligned 207 residues (Free: 207, Bound: 208, Excluded: 1)\n",
      "Downloading PDB structure '1j23'...\n",
      "Downloading PDB structure '1j25'...\n"
     ]
    },
    {
     "name": "stderr",
     "output_type": "stream",
     "text": [
      " 87%|████████▋ | 776/891 [08:54<01:37,  1.18it/s]"
     ]
    },
    {
     "name": "stdout",
     "output_type": "stream",
     "text": [
      "Aligned 131 residues (Free: 131, Bound: 133, Excluded: 2)\n",
      "Downloading PDB structure '2o4u'...\n",
      "Downloading PDB structure '2o48'...\n"
     ]
    },
    {
     "name": "stderr",
     "output_type": "stream",
     "text": [
      " 87%|████████▋ | 777/891 [08:54<01:36,  1.18it/s]"
     ]
    },
    {
     "name": "stdout",
     "output_type": "stream",
     "text": [
      "Aligned 331 residues (Free: 331, Bound: 331, Excluded: 0)\n",
      "Downloading PDB structure '2vl3'...\n",
      "Downloading PDB structure '2vl2'...\n"
     ]
    },
    {
     "name": "stderr",
     "output_type": "stream",
     "text": [
      " 87%|████████▋ | 778/891 [08:56<01:44,  1.09it/s]"
     ]
    },
    {
     "name": "stdout",
     "output_type": "stream",
     "text": [
      "Aligned 161 residues (Free: 162, Bound: 161, Excluded: 1)\n",
      "Downloading PDB structure '3byl'...\n",
      "Downloading PDB structure '3byn'...\n"
     ]
    },
    {
     "name": "stderr",
     "output_type": "stream",
     "text": [
      " 87%|████████▋ | 779/891 [08:57<01:50,  1.01it/s]"
     ]
    },
    {
     "name": "stdout",
     "output_type": "stream",
     "text": [
      "Aligned 440 residues (Free: 440, Bound: 440, Excluded: 0)\n",
      "Downloading PDB structure '1yqg'...\n",
      "Downloading PDB structure '2ag8'...\n"
     ]
    },
    {
     "name": "stderr",
     "output_type": "stream",
     "text": [
      " 88%|████████▊ | 780/891 [08:58<01:53,  1.02s/it]"
     ]
    },
    {
     "name": "stdout",
     "output_type": "stream",
     "text": [
      "Aligned 254 residues (Free: 254, Bound: 254, Excluded: 0)\n",
      "Downloading PDB structure '2c4k'...\n"
     ]
    },
    {
     "name": "stderr",
     "output_type": "stream",
     "text": [
      " 88%|████████▊ | 781/891 [08:59<01:48,  1.01it/s]"
     ]
    },
    {
     "name": "stdout",
     "output_type": "stream",
     "text": [
      "Structure exists: 'data/PSCDB/PDB_structures/pdb2c4k.ent' \n",
      "Aligned 305 residues (Free: 305, Bound: 305, Excluded: 0)\n",
      "Downloading PDB structure '2qtf'...\n",
      "Downloading PDB structure '2qth'...\n"
     ]
    },
    {
     "name": "stderr",
     "output_type": "stream",
     "text": [
      " 88%|████████▊ | 782/891 [09:00<01:47,  1.02it/s]"
     ]
    },
    {
     "name": "stdout",
     "output_type": "stream",
     "text": [
      "Aligned 311 residues (Free: 311, Bound: 311, Excluded: 0)\n",
      "Downloading PDB structure '3eua'...\n",
      "Structure exists: 'data/PSCDB/PDB_structures/pdb3eua.ent' \n"
     ]
    },
    {
     "name": "stderr",
     "output_type": "stream",
     "text": [
      " 88%|████████▊ | 783/891 [09:01<02:05,  1.16s/it]"
     ]
    },
    {
     "name": "stdout",
     "output_type": "stream",
     "text": [
      "Aligned 319 residues (Free: 319, Bound: 319, Excluded: 0)\n",
      "Downloading PDB structure '1hf8'...\n",
      "Downloading PDB structure '1hg2'...\n"
     ]
    },
    {
     "name": "stderr",
     "output_type": "stream",
     "text": [
      " 88%|████████▊ | 784/891 [09:02<01:53,  1.06s/it]"
     ]
    },
    {
     "name": "stdout",
     "output_type": "stream",
     "text": [
      "Aligned 263 residues (Free: 263, Bound: 263, Excluded: 0)\n",
      "Downloading PDB structure '3c7m'...\n"
     ]
    },
    {
     "name": "stderr",
     "output_type": "stream",
     "text": [
      " 88%|████████▊ | 785/891 [09:03<01:38,  1.07it/s]"
     ]
    },
    {
     "name": "stdout",
     "output_type": "stream",
     "text": [
      "Structure exists: 'data/PSCDB/PDB_structures/pdb3c7m.ent' \n",
      "Aligned 195 residues (Free: 195, Bound: 195, Excluded: 0)\n",
      "Downloading PDB structure '2q22'...\n"
     ]
    },
    {
     "name": "stderr",
     "output_type": "stream",
     "text": [
      " 88%|████████▊ | 786/891 [09:03<01:27,  1.20it/s]"
     ]
    },
    {
     "name": "stdout",
     "output_type": "stream",
     "text": [
      "Structure exists: 'data/PSCDB/PDB_structures/pdb2q22.ent' \n",
      "Aligned 128 residues (Free: 128, Bound: 128, Excluded: 0)\n",
      "Downloading PDB structure '1g0z'...\n",
      "Downloading PDB structure '1u4j'...\n"
     ]
    },
    {
     "name": "stderr",
     "output_type": "stream",
     "text": [
      " 88%|████████▊ | 787/891 [09:04<01:36,  1.08it/s]"
     ]
    },
    {
     "name": "stdout",
     "output_type": "stream",
     "text": [
      "Aligned 118 residues (Free: 118, Bound: 118, Excluded: 0)\n",
      "Downloading PDB structure '2qb0'...\n"
     ]
    },
    {
     "name": "stderr",
     "output_type": "stream",
     "text": [
      " 88%|████████▊ | 788/891 [09:05<01:25,  1.21it/s]"
     ]
    },
    {
     "name": "stdout",
     "output_type": "stream",
     "text": [
      "Structure exists: 'data/PSCDB/PDB_structures/pdb2qb0.ent' \n",
      "Aligned 77 residues (Free: 77, Bound: 77, Excluded: 0)\n",
      "Structure exists: 'data/PSCDB/PDB_structures/pdb1obp.ent' \n",
      "Structure exists: 'data/PSCDB/PDB_structures/pdb1pbo.ent' \n",
      "Aligned 156 residues (Free: 158, Bound: 157, Excluded: 3)\n"
     ]
    },
    {
     "name": "stderr",
     "output_type": "stream",
     "text": [
      " 89%|████████▉ | 791/891 [09:05<00:36,  2.78it/s]"
     ]
    },
    {
     "name": "stdout",
     "output_type": "stream",
     "text": [
      "Structure exists: 'data/PSCDB/PDB_structures/pdb1na5.ent' \n",
      "Structure exists: 'data/PSCDB/PDB_structures/pdb1ido.ent' \n",
      "Aligned 184 residues (Free: 195, Bound: 184, Excluded: 11)\n",
      "Structure exists: 'data/PSCDB/PDB_structures/pdb3wrp.ent' \n",
      "Structure exists: 'data/PSCDB/PDB_structures/pdb2oz9.ent' \n",
      "No common residues between 3wrp and 2oz9\n",
      "Structure exists: 'data/PSCDB/PDB_structures/pdb2f08.ent' \n",
      "Structure exists: 'data/PSCDB/PDB_structures/pdb1xwv.ent' \n",
      "Aligned 129 residues (Free: 129, Bound: 129, Excluded: 0)\n",
      "Structure exists: 'data/PSCDB/PDB_structures/pdb2quk.ent' \n"
     ]
    },
    {
     "name": "stderr",
     "output_type": "stream",
     "text": [
      " 89%|████████▉ | 793/891 [09:06<00:30,  3.26it/s]"
     ]
    },
    {
     "name": "stdout",
     "output_type": "stream",
     "text": [
      "Structure exists: 'data/PSCDB/PDB_structures/pdb2quj.ent' \n",
      "Aligned 374 residues (Free: 374, Bound: 388, Excluded: 14)\n",
      "Structure exists: 'data/PSCDB/PDB_structures/pdb2acf.ent' \n",
      "Structure exists: 'data/PSCDB/PDB_structures/pdb2fav.ent' \n"
     ]
    },
    {
     "name": "stderr",
     "output_type": "stream",
     "text": [
      " 89%|████████▉ | 794/891 [09:06<00:26,  3.67it/s]"
     ]
    },
    {
     "name": "stdout",
     "output_type": "stream",
     "text": [
      "No common residues between 2acf and 2fav\n",
      "Structure exists: 'data/PSCDB/PDB_structures/pdb2i7h.ent' \n",
      "Structure exists: 'data/PSCDB/PDB_structures/pdb2i7h.ent' \n"
     ]
    },
    {
     "name": "stderr",
     "output_type": "stream",
     "text": [
      " 89%|████████▉ | 796/891 [09:07<00:27,  3.50it/s]"
     ]
    },
    {
     "name": "stdout",
     "output_type": "stream",
     "text": [
      "Aligned 183 residues (Free: 183, Bound: 183, Excluded: 0)\n",
      "Structure exists: 'data/PSCDB/PDB_structures/pdb1ozt.ent' \n",
      "Structure exists: 'data/PSCDB/PDB_structures/pdb1spd.ent' \n",
      "No common residues between 1ozt and 1spd\n",
      "Structure exists: 'data/PSCDB/PDB_structures/pdb1uu0.ent' \n",
      "Structure exists: 'data/PSCDB/PDB_structures/pdb1uu2.ent' \n"
     ]
    },
    {
     "name": "stderr",
     "output_type": "stream",
     "text": [
      " 90%|████████▉ | 799/891 [09:07<00:19,  4.79it/s]"
     ]
    },
    {
     "name": "stdout",
     "output_type": "stream",
     "text": [
      "Aligned 321 residues (Free: 328, Bound: 321, Excluded: 7)\n",
      "Structure exists: 'data/PSCDB/PDB_structures/pdb1beo.ent' \n",
      "Structure exists: 'data/PSCDB/PDB_structures/pdb1lri.ent' \n",
      "Aligned 98 residues (Free: 98, Bound: 98, Excluded: 0)\n",
      "Structure exists: 'data/PSCDB/PDB_structures/pdb2sbt.ent' \n",
      "Structure exists: 'data/PSCDB/PDB_structures/pdb1ubn.ent' \n",
      "Aligned 274 residues (Free: 275, Bound: 274, Excluded: 1)\n",
      "Structure exists: 'data/PSCDB/PDB_structures/pdb1hxj.ent' \n"
     ]
    },
    {
     "name": "stderr",
     "output_type": "stream",
     "text": [
      " 90%|████████▉ | 800/891 [09:07<00:19,  4.59it/s]"
     ]
    },
    {
     "name": "stdout",
     "output_type": "stream",
     "text": [
      "Structure exists: 'data/PSCDB/PDB_structures/pdb1v08.ent' \n",
      "Aligned 484 residues (Free: 490, Bound: 490, Excluded: 12)\n",
      "Structure exists: 'data/PSCDB/PDB_structures/pdb1gy0.ent' \n",
      "Structure exists: 'data/PSCDB/PDB_structures/pdb1gxz.ent' \n"
     ]
    },
    {
     "name": "stderr",
     "output_type": "stream",
     "text": [
      " 90%|█████████ | 802/891 [09:08<00:19,  4.48it/s]"
     ]
    },
    {
     "name": "stdout",
     "output_type": "stream",
     "text": [
      "Aligned 223 residues (Free: 223, Bound: 223, Excluded: 0)\n",
      "Structure exists: 'data/PSCDB/PDB_structures/pdb1fqn.ent' \n",
      "Structure exists: 'data/PSCDB/PDB_structures/pdb1xev.ent' \n",
      "Aligned 257 residues (Free: 257, Bound: 258, Excluded: 1)\n",
      "Structure exists: 'data/PSCDB/PDB_structures/pdb2qvk.ent' \n",
      "Structure exists: 'data/PSCDB/PDB_structures/pdb2qvm.ent' \n"
     ]
    },
    {
     "name": "stderr",
     "output_type": "stream",
     "text": [
      " 90%|█████████ | 804/891 [09:08<00:13,  6.43it/s]"
     ]
    },
    {
     "name": "stdout",
     "output_type": "stream",
     "text": [
      "Aligned 116 residues (Free: 121, Bound: 116, Excluded: 5)\n",
      "Structure exists: 'data/PSCDB/PDB_structures/pdb1x8e.ent' \n",
      "Structure exists: 'data/PSCDB/PDB_structures/pdb1x82.ent' \n",
      "Aligned 184 residues (Free: 189, Bound: 185, Excluded: 6)\n",
      "Structure exists: 'data/PSCDB/PDB_structures/pdb2qbv.ent' \n",
      "Structure exists: 'data/PSCDB/PDB_structures/pdb2vkl.ent' \n",
      "Aligned 62 residues (Free: 73, Bound: 77, Excluded: 26)\n",
      "Structure exists: 'data/PSCDB/PDB_structures/pdb2qzp.ent' \n",
      "Structure exists: 'data/PSCDB/PDB_structures/pdb1ve7.ent' \n"
     ]
    },
    {
     "name": "stderr",
     "output_type": "stream",
     "text": [
      " 91%|█████████ | 807/891 [09:09<00:15,  5.43it/s]"
     ]
    },
    {
     "name": "stdout",
     "output_type": "stream",
     "text": [
      "Aligned 560 residues (Free: 560, Bound: 573, Excluded: 13)\n",
      "Structure exists: 'data/PSCDB/PDB_structures/pdb2c7i.ent' \n",
      "Structure exists: 'data/PSCDB/PDB_structures/pdb2art.ent' \n",
      "Aligned 243 residues (Free: 244, Bound: 247, Excluded: 5)\n",
      "Structure exists: 'data/PSCDB/PDB_structures/pdb2dg0.ent' \n"
     ]
    },
    {
     "name": "stderr",
     "output_type": "stream",
     "text": [
      " 91%|█████████ | 808/891 [09:09<00:25,  3.30it/s]"
     ]
    },
    {
     "name": "stdout",
     "output_type": "stream",
     "text": [
      "Structure exists: 'data/PSCDB/PDB_structures/pdb2dso.ent' \n",
      "Aligned 317 residues (Free: 317, Bound: 322, Excluded: 5)\n",
      "Structure exists: 'data/PSCDB/PDB_structures/pdb2zf3.ent' \n",
      "Structure exists: 'data/PSCDB/PDB_structures/pdb2zf4.ent' \n"
     ]
    },
    {
     "name": "stderr",
     "output_type": "stream",
     "text": [
      " 91%|█████████ | 809/891 [09:10<00:28,  2.84it/s]"
     ]
    },
    {
     "name": "stdout",
     "output_type": "stream",
     "text": [
      "Aligned 185 residues (Free: 186, Bound: 187, Excluded: 3)\n",
      "Structure exists: 'data/PSCDB/PDB_structures/pdb2box.ent' \n",
      "Structure exists: 'data/PSCDB/PDB_structures/pdb2bo2.ent' \n",
      "Aligned 134 residues (Free: 135, Bound: 140, Excluded: 7)\n",
      "Structure exists: 'data/PSCDB/PDB_structures/pdb2av8.ent' \n",
      "Structure exists: 'data/PSCDB/PDB_structures/pdb1pfr.ent' \n"
     ]
    },
    {
     "name": "stderr",
     "output_type": "stream",
     "text": [
      " 91%|█████████ | 811/891 [09:10<00:20,  3.82it/s]"
     ]
    },
    {
     "name": "stdout",
     "output_type": "stream",
     "text": [
      "Aligned 340 residues (Free: 340, Bound: 340, Excluded: 0)\n",
      "Structure exists: 'data/PSCDB/PDB_structures/pdb1jiq.ent' \n"
     ]
    },
    {
     "name": "stderr",
     "output_type": "stream",
     "text": [
      " 91%|█████████ | 812/891 [09:11<00:25,  3.13it/s]"
     ]
    },
    {
     "name": "stdout",
     "output_type": "stream",
     "text": [
      "Structure exists: 'data/PSCDB/PDB_structures/pdb1nuh.ent' \n",
      "Aligned 555 residues (Free: 557, Bound: 555, Excluded: 2)\n",
      "Structure exists: 'data/PSCDB/PDB_structures/pdb1psr.ent' \n",
      "Structure exists: 'data/PSCDB/PDB_structures/pdb3psr.ent' \n",
      "Aligned 96 residues (Free: 100, Bound: 96, Excluded: 4)\n",
      "Structure exists: 'data/PSCDB/PDB_structures/pdb2rca.ent' \n"
     ]
    },
    {
     "name": "stderr",
     "output_type": "stream",
     "text": [
      " 91%|█████████▏| 814/891 [09:11<00:18,  4.09it/s]"
     ]
    },
    {
     "name": "stdout",
     "output_type": "stream",
     "text": [
      "Structure exists: 'data/PSCDB/PDB_structures/pdb2rcb.ent' \n",
      "Aligned 282 residues (Free: 282, Bound: 282, Excluded: 0)\n",
      "Structure exists: 'data/PSCDB/PDB_structures/pdb2yrf.ent' \n",
      "Structure exists: 'data/PSCDB/PDB_structures/pdb2yvk.ent' \n"
     ]
    },
    {
     "name": "stderr",
     "output_type": "stream",
     "text": [
      " 92%|█████████▏| 816/891 [09:11<00:18,  4.04it/s]"
     ]
    },
    {
     "name": "stdout",
     "output_type": "stream",
     "text": [
      "Aligned 340 residues (Free: 340, Bound: 349, Excluded: 9)\n",
      "Structure exists: 'data/PSCDB/PDB_structures/pdb1iun.ent' \n",
      "Structure exists: 'data/PSCDB/PDB_structures/pdb1uk9.ent' \n",
      "Aligned 271 residues (Free: 272, Bound: 271, Excluded: 1)\n",
      "Structure exists: 'data/PSCDB/PDB_structures/pdb1f2v.ent' \n",
      "Structure exists: 'data/PSCDB/PDB_structures/pdb1i1h.ent' \n",
      "Aligned 209 residues (Free: 209, Bound: 209, Excluded: 0)\n",
      "Structure exists: 'data/PSCDB/PDB_structures/pdb2o70.ent' \n",
      "Structure exists: 'data/PSCDB/PDB_structures/pdb2o74.ent' \n"
     ]
    },
    {
     "name": "stderr",
     "output_type": "stream",
     "text": [
      " 92%|█████████▏| 818/891 [09:12<00:17,  4.06it/s]"
     ]
    },
    {
     "name": "stdout",
     "output_type": "stream",
     "text": [
      "Aligned 165 residues (Free: 165, Bound: 165, Excluded: 0)\n",
      "Structure exists: 'data/PSCDB/PDB_structures/pdb2vb3.ent' \n",
      "Structure exists: 'data/PSCDB/PDB_structures/pdb2vb2.ent' \n",
      "Aligned 75 residues (Free: 75, Bound: 75, Excluded: 0)\n",
      "Structure exists: 'data/PSCDB/PDB_structures/pdb1avk.ent' \n",
      "Structure exists: 'data/PSCDB/PDB_structures/pdb1ui7.ent' \n"
     ]
    },
    {
     "name": "stderr",
     "output_type": "stream",
     "text": [
      " 92%|█████████▏| 820/891 [09:12<00:15,  4.66it/s]"
     ]
    },
    {
     "name": "stdout",
     "output_type": "stream",
     "text": [
      "Aligned 620 residues (Free: 620, Bound: 620, Excluded: 0)\n",
      "Structure exists: 'data/PSCDB/PDB_structures/pdb2vw0.ent' \n",
      "Structure exists: 'data/PSCDB/PDB_structures/pdb2vw1.ent' \n",
      "Aligned 657 residues (Free: 657, Bound: 658, Excluded: 1)\n"
     ]
    },
    {
     "name": "stderr",
     "output_type": "stream",
     "text": [
      " 92%|█████████▏| 821/891 [09:12<00:14,  4.70it/s]"
     ]
    },
    {
     "name": "stdout",
     "output_type": "stream",
     "text": [
      "Structure exists: 'data/PSCDB/PDB_structures/pdb1evq.ent' \n",
      "Structure exists: 'data/PSCDB/PDB_structures/pdb1qz3.ent' \n"
     ]
    },
    {
     "name": "stderr",
     "output_type": "stream",
     "text": [
      " 92%|█████████▏| 823/891 [09:13<00:14,  4.66it/s]"
     ]
    },
    {
     "name": "stdout",
     "output_type": "stream",
     "text": [
      "Aligned 304 residues (Free: 304, Bound: 309, Excluded: 5)\n",
      "Structure exists: 'data/PSCDB/PDB_structures/pdb2eaw.ent' \n",
      "Structure exists: 'data/PSCDB/PDB_structures/pdb3bgg.ent' \n",
      "Aligned 256 residues (Free: 256, Bound: 257, Excluded: 1)\n",
      "Structure exists: 'data/PSCDB/PDB_structures/pdb1mzl.ent' \n",
      "Structure exists: 'data/PSCDB/PDB_structures/pdb1fk1.ent' \n"
     ]
    },
    {
     "name": "stderr",
     "output_type": "stream",
     "text": [
      " 93%|█████████▎| 825/891 [09:13<00:11,  5.84it/s]"
     ]
    },
    {
     "name": "stdout",
     "output_type": "stream",
     "text": [
      "Aligned 93 residues (Free: 93, Bound: 93, Excluded: 0)\n",
      "Structure exists: 'data/PSCDB/PDB_structures/pdb1o9n.ent' \n",
      "Structure exists: 'data/PSCDB/PDB_structures/pdb1ocl.ent' \n",
      "Aligned 412 residues (Free: 412, Bound: 412, Excluded: 0)\n",
      "Structure exists: 'data/PSCDB/PDB_structures/pdb1jx1.ent' \n"
     ]
    },
    {
     "name": "stderr",
     "output_type": "stream",
     "text": [
      " 93%|█████████▎| 826/891 [09:14<00:15,  4.25it/s]"
     ]
    },
    {
     "name": "stdout",
     "output_type": "stream",
     "text": [
      "Structure exists: 'data/PSCDB/PDB_structures/pdb1jx1.ent' \n",
      "Aligned 218 residues (Free: 218, Bound: 218, Excluded: 0)\n",
      "Structure exists: 'data/PSCDB/PDB_structures/pdb2e7i.ent' \n"
     ]
    },
    {
     "name": "stderr",
     "output_type": "stream",
     "text": [
      " 93%|█████████▎| 827/891 [09:14<00:14,  4.31it/s]"
     ]
    },
    {
     "name": "stdout",
     "output_type": "stream",
     "text": [
      "Structure exists: 'data/PSCDB/PDB_structures/pdb2e7j.ent' \n",
      "Aligned 344 residues (Free: 344, Bound: 344, Excluded: 0)\n",
      "Structure exists: 'data/PSCDB/PDB_structures/pdb2oyc.ent' \n",
      "Structure exists: 'data/PSCDB/PDB_structures/pdb2p69.ent' \n"
     ]
    },
    {
     "name": "stderr",
     "output_type": "stream",
     "text": [
      " 93%|█████████▎| 829/891 [09:14<00:11,  5.45it/s]"
     ]
    },
    {
     "name": "stdout",
     "output_type": "stream",
     "text": [
      "Aligned 285 residues (Free: 289, Bound: 285, Excluded: 4)\n",
      "Structure exists: 'data/PSCDB/PDB_structures/pdb1mdf.ent' \n",
      "Structure exists: 'data/PSCDB/PDB_structures/pdb1md9.ent' \n",
      "Aligned 528 residues (Free: 536, Bound: 528, Excluded: 8)\n",
      "Structure exists: 'data/PSCDB/PDB_structures/pdb1w5r.ent' \n"
     ]
    },
    {
     "name": "stderr",
     "output_type": "stream",
     "text": [
      " 93%|█████████▎| 830/891 [09:15<00:14,  4.08it/s]"
     ]
    },
    {
     "name": "stdout",
     "output_type": "stream",
     "text": [
      "Structure exists: 'data/PSCDB/PDB_structures/pdb1w6f.ent' \n",
      "Aligned 273 residues (Free: 273, Bound: 273, Excluded: 0)\n",
      "Structure exists: 'data/PSCDB/PDB_structures/pdb2zr3.ent' \n"
     ]
    },
    {
     "name": "stderr",
     "output_type": "stream",
     "text": [
      " 93%|█████████▎| 831/891 [09:15<00:15,  3.95it/s]"
     ]
    },
    {
     "name": "stdout",
     "output_type": "stream",
     "text": [
      "Structure exists: 'data/PSCDB/PDB_structures/pdb2dq0.ent' \n",
      "Aligned 447 residues (Free: 448, Bound: 447, Excluded: 1)\n",
      "Structure exists: 'data/PSCDB/PDB_structures/pdb2iqy.ent' \n",
      "Structure exists: 'data/PSCDB/PDB_structures/pdb2iqx.ent' \n"
     ]
    },
    {
     "name": "stderr",
     "output_type": "stream",
     "text": [
      " 93%|█████████▎| 833/891 [09:15<00:13,  4.28it/s]"
     ]
    },
    {
     "name": "stdout",
     "output_type": "stream",
     "text": [
      "Aligned 185 residues (Free: 190, Bound: 185, Excluded: 5)\n",
      "Structure exists: 'data/PSCDB/PDB_structures/pdb2bkb.ent' \n",
      "Structure exists: 'data/PSCDB/PDB_structures/pdb1za5.ent' \n",
      "Aligned 192 residues (Free: 192, Bound: 192, Excluded: 0)\n",
      "Structure exists: 'data/PSCDB/PDB_structures/pdb1vf8.ent' \n",
      "Structure exists: 'data/PSCDB/PDB_structures/pdb1e9l.ent' \n"
     ]
    },
    {
     "name": "stderr",
     "output_type": "stream",
     "text": [
      " 94%|█████████▎| 834/891 [09:15<00:11,  4.93it/s]"
     ]
    },
    {
     "name": "stdout",
     "output_type": "stream",
     "text": [
      "Aligned 352 residues (Free: 373, Bound: 372, Excluded: 41)\n",
      "Structure exists: 'data/PSCDB/PDB_structures/pdb1fhm.ent' \n",
      "Structure exists: 'data/PSCDB/PDB_structures/pdb1t9p.ent' \n",
      "Aligned 53 residues (Free: 53, Bound: 54, Excluded: 1)\n",
      "Structure exists: 'data/PSCDB/PDB_structures/pdb1usl.ent' \n",
      "Structure exists: 'data/PSCDB/PDB_structures/pdb2vvo.ent' \n"
     ]
    },
    {
     "name": "stderr",
     "output_type": "stream",
     "text": [
      " 94%|█████████▍| 837/891 [09:16<00:11,  4.87it/s]"
     ]
    },
    {
     "name": "stdout",
     "output_type": "stream",
     "text": [
      "Aligned 156 residues (Free: 156, Bound: 156, Excluded: 0)\n",
      "Structure exists: 'data/PSCDB/PDB_structures/pdb2fyo.ent' \n",
      "Structure exists: 'data/PSCDB/PDB_structures/pdb2fw3.ent' \n",
      "Aligned 611 residues (Free: 613, Bound: 623, Excluded: 14)\n",
      "Structure exists: 'data/PSCDB/PDB_structures/pdb2fp8.ent' \n"
     ]
    },
    {
     "name": "stderr",
     "output_type": "stream",
     "text": [
      " 94%|█████████▍| 838/891 [09:16<00:10,  5.23it/s]"
     ]
    },
    {
     "name": "stdout",
     "output_type": "stream",
     "text": [
      "Structure exists: 'data/PSCDB/PDB_structures/pdb2fp9.ent' \n",
      "Aligned 302 residues (Free: 302, Bound: 305, Excluded: 3)\n",
      "Structure exists: 'data/PSCDB/PDB_structures/pdb2g6v.ent' \n",
      "Structure exists: 'data/PSCDB/PDB_structures/pdb2obc.ent' \n"
     ]
    },
    {
     "name": "stderr",
     "output_type": "stream",
     "text": [
      " 94%|█████████▍| 840/891 [09:17<00:11,  4.43it/s]"
     ]
    },
    {
     "name": "stdout",
     "output_type": "stream",
     "text": [
      "Aligned 345 residues (Free: 346, Bound: 345, Excluded: 1)\n",
      "Structure exists: 'data/PSCDB/PDB_structures/pdb3chi.ent' \n",
      "Structure exists: 'data/PSCDB/PDB_structures/pdb3cht.ent' \n",
      "Aligned 301 residues (Free: 301, Bound: 301, Excluded: 0)\n",
      "Structure exists: 'data/PSCDB/PDB_structures/pdb2byw.ent' \n",
      "Structure exists: 'data/PSCDB/PDB_structures/pdb2bui.ent' \n"
     ]
    },
    {
     "name": "stderr",
     "output_type": "stream",
     "text": [
      " 95%|█████████▍| 842/891 [09:17<00:12,  3.96it/s]"
     ]
    },
    {
     "name": "stdout",
     "output_type": "stream",
     "text": [
      "Aligned 406 residues (Free: 406, Bound: 406, Excluded: 0)\n",
      "Structure exists: 'data/PSCDB/PDB_structures/pdb2aej.ent' \n",
      "Structure exists: 'data/PSCDB/PDB_structures/pdb2aef.ent' \n",
      "Aligned 221 residues (Free: 224, Bound: 221, Excluded: 3)\n",
      "Structure exists: 'data/PSCDB/PDB_structures/pdb1wac.ent' \n",
      "Structure exists: 'data/PSCDB/PDB_structures/pdb1hhs.ent' \n"
     ]
    },
    {
     "name": "stderr",
     "output_type": "stream",
     "text": [
      " 95%|█████████▍| 844/891 [09:18<00:13,  3.39it/s]"
     ]
    },
    {
     "name": "stdout",
     "output_type": "stream",
     "text": [
      "Aligned 662 residues (Free: 662, Bound: 664, Excluded: 2)\n",
      "Structure exists: 'data/PSCDB/PDB_structures/pdb1ncz.ent' \n",
      "Structure exists: 'data/PSCDB/PDB_structures/pdb5tnc.ent' \n",
      "Aligned 161 residues (Free: 162, Bound: 161, Excluded: 1)\n",
      "Structure exists: 'data/PSCDB/PDB_structures/pdb1arl.ent' \n",
      "Structure exists: 'data/PSCDB/PDB_structures/pdb1cpx.ent' \n"
     ]
    },
    {
     "name": "stderr",
     "output_type": "stream",
     "text": [
      " 95%|█████████▌| 847/891 [09:18<00:07,  6.26it/s]"
     ]
    },
    {
     "name": "stdout",
     "output_type": "stream",
     "text": [
      "Aligned 305 residues (Free: 307, Bound: 305, Excluded: 2)\n",
      "Structure exists: 'data/PSCDB/PDB_structures/pdb2f3n.ent' \n",
      "Structure exists: 'data/PSCDB/PDB_structures/pdb2f44.ent' \n",
      "Aligned 65 residues (Free: 65, Bound: 65, Excluded: 0)\n",
      "Structure exists: 'data/PSCDB/PDB_structures/pdb1juk.ent' \n",
      "Structure exists: 'data/PSCDB/PDB_structures/pdb1lbl.ent' \n",
      "Aligned 247 residues (Free: 247, Bound: 247, Excluded: 0)\n",
      "Structure exists: 'data/PSCDB/PDB_structures/pdb2bw0.ent' \n",
      "Structure exists: 'data/PSCDB/PDB_structures/pdb2cfi.ent' \n",
      "Aligned 309 residues (Free: 309, Bound: 310, Excluded: 1)\n"
     ]
    },
    {
     "name": "stderr",
     "output_type": "stream",
     "text": [
      " 95%|█████████▌| 849/891 [09:19<00:07,  5.47it/s]"
     ]
    },
    {
     "name": "stdout",
     "output_type": "stream",
     "text": [
      "Structure exists: 'data/PSCDB/PDB_structures/pdb2yyv.ent' \n",
      "Structure exists: 'data/PSCDB/PDB_structures/pdb2yzo.ent' \n",
      "Aligned 223 residues (Free: 223, Bound: 223, Excluded: 0)\n",
      "Structure exists: 'data/PSCDB/PDB_structures/pdb2hkl.ent' \n",
      "Structure exists: 'data/PSCDB/PDB_structures/pdb1zat.ent' \n"
     ]
    },
    {
     "name": "stderr",
     "output_type": "stream",
     "text": [
      " 95%|█████████▌| 850/891 [09:19<00:06,  6.07it/s]"
     ]
    },
    {
     "name": "stdout",
     "output_type": "stream",
     "text": [
      "Aligned 248 residues (Free: 248, Bound: 248, Excluded: 0)\n",
      "Structure exists: 'data/PSCDB/PDB_structures/pdb2oam.ent' \n",
      "Structure exists: 'data/PSCDB/PDB_structures/pdb2oa1.ent' \n"
     ]
    },
    {
     "name": "stderr",
     "output_type": "stream",
     "text": [
      " 96%|█████████▌| 851/891 [09:19<00:10,  3.79it/s]"
     ]
    },
    {
     "name": "stdout",
     "output_type": "stream",
     "text": [
      "Aligned 523 residues (Free: 523, Bound: 527, Excluded: 4)\n",
      "Structure exists: 'data/PSCDB/PDB_structures/pdb1kko.ent' \n"
     ]
    },
    {
     "name": "stderr",
     "output_type": "stream",
     "text": [
      " 96%|█████████▌| 852/891 [09:20<00:10,  3.60it/s]"
     ]
    },
    {
     "name": "stdout",
     "output_type": "stream",
     "text": [
      "Structure exists: 'data/PSCDB/PDB_structures/pdb1kkr.ent' \n",
      "Aligned 401 residues (Free: 401, Bound: 401, Excluded: 0)\n",
      "Structure exists: 'data/PSCDB/PDB_structures/pdb2o6f.ent' \n",
      "Structure exists: 'data/PSCDB/PDB_structures/pdb2o6e.ent' \n"
     ]
    },
    {
     "name": "stderr",
     "output_type": "stream",
     "text": [
      " 96%|█████████▌| 853/891 [09:20<00:08,  4.38it/s]"
     ]
    },
    {
     "name": "stdout",
     "output_type": "stream",
     "text": [
      "Aligned 157 residues (Free: 157, Bound: 158, Excluded: 1)\n",
      "Structure exists: 'data/PSCDB/PDB_structures/pdb1bt2.ent' \n",
      "Structure exists: 'data/PSCDB/PDB_structures/pdb1bug.ent' \n"
     ]
    },
    {
     "name": "stderr",
     "output_type": "stream",
     "text": [
      " 96%|█████████▌| 856/891 [09:20<00:06,  5.28it/s]"
     ]
    },
    {
     "name": "stdout",
     "output_type": "stream",
     "text": [
      "Aligned 336 residues (Free: 336, Bound: 336, Excluded: 0)\n",
      "Structure exists: 'data/PSCDB/PDB_structures/pdb1lkp.ent' \n",
      "Structure exists: 'data/PSCDB/PDB_structures/pdb1dvb.ent' \n",
      "Aligned 190 residues (Free: 190, Bound: 191, Excluded: 1)\n",
      "Structure exists: 'data/PSCDB/PDB_structures/pdb1iad.ent' \n",
      "Structure exists: 'data/PSCDB/PDB_structures/pdb1iaa.ent' \n",
      "Aligned 200 residues (Free: 200, Bound: 200, Excluded: 0)\n",
      "Structure exists: 'data/PSCDB/PDB_structures/pdb2p76.ent' \n",
      "Structure exists: 'data/PSCDB/PDB_structures/pdb2oog.ent' \n"
     ]
    },
    {
     "name": "stderr",
     "output_type": "stream",
     "text": [
      " 96%|█████████▋| 858/891 [09:21<00:07,  4.15it/s]"
     ]
    },
    {
     "name": "stdout",
     "output_type": "stream",
     "text": [
      "Aligned 267 residues (Free: 267, Bound: 267, Excluded: 0)\n",
      "Structure exists: 'data/PSCDB/PDB_structures/pdb2yu2.ent' \n",
      "Structure exists: 'data/PSCDB/PDB_structures/pdb2yu1.ent' \n",
      "Aligned 385 residues (Free: 387, Bound: 386, Excluded: 3)\n",
      "Structure exists: 'data/PSCDB/PDB_structures/pdb1l7r.ent' \n",
      "Structure exists: 'data/PSCDB/PDB_structures/pdb1ju4.ent' \n"
     ]
    },
    {
     "name": "stderr",
     "output_type": "stream",
     "text": [
      " 96%|█████████▋| 859/891 [09:21<00:07,  4.52it/s]"
     ]
    },
    {
     "name": "stdout",
     "output_type": "stream",
     "text": [
      "Aligned 570 residues (Free: 573, Bound: 570, Excluded: 3)\n",
      "Structure exists: 'data/PSCDB/PDB_structures/pdb2vzo.ent' \n",
      "Structure exists: 'data/PSCDB/PDB_structures/pdb2vzs.ent' \n",
      "Aligned 850 residues (Free: 850, Bound: 857, Excluded: 7)\n"
     ]
    },
    {
     "name": "stderr",
     "output_type": "stream",
     "text": [
      " 97%|█████████▋| 862/891 [09:22<00:06,  4.49it/s]"
     ]
    },
    {
     "name": "stdout",
     "output_type": "stream",
     "text": [
      "Structure exists: 'data/PSCDB/PDB_structures/pdb1dcd.ent' \n",
      "Structure exists: 'data/PSCDB/PDB_structures/pdb1dxg.ent' \n",
      "Aligned 36 residues (Free: 36, Bound: 36, Excluded: 0)\n",
      "Structure exists: 'data/PSCDB/PDB_structures/pdb2e3j.ent' \n",
      "Structure exists: 'data/PSCDB/PDB_structures/pdb2zjf.ent' \n",
      "Aligned 346 residues (Free: 346, Bound: 346, Excluded: 0)\n",
      "Structure exists: 'data/PSCDB/PDB_structures/pdb2qev.ent' \n",
      "Structure exists: 'data/PSCDB/PDB_structures/pdb2qeo.ent' \n",
      "Aligned 144 residues (Free: 145, Bound: 144, Excluded: 1)\n",
      "Structure exists: 'data/PSCDB/PDB_structures/pdb2vfw.ent' \n",
      "Structure exists: 'data/PSCDB/PDB_structures/pdb2vg0.ent' \n"
     ]
    },
    {
     "name": "stderr",
     "output_type": "stream",
     "text": [
      " 97%|█████████▋| 866/891 [09:23<00:04,  5.94it/s]"
     ]
    },
    {
     "name": "stdout",
     "output_type": "stream",
     "text": [
      "Aligned 227 residues (Free: 227, Bound: 227, Excluded: 0)\n",
      "Structure exists: 'data/PSCDB/PDB_structures/pdb1mkb.ent' \n",
      "Structure exists: 'data/PSCDB/PDB_structures/pdb1mka.ent' \n",
      "Aligned 171 residues (Free: 171, Bound: 171, Excluded: 0)\n",
      "Structure exists: 'data/PSCDB/PDB_structures/pdb1fa8.ent' \n",
      "Structure exists: 'data/PSCDB/PDB_structures/pdb1f9z.ent' \n",
      "Aligned 128 residues (Free: 128, Bound: 128, Excluded: 0)\n",
      "Structure exists: 'data/PSCDB/PDB_structures/pdb3c6y.ent' \n"
     ]
    },
    {
     "name": "stderr",
     "output_type": "stream",
     "text": [
      " 97%|█████████▋| 868/891 [09:23<00:03,  6.42it/s]"
     ]
    },
    {
     "name": "stdout",
     "output_type": "stream",
     "text": [
      "Structure exists: 'data/PSCDB/PDB_structures/pdb1yas.ent' \n",
      "Aligned 256 residues (Free: 256, Bound: 256, Excluded: 0)\n",
      "Structure exists: 'data/PSCDB/PDB_structures/pdb1qam.ent' \n",
      "Structure exists: 'data/PSCDB/PDB_structures/pdb1qaq.ent' \n",
      "Aligned 235 residues (Free: 235, Bound: 236, Excluded: 1)\n",
      "Structure exists: 'data/PSCDB/PDB_structures/pdb2veo.ent' \n",
      "Structure exists: 'data/PSCDB/PDB_structures/pdb2veo.ent' \n"
     ]
    },
    {
     "name": "stderr",
     "output_type": "stream",
     "text": [
      " 98%|█████████▊| 870/891 [09:24<00:04,  5.16it/s]"
     ]
    },
    {
     "name": "stdout",
     "output_type": "stream",
     "text": [
      "Aligned 430 residues (Free: 430, Bound: 430, Excluded: 0)\n",
      "Structure exists: 'data/PSCDB/PDB_structures/pdb2i49.ent' \n",
      "Structure exists: 'data/PSCDB/PDB_structures/pdb2i4c.ent' \n",
      "Aligned 398 residues (Free: 398, Bound: 401, Excluded: 3)\n",
      "Structure exists: 'data/PSCDB/PDB_structures/pdb1tee.ent' \n",
      "Structure exists: 'data/PSCDB/PDB_structures/pdb1ted.ent' \n"
     ]
    },
    {
     "name": "stderr",
     "output_type": "stream",
     "text": [
      " 98%|█████████▊| 871/891 [09:24<00:05,  3.67it/s]"
     ]
    },
    {
     "name": "stdout",
     "output_type": "stream",
     "text": [
      "Aligned 368 residues (Free: 368, Bound: 368, Excluded: 0)\n",
      "Structure exists: 'data/PSCDB/PDB_structures/pdb1hzt.ent' \n",
      "Structure exists: 'data/PSCDB/PDB_structures/pdb1r67.ent' \n",
      "Aligned 151 residues (Free: 153, Bound: 151, Excluded: 2)\n",
      "Structure exists: 'data/PSCDB/PDB_structures/pdb1snz.ent' \n",
      "Structure exists: 'data/PSCDB/PDB_structures/pdb1so0.ent' \n"
     ]
    },
    {
     "name": "stderr",
     "output_type": "stream",
     "text": [
      " 98%|█████████▊| 873/891 [09:24<00:03,  4.74it/s]"
     ]
    },
    {
     "name": "stdout",
     "output_type": "stream",
     "text": [
      "Aligned 344 residues (Free: 344, Bound: 344, Excluded: 0)\n",
      "Structure exists: 'data/PSCDB/PDB_structures/pdb1iiw.ent' \n",
      "Structure exists: 'data/PSCDB/PDB_structures/pdb1ii5.ent' \n",
      "Aligned 221 residues (Free: 221, Bound: 221, Excluded: 0)\n",
      "Structure exists: 'data/PSCDB/PDB_structures/pdb2b3l.ent' \n",
      "Structure exists: 'data/PSCDB/PDB_structures/pdb2b3h.ent' \n"
     ]
    },
    {
     "name": "stderr",
     "output_type": "stream",
     "text": [
      " 98%|█████████▊| 875/891 [09:25<00:02,  5.48it/s]"
     ]
    },
    {
     "name": "stdout",
     "output_type": "stream",
     "text": [
      "Aligned 304 residues (Free: 305, Bound: 304, Excluded: 1)\n",
      "Structure exists: 'data/PSCDB/PDB_structures/pdb2v28.ent' \n"
     ]
    },
    {
     "name": "stderr",
     "output_type": "stream",
     "text": [
      " 98%|█████████▊| 876/891 [09:25<00:03,  4.43it/s]"
     ]
    },
    {
     "name": "stdout",
     "output_type": "stream",
     "text": [
      "Structure exists: 'data/PSCDB/PDB_structures/pdb2v27.ent' \n",
      "Aligned 264 residues (Free: 264, Bound: 264, Excluded: 0)\n",
      "Structure exists: 'data/PSCDB/PDB_structures/pdb1esc.ent' \n",
      "Structure exists: 'data/PSCDB/PDB_structures/pdb1ese.ent' \n",
      "Aligned 302 residues (Free: 302, Bound: 302, Excluded: 0)\n",
      "Structure exists: 'data/PSCDB/PDB_structures/pdb2cwc.ent' \n"
     ]
    },
    {
     "name": "stderr",
     "output_type": "stream",
     "text": [
      " 99%|█████████▊| 879/891 [09:25<00:01,  6.12it/s]"
     ]
    },
    {
     "name": "stdout",
     "output_type": "stream",
     "text": [
      "Structure exists: 'data/PSCDB/PDB_structures/pdb2yzv.ent' \n",
      "Aligned 284 residues (Free: 284, Bound: 286, Excluded: 2)\n",
      "Structure exists: 'data/PSCDB/PDB_structures/pdb2a0k.ent' \n",
      "Structure exists: 'data/PSCDB/PDB_structures/pdb2f62.ent' \n",
      "Aligned 151 residues (Free: 151, Bound: 151, Excluded: 0)\n",
      "Structure exists: 'data/PSCDB/PDB_structures/pdb2iw2.ent' \n"
     ]
    },
    {
     "name": "stderr",
     "output_type": "stream",
     "text": [
      " 99%|█████████▉| 880/891 [09:26<00:02,  4.39it/s]"
     ]
    },
    {
     "name": "stdout",
     "output_type": "stream",
     "text": [
      "Structure exists: 'data/PSCDB/PDB_structures/pdb2okn.ent' \n",
      "Aligned 477 residues (Free: 477, Bound: 477, Excluded: 0)\n",
      "Structure exists: 'data/PSCDB/PDB_structures/pdb1ilw.ent' \n",
      "Structure exists: 'data/PSCDB/PDB_structures/pdb1im5.ent' \n",
      "Aligned 179 residues (Free: 179, Bound: 179, Excluded: 0)\n"
     ]
    },
    {
     "name": "stderr",
     "output_type": "stream",
     "text": [
      " 99%|█████████▉| 882/891 [09:26<00:01,  5.85it/s]"
     ]
    },
    {
     "name": "stdout",
     "output_type": "stream",
     "text": [
      "Structure exists: 'data/PSCDB/PDB_structures/pdb3bbe.ent' \n",
      "Structure exists: 'data/PSCDB/PDB_structures/pdb3bbh.ent' \n",
      "Aligned 204 residues (Free: 204, Bound: 204, Excluded: 0)\n",
      "Structure exists: 'data/PSCDB/PDB_structures/pdb1l5n.ent' \n",
      "Structure exists: 'data/PSCDB/PDB_structures/pdb1l5l.ent' \n"
     ]
    },
    {
     "name": "stderr",
     "output_type": "stream",
     "text": [
      " 99%|█████████▉| 883/891 [09:26<00:01,  5.90it/s]"
     ]
    },
    {
     "name": "stdout",
     "output_type": "stream",
     "text": [
      "Aligned 346 residues (Free: 346, Bound: 347, Excluded: 1)\n",
      "Structure exists: 'data/PSCDB/PDB_structures/pdb3bf7.ent' \n",
      "Structure exists: 'data/PSCDB/PDB_structures/pdb3bf8.ent' \n"
     ]
    },
    {
     "name": "stderr",
     "output_type": "stream",
     "text": [
      " 99%|█████████▉| 884/891 [09:26<00:01,  4.65it/s]"
     ]
    },
    {
     "name": "stdout",
     "output_type": "stream",
     "text": [
      "Aligned 255 residues (Free: 255, Bound: 255, Excluded: 0)\n",
      "Structure exists: 'data/PSCDB/PDB_structures/pdb1tzb.ent' \n",
      "Structure exists: 'data/PSCDB/PDB_structures/pdb1tzc.ent' \n"
     ]
    },
    {
     "name": "stderr",
     "output_type": "stream",
     "text": [
      " 99%|█████████▉| 885/891 [09:27<00:01,  4.65it/s]"
     ]
    },
    {
     "name": "stdout",
     "output_type": "stream",
     "text": [
      "Aligned 301 residues (Free: 301, Bound: 301, Excluded: 0)\n",
      "Structure exists: 'data/PSCDB/PDB_structures/pdb1oi2.ent' \n",
      "Structure exists: 'data/PSCDB/PDB_structures/pdb1uod.ent' \n"
     ]
    },
    {
     "name": "stderr",
     "output_type": "stream",
     "text": [
      " 99%|█████████▉| 886/891 [09:27<00:01,  4.51it/s]"
     ]
    },
    {
     "name": "stdout",
     "output_type": "stream",
     "text": [
      "Aligned 336 residues (Free: 336, Bound: 336, Excluded: 0)\n",
      "Structure exists: 'data/PSCDB/PDB_structures/pdb2dec.ent' \n",
      "Structure exists: 'data/PSCDB/PDB_structures/pdb2df8.ent' \n"
     ]
    },
    {
     "name": "stderr",
     "output_type": "stream",
     "text": [
      "100%|█████████▉| 889/891 [09:27<00:00,  5.36it/s]"
     ]
    },
    {
     "name": "stdout",
     "output_type": "stream",
     "text": [
      "Aligned 325 residues (Free: 325, Bound: 325, Excluded: 0)\n",
      "Structure exists: 'data/PSCDB/PDB_structures/pdb3bu9.ent' \n",
      "Structure exists: 'data/PSCDB/PDB_structures/pdb3bu1.ent' \n",
      "Aligned 140 residues (Free: 140, Bound: 144, Excluded: 4)\n",
      "Structure exists: 'data/PSCDB/PDB_structures/pdb2f8h.ent' \n",
      "Structure exists: 'data/PSCDB/PDB_structures/pdb2f7v.ent' \n",
      "Aligned 360 residues (Free: 360, Bound: 360, Excluded: 0)\n",
      "Structure exists: 'data/PSCDB/PDB_structures/pdb2qht.ent' \n"
     ]
    },
    {
     "name": "stderr",
     "output_type": "stream",
     "text": [
      "100%|██████████| 891/891 [09:28<00:00,  1.57it/s]"
     ]
    },
    {
     "name": "stdout",
     "output_type": "stream",
     "text": [
      "Structure exists: 'data/PSCDB/PDB_structures/pdb2qhv.ent' \n",
      "Aligned 210 residues (Free: 210, Bound: 210, Excluded: 0)\n",
      "Structure exists: 'data/PSCDB/PDB_structures/pdb1uj4.ent' \n",
      "Structure exists: 'data/PSCDB/PDB_structures/pdb1uj5.ent' \n",
      "Aligned 221 residues (Free: 221, Bound: 225, Excluded: 4)\n",
      "\n",
      "\n",
      "Built 856 valid graph pairs\n"
     ]
    },
    {
     "name": "stderr",
     "output_type": "stream",
     "text": [
      "\n"
     ]
    }
   ],
   "source": [
    "builder = ProteinPairGraphBuilder(threshold=5.0, data_path='data/PSCDB/PDB_structures')\n",
    "my_dataset = []\n",
    "\n",
    "for _, row in tqdm(df_parsed.iterrows(), total=len(df_parsed)):\n",
    "    data = builder.build_graph_pair(\n",
    "        row['Free PDB'],\n",
    "        row['Bound PDB'],\n",
    "        row['motion_type_int']\n",
    "    )\n",
    "    if data:\n",
    "        my_dataset.append(data)\n",
    "\n",
    "print(f\"\\n\\nBuilt {len(my_dataset)} valid graph pairs\")"
   ]
  },
  {
   "cell_type": "code",
   "execution_count": 9,
   "metadata": {},
   "outputs": [
    {
     "name": "stdout",
     "output_type": "stream",
     "text": [
      "One-hot Amino Acid: \n",
      "tensor([0., 0., 0., 0., 0., 0., 0., 0., 1., 0., 0., 0., 0., 0., 0., 0., 0., 0.,\n",
      "        0., 0.])\n",
      "Amino Acid Label: K\n",
      "Free Structure Amino Acid Coords (x, y, z):   tensor([-23.0000, -12.9500, -39.1070])\n",
      "Bound Structure Amino Acid Coords (x, y, z):  tensor([89.3800, 75.6730, 79.5710])\n",
      "Displacement Coords (Bound - Free) (x, y, z): tensor([112.3800,  88.6230, 118.6780])\n"
     ]
    }
   ],
   "source": [
    "print(f\"One-hot Amino Acid: \\n{my_dataset[0].x[0,:20]}\")\n",
    "print(f\"Amino Acid Label: {idx_to_aa[(my_dataset[0].x[0,:20]).argmax().item()]}\")\n",
    "print(f\"Free Structure Amino Acid Coords (x, y, z):   {my_dataset[0].x[0,20:23]}\")\n",
    "print(f\"Bound Structure Amino Acid Coords (x, y, z):  {my_dataset[0].x[0,23:26]}\")\n",
    "print(f\"Displacement Coords (Bound - Free) (x, y, z): {my_dataset[0].x[0,26:29]}\")\n"
   ]
  },
  {
   "cell_type": "code",
   "execution_count": 10,
   "metadata": {},
   "outputs": [],
   "source": [
    "for i in range(len(my_dataset)):\n",
    "    if not my_dataset[i].x.__len__() == my_dataset[i].x[:,:20].sum().item():\n",
    "        print(f\"Missing amino acid(s) in data point{i}\")"
   ]
  },
  {
   "cell_type": "code",
   "execution_count": 11,
   "metadata": {},
   "outputs": [
    {
     "data": {
      "text/plain": [
       "[Data(x=[317, 29], y=[1], edge_index_free=[2, 385], edge_index_bound=[2, 389], edge_index_union=[2, 408], pos_free=[317, 3], pos_bound=[317, 3]),\n",
       " Data(x=[214, 29], y=[1], edge_index_free=[2, 270], edge_index_bound=[2, 265], edge_index_union=[2, 294], pos_free=[214, 3], pos_bound=[214, 3]),\n",
       " Data(x=[314, 29], y=[1], edge_index_free=[2, 403], edge_index_bound=[2, 412], edge_index_union=[2, 427], pos_free=[314, 3], pos_bound=[314, 3]),\n",
       " Data(x=[691, 29], y=[1], edge_index_free=[2, 889], edge_index_bound=[2, 931], edge_index_union=[2, 979], pos_free=[691, 3], pos_bound=[691, 3]),\n",
       " Data(x=[429, 29], y=[1], edge_index_free=[2, 560], edge_index_bound=[2, 534], edge_index_union=[2, 608], pos_free=[429, 3], pos_bound=[429, 3])]"
      ]
     },
     "execution_count": 11,
     "metadata": {},
     "output_type": "execute_result"
    }
   ],
   "source": [
    "my_dataset[:5]"
   ]
  },
  {
   "cell_type": "code",
   "execution_count": 12,
   "metadata": {},
   "outputs": [],
   "source": [
    "torch.save(my_dataset, 'protein_motion_dataset.pt')"
   ]
  },
  {
   "cell_type": "code",
   "execution_count": 13,
   "metadata": {},
   "outputs": [
    {
     "data": {
      "text/plain": [
       "856"
      ]
     },
     "execution_count": 13,
     "metadata": {},
     "output_type": "execute_result"
    }
   ],
   "source": [
    "dataset = torch.load('protein_motion_dataset.pt', weights_only=False)\n",
    "len(dataset)"
   ]
  }
 ],
 "metadata": {
  "kernelspec": {
   "display_name": "ML_ENV",
   "language": "python",
   "name": "python3"
  },
  "language_info": {
   "codemirror_mode": {
    "name": "ipython",
    "version": 3
   },
   "file_extension": ".py",
   "mimetype": "text/x-python",
   "name": "python",
   "nbconvert_exporter": "python",
   "pygments_lexer": "ipython3",
   "version": "3.10.12"
  }
 },
 "nbformat": 4,
 "nbformat_minor": 2
}
