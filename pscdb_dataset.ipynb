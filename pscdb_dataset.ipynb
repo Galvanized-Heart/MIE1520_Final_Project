{
 "cells": [
  {
   "cell_type": "code",
   "execution_count": 1,
   "metadata": {},
   "outputs": [],
   "source": [
    "from tools.pscdb_dataset import ProteinPairGraphBuilder\n",
    "from tqdm import tqdm\n",
    "import pandas as pd\n",
    "import torch\n",
    "\n",
    "import warnings\n",
    "from Bio import BiopythonWarning\n",
    "warnings.filterwarnings(\"ignore\", category=BiopythonWarning)\n"
   ]
  },
  {
   "cell_type": "code",
   "execution_count": 2,
   "metadata": {},
   "outputs": [
    {
     "data": {
      "text/html": [
       "<div>\n",
       "<style scoped>\n",
       "    .dataframe tbody tr th:only-of-type {\n",
       "        vertical-align: middle;\n",
       "    }\n",
       "\n",
       "    .dataframe tbody tr th {\n",
       "        vertical-align: top;\n",
       "    }\n",
       "\n",
       "    .dataframe thead th {\n",
       "        text-align: right;\n",
       "    }\n",
       "</style>\n",
       "<table border=\"1\" class=\"dataframe\">\n",
       "  <thead>\n",
       "    <tr style=\"text-align: right;\">\n",
       "      <th></th>\n",
       "      <th>Unnamed: 0</th>\n",
       "      <th>level_0</th>\n",
       "      <th>index</th>\n",
       "      <th>PSCID</th>\n",
       "      <th>Protein Name</th>\n",
       "      <th>Free form</th>\n",
       "      <th>Bound form</th>\n",
       "      <th>Ligands</th>\n",
       "      <th>Classification(?)</th>\n",
       "      <th>motion_type</th>\n",
       "      <th>Free PDB</th>\n",
       "      <th>Free Chains</th>\n",
       "      <th>Bound PDB</th>\n",
       "      <th>Bound Chains</th>\n",
       "    </tr>\n",
       "  </thead>\n",
       "  <tbody>\n",
       "    <tr>\n",
       "      <th>0</th>\n",
       "      <td>0</td>\n",
       "      <td>0</td>\n",
       "      <td>0</td>\n",
       "      <td>CD.1</td>\n",
       "      <td>HYPOTHETICAL OXIDOREDUCTASE YIAK</td>\n",
       "      <td>1nxu_AB</td>\n",
       "      <td>1s20_AB</td>\n",
       "      <td>2xNAD,2xTLA</td>\n",
       "      <td>200004</td>\n",
       "      <td>coupled_domain_motion</td>\n",
       "      <td>1nxu</td>\n",
       "      <td>AB</td>\n",
       "      <td>1s20</td>\n",
       "      <td>AB</td>\n",
       "    </tr>\n",
       "    <tr>\n",
       "      <th>1</th>\n",
       "      <td>1</td>\n",
       "      <td>1</td>\n",
       "      <td>1</td>\n",
       "      <td>CD.2</td>\n",
       "      <td>ADENYLATE KINASE</td>\n",
       "      <td>4ake_A</td>\n",
       "      <td>2eck_A</td>\n",
       "      <td>ADP,AMP</td>\n",
       "      <td>200003</td>\n",
       "      <td>coupled_domain_motion</td>\n",
       "      <td>4ake</td>\n",
       "      <td>A</td>\n",
       "      <td>2eck</td>\n",
       "      <td>A</td>\n",
       "    </tr>\n",
       "    <tr>\n",
       "      <th>2</th>\n",
       "      <td>2</td>\n",
       "      <td>2</td>\n",
       "      <td>2</td>\n",
       "      <td>CD.3</td>\n",
       "      <td>GLUCOKINASE</td>\n",
       "      <td>1q18_AB</td>\n",
       "      <td>1sz2_AB</td>\n",
       "      <td>2xBGC</td>\n",
       "      <td>200003</td>\n",
       "      <td>coupled_domain_motion</td>\n",
       "      <td>1q18</td>\n",
       "      <td>AB</td>\n",
       "      <td>1sz2</td>\n",
       "      <td>AB</td>\n",
       "    </tr>\n",
       "    <tr>\n",
       "      <th>3</th>\n",
       "      <td>3</td>\n",
       "      <td>3</td>\n",
       "      <td>3</td>\n",
       "      <td>CD.4</td>\n",
       "      <td>LACTOFERRIN</td>\n",
       "      <td>1lfh_A</td>\n",
       "      <td>1lfi_A</td>\n",
       "      <td>2xCU,2xNAG</td>\n",
       "      <td>110103</td>\n",
       "      <td>coupled_domain_motion</td>\n",
       "      <td>1lfh</td>\n",
       "      <td>A</td>\n",
       "      <td>1lfi</td>\n",
       "      <td>A</td>\n",
       "    </tr>\n",
       "    <tr>\n",
       "      <th>4</th>\n",
       "      <td>4</td>\n",
       "      <td>4</td>\n",
       "      <td>4</td>\n",
       "      <td>CD.5</td>\n",
       "      <td>ELONGATION FACTOR 2</td>\n",
       "      <td>1n0v_D</td>\n",
       "      <td>1n0u_A</td>\n",
       "      <td>SO1</td>\n",
       "      <td>110002</td>\n",
       "      <td>coupled_domain_motion</td>\n",
       "      <td>1n0v</td>\n",
       "      <td>D</td>\n",
       "      <td>1n0u</td>\n",
       "      <td>A</td>\n",
       "    </tr>\n",
       "  </tbody>\n",
       "</table>\n",
       "</div>"
      ],
      "text/plain": [
       "   Unnamed: 0  level_0  index PSCID                      Protein Name  \\\n",
       "0           0        0      0  CD.1  HYPOTHETICAL OXIDOREDUCTASE YIAK   \n",
       "1           1        1      1  CD.2                  ADENYLATE KINASE   \n",
       "2           2        2      2  CD.3                       GLUCOKINASE   \n",
       "3           3        3      3  CD.4                       LACTOFERRIN   \n",
       "4           4        4      4  CD.5               ELONGATION FACTOR 2   \n",
       "\n",
       "  Free form Bound form      Ligands  Classification(?)            motion_type  \\\n",
       "0   1nxu_AB    1s20_AB  2xNAD,2xTLA             200004  coupled_domain_motion   \n",
       "1    4ake_A     2eck_A      ADP,AMP             200003  coupled_domain_motion   \n",
       "2   1q18_AB    1sz2_AB        2xBGC             200003  coupled_domain_motion   \n",
       "3    1lfh_A     1lfi_A   2xCU,2xNAG             110103  coupled_domain_motion   \n",
       "4    1n0v_D     1n0u_A          SO1             110002  coupled_domain_motion   \n",
       "\n",
       "  Free PDB Free Chains Bound PDB Bound Chains  \n",
       "0     1nxu          AB      1s20           AB  \n",
       "1     4ake           A      2eck            A  \n",
       "2     1q18          AB      1sz2           AB  \n",
       "3     1lfh           A      1lfi            A  \n",
       "4     1n0v           D      1n0u            A  "
      ]
     },
     "execution_count": 2,
     "metadata": {},
     "output_type": "execute_result"
    }
   ],
   "source": [
    "df = pd.read_csv('data/PSCDB/structural_rearrangement_data.csv')\n",
    "df.head()"
   ]
  },
  {
   "cell_type": "code",
   "execution_count": 3,
   "metadata": {},
   "outputs": [
    {
     "data": {
      "text/plain": [
       "(891, 14)"
      ]
     },
     "execution_count": 3,
     "metadata": {},
     "output_type": "execute_result"
    }
   ],
   "source": [
    "df.shape"
   ]
  },
  {
   "cell_type": "code",
   "execution_count": 4,
   "metadata": {},
   "outputs": [
    {
     "data": {
      "text/html": [
       "<div>\n",
       "<style scoped>\n",
       "    .dataframe tbody tr th:only-of-type {\n",
       "        vertical-align: middle;\n",
       "    }\n",
       "\n",
       "    .dataframe tbody tr th {\n",
       "        vertical-align: top;\n",
       "    }\n",
       "\n",
       "    .dataframe thead th {\n",
       "        text-align: right;\n",
       "    }\n",
       "</style>\n",
       "<table border=\"1\" class=\"dataframe\">\n",
       "  <thead>\n",
       "    <tr style=\"text-align: right;\">\n",
       "      <th></th>\n",
       "      <th>Free PDB</th>\n",
       "      <th>Bound PDB</th>\n",
       "      <th>motion_type</th>\n",
       "    </tr>\n",
       "  </thead>\n",
       "  <tbody>\n",
       "    <tr>\n",
       "      <th>0</th>\n",
       "      <td>1nxu</td>\n",
       "      <td>1s20</td>\n",
       "      <td>coupled_domain_motion</td>\n",
       "    </tr>\n",
       "    <tr>\n",
       "      <th>1</th>\n",
       "      <td>4ake</td>\n",
       "      <td>2eck</td>\n",
       "      <td>coupled_domain_motion</td>\n",
       "    </tr>\n",
       "    <tr>\n",
       "      <th>2</th>\n",
       "      <td>1q18</td>\n",
       "      <td>1sz2</td>\n",
       "      <td>coupled_domain_motion</td>\n",
       "    </tr>\n",
       "    <tr>\n",
       "      <th>3</th>\n",
       "      <td>1lfh</td>\n",
       "      <td>1lfi</td>\n",
       "      <td>coupled_domain_motion</td>\n",
       "    </tr>\n",
       "    <tr>\n",
       "      <th>4</th>\n",
       "      <td>1n0v</td>\n",
       "      <td>1n0u</td>\n",
       "      <td>coupled_domain_motion</td>\n",
       "    </tr>\n",
       "    <tr>\n",
       "      <th>...</th>\n",
       "      <td>...</td>\n",
       "      <td>...</td>\n",
       "      <td>...</td>\n",
       "    </tr>\n",
       "    <tr>\n",
       "      <th>886</th>\n",
       "      <td>2dec</td>\n",
       "      <td>2df8</td>\n",
       "      <td>other_motion</td>\n",
       "    </tr>\n",
       "    <tr>\n",
       "      <th>887</th>\n",
       "      <td>3bu9</td>\n",
       "      <td>3bu1</td>\n",
       "      <td>other_motion</td>\n",
       "    </tr>\n",
       "    <tr>\n",
       "      <th>888</th>\n",
       "      <td>2f8h</td>\n",
       "      <td>2f7v</td>\n",
       "      <td>other_motion</td>\n",
       "    </tr>\n",
       "    <tr>\n",
       "      <th>889</th>\n",
       "      <td>2qht</td>\n",
       "      <td>2qhv</td>\n",
       "      <td>other_motion</td>\n",
       "    </tr>\n",
       "    <tr>\n",
       "      <th>890</th>\n",
       "      <td>1uj4</td>\n",
       "      <td>1uj5</td>\n",
       "      <td>other_motion</td>\n",
       "    </tr>\n",
       "  </tbody>\n",
       "</table>\n",
       "<p>891 rows × 3 columns</p>\n",
       "</div>"
      ],
      "text/plain": [
       "    Free PDB Bound PDB            motion_type\n",
       "0       1nxu      1s20  coupled_domain_motion\n",
       "1       4ake      2eck  coupled_domain_motion\n",
       "2       1q18      1sz2  coupled_domain_motion\n",
       "3       1lfh      1lfi  coupled_domain_motion\n",
       "4       1n0v      1n0u  coupled_domain_motion\n",
       "..       ...       ...                    ...\n",
       "886     2dec      2df8           other_motion\n",
       "887     3bu9      3bu1           other_motion\n",
       "888     2f8h      2f7v           other_motion\n",
       "889     2qht      2qhv           other_motion\n",
       "890     1uj4      1uj5           other_motion\n",
       "\n",
       "[891 rows x 3 columns]"
      ]
     },
     "execution_count": 4,
     "metadata": {},
     "output_type": "execute_result"
    }
   ],
   "source": [
    "df_parsed = df[['Free PDB', 'Bound PDB', 'motion_type']]\n",
    "df_parsed"
   ]
  },
  {
   "cell_type": "code",
   "execution_count": 5,
   "metadata": {},
   "outputs": [
    {
     "name": "stderr",
     "output_type": "stream",
     "text": [
      "/tmp/ipykernel_47055/3995635854.py:2: SettingWithCopyWarning: \n",
      "A value is trying to be set on a copy of a slice from a DataFrame.\n",
      "Try using .loc[row_indexer,col_indexer] = value instead\n",
      "\n",
      "See the caveats in the documentation: https://pandas.pydata.org/pandas-docs/stable/user_guide/indexing.html#returning-a-view-versus-a-copy\n",
      "  df_parsed['motion_type'] = pd.Categorical(df_parsed['motion_type']).copy()\n",
      "/tmp/ipykernel_47055/3995635854.py:3: SettingWithCopyWarning: \n",
      "A value is trying to be set on a copy of a slice from a DataFrame.\n",
      "Try using .loc[row_indexer,col_indexer] = value instead\n",
      "\n",
      "See the caveats in the documentation: https://pandas.pydata.org/pandas-docs/stable/user_guide/indexing.html#returning-a-view-versus-a-copy\n",
      "  df_parsed['motion_type_int'] = df_parsed['motion_type'].cat.codes\n"
     ]
    },
    {
     "data": {
      "text/html": [
       "<div>\n",
       "<style scoped>\n",
       "    .dataframe tbody tr th:only-of-type {\n",
       "        vertical-align: middle;\n",
       "    }\n",
       "\n",
       "    .dataframe tbody tr th {\n",
       "        vertical-align: top;\n",
       "    }\n",
       "\n",
       "    .dataframe thead th {\n",
       "        text-align: right;\n",
       "    }\n",
       "</style>\n",
       "<table border=\"1\" class=\"dataframe\">\n",
       "  <thead>\n",
       "    <tr style=\"text-align: right;\">\n",
       "      <th></th>\n",
       "      <th>Free PDB</th>\n",
       "      <th>Bound PDB</th>\n",
       "      <th>motion_type</th>\n",
       "      <th>motion_type_int</th>\n",
       "    </tr>\n",
       "  </thead>\n",
       "  <tbody>\n",
       "    <tr>\n",
       "      <th>0</th>\n",
       "      <td>1nxu</td>\n",
       "      <td>1s20</td>\n",
       "      <td>coupled_domain_motion</td>\n",
       "      <td>1</td>\n",
       "    </tr>\n",
       "    <tr>\n",
       "      <th>1</th>\n",
       "      <td>4ake</td>\n",
       "      <td>2eck</td>\n",
       "      <td>coupled_domain_motion</td>\n",
       "      <td>1</td>\n",
       "    </tr>\n",
       "    <tr>\n",
       "      <th>2</th>\n",
       "      <td>1q18</td>\n",
       "      <td>1sz2</td>\n",
       "      <td>coupled_domain_motion</td>\n",
       "      <td>1</td>\n",
       "    </tr>\n",
       "    <tr>\n",
       "      <th>3</th>\n",
       "      <td>1lfh</td>\n",
       "      <td>1lfi</td>\n",
       "      <td>coupled_domain_motion</td>\n",
       "      <td>1</td>\n",
       "    </tr>\n",
       "    <tr>\n",
       "      <th>4</th>\n",
       "      <td>1n0v</td>\n",
       "      <td>1n0u</td>\n",
       "      <td>coupled_domain_motion</td>\n",
       "      <td>1</td>\n",
       "    </tr>\n",
       "  </tbody>\n",
       "</table>\n",
       "</div>"
      ],
      "text/plain": [
       "  Free PDB Bound PDB            motion_type  motion_type_int\n",
       "0     1nxu      1s20  coupled_domain_motion                1\n",
       "1     4ake      2eck  coupled_domain_motion                1\n",
       "2     1q18      1sz2  coupled_domain_motion                1\n",
       "3     1lfh      1lfi  coupled_domain_motion                1\n",
       "4     1n0v      1n0u  coupled_domain_motion                1"
      ]
     },
     "execution_count": 5,
     "metadata": {},
     "output_type": "execute_result"
    }
   ],
   "source": [
    "# Create int labels for motion_type\n",
    "df_parsed['motion_type'] = pd.Categorical(df_parsed['motion_type']).copy()\n",
    "df_parsed['motion_type_int'] = df_parsed['motion_type'].cat.codes\n",
    "\n",
    "# Mappings from int label to string label\n",
    "int_to_name = dict(enumerate(df_parsed['motion_type'].cat.categories))\n",
    "name_to_int = {v: k for k, v in int_to_name.items()}\n",
    "\n",
    "df_parsed.head()\n"
   ]
  },
  {
   "cell_type": "code",
   "execution_count": 6,
   "metadata": {},
   "outputs": [
    {
     "data": {
      "text/plain": [
       "{0: 'A',\n",
       " 1: 'C',\n",
       " 2: 'D',\n",
       " 3: 'E',\n",
       " 4: 'F',\n",
       " 5: 'G',\n",
       " 6: 'H',\n",
       " 7: 'I',\n",
       " 8: 'K',\n",
       " 9: 'L',\n",
       " 10: 'M',\n",
       " 11: 'N',\n",
       " 12: 'P',\n",
       " 13: 'Q',\n",
       " 14: 'R',\n",
       " 15: 'S',\n",
       " 16: 'T',\n",
       " 17: 'V',\n",
       " 18: 'W',\n",
       " 19: 'Y'}"
      ]
     },
     "execution_count": 6,
     "metadata": {},
     "output_type": "execute_result"
    }
   ],
   "source": [
    "three_to_one = {\n",
    "    'ALA': 'A', 'ARG': 'R', 'ASN': 'N', 'ASP': 'D',\n",
    "    'CYS': 'C', 'GLN': 'Q', 'GLU': 'E', 'GLY': 'G',\n",
    "    'HIS': 'H', 'ILE': 'I', 'LEU': 'L', 'LYS': 'K',\n",
    "    'MET': 'M', 'PHE': 'F', 'PRO': 'P', 'SER': 'S',\n",
    "    'THR': 'T', 'TRP': 'W', 'TYR': 'Y', 'VAL': 'V'\n",
    "}\n",
    "amino_acids = sorted(three_to_one.values())  # Sorted alphabetically\n",
    "idx_to_aa = {i: aa for i, aa in enumerate(amino_acids)}\n",
    "idx_to_aa"
   ]
  },
  {
   "cell_type": "code",
   "execution_count": 7,
   "metadata": {},
   "outputs": [
    {
     "name": "stderr",
     "output_type": "stream",
     "text": [
      "  0%|          | 0/891 [00:00<?, ?it/s]"
     ]
    },
    {
     "name": "stdout",
     "output_type": "stream",
     "text": [
      "Downloading PDB structure '1nxu'...\n",
      "Downloading PDB structure '1s20'...\n"
     ]
    },
    {
     "name": "stderr",
     "output_type": "stream",
     "text": [
      "  0%|          | 1/891 [00:01<25:20,  1.71s/it]"
     ]
    },
    {
     "name": "stdout",
     "output_type": "stream",
     "text": [
      "Aligned 317 residues (Free: 317, Bound: 319, Excluded: 2)\n",
      "Downloading PDB structure '4ake'...\n",
      "Downloading PDB structure '2eck'...\n"
     ]
    },
    {
     "name": "stderr",
     "output_type": "stream",
     "text": [
      "  0%|          | 2/891 [00:02<19:04,  1.29s/it]"
     ]
    },
    {
     "name": "stdout",
     "output_type": "stream",
     "text": [
      "Aligned 214 residues (Free: 214, Bound: 214, Excluded: 0)\n",
      "Downloading PDB structure '1q18'...\n",
      "Downloading PDB structure '1sz2'...\n"
     ]
    },
    {
     "name": "stderr",
     "output_type": "stream",
     "text": [
      "  0%|          | 3/891 [00:03<18:07,  1.22s/it]"
     ]
    },
    {
     "name": "stdout",
     "output_type": "stream",
     "text": [
      "Aligned 314 residues (Free: 315, Bound: 314, Excluded: 1)\n",
      "Downloading PDB structure '1lfh'...\n",
      "Downloading PDB structure '1lfi'...\n"
     ]
    },
    {
     "name": "stderr",
     "output_type": "stream",
     "text": [
      "  0%|          | 4/891 [00:05<19:10,  1.30s/it]"
     ]
    },
    {
     "name": "stdout",
     "output_type": "stream",
     "text": [
      "Aligned 691 residues (Free: 691, Bound: 691, Excluded: 0)\n",
      "Downloading PDB structure '1n0v'...\n",
      "Downloading PDB structure '1n0u'...\n"
     ]
    },
    {
     "name": "stderr",
     "output_type": "stream",
     "text": [
      "  1%|          | 5/891 [00:06<18:54,  1.28s/it]"
     ]
    },
    {
     "name": "stdout",
     "output_type": "stream",
     "text": [
      "No common residues between 1n0v and 1n0u\n",
      "Downloading PDB structure '5csc'...\n",
      "Downloading PDB structure '6cts'...\n"
     ]
    },
    {
     "name": "stderr",
     "output_type": "stream",
     "text": [
      "  1%|          | 6/891 [00:07<17:57,  1.22s/it]"
     ]
    },
    {
     "name": "stdout",
     "output_type": "stream",
     "text": [
      "Aligned 429 residues (Free: 429, Bound: 429, Excluded: 0)\n",
      "Downloading PDB structure '2p0m'...\n",
      "Structure exists: 'data/PSCDB/PDB_structures/pdb2p0m.ent' \n",
      "Aligned 662 residues (Free: 662, Bound: 662, Excluded: 0)\n"
     ]
    },
    {
     "name": "stderr",
     "output_type": "stream",
     "text": [
      "  1%|          | 7/891 [00:08<17:11,  1.17s/it]"
     ]
    },
    {
     "name": "stdout",
     "output_type": "stream",
     "text": [
      "Downloading PDB structure '3cze'...\n",
      "Downloading PDB structure '3czk'...\n"
     ]
    },
    {
     "name": "stderr",
     "output_type": "stream",
     "text": [
      "  1%|          | 8/891 [00:09<17:28,  1.19s/it]"
     ]
    },
    {
     "name": "stdout",
     "output_type": "stream",
     "text": [
      "Aligned 587 residues (Free: 587, Bound: 618, Excluded: 31)\n",
      "Downloading PDB structure '2bjb'...\n",
      "Downloading PDB structure '2o0d'...\n"
     ]
    },
    {
     "name": "stderr",
     "output_type": "stream",
     "text": [
      "  1%|          | 9/891 [00:11<17:38,  1.20s/it]"
     ]
    },
    {
     "name": "stdout",
     "output_type": "stream",
     "text": [
      "Aligned 421 residues (Free: 421, Bound: 424, Excluded: 3)\n",
      "Downloading PDB structure '2ex0'...\n",
      "Downloading PDB structure '2ihz'...\n"
     ]
    },
    {
     "name": "stderr",
     "output_type": "stream",
     "text": [
      "  1%|          | 10/891 [00:12<17:11,  1.17s/it]"
     ]
    },
    {
     "name": "stdout",
     "output_type": "stream",
     "text": [
      "Aligned 379 residues (Free: 392, Bound: 379, Excluded: 13)\n",
      "Downloading PDB structure '1oen'...\n",
      "Downloading PDB structure '2olr'...\n"
     ]
    },
    {
     "name": "stderr",
     "output_type": "stream",
     "text": [
      "  1%|          | 11/891 [00:13<16:32,  1.13s/it]"
     ]
    },
    {
     "name": "stdout",
     "output_type": "stream",
     "text": [
      "Aligned 524 residues (Free: 524, Bound: 535, Excluded: 11)\n",
      "Downloading PDB structure '2car'...\n",
      "Downloading PDB structure '2j4e'...\n"
     ]
    },
    {
     "name": "stderr",
     "output_type": "stream",
     "text": [
      "  1%|▏         | 12/891 [00:14<18:38,  1.27s/it]"
     ]
    },
    {
     "name": "stdout",
     "output_type": "stream",
     "text": [
      "Aligned 184 residues (Free: 196, Bound: 184, Excluded: 12)\n",
      "Downloading PDB structure '2pry'...\n",
      "Downloading PDB structure '2prz'...\n"
     ]
    },
    {
     "name": "stderr",
     "output_type": "stream",
     "text": [
      "  1%|▏         | 13/891 [00:15<17:08,  1.17s/it]"
     ]
    },
    {
     "name": "stdout",
     "output_type": "stream",
     "text": [
      "Aligned 212 residues (Free: 215, Bound: 215, Excluded: 6)\n",
      "Downloading PDB structure '1d2r'...\n",
      "Downloading PDB structure '1m83'...\n"
     ]
    },
    {
     "name": "stderr",
     "output_type": "stream",
     "text": [
      "  2%|▏         | 14/891 [00:17<17:31,  1.20s/it]"
     ]
    },
    {
     "name": "stdout",
     "output_type": "stream",
     "text": [
      "Aligned 326 residues (Free: 326, Bound: 328, Excluded: 2)\n",
      "Downloading PDB structure '2gg4'...\n",
      "Downloading PDB structure '2pqc'...\n"
     ]
    },
    {
     "name": "stderr",
     "output_type": "stream",
     "text": [
      "  2%|▏         | 15/891 [00:18<16:38,  1.14s/it]"
     ]
    },
    {
     "name": "stdout",
     "output_type": "stream",
     "text": [
      "Aligned 443 residues (Free: 443, Bound: 445, Excluded: 2)\n",
      "Downloading PDB structure '1gqz'...\n",
      "Downloading PDB structure '2gke'...\n"
     ]
    },
    {
     "name": "stderr",
     "output_type": "stream",
     "text": [
      "  2%|▏         | 16/891 [00:19<16:24,  1.12s/it]"
     ]
    },
    {
     "name": "stdout",
     "output_type": "stream",
     "text": [
      "Aligned 274 residues (Free: 274, Bound: 274, Excluded: 0)\n",
      "Downloading PDB structure '1qzt'...\n",
      "Downloading PDB structure '2af3'...\n"
     ]
    },
    {
     "name": "stderr",
     "output_type": "stream",
     "text": [
      "  2%|▏         | 17/891 [00:20<17:58,  1.23s/it]"
     ]
    },
    {
     "name": "stdout",
     "output_type": "stream",
     "text": [
      "No common residues between 1qzt and 2af3\n",
      "Downloading PDB structure '1pn2'...\n",
      "Downloading PDB structure '1pn4'...\n"
     ]
    },
    {
     "name": "stderr",
     "output_type": "stream",
     "text": [
      "  2%|▏         | 18/891 [00:21<18:26,  1.27s/it]"
     ]
    },
    {
     "name": "stdout",
     "output_type": "stream",
     "text": [
      "Aligned 268 residues (Free: 269, Bound: 272, Excluded: 5)\n",
      "Downloading PDB structure '2nrb'...\n",
      "Downloading PDB structure '1o9l'...\n"
     ]
    },
    {
     "name": "stderr",
     "output_type": "stream",
     "text": [
      "  2%|▏         | 19/891 [00:23<19:26,  1.34s/it]"
     ]
    },
    {
     "name": "stdout",
     "output_type": "stream",
     "text": [
      "Aligned 415 residues (Free: 467, Bound: 468, Excluded: 105)\n",
      "Downloading PDB structure '1t8p'...\n",
      "Downloading PDB structure '2h4z'...\n"
     ]
    },
    {
     "name": "stderr",
     "output_type": "stream",
     "text": [
      "  2%|▏         | 20/891 [00:24<18:02,  1.24s/it]"
     ]
    },
    {
     "name": "stdout",
     "output_type": "stream",
     "text": [
      "Aligned 249 residues (Free: 249, Bound: 255, Excluded: 6)\n",
      "Downloading PDB structure '1vh3'...\n"
     ]
    },
    {
     "name": "stderr",
     "output_type": "stream",
     "text": [
      "  2%|▏         | 21/891 [00:25<15:44,  1.09s/it]"
     ]
    },
    {
     "name": "stdout",
     "output_type": "stream",
     "text": [
      "Structure exists: 'data/PSCDB/PDB_structures/pdb1vh3.ent' \n",
      "Aligned 207 residues (Free: 207, Bound: 207, Excluded: 0)\n",
      "Downloading PDB structure '2gca'...\n",
      "Downloading PDB structure '1jbw'...\n"
     ]
    },
    {
     "name": "stderr",
     "output_type": "stream",
     "text": [
      "  2%|▏         | 22/891 [00:26<16:19,  1.13s/it]"
     ]
    },
    {
     "name": "stdout",
     "output_type": "stream",
     "text": [
      "Aligned 405 residues (Free: 410, Bound: 409, Excluded: 9)\n",
      "Downloading PDB structure '1yz5'...\n",
      "Downloading PDB structure '1ywt'...\n"
     ]
    },
    {
     "name": "stderr",
     "output_type": "stream",
     "text": [
      "  3%|▎         | 23/891 [00:27<15:49,  1.09s/it]"
     ]
    },
    {
     "name": "stdout",
     "output_type": "stream",
     "text": [
      "Aligned 220 residues (Free: 223, Bound: 223, Excluded: 6)\n",
      "Downloading PDB structure '1y2q'...\n",
      "Downloading PDB structure '2hl0'...\n"
     ]
    },
    {
     "name": "stderr",
     "output_type": "stream",
     "text": [
      "  3%|▎         | 24/891 [00:28<14:40,  1.02s/it]"
     ]
    },
    {
     "name": "stdout",
     "output_type": "stream",
     "text": [
      "Aligned 143 residues (Free: 143, Bound: 143, Excluded: 0)\n",
      "Downloading PDB structure '2e2n'...\n",
      "Downloading PDB structure '2e2o'...\n"
     ]
    },
    {
     "name": "stderr",
     "output_type": "stream",
     "text": [
      "  3%|▎         | 25/891 [00:29<14:30,  1.00s/it]"
     ]
    },
    {
     "name": "stdout",
     "output_type": "stream",
     "text": [
      "Aligned 298 residues (Free: 298, Bound: 299, Excluded: 1)\n",
      "Downloading PDB structure '1sjs'...\n",
      "Downloading PDB structure '1pb1'...\n"
     ]
    },
    {
     "name": "stderr",
     "output_type": "stream",
     "text": [
      "  3%|▎         | 26/891 [00:30<14:27,  1.00s/it]"
     ]
    },
    {
     "name": "stdout",
     "output_type": "stream",
     "text": [
      "Aligned 415 residues (Free: 415, Bound: 416, Excluded: 1)\n",
      "Downloading PDB structure '1xk7'...\n",
      "Downloading PDB structure '1xvt'...\n"
     ]
    },
    {
     "name": "stderr",
     "output_type": "stream",
     "text": [
      "  3%|▎         | 27/891 [00:31<15:48,  1.10s/it]"
     ]
    },
    {
     "name": "stdout",
     "output_type": "stream",
     "text": [
      "Aligned 386 residues (Free: 390, Bound: 386, Excluded: 4)\n",
      "Downloading PDB structure '2f7m'...\n",
      "Downloading PDB structure '2f8z'...\n"
     ]
    },
    {
     "name": "stderr",
     "output_type": "stream",
     "text": [
      "  3%|▎         | 28/891 [00:32<14:49,  1.03s/it]"
     ]
    },
    {
     "name": "stdout",
     "output_type": "stream",
     "text": [
      "Aligned 341 residues (Free: 341, Bound: 346, Excluded: 5)\n",
      "Downloading PDB structure '2znd'...\n",
      "Downloading PDB structure '2zn9'...\n"
     ]
    },
    {
     "name": "stderr",
     "output_type": "stream",
     "text": [
      "  3%|▎         | 29/891 [00:33<13:42,  1.05it/s]"
     ]
    },
    {
     "name": "stdout",
     "output_type": "stream",
     "text": [
      "Aligned 165 residues (Free: 167, Bound: 169, Excluded: 6)\n",
      "Downloading PDB structure '1x0a'...\n",
      "Downloading PDB structure '1vbi'...\n"
     ]
    },
    {
     "name": "stderr",
     "output_type": "stream",
     "text": [
      "  3%|▎         | 30/891 [00:34<12:52,  1.12it/s]"
     ]
    },
    {
     "name": "stdout",
     "output_type": "stream",
     "text": [
      "Aligned 340 residues (Free: 344, Bound: 340, Excluded: 4)\n",
      "Downloading PDB structure '1oid'...\n",
      "Downloading PDB structure '1ho5'...\n"
     ]
    },
    {
     "name": "stderr",
     "output_type": "stream",
     "text": [
      "  3%|▎         | 31/891 [00:35<15:26,  1.08s/it]"
     ]
    },
    {
     "name": "stdout",
     "output_type": "stream",
     "text": [
      "Aligned 525 residues (Free: 525, Bound: 525, Excluded: 0)\n",
      "Downloading PDB structure '3d8r'...\n",
      "Downloading PDB structure '3d8n'...\n"
     ]
    },
    {
     "name": "stderr",
     "output_type": "stream",
     "text": [
      "  4%|▎         | 32/891 [00:36<15:28,  1.08s/it]"
     ]
    },
    {
     "name": "stdout",
     "output_type": "stream",
     "text": [
      "Aligned 250 residues (Free: 253, Bound: 250, Excluded: 3)\n",
      "Downloading PDB structure '1zty'...\n",
      "Downloading PDB structure '1zu0'...\n"
     ]
    },
    {
     "name": "stderr",
     "output_type": "stream",
     "text": [
      "  4%|▎         | 33/891 [00:37<16:12,  1.13s/it]"
     ]
    },
    {
     "name": "stdout",
     "output_type": "stream",
     "text": [
      "Aligned 528 residues (Free: 528, Bound: 529, Excluded: 1)\n",
      "Downloading PDB structure '1z15'...\n",
      "Downloading PDB structure '1z17'...\n"
     ]
    },
    {
     "name": "stderr",
     "output_type": "stream",
     "text": [
      "  4%|▍         | 34/891 [00:38<14:50,  1.04s/it]"
     ]
    },
    {
     "name": "stdout",
     "output_type": "stream",
     "text": [
      "Aligned 344 residues (Free: 344, Bound: 344, Excluded: 0)\n",
      "Downloading PDB structure '1l5t'...\n",
      "Downloading PDB structure '1lct'...\n"
     ]
    },
    {
     "name": "stderr",
     "output_type": "stream",
     "text": [
      "  4%|▍         | 35/891 [00:39<14:52,  1.04s/it]"
     ]
    },
    {
     "name": "stdout",
     "output_type": "stream",
     "text": [
      "Aligned 324 residues (Free: 329, Bound: 324, Excluded: 5)\n",
      "Downloading PDB structure '2ghb'...\n",
      "Downloading PDB structure '2gha'...\n"
     ]
    },
    {
     "name": "stderr",
     "output_type": "stream",
     "text": [
      "  4%|▍         | 36/891 [00:41<16:29,  1.16s/it]"
     ]
    },
    {
     "name": "stdout",
     "output_type": "stream",
     "text": [
      "Aligned 373 residues (Free: 373, Bound: 374, Excluded: 1)\n",
      "Downloading PDB structure '2uvg'...\n",
      "Downloading PDB structure '2uvi'...\n"
     ]
    },
    {
     "name": "stderr",
     "output_type": "stream",
     "text": [
      "  4%|▍         | 37/891 [00:42<16:41,  1.17s/it]"
     ]
    },
    {
     "name": "stdout",
     "output_type": "stream",
     "text": [
      "Aligned 401 residues (Free: 401, Bound: 404, Excluded: 3)\n",
      "Downloading PDB structure '2c00'...\n",
      "Downloading PDB structure '2vqd'...\n"
     ]
    },
    {
     "name": "stderr",
     "output_type": "stream",
     "text": [
      "  4%|▍         | 38/891 [00:43<16:32,  1.16s/it]"
     ]
    },
    {
     "name": "stdout",
     "output_type": "stream",
     "text": [
      "Aligned 440 residues (Free: 440, Bound: 447, Excluded: 7)\n",
      "Downloading PDB structure '1zkb'...\n",
      "Downloading PDB structure '1jvy'...\n"
     ]
    },
    {
     "name": "stderr",
     "output_type": "stream",
     "text": [
      "  4%|▍         | 39/891 [00:44<15:38,  1.10s/it]"
     ]
    },
    {
     "name": "stdout",
     "output_type": "stream",
     "text": [
      "Aligned 368 residues (Free: 370, Bound: 369, Excluded: 3)\n",
      "Downloading PDB structure '1ex6'...\n",
      "Downloading PDB structure '1gky'...\n"
     ]
    },
    {
     "name": "stderr",
     "output_type": "stream",
     "text": [
      "  4%|▍         | 40/891 [00:45<14:42,  1.04s/it]"
     ]
    },
    {
     "name": "stdout",
     "output_type": "stream",
     "text": [
      "Aligned 186 residues (Free: 186, Bound: 186, Excluded: 0)\n",
      "Downloading PDB structure '3c6q'...\n"
     ]
    },
    {
     "name": "stderr",
     "output_type": "stream",
     "text": [
      "  5%|▍         | 41/891 [00:46<14:11,  1.00s/it]"
     ]
    },
    {
     "name": "stdout",
     "output_type": "stream",
     "text": [
      "Structure exists: 'data/PSCDB/PDB_structures/pdb3c6q.ent' \n",
      "Aligned 305 residues (Free: 305, Bound: 305, Excluded: 0)\n",
      "Downloading PDB structure '2q5r'...\n",
      "Downloading PDB structure '2jg1'...\n"
     ]
    },
    {
     "name": "stderr",
     "output_type": "stream",
     "text": [
      "  5%|▍         | 42/891 [00:47<15:37,  1.10s/it]"
     ]
    },
    {
     "name": "stdout",
     "output_type": "stream",
     "text": [
      "Aligned 314 residues (Free: 316, Bound: 314, Excluded: 2)\n",
      "Downloading PDB structure '1lio'...\n",
      "Downloading PDB structure '1lii'...\n"
     ]
    },
    {
     "name": "stderr",
     "output_type": "stream",
     "text": [
      "  5%|▍         | 43/891 [00:48<14:53,  1.05s/it]"
     ]
    },
    {
     "name": "stdout",
     "output_type": "stream",
     "text": [
      "Aligned 328 residues (Free: 329, Bound: 331, Excluded: 4)\n",
      "Downloading PDB structure '1xgd'...\n",
      "Downloading PDB structure '1ef3'...\n"
     ]
    },
    {
     "name": "stderr",
     "output_type": "stream",
     "text": [
      "  5%|▍         | 44/891 [00:49<14:16,  1.01s/it]"
     ]
    },
    {
     "name": "stdout",
     "output_type": "stream",
     "text": [
      "Aligned 315 residues (Free: 315, Bound: 315, Excluded: 0)\n",
      "Downloading PDB structure '2brw'...\n",
      "Downloading PDB structure '1ojp'...\n"
     ]
    },
    {
     "name": "stderr",
     "output_type": "stream",
     "text": [
      "  5%|▌         | 45/891 [00:51<16:50,  1.19s/it]"
     ]
    },
    {
     "name": "stdout",
     "output_type": "stream",
     "text": [
      "Aligned 721 residues (Free: 721, Bound: 722, Excluded: 1)\n",
      "Downloading PDB structure '1jej'...\n",
      "Downloading PDB structure '1qkj'...\n"
     ]
    },
    {
     "name": "stderr",
     "output_type": "stream",
     "text": [
      "  5%|▌         | 46/891 [00:52<19:50,  1.41s/it]"
     ]
    },
    {
     "name": "stdout",
     "output_type": "stream",
     "text": [
      "Aligned 351 residues (Free: 351, Bound: 351, Excluded: 0)\n",
      "Downloading PDB structure '2cgk'...\n",
      "Downloading PDB structure '2uyt'...\n"
     ]
    },
    {
     "name": "stderr",
     "output_type": "stream",
     "text": [
      "  5%|▌         | 47/891 [00:54<18:41,  1.33s/it]"
     ]
    },
    {
     "name": "stdout",
     "output_type": "stream",
     "text": [
      "Aligned 478 residues (Free: 478, Bound: 479, Excluded: 1)\n",
      "Downloading PDB structure '1a48'...\n",
      "Downloading PDB structure '2cnq'...\n"
     ]
    },
    {
     "name": "stderr",
     "output_type": "stream",
     "text": [
      "  5%|▌         | 48/891 [00:55<17:40,  1.26s/it]"
     ]
    },
    {
     "name": "stdout",
     "output_type": "stream",
     "text": [
      "Aligned 297 residues (Free: 298, Bound: 301, Excluded: 5)\n",
      "Downloading PDB structure '2qrj'...\n",
      "Downloading PDB structure '2qrl'...\n"
     ]
    },
    {
     "name": "stderr",
     "output_type": "stream",
     "text": [
      "  5%|▌         | 49/891 [00:56<16:53,  1.20s/it]"
     ]
    },
    {
     "name": "stdout",
     "output_type": "stream",
     "text": [
      "Aligned 365 residues (Free: 365, Bound: 371, Excluded: 6)\n",
      "Downloading PDB structure '2ous'...\n",
      "Downloading PDB structure '2ouu'...\n"
     ]
    },
    {
     "name": "stderr",
     "output_type": "stream",
     "text": [
      "  6%|▌         | 50/891 [00:57<16:32,  1.18s/it]"
     ]
    },
    {
     "name": "stdout",
     "output_type": "stream",
     "text": [
      "Aligned 326 residues (Free: 326, Bound: 329, Excluded: 3)\n",
      "Downloading PDB structure '1fwl'...\n",
      "Downloading PDB structure '1h72'...\n"
     ]
    },
    {
     "name": "stderr",
     "output_type": "stream",
     "text": [
      "  6%|▌         | 51/891 [00:58<15:47,  1.13s/it]"
     ]
    },
    {
     "name": "stdout",
     "output_type": "stream",
     "text": [
      "No common residues between 1fwl and 1h72\n",
      "Downloading PDB structure '1yhk'...\n",
      "Downloading PDB structure '1yhm'...\n"
     ]
    },
    {
     "name": "stderr",
     "output_type": "stream",
     "text": [
      "  6%|▌         | 52/891 [00:59<16:15,  1.16s/it]"
     ]
    },
    {
     "name": "stdout",
     "output_type": "stream",
     "text": [
      "Aligned 345 residues (Free: 360, Bound: 347, Excluded: 17)\n",
      "Downloading PDB structure '1eym'...\n",
      "Downloading PDB structure '1j4r'...\n"
     ]
    },
    {
     "name": "stderr",
     "output_type": "stream",
     "text": [
      "  6%|▌         | 53/891 [01:00<14:34,  1.04s/it]"
     ]
    },
    {
     "name": "stdout",
     "output_type": "stream",
     "text": [
      "Aligned 107 residues (Free: 107, Bound: 107, Excluded: 0)\n",
      "Downloading PDB structure '1meo'...\n",
      "Downloading PDB structure '1rby'...\n"
     ]
    },
    {
     "name": "stderr",
     "output_type": "stream",
     "text": [
      "  6%|▌         | 54/891 [01:01<14:58,  1.07s/it]"
     ]
    },
    {
     "name": "stdout",
     "output_type": "stream",
     "text": [
      "Aligned 197 residues (Free: 202, Bound: 200, Excluded: 8)\n",
      "Downloading PDB structure '2q50'...\n",
      "Downloading PDB structure '2gcg'...\n"
     ]
    },
    {
     "name": "stderr",
     "output_type": "stream",
     "text": [
      "  6%|▌         | 55/891 [01:04<23:27,  1.68s/it]"
     ]
    },
    {
     "name": "stdout",
     "output_type": "stream",
     "text": [
      "Aligned 316 residues (Free: 316, Bound: 324, Excluded: 8)\n",
      "Downloading PDB structure '1yj4'...\n",
      "Downloading PDB structure '1yyr'...\n"
     ]
    },
    {
     "name": "stderr",
     "output_type": "stream",
     "text": [
      "  6%|▋         | 56/891 [01:06<23:06,  1.66s/it]"
     ]
    },
    {
     "name": "stdout",
     "output_type": "stream",
     "text": [
      "Aligned 353 residues (Free: 354, Bound: 353, Excluded: 1)\n",
      "Downloading PDB structure '2cbi'...\n",
      "Downloading PDB structure '2j62'...\n",
      "Aligned 584 residues (Free: 584, Bound: 585, Excluded: 1)\n"
     ]
    },
    {
     "name": "stderr",
     "output_type": "stream",
     "text": [
      "  6%|▋         | 57/891 [01:07<23:02,  1.66s/it]"
     ]
    },
    {
     "name": "stdout",
     "output_type": "stream",
     "text": [
      "Downloading PDB structure '1sbq'...\n",
      "Downloading PDB structure '1u3g'...\n"
     ]
    },
    {
     "name": "stderr",
     "output_type": "stream",
     "text": [
      "  7%|▋         | 58/891 [01:08<19:20,  1.39s/it]"
     ]
    },
    {
     "name": "stdout",
     "output_type": "stream",
     "text": [
      "Aligned 164 residues (Free: 164, Bound: 164, Excluded: 0)\n",
      "Downloading PDB structure '1g7r'...\n",
      "Downloading PDB structure '1g7t'...\n"
     ]
    },
    {
     "name": "stderr",
     "output_type": "stream",
     "text": [
      "  7%|▋         | 59/891 [01:09<18:03,  1.30s/it]"
     ]
    },
    {
     "name": "stdout",
     "output_type": "stream",
     "text": [
      "Aligned 537 residues (Free: 542, Bound: 569, Excluded: 37)\n",
      "Downloading PDB structure '1bbw'...\n",
      "Downloading PDB structure '1bbu'...\n"
     ]
    },
    {
     "name": "stderr",
     "output_type": "stream",
     "text": [
      "  7%|▋         | 60/891 [01:10<16:57,  1.22s/it]"
     ]
    },
    {
     "name": "stdout",
     "output_type": "stream",
     "text": [
      "Aligned 469 residues (Free: 469, Bound: 486, Excluded: 17)\n",
      "Downloading PDB structure '1h4v'...\n",
      "Downloading PDB structure '1ady'...\n"
     ]
    },
    {
     "name": "stderr",
     "output_type": "stream",
     "text": [
      "  7%|▋         | 61/891 [01:12<17:29,  1.26s/it]"
     ]
    },
    {
     "name": "stdout",
     "output_type": "stream",
     "text": [
      "No common residues between 1h4v and 1ady\n",
      "Downloading PDB structure '2olu'...\n",
      "Downloading PDB structure '2olv'...\n"
     ]
    },
    {
     "name": "stderr",
     "output_type": "stream",
     "text": [
      "  7%|▋         | 62/891 [01:13<17:33,  1.27s/it]"
     ]
    },
    {
     "name": "stdout",
     "output_type": "stream",
     "text": [
      "Aligned 591 residues (Free: 596, Bound: 605, Excluded: 19)\n",
      "Downloading PDB structure '2ns7'...\n",
      "Downloading PDB structure '2ns8'...\n"
     ]
    },
    {
     "name": "stderr",
     "output_type": "stream",
     "text": [
      "  7%|▋         | 63/891 [01:14<16:51,  1.22s/it]"
     ]
    },
    {
     "name": "stdout",
     "output_type": "stream",
     "text": [
      "Aligned 192 residues (Free: 196, Bound: 200, Excluded: 12)\n",
      "Downloading PDB structure '1o17'...\n",
      "Downloading PDB structure '1zxy'...\n"
     ]
    },
    {
     "name": "stderr",
     "output_type": "stream",
     "text": [
      "  7%|▋         | 64/891 [01:16<18:38,  1.35s/it]"
     ]
    },
    {
     "name": "stdout",
     "output_type": "stream",
     "text": [
      "Aligned 339 residues (Free: 339, Bound: 344, Excluded: 5)\n",
      "Downloading PDB structure '1z9u'...\n",
      "Downloading PDB structure '1s7n'...\n"
     ]
    },
    {
     "name": "stderr",
     "output_type": "stream",
     "text": [
      "  7%|▋         | 65/891 [01:17<17:11,  1.25s/it]"
     ]
    },
    {
     "name": "stdout",
     "output_type": "stream",
     "text": [
      "Aligned 172 residues (Free: 172, Bound: 177, Excluded: 5)\n",
      "Downloading PDB structure '2hni'...\n",
      "Downloading PDB structure '2dth'...\n"
     ]
    },
    {
     "name": "stderr",
     "output_type": "stream",
     "text": [
      "  7%|▋         | 66/891 [01:18<16:18,  1.19s/it]"
     ]
    },
    {
     "name": "stdout",
     "output_type": "stream",
     "text": [
      "Aligned 230 residues (Free: 230, Bound: 235, Excluded: 5)\n",
      "Downloading PDB structure '1e0d'...\n",
      "Downloading PDB structure '1eeh'...\n"
     ]
    },
    {
     "name": "stderr",
     "output_type": "stream",
     "text": [
      "  8%|▊         | 67/891 [01:19<15:40,  1.14s/it]"
     ]
    },
    {
     "name": "stdout",
     "output_type": "stream",
     "text": [
      "Aligned 423 residues (Free: 429, Bound: 431, Excluded: 14)\n",
      "Downloading PDB structure '1ynf'...\n",
      "Downloading PDB structure '1ynh'...\n"
     ]
    },
    {
     "name": "stderr",
     "output_type": "stream",
     "text": [
      "  8%|▊         | 68/891 [01:21<18:35,  1.36s/it]"
     ]
    },
    {
     "name": "stdout",
     "output_type": "stream",
     "text": [
      "Aligned 419 residues (Free: 420, Bound: 439, Excluded: 21)\n",
      "Downloading PDB structure '1vgt'...\n",
      "Downloading PDB structure '1i52'...\n"
     ]
    },
    {
     "name": "stderr",
     "output_type": "stream",
     "text": [
      "  8%|▊         | 69/891 [01:22<17:04,  1.25s/it]"
     ]
    },
    {
     "name": "stdout",
     "output_type": "stream",
     "text": [
      "Aligned 207 residues (Free: 207, Bound: 225, Excluded: 18)\n",
      "Downloading PDB structure '2nxc'...\n",
      "Downloading PDB structure '2nxe'...\n"
     ]
    },
    {
     "name": "stderr",
     "output_type": "stream",
     "text": [
      "  8%|▊         | 70/891 [01:22<14:41,  1.07s/it]"
     ]
    },
    {
     "name": "stdout",
     "output_type": "stream",
     "text": [
      "Aligned 249 residues (Free: 249, Bound: 254, Excluded: 5)\n",
      "Downloading PDB structure '1l7d'...\n",
      "Downloading PDB structure '1l7e'...\n"
     ]
    },
    {
     "name": "stderr",
     "output_type": "stream",
     "text": [
      "  8%|▊         | 71/891 [01:24<17:13,  1.26s/it]"
     ]
    },
    {
     "name": "stdout",
     "output_type": "stream",
     "text": [
      "Aligned 354 residues (Free: 354, Bound: 372, Excluded: 18)\n",
      "Downloading PDB structure '2gk7'...\n",
      "Downloading PDB structure '2gk6'...\n"
     ]
    },
    {
     "name": "stderr",
     "output_type": "stream",
     "text": [
      "  8%|▊         | 72/891 [01:25<17:05,  1.25s/it]"
     ]
    },
    {
     "name": "stdout",
     "output_type": "stream",
     "text": [
      "Aligned 582 residues (Free: 596, Bound: 602, Excluded: 34)\n",
      "Downloading PDB structure '1fmv'...\n",
      "Downloading PDB structure '1w9j'...\n"
     ]
    },
    {
     "name": "stderr",
     "output_type": "stream",
     "text": [
      "  8%|▊         | 73/891 [01:27<17:47,  1.31s/it]"
     ]
    },
    {
     "name": "stdout",
     "output_type": "stream",
     "text": [
      "Aligned 718 residues (Free: 743, Bound: 728, Excluded: 35)\n",
      "Downloading PDB structure '2gt1'...\n",
      "Downloading PDB structure '2h1f'...\n"
     ]
    },
    {
     "name": "stderr",
     "output_type": "stream",
     "text": [
      "  8%|▊         | 74/891 [01:28<17:03,  1.25s/it]"
     ]
    },
    {
     "name": "stdout",
     "output_type": "stream",
     "text": [
      "Aligned 320 residues (Free: 323, Bound: 320, Excluded: 3)\n",
      "Downloading PDB structure '2o1p'...\n",
      "Downloading PDB structure '2hhp'...\n"
     ]
    },
    {
     "name": "stderr",
     "output_type": "stream",
     "text": [
      "  8%|▊         | 75/891 [01:29<17:39,  1.30s/it]"
     ]
    },
    {
     "name": "stdout",
     "output_type": "stream",
     "text": [
      "Aligned 508 residues (Free: 523, Bound: 508, Excluded: 15)\n",
      "Downloading PDB structure '1w2f'...\n",
      "Downloading PDB structure '1w2d'...\n"
     ]
    },
    {
     "name": "stderr",
     "output_type": "stream",
     "text": [
      "  9%|▊         | 76/891 [01:30<16:39,  1.23s/it]"
     ]
    },
    {
     "name": "stdout",
     "output_type": "stream",
     "text": [
      "Aligned 260 residues (Free: 270, Bound: 265, Excluded: 15)\n",
      "Downloading PDB structure '2qmr'...\n",
      "Downloading PDB structure '2z5k'...\n"
     ]
    },
    {
     "name": "stderr",
     "output_type": "stream",
     "text": [
      "  9%|▊         | 77/891 [01:32<18:48,  1.39s/it]"
     ]
    },
    {
     "name": "stdout",
     "output_type": "stream",
     "text": [
      "Aligned 835 residues (Free: 835, Bound: 840, Excluded: 5)\n",
      "Downloading PDB structure '2fh4'...\n",
      "Downloading PDB structure '1p8x'...\n"
     ]
    },
    {
     "name": "stderr",
     "output_type": "stream",
     "text": [
      "  9%|▉         | 78/891 [01:33<18:02,  1.33s/it]"
     ]
    },
    {
     "name": "stdout",
     "output_type": "stream",
     "text": [
      "Aligned 307 residues (Free: 307, Bound: 316, Excluded: 9)\n",
      "Downloading PDB structure '1smt'...\n",
      "Downloading PDB structure '1r22'...\n"
     ]
    },
    {
     "name": "stderr",
     "output_type": "stream",
     "text": [
      "  9%|▉         | 79/891 [01:34<15:17,  1.13s/it]"
     ]
    },
    {
     "name": "stdout",
     "output_type": "stream",
     "text": [
      "Aligned 93 residues (Free: 98, Bound: 93, Excluded: 5)\n",
      "Downloading PDB structure '1tqd'...\n",
      "Downloading PDB structure '1tq6'...\n"
     ]
    },
    {
     "name": "stderr",
     "output_type": "stream",
     "text": [
      "  9%|▉         | 80/891 [01:35<16:16,  1.20s/it]"
     ]
    },
    {
     "name": "stdout",
     "output_type": "stream",
     "text": [
      "Aligned 385 residues (Free: 385, Bound: 402, Excluded: 17)\n",
      "Downloading PDB structure '2pkf'...\n",
      "Downloading PDB structure '2pkn'...\n"
     ]
    },
    {
     "name": "stderr",
     "output_type": "stream",
     "text": [
      "  9%|▉         | 81/891 [01:36<15:29,  1.15s/it]"
     ]
    },
    {
     "name": "stdout",
     "output_type": "stream",
     "text": [
      "Aligned 323 residues (Free: 332, Bound: 323, Excluded: 9)\n",
      "Downloading PDB structure '2o5p'...\n",
      "Downloading PDB structure '2iah'...\n"
     ]
    },
    {
     "name": "stderr",
     "output_type": "stream",
     "text": [
      "  9%|▉         | 82/891 [01:38<16:11,  1.20s/it]"
     ]
    },
    {
     "name": "stdout",
     "output_type": "stream",
     "text": [
      "Aligned 752 residues (Free: 772, Bound: 752, Excluded: 20)\n",
      "Downloading PDB structure '3csg'...\n",
      "Downloading PDB structure '3csb'...\n"
     ]
    },
    {
     "name": "stderr",
     "output_type": "stream",
     "text": [
      "  9%|▉         | 83/891 [01:39<15:47,  1.17s/it]"
     ]
    },
    {
     "name": "stdout",
     "output_type": "stream",
     "text": [
      "Aligned 458 residues (Free: 458, Bound: 464, Excluded: 6)\n",
      "Downloading PDB structure '2gf7'...\n",
      "Downloading PDB structure '2gfa'...\n"
     ]
    },
    {
     "name": "stderr",
     "output_type": "stream",
     "text": [
      "  9%|▉         | 84/891 [01:40<14:58,  1.11s/it]"
     ]
    },
    {
     "name": "stdout",
     "output_type": "stream",
     "text": [
      "Aligned 105 residues (Free: 115, Bound: 107, Excluded: 12)\n",
      "Downloading PDB structure '2ec5'...\n",
      "Downloading PDB structure '2ebf'...\n"
     ]
    },
    {
     "name": "stderr",
     "output_type": "stream",
     "text": [
      " 10%|▉         | 85/891 [01:41<15:18,  1.14s/it]"
     ]
    },
    {
     "name": "stdout",
     "output_type": "stream",
     "text": [
      "No common residues between 2ec5 and 2ebf\n",
      "Downloading PDB structure '1j8t'...\n",
      "Downloading PDB structure '1mmt'...\n"
     ]
    },
    {
     "name": "stderr",
     "output_type": "stream",
     "text": [
      " 10%|▉         | 86/891 [01:42<14:18,  1.07s/it]"
     ]
    },
    {
     "name": "stdout",
     "output_type": "stream",
     "text": [
      "Aligned 307 residues (Free: 307, Bound: 308, Excluded: 1)\n",
      "Downloading PDB structure '1e4f'...\n",
      "Downloading PDB structure '1e4g'...\n"
     ]
    },
    {
     "name": "stderr",
     "output_type": "stream",
     "text": [
      " 10%|▉         | 87/891 [01:43<13:37,  1.02s/it]"
     ]
    },
    {
     "name": "stdout",
     "output_type": "stream",
     "text": [
      "Aligned 372 residues (Free: 378, Bound: 375, Excluded: 9)\n",
      "Downloading PDB structure '2ps3'...\n",
      "Downloading PDB structure '2ps0'...\n"
     ]
    },
    {
     "name": "stderr",
     "output_type": "stream",
     "text": [
      " 10%|▉         | 88/891 [01:44<13:30,  1.01s/it]"
     ]
    },
    {
     "name": "stdout",
     "output_type": "stream",
     "text": [
      "Aligned 264 residues (Free: 265, Bound: 264, Excluded: 1)\n",
      "Downloading PDB structure '1gu7'...\n",
      "Downloading PDB structure '1guf'...\n"
     ]
    },
    {
     "name": "stderr",
     "output_type": "stream",
     "text": [
      " 10%|▉         | 89/891 [01:45<15:29,  1.16s/it]"
     ]
    },
    {
     "name": "stdout",
     "output_type": "stream",
     "text": [
      "Aligned 364 residues (Free: 364, Bound: 364, Excluded: 0)\n",
      "Downloading PDB structure '1bet'...\n",
      "Downloading PDB structure '1btg'...\n"
     ]
    },
    {
     "name": "stderr",
     "output_type": "stream",
     "text": [
      " 10%|█         | 90/891 [01:46<13:56,  1.04s/it]"
     ]
    },
    {
     "name": "stdout",
     "output_type": "stream",
     "text": [
      "Aligned 107 residues (Free: 107, Bound: 108, Excluded: 1)\n",
      "Downloading PDB structure '1r5d'...\n",
      "Downloading PDB structure '1tq9'...\n"
     ]
    },
    {
     "name": "stderr",
     "output_type": "stream",
     "text": [
      " 10%|█         | 91/891 [01:47<12:53,  1.03it/s]"
     ]
    },
    {
     "name": "stdout",
     "output_type": "stream",
     "text": [
      "Aligned 122 residues (Free: 124, Bound: 122, Excluded: 2)\n",
      "Downloading PDB structure '2hyg'...\n",
      "Downloading PDB structure '2f5f'...\n"
     ]
    },
    {
     "name": "stderr",
     "output_type": "stream",
     "text": [
      " 10%|█         | 92/891 [01:47<11:19,  1.18it/s]"
     ]
    },
    {
     "name": "stdout",
     "output_type": "stream",
     "text": [
      "No common residues between 2hyg and 2f5f\n",
      "Downloading PDB structure '1eut'...\n",
      "Downloading PDB structure '1w8n'...\n"
     ]
    },
    {
     "name": "stderr",
     "output_type": "stream",
     "text": [
      " 10%|█         | 93/891 [01:48<12:04,  1.10it/s]"
     ]
    },
    {
     "name": "stdout",
     "output_type": "stream",
     "text": [
      "Aligned 601 residues (Free: 601, Bound: 601, Excluded: 0)\n",
      "Downloading PDB structure '1qmt'...\n",
      "Downloading PDB structure '1dyt'...\n"
     ]
    },
    {
     "name": "stderr",
     "output_type": "stream",
     "text": [
      " 11%|█         | 94/891 [01:49<11:30,  1.15it/s]"
     ]
    },
    {
     "name": "stdout",
     "output_type": "stream",
     "text": [
      "Aligned 133 residues (Free: 134, Bound: 133, Excluded: 1)\n",
      "Downloading PDB structure '3eug'...\n",
      "Downloading PDB structure '1flz'...\n"
     ]
    },
    {
     "name": "stderr",
     "output_type": "stream",
     "text": [
      " 11%|█         | 95/891 [01:50<11:10,  1.19it/s]"
     ]
    },
    {
     "name": "stdout",
     "output_type": "stream",
     "text": [
      "Aligned 225 residues (Free: 225, Bound: 228, Excluded: 3)\n",
      "Downloading PDB structure '1wxx'...\n",
      "Downloading PDB structure '2cww'...\n"
     ]
    },
    {
     "name": "stderr",
     "output_type": "stream",
     "text": [
      " 11%|█         | 96/891 [01:52<13:55,  1.05s/it]"
     ]
    },
    {
     "name": "stdout",
     "output_type": "stream",
     "text": [
      "Aligned 372 residues (Free: 378, Bound: 376, Excluded: 10)\n",
      "Downloading PDB structure '1fzr'...\n",
      "Downloading PDB structure '1m0d'...\n"
     ]
    },
    {
     "name": "stderr",
     "output_type": "stream",
     "text": [
      " 11%|█         | 97/891 [01:52<13:19,  1.01s/it]"
     ]
    },
    {
     "name": "stdout",
     "output_type": "stream",
     "text": [
      "Aligned 129 residues (Free: 129, Bound: 129, Excluded: 0)\n",
      "Downloading PDB structure '1ogb'...\n",
      "Downloading PDB structure '1w1y'...\n"
     ]
    },
    {
     "name": "stderr",
     "output_type": "stream",
     "text": [
      " 11%|█         | 98/891 [01:54<15:51,  1.20s/it]"
     ]
    },
    {
     "name": "stdout",
     "output_type": "stream",
     "text": [
      "Aligned 496 residues (Free: 497, Bound: 496, Excluded: 1)\n",
      "Downloading PDB structure '1dpg'...\n",
      "Downloading PDB structure '2dpg'...\n"
     ]
    },
    {
     "name": "stderr",
     "output_type": "stream",
     "text": [
      " 11%|█         | 99/891 [01:55<15:41,  1.19s/it]"
     ]
    },
    {
     "name": "stdout",
     "output_type": "stream",
     "text": [
      "Aligned 485 residues (Free: 485, Bound: 485, Excluded: 0)\n",
      "Downloading PDB structure '1r0s'...\n",
      "Downloading PDB structure '1r15'...\n"
     ]
    },
    {
     "name": "stderr",
     "output_type": "stream",
     "text": [
      " 11%|█         | 100/891 [01:57<17:04,  1.30s/it]"
     ]
    },
    {
     "name": "stdout",
     "output_type": "stream",
     "text": [
      "Aligned 251 residues (Free: 251, Bound: 251, Excluded: 0)\n",
      "Downloading PDB structure '2cfo'...\n"
     ]
    },
    {
     "name": "stderr",
     "output_type": "stream",
     "text": [
      " 11%|█▏        | 101/891 [01:58<14:47,  1.12s/it]"
     ]
    },
    {
     "name": "stdout",
     "output_type": "stream",
     "text": [
      "Structure exists: 'data/PSCDB/PDB_structures/pdb2cfo.ent' \n",
      "Aligned 484 residues (Free: 484, Bound: 484, Excluded: 0)\n",
      "Downloading PDB structure '2i78'...\n",
      "Downloading PDB structure '1u8e'...\n"
     ]
    },
    {
     "name": "stderr",
     "output_type": "stream",
     "text": [
      " 11%|█▏        | 102/891 [01:59<17:52,  1.36s/it]"
     ]
    },
    {
     "name": "stdout",
     "output_type": "stream",
     "text": [
      "Aligned 726 residues (Free: 726, Bound: 726, Excluded: 0)\n",
      "Downloading PDB structure '1lr9'...\n",
      "Downloading PDB structure '1lr8'...\n"
     ]
    },
    {
     "name": "stderr",
     "output_type": "stream",
     "text": [
      " 12%|█▏        | 103/891 [02:01<19:25,  1.48s/it]"
     ]
    },
    {
     "name": "stdout",
     "output_type": "stream",
     "text": [
      "Aligned 73 residues (Free: 73, Bound: 73, Excluded: 0)\n",
      "Downloading PDB structure '1dcl'...\n",
      "Downloading PDB structure '1mcs'...\n"
     ]
    },
    {
     "name": "stderr",
     "output_type": "stream",
     "text": [
      " 12%|█▏        | 104/891 [02:02<16:41,  1.27s/it]"
     ]
    },
    {
     "name": "stdout",
     "output_type": "stream",
     "text": [
      "Aligned 216 residues (Free: 216, Bound: 216, Excluded: 0)\n",
      "Downloading PDB structure '1jyu'...\n",
      "Downloading PDB structure '1jyr'...\n"
     ]
    },
    {
     "name": "stderr",
     "output_type": "stream",
     "text": [
      " 12%|█▏        | 105/891 [02:03<14:14,  1.09s/it]"
     ]
    },
    {
     "name": "stdout",
     "output_type": "stream",
     "text": [
      "Aligned 96 residues (Free: 96, Bound: 96, Excluded: 0)\n",
      "Downloading PDB structure '3ezm'...\n",
      "Downloading PDB structure '1l5b'...\n"
     ]
    },
    {
     "name": "stderr",
     "output_type": "stream",
     "text": [
      " 12%|█▏        | 106/891 [02:04<14:17,  1.09s/it]"
     ]
    },
    {
     "name": "stdout",
     "output_type": "stream",
     "text": [
      "Aligned 101 residues (Free: 101, Bound: 101, Excluded: 0)\n",
      "Downloading PDB structure '2qza'...\n",
      "Downloading PDB structure '2qyu'...\n"
     ]
    },
    {
     "name": "stderr",
     "output_type": "stream",
     "text": [
      " 12%|█▏        | 107/891 [02:05<15:07,  1.16s/it]"
     ]
    },
    {
     "name": "stdout",
     "output_type": "stream",
     "text": [
      "Aligned 605 residues (Free: 605, Bound: 620, Excluded: 15)\n",
      "Downloading PDB structure '3c3b'...\n",
      "Downloading PDB structure '2zgv'...\n"
     ]
    },
    {
     "name": "stderr",
     "output_type": "stream",
     "text": [
      " 12%|█▏        | 108/891 [02:06<14:41,  1.13s/it]"
     ]
    },
    {
     "name": "stdout",
     "output_type": "stream",
     "text": [
      "Aligned 402 residues (Free: 403, Bound: 403, Excluded: 2)\n",
      "Downloading PDB structure '2zc2'...\n"
     ]
    },
    {
     "name": "stderr",
     "output_type": "stream",
     "text": [
      " 12%|█▏        | 109/891 [02:07<11:54,  1.10it/s]"
     ]
    },
    {
     "name": "stdout",
     "output_type": "stream",
     "text": [
      "Structure exists: 'data/PSCDB/PDB_structures/pdb2zc2.ent' \n",
      "Aligned 74 residues (Free: 74, Bound: 74, Excluded: 0)\n",
      "Downloading PDB structure '3deo'...\n",
      "Downloading PDB structure '3dep'...\n",
      "Aligned 183 residues (Free: 183, Bound: 183, Excluded: 0)\n"
     ]
    },
    {
     "name": "stderr",
     "output_type": "stream",
     "text": [
      " 12%|█▏        | 110/891 [02:07<10:51,  1.20it/s]"
     ]
    },
    {
     "name": "stdout",
     "output_type": "stream",
     "text": [
      "Downloading PDB structure '2v8i'...\n",
      "Downloading PDB structure '2v8j'...\n"
     ]
    },
    {
     "name": "stderr",
     "output_type": "stream",
     "text": [
      " 12%|█▏        | 111/891 [02:09<13:02,  1.00s/it]"
     ]
    },
    {
     "name": "stdout",
     "output_type": "stream",
     "text": [
      "Aligned 535 residues (Free: 543, Bound: 535, Excluded: 8)\n",
      "Downloading PDB structure '2vj2'...\n"
     ]
    },
    {
     "name": "stderr",
     "output_type": "stream",
     "text": [
      " 13%|█▎        | 112/891 [02:09<10:57,  1.18it/s]"
     ]
    },
    {
     "name": "stdout",
     "output_type": "stream",
     "text": [
      "Structure exists: 'data/PSCDB/PDB_structures/pdb2vj2.ent' \n",
      "Aligned 149 residues (Free: 149, Bound: 149, Excluded: 0)\n",
      "Downloading PDB structure '1rki'...\n"
     ]
    },
    {
     "name": "stderr",
     "output_type": "stream",
     "text": [
      " 13%|█▎        | 113/891 [02:10<09:31,  1.36it/s]"
     ]
    },
    {
     "name": "stdout",
     "output_type": "stream",
     "text": [
      "Structure exists: 'data/PSCDB/PDB_structures/pdb1rki.ent' \n",
      "Aligned 101 residues (Free: 101, Bound: 101, Excluded: 0)\n",
      "Downloading PDB structure '3b8s'...\n",
      "Downloading PDB structure '3b9d'...\n"
     ]
    },
    {
     "name": "stderr",
     "output_type": "stream",
     "text": [
      " 13%|█▎        | 114/891 [02:11<12:00,  1.08it/s]"
     ]
    },
    {
     "name": "stdout",
     "output_type": "stream",
     "text": [
      "Aligned 567 residues (Free: 567, Bound: 567, Excluded: 0)\n",
      "Downloading PDB structure '2ddb'...\n",
      "Downloading PDB structure '2epf'...\n"
     ]
    },
    {
     "name": "stderr",
     "output_type": "stream",
     "text": [
      " 13%|█▎        | 115/891 [02:12<13:05,  1.01s/it]"
     ]
    },
    {
     "name": "stdout",
     "output_type": "stream",
     "text": [
      "Aligned 207 residues (Free: 207, Bound: 207, Excluded: 0)\n",
      "Downloading PDB structure '1oxs'...\n",
      "Downloading PDB structure '1oxu'...\n"
     ]
    },
    {
     "name": "stderr",
     "output_type": "stream",
     "text": [
      " 13%|█▎        | 116/891 [02:13<13:21,  1.03s/it]"
     ]
    },
    {
     "name": "stdout",
     "output_type": "stream",
     "text": [
      "No common residues between 1oxs and 1oxu\n",
      "Downloading PDB structure '2j4r'...\n",
      "Downloading PDB structure '1t6c'...\n"
     ]
    },
    {
     "name": "stderr",
     "output_type": "stream",
     "text": [
      " 13%|█▎        | 117/891 [02:15<14:35,  1.13s/it]"
     ]
    },
    {
     "name": "stdout",
     "output_type": "stream",
     "text": [
      "Aligned 299 residues (Free: 299, Bound: 306, Excluded: 7)\n",
      "Downloading PDB structure '1uk2'...\n",
      "Downloading PDB structure '2z3c'...\n"
     ]
    },
    {
     "name": "stderr",
     "output_type": "stream",
     "text": [
      " 13%|█▎        | 118/891 [02:16<13:59,  1.09s/it]"
     ]
    },
    {
     "name": "stdout",
     "output_type": "stream",
     "text": [
      "Aligned 302 residues (Free: 302, Bound: 306, Excluded: 4)\n",
      "Downloading PDB structure '2dpy'...\n"
     ]
    },
    {
     "name": "stderr",
     "output_type": "stream",
     "text": [
      " 13%|█▎        | 119/891 [02:16<12:28,  1.03it/s]"
     ]
    },
    {
     "name": "stdout",
     "output_type": "stream",
     "text": [
      "Structure exists: 'data/PSCDB/PDB_structures/pdb2dpy.ent' \n",
      "Aligned 422 residues (Free: 422, Bound: 422, Excluded: 0)\n",
      "Downloading PDB structure '1g6y'...\n",
      "Downloading PDB structure '1jzr'...\n"
     ]
    },
    {
     "name": "stderr",
     "output_type": "stream",
     "text": [
      " 13%|█▎        | 120/891 [02:17<13:27,  1.05s/it]"
     ]
    },
    {
     "name": "stdout",
     "output_type": "stream",
     "text": [
      "Aligned 225 residues (Free: 245, Bound: 234, Excluded: 29)\n",
      "Downloading PDB structure '2o1c'...\n"
     ]
    },
    {
     "name": "stderr",
     "output_type": "stream",
     "text": [
      " 14%|█▎        | 121/891 [02:18<11:46,  1.09it/s]"
     ]
    },
    {
     "name": "stdout",
     "output_type": "stream",
     "text": [
      "Structure exists: 'data/PSCDB/PDB_structures/pdb2o1c.ent' \n",
      "Aligned 147 residues (Free: 147, Bound: 147, Excluded: 0)\n",
      "Downloading PDB structure '1g9u'...\n",
      "Downloading PDB structure '1jl5'...\n"
     ]
    },
    {
     "name": "stderr",
     "output_type": "stream",
     "text": [
      " 14%|█▎        | 122/891 [02:19<11:32,  1.11it/s]"
     ]
    },
    {
     "name": "stdout",
     "output_type": "stream",
     "text": [
      "No common residues between 1g9u and 1jl5\n",
      "Downloading PDB structure '1rif'...\n"
     ]
    },
    {
     "name": "stderr",
     "output_type": "stream",
     "text": [
      " 14%|█▍        | 123/891 [02:20<10:27,  1.22it/s]"
     ]
    },
    {
     "name": "stdout",
     "output_type": "stream",
     "text": [
      "Structure exists: 'data/PSCDB/PDB_structures/pdb1rif.ent' \n",
      "Aligned 282 residues (Free: 282, Bound: 282, Excluded: 0)\n",
      "Downloading PDB structure '2rjc'...\n",
      "Downloading PDB structure '2rhu'...\n"
     ]
    },
    {
     "name": "stderr",
     "output_type": "stream",
     "text": [
      " 14%|█▍        | 124/891 [02:21<12:02,  1.06it/s]"
     ]
    },
    {
     "name": "stdout",
     "output_type": "stream",
     "text": [
      "Aligned 311 residues (Free: 313, Bound: 323, Excluded: 14)\n",
      "Downloading PDB structure '1uln'...\n",
      "Downloading PDB structure '1uha'...\n"
     ]
    },
    {
     "name": "stderr",
     "output_type": "stream",
     "text": [
      " 14%|█▍        | 125/891 [02:21<11:01,  1.16it/s]"
     ]
    },
    {
     "name": "stdout",
     "output_type": "stream",
     "text": [
      "Aligned 82 residues (Free: 82, Bound: 82, Excluded: 0)\n",
      "Downloading PDB structure '1wpo'...\n",
      "Downloading PDB structure '1njt'...\n"
     ]
    },
    {
     "name": "stderr",
     "output_type": "stream",
     "text": [
      " 14%|█▍        | 126/891 [02:23<11:58,  1.06it/s]"
     ]
    },
    {
     "name": "stdout",
     "output_type": "stream",
     "text": [
      "Aligned 204 residues (Free: 204, Bound: 226, Excluded: 22)\n",
      "Downloading PDB structure '2qm8'...\n",
      "Downloading PDB structure '2qm7'...\n"
     ]
    },
    {
     "name": "stderr",
     "output_type": "stream",
     "text": [
      " 14%|█▍        | 127/891 [02:24<12:54,  1.01s/it]"
     ]
    },
    {
     "name": "stdout",
     "output_type": "stream",
     "text": [
      "Aligned 302 residues (Free: 314, Bound: 314, Excluded: 24)\n",
      "Downloading PDB structure '1wd8'...\n",
      "Downloading PDB structure '1wd9'...\n"
     ]
    },
    {
     "name": "stderr",
     "output_type": "stream",
     "text": [
      " 14%|█▍        | 128/891 [02:25<13:12,  1.04s/it]"
     ]
    },
    {
     "name": "stdout",
     "output_type": "stream",
     "text": [
      "Aligned 545 residues (Free: 559, Bound: 603, Excluded: 72)\n",
      "Downloading PDB structure '1dg3'...\n",
      "Downloading PDB structure '1f5n'...\n"
     ]
    },
    {
     "name": "stderr",
     "output_type": "stream",
     "text": [
      " 14%|█▍        | 129/891 [02:26<14:36,  1.15s/it]"
     ]
    },
    {
     "name": "stdout",
     "output_type": "stream",
     "text": [
      "Aligned 539 residues (Free: 540, Bound: 570, Excluded: 32)\n",
      "Downloading PDB structure '3enl'...\n",
      "Downloading PDB structure '2one'...\n"
     ]
    },
    {
     "name": "stderr",
     "output_type": "stream",
     "text": [
      " 15%|█▍        | 130/891 [02:28<15:09,  1.20s/it]"
     ]
    },
    {
     "name": "stdout",
     "output_type": "stream",
     "text": [
      "Aligned 436 residues (Free: 436, Bound: 436, Excluded: 0)\n",
      "Downloading PDB structure '1vk3'...\n",
      "Downloading PDB structure '2hs4'...\n"
     ]
    },
    {
     "name": "stderr",
     "output_type": "stream",
     "text": [
      " 15%|█▍        | 131/891 [02:29<14:41,  1.16s/it]"
     ]
    },
    {
     "name": "stdout",
     "output_type": "stream",
     "text": [
      "Aligned 570 residues (Free: 570, Bound: 602, Excluded: 32)\n",
      "Downloading PDB structure '2g67'...\n",
      "Downloading PDB structure '2g25'...\n"
     ]
    },
    {
     "name": "stderr",
     "output_type": "stream",
     "text": [
      " 15%|█▍        | 132/891 [02:30<17:19,  1.37s/it]"
     ]
    },
    {
     "name": "stdout",
     "output_type": "stream",
     "text": [
      "Aligned 801 residues (Free: 801, Bound: 831, Excluded: 30)\n",
      "Downloading PDB structure '3bwb'...\n",
      "Downloading PDB structure '3bwc'...\n"
     ]
    },
    {
     "name": "stderr",
     "output_type": "stream",
     "text": [
      " 15%|█▍        | 133/891 [02:32<16:12,  1.28s/it]"
     ]
    },
    {
     "name": "stdout",
     "output_type": "stream",
     "text": [
      "Aligned 275 residues (Free: 281, Bound: 275, Excluded: 6)\n",
      "Downloading PDB structure '2cn2'...\n",
      "Downloading PDB structure '2cn3'...\n"
     ]
    },
    {
     "name": "stderr",
     "output_type": "stream",
     "text": [
      " 15%|█▌        | 134/891 [02:33<18:35,  1.47s/it]"
     ]
    },
    {
     "name": "stdout",
     "output_type": "stream",
     "text": [
      "Aligned 686 residues (Free: 686, Bound: 728, Excluded: 42)\n",
      "Downloading PDB structure '1ywf'...\n",
      "Downloading PDB structure '2oz5'...\n"
     ]
    },
    {
     "name": "stderr",
     "output_type": "stream",
     "text": [
      " 15%|█▌        | 135/891 [02:35<16:52,  1.34s/it]"
     ]
    },
    {
     "name": "stdout",
     "output_type": "stream",
     "text": [
      "Aligned 240 residues (Free: 241, Bound: 265, Excluded: 26)\n",
      "Downloading PDB structure '2gp7'...\n",
      "Downloading PDB structure '2gpu'...\n"
     ]
    },
    {
     "name": "stderr",
     "output_type": "stream",
     "text": [
      " 15%|█▌        | 136/891 [02:36<15:30,  1.23s/it]"
     ]
    },
    {
     "name": "stdout",
     "output_type": "stream",
     "text": [
      "Aligned 221 residues (Free: 224, Bound: 222, Excluded: 4)\n",
      "Downloading PDB structure '1kp9'...\n",
      "Downloading PDB structure '1kph'...\n"
     ]
    },
    {
     "name": "stderr",
     "output_type": "stream",
     "text": [
      " 15%|█▌        | 137/891 [02:37<16:21,  1.30s/it]"
     ]
    },
    {
     "name": "stdout",
     "output_type": "stream",
     "text": [
      "Aligned 270 residues (Free: 270, Bound: 283, Excluded: 13)\n",
      "Downloading PDB structure '1sqe'...\n",
      "Downloading PDB structure '2zdp'...\n"
     ]
    },
    {
     "name": "stderr",
     "output_type": "stream",
     "text": [
      " 15%|█▌        | 138/891 [02:38<14:34,  1.16s/it]"
     ]
    },
    {
     "name": "stdout",
     "output_type": "stream",
     "text": [
      "Aligned 85 residues (Free: 101, Bound: 110, Excluded: 41)\n",
      "Downloading PDB structure '1pa1'...\n",
      "Downloading PDB structure '1t48'...\n"
     ]
    },
    {
     "name": "stderr",
     "output_type": "stream",
     "text": [
      " 16%|█▌        | 139/891 [02:39<13:20,  1.07s/it]"
     ]
    },
    {
     "name": "stdout",
     "output_type": "stream",
     "text": [
      "No common residues between 1pa1 and 1t48\n",
      "Downloading PDB structure '1so7'...\n",
      "Downloading PDB structure '1vcu'...\n"
     ]
    },
    {
     "name": "stderr",
     "output_type": "stream",
     "text": [
      " 16%|█▌        | 140/891 [02:40<13:14,  1.06s/it]"
     ]
    },
    {
     "name": "stdout",
     "output_type": "stream",
     "text": [
      "Aligned 360 residues (Free: 361, Bound: 370, Excluded: 11)\n",
      "Downloading PDB structure '2de2'...\n",
      "Downloading PDB structure '2de3'...\n"
     ]
    },
    {
     "name": "stderr",
     "output_type": "stream",
     "text": [
      " 16%|█▌        | 141/891 [02:41<13:36,  1.09s/it]"
     ]
    },
    {
     "name": "stdout",
     "output_type": "stream",
     "text": [
      "Aligned 344 residues (Free: 347, Bound: 344, Excluded: 3)\n",
      "Downloading PDB structure '2go1'...\n",
      "Downloading PDB structure '2nad'...\n"
     ]
    },
    {
     "name": "stderr",
     "output_type": "stream",
     "text": [
      " 16%|█▌        | 142/891 [02:42<13:31,  1.08s/it]"
     ]
    },
    {
     "name": "stdout",
     "output_type": "stream",
     "text": [
      "Aligned 374 residues (Free: 374, Bound: 391, Excluded: 17)\n",
      "Downloading PDB structure '2e3c'...\n",
      "Downloading PDB structure '2zim'...\n"
     ]
    },
    {
     "name": "stderr",
     "output_type": "stream",
     "text": [
      " 16%|█▌        | 143/891 [02:43<12:10,  1.02it/s]"
     ]
    },
    {
     "name": "stdout",
     "output_type": "stream",
     "text": [
      "Aligned 256 residues (Free: 260, Bound: 260, Excluded: 8)\n",
      "Downloading PDB structure '1irm'...\n",
      "Downloading PDB structure '2dy5'...\n"
     ]
    },
    {
     "name": "stderr",
     "output_type": "stream",
     "text": [
      " 16%|█▌        | 144/891 [02:43<11:37,  1.07it/s]"
     ]
    },
    {
     "name": "stdout",
     "output_type": "stream",
     "text": [
      "No common residues between 1irm and 2dy5\n",
      "Downloading PDB structure '2vcl'...\n",
      "Downloading PDB structure '2vck'...\n"
     ]
    },
    {
     "name": "stderr",
     "output_type": "stream",
     "text": [
      " 16%|█▋        | 145/891 [02:45<12:51,  1.03s/it]"
     ]
    },
    {
     "name": "stdout",
     "output_type": "stream",
     "text": [
      "Aligned 198 residues (Free: 199, Bound: 202, Excluded: 5)\n",
      "Downloading PDB structure '2btz'...\n",
      "Downloading PDB structure '2bu2'...\n"
     ]
    },
    {
     "name": "stderr",
     "output_type": "stream",
     "text": [
      " 16%|█▋        | 146/891 [02:46<12:44,  1.03s/it]"
     ]
    },
    {
     "name": "stdout",
     "output_type": "stream",
     "text": [
      "Aligned 353 residues (Free: 357, Bound: 358, Excluded: 9)\n",
      "Downloading PDB structure '2osw'...\n",
      "Downloading PDB structure '2osx'...\n"
     ]
    },
    {
     "name": "stderr",
     "output_type": "stream",
     "text": [
      " 16%|█▋        | 147/891 [02:47<13:18,  1.07s/it]"
     ]
    },
    {
     "name": "stdout",
     "output_type": "stream",
     "text": [
      "Aligned 433 residues (Free: 433, Bound: 449, Excluded: 16)\n",
      "Downloading PDB structure '1x56'...\n",
      "Downloading PDB structure '1x55'...\n"
     ]
    },
    {
     "name": "stderr",
     "output_type": "stream",
     "text": [
      " 17%|█▋        | 148/891 [02:48<13:42,  1.11s/it]"
     ]
    },
    {
     "name": "stdout",
     "output_type": "stream",
     "text": [
      "Aligned 420 residues (Free: 420, Bound: 434, Excluded: 14)\n",
      "Downloading PDB structure '1ofp'...\n",
      "Downloading PDB structure '1of6'...\n"
     ]
    },
    {
     "name": "stderr",
     "output_type": "stream",
     "text": [
      " 17%|█▋        | 149/891 [02:50<15:17,  1.24s/it]"
     ]
    },
    {
     "name": "stdout",
     "output_type": "stream",
     "text": [
      "Aligned 306 residues (Free: 306, Bound: 350, Excluded: 44)\n",
      "Downloading PDB structure '2qt8'...\n",
      "Downloading PDB structure '3dwr'...\n"
     ]
    },
    {
     "name": "stderr",
     "output_type": "stream",
     "text": [
      " 17%|█▋        | 150/891 [02:51<15:52,  1.29s/it]"
     ]
    },
    {
     "name": "stdout",
     "output_type": "stream",
     "text": [
      "Aligned 282 residues (Free: 297, Bound: 286, Excluded: 19)\n",
      "Downloading PDB structure '2q0d'...\n",
      "Downloading PDB structure '2q0e'...\n"
     ]
    },
    {
     "name": "stderr",
     "output_type": "stream",
     "text": [
      " 17%|█▋        | 151/891 [02:52<14:45,  1.20s/it]"
     ]
    },
    {
     "name": "stdout",
     "output_type": "stream",
     "text": [
      "Aligned 325 residues (Free: 325, Bound: 331, Excluded: 6)\n",
      "Downloading PDB structure '1qme'...\n",
      "Downloading PDB structure '1pyy'...\n"
     ]
    },
    {
     "name": "stderr",
     "output_type": "stream",
     "text": [
      " 17%|█▋        | 152/891 [02:53<14:34,  1.18s/it]"
     ]
    },
    {
     "name": "stdout",
     "output_type": "stream",
     "text": [
      "Aligned 552 residues (Free: 558, Bound: 607, Excluded: 61)\n",
      "Downloading PDB structure '2zcg'...\n",
      "Downloading PDB structure '2za1'...\n"
     ]
    },
    {
     "name": "stderr",
     "output_type": "stream",
     "text": [
      " 17%|█▋        | 153/891 [02:55<15:27,  1.26s/it]"
     ]
    },
    {
     "name": "stdout",
     "output_type": "stream",
     "text": [
      "Aligned 315 residues (Free: 318, Bound: 318, Excluded: 6)\n",
      "Downloading PDB structure '1gyn'...\n",
      "Downloading PDB structure '1zen'...\n"
     ]
    },
    {
     "name": "stderr",
     "output_type": "stream",
     "text": [
      " 17%|█▋        | 154/891 [02:56<14:09,  1.15s/it]"
     ]
    },
    {
     "name": "stdout",
     "output_type": "stream",
     "text": [
      "Aligned 331 residues (Free: 333, Bound: 338, Excluded: 9)\n",
      "Downloading PDB structure '1kn9'...\n",
      "Downloading PDB structure '1b12'...\n"
     ]
    },
    {
     "name": "stderr",
     "output_type": "stream",
     "text": [
      " 17%|█▋        | 155/891 [02:57<15:11,  1.24s/it]"
     ]
    },
    {
     "name": "stdout",
     "output_type": "stream",
     "text": [
      "Aligned 233 residues (Free: 234, Bound: 239, Excluded: 7)\n",
      "Downloading PDB structure '3b7y'...\n"
     ]
    },
    {
     "name": "stderr",
     "output_type": "stream",
     "text": [
      " 18%|█▊        | 156/891 [02:57<12:30,  1.02s/it]"
     ]
    },
    {
     "name": "stdout",
     "output_type": "stream",
     "text": [
      "Structure exists: 'data/PSCDB/PDB_structures/pdb3b7y.ent' \n",
      "Aligned 144 residues (Free: 144, Bound: 144, Excluded: 0)\n",
      "Downloading PDB structure '2amj'...\n",
      "Downloading PDB structure '2b3d'...\n"
     ]
    },
    {
     "name": "stderr",
     "output_type": "stream",
     "text": [
      " 18%|█▊        | 157/891 [02:58<11:54,  1.03it/s]"
     ]
    },
    {
     "name": "stdout",
     "output_type": "stream",
     "text": [
      "Aligned 174 residues (Free: 174, Bound: 193, Excluded: 19)\n",
      "Downloading PDB structure '2dka'...\n",
      "Downloading PDB structure '2dkc'...\n"
     ]
    },
    {
     "name": "stderr",
     "output_type": "stream",
     "text": [
      " 18%|█▊        | 158/891 [03:00<13:49,  1.13s/it]"
     ]
    },
    {
     "name": "stdout",
     "output_type": "stream",
     "text": [
      "Aligned 517 residues (Free: 519, Bound: 536, Excluded: 21)\n",
      "Downloading PDB structure '2rkt'...\n",
      "Downloading PDB structure '2rkv'...\n"
     ]
    },
    {
     "name": "stderr",
     "output_type": "stream",
     "text": [
      " 18%|█▊        | 159/891 [03:01<13:02,  1.07s/it]"
     ]
    },
    {
     "name": "stdout",
     "output_type": "stream",
     "text": [
      "Aligned 418 residues (Free: 421, Bound: 443, Excluded: 28)\n",
      "Downloading PDB structure '1fdp'...\n",
      "Downloading PDB structure '1bio'...\n"
     ]
    },
    {
     "name": "stderr",
     "output_type": "stream",
     "text": [
      " 18%|█▊        | 160/891 [03:02<12:06,  1.01it/s]"
     ]
    },
    {
     "name": "stdout",
     "output_type": "stream",
     "text": [
      "Aligned 212 residues (Free: 220, Bound: 228, Excluded: 24)\n",
      "Downloading PDB structure '2vxm'...\n",
      "Downloading PDB structure '2jcj'...\n"
     ]
    },
    {
     "name": "stderr",
     "output_type": "stream",
     "text": [
      " 18%|█▊        | 161/891 [03:03<12:14,  1.01s/it]"
     ]
    },
    {
     "name": "stdout",
     "output_type": "stream",
     "text": [
      "Aligned 268 residues (Free: 268, Bound: 284, Excluded: 16)\n",
      "Downloading PDB structure '1lhp'...\n",
      "Downloading PDB structure '1rft'...\n"
     ]
    },
    {
     "name": "stderr",
     "output_type": "stream",
     "text": [
      " 18%|█▊        | 162/891 [03:04<12:51,  1.06s/it]"
     ]
    },
    {
     "name": "stdout",
     "output_type": "stream",
     "text": [
      "Aligned 306 residues (Free: 306, Bound: 309, Excluded: 3)\n",
      "Downloading PDB structure '1xxo'...\n",
      "Downloading PDB structure '2aq6'...\n"
     ]
    },
    {
     "name": "stderr",
     "output_type": "stream",
     "text": [
      " 18%|█▊        | 163/891 [03:05<12:51,  1.06s/it]"
     ]
    },
    {
     "name": "stdout",
     "output_type": "stream",
     "text": [
      "Aligned 143 residues (Free: 143, Bound: 143, Excluded: 0)\n",
      "Downloading PDB structure '1ufp'...\n",
      "Downloading PDB structure '2eb8'...\n"
     ]
    },
    {
     "name": "stderr",
     "output_type": "stream",
     "text": [
      " 18%|█▊        | 164/891 [03:06<11:33,  1.05it/s]"
     ]
    },
    {
     "name": "stdout",
     "output_type": "stream",
     "text": [
      "Aligned 154 residues (Free: 154, Bound: 154, Excluded: 0)\n",
      "Downloading PDB structure '1h6o'...\n",
      "Downloading PDB structure '3bqo'...\n"
     ]
    },
    {
     "name": "stderr",
     "output_type": "stream",
     "text": [
      " 19%|█▊        | 165/891 [03:06<10:13,  1.18it/s]"
     ]
    },
    {
     "name": "stdout",
     "output_type": "stream",
     "text": [
      "Aligned 192 residues (Free: 195, Bound: 202, Excluded: 13)\n",
      "Downloading PDB structure '1pu5'...\n",
      "Downloading PDB structure '2ag4'...\n"
     ]
    },
    {
     "name": "stderr",
     "output_type": "stream",
     "text": [
      " 19%|█▊        | 166/891 [03:07<10:48,  1.12it/s]"
     ]
    },
    {
     "name": "stdout",
     "output_type": "stream",
     "text": [
      "Aligned 164 residues (Free: 164, Bound: 164, Excluded: 0)\n",
      "Downloading PDB structure '1rlr'...\n",
      "Downloading PDB structure '2r1r'...\n"
     ]
    },
    {
     "name": "stderr",
     "output_type": "stream",
     "text": [
      " 19%|█▊        | 167/891 [03:09<13:21,  1.11s/it]"
     ]
    },
    {
     "name": "stdout",
     "output_type": "stream",
     "text": [
      "Aligned 727 residues (Free: 737, Bound: 733, Excluded: 16)\n",
      "Downloading PDB structure '1pnz'...\n",
      "Downloading PDB structure '1kmp'...\n"
     ]
    },
    {
     "name": "stderr",
     "output_type": "stream",
     "text": [
      " 19%|█▉        | 168/891 [03:10<13:36,  1.13s/it]"
     ]
    },
    {
     "name": "stdout",
     "output_type": "stream",
     "text": [
      "Aligned 633 residues (Free: 661, Bound: 633, Excluded: 28)\n",
      "Downloading PDB structure '1bs0'...\n",
      "Downloading PDB structure '1dj9'...\n"
     ]
    },
    {
     "name": "stderr",
     "output_type": "stream",
     "text": [
      " 19%|█▉        | 169/891 [03:11<13:43,  1.14s/it]"
     ]
    },
    {
     "name": "stdout",
     "output_type": "stream",
     "text": [
      "Aligned 383 residues (Free: 383, Bound: 383, Excluded: 0)\n",
      "Downloading PDB structure '1imf'...\n",
      "Downloading PDB structure '1ime'...\n"
     ]
    },
    {
     "name": "stderr",
     "output_type": "stream",
     "text": [
      " 19%|█▉        | 170/891 [03:12<13:19,  1.11s/it]"
     ]
    },
    {
     "name": "stdout",
     "output_type": "stream",
     "text": [
      "Aligned 262 residues (Free: 262, Bound: 272, Excluded: 10)\n",
      "Downloading PDB structure '1sgz'...\n",
      "Downloading PDB structure '2f3e'...\n"
     ]
    },
    {
     "name": "stderr",
     "output_type": "stream",
     "text": [
      " 19%|█▉        | 171/891 [03:14<14:17,  1.19s/it]"
     ]
    },
    {
     "name": "stdout",
     "output_type": "stream",
     "text": [
      "Aligned 374 residues (Free: 389, Bound: 377, Excluded: 18)\n",
      "Downloading PDB structure '1mss'...\n",
      "Downloading PDB structure '1ttj'...\n"
     ]
    },
    {
     "name": "stderr",
     "output_type": "stream",
     "text": [
      " 19%|█▉        | 172/891 [03:15<13:51,  1.16s/it]"
     ]
    },
    {
     "name": "stdout",
     "output_type": "stream",
     "text": [
      "Aligned 235 residues (Free: 242, Bound: 235, Excluded: 7)\n",
      "Downloading PDB structure '1n2o'...\n",
      "Downloading PDB structure '2a86'...\n"
     ]
    },
    {
     "name": "stderr",
     "output_type": "stream",
     "text": [
      " 19%|█▉        | 173/891 [03:16<13:30,  1.13s/it]"
     ]
    },
    {
     "name": "stdout",
     "output_type": "stream",
     "text": [
      "Aligned 279 residues (Free: 279, Bound: 288, Excluded: 9)\n",
      "Downloading PDB structure '1h7s'...\n",
      "Downloading PDB structure '1ea6'...\n"
     ]
    },
    {
     "name": "stderr",
     "output_type": "stream",
     "text": [
      " 20%|█▉        | 174/891 [03:17<13:15,  1.11s/it]"
     ]
    },
    {
     "name": "stdout",
     "output_type": "stream",
     "text": [
      "Aligned 298 residues (Free: 317, Bound: 304, Excluded: 25)\n",
      "Downloading PDB structure '2qpq'...\n",
      "Structure exists: 'data/PSCDB/PDB_structures/pdb2qpq.ent' \n"
     ]
    },
    {
     "name": "stderr",
     "output_type": "stream",
     "text": [
      " 20%|█▉        | 175/891 [03:18<13:19,  1.12s/it]"
     ]
    },
    {
     "name": "stdout",
     "output_type": "stream",
     "text": [
      "Aligned 296 residues (Free: 296, Bound: 296, Excluded: 0)\n",
      "Downloading PDB structure '1aja'...\n",
      "Downloading PDB structure '1elz'...\n"
     ]
    },
    {
     "name": "stderr",
     "output_type": "stream",
     "text": [
      " 20%|█▉        | 176/891 [03:19<12:49,  1.08s/it]"
     ]
    },
    {
     "name": "stdout",
     "output_type": "stream",
     "text": [
      "Aligned 435 residues (Free: 435, Bound: 449, Excluded: 14)\n",
      "Downloading PDB structure '1zvw'...\n"
     ]
    },
    {
     "name": "stderr",
     "output_type": "stream",
     "text": [
      " 20%|█▉        | 177/891 [03:20<11:23,  1.05it/s]"
     ]
    },
    {
     "name": "stdout",
     "output_type": "stream",
     "text": [
      "Structure exists: 'data/PSCDB/PDB_structures/pdb1zvw.ent' \n",
      "Aligned 339 residues (Free: 339, Bound: 339, Excluded: 0)\n",
      "Downloading PDB structure '2ywe'...\n",
      "Downloading PDB structure '2ywf'...\n"
     ]
    },
    {
     "name": "stderr",
     "output_type": "stream",
     "text": [
      " 20%|█▉        | 178/891 [03:21<12:19,  1.04s/it]"
     ]
    },
    {
     "name": "stdout",
     "output_type": "stream",
     "text": [
      "Aligned 526 residues (Free: 526, Bound: 532, Excluded: 6)\n",
      "Downloading PDB structure '2gyy'...\n",
      "Downloading PDB structure '2gz1'...\n"
     ]
    },
    {
     "name": "stderr",
     "output_type": "stream",
     "text": [
      " 20%|██        | 179/891 [03:22<14:12,  1.20s/it]"
     ]
    },
    {
     "name": "stdout",
     "output_type": "stream",
     "text": [
      "Aligned 352 residues (Free: 352, Bound: 357, Excluded: 5)\n",
      "Downloading PDB structure '2f9t'...\n",
      "Downloading PDB structure '2f9w'...\n"
     ]
    },
    {
     "name": "stderr",
     "output_type": "stream",
     "text": [
      " 20%|██        | 180/891 [03:24<14:16,  1.21s/it]"
     ]
    },
    {
     "name": "stdout",
     "output_type": "stream",
     "text": [
      "Aligned 234 residues (Free: 235, Bound: 243, Excluded: 10)\n",
      "Downloading PDB structure '1k5h'...\n",
      "Downloading PDB structure '1q0q'...\n"
     ]
    },
    {
     "name": "stderr",
     "output_type": "stream",
     "text": [
      " 20%|██        | 181/891 [03:25<14:50,  1.25s/it]"
     ]
    },
    {
     "name": "stdout",
     "output_type": "stream",
     "text": [
      "Aligned 398 residues (Free: 398, Bound: 398, Excluded: 0)\n",
      "Downloading PDB structure '2iyt'...\n",
      "Downloading PDB structure '2iyx'...\n"
     ]
    },
    {
     "name": "stderr",
     "output_type": "stream",
     "text": [
      " 20%|██        | 182/891 [03:26<12:59,  1.10s/it]"
     ]
    },
    {
     "name": "stdout",
     "output_type": "stream",
     "text": [
      "Aligned 169 residues (Free: 175, Bound: 169, Excluded: 6)\n",
      "Downloading PDB structure '2fb9'...\n",
      "Downloading PDB structure '2zdq'...\n"
     ]
    },
    {
     "name": "stderr",
     "output_type": "stream",
     "text": [
      " 21%|██        | 183/891 [03:27<12:21,  1.05s/it]"
     ]
    },
    {
     "name": "stdout",
     "output_type": "stream",
     "text": [
      "Aligned 319 residues (Free: 322, Bound: 319, Excluded: 3)\n",
      "Downloading PDB structure '1xja'...\n",
      "Downloading PDB structure '2aac'...\n"
     ]
    },
    {
     "name": "stderr",
     "output_type": "stream",
     "text": [
      " 21%|██        | 184/891 [03:28<12:37,  1.07s/it]"
     ]
    },
    {
     "name": "stdout",
     "output_type": "stream",
     "text": [
      "Aligned 161 residues (Free: 165, Bound: 163, Excluded: 6)\n",
      "Downloading PDB structure '1pzt'...\n",
      "Downloading PDB structure '1o0r'...\n"
     ]
    },
    {
     "name": "stderr",
     "output_type": "stream",
     "text": [
      " 21%|██        | 185/891 [03:29<12:13,  1.04s/it]"
     ]
    },
    {
     "name": "stdout",
     "output_type": "stream",
     "text": [
      "Aligned 271 residues (Free: 271, Bound: 271, Excluded: 0)\n",
      "Downloading PDB structure '1b6b'...\n",
      "Downloading PDB structure '1cjw'...\n"
     ]
    },
    {
     "name": "stderr",
     "output_type": "stream",
     "text": [
      " 21%|██        | 186/891 [03:29<11:19,  1.04it/s]"
     ]
    },
    {
     "name": "stdout",
     "output_type": "stream",
     "text": [
      "Aligned 162 residues (Free: 168, Bound: 166, Excluded: 10)\n",
      "Downloading PDB structure '1dqz'...\n",
      "Downloading PDB structure '1dqy'...\n"
     ]
    },
    {
     "name": "stderr",
     "output_type": "stream",
     "text": [
      " 21%|██        | 187/891 [03:30<11:12,  1.05it/s]"
     ]
    },
    {
     "name": "stdout",
     "output_type": "stream",
     "text": [
      "Aligned 280 residues (Free: 280, Bound: 283, Excluded: 3)\n",
      "Downloading PDB structure '1kx9'...\n",
      "Downloading PDB structure '1n8v'...\n"
     ]
    },
    {
     "name": "stderr",
     "output_type": "stream",
     "text": [
      " 21%|██        | 188/891 [03:31<10:30,  1.11it/s]"
     ]
    },
    {
     "name": "stdout",
     "output_type": "stream",
     "text": [
      "Aligned 100 residues (Free: 108, Bound: 101, Excluded: 9)\n",
      "Downloading PDB structure '2z1c'...\n"
     ]
    },
    {
     "name": "stderr",
     "output_type": "stream",
     "text": [
      " 21%|██        | 189/891 [03:32<09:38,  1.21it/s]"
     ]
    },
    {
     "name": "stdout",
     "output_type": "stream",
     "text": [
      "Structure exists: 'data/PSCDB/PDB_structures/pdb2z1c.ent' \n",
      "Aligned 71 residues (Free: 71, Bound: 71, Excluded: 0)\n",
      "Downloading PDB structure '1zuh'...\n",
      "Downloading PDB structure '1zui'...\n"
     ]
    },
    {
     "name": "stderr",
     "output_type": "stream",
     "text": [
      " 21%|██▏       | 190/891 [03:32<09:03,  1.29it/s]"
     ]
    },
    {
     "name": "stdout",
     "output_type": "stream",
     "text": [
      "Aligned 151 residues (Free: 151, Bound: 158, Excluded: 7)\n",
      "Downloading PDB structure '3seb'...\n",
      "Downloading PDB structure '1se3'...\n"
     ]
    },
    {
     "name": "stderr",
     "output_type": "stream",
     "text": [
      " 21%|██▏       | 191/891 [03:33<09:30,  1.23it/s]"
     ]
    },
    {
     "name": "stdout",
     "output_type": "stream",
     "text": [
      "Aligned 238 residues (Free: 238, Bound: 239, Excluded: 1)\n",
      "Downloading PDB structure '2zlb'...\n",
      "Downloading PDB structure '2cl5'...\n"
     ]
    },
    {
     "name": "stderr",
     "output_type": "stream",
     "text": [
      " 22%|██▏       | 192/891 [03:34<10:01,  1.16it/s]"
     ]
    },
    {
     "name": "stdout",
     "output_type": "stream",
     "text": [
      "Aligned 212 residues (Free: 212, Bound: 214, Excluded: 2)\n",
      "Downloading PDB structure '3bqh'...\n",
      "Downloading PDB structure '3bqf'...\n"
     ]
    },
    {
     "name": "stderr",
     "output_type": "stream",
     "text": [
      " 22%|██▏       | 193/891 [03:35<09:05,  1.28it/s]"
     ]
    },
    {
     "name": "stdout",
     "output_type": "stream",
     "text": [
      "Aligned 162 residues (Free: 162, Bound: 167, Excluded: 5)\n",
      "Downloading PDB structure '2f4b'...\n",
      "Downloading PDB structure '2om9'...\n"
     ]
    },
    {
     "name": "stderr",
     "output_type": "stream",
     "text": [
      " 22%|██▏       | 194/891 [03:37<11:54,  1.03s/it]"
     ]
    },
    {
     "name": "stdout",
     "output_type": "stream",
     "text": [
      "Aligned 270 residues (Free: 271, Bound: 270, Excluded: 1)\n",
      "Downloading PDB structure '1jfv'...\n",
      "Downloading PDB structure '1rxe'...\n"
     ]
    },
    {
     "name": "stderr",
     "output_type": "stream",
     "text": [
      " 22%|██▏       | 195/891 [03:37<10:49,  1.07it/s]"
     ]
    },
    {
     "name": "stdout",
     "output_type": "stream",
     "text": [
      "Aligned 129 residues (Free: 129, Bound: 131, Excluded: 2)\n",
      "Downloading PDB structure '1nzu'...\n",
      "Downloading PDB structure '3bec'...\n"
     ]
    },
    {
     "name": "stderr",
     "output_type": "stream",
     "text": [
      " 22%|██▏       | 196/891 [03:38<10:40,  1.08it/s]"
     ]
    },
    {
     "name": "stdout",
     "output_type": "stream",
     "text": [
      "Aligned 346 residues (Free: 347, Bound: 352, Excluded: 7)\n",
      "Downloading PDB structure '1ww7'...\n",
      "Downloading PDB structure '1ww4'...\n"
     ]
    },
    {
     "name": "stderr",
     "output_type": "stream",
     "text": [
      " 22%|██▏       | 197/891 [03:39<11:38,  1.01s/it]"
     ]
    },
    {
     "name": "stdout",
     "output_type": "stream",
     "text": [
      "Aligned 160 residues (Free: 160, Bound: 160, Excluded: 0)\n",
      "Downloading PDB structure '1kt9'...\n",
      "Downloading PDB structure '1ktg'...\n"
     ]
    },
    {
     "name": "stderr",
     "output_type": "stream",
     "text": [
      " 22%|██▏       | 198/891 [03:40<10:35,  1.09it/s]"
     ]
    },
    {
     "name": "stdout",
     "output_type": "stream",
     "text": [
      "Aligned 131 residues (Free: 132, Bound: 137, Excluded: 7)\n",
      "Downloading PDB structure '1nxm'...\n",
      "Downloading PDB structure '2ixl'...\n"
     ]
    },
    {
     "name": "stderr",
     "output_type": "stream",
     "text": [
      " 22%|██▏       | 199/891 [03:42<12:59,  1.13s/it]"
     ]
    },
    {
     "name": "stdout",
     "output_type": "stream",
     "text": [
      "Aligned 194 residues (Free: 194, Bound: 196, Excluded: 2)\n",
      "Downloading PDB structure '2hv6'...\n",
      "Downloading PDB structure '2hv7'...\n"
     ]
    },
    {
     "name": "stderr",
     "output_type": "stream",
     "text": [
      " 22%|██▏       | 200/891 [03:43<13:55,  1.21s/it]"
     ]
    },
    {
     "name": "stdout",
     "output_type": "stream",
     "text": [
      "Aligned 301 residues (Free: 301, Bound: 301, Excluded: 0)\n",
      "Downloading PDB structure '2o0k'...\n",
      "Downloading PDB structure '2o0j'...\n"
     ]
    },
    {
     "name": "stderr",
     "output_type": "stream",
     "text": [
      " 23%|██▎       | 201/891 [03:44<14:24,  1.25s/it]"
     ]
    },
    {
     "name": "stdout",
     "output_type": "stream",
     "text": [
      "Aligned 357 residues (Free: 357, Bound: 360, Excluded: 3)\n",
      "Downloading PDB structure '1bhs'...\n",
      "Downloading PDB structure '1i5r'...\n"
     ]
    },
    {
     "name": "stderr",
     "output_type": "stream",
     "text": [
      " 23%|██▎       | 202/891 [03:45<12:57,  1.13s/it]"
     ]
    },
    {
     "name": "stdout",
     "output_type": "stream",
     "text": [
      "Aligned 284 residues (Free: 284, Bound: 285, Excluded: 1)\n",
      "Downloading PDB structure '1tib'...\n",
      "Downloading PDB structure '1ein'...\n"
     ]
    },
    {
     "name": "stderr",
     "output_type": "stream",
     "text": [
      " 23%|██▎       | 203/891 [03:46<11:52,  1.04s/it]"
     ]
    },
    {
     "name": "stdout",
     "output_type": "stream",
     "text": [
      "Aligned 269 residues (Free: 269, Bound: 269, Excluded: 0)\n",
      "Downloading PDB structure '1gqn'...\n",
      "Downloading PDB structure '1l9w'...\n"
     ]
    },
    {
     "name": "stderr",
     "output_type": "stream",
     "text": [
      " 23%|██▎       | 204/891 [03:47<11:41,  1.02s/it]"
     ]
    },
    {
     "name": "stdout",
     "output_type": "stream",
     "text": [
      "Aligned 252 residues (Free: 252, Bound: 252, Excluded: 0)\n",
      "Downloading PDB structure '1vjs'...\n",
      "Downloading PDB structure '1bli'...\n"
     ]
    },
    {
     "name": "stderr",
     "output_type": "stream",
     "text": [
      " 23%|██▎       | 205/891 [03:48<12:27,  1.09s/it]"
     ]
    },
    {
     "name": "stdout",
     "output_type": "stream",
     "text": [
      "Aligned 469 residues (Free: 469, Bound: 481, Excluded: 12)\n",
      "Downloading PDB structure '1hz6'...\n",
      "Downloading PDB structure '1k52'...\n"
     ]
    },
    {
     "name": "stderr",
     "output_type": "stream",
     "text": [
      " 23%|██▎       | 206/891 [03:49<11:12,  1.02it/s]"
     ]
    },
    {
     "name": "stdout",
     "output_type": "stream",
     "text": [
      "Aligned 67 residues (Free: 67, Bound: 72, Excluded: 5)\n",
      "Downloading PDB structure '2gt2'...\n",
      "Downloading PDB structure '1rya'...\n"
     ]
    },
    {
     "name": "stderr",
     "output_type": "stream",
     "text": [
      " 23%|██▎       | 207/891 [03:50<11:10,  1.02it/s]"
     ]
    },
    {
     "name": "stdout",
     "output_type": "stream",
     "text": [
      "Aligned 151 residues (Free: 151, Bound: 160, Excluded: 9)\n",
      "Downloading PDB structure '2i4l'...\n",
      "Downloading PDB structure '2i4n'...\n"
     ]
    },
    {
     "name": "stderr",
     "output_type": "stream",
     "text": [
      " 23%|██▎       | 208/891 [03:52<12:59,  1.14s/it]"
     ]
    },
    {
     "name": "stdout",
     "output_type": "stream",
     "text": [
      "Aligned 439 residues (Free: 439, Bound: 441, Excluded: 2)\n",
      "Downloading PDB structure '2og6'...\n",
      "Downloading PDB structure '2og7'...\n"
     ]
    },
    {
     "name": "stderr",
     "output_type": "stream",
     "text": [
      " 23%|██▎       | 209/891 [03:52<12:07,  1.07s/it]"
     ]
    },
    {
     "name": "stdout",
     "output_type": "stream",
     "text": [
      "Aligned 319 residues (Free: 323, Bound: 319, Excluded: 4)\n",
      "Downloading PDB structure '2p52'...\n",
      "Downloading PDB structure '2iom'...\n"
     ]
    },
    {
     "name": "stderr",
     "output_type": "stream",
     "text": [
      " 24%|██▎       | 210/891 [03:53<11:00,  1.03it/s]"
     ]
    },
    {
     "name": "stdout",
     "output_type": "stream",
     "text": [
      "Aligned 187 residues (Free: 196, Bound: 187, Excluded: 9)\n",
      "Downloading PDB structure '1l7o'...\n",
      "Downloading PDB structure '1l7p'...\n"
     ]
    },
    {
     "name": "stderr",
     "output_type": "stream",
     "text": [
      " 24%|██▎       | 211/891 [03:54<10:58,  1.03it/s]"
     ]
    },
    {
     "name": "stdout",
     "output_type": "stream",
     "text": [
      "Aligned 199 residues (Free: 199, Bound: 206, Excluded: 7)\n",
      "Downloading PDB structure '1ey0'...\n",
      "Downloading PDB structure '1stb'...\n"
     ]
    },
    {
     "name": "stderr",
     "output_type": "stream",
     "text": [
      " 24%|██▍       | 212/891 [03:55<09:57,  1.14it/s]"
     ]
    },
    {
     "name": "stdout",
     "output_type": "stream",
     "text": [
      "Aligned 136 residues (Free: 136, Bound: 137, Excluded: 1)\n",
      "Downloading PDB structure '1n00'...\n",
      "Downloading PDB structure '3brx'...\n"
     ]
    },
    {
     "name": "stderr",
     "output_type": "stream",
     "text": [
      " 24%|██▍       | 213/891 [03:56<09:50,  1.15it/s]"
     ]
    },
    {
     "name": "stdout",
     "output_type": "stream",
     "text": [
      "Aligned 317 residues (Free: 318, Bound: 317, Excluded: 1)\n",
      "Downloading PDB structure '1bsq'...\n",
      "Downloading PDB structure '2gj5'...\n"
     ]
    },
    {
     "name": "stderr",
     "output_type": "stream",
     "text": [
      " 24%|██▍       | 214/891 [03:56<08:53,  1.27it/s]"
     ]
    },
    {
     "name": "stdout",
     "output_type": "stream",
     "text": [
      "Aligned 161 residues (Free: 162, Bound: 161, Excluded: 1)\n",
      "Downloading PDB structure '1r1c'...\n"
     ]
    },
    {
     "name": "stderr",
     "output_type": "stream",
     "text": [
      " 24%|██▍       | 215/891 [03:57<08:57,  1.26it/s]"
     ]
    },
    {
     "name": "stdout",
     "output_type": "stream",
     "text": [
      "Structure exists: 'data/PSCDB/PDB_structures/pdb1r1c.ent' \n",
      "Aligned 128 residues (Free: 128, Bound: 128, Excluded: 0)\n",
      "Downloading PDB structure '2z8n'...\n",
      "Downloading PDB structure '2z8p'...\n"
     ]
    },
    {
     "name": "stderr",
     "output_type": "stream",
     "text": [
      " 24%|██▍       | 216/891 [03:58<09:10,  1.23it/s]"
     ]
    },
    {
     "name": "stdout",
     "output_type": "stream",
     "text": [
      "Aligned 215 residues (Free: 215, Bound: 217, Excluded: 2)\n",
      "Downloading PDB structure '1t2w'...\n"
     ]
    },
    {
     "name": "stderr",
     "output_type": "stream",
     "text": [
      " 24%|██▍       | 217/891 [03:59<08:13,  1.37it/s]"
     ]
    },
    {
     "name": "stdout",
     "output_type": "stream",
     "text": [
      "Structure exists: 'data/PSCDB/PDB_structures/pdb1t2w.ent' \n",
      "Aligned 145 residues (Free: 145, Bound: 145, Excluded: 0)\n",
      "Downloading PDB structure '2vrk'...\n",
      "Downloading PDB structure '2vrq'...\n"
     ]
    },
    {
     "name": "stderr",
     "output_type": "stream",
     "text": [
      " 24%|██▍       | 218/891 [04:00<11:10,  1.00it/s]"
     ]
    },
    {
     "name": "stdout",
     "output_type": "stream",
     "text": [
      "Aligned 478 residues (Free: 478, Bound: 493, Excluded: 15)\n",
      "Downloading PDB structure '2b7k'...\n",
      "Downloading PDB structure '2b7j'...\n"
     ]
    },
    {
     "name": "stderr",
     "output_type": "stream",
     "text": [
      " 25%|██▍       | 219/891 [04:01<11:35,  1.03s/it]"
     ]
    },
    {
     "name": "stdout",
     "output_type": "stream",
     "text": [
      "Aligned 154 residues (Free: 155, Bound: 158, Excluded: 5)\n",
      "Downloading PDB structure '1ujm'...\n",
      "Downloading PDB structure '1y1p'...\n"
     ]
    },
    {
     "name": "stderr",
     "output_type": "stream",
     "text": [
      " 25%|██▍       | 220/891 [04:03<12:50,  1.15s/it]"
     ]
    },
    {
     "name": "stdout",
     "output_type": "stream",
     "text": [
      "Aligned 337 residues (Free: 337, Bound: 342, Excluded: 5)\n",
      "Downloading PDB structure '2epl'...\n",
      "Downloading PDB structure '2epn'...\n"
     ]
    },
    {
     "name": "stderr",
     "output_type": "stream",
     "text": [
      " 25%|██▍       | 221/891 [04:04<12:59,  1.16s/it]"
     ]
    },
    {
     "name": "stdout",
     "output_type": "stream",
     "text": [
      "No common residues between 2epl and 2epn\n",
      "Downloading PDB structure '2r4i'...\n",
      "Structure exists: 'data/PSCDB/PDB_structures/pdb2r4i.ent' \n",
      "Aligned 121 residues (Free: 121, Bound: 121, Excluded: 0)\n"
     ]
    },
    {
     "name": "stderr",
     "output_type": "stream",
     "text": [
      " 25%|██▍       | 222/891 [04:05<11:42,  1.05s/it]"
     ]
    },
    {
     "name": "stdout",
     "output_type": "stream",
     "text": [
      "Downloading PDB structure '1smk'...\n",
      "Structure exists: 'data/PSCDB/PDB_structures/pdb1smk.ent' \n"
     ]
    },
    {
     "name": "stderr",
     "output_type": "stream",
     "text": [
      " 25%|██▌       | 223/891 [04:06<12:28,  1.12s/it]"
     ]
    },
    {
     "name": "stdout",
     "output_type": "stream",
     "text": [
      "Aligned 313 residues (Free: 313, Bound: 313, Excluded: 0)\n",
      "Downloading PDB structure '2rda'...\n",
      "Downloading PDB structure '1juj'...\n"
     ]
    },
    {
     "name": "stderr",
     "output_type": "stream",
     "text": [
      " 25%|██▌       | 224/891 [04:07<13:21,  1.20s/it]"
     ]
    },
    {
     "name": "stdout",
     "output_type": "stream",
     "text": [
      "Aligned 279 residues (Free: 282, Bound: 286, Excluded: 10)\n",
      "Downloading PDB structure '1qat'...\n",
      "Downloading PDB structure '1djz'...\n"
     ]
    },
    {
     "name": "stderr",
     "output_type": "stream",
     "text": [
      " 25%|██▌       | 225/891 [04:09<15:16,  1.38s/it]"
     ]
    },
    {
     "name": "stdout",
     "output_type": "stream",
     "text": [
      "Aligned 507 residues (Free: 509, Bound: 513, Excluded: 8)\n",
      "Downloading PDB structure '1wdp'...\n",
      "Downloading PDB structure '1q6f'...\n"
     ]
    },
    {
     "name": "stderr",
     "output_type": "stream",
     "text": [
      " 25%|██▌       | 226/891 [04:10<14:32,  1.31s/it]"
     ]
    },
    {
     "name": "stdout",
     "output_type": "stream",
     "text": [
      "Aligned 490 residues (Free: 493, Bound: 490, Excluded: 3)\n",
      "Downloading PDB structure '2j24'...\n",
      "Downloading PDB structure '2j27'...\n"
     ]
    },
    {
     "name": "stderr",
     "output_type": "stream",
     "text": [
      " 25%|██▌       | 227/891 [04:11<13:48,  1.25s/it]"
     ]
    },
    {
     "name": "stdout",
     "output_type": "stream",
     "text": [
      "Aligned 249 residues (Free: 249, Bound: 249, Excluded: 0)\n",
      "Downloading PDB structure '3ei7'...\n",
      "Downloading PDB structure '2z1z'...\n"
     ]
    },
    {
     "name": "stderr",
     "output_type": "stream",
     "text": [
      " 26%|██▌       | 228/891 [04:13<14:17,  1.29s/it]"
     ]
    },
    {
     "name": "stdout",
     "output_type": "stream",
     "text": [
      "Aligned 408 residues (Free: 412, Bound: 408, Excluded: 4)\n",
      "Downloading PDB structure '2zco'...\n",
      "Downloading PDB structure '2zcq'...\n"
     ]
    },
    {
     "name": "stderr",
     "output_type": "stream",
     "text": [
      " 26%|██▌       | 229/891 [04:14<12:44,  1.16s/it]"
     ]
    },
    {
     "name": "stdout",
     "output_type": "stream",
     "text": [
      "Aligned 284 residues (Free: 284, Bound: 284, Excluded: 0)\n",
      "Downloading PDB structure '1jez'...\n",
      "Downloading PDB structure '1k8c'...\n"
     ]
    },
    {
     "name": "stderr",
     "output_type": "stream",
     "text": [
      " 26%|██▌       | 230/891 [04:15<12:41,  1.15s/it]"
     ]
    },
    {
     "name": "stdout",
     "output_type": "stream",
     "text": [
      "Aligned 300 residues (Free: 300, Bound: 317, Excluded: 17)\n",
      "Downloading PDB structure '1x0v'...\n",
      "Downloading PDB structure '1wpq'...\n"
     ]
    },
    {
     "name": "stderr",
     "output_type": "stream",
     "text": [
      " 26%|██▌       | 231/891 [04:16<13:16,  1.21s/it]"
     ]
    },
    {
     "name": "stdout",
     "output_type": "stream",
     "text": [
      "Aligned 340 residues (Free: 340, Bound: 348, Excluded: 8)\n",
      "Downloading PDB structure '1i6w'...\n",
      "Downloading PDB structure '1r4z'...\n"
     ]
    },
    {
     "name": "stderr",
     "output_type": "stream",
     "text": [
      " 26%|██▌       | 232/891 [04:17<11:33,  1.05s/it]"
     ]
    },
    {
     "name": "stdout",
     "output_type": "stream",
     "text": [
      "Aligned 179 residues (Free: 179, Bound: 179, Excluded: 0)\n",
      "Downloading PDB structure '2ze4'...\n",
      "Downloading PDB structure '2ze9'...\n"
     ]
    },
    {
     "name": "stderr",
     "output_type": "stream",
     "text": [
      " 26%|██▌       | 233/891 [04:18<11:48,  1.08s/it]"
     ]
    },
    {
     "name": "stdout",
     "output_type": "stream",
     "text": [
      "Aligned 501 residues (Free: 501, Bound: 504, Excluded: 3)\n",
      "Downloading PDB structure '2dps'...\n",
      "Downloading PDB structure '2dpt'...\n"
     ]
    },
    {
     "name": "stderr",
     "output_type": "stream",
     "text": [
      " 26%|██▋       | 234/891 [04:19<11:37,  1.06s/it]"
     ]
    },
    {
     "name": "stdout",
     "output_type": "stream",
     "text": [
      "Aligned 228 residues (Free: 228, Bound: 232, Excluded: 4)\n",
      "Downloading PDB structure '1rn4'...\n",
      "Downloading PDB structure '2bir'...\n"
     ]
    },
    {
     "name": "stderr",
     "output_type": "stream",
     "text": [
      " 26%|██▋       | 235/891 [04:20<10:29,  1.04it/s]"
     ]
    },
    {
     "name": "stdout",
     "output_type": "stream",
     "text": [
      "Aligned 100 residues (Free: 100, Bound: 104, Excluded: 4)\n",
      "Downloading PDB structure '2b4v'...\n",
      "Downloading PDB structure '2b51'...\n"
     ]
    },
    {
     "name": "stderr",
     "output_type": "stream",
     "text": [
      " 26%|██▋       | 236/891 [04:21<10:41,  1.02it/s]"
     ]
    },
    {
     "name": "stdout",
     "output_type": "stream",
     "text": [
      "Aligned 422 residues (Free: 422, Bound: 444, Excluded: 22)\n",
      "Downloading PDB structure '2on3'...\n",
      "Downloading PDB structure '2oo0'...\n"
     ]
    },
    {
     "name": "stderr",
     "output_type": "stream",
     "text": [
      " 27%|██▋       | 237/891 [04:22<11:22,  1.04s/it]"
     ]
    },
    {
     "name": "stdout",
     "output_type": "stream",
     "text": [
      "Aligned 392 residues (Free: 392, Bound: 419, Excluded: 27)\n",
      "Downloading PDB structure '1mqr'...\n",
      "Downloading PDB structure '1mqq'...\n"
     ]
    },
    {
     "name": "stderr",
     "output_type": "stream",
     "text": [
      " 27%|██▋       | 238/891 [04:23<12:26,  1.14s/it]"
     ]
    },
    {
     "name": "stdout",
     "output_type": "stream",
     "text": [
      "Aligned 672 residues (Free: 674, Bound: 675, Excluded: 5)\n",
      "Downloading PDB structure '1rjf'...\n",
      "Downloading PDB structure '2ob2'...\n"
     ]
    },
    {
     "name": "stderr",
     "output_type": "stream",
     "text": [
      " 27%|██▋       | 239/891 [04:25<13:37,  1.25s/it]"
     ]
    },
    {
     "name": "stdout",
     "output_type": "stream",
     "text": [
      "Aligned 319 residues (Free: 321, Bound: 326, Excluded: 9)\n",
      "Downloading PDB structure '2c9r'...\n",
      "Downloading PDB structure '2c9p'...\n"
     ]
    },
    {
     "name": "stderr",
     "output_type": "stream",
     "text": [
      " 27%|██▋       | 240/891 [04:25<11:55,  1.10s/it]"
     ]
    },
    {
     "name": "stdout",
     "output_type": "stream",
     "text": [
      "Aligned 97 residues (Free: 97, Bound: 102, Excluded: 5)\n",
      "Downloading PDB structure '2bgq'...\n",
      "Downloading PDB structure '2vdg'...\n"
     ]
    },
    {
     "name": "stderr",
     "output_type": "stream",
     "text": [
      " 27%|██▋       | 241/891 [04:26<11:14,  1.04s/it]"
     ]
    },
    {
     "name": "stdout",
     "output_type": "stream",
     "text": [
      "Aligned 301 residues (Free: 305, Bound: 308, Excluded: 11)\n",
      "Downloading PDB structure '1m22'...\n",
      "Downloading PDB structure '1m21'...\n"
     ]
    },
    {
     "name": "stderr",
     "output_type": "stream",
     "text": [
      " 27%|██▋       | 242/891 [04:28<12:29,  1.16s/it]"
     ]
    },
    {
     "name": "stdout",
     "output_type": "stream",
     "text": [
      "Aligned 484 residues (Free: 487, Bound: 487, Excluded: 6)\n",
      "Downloading PDB structure '2vf4'...\n",
      "Downloading PDB structure '2vf5'...\n"
     ]
    },
    {
     "name": "stderr",
     "output_type": "stream",
     "text": [
      " 27%|██▋       | 243/891 [04:29<11:40,  1.08s/it]"
     ]
    },
    {
     "name": "stdout",
     "output_type": "stream",
     "text": [
      "Aligned 359 residues (Free: 359, Bound: 366, Excluded: 7)\n",
      "Downloading PDB structure '1fo8'...\n",
      "Downloading PDB structure '1foa'...\n"
     ]
    },
    {
     "name": "stderr",
     "output_type": "stream",
     "text": [
      " 27%|██▋       | 244/891 [04:29<10:36,  1.02it/s]"
     ]
    },
    {
     "name": "stdout",
     "output_type": "stream",
     "text": [
      "Aligned 329 residues (Free: 330, Bound: 342, Excluded: 14)\n",
      "Downloading PDB structure '2q18'...\n",
      "Downloading PDB structure '2q1c'...\n"
     ]
    },
    {
     "name": "stderr",
     "output_type": "stream",
     "text": [
      " 27%|██▋       | 245/891 [04:30<10:06,  1.07it/s]"
     ]
    },
    {
     "name": "stdout",
     "output_type": "stream",
     "text": [
      "Aligned 282 residues (Free: 282, Bound: 291, Excluded: 9)\n",
      "Downloading PDB structure '1tqi'...\n",
      "Downloading PDB structure '1zao'...\n"
     ]
    },
    {
     "name": "stderr",
     "output_type": "stream",
     "text": [
      " 28%|██▊       | 246/891 [04:31<10:46,  1.00s/it]"
     ]
    },
    {
     "name": "stdout",
     "output_type": "stream",
     "text": [
      "Aligned 268 residues (Free: 269, Bound: 271, Excluded: 4)\n",
      "Downloading PDB structure '1jxh'...\n",
      "Downloading PDB structure '1jxi'...\n"
     ]
    },
    {
     "name": "stderr",
     "output_type": "stream",
     "text": [
      " 28%|██▊       | 247/891 [04:32<10:23,  1.03it/s]"
     ]
    },
    {
     "name": "stdout",
     "output_type": "stream",
     "text": [
      "Aligned 248 residues (Free: 248, Bound: 254, Excluded: 6)\n",
      "Downloading PDB structure '1nsj'...\n",
      "Downloading PDB structure '1lbm'...\n"
     ]
    },
    {
     "name": "stderr",
     "output_type": "stream",
     "text": [
      " 28%|██▊       | 248/891 [04:33<09:30,  1.13it/s]"
     ]
    },
    {
     "name": "stdout",
     "output_type": "stream",
     "text": [
      "Aligned 194 residues (Free: 205, Bound: 194, Excluded: 11)\n",
      "Downloading PDB structure '2etv'...\n"
     ]
    },
    {
     "name": "stderr",
     "output_type": "stream",
     "text": [
      " 28%|██▊       | 249/891 [04:34<08:59,  1.19it/s]"
     ]
    },
    {
     "name": "stdout",
     "output_type": "stream",
     "text": [
      "Structure exists: 'data/PSCDB/PDB_structures/pdb2etv.ent' \n",
      "Aligned 318 residues (Free: 318, Bound: 318, Excluded: 0)\n",
      "Downloading PDB structure '2bce'...\n",
      "Downloading PDB structure '1akn'...\n"
     ]
    },
    {
     "name": "stderr",
     "output_type": "stream",
     "text": [
      " 28%|██▊       | 250/891 [04:35<10:34,  1.01it/s]"
     ]
    },
    {
     "name": "stdout",
     "output_type": "stream",
     "text": [
      "Aligned 526 residues (Free: 532, Bound: 547, Excluded: 27)\n",
      "Downloading PDB structure '1rba'...\n",
      "Downloading PDB structure '9rub'...\n"
     ]
    },
    {
     "name": "stderr",
     "output_type": "stream",
     "text": [
      " 28%|██▊       | 251/891 [04:36<11:04,  1.04s/it]"
     ]
    },
    {
     "name": "stdout",
     "output_type": "stream",
     "text": [
      "Aligned 419 residues (Free: 419, Bound: 459, Excluded: 40)\n",
      "Downloading PDB structure '1s0g'...\n",
      "Downloading PDB structure '1f31'...\n"
     ]
    },
    {
     "name": "stderr",
     "output_type": "stream",
     "text": [
      " 28%|██▊       | 252/891 [04:38<12:59,  1.22s/it]"
     ]
    },
    {
     "name": "stdout",
     "output_type": "stream",
     "text": [
      "Aligned 1280 residues (Free: 1288, Bound: 1280, Excluded: 8)\n",
      "Downloading PDB structure '2f8s'...\n",
      "Downloading PDB structure '1yvu'...\n"
     ]
    },
    {
     "name": "stderr",
     "output_type": "stream",
     "text": [
      " 28%|██▊       | 253/891 [04:39<13:08,  1.24s/it]"
     ]
    },
    {
     "name": "stdout",
     "output_type": "stream",
     "text": [
      "Downloading PDB structure '1goh'...\n",
      "Downloading PDB structure '1k3i'...\n"
     ]
    },
    {
     "name": "stderr",
     "output_type": "stream",
     "text": [
      " 29%|██▊       | 254/891 [04:41<13:32,  1.28s/it]"
     ]
    },
    {
     "name": "stdout",
     "output_type": "stream",
     "text": [
      "Aligned 638 residues (Free: 639, Bound: 650, Excluded: 13)\n",
      "Downloading PDB structure '1yuy'...\n",
      "Downloading PDB structure '1yvz'...\n"
     ]
    },
    {
     "name": "stderr",
     "output_type": "stream",
     "text": [
      " 29%|██▊       | 255/891 [04:42<12:46,  1.20s/it]"
     ]
    },
    {
     "name": "stdout",
     "output_type": "stream",
     "text": [
      "Aligned 543 residues (Free: 558, Bound: 548, Excluded: 20)\n",
      "Downloading PDB structure '2p7l'...\n",
      "Downloading PDB structure '2p7p'...\n"
     ]
    },
    {
     "name": "stderr",
     "output_type": "stream",
     "text": [
      " 29%|██▊       | 256/891 [04:43<12:26,  1.18s/it]"
     ]
    },
    {
     "name": "stdout",
     "output_type": "stream",
     "text": [
      "Aligned 125 residues (Free: 125, Bound: 131, Excluded: 6)\n",
      "Downloading PDB structure '1m47'...\n",
      "Downloading PDB structure '1pw6'...\n"
     ]
    },
    {
     "name": "stderr",
     "output_type": "stream",
     "text": [
      " 29%|██▉       | 257/891 [04:44<11:37,  1.10s/it]"
     ]
    },
    {
     "name": "stdout",
     "output_type": "stream",
     "text": [
      "Aligned 117 residues (Free: 122, Bound: 121, Excluded: 9)\n",
      "Downloading PDB structure '1vde'...\n",
      "Downloading PDB structure '1ef0'...\n"
     ]
    },
    {
     "name": "stderr",
     "output_type": "stream",
     "text": [
      " 29%|██▉       | 258/891 [04:45<12:47,  1.21s/it]"
     ]
    },
    {
     "name": "stdout",
     "output_type": "stream",
     "text": [
      "Aligned 418 residues (Free: 429, Bound: 425, Excluded: 18)\n",
      "Downloading PDB structure '2qct'...\n"
     ]
    },
    {
     "name": "stderr",
     "output_type": "stream",
     "text": [
      " 29%|██▉       | 259/891 [04:46<11:32,  1.09s/it]"
     ]
    },
    {
     "name": "stdout",
     "output_type": "stream",
     "text": [
      "Structure exists: 'data/PSCDB/PDB_structures/pdb2qct.ent' \n",
      "Aligned 282 residues (Free: 282, Bound: 282, Excluded: 0)\n",
      "Downloading PDB structure '1kzh'...\n",
      "Downloading PDB structure '2f48'...\n"
     ]
    },
    {
     "name": "stderr",
     "output_type": "stream",
     "text": [
      " 29%|██▉       | 260/891 [04:47<12:20,  1.17s/it]"
     ]
    },
    {
     "name": "stdout",
     "output_type": "stream",
     "text": [
      "Aligned 550 residues (Free: 550, Bound: 551, Excluded: 1)\n",
      "Downloading PDB structure '3bok'...\n",
      "Downloading PDB structure '2ise'...\n"
     ]
    },
    {
     "name": "stderr",
     "output_type": "stream",
     "text": [
      " 29%|██▉       | 261/891 [04:48<12:15,  1.17s/it]"
     ]
    },
    {
     "name": "stdout",
     "output_type": "stream",
     "text": [
      "Aligned 414 residues (Free: 416, Bound: 421, Excluded: 9)\n",
      "Downloading PDB structure '1ymy'...\n",
      "Downloading PDB structure '2p50'...\n"
     ]
    },
    {
     "name": "stderr",
     "output_type": "stream",
     "text": [
      " 29%|██▉       | 262/891 [04:50<12:46,  1.22s/it]"
     ]
    },
    {
     "name": "stdout",
     "output_type": "stream",
     "text": [
      "Aligned 376 residues (Free: 376, Bound: 382, Excluded: 6)\n",
      "Downloading PDB structure '2e3m'...\n",
      "Downloading PDB structure '2e3p'...\n"
     ]
    },
    {
     "name": "stderr",
     "output_type": "stream",
     "text": [
      " 30%|██▉       | 263/891 [04:51<12:44,  1.22s/it]"
     ]
    },
    {
     "name": "stdout",
     "output_type": "stream",
     "text": [
      "Aligned 235 residues (Free: 237, Bound: 235, Excluded: 2)\n",
      "Downloading PDB structure '1tws'...\n",
      "Downloading PDB structure '1tx2'...\n"
     ]
    },
    {
     "name": "stderr",
     "output_type": "stream",
     "text": [
      " 30%|██▉       | 264/891 [04:52<12:14,  1.17s/it]"
     ]
    },
    {
     "name": "stdout",
     "output_type": "stream",
     "text": [
      "Aligned 269 residues (Free: 273, Bound: 269, Excluded: 4)\n",
      "Downloading PDB structure '1f8n'...\n",
      "Downloading PDB structure '2sbl'...\n"
     ]
    },
    {
     "name": "stderr",
     "output_type": "stream",
     "text": [
      " 30%|██▉       | 265/891 [04:53<12:31,  1.20s/it]"
     ]
    },
    {
     "name": "stdout",
     "output_type": "stream",
     "text": [
      "No common residues between 1f8n and 2sbl\n",
      "Downloading PDB structure '1sry'...\n",
      "Downloading PDB structure '1set'...\n"
     ]
    },
    {
     "name": "stderr",
     "output_type": "stream",
     "text": [
      " 30%|██▉       | 266/891 [04:55<13:31,  1.30s/it]"
     ]
    },
    {
     "name": "stdout",
     "output_type": "stream",
     "text": [
      "Aligned 421 residues (Free: 421, Bound: 421, Excluded: 0)\n",
      "Downloading PDB structure '1jop'...\n",
      "Downloading PDB structure '1s4c'...\n"
     ]
    },
    {
     "name": "stderr",
     "output_type": "stream",
     "text": [
      " 30%|██▉       | 267/891 [04:56<12:16,  1.18s/it]"
     ]
    },
    {
     "name": "stdout",
     "output_type": "stream",
     "text": [
      "Aligned 140 residues (Free: 140, Bound: 150, Excluded: 10)\n",
      "Downloading PDB structure '1rxt'...\n",
      "Structure exists: 'data/PSCDB/PDB_structures/pdb1rxt.ent' \n"
     ]
    },
    {
     "name": "stderr",
     "output_type": "stream",
     "text": [
      " 30%|███       | 268/891 [04:57<11:59,  1.15s/it]"
     ]
    },
    {
     "name": "stdout",
     "output_type": "stream",
     "text": [
      "Aligned 342 residues (Free: 342, Bound: 342, Excluded: 0)\n",
      "Downloading PDB structure '1u6e'...\n",
      "Downloading PDB structure '2qo0'...\n"
     ]
    },
    {
     "name": "stderr",
     "output_type": "stream",
     "text": [
      " 30%|███       | 269/891 [04:58<11:44,  1.13s/it]"
     ]
    },
    {
     "name": "stdout",
     "output_type": "stream",
     "text": [
      "Aligned 321 residues (Free: 334, Bound: 328, Excluded: 20)\n",
      "Downloading PDB structure '1xyf'...\n",
      "Downloading PDB structure '1v6u'...\n"
     ]
    },
    {
     "name": "stderr",
     "output_type": "stream",
     "text": [
      " 30%|███       | 270/891 [04:59<12:01,  1.16s/it]"
     ]
    },
    {
     "name": "stdout",
     "output_type": "stream",
     "text": [
      "Aligned 427 residues (Free: 427, Bound: 436, Excluded: 9)\n",
      "Downloading PDB structure '3c8v'...\n",
      "Structure exists: 'data/PSCDB/PDB_structures/pdb3c8v.ent' \n",
      "Aligned 443 residues (Free: 443, Bound: 443, Excluded: 0)\n"
     ]
    },
    {
     "name": "stderr",
     "output_type": "stream",
     "text": [
      " 30%|███       | 271/891 [05:00<11:33,  1.12s/it]"
     ]
    },
    {
     "name": "stdout",
     "output_type": "stream",
     "text": [
      "Downloading PDB structure '2dwq'...\n",
      "Downloading PDB structure '2dby'...\n"
     ]
    },
    {
     "name": "stderr",
     "output_type": "stream",
     "text": [
      " 31%|███       | 272/891 [05:01<11:40,  1.13s/it]"
     ]
    },
    {
     "name": "stdout",
     "output_type": "stream",
     "text": [
      "Aligned 348 residues (Free: 354, Bound: 353, Excluded: 11)\n",
      "Downloading PDB structure '2orx'...\n",
      "Downloading PDB structure '2orz'...\n"
     ]
    },
    {
     "name": "stderr",
     "output_type": "stream",
     "text": [
      " 31%|███       | 273/891 [05:02<10:53,  1.06s/it]"
     ]
    },
    {
     "name": "stdout",
     "output_type": "stream",
     "text": [
      "Aligned 313 residues (Free: 314, Bound: 313, Excluded: 1)\n",
      "Downloading PDB structure '1lyy'...\n",
      "Downloading PDB structure '1re2'...\n"
     ]
    },
    {
     "name": "stderr",
     "output_type": "stream",
     "text": [
      " 31%|███       | 274/891 [05:03<09:44,  1.05it/s]"
     ]
    },
    {
     "name": "stdout",
     "output_type": "stream",
     "text": [
      "Aligned 130 residues (Free: 130, Bound: 130, Excluded: 0)\n",
      "Downloading PDB structure '3e59'...\n",
      "Structure exists: 'data/PSCDB/PDB_structures/pdb3e59.ent' \n"
     ]
    },
    {
     "name": "stderr",
     "output_type": "stream",
     "text": [
      " 31%|███       | 275/891 [05:04<09:59,  1.03it/s]"
     ]
    },
    {
     "name": "stdout",
     "output_type": "stream",
     "text": [
      "Aligned 311 residues (Free: 311, Bound: 311, Excluded: 0)\n",
      "Downloading PDB structure '1zy4'...\n",
      "Downloading PDB structure '1zyd'...\n"
     ]
    },
    {
     "name": "stderr",
     "output_type": "stream",
     "text": [
      " 31%|███       | 276/891 [05:05<10:21,  1.01s/it]"
     ]
    },
    {
     "name": "stdout",
     "output_type": "stream",
     "text": [
      "Aligned 267 residues (Free: 271, Bound: 270, Excluded: 7)\n",
      "Downloading PDB structure '2dh3'...\n"
     ]
    },
    {
     "name": "stderr",
     "output_type": "stream",
     "text": [
      " 31%|███       | 277/891 [05:06<09:20,  1.10it/s]"
     ]
    },
    {
     "name": "stdout",
     "output_type": "stream",
     "text": [
      "Structure exists: 'data/PSCDB/PDB_structures/pdb2dh3.ent' \n",
      "Aligned 416 residues (Free: 416, Bound: 416, Excluded: 0)\n",
      "Downloading PDB structure '1jde'...\n",
      "Downloading PDB structure '1kc7'...\n"
     ]
    },
    {
     "name": "stderr",
     "output_type": "stream",
     "text": [
      " 31%|███       | 278/891 [05:07<10:32,  1.03s/it]"
     ]
    },
    {
     "name": "stdout",
     "output_type": "stream",
     "text": [
      "Aligned 867 residues (Free: 868, Bound: 872, Excluded: 6)\n",
      "Downloading PDB structure '2ofj'...\n",
      "Downloading PDB structure '1fhv'...\n"
     ]
    },
    {
     "name": "stderr",
     "output_type": "stream",
     "text": [
      " 31%|███▏      | 279/891 [05:08<10:40,  1.05s/it]"
     ]
    },
    {
     "name": "stdout",
     "output_type": "stream",
     "text": [
      "Aligned 299 residues (Free: 300, Bound: 322, Excluded: 24)\n",
      "Downloading PDB structure '2v6f'...\n",
      "Downloading PDB structure '2v6g'...\n"
     ]
    },
    {
     "name": "stderr",
     "output_type": "stream",
     "text": [
      " 31%|███▏      | 280/891 [05:09<10:57,  1.08s/it]"
     ]
    },
    {
     "name": "stdout",
     "output_type": "stream",
     "text": [
      "Aligned 355 residues (Free: 355, Bound: 364, Excluded: 9)\n",
      "Downloading PDB structure '1mw9'...\n",
      "Downloading PDB structure '1cy0'...\n"
     ]
    },
    {
     "name": "stderr",
     "output_type": "stream",
     "text": [
      " 32%|███▏      | 281/891 [05:10<10:56,  1.08s/it]"
     ]
    },
    {
     "name": "stdout",
     "output_type": "stream",
     "text": [
      "No common residues between 1mw9 and 1cy0\n",
      "Downloading PDB structure '1tr9'...\n",
      "Downloading PDB structure '2oxn'...\n"
     ]
    },
    {
     "name": "stderr",
     "output_type": "stream",
     "text": [
      " 32%|███▏      | 282/891 [05:11<10:46,  1.06s/it]"
     ]
    },
    {
     "name": "stdout",
     "output_type": "stream",
     "text": [
      "Aligned 317 residues (Free: 318, Bound: 333, Excluded: 17)\n",
      "Downloading PDB structure '2imo'...\n",
      "Downloading PDB structure '1z2l'...\n"
     ]
    },
    {
     "name": "stderr",
     "output_type": "stream",
     "text": [
      " 32%|███▏      | 283/891 [05:13<12:30,  1.23s/it]"
     ]
    },
    {
     "name": "stdout",
     "output_type": "stream",
     "text": [
      "Aligned 386 residues (Free: 386, Bound: 411, Excluded: 25)\n",
      "Downloading PDB structure '1qzq'...\n",
      "Downloading PDB structure '1rg2'...\n"
     ]
    },
    {
     "name": "stderr",
     "output_type": "stream",
     "text": [
      " 32%|███▏      | 284/891 [05:15<14:01,  1.39s/it]"
     ]
    },
    {
     "name": "stdout",
     "output_type": "stream",
     "text": [
      "Downloading PDB structure '2zig'...\n",
      "Downloading PDB structure '2zif'...\n"
     ]
    },
    {
     "name": "stderr",
     "output_type": "stream",
     "text": [
      " 32%|███▏      | 285/891 [05:16<14:06,  1.40s/it]"
     ]
    },
    {
     "name": "stdout",
     "output_type": "stream",
     "text": [
      "Aligned 233 residues (Free: 236, Bound: 239, Excluded: 9)\n",
      "Downloading PDB structure '2dul'...\n",
      "Downloading PDB structure '2ytz'...\n"
     ]
    },
    {
     "name": "stderr",
     "output_type": "stream",
     "text": [
      " 32%|███▏      | 286/891 [05:17<13:52,  1.38s/it]"
     ]
    },
    {
     "name": "stdout",
     "output_type": "stream",
     "text": [
      "Aligned 362 residues (Free: 367, Bound: 371, Excluded: 14)\n",
      "Downloading PDB structure '1uzq'...\n",
      "Downloading PDB structure '1uzj'...\n"
     ]
    },
    {
     "name": "stderr",
     "output_type": "stream",
     "text": [
      " 32%|███▏      | 287/891 [05:18<11:36,  1.15s/it]"
     ]
    },
    {
     "name": "stdout",
     "output_type": "stream",
     "text": [
      "Aligned 152 residues (Free: 152, Bound: 162, Excluded: 10)\n",
      "Downloading PDB structure '2fjy'...\n",
      "Downloading PDB structure '1dqe'...\n"
     ]
    },
    {
     "name": "stderr",
     "output_type": "stream",
     "text": [
      " 32%|███▏      | 288/891 [05:19<10:00,  1.00it/s]"
     ]
    },
    {
     "name": "stdout",
     "output_type": "stream",
     "text": [
      "Aligned 131 residues (Free: 136, Bound: 137, Excluded: 11)\n",
      "Downloading PDB structure '2f6p'...\n",
      "Downloading PDB structure '2f8d'...\n"
     ]
    },
    {
     "name": "stderr",
     "output_type": "stream",
     "text": [
      " 32%|███▏      | 289/891 [05:20<09:57,  1.01it/s]"
     ]
    },
    {
     "name": "stdout",
     "output_type": "stream",
     "text": [
      "Aligned 213 residues (Free: 213, Bound: 221, Excluded: 8)\n",
      "Downloading PDB structure '3bgu'...\n"
     ]
    },
    {
     "name": "stderr",
     "output_type": "stream",
     "text": [
      " 33%|███▎      | 290/891 [05:20<08:56,  1.12it/s]"
     ]
    },
    {
     "name": "stdout",
     "output_type": "stream",
     "text": [
      "Structure exists: 'data/PSCDB/PDB_structures/pdb3bgu.ent' \n",
      "Aligned 104 residues (Free: 104, Bound: 104, Excluded: 0)\n",
      "Downloading PDB structure '2dke'...\n",
      "Downloading PDB structure '2d1e'...\n"
     ]
    },
    {
     "name": "stderr",
     "output_type": "stream",
     "text": [
      " 33%|███▎      | 291/891 [05:21<08:35,  1.16it/s]"
     ]
    },
    {
     "name": "stdout",
     "output_type": "stream",
     "text": [
      "Aligned 240 residues (Free: 241, Bound: 243, Excluded: 4)\n",
      "Downloading PDB structure '2qfd'...\n",
      "Downloading PDB structure '2qfb'...\n"
     ]
    },
    {
     "name": "stderr",
     "output_type": "stream",
     "text": [
      " 33%|███▎      | 292/891 [05:22<09:35,  1.04it/s]"
     ]
    },
    {
     "name": "stdout",
     "output_type": "stream",
     "text": [
      "Aligned 121 residues (Free: 121, Bound: 121, Excluded: 0)\n",
      "Downloading PDB structure '2ci3'...\n",
      "Downloading PDB structure '2ci6'...\n"
     ]
    },
    {
     "name": "stderr",
     "output_type": "stream",
     "text": [
      " 33%|███▎      | 293/891 [05:23<08:19,  1.20it/s]"
     ]
    },
    {
     "name": "stdout",
     "output_type": "stream",
     "text": [
      "Aligned 273 residues (Free: 274, Bound: 273, Excluded: 1)\n",
      "Downloading PDB structure '2jdw'...\n",
      "Downloading PDB structure '4jdw'...\n"
     ]
    },
    {
     "name": "stderr",
     "output_type": "stream",
     "text": [
      " 33%|███▎      | 294/891 [05:24<08:58,  1.11it/s]"
     ]
    },
    {
     "name": "stdout",
     "output_type": "stream",
     "text": [
      "Aligned 360 residues (Free: 360, Bound: 360, Excluded: 0)\n",
      "Downloading PDB structure '1ivn'...\n",
      "Downloading PDB structure '1u8u'...\n"
     ]
    },
    {
     "name": "stderr",
     "output_type": "stream",
     "text": [
      " 33%|███▎      | 295/891 [05:25<08:24,  1.18it/s]"
     ]
    },
    {
     "name": "stdout",
     "output_type": "stream",
     "text": [
      "Aligned 177 residues (Free: 178, Bound: 178, Excluded: 2)\n",
      "Downloading PDB structure '1pvw'...\n",
      "Downloading PDB structure '1snn'...\n"
     ]
    },
    {
     "name": "stderr",
     "output_type": "stream",
     "text": [
      " 33%|███▎      | 296/891 [05:26<09:06,  1.09it/s]"
     ]
    },
    {
     "name": "stdout",
     "output_type": "stream",
     "text": [
      "Aligned 219 residues (Free: 219, Bound: 219, Excluded: 0)\n",
      "Downloading PDB structure '2pqi'...\n",
      "Downloading PDB structure '2pqj'...\n"
     ]
    },
    {
     "name": "stderr",
     "output_type": "stream",
     "text": [
      " 33%|███▎      | 297/891 [05:27<09:13,  1.07it/s]"
     ]
    },
    {
     "name": "stdout",
     "output_type": "stream",
     "text": [
      "Aligned 233 residues (Free: 238, Bound: 233, Excluded: 5)\n",
      "Downloading PDB structure '1xe8'...\n"
     ]
    },
    {
     "name": "stderr",
     "output_type": "stream",
     "text": [
      " 33%|███▎      | 298/891 [05:28<08:49,  1.12it/s]"
     ]
    },
    {
     "name": "stdout",
     "output_type": "stream",
     "text": [
      "Structure exists: 'data/PSCDB/PDB_structures/pdb1xe8.ent' \n",
      "Aligned 186 residues (Free: 186, Bound: 186, Excluded: 0)\n",
      "Downloading PDB structure '2e0k'...\n",
      "Downloading PDB structure '2e0n'...\n"
     ]
    },
    {
     "name": "stderr",
     "output_type": "stream",
     "text": [
      " 34%|███▎      | 299/891 [05:28<08:35,  1.15it/s]"
     ]
    },
    {
     "name": "stdout",
     "output_type": "stream",
     "text": [
      "Aligned 229 residues (Free: 241, Bound: 229, Excluded: 12)\n",
      "Downloading PDB structure '1a3h'...\n",
      "Downloading PDB structure '1qhz'...\n"
     ]
    },
    {
     "name": "stderr",
     "output_type": "stream",
     "text": [
      " 34%|███▎      | 300/891 [05:29<08:07,  1.21it/s]"
     ]
    },
    {
     "name": "stdout",
     "output_type": "stream",
     "text": [
      "Aligned 300 residues (Free: 300, Bound: 302, Excluded: 2)\n",
      "Downloading PDB structure '2znb'...\n",
      "Downloading PDB structure '1a8t'...\n"
     ]
    },
    {
     "name": "stderr",
     "output_type": "stream",
     "text": [
      " 34%|███▍      | 301/891 [05:30<08:30,  1.16it/s]"
     ]
    },
    {
     "name": "stdout",
     "output_type": "stream",
     "text": [
      "Aligned 204 residues (Free: 222, Bound: 230, Excluded: 44)\n",
      "Downloading PDB structure '2pgx'...\n",
      "Downloading PDB structure '2oyr'...\n"
     ]
    },
    {
     "name": "stderr",
     "output_type": "stream",
     "text": [
      " 34%|███▍      | 302/891 [05:31<08:34,  1.14it/s]"
     ]
    },
    {
     "name": "stdout",
     "output_type": "stream",
     "text": [
      "Aligned 239 residues (Free: 241, Bound: 239, Excluded: 2)\n",
      "Downloading PDB structure '1ds0'...\n",
      "Downloading PDB structure '1gvg'...\n"
     ]
    },
    {
     "name": "stderr",
     "output_type": "stream",
     "text": [
      " 34%|███▍      | 303/891 [05:32<08:37,  1.14it/s]"
     ]
    },
    {
     "name": "stdout",
     "output_type": "stream",
     "text": [
      "Aligned 315 residues (Free: 323, Bound: 315, Excluded: 8)\n",
      "Downloading PDB structure '2fss'...\n",
      "Downloading PDB structure '2j6i'...\n"
     ]
    },
    {
     "name": "stderr",
     "output_type": "stream",
     "text": [
      " 34%|███▍      | 304/891 [05:33<10:40,  1.09s/it]"
     ]
    },
    {
     "name": "stdout",
     "output_type": "stream",
     "text": [
      "Aligned 353 residues (Free: 353, Bound: 353, Excluded: 0)\n",
      "Downloading PDB structure '1t2u'...\n",
      "Downloading PDB structure '1t15'...\n"
     ]
    },
    {
     "name": "stderr",
     "output_type": "stream",
     "text": [
      " 34%|███▍      | 305/891 [05:34<09:35,  1.02it/s]"
     ]
    },
    {
     "name": "stdout",
     "output_type": "stream",
     "text": [
      "Aligned 207 residues (Free: 207, Bound: 211, Excluded: 4)\n",
      "Downloading PDB structure '3c2h'...\n",
      "Downloading PDB structure '3c2g'...\n"
     ]
    },
    {
     "name": "stderr",
     "output_type": "stream",
     "text": [
      " 34%|███▍      | 306/891 [05:36<10:44,  1.10s/it]"
     ]
    },
    {
     "name": "stdout",
     "output_type": "stream",
     "text": [
      "Aligned 601 residues (Free: 617, Bound: 603, Excluded: 18)\n",
      "Downloading PDB structure '2cz9'...\n",
      "Downloading PDB structure '2dei'...\n"
     ]
    },
    {
     "name": "stderr",
     "output_type": "stream",
     "text": [
      " 34%|███▍      | 307/891 [05:36<10:11,  1.05s/it]"
     ]
    },
    {
     "name": "stdout",
     "output_type": "stream",
     "text": [
      "Aligned 346 residues (Free: 346, Bound: 350, Excluded: 4)\n",
      "Downloading PDB structure '2nrt'...\n",
      "Downloading PDB structure '2nrz'...\n"
     ]
    },
    {
     "name": "stderr",
     "output_type": "stream",
     "text": [
      " 35%|███▍      | 308/891 [05:38<11:01,  1.13s/it]"
     ]
    },
    {
     "name": "stdout",
     "output_type": "stream",
     "text": [
      "Aligned 217 residues (Free: 217, Bound: 218, Excluded: 1)\n",
      "Downloading PDB structure '1br8'...\n",
      "Downloading PDB structure '1azx'...\n"
     ]
    },
    {
     "name": "stderr",
     "output_type": "stream",
     "text": [
      " 35%|███▍      | 309/891 [05:39<11:06,  1.15s/it]"
     ]
    },
    {
     "name": "stdout",
     "output_type": "stream",
     "text": [
      "No common residues between 1br8 and 1azx\n",
      "Downloading PDB structure '1h8n'...\n",
      "Downloading PDB structure '1h8s'...\n"
     ]
    },
    {
     "name": "stderr",
     "output_type": "stream",
     "text": [
      " 35%|███▍      | 310/891 [05:40<10:26,  1.08s/it]"
     ]
    },
    {
     "name": "stdout",
     "output_type": "stream",
     "text": [
      "Aligned 216 residues (Free: 217, Bound: 218, Excluded: 3)\n",
      "Downloading PDB structure '1h3i'...\n",
      "Downloading PDB structure '1mt6'...\n"
     ]
    },
    {
     "name": "stderr",
     "output_type": "stream",
     "text": [
      " 35%|███▍      | 311/891 [05:41<10:03,  1.04s/it]"
     ]
    },
    {
     "name": "stdout",
     "output_type": "stream",
     "text": [
      "Aligned 280 residues (Free: 293, Bound: 280, Excluded: 13)\n",
      "Downloading PDB structure '1hka'...\n",
      "Downloading PDB structure '1rao'...\n"
     ]
    },
    {
     "name": "stderr",
     "output_type": "stream",
     "text": [
      " 35%|███▌      | 312/891 [05:42<09:16,  1.04it/s]"
     ]
    },
    {
     "name": "stdout",
     "output_type": "stream",
     "text": [
      "Aligned 158 residues (Free: 158, Bound: 158, Excluded: 0)\n",
      "Downloading PDB structure '2f1w'...\n",
      "Downloading PDB structure '2fop'...\n"
     ]
    },
    {
     "name": "stderr",
     "output_type": "stream",
     "text": [
      " 35%|███▌      | 313/891 [05:42<08:32,  1.13it/s]"
     ]
    },
    {
     "name": "stdout",
     "output_type": "stream",
     "text": [
      "Aligned 137 residues (Free: 144, Bound: 137, Excluded: 7)\n",
      "Downloading PDB structure '2fz6'...\n"
     ]
    },
    {
     "name": "stderr",
     "output_type": "stream",
     "text": [
      " 35%|███▌      | 314/891 [05:43<07:30,  1.28it/s]"
     ]
    },
    {
     "name": "stdout",
     "output_type": "stream",
     "text": [
      "Structure exists: 'data/PSCDB/PDB_structures/pdb2fz6.ent' \n",
      "Aligned 72 residues (Free: 72, Bound: 72, Excluded: 0)\n",
      "Downloading PDB structure '1q31'...\n",
      "Downloading PDB structure '1lvb'...\n"
     ]
    },
    {
     "name": "stderr",
     "output_type": "stream",
     "text": [
      " 35%|███▌      | 315/891 [05:44<08:07,  1.18it/s]"
     ]
    },
    {
     "name": "stdout",
     "output_type": "stream",
     "text": [
      "Aligned 208 residues (Free: 227, Bound: 208, Excluded: 19)\n",
      "Downloading PDB structure '1l0w'...\n",
      "Downloading PDB structure '1g51'...\n"
     ]
    },
    {
     "name": "stderr",
     "output_type": "stream",
     "text": [
      " 35%|███▌      | 316/891 [05:45<09:47,  1.02s/it]"
     ]
    },
    {
     "name": "stdout",
     "output_type": "stream",
     "text": [
      "Aligned 580 residues (Free: 580, Bound: 580, Excluded: 0)\n",
      "Downloading PDB structure '1o7v'...\n",
      "Downloading PDB structure '2hrl'...\n"
     ]
    },
    {
     "name": "stderr",
     "output_type": "stream",
     "text": [
      " 36%|███▌      | 317/891 [05:46<09:17,  1.03it/s]"
     ]
    },
    {
     "name": "stdout",
     "output_type": "stream",
     "text": [
      "Aligned 116 residues (Free: 127, Bound: 116, Excluded: 11)\n",
      "Downloading PDB structure '1pz9'...\n",
      "Downloading PDB structure '1pz7'...\n"
     ]
    },
    {
     "name": "stderr",
     "output_type": "stream",
     "text": [
      " 36%|███▌      | 318/891 [05:47<09:05,  1.05it/s]"
     ]
    },
    {
     "name": "stdout",
     "output_type": "stream",
     "text": [
      "Aligned 183 residues (Free: 185, Bound: 188, Excluded: 7)\n",
      "Downloading PDB structure '2pyq'...\n"
     ]
    },
    {
     "name": "stderr",
     "output_type": "stream",
     "text": [
      " 36%|███▌      | 319/891 [05:48<08:21,  1.14it/s]"
     ]
    },
    {
     "name": "stdout",
     "output_type": "stream",
     "text": [
      "Structure exists: 'data/PSCDB/PDB_structures/pdb2pyq.ent' \n",
      "Aligned 108 residues (Free: 108, Bound: 108, Excluded: 0)\n",
      "Downloading PDB structure '1k4k'...\n",
      "Downloading PDB structure '1k4m'...\n"
     ]
    },
    {
     "name": "stderr",
     "output_type": "stream",
     "text": [
      " 36%|███▌      | 320/891 [05:49<08:51,  1.07it/s]"
     ]
    },
    {
     "name": "stdout",
     "output_type": "stream",
     "text": [
      "Aligned 213 residues (Free: 213, Bound: 213, Excluded: 0)\n",
      "Downloading PDB structure '2q7u'...\n",
      "Downloading PDB structure '2q7t'...\n"
     ]
    },
    {
     "name": "stderr",
     "output_type": "stream",
     "text": [
      " 36%|███▌      | 321/891 [05:50<09:10,  1.04it/s]"
     ]
    },
    {
     "name": "stdout",
     "output_type": "stream",
     "text": [
      "Aligned 267 residues (Free: 268, Bound: 267, Excluded: 1)\n",
      "Downloading PDB structure '1vsm'...\n",
      "Downloading PDB structure '1vsf'...\n"
     ]
    },
    {
     "name": "stderr",
     "output_type": "stream",
     "text": [
      " 36%|███▌      | 322/891 [05:51<08:28,  1.12it/s]"
     ]
    },
    {
     "name": "stdout",
     "output_type": "stream",
     "text": [
      "Aligned 146 residues (Free: 146, Bound: 146, Excluded: 0)\n",
      "Downloading PDB structure '1xti'...\n",
      "Downloading PDB structure '1xtj'...\n"
     ]
    },
    {
     "name": "stderr",
     "output_type": "stream",
     "text": [
      " 36%|███▋      | 323/891 [05:51<08:22,  1.13it/s]"
     ]
    },
    {
     "name": "stdout",
     "output_type": "stream",
     "text": [
      "Aligned 373 residues (Free: 381, Bound: 374, Excluded: 9)\n",
      "Downloading PDB structure '1upl'...\n",
      "Downloading PDB structure '1upk'...\n"
     ]
    },
    {
     "name": "stderr",
     "output_type": "stream",
     "text": [
      " 36%|███▋      | 324/891 [05:52<08:35,  1.10it/s]"
     ]
    },
    {
     "name": "stdout",
     "output_type": "stream",
     "text": [
      "Aligned 298 residues (Free: 303, Bound: 310, Excluded: 17)\n",
      "Downloading PDB structure '1a8d'...\n",
      "Downloading PDB structure '1fv3'...\n"
     ]
    },
    {
     "name": "stderr",
     "output_type": "stream",
     "text": [
      " 36%|███▋      | 325/891 [05:54<09:53,  1.05s/it]"
     ]
    },
    {
     "name": "stdout",
     "output_type": "stream",
     "text": [
      "No common residues between 1a8d and 1fv3\n",
      "Downloading PDB structure '1yjl'...\n",
      "Downloading PDB structure '1sdw'...\n"
     ]
    },
    {
     "name": "stderr",
     "output_type": "stream",
     "text": [
      " 37%|███▋      | 326/891 [05:55<09:28,  1.01s/it]"
     ]
    },
    {
     "name": "stdout",
     "output_type": "stream",
     "text": [
      "Aligned 285 residues (Free: 285, Bound: 312, Excluded: 27)\n",
      "Downloading PDB structure '2it9'...\n"
     ]
    },
    {
     "name": "stderr",
     "output_type": "stream",
     "text": [
      " 37%|███▋      | 327/891 [05:55<08:36,  1.09it/s]"
     ]
    },
    {
     "name": "stdout",
     "output_type": "stream",
     "text": [
      "Structure exists: 'data/PSCDB/PDB_structures/pdb2it9.ent' \n",
      "Aligned 115 residues (Free: 115, Bound: 115, Excluded: 0)\n",
      "Downloading PDB structure '1p92'...\n",
      "Downloading PDB structure '1g3y'...\n"
     ]
    },
    {
     "name": "stderr",
     "output_type": "stream",
     "text": [
      " 37%|███▋      | 328/891 [05:56<08:22,  1.12it/s]"
     ]
    },
    {
     "name": "stdout",
     "output_type": "stream",
     "text": [
      "Aligned 211 residues (Free: 218, Bound: 212, Excluded: 8)\n",
      "Downloading PDB structure '2gol'...\n",
      "Downloading PDB structure '2gon'...\n"
     ]
    },
    {
     "name": "stderr",
     "output_type": "stream",
     "text": [
      " 37%|███▋      | 329/891 [05:57<08:58,  1.04it/s]"
     ]
    },
    {
     "name": "stdout",
     "output_type": "stream",
     "text": [
      "No common residues between 2gol and 2gon\n",
      "Downloading PDB structure '3d97'...\n",
      "Structure exists: 'data/PSCDB/PDB_structures/pdb3d97.ent' \n"
     ]
    },
    {
     "name": "stderr",
     "output_type": "stream",
     "text": [
      " 37%|███▋      | 330/891 [05:58<08:35,  1.09it/s]"
     ]
    },
    {
     "name": "stdout",
     "output_type": "stream",
     "text": [
      "Aligned 137 residues (Free: 137, Bound: 137, Excluded: 0)\n",
      "Downloading PDB structure '2z7a'...\n",
      "Downloading PDB structure '2z76'...\n"
     ]
    },
    {
     "name": "stderr",
     "output_type": "stream",
     "text": [
      " 37%|███▋      | 331/891 [05:59<08:14,  1.13it/s]"
     ]
    },
    {
     "name": "stdout",
     "output_type": "stream",
     "text": [
      "Aligned 131 residues (Free: 133, Bound: 131, Excluded: 2)\n",
      "Downloading PDB structure '1m0z'...\n",
      "Downloading PDB structure '1qyy'...\n"
     ]
    },
    {
     "name": "stderr",
     "output_type": "stream",
     "text": [
      " 37%|███▋      | 332/891 [06:00<08:48,  1.06it/s]"
     ]
    },
    {
     "name": "stdout",
     "output_type": "stream",
     "text": [
      "Aligned 259 residues (Free: 259, Bound: 266, Excluded: 7)\n",
      "Downloading PDB structure '1x2g'...\n",
      "Downloading PDB structure '1x2h'...\n"
     ]
    },
    {
     "name": "stderr",
     "output_type": "stream",
     "text": [
      " 37%|███▋      | 333/891 [06:01<09:42,  1.04s/it]"
     ]
    },
    {
     "name": "stdout",
     "output_type": "stream",
     "text": [
      "Aligned 325 residues (Free: 326, Bound: 325, Excluded: 1)\n",
      "Downloading PDB structure '2fsj'...\n",
      "Downloading PDB structure '2fsn'...\n"
     ]
    },
    {
     "name": "stderr",
     "output_type": "stream",
     "text": [
      " 37%|███▋      | 334/891 [06:03<10:03,  1.08s/it]"
     ]
    },
    {
     "name": "stdout",
     "output_type": "stream",
     "text": [
      "Aligned 305 residues (Free: 318, Bound: 305, Excluded: 13)\n",
      "Downloading PDB structure '1e8y'...\n",
      "Downloading PDB structure '3dbs'...\n"
     ]
    },
    {
     "name": "stderr",
     "output_type": "stream",
     "text": [
      " 38%|███▊      | 335/891 [06:04<10:30,  1.13s/it]"
     ]
    },
    {
     "name": "stdout",
     "output_type": "stream",
     "text": [
      "Aligned 840 residues (Free: 841, Bound: 841, Excluded: 2)\n",
      "Downloading PDB structure '1ebu'...\n",
      "Downloading PDB structure '1ebf'...\n"
     ]
    },
    {
     "name": "stderr",
     "output_type": "stream",
     "text": [
      " 38%|███▊      | 336/891 [06:05<11:39,  1.26s/it]"
     ]
    },
    {
     "name": "stdout",
     "output_type": "stream",
     "text": [
      "Aligned 358 residues (Free: 358, Bound: 358, Excluded: 0)\n",
      "Downloading PDB structure '2jkf'...\n",
      "Downloading PDB structure '2jkg'...\n"
     ]
    },
    {
     "name": "stderr",
     "output_type": "stream",
     "text": [
      " 38%|███▊      | 337/891 [06:06<09:53,  1.07s/it]"
     ]
    },
    {
     "name": "stdout",
     "output_type": "stream",
     "text": [
      "Aligned 165 residues (Free: 170, Bound: 165, Excluded: 5)\n",
      "Downloading PDB structure '1n4d'...\n",
      "Downloading PDB structure '1n4a'...\n"
     ]
    },
    {
     "name": "stderr",
     "output_type": "stream",
     "text": [
      " 38%|███▊      | 338/891 [06:07<09:51,  1.07s/it]"
     ]
    },
    {
     "name": "stdout",
     "output_type": "stream",
     "text": [
      "Aligned 242 residues (Free: 242, Bound: 242, Excluded: 0)\n",
      "Downloading PDB structure '2gzr'...\n",
      "Downloading PDB structure '2gzs'...\n"
     ]
    },
    {
     "name": "stderr",
     "output_type": "stream",
     "text": [
      " 38%|███▊      | 339/891 [06:08<08:58,  1.02it/s]"
     ]
    },
    {
     "name": "stdout",
     "output_type": "stream",
     "text": [
      "Aligned 238 residues (Free: 238, Bound: 245, Excluded: 7)\n",
      "Downloading PDB structure '1thf'...\n",
      "Downloading PDB structure '2a0n'...\n"
     ]
    },
    {
     "name": "stderr",
     "output_type": "stream",
     "text": [
      " 38%|███▊      | 340/891 [06:08<08:17,  1.11it/s]"
     ]
    },
    {
     "name": "stdout",
     "output_type": "stream",
     "text": [
      "No common residues between 1thf and 2a0n\n",
      "Downloading PDB structure '2oej'...\n",
      "Downloading PDB structure '2oek'...\n"
     ]
    },
    {
     "name": "stderr",
     "output_type": "stream",
     "text": [
      " 38%|███▊      | 341/891 [06:10<09:57,  1.09s/it]"
     ]
    },
    {
     "name": "stdout",
     "output_type": "stream",
     "text": [
      "Aligned 406 residues (Free: 407, Bound: 411, Excluded: 6)\n",
      "Downloading PDB structure '2jep'...\n",
      "Downloading PDB structure '2jeq'...\n"
     ]
    },
    {
     "name": "stderr",
     "output_type": "stream",
     "text": [
      " 38%|███▊      | 342/891 [06:11<10:11,  1.11s/it]"
     ]
    },
    {
     "name": "stdout",
     "output_type": "stream",
     "text": [
      "Aligned 359 residues (Free: 363, Bound: 359, Excluded: 4)\n",
      "Downloading PDB structure '2ik9'...\n",
      "Downloading PDB structure '1huj'...\n"
     ]
    },
    {
     "name": "stderr",
     "output_type": "stream",
     "text": [
      " 38%|███▊      | 343/891 [06:12<10:12,  1.12s/it]"
     ]
    },
    {
     "name": "stdout",
     "output_type": "stream",
     "text": [
      "Aligned 277 residues (Free: 278, Bound: 281, Excluded: 5)\n",
      "Downloading PDB structure '2izp'...\n",
      "Downloading PDB structure '2j9t'...\n"
     ]
    },
    {
     "name": "stderr",
     "output_type": "stream",
     "text": [
      " 39%|███▊      | 344/891 [06:14<10:38,  1.17s/it]"
     ]
    },
    {
     "name": "stdout",
     "output_type": "stream",
     "text": [
      "No common residues between 2izp and 2j9t\n",
      "Downloading PDB structure '1k0m'...\n",
      "Downloading PDB structure '1k0n'...\n"
     ]
    },
    {
     "name": "stderr",
     "output_type": "stream",
     "text": [
      " 39%|███▊      | 345/891 [06:15<10:32,  1.16s/it]"
     ]
    },
    {
     "name": "stdout",
     "output_type": "stream",
     "text": [
      "Aligned 225 residues (Free: 235, Bound: 226, Excluded: 11)\n",
      "Downloading PDB structure '2uyr'...\n",
      "Downloading PDB structure '2dds'...\n"
     ]
    },
    {
     "name": "stderr",
     "output_type": "stream",
     "text": [
      " 39%|███▉      | 346/891 [06:16<10:21,  1.14s/it]"
     ]
    },
    {
     "name": "stdout",
     "output_type": "stream",
     "text": [
      "No common residues between 2uyr and 2dds\n",
      "Downloading PDB structure '2plf'...\n",
      "Downloading PDB structure '2pmd'...\n"
     ]
    },
    {
     "name": "stderr",
     "output_type": "stream",
     "text": [
      " 39%|███▉      | 347/891 [06:17<10:53,  1.20s/it]"
     ]
    },
    {
     "name": "stdout",
     "output_type": "stream",
     "text": [
      "Aligned 414 residues (Free: 414, Bound: 414, Excluded: 0)\n",
      "Downloading PDB structure '2yx6'...\n"
     ]
    },
    {
     "name": "stderr",
     "output_type": "stream",
     "text": [
      " 39%|███▉      | 348/891 [06:18<09:00,  1.00it/s]"
     ]
    },
    {
     "name": "stdout",
     "output_type": "stream",
     "text": [
      "Structure exists: 'data/PSCDB/PDB_structures/pdb2yx6.ent' \n",
      "Aligned 110 residues (Free: 110, Bound: 110, Excluded: 0)\n",
      "Downloading PDB structure '2rck'...\n"
     ]
    },
    {
     "name": "stderr",
     "output_type": "stream",
     "text": [
      " 39%|███▉      | 349/891 [06:18<07:48,  1.16it/s]"
     ]
    },
    {
     "name": "stdout",
     "output_type": "stream",
     "text": [
      "Structure exists: 'data/PSCDB/PDB_structures/pdb2rck.ent' \n",
      "Aligned 221 residues (Free: 221, Bound: 221, Excluded: 0)\n",
      "Downloading PDB structure '3c95'...\n",
      "Downloading PDB structure '3c94'...\n"
     ]
    },
    {
     "name": "stderr",
     "output_type": "stream",
     "text": [
      " 39%|███▉      | 350/891 [06:19<08:09,  1.11it/s]"
     ]
    },
    {
     "name": "stdout",
     "output_type": "stream",
     "text": [
      "Aligned 445 residues (Free: 446, Bound: 458, Excluded: 14)\n",
      "Downloading PDB structure '3d5u'...\n",
      "Downloading PDB structure '3d5w'...\n"
     ]
    },
    {
     "name": "stderr",
     "output_type": "stream",
     "text": [
      " 39%|███▉      | 351/891 [06:20<08:11,  1.10it/s]"
     ]
    },
    {
     "name": "stdout",
     "output_type": "stream",
     "text": [
      "Aligned 284 residues (Free: 288, Bound: 284, Excluded: 4)\n",
      "Downloading PDB structure '2oew'...\n",
      "Downloading PDB structure '3c3o'...\n"
     ]
    },
    {
     "name": "stderr",
     "output_type": "stream",
     "text": [
      " 40%|███▉      | 352/891 [06:21<08:58,  1.00it/s]"
     ]
    },
    {
     "name": "stdout",
     "output_type": "stream",
     "text": [
      "Aligned 357 residues (Free: 358, Bound: 357, Excluded: 1)\n",
      "Downloading PDB structure '2vns'...\n",
      "Downloading PDB structure '2vq3'...\n"
     ]
    },
    {
     "name": "stderr",
     "output_type": "stream",
     "text": [
      " 40%|███▉      | 353/891 [06:23<09:17,  1.04s/it]"
     ]
    },
    {
     "name": "stdout",
     "output_type": "stream",
     "text": [
      "Aligned 180 residues (Free: 180, Bound: 181, Excluded: 1)\n",
      "Downloading PDB structure '1od4'...\n",
      "Downloading PDB structure '1od2'...\n"
     ]
    },
    {
     "name": "stderr",
     "output_type": "stream",
     "text": [
      " 40%|███▉      | 354/891 [06:24<10:47,  1.21s/it]"
     ]
    },
    {
     "name": "stdout",
     "output_type": "stream",
     "text": [
      "Aligned 662 residues (Free: 666, Bound: 702, Excluded: 44)\n",
      "Downloading PDB structure '1h7b'...\n",
      "Downloading PDB structure '1h78'...\n"
     ]
    },
    {
     "name": "stderr",
     "output_type": "stream",
     "text": [
      " 40%|███▉      | 355/891 [06:25<10:23,  1.16s/it]"
     ]
    },
    {
     "name": "stdout",
     "output_type": "stream",
     "text": [
      "Aligned 532 residues (Free: 534, Bound: 534, Excluded: 4)\n",
      "Downloading PDB structure '2qo2'...\n",
      "Downloading PDB structure '2qoq'...\n"
     ]
    },
    {
     "name": "stderr",
     "output_type": "stream",
     "text": [
      " 40%|███▉      | 356/891 [06:26<09:32,  1.07s/it]"
     ]
    },
    {
     "name": "stdout",
     "output_type": "stream",
     "text": [
      "Aligned 280 residues (Free: 282, Bound: 284, Excluded: 6)\n",
      "Downloading PDB structure '1fcq'...\n",
      "Downloading PDB structure '1fcv'...\n"
     ]
    },
    {
     "name": "stderr",
     "output_type": "stream",
     "text": [
      " 40%|████      | 357/891 [06:27<08:55,  1.00s/it]"
     ]
    },
    {
     "name": "stdout",
     "output_type": "stream",
     "text": [
      "Aligned 314 residues (Free: 314, Bound: 324, Excluded: 10)\n",
      "Downloading PDB structure '1g6l'...\n",
      "Downloading PDB structure '1hvc'...\n"
     ]
    },
    {
     "name": "stderr",
     "output_type": "stream",
     "text": [
      " 40%|████      | 358/891 [06:28<08:19,  1.07it/s]"
     ]
    },
    {
     "name": "stdout",
     "output_type": "stream",
     "text": [
      "Aligned 99 residues (Free: 198, Bound: 203, Excluded: 203)\n",
      "Downloading PDB structure '1pbg'...\n",
      "Downloading PDB structure '4pbg'...\n"
     ]
    },
    {
     "name": "stderr",
     "output_type": "stream",
     "text": [
      " 40%|████      | 359/891 [06:29<09:44,  1.10s/it]"
     ]
    },
    {
     "name": "stdout",
     "output_type": "stream",
     "text": [
      "Aligned 454 residues (Free: 454, Bound: 468, Excluded: 14)\n",
      "Downloading PDB structure '1pgs'...\n",
      "Downloading PDB structure '1pnf'...\n"
     ]
    },
    {
     "name": "stderr",
     "output_type": "stream",
     "text": [
      " 40%|████      | 360/891 [06:30<09:12,  1.04s/it]"
     ]
    },
    {
     "name": "stdout",
     "output_type": "stream",
     "text": [
      "Aligned 311 residues (Free: 311, Bound: 314, Excluded: 3)\n",
      "Downloading PDB structure '1dkl'...\n",
      "Downloading PDB structure '1dkq'...\n"
     ]
    },
    {
     "name": "stderr",
     "output_type": "stream",
     "text": [
      " 41%|████      | 361/891 [06:31<09:21,  1.06s/it]"
     ]
    },
    {
     "name": "stdout",
     "output_type": "stream",
     "text": [
      "Aligned 404 residues (Free: 404, Bound: 410, Excluded: 6)\n",
      "Downloading PDB structure '2pgy'...\n",
      "Downloading PDB structure '1r7y'...\n"
     ]
    },
    {
     "name": "stderr",
     "output_type": "stream",
     "text": [
      " 41%|████      | 362/891 [06:32<08:42,  1.01it/s]"
     ]
    },
    {
     "name": "stdout",
     "output_type": "stream",
     "text": [
      "Aligned 264 residues (Free: 272, Bound: 264, Excluded: 8)\n",
      "Downloading PDB structure '2veg'...\n"
     ]
    },
    {
     "name": "stderr",
     "output_type": "stream",
     "text": [
      " 41%|████      | 363/891 [06:33<08:12,  1.07it/s]"
     ]
    },
    {
     "name": "stdout",
     "output_type": "stream",
     "text": [
      "Structure exists: 'data/PSCDB/PDB_structures/pdb2veg.ent' \n",
      "Aligned 279 residues (Free: 279, Bound: 279, Excluded: 0)\n",
      "Downloading PDB structure '1rpl'...\n",
      "Downloading PDB structure '1nom'...\n"
     ]
    },
    {
     "name": "stderr",
     "output_type": "stream",
     "text": [
      " 41%|████      | 364/891 [06:33<07:26,  1.18it/s]"
     ]
    },
    {
     "name": "stdout",
     "output_type": "stream",
     "text": [
      "Aligned 238 residues (Free: 241, Bound: 242, Excluded: 7)\n",
      "Downloading PDB structure '2znv'...\n",
      "Downloading PDB structure '2zcc'...\n"
     ]
    },
    {
     "name": "stderr",
     "output_type": "stream",
     "text": [
      " 41%|████      | 365/891 [06:34<07:30,  1.17it/s]"
     ]
    },
    {
     "name": "stdout",
     "output_type": "stream",
     "text": [
      "No common residues between 2znv and 2zcc\n",
      "Downloading PDB structure '2ajg'...\n",
      "Downloading PDB structure '2ajh'...\n"
     ]
    },
    {
     "name": "stderr",
     "output_type": "stream",
     "text": [
      " 41%|████      | 366/891 [06:35<07:04,  1.24it/s]"
     ]
    },
    {
     "name": "stdout",
     "output_type": "stream",
     "text": [
      "Aligned 186 residues (Free: 186, Bound: 186, Excluded: 0)\n",
      "Downloading PDB structure '1gxr'...\n",
      "Downloading PDB structure '2ce9'...\n"
     ]
    },
    {
     "name": "stderr",
     "output_type": "stream",
     "text": [
      " 41%|████      | 367/891 [06:36<08:52,  1.02s/it]"
     ]
    },
    {
     "name": "stdout",
     "output_type": "stream",
     "text": [
      "Aligned 335 residues (Free: 335, Bound: 337, Excluded: 2)\n",
      "Downloading PDB structure '1f1s'...\n",
      "Downloading PDB structure '1i8q'...\n"
     ]
    },
    {
     "name": "stderr",
     "output_type": "stream",
     "text": [
      " 41%|████▏     | 368/891 [06:38<08:57,  1.03s/it]"
     ]
    },
    {
     "name": "stdout",
     "output_type": "stream",
     "text": [
      "Aligned 814 residues (Free: 814, Bound: 814, Excluded: 0)\n",
      "Downloading PDB structure '2d5l'...\n",
      "Downloading PDB structure '2eep'...\n"
     ]
    },
    {
     "name": "stderr",
     "output_type": "stream",
     "text": [
      " 41%|████▏     | 369/891 [06:39<08:56,  1.03s/it]"
     ]
    },
    {
     "name": "stdout",
     "output_type": "stream",
     "text": [
      "Aligned 655 residues (Free: 665, Bound: 659, Excluded: 14)\n",
      "Downloading PDB structure '1tvl'...\n",
      "Downloading PDB structure '1yw1'...\n"
     ]
    },
    {
     "name": "stderr",
     "output_type": "stream",
     "text": [
      " 42%|████▏     | 370/891 [06:40<08:53,  1.02s/it]"
     ]
    },
    {
     "name": "stdout",
     "output_type": "stream",
     "text": [
      "Aligned 385 residues (Free: 390, Bound: 389, Excluded: 9)\n",
      "Downloading PDB structure '3cgz'...\n",
      "Downloading PDB structure '3cgy'...\n"
     ]
    },
    {
     "name": "stderr",
     "output_type": "stream",
     "text": [
      " 42%|████▏     | 371/891 [06:40<08:30,  1.02it/s]"
     ]
    },
    {
     "name": "stdout",
     "output_type": "stream",
     "text": [
      "Aligned 133 residues (Free: 143, Bound: 133, Excluded: 10)\n",
      "Downloading PDB structure '2qj3'...\n"
     ]
    },
    {
     "name": "stderr",
     "output_type": "stream",
     "text": [
      " 42%|████▏     | 372/891 [06:41<07:18,  1.18it/s]"
     ]
    },
    {
     "name": "stdout",
     "output_type": "stream",
     "text": [
      "Structure exists: 'data/PSCDB/PDB_structures/pdb2qj3.ent' \n",
      "Aligned 314 residues (Free: 314, Bound: 314, Excluded: 0)\n",
      "Downloading PDB structure '2obl'...\n",
      "Downloading PDB structure '2obm'...\n"
     ]
    },
    {
     "name": "stderr",
     "output_type": "stream",
     "text": [
      " 42%|████▏     | 373/891 [06:42<07:19,  1.18it/s]"
     ]
    },
    {
     "name": "stdout",
     "output_type": "stream",
     "text": [
      "Aligned 340 residues (Free: 346, Bound: 340, Excluded: 6)\n",
      "Downloading PDB structure '1uoc'...\n",
      "Structure exists: 'data/PSCDB/PDB_structures/pdb1uoc.ent' \n"
     ]
    },
    {
     "name": "stderr",
     "output_type": "stream",
     "text": [
      " 42%|████▏     | 374/891 [06:43<07:20,  1.17it/s]"
     ]
    },
    {
     "name": "stdout",
     "output_type": "stream",
     "text": [
      "Aligned 263 residues (Free: 263, Bound: 263, Excluded: 0)\n",
      "Downloading PDB structure '2ddm'...\n",
      "Downloading PDB structure '2ddo'...\n"
     ]
    },
    {
     "name": "stderr",
     "output_type": "stream",
     "text": [
      " 42%|████▏     | 375/891 [06:44<07:44,  1.11it/s]"
     ]
    },
    {
     "name": "stdout",
     "output_type": "stream",
     "text": [
      "Aligned 263 residues (Free: 264, Bound: 263, Excluded: 1)\n",
      "Downloading PDB structure '2lkf'...\n",
      "Downloading PDB structure '3lkf'...\n"
     ]
    },
    {
     "name": "stderr",
     "output_type": "stream",
     "text": [
      " 42%|████▏     | 376/891 [06:44<07:13,  1.19it/s]"
     ]
    },
    {
     "name": "stdout",
     "output_type": "stream",
     "text": [
      "Aligned 292 residues (Free: 296, Bound: 292, Excluded: 4)\n",
      "Downloading PDB structure '2qvl'...\n",
      "Downloading PDB structure '2qv7'...\n"
     ]
    },
    {
     "name": "stderr",
     "output_type": "stream",
     "text": [
      " 42%|████▏     | 377/891 [06:45<07:11,  1.19it/s]"
     ]
    },
    {
     "name": "stdout",
     "output_type": "stream",
     "text": [
      "Aligned 274 residues (Free: 274, Bound: 293, Excluded: 19)\n",
      "Downloading PDB structure '2hp3'...\n",
      "Downloading PDB structure '2hp0'...\n"
     ]
    },
    {
     "name": "stderr",
     "output_type": "stream",
     "text": [
      " 42%|████▏     | 378/891 [06:47<08:14,  1.04it/s]"
     ]
    },
    {
     "name": "stdout",
     "output_type": "stream",
     "text": [
      "Aligned 430 residues (Free: 446, Bound: 431, Excluded: 17)\n",
      "Downloading PDB structure '2i2w'...\n",
      "Downloading PDB structure '2i22'...\n"
     ]
    },
    {
     "name": "stderr",
     "output_type": "stream",
     "text": [
      " 43%|████▎     | 379/891 [06:48<08:56,  1.05s/it]"
     ]
    },
    {
     "name": "stdout",
     "output_type": "stream",
     "text": [
      "Aligned 179 residues (Free: 192, Bound: 179, Excluded: 13)\n",
      "Downloading PDB structure '2d2e'...\n",
      "Downloading PDB structure '2d2f'...\n"
     ]
    },
    {
     "name": "stderr",
     "output_type": "stream",
     "text": [
      " 43%|████▎     | 380/891 [06:49<08:19,  1.02it/s]"
     ]
    },
    {
     "name": "stdout",
     "output_type": "stream",
     "text": [
      "Aligned 239 residues (Free: 239, Bound: 246, Excluded: 7)\n",
      "Downloading PDB structure '1w16'...\n",
      "Downloading PDB structure '1w15'...\n"
     ]
    },
    {
     "name": "stderr",
     "output_type": "stream",
     "text": [
      " 43%|████▎     | 381/891 [06:49<07:37,  1.11it/s]"
     ]
    },
    {
     "name": "stdout",
     "output_type": "stream",
     "text": [
      "Aligned 125 residues (Free: 125, Bound: 132, Excluded: 7)\n",
      "Downloading PDB structure '1obp'...\n",
      "Downloading PDB structure '1pbo'...\n"
     ]
    },
    {
     "name": "stderr",
     "output_type": "stream",
     "text": [
      " 43%|████▎     | 382/891 [06:50<08:18,  1.02it/s]"
     ]
    },
    {
     "name": "stdout",
     "output_type": "stream",
     "text": [
      "Aligned 156 residues (Free: 158, Bound: 157, Excluded: 3)\n",
      "Downloading PDB structure '1na5'...\n",
      "Downloading PDB structure '1ido'...\n"
     ]
    },
    {
     "name": "stderr",
     "output_type": "stream",
     "text": [
      " 43%|████▎     | 383/891 [06:51<08:02,  1.05it/s]"
     ]
    },
    {
     "name": "stdout",
     "output_type": "stream",
     "text": [
      "Aligned 184 residues (Free: 195, Bound: 184, Excluded: 11)\n",
      "Downloading PDB structure '3wrp'...\n",
      "Downloading PDB structure '2oz9'...\n"
     ]
    },
    {
     "name": "stderr",
     "output_type": "stream",
     "text": [
      " 43%|████▎     | 384/891 [06:52<07:54,  1.07it/s]"
     ]
    },
    {
     "name": "stdout",
     "output_type": "stream",
     "text": [
      "No common residues between 3wrp and 2oz9\n",
      "Downloading PDB structure '2f08'...\n",
      "Downloading PDB structure '1xwv'...\n"
     ]
    },
    {
     "name": "stderr",
     "output_type": "stream",
     "text": [
      " 43%|████▎     | 385/891 [06:53<07:22,  1.14it/s]"
     ]
    },
    {
     "name": "stdout",
     "output_type": "stream",
     "text": [
      "Aligned 129 residues (Free: 129, Bound: 129, Excluded: 0)\n",
      "Downloading PDB structure '2quk'...\n",
      "Downloading PDB structure '2quj'...\n"
     ]
    },
    {
     "name": "stderr",
     "output_type": "stream",
     "text": [
      " 43%|████▎     | 386/891 [06:54<07:38,  1.10it/s]"
     ]
    },
    {
     "name": "stdout",
     "output_type": "stream",
     "text": [
      "Aligned 374 residues (Free: 374, Bound: 388, Excluded: 14)\n",
      "Downloading PDB structure '2acf'...\n",
      "Downloading PDB structure '2fav'...\n"
     ]
    },
    {
     "name": "stderr",
     "output_type": "stream",
     "text": [
      " 43%|████▎     | 387/891 [06:55<08:41,  1.04s/it]"
     ]
    },
    {
     "name": "stdout",
     "output_type": "stream",
     "text": [
      "No common residues between 2acf and 2fav\n",
      "Downloading PDB structure '2i7h'...\n"
     ]
    },
    {
     "name": "stderr",
     "output_type": "stream",
     "text": [
      " 44%|████▎     | 388/891 [06:56<08:16,  1.01it/s]"
     ]
    },
    {
     "name": "stdout",
     "output_type": "stream",
     "text": [
      "Structure exists: 'data/PSCDB/PDB_structures/pdb2i7h.ent' \n",
      "Aligned 183 residues (Free: 183, Bound: 183, Excluded: 0)\n",
      "Downloading PDB structure '1ozt'...\n",
      "Downloading PDB structure '1spd'...\n"
     ]
    },
    {
     "name": "stderr",
     "output_type": "stream",
     "text": [
      " 44%|████▎     | 389/891 [06:57<09:04,  1.08s/it]"
     ]
    },
    {
     "name": "stdout",
     "output_type": "stream",
     "text": [
      "No common residues between 1ozt and 1spd\n",
      "Downloading PDB structure '1uu0'...\n",
      "Downloading PDB structure '1uu2'...\n"
     ]
    },
    {
     "name": "stderr",
     "output_type": "stream",
     "text": [
      " 44%|████▍     | 390/891 [06:59<09:05,  1.09s/it]"
     ]
    },
    {
     "name": "stdout",
     "output_type": "stream",
     "text": [
      "Aligned 321 residues (Free: 328, Bound: 321, Excluded: 7)\n",
      "Downloading PDB structure '1beo'...\n",
      "Downloading PDB structure '1lri'...\n"
     ]
    },
    {
     "name": "stderr",
     "output_type": "stream",
     "text": [
      " 44%|████▍     | 391/891 [07:00<08:44,  1.05s/it]"
     ]
    },
    {
     "name": "stdout",
     "output_type": "stream",
     "text": [
      "Aligned 98 residues (Free: 98, Bound: 98, Excluded: 0)\n",
      "Downloading PDB structure '2sbt'...\n",
      "Downloading PDB structure '1ubn'...\n"
     ]
    },
    {
     "name": "stderr",
     "output_type": "stream",
     "text": [
      " 44%|████▍     | 392/891 [07:00<07:58,  1.04it/s]"
     ]
    },
    {
     "name": "stdout",
     "output_type": "stream",
     "text": [
      "Aligned 274 residues (Free: 275, Bound: 274, Excluded: 1)\n",
      "Downloading PDB structure '1hxj'...\n",
      "Downloading PDB structure '1v08'...\n"
     ]
    },
    {
     "name": "stderr",
     "output_type": "stream",
     "text": [
      " 44%|████▍     | 393/891 [07:02<09:22,  1.13s/it]"
     ]
    },
    {
     "name": "stdout",
     "output_type": "stream",
     "text": [
      "Aligned 484 residues (Free: 490, Bound: 490, Excluded: 12)\n",
      "Downloading PDB structure '1gy0'...\n",
      "Downloading PDB structure '1gxz'...\n"
     ]
    },
    {
     "name": "stderr",
     "output_type": "stream",
     "text": [
      " 44%|████▍     | 394/891 [07:03<08:22,  1.01s/it]"
     ]
    },
    {
     "name": "stdout",
     "output_type": "stream",
     "text": [
      "Aligned 223 residues (Free: 223, Bound: 223, Excluded: 0)\n",
      "Downloading PDB structure '1fqn'...\n",
      "Downloading PDB structure '1xev'...\n"
     ]
    },
    {
     "name": "stderr",
     "output_type": "stream",
     "text": [
      " 44%|████▍     | 395/891 [07:04<08:20,  1.01s/it]"
     ]
    },
    {
     "name": "stdout",
     "output_type": "stream",
     "text": [
      "Aligned 257 residues (Free: 257, Bound: 258, Excluded: 1)\n",
      "Downloading PDB structure '2qvk'...\n",
      "Downloading PDB structure '2qvm'...\n"
     ]
    },
    {
     "name": "stderr",
     "output_type": "stream",
     "text": [
      " 44%|████▍     | 396/891 [07:04<07:18,  1.13it/s]"
     ]
    },
    {
     "name": "stdout",
     "output_type": "stream",
     "text": [
      "Aligned 116 residues (Free: 121, Bound: 116, Excluded: 5)\n",
      "Downloading PDB structure '1x8e'...\n",
      "Downloading PDB structure '1x82'...\n"
     ]
    },
    {
     "name": "stderr",
     "output_type": "stream",
     "text": [
      " 45%|████▍     | 397/891 [07:05<07:08,  1.15it/s]"
     ]
    },
    {
     "name": "stdout",
     "output_type": "stream",
     "text": [
      "Aligned 184 residues (Free: 189, Bound: 185, Excluded: 6)\n",
      "Downloading PDB structure '2qbv'...\n",
      "Downloading PDB structure '2vkl'...\n"
     ]
    },
    {
     "name": "stderr",
     "output_type": "stream",
     "text": [
      " 45%|████▍     | 398/891 [07:06<06:55,  1.19it/s]"
     ]
    },
    {
     "name": "stdout",
     "output_type": "stream",
     "text": [
      "Aligned 62 residues (Free: 73, Bound: 77, Excluded: 26)\n",
      "Downloading PDB structure '2qzp'...\n",
      "Downloading PDB structure '1ve7'...\n"
     ]
    },
    {
     "name": "stderr",
     "output_type": "stream",
     "text": [
      " 45%|████▍     | 399/891 [07:07<07:40,  1.07it/s]"
     ]
    },
    {
     "name": "stdout",
     "output_type": "stream",
     "text": [
      "Aligned 560 residues (Free: 560, Bound: 573, Excluded: 13)\n",
      "Downloading PDB structure '2c7i'...\n",
      "Downloading PDB structure '2art'...\n"
     ]
    },
    {
     "name": "stderr",
     "output_type": "stream",
     "text": [
      " 45%|████▍     | 400/891 [07:08<07:51,  1.04it/s]"
     ]
    },
    {
     "name": "stdout",
     "output_type": "stream",
     "text": [
      "Aligned 243 residues (Free: 244, Bound: 247, Excluded: 5)\n",
      "Downloading PDB structure '2dg0'...\n",
      "Downloading PDB structure '2dso'...\n"
     ]
    },
    {
     "name": "stderr",
     "output_type": "stream",
     "text": [
      " 45%|████▌     | 401/891 [07:10<11:01,  1.35s/it]"
     ]
    },
    {
     "name": "stdout",
     "output_type": "stream",
     "text": [
      "Aligned 317 residues (Free: 317, Bound: 322, Excluded: 5)\n",
      "Downloading PDB structure '2zf3'...\n",
      "Downloading PDB structure '2zf4'...\n"
     ]
    },
    {
     "name": "stderr",
     "output_type": "stream",
     "text": [
      " 45%|████▌     | 402/891 [07:11<10:46,  1.32s/it]"
     ]
    },
    {
     "name": "stdout",
     "output_type": "stream",
     "text": [
      "Aligned 185 residues (Free: 186, Bound: 187, Excluded: 3)\n",
      "Downloading PDB structure '2box'...\n",
      "Downloading PDB structure '2bo2'...\n"
     ]
    },
    {
     "name": "stderr",
     "output_type": "stream",
     "text": [
      " 45%|████▌     | 403/891 [07:12<09:17,  1.14s/it]"
     ]
    },
    {
     "name": "stdout",
     "output_type": "stream",
     "text": [
      "Aligned 134 residues (Free: 135, Bound: 140, Excluded: 7)\n",
      "Downloading PDB structure '2av8'...\n",
      "Downloading PDB structure '1pfr'...\n"
     ]
    },
    {
     "name": "stderr",
     "output_type": "stream",
     "text": [
      " 45%|████▌     | 404/891 [07:14<09:47,  1.21s/it]"
     ]
    },
    {
     "name": "stdout",
     "output_type": "stream",
     "text": [
      "Aligned 340 residues (Free: 340, Bound: 340, Excluded: 0)\n",
      "Downloading PDB structure '1jiq'...\n",
      "Downloading PDB structure '1nuh'...\n"
     ]
    },
    {
     "name": "stderr",
     "output_type": "stream",
     "text": [
      " 45%|████▌     | 405/891 [07:15<10:33,  1.30s/it]"
     ]
    },
    {
     "name": "stdout",
     "output_type": "stream",
     "text": [
      "Aligned 555 residues (Free: 557, Bound: 555, Excluded: 2)\n",
      "Downloading PDB structure '1psr'...\n",
      "Downloading PDB structure '3psr'...\n"
     ]
    },
    {
     "name": "stderr",
     "output_type": "stream",
     "text": [
      " 46%|████▌     | 406/891 [07:16<09:50,  1.22s/it]"
     ]
    },
    {
     "name": "stdout",
     "output_type": "stream",
     "text": [
      "Aligned 96 residues (Free: 100, Bound: 96, Excluded: 4)\n",
      "Downloading PDB structure '2rca'...\n",
      "Downloading PDB structure '2rcb'...\n"
     ]
    },
    {
     "name": "stderr",
     "output_type": "stream",
     "text": [
      " 46%|████▌     | 407/891 [07:17<09:31,  1.18s/it]"
     ]
    },
    {
     "name": "stdout",
     "output_type": "stream",
     "text": [
      "Aligned 282 residues (Free: 282, Bound: 282, Excluded: 0)\n",
      "Downloading PDB structure '2yrf'...\n",
      "Downloading PDB structure '2yvk'...\n"
     ]
    },
    {
     "name": "stderr",
     "output_type": "stream",
     "text": [
      " 46%|████▌     | 408/891 [07:18<09:39,  1.20s/it]"
     ]
    },
    {
     "name": "stdout",
     "output_type": "stream",
     "text": [
      "Aligned 340 residues (Free: 340, Bound: 349, Excluded: 9)\n",
      "Downloading PDB structure '1iun'...\n",
      "Downloading PDB structure '1uk9'...\n"
     ]
    },
    {
     "name": "stderr",
     "output_type": "stream",
     "text": [
      " 46%|████▌     | 409/891 [07:20<09:25,  1.17s/it]"
     ]
    },
    {
     "name": "stdout",
     "output_type": "stream",
     "text": [
      "Aligned 271 residues (Free: 272, Bound: 271, Excluded: 1)\n",
      "Downloading PDB structure '1f2v'...\n",
      "Downloading PDB structure '1i1h'...\n"
     ]
    },
    {
     "name": "stderr",
     "output_type": "stream",
     "text": [
      " 46%|████▌     | 410/891 [07:20<08:15,  1.03s/it]"
     ]
    },
    {
     "name": "stdout",
     "output_type": "stream",
     "text": [
      "Aligned 209 residues (Free: 209, Bound: 209, Excluded: 0)\n",
      "Downloading PDB structure '2o70'...\n",
      "Downloading PDB structure '2o74'...\n"
     ]
    },
    {
     "name": "stderr",
     "output_type": "stream",
     "text": [
      " 46%|████▌     | 411/891 [07:21<08:46,  1.10s/it]"
     ]
    },
    {
     "name": "stdout",
     "output_type": "stream",
     "text": [
      "Aligned 165 residues (Free: 165, Bound: 165, Excluded: 0)\n",
      "Downloading PDB structure '2vb3'...\n",
      "Downloading PDB structure '2vb2'...\n"
     ]
    },
    {
     "name": "stderr",
     "output_type": "stream",
     "text": [
      " 46%|████▌     | 412/891 [07:22<07:41,  1.04it/s]"
     ]
    },
    {
     "name": "stdout",
     "output_type": "stream",
     "text": [
      "Aligned 75 residues (Free: 75, Bound: 75, Excluded: 0)\n",
      "Downloading PDB structure '1avk'...\n",
      "Downloading PDB structure '1ui7'...\n"
     ]
    },
    {
     "name": "stderr",
     "output_type": "stream",
     "text": [
      " 46%|████▋     | 413/891 [07:24<08:44,  1.10s/it]"
     ]
    },
    {
     "name": "stdout",
     "output_type": "stream",
     "text": [
      "Aligned 620 residues (Free: 620, Bound: 620, Excluded: 0)\n",
      "Downloading PDB structure '2vw0'...\n",
      "Downloading PDB structure '2vw1'...\n"
     ]
    },
    {
     "name": "stderr",
     "output_type": "stream",
     "text": [
      " 46%|████▋     | 414/891 [07:25<08:57,  1.13s/it]"
     ]
    },
    {
     "name": "stdout",
     "output_type": "stream",
     "text": [
      "Aligned 657 residues (Free: 657, Bound: 658, Excluded: 1)\n",
      "Downloading PDB structure '1evq'...\n",
      "Downloading PDB structure '1qz3'...\n"
     ]
    },
    {
     "name": "stderr",
     "output_type": "stream",
     "text": [
      " 47%|████▋     | 415/891 [07:26<08:21,  1.05s/it]"
     ]
    },
    {
     "name": "stdout",
     "output_type": "stream",
     "text": [
      "Aligned 304 residues (Free: 304, Bound: 309, Excluded: 5)\n",
      "Downloading PDB structure '2eaw'...\n",
      "Downloading PDB structure '3bgg'...\n"
     ]
    },
    {
     "name": "stderr",
     "output_type": "stream",
     "text": [
      " 47%|████▋     | 416/891 [07:27<08:29,  1.07s/it]"
     ]
    },
    {
     "name": "stdout",
     "output_type": "stream",
     "text": [
      "Aligned 256 residues (Free: 256, Bound: 257, Excluded: 1)\n",
      "Downloading PDB structure '1mzl'...\n",
      "Downloading PDB structure '1fk1'...\n"
     ]
    },
    {
     "name": "stderr",
     "output_type": "stream",
     "text": [
      " 47%|████▋     | 417/891 [07:27<07:23,  1.07it/s]"
     ]
    },
    {
     "name": "stdout",
     "output_type": "stream",
     "text": [
      "Aligned 93 residues (Free: 93, Bound: 93, Excluded: 0)\n",
      "Downloading PDB structure '1o9n'...\n",
      "Downloading PDB structure '1ocl'...\n"
     ]
    },
    {
     "name": "stderr",
     "output_type": "stream",
     "text": [
      " 47%|████▋     | 418/891 [07:29<08:10,  1.04s/it]"
     ]
    },
    {
     "name": "stdout",
     "output_type": "stream",
     "text": [
      "Aligned 412 residues (Free: 412, Bound: 412, Excluded: 0)\n",
      "Downloading PDB structure '1jx1'...\n",
      "Structure exists: 'data/PSCDB/PDB_structures/pdb1jx1.ent' \n"
     ]
    },
    {
     "name": "stderr",
     "output_type": "stream",
     "text": [
      " 47%|████▋     | 419/891 [07:30<07:59,  1.02s/it]"
     ]
    },
    {
     "name": "stdout",
     "output_type": "stream",
     "text": [
      "Aligned 218 residues (Free: 218, Bound: 218, Excluded: 0)\n",
      "Downloading PDB structure '2e7i'...\n",
      "Downloading PDB structure '2e7j'...\n"
     ]
    },
    {
     "name": "stderr",
     "output_type": "stream",
     "text": [
      " 47%|████▋     | 420/891 [07:31<08:13,  1.05s/it]"
     ]
    },
    {
     "name": "stdout",
     "output_type": "stream",
     "text": [
      "Aligned 344 residues (Free: 344, Bound: 344, Excluded: 0)\n",
      "Downloading PDB structure '2oyc'...\n",
      "Downloading PDB structure '2p69'...\n"
     ]
    },
    {
     "name": "stderr",
     "output_type": "stream",
     "text": [
      " 47%|████▋     | 421/891 [07:32<07:45,  1.01it/s]"
     ]
    },
    {
     "name": "stdout",
     "output_type": "stream",
     "text": [
      "Aligned 285 residues (Free: 289, Bound: 285, Excluded: 4)\n",
      "Downloading PDB structure '1mdf'...\n",
      "Downloading PDB structure '1md9'...\n"
     ]
    },
    {
     "name": "stderr",
     "output_type": "stream",
     "text": [
      " 47%|████▋     | 422/891 [07:33<07:49,  1.00s/it]"
     ]
    },
    {
     "name": "stdout",
     "output_type": "stream",
     "text": [
      "Aligned 528 residues (Free: 536, Bound: 528, Excluded: 8)\n",
      "Downloading PDB structure '1w5r'...\n",
      "Downloading PDB structure '1w6f'...\n"
     ]
    },
    {
     "name": "stderr",
     "output_type": "stream",
     "text": [
      " 47%|████▋     | 423/891 [07:34<09:01,  1.16s/it]"
     ]
    },
    {
     "name": "stdout",
     "output_type": "stream",
     "text": [
      "Aligned 273 residues (Free: 273, Bound: 273, Excluded: 0)\n",
      "Downloading PDB structure '2zr3'...\n",
      "Downloading PDB structure '2dq0'...\n"
     ]
    },
    {
     "name": "stderr",
     "output_type": "stream",
     "text": [
      " 48%|████▊     | 424/891 [07:35<09:12,  1.18s/it]"
     ]
    },
    {
     "name": "stdout",
     "output_type": "stream",
     "text": [
      "Aligned 447 residues (Free: 448, Bound: 447, Excluded: 1)\n",
      "Downloading PDB structure '2iqy'...\n",
      "Downloading PDB structure '2iqx'...\n"
     ]
    },
    {
     "name": "stderr",
     "output_type": "stream",
     "text": [
      " 48%|████▊     | 425/891 [07:36<08:23,  1.08s/it]"
     ]
    },
    {
     "name": "stdout",
     "output_type": "stream",
     "text": [
      "Aligned 185 residues (Free: 190, Bound: 185, Excluded: 5)\n",
      "Downloading PDB structure '2bkb'...\n",
      "Downloading PDB structure '1za5'...\n"
     ]
    },
    {
     "name": "stderr",
     "output_type": "stream",
     "text": [
      " 48%|████▊     | 426/891 [07:37<08:39,  1.12s/it]"
     ]
    },
    {
     "name": "stdout",
     "output_type": "stream",
     "text": [
      "Aligned 192 residues (Free: 192, Bound: 192, Excluded: 0)\n",
      "Downloading PDB structure '1vf8'...\n",
      "Downloading PDB structure '1e9l'...\n"
     ]
    },
    {
     "name": "stderr",
     "output_type": "stream",
     "text": [
      " 48%|████▊     | 427/891 [07:38<08:16,  1.07s/it]"
     ]
    },
    {
     "name": "stdout",
     "output_type": "stream",
     "text": [
      "Aligned 352 residues (Free: 373, Bound: 372, Excluded: 41)\n",
      "Downloading PDB structure '1fhm'...\n",
      "Downloading PDB structure '1t9p'...\n"
     ]
    },
    {
     "name": "stderr",
     "output_type": "stream",
     "text": [
      " 48%|████▊     | 428/891 [07:39<07:13,  1.07it/s]"
     ]
    },
    {
     "name": "stdout",
     "output_type": "stream",
     "text": [
      "Aligned 53 residues (Free: 53, Bound: 54, Excluded: 1)\n",
      "Downloading PDB structure '1usl'...\n",
      "Downloading PDB structure '2vvo'...\n"
     ]
    },
    {
     "name": "stderr",
     "output_type": "stream",
     "text": [
      " 48%|████▊     | 429/891 [07:40<07:38,  1.01it/s]"
     ]
    },
    {
     "name": "stdout",
     "output_type": "stream",
     "text": [
      "Aligned 156 residues (Free: 156, Bound: 156, Excluded: 0)\n",
      "Downloading PDB structure '2fyo'...\n",
      "Downloading PDB structure '2fw3'...\n"
     ]
    },
    {
     "name": "stderr",
     "output_type": "stream",
     "text": [
      " 48%|████▊     | 430/891 [07:41<08:25,  1.10s/it]"
     ]
    },
    {
     "name": "stdout",
     "output_type": "stream",
     "text": [
      "Aligned 611 residues (Free: 613, Bound: 623, Excluded: 14)\n",
      "Downloading PDB structure '2fp8'...\n",
      "Downloading PDB structure '2fp9'...\n"
     ]
    },
    {
     "name": "stderr",
     "output_type": "stream",
     "text": [
      " 48%|████▊     | 431/891 [07:42<08:06,  1.06s/it]"
     ]
    },
    {
     "name": "stdout",
     "output_type": "stream",
     "text": [
      "Aligned 302 residues (Free: 302, Bound: 305, Excluded: 3)\n",
      "Downloading PDB structure '2g6v'...\n",
      "Downloading PDB structure '2obc'...\n"
     ]
    },
    {
     "name": "stderr",
     "output_type": "stream",
     "text": [
      " 48%|████▊     | 432/891 [07:44<08:13,  1.08s/it]"
     ]
    },
    {
     "name": "stdout",
     "output_type": "stream",
     "text": [
      "Aligned 345 residues (Free: 346, Bound: 345, Excluded: 1)\n",
      "Downloading PDB structure '3chi'...\n",
      "Downloading PDB structure '3cht'...\n"
     ]
    },
    {
     "name": "stderr",
     "output_type": "stream",
     "text": [
      " 49%|████▊     | 433/891 [07:45<08:50,  1.16s/it]"
     ]
    },
    {
     "name": "stdout",
     "output_type": "stream",
     "text": [
      "Aligned 301 residues (Free: 301, Bound: 301, Excluded: 0)\n",
      "Downloading PDB structure '2byw'...\n",
      "Downloading PDB structure '2bui'...\n"
     ]
    },
    {
     "name": "stderr",
     "output_type": "stream",
     "text": [
      " 49%|████▊     | 434/891 [07:47<09:54,  1.30s/it]"
     ]
    },
    {
     "name": "stdout",
     "output_type": "stream",
     "text": [
      "Aligned 406 residues (Free: 406, Bound: 406, Excluded: 0)\n",
      "Downloading PDB structure '2aej'...\n",
      "Downloading PDB structure '2aef'...\n"
     ]
    },
    {
     "name": "stderr",
     "output_type": "stream",
     "text": [
      " 49%|████▉     | 435/891 [07:47<09:07,  1.20s/it]"
     ]
    },
    {
     "name": "stdout",
     "output_type": "stream",
     "text": [
      "Aligned 221 residues (Free: 224, Bound: 221, Excluded: 3)\n",
      "Downloading PDB structure '1wac'...\n",
      "Downloading PDB structure '1hhs'...\n"
     ]
    },
    {
     "name": "stderr",
     "output_type": "stream",
     "text": [
      " 49%|████▉     | 436/891 [07:49<10:20,  1.36s/it]"
     ]
    },
    {
     "name": "stdout",
     "output_type": "stream",
     "text": [
      "Aligned 662 residues (Free: 662, Bound: 664, Excluded: 2)\n",
      "Downloading PDB structure '1ncz'...\n",
      "Downloading PDB structure '5tnc'...\n"
     ]
    },
    {
     "name": "stderr",
     "output_type": "stream",
     "text": [
      " 49%|████▉     | 437/891 [07:50<08:44,  1.16s/it]"
     ]
    },
    {
     "name": "stdout",
     "output_type": "stream",
     "text": [
      "Aligned 161 residues (Free: 162, Bound: 161, Excluded: 1)\n",
      "Downloading PDB structure '1arl'...\n",
      "Downloading PDB structure '1cpx'...\n"
     ]
    },
    {
     "name": "stderr",
     "output_type": "stream",
     "text": [
      " 49%|████▉     | 438/891 [07:51<07:58,  1.06s/it]"
     ]
    },
    {
     "name": "stdout",
     "output_type": "stream",
     "text": [
      "Aligned 305 residues (Free: 307, Bound: 305, Excluded: 2)\n",
      "Downloading PDB structure '2f3n'...\n",
      "Downloading PDB structure '2f44'...\n"
     ]
    },
    {
     "name": "stderr",
     "output_type": "stream",
     "text": [
      " 49%|████▉     | 439/891 [07:51<07:00,  1.08it/s]"
     ]
    },
    {
     "name": "stdout",
     "output_type": "stream",
     "text": [
      "Aligned 65 residues (Free: 65, Bound: 65, Excluded: 0)\n",
      "Downloading PDB structure '1juk'...\n",
      "Downloading PDB structure '1lbl'...\n"
     ]
    },
    {
     "name": "stderr",
     "output_type": "stream",
     "text": [
      " 49%|████▉     | 440/891 [07:52<07:11,  1.04it/s]"
     ]
    },
    {
     "name": "stdout",
     "output_type": "stream",
     "text": [
      "Aligned 247 residues (Free: 247, Bound: 247, Excluded: 0)\n",
      "Downloading PDB structure '2bw0'...\n",
      "Downloading PDB structure '2cfi'...\n"
     ]
    },
    {
     "name": "stderr",
     "output_type": "stream",
     "text": [
      " 49%|████▉     | 441/891 [07:53<06:50,  1.09it/s]"
     ]
    },
    {
     "name": "stdout",
     "output_type": "stream",
     "text": [
      "Aligned 309 residues (Free: 309, Bound: 310, Excluded: 1)\n",
      "Downloading PDB structure '2yyv'...\n",
      "Downloading PDB structure '2yzo'...\n"
     ]
    },
    {
     "name": "stderr",
     "output_type": "stream",
     "text": [
      " 50%|████▉     | 442/891 [07:55<07:57,  1.06s/it]"
     ]
    },
    {
     "name": "stdout",
     "output_type": "stream",
     "text": [
      "Aligned 223 residues (Free: 223, Bound: 223, Excluded: 0)\n",
      "Downloading PDB structure '2hkl'...\n",
      "Downloading PDB structure '1zat'...\n"
     ]
    },
    {
     "name": "stderr",
     "output_type": "stream",
     "text": [
      " 50%|████▉     | 443/891 [07:56<07:49,  1.05s/it]"
     ]
    },
    {
     "name": "stdout",
     "output_type": "stream",
     "text": [
      "Aligned 248 residues (Free: 248, Bound: 248, Excluded: 0)\n",
      "Downloading PDB structure '2oam'...\n",
      "Downloading PDB structure '2oa1'...\n"
     ]
    },
    {
     "name": "stderr",
     "output_type": "stream",
     "text": [
      " 50%|████▉     | 444/891 [07:57<08:47,  1.18s/it]"
     ]
    },
    {
     "name": "stdout",
     "output_type": "stream",
     "text": [
      "Aligned 523 residues (Free: 523, Bound: 527, Excluded: 4)\n",
      "Downloading PDB structure '1kko'...\n",
      "Downloading PDB structure '1kkr'...\n"
     ]
    },
    {
     "name": "stderr",
     "output_type": "stream",
     "text": [
      " 50%|████▉     | 445/891 [07:58<09:15,  1.24s/it]"
     ]
    },
    {
     "name": "stdout",
     "output_type": "stream",
     "text": [
      "Aligned 401 residues (Free: 401, Bound: 401, Excluded: 0)\n",
      "Downloading PDB structure '2o6f'...\n",
      "Downloading PDB structure '2o6e'...\n"
     ]
    },
    {
     "name": "stderr",
     "output_type": "stream",
     "text": [
      " 50%|█████     | 446/891 [07:59<08:35,  1.16s/it]"
     ]
    },
    {
     "name": "stdout",
     "output_type": "stream",
     "text": [
      "Aligned 157 residues (Free: 157, Bound: 158, Excluded: 1)\n",
      "Downloading PDB structure '1bt2'...\n",
      "Downloading PDB structure '1bug'...\n"
     ]
    },
    {
     "name": "stderr",
     "output_type": "stream",
     "text": [
      " 50%|█████     | 447/891 [08:01<09:12,  1.25s/it]"
     ]
    },
    {
     "name": "stdout",
     "output_type": "stream",
     "text": [
      "Aligned 336 residues (Free: 336, Bound: 336, Excluded: 0)\n",
      "Downloading PDB structure '1lkp'...\n",
      "Downloading PDB structure '1dvb'...\n"
     ]
    },
    {
     "name": "stderr",
     "output_type": "stream",
     "text": [
      " 50%|█████     | 448/891 [08:02<07:56,  1.08s/it]"
     ]
    },
    {
     "name": "stdout",
     "output_type": "stream",
     "text": [
      "Aligned 190 residues (Free: 190, Bound: 191, Excluded: 1)\n",
      "Downloading PDB structure '1iad'...\n",
      "Downloading PDB structure '1iaa'...\n"
     ]
    },
    {
     "name": "stderr",
     "output_type": "stream",
     "text": [
      " 50%|█████     | 449/891 [08:02<06:51,  1.07it/s]"
     ]
    },
    {
     "name": "stdout",
     "output_type": "stream",
     "text": [
      "Aligned 200 residues (Free: 200, Bound: 200, Excluded: 0)\n",
      "Downloading PDB structure '2p76'...\n",
      "Downloading PDB structure '2oog'...\n"
     ]
    },
    {
     "name": "stderr",
     "output_type": "stream",
     "text": [
      " 51%|█████     | 450/891 [08:04<09:23,  1.28s/it]"
     ]
    },
    {
     "name": "stdout",
     "output_type": "stream",
     "text": [
      "Aligned 267 residues (Free: 267, Bound: 267, Excluded: 0)\n",
      "Downloading PDB structure '2yu2'...\n",
      "Downloading PDB structure '2yu1'...\n"
     ]
    },
    {
     "name": "stderr",
     "output_type": "stream",
     "text": [
      " 51%|█████     | 451/891 [08:05<08:53,  1.21s/it]"
     ]
    },
    {
     "name": "stdout",
     "output_type": "stream",
     "text": [
      "Aligned 385 residues (Free: 387, Bound: 386, Excluded: 3)\n",
      "Downloading PDB structure '1l7r'...\n",
      "Downloading PDB structure '1ju4'...\n"
     ]
    },
    {
     "name": "stderr",
     "output_type": "stream",
     "text": [
      " 51%|█████     | 452/891 [08:06<08:38,  1.18s/it]"
     ]
    },
    {
     "name": "stdout",
     "output_type": "stream",
     "text": [
      "Aligned 570 residues (Free: 573, Bound: 570, Excluded: 3)\n",
      "Downloading PDB structure '2vzo'...\n",
      "Downloading PDB structure '2vzs'...\n"
     ]
    },
    {
     "name": "stderr",
     "output_type": "stream",
     "text": [
      " 51%|█████     | 453/891 [08:08<09:29,  1.30s/it]"
     ]
    },
    {
     "name": "stdout",
     "output_type": "stream",
     "text": [
      "Aligned 850 residues (Free: 850, Bound: 857, Excluded: 7)\n",
      "Downloading PDB structure '1dcd'...\n",
      "Downloading PDB structure '1dxg'...\n"
     ]
    },
    {
     "name": "stderr",
     "output_type": "stream",
     "text": [
      " 51%|█████     | 454/891 [08:09<07:58,  1.09s/it]"
     ]
    },
    {
     "name": "stdout",
     "output_type": "stream",
     "text": [
      "Aligned 36 residues (Free: 36, Bound: 36, Excluded: 0)\n",
      "Downloading PDB structure '2e3j'...\n",
      "Downloading PDB structure '2zjf'...\n"
     ]
    },
    {
     "name": "stderr",
     "output_type": "stream",
     "text": [
      " 51%|█████     | 455/891 [08:09<07:29,  1.03s/it]"
     ]
    },
    {
     "name": "stdout",
     "output_type": "stream",
     "text": [
      "Aligned 346 residues (Free: 346, Bound: 346, Excluded: 0)\n",
      "Downloading PDB structure '2qev'...\n",
      "Downloading PDB structure '2qeo'...\n"
     ]
    },
    {
     "name": "stderr",
     "output_type": "stream",
     "text": [
      " 51%|█████     | 456/891 [08:10<06:58,  1.04it/s]"
     ]
    },
    {
     "name": "stdout",
     "output_type": "stream",
     "text": [
      "Aligned 144 residues (Free: 145, Bound: 144, Excluded: 1)\n",
      "Downloading PDB structure '2vfw'...\n",
      "Downloading PDB structure '2vg0'...\n"
     ]
    },
    {
     "name": "stderr",
     "output_type": "stream",
     "text": [
      " 51%|█████▏    | 457/891 [08:12<07:56,  1.10s/it]"
     ]
    },
    {
     "name": "stdout",
     "output_type": "stream",
     "text": [
      "Aligned 227 residues (Free: 227, Bound: 227, Excluded: 0)\n",
      "Downloading PDB structure '1mkb'...\n",
      "Downloading PDB structure '1mka'...\n"
     ]
    },
    {
     "name": "stderr",
     "output_type": "stream",
     "text": [
      " 51%|█████▏    | 458/891 [08:13<07:32,  1.05s/it]"
     ]
    },
    {
     "name": "stdout",
     "output_type": "stream",
     "text": [
      "Aligned 171 residues (Free: 171, Bound: 171, Excluded: 0)\n",
      "Downloading PDB structure '1fa8'...\n",
      "Downloading PDB structure '1f9z'...\n"
     ]
    },
    {
     "name": "stderr",
     "output_type": "stream",
     "text": [
      " 52%|█████▏    | 459/891 [08:13<07:05,  1.02it/s]"
     ]
    },
    {
     "name": "stdout",
     "output_type": "stream",
     "text": [
      "Aligned 128 residues (Free: 128, Bound: 128, Excluded: 0)\n",
      "Downloading PDB structure '3c6y'...\n",
      "Downloading PDB structure '1yas'...\n"
     ]
    },
    {
     "name": "stderr",
     "output_type": "stream",
     "text": [
      " 52%|█████▏    | 460/891 [08:15<07:14,  1.01s/it]"
     ]
    },
    {
     "name": "stdout",
     "output_type": "stream",
     "text": [
      "Aligned 256 residues (Free: 256, Bound: 256, Excluded: 0)\n",
      "Downloading PDB structure '1qam'...\n",
      "Downloading PDB structure '1qaq'...\n"
     ]
    },
    {
     "name": "stderr",
     "output_type": "stream",
     "text": [
      " 52%|█████▏    | 461/891 [08:15<06:47,  1.05it/s]"
     ]
    },
    {
     "name": "stdout",
     "output_type": "stream",
     "text": [
      "Aligned 235 residues (Free: 235, Bound: 236, Excluded: 1)\n",
      "Downloading PDB structure '2veo'...\n",
      "Structure exists: 'data/PSCDB/PDB_structures/pdb2veo.ent' \n"
     ]
    },
    {
     "name": "stderr",
     "output_type": "stream",
     "text": [
      " 52%|█████▏    | 462/891 [08:16<06:44,  1.06it/s]"
     ]
    },
    {
     "name": "stdout",
     "output_type": "stream",
     "text": [
      "Aligned 430 residues (Free: 430, Bound: 430, Excluded: 0)\n",
      "Downloading PDB structure '2i49'...\n",
      "Downloading PDB structure '2i4c'...\n"
     ]
    },
    {
     "name": "stderr",
     "output_type": "stream",
     "text": [
      " 52%|█████▏    | 463/891 [08:17<06:51,  1.04it/s]"
     ]
    },
    {
     "name": "stdout",
     "output_type": "stream",
     "text": [
      "Aligned 398 residues (Free: 398, Bound: 401, Excluded: 3)\n",
      "Downloading PDB structure '1tee'...\n",
      "Downloading PDB structure '1ted'...\n"
     ]
    },
    {
     "name": "stderr",
     "output_type": "stream",
     "text": [
      " 52%|█████▏    | 464/891 [08:19<08:05,  1.14s/it]"
     ]
    },
    {
     "name": "stdout",
     "output_type": "stream",
     "text": [
      "Aligned 368 residues (Free: 368, Bound: 368, Excluded: 0)\n",
      "Downloading PDB structure '1hzt'...\n",
      "Downloading PDB structure '1r67'...\n"
     ]
    },
    {
     "name": "stderr",
     "output_type": "stream",
     "text": [
      " 52%|█████▏    | 465/891 [08:20<07:09,  1.01s/it]"
     ]
    },
    {
     "name": "stdout",
     "output_type": "stream",
     "text": [
      "Aligned 151 residues (Free: 153, Bound: 151, Excluded: 2)\n",
      "Downloading PDB structure '1snz'...\n",
      "Downloading PDB structure '1so0'...\n"
     ]
    },
    {
     "name": "stderr",
     "output_type": "stream",
     "text": [
      " 52%|█████▏    | 466/891 [08:21<07:32,  1.06s/it]"
     ]
    },
    {
     "name": "stdout",
     "output_type": "stream",
     "text": [
      "Aligned 344 residues (Free: 344, Bound: 344, Excluded: 0)\n",
      "Downloading PDB structure '1iiw'...\n",
      "Downloading PDB structure '1ii5'...\n"
     ]
    },
    {
     "name": "stderr",
     "output_type": "stream",
     "text": [
      " 52%|█████▏    | 467/891 [08:21<06:39,  1.06it/s]"
     ]
    },
    {
     "name": "stdout",
     "output_type": "stream",
     "text": [
      "Aligned 221 residues (Free: 221, Bound: 221, Excluded: 0)\n",
      "Downloading PDB structure '2b3l'...\n",
      "Downloading PDB structure '2b3h'...\n"
     ]
    },
    {
     "name": "stderr",
     "output_type": "stream",
     "text": [
      " 53%|█████▎    | 468/891 [08:23<07:01,  1.00it/s]"
     ]
    },
    {
     "name": "stdout",
     "output_type": "stream",
     "text": [
      "Aligned 304 residues (Free: 305, Bound: 304, Excluded: 1)\n",
      "Downloading PDB structure '2v28'...\n",
      "Downloading PDB structure '2v27'...\n"
     ]
    },
    {
     "name": "stderr",
     "output_type": "stream",
     "text": [
      " 53%|█████▎    | 469/891 [08:24<07:50,  1.12s/it]"
     ]
    },
    {
     "name": "stdout",
     "output_type": "stream",
     "text": [
      "Aligned 264 residues (Free: 264, Bound: 264, Excluded: 0)\n",
      "Downloading PDB structure '1esc'...\n",
      "Downloading PDB structure '1ese'...\n"
     ]
    },
    {
     "name": "stderr",
     "output_type": "stream",
     "text": [
      " 53%|█████▎    | 470/891 [08:25<07:22,  1.05s/it]"
     ]
    },
    {
     "name": "stdout",
     "output_type": "stream",
     "text": [
      "Aligned 302 residues (Free: 302, Bound: 302, Excluded: 0)\n",
      "Downloading PDB structure '2cwc'...\n",
      "Downloading PDB structure '2yzv'...\n"
     ]
    },
    {
     "name": "stderr",
     "output_type": "stream",
     "text": [
      " 53%|█████▎    | 471/891 [08:26<06:55,  1.01it/s]"
     ]
    },
    {
     "name": "stdout",
     "output_type": "stream",
     "text": [
      "Aligned 284 residues (Free: 284, Bound: 286, Excluded: 2)\n",
      "Downloading PDB structure '2a0k'...\n",
      "Downloading PDB structure '2f62'...\n"
     ]
    },
    {
     "name": "stderr",
     "output_type": "stream",
     "text": [
      " 53%|█████▎    | 472/891 [08:27<06:39,  1.05it/s]"
     ]
    },
    {
     "name": "stdout",
     "output_type": "stream",
     "text": [
      "Aligned 151 residues (Free: 151, Bound: 151, Excluded: 0)\n",
      "Downloading PDB structure '2iw2'...\n",
      "Downloading PDB structure '2okn'...\n"
     ]
    },
    {
     "name": "stderr",
     "output_type": "stream",
     "text": [
      " 53%|█████▎    | 473/891 [08:28<07:35,  1.09s/it]"
     ]
    },
    {
     "name": "stdout",
     "output_type": "stream",
     "text": [
      "Aligned 477 residues (Free: 477, Bound: 477, Excluded: 0)\n",
      "Downloading PDB structure '1ilw'...\n",
      "Downloading PDB structure '1im5'...\n"
     ]
    },
    {
     "name": "stderr",
     "output_type": "stream",
     "text": [
      " 53%|█████▎    | 474/891 [08:29<07:01,  1.01s/it]"
     ]
    },
    {
     "name": "stdout",
     "output_type": "stream",
     "text": [
      "Aligned 179 residues (Free: 179, Bound: 179, Excluded: 0)\n",
      "Downloading PDB structure '3bbe'...\n",
      "Downloading PDB structure '3bbh'...\n"
     ]
    },
    {
     "name": "stderr",
     "output_type": "stream",
     "text": [
      " 53%|█████▎    | 475/891 [08:30<07:04,  1.02s/it]"
     ]
    },
    {
     "name": "stdout",
     "output_type": "stream",
     "text": [
      "Aligned 204 residues (Free: 204, Bound: 204, Excluded: 0)\n",
      "Downloading PDB structure '1l5n'...\n",
      "Downloading PDB structure '1l5l'...\n"
     ]
    },
    {
     "name": "stderr",
     "output_type": "stream",
     "text": [
      " 53%|█████▎    | 476/891 [08:31<06:43,  1.03it/s]"
     ]
    },
    {
     "name": "stdout",
     "output_type": "stream",
     "text": [
      "Aligned 346 residues (Free: 346, Bound: 347, Excluded: 1)\n",
      "Downloading PDB structure '3bf7'...\n",
      "Downloading PDB structure '3bf8'...\n"
     ]
    },
    {
     "name": "stderr",
     "output_type": "stream",
     "text": [
      " 54%|█████▎    | 477/891 [08:32<07:22,  1.07s/it]"
     ]
    },
    {
     "name": "stdout",
     "output_type": "stream",
     "text": [
      "Aligned 255 residues (Free: 255, Bound: 255, Excluded: 0)\n",
      "Downloading PDB structure '1tzb'...\n",
      "Downloading PDB structure '1tzc'...\n"
     ]
    },
    {
     "name": "stderr",
     "output_type": "stream",
     "text": [
      " 54%|█████▎    | 478/891 [08:33<07:50,  1.14s/it]"
     ]
    },
    {
     "name": "stdout",
     "output_type": "stream",
     "text": [
      "Aligned 301 residues (Free: 301, Bound: 301, Excluded: 0)\n",
      "Downloading PDB structure '1oi2'...\n",
      "Downloading PDB structure '1uod'...\n"
     ]
    },
    {
     "name": "stderr",
     "output_type": "stream",
     "text": [
      " 54%|█████▍    | 479/891 [08:34<07:58,  1.16s/it]"
     ]
    },
    {
     "name": "stdout",
     "output_type": "stream",
     "text": [
      "Aligned 336 residues (Free: 336, Bound: 336, Excluded: 0)\n",
      "Downloading PDB structure '2dec'...\n",
      "Downloading PDB structure '2df8'...\n"
     ]
    },
    {
     "name": "stderr",
     "output_type": "stream",
     "text": [
      " 54%|█████▍    | 480/891 [08:36<08:31,  1.24s/it]"
     ]
    },
    {
     "name": "stdout",
     "output_type": "stream",
     "text": [
      "Aligned 325 residues (Free: 325, Bound: 325, Excluded: 0)\n",
      "Downloading PDB structure '3bu9'...\n",
      "Downloading PDB structure '3bu1'...\n"
     ]
    },
    {
     "name": "stderr",
     "output_type": "stream",
     "text": [
      " 54%|█████▍    | 481/891 [08:37<07:50,  1.15s/it]"
     ]
    },
    {
     "name": "stdout",
     "output_type": "stream",
     "text": [
      "Aligned 140 residues (Free: 140, Bound: 144, Excluded: 4)\n",
      "Downloading PDB structure '2f8h'...\n",
      "Downloading PDB structure '2f7v'...\n"
     ]
    },
    {
     "name": "stderr",
     "output_type": "stream",
     "text": [
      " 54%|█████▍    | 482/891 [08:38<07:13,  1.06s/it]"
     ]
    },
    {
     "name": "stdout",
     "output_type": "stream",
     "text": [
      "Aligned 360 residues (Free: 360, Bound: 360, Excluded: 0)\n",
      "Downloading PDB structure '2qht'...\n",
      "Downloading PDB structure '2qhv'...\n"
     ]
    },
    {
     "name": "stderr",
     "output_type": "stream",
     "text": [
      " 54%|█████▍    | 483/891 [08:38<06:35,  1.03it/s]"
     ]
    },
    {
     "name": "stdout",
     "output_type": "stream",
     "text": [
      "Aligned 210 residues (Free: 210, Bound: 210, Excluded: 0)\n",
      "Downloading PDB structure '1uj4'...\n",
      "Downloading PDB structure '1uj5'...\n"
     ]
    },
    {
     "name": "stderr",
     "output_type": "stream",
     "text": [
      " 54%|█████▍    | 484/891 [08:39<06:14,  1.09it/s]"
     ]
    },
    {
     "name": "stdout",
     "output_type": "stream",
     "text": [
      "Aligned 221 residues (Free: 221, Bound: 225, Excluded: 4)\n",
      "Downloading PDB structure '1m14'...\n",
      "Downloading PDB structure '2itp'...\n"
     ]
    },
    {
     "name": "stderr",
     "output_type": "stream",
     "text": [
      " 54%|█████▍    | 485/891 [08:40<06:02,  1.12it/s]"
     ]
    },
    {
     "name": "stdout",
     "output_type": "stream",
     "text": [
      "Aligned 270 residues (Free: 307, Bound: 305, Excluded: 72)\n",
      "Downloading PDB structure '1mix'...\n",
      "Downloading PDB structure '1miz'...\n"
     ]
    },
    {
     "name": "stderr",
     "output_type": "stream",
     "text": [
      " 55%|█████▍    | 486/891 [08:41<06:13,  1.08it/s]"
     ]
    },
    {
     "name": "stdout",
     "output_type": "stream",
     "text": [
      "No common residues between 1mix and 1miz\n",
      "Downloading PDB structure '1jrk'...\n",
      "Downloading PDB structure '1k2e'...\n"
     ]
    },
    {
     "name": "stderr",
     "output_type": "stream",
     "text": [
      " 55%|█████▍    | 487/891 [08:42<06:27,  1.04it/s]"
     ]
    },
    {
     "name": "stdout",
     "output_type": "stream",
     "text": [
      "Aligned 148 residues (Free: 148, Bound: 152, Excluded: 4)\n",
      "Downloading PDB structure '1w59'...\n",
      "Downloading PDB structure '1w5e'...\n"
     ]
    },
    {
     "name": "stderr",
     "output_type": "stream",
     "text": [
      " 55%|█████▍    | 488/891 [08:44<07:53,  1.17s/it]"
     ]
    },
    {
     "name": "stdout",
     "output_type": "stream",
     "text": [
      "Aligned 332 residues (Free: 350, Bound: 332, Excluded: 18)\n",
      "Downloading PDB structure '1g24'...\n",
      "Downloading PDB structure '1gzf'...\n"
     ]
    },
    {
     "name": "stderr",
     "output_type": "stream",
     "text": [
      " 55%|█████▍    | 489/891 [08:45<07:57,  1.19s/it]"
     ]
    },
    {
     "name": "stdout",
     "output_type": "stream",
     "text": [
      "Aligned 203 residues (Free: 211, Bound: 203, Excluded: 8)\n",
      "Downloading PDB structure '1vz0'...\n",
      "Structure exists: 'data/PSCDB/PDB_structures/pdb1vz0.ent' \n"
     ]
    },
    {
     "name": "stderr",
     "output_type": "stream",
     "text": [
      " 55%|█████▍    | 490/891 [08:46<07:48,  1.17s/it]"
     ]
    },
    {
     "name": "stdout",
     "output_type": "stream",
     "text": [
      "Aligned 186 residues (Free: 186, Bound: 186, Excluded: 0)\n",
      "Downloading PDB structure '2f6l'...\n",
      "Downloading PDB structure '2ao2'...\n"
     ]
    },
    {
     "name": "stderr",
     "output_type": "stream",
     "text": [
      " 55%|█████▌    | 491/891 [08:47<07:23,  1.11s/it]"
     ]
    },
    {
     "name": "stdout",
     "output_type": "stream",
     "text": [
      "Aligned 165 residues (Free: 166, Bound: 165, Excluded: 1)\n",
      "Downloading PDB structure '2idh'...\n",
      "Downloading PDB structure '2oei'...\n"
     ]
    },
    {
     "name": "stderr",
     "output_type": "stream",
     "text": [
      " 55%|█████▌    | 492/891 [08:48<06:25,  1.04it/s]"
     ]
    },
    {
     "name": "stdout",
     "output_type": "stream",
     "text": [
      "Aligned 30 residues (Free: 30, Bound: 37, Excluded: 7)\n",
      "Downloading PDB structure '3dj1'...\n",
      "Downloading PDB structure '3diw'...\n"
     ]
    },
    {
     "name": "stderr",
     "output_type": "stream",
     "text": [
      " 55%|█████▌    | 493/891 [08:49<06:04,  1.09it/s]"
     ]
    },
    {
     "name": "stdout",
     "output_type": "stream",
     "text": [
      "Aligned 107 residues (Free: 115, Bound: 108, Excluded: 9)\n",
      "Downloading PDB structure '2hhl'...\n",
      "Structure exists: 'data/PSCDB/PDB_structures/pdb2hhl.ent' \n"
     ]
    },
    {
     "name": "stderr",
     "output_type": "stream",
     "text": [
      " 55%|█████▌    | 494/891 [08:49<06:02,  1.10it/s]"
     ]
    },
    {
     "name": "stdout",
     "output_type": "stream",
     "text": [
      "Aligned 180 residues (Free: 180, Bound: 180, Excluded: 0)\n",
      "Downloading PDB structure '1w90'...\n",
      "Downloading PDB structure '1gwm'...\n"
     ]
    },
    {
     "name": "stderr",
     "output_type": "stream",
     "text": [
      " 56%|█████▌    | 495/891 [08:50<05:53,  1.12it/s]"
     ]
    },
    {
     "name": "stdout",
     "output_type": "stream",
     "text": [
      "Aligned 151 residues (Free: 151, Bound: 153, Excluded: 2)\n",
      "Downloading PDB structure '2j3p'...\n",
      "Downloading PDB structure '2uus'...\n"
     ]
    },
    {
     "name": "stderr",
     "output_type": "stream",
     "text": [
      " 56%|█████▌    | 496/891 [08:51<05:44,  1.15it/s]"
     ]
    },
    {
     "name": "stdout",
     "output_type": "stream",
     "text": [
      "Aligned 116 residues (Free: 134, Bound: 131, Excluded: 33)\n",
      "Downloading PDB structure '2cua'...\n"
     ]
    },
    {
     "name": "stderr",
     "output_type": "stream",
     "text": [
      " 56%|█████▌    | 497/891 [08:52<04:59,  1.32it/s]"
     ]
    },
    {
     "name": "stdout",
     "output_type": "stream",
     "text": [
      "Structure exists: 'data/PSCDB/PDB_structures/pdb2cua.ent' \n",
      "Aligned 122 residues (Free: 122, Bound: 122, Excluded: 0)\n",
      "Downloading PDB structure '1u4r'...\n",
      "Downloading PDB structure '1u4m'...\n"
     ]
    },
    {
     "name": "stderr",
     "output_type": "stream",
     "text": [
      " 56%|█████▌    | 498/891 [08:52<04:53,  1.34it/s]"
     ]
    },
    {
     "name": "stdout",
     "output_type": "stream",
     "text": [
      "Aligned 62 residues (Free: 62, Bound: 67, Excluded: 5)\n",
      "Downloading PDB structure '1i4s'...\n",
      "Downloading PDB structure '1rc5'...\n"
     ]
    },
    {
     "name": "stderr",
     "output_type": "stream",
     "text": [
      " 56%|█████▌    | 499/891 [08:53<05:00,  1.30it/s]"
     ]
    },
    {
     "name": "stdout",
     "output_type": "stream",
     "text": [
      "Aligned 147 residues (Free: 147, Bound: 148, Excluded: 1)\n",
      "Downloading PDB structure '1sza'...\n",
      "Structure exists: 'data/PSCDB/PDB_structures/pdb1sza.ent' \n"
     ]
    },
    {
     "name": "stderr",
     "output_type": "stream",
     "text": [
      " 56%|█████▌    | 500/891 [08:54<05:23,  1.21it/s]"
     ]
    },
    {
     "name": "stdout",
     "output_type": "stream",
     "text": [
      "Aligned 144 residues (Free: 144, Bound: 144, Excluded: 0)\n",
      "Downloading PDB structure '1mmi'...\n",
      "Downloading PDB structure '1ok7'...\n"
     ]
    },
    {
     "name": "stderr",
     "output_type": "stream",
     "text": [
      " 56%|█████▌    | 501/891 [08:55<06:10,  1.05it/s]"
     ]
    },
    {
     "name": "stdout",
     "output_type": "stream",
     "text": [
      "Aligned 366 residues (Free: 366, Bound: 366, Excluded: 0)\n",
      "Downloading PDB structure '1jqq'...\n",
      "Downloading PDB structure '1n5z'...\n",
      "Aligned 71 residues (Free: 79, Bound: 71, Excluded: 8)\n"
     ]
    },
    {
     "name": "stderr",
     "output_type": "stream",
     "text": [
      " 56%|█████▋    | 502/891 [08:56<05:29,  1.18it/s]"
     ]
    },
    {
     "name": "stdout",
     "output_type": "stream",
     "text": [
      "Downloading PDB structure '1gaj'...\n",
      "Downloading PDB structure '1g6h'...\n"
     ]
    },
    {
     "name": "stderr",
     "output_type": "stream",
     "text": [
      " 56%|█████▋    | 503/891 [08:57<05:18,  1.22it/s]"
     ]
    },
    {
     "name": "stdout",
     "output_type": "stream",
     "text": [
      "Aligned 253 residues (Free: 253, Bound: 254, Excluded: 1)\n",
      "Downloading PDB structure '1gnu'...\n",
      "Downloading PDB structure '3d32'...\n"
     ]
    },
    {
     "name": "stderr",
     "output_type": "stream",
     "text": [
      " 57%|█████▋    | 504/891 [08:58<05:16,  1.22it/s]"
     ]
    },
    {
     "name": "stdout",
     "output_type": "stream",
     "text": [
      "Aligned 117 residues (Free: 117, Bound: 118, Excluded: 1)\n",
      "Downloading PDB structure '5gal'...\n",
      "Downloading PDB structure '4gal'...\n"
     ]
    },
    {
     "name": "stderr",
     "output_type": "stream",
     "text": [
      " 57%|█████▋    | 505/891 [08:59<05:37,  1.14it/s]"
     ]
    },
    {
     "name": "stdout",
     "output_type": "stream",
     "text": [
      "Aligned 135 residues (Free: 135, Bound: 135, Excluded: 0)\n",
      "Downloading PDB structure '1vll'...\n",
      "Downloading PDB structure '1omo'...\n"
     ]
    },
    {
     "name": "stderr",
     "output_type": "stream",
     "text": [
      " 57%|█████▋    | 506/891 [09:00<06:03,  1.06it/s]"
     ]
    },
    {
     "name": "stdout",
     "output_type": "stream",
     "text": [
      "Aligned 320 residues (Free: 321, Bound: 320, Excluded: 1)\n",
      "Downloading PDB structure '3bzt'...\n",
      "Downloading PDB structure '3c03'...\n"
     ]
    },
    {
     "name": "stderr",
     "output_type": "stream",
     "text": [
      " 57%|█████▋    | 507/891 [09:00<05:30,  1.16it/s]"
     ]
    },
    {
     "name": "stdout",
     "output_type": "stream",
     "text": [
      "Aligned 97 residues (Free: 101, Bound: 97, Excluded: 4)\n",
      "Downloading PDB structure '2q04'...\n",
      "Structure exists: 'data/PSCDB/PDB_structures/pdb2q04.ent' \n"
     ]
    },
    {
     "name": "stderr",
     "output_type": "stream",
     "text": [
      " 57%|█████▋    | 508/891 [09:01<05:42,  1.12it/s]"
     ]
    },
    {
     "name": "stdout",
     "output_type": "stream",
     "text": [
      "Aligned 203 residues (Free: 203, Bound: 203, Excluded: 0)\n",
      "Downloading PDB structure '1wn2'...\n",
      "Downloading PDB structure '2d3k'...\n"
     ]
    },
    {
     "name": "stderr",
     "output_type": "stream",
     "text": [
      " 57%|█████▋    | 509/891 [09:02<05:24,  1.18it/s]"
     ]
    },
    {
     "name": "stdout",
     "output_type": "stream",
     "text": [
      "Aligned 118 residues (Free: 118, Bound: 118, Excluded: 0)\n",
      "Downloading PDB structure '2d59'...\n",
      "Downloading PDB structure '2d5a'...\n",
      "Aligned 139 residues (Free: 141, Bound: 142, Excluded: 5)\n"
     ]
    },
    {
     "name": "stderr",
     "output_type": "stream",
     "text": [
      " 57%|█████▋    | 510/891 [09:03<04:49,  1.31it/s]"
     ]
    },
    {
     "name": "stdout",
     "output_type": "stream",
     "text": [
      "Downloading PDB structure '1wns'...\n",
      "Downloading PDB structure '1wn7'...\n"
     ]
    },
    {
     "name": "stderr",
     "output_type": "stream",
     "text": [
      " 57%|█████▋    | 511/891 [09:04<05:24,  1.17it/s]"
     ]
    },
    {
     "name": "stdout",
     "output_type": "stream",
     "text": [
      "Aligned 727 residues (Free: 729, Bound: 729, Excluded: 4)\n",
      "Downloading PDB structure '2fcj'...\n",
      "Downloading PDB structure '2i5r'...\n"
     ]
    },
    {
     "name": "stderr",
     "output_type": "stream",
     "text": [
      " 57%|█████▋    | 512/891 [09:04<05:22,  1.18it/s]"
     ]
    },
    {
     "name": "stdout",
     "output_type": "stream",
     "text": [
      "Aligned 114 residues (Free: 114, Bound: 115, Excluded: 1)\n",
      "Downloading PDB structure '1uuj'...\n"
     ]
    },
    {
     "name": "stderr",
     "output_type": "stream",
     "text": [
      " 58%|█████▊    | 513/891 [09:05<04:47,  1.32it/s]"
     ]
    },
    {
     "name": "stdout",
     "output_type": "stream",
     "text": [
      "Structure exists: 'data/PSCDB/PDB_structures/pdb1uuj.ent' \n",
      "Aligned 74 residues (Free: 74, Bound: 74, Excluded: 0)\n",
      "Downloading PDB structure '2hts'...\n",
      "Downloading PDB structure '1fyk'...\n"
     ]
    },
    {
     "name": "stderr",
     "output_type": "stream",
     "text": [
      " 58%|█████▊    | 514/891 [09:06<04:34,  1.37it/s]"
     ]
    },
    {
     "name": "stdout",
     "output_type": "stream",
     "text": [
      "Downloading PDB structure '1w1h'...\n",
      "Downloading PDB structure '1w1d'...\n"
     ]
    },
    {
     "name": "stderr",
     "output_type": "stream",
     "text": [
      " 58%|█████▊    | 515/891 [09:07<05:41,  1.10it/s]"
     ]
    },
    {
     "name": "stdout",
     "output_type": "stream",
     "text": [
      "Aligned 140 residues (Free: 147, Bound: 143, Excluded: 10)\n",
      "Downloading PDB structure '1yes'...\n",
      "Downloading PDB structure '3bmy'...\n"
     ]
    },
    {
     "name": "stderr",
     "output_type": "stream",
     "text": [
      " 58%|█████▊    | 516/891 [09:08<05:08,  1.21it/s]"
     ]
    },
    {
     "name": "stdout",
     "output_type": "stream",
     "text": [
      "Aligned 213 residues (Free: 213, Bound: 213, Excluded: 0)\n",
      "Downloading PDB structure '2h74'...\n",
      "Downloading PDB structure '1tho'...\n"
     ]
    },
    {
     "name": "stderr",
     "output_type": "stream",
     "text": [
      " 58%|█████▊    | 517/891 [09:08<04:38,  1.34it/s]"
     ]
    },
    {
     "name": "stdout",
     "output_type": "stream",
     "text": [
      "Aligned 108 residues (Free: 108, Bound: 109, Excluded: 1)\n",
      "Downloading PDB structure '2c3g'...\n",
      "Downloading PDB structure '2c3h'...\n"
     ]
    },
    {
     "name": "stderr",
     "output_type": "stream",
     "text": [
      " 58%|█████▊    | 518/891 [09:09<04:57,  1.25it/s]"
     ]
    },
    {
     "name": "stdout",
     "output_type": "stream",
     "text": [
      "Aligned 93 residues (Free: 98, Bound: 93, Excluded: 5)\n",
      "Downloading PDB structure '2ok3'...\n",
      "Downloading PDB structure '2oju'...\n"
     ]
    },
    {
     "name": "stderr",
     "output_type": "stream",
     "text": [
      " 58%|█████▊    | 519/891 [09:10<04:57,  1.25it/s]"
     ]
    },
    {
     "name": "stdout",
     "output_type": "stream",
     "text": [
      "Aligned 158 residues (Free: 160, Bound: 163, Excluded: 7)\n",
      "Downloading PDB structure '1m6t'...\n",
      "Downloading PDB structure '1lm3'...\n"
     ]
    },
    {
     "name": "stderr",
     "output_type": "stream",
     "text": [
      " 58%|█████▊    | 520/891 [09:11<04:44,  1.30it/s]"
     ]
    },
    {
     "name": "stdout",
     "output_type": "stream",
     "text": [
      "No common residues between 1m6t and 1lm3\n",
      "Downloading PDB structure '1orb'...\n",
      "Downloading PDB structure '1dp2'...\n"
     ]
    },
    {
     "name": "stderr",
     "output_type": "stream",
     "text": [
      " 58%|█████▊    | 521/891 [09:12<05:03,  1.22it/s]"
     ]
    },
    {
     "name": "stdout",
     "output_type": "stream",
     "text": [
      "Aligned 292 residues (Free: 293, Bound: 292, Excluded: 1)\n",
      "Downloading PDB structure '1u8t'...\n"
     ]
    },
    {
     "name": "stderr",
     "output_type": "stream",
     "text": [
      " 59%|█████▊    | 522/891 [09:12<04:40,  1.32it/s]"
     ]
    },
    {
     "name": "stdout",
     "output_type": "stream",
     "text": [
      "Structure exists: 'data/PSCDB/PDB_structures/pdb1u8t.ent' \n",
      "Aligned 120 residues (Free: 120, Bound: 120, Excluded: 0)\n",
      "Downloading PDB structure '2bl7'...\n",
      "Downloading PDB structure '2bl8'...\n"
     ]
    },
    {
     "name": "stderr",
     "output_type": "stream",
     "text": [
      " 59%|█████▊    | 523/891 [09:13<04:26,  1.38it/s]"
     ]
    },
    {
     "name": "stdout",
     "output_type": "stream",
     "text": [
      "Aligned 69 residues (Free: 77, Bound: 93, Excluded: 32)\n",
      "Downloading PDB structure '2ccq'...\n",
      "Downloading PDB structure '2hpl'...\n"
     ]
    },
    {
     "name": "stderr",
     "output_type": "stream",
     "text": [
      " 59%|█████▉    | 524/891 [09:13<04:15,  1.44it/s]"
     ]
    },
    {
     "name": "stdout",
     "output_type": "stream",
     "text": [
      "Aligned 98 residues (Free: 99, Bound: 100, Excluded: 3)\n",
      "Downloading PDB structure '2pe8'...\n",
      "Downloading PDB structure '2peh'...\n"
     ]
    },
    {
     "name": "stderr",
     "output_type": "stream",
     "text": [
      " 59%|█████▉    | 525/891 [09:14<04:31,  1.35it/s]"
     ]
    },
    {
     "name": "stdout",
     "output_type": "stream",
     "text": [
      "Aligned 101 residues (Free: 101, Bound: 104, Excluded: 3)\n",
      "Downloading PDB structure '1p9u'...\n",
      "Structure exists: 'data/PSCDB/PDB_structures/pdb1p9u.ent' \n",
      "Aligned 299 residues (Free: 299, Bound: 299, Excluded: 0)\n"
     ]
    },
    {
     "name": "stderr",
     "output_type": "stream",
     "text": [
      " 59%|█████▉    | 526/891 [09:15<05:15,  1.16it/s]"
     ]
    },
    {
     "name": "stdout",
     "output_type": "stream",
     "text": [
      "Downloading PDB structure '2z42'...\n",
      "Downloading PDB structure '2zaa'...\n"
     ]
    },
    {
     "name": "stderr",
     "output_type": "stream",
     "text": [
      " 59%|█████▉    | 527/891 [09:16<05:08,  1.18it/s]"
     ]
    },
    {
     "name": "stdout",
     "output_type": "stream",
     "text": [
      "Aligned 232 residues (Free: 233, Bound: 232, Excluded: 1)\n",
      "Downloading PDB structure '1nk1'...\n",
      "Downloading PDB structure '1gmo'...\n"
     ]
    },
    {
     "name": "stderr",
     "output_type": "stream",
     "text": [
      " 59%|█████▉    | 528/891 [09:18<06:07,  1.01s/it]"
     ]
    },
    {
     "name": "stdout",
     "output_type": "stream",
     "text": [
      "Aligned 171 residues (Free: 172, Bound: 172, Excluded: 2)\n",
      "Downloading PDB structure '2d2q'...\n",
      "Downloading PDB structure '2zpy'...\n"
     ]
    },
    {
     "name": "stderr",
     "output_type": "stream",
     "text": [
      " 59%|█████▉    | 529/891 [09:18<05:43,  1.06it/s]"
     ]
    },
    {
     "name": "stdout",
     "output_type": "stream",
     "text": [
      "Aligned 295 residues (Free: 297, Bound: 295, Excluded: 2)\n",
      "Downloading PDB structure '1l0h'...\n",
      "Downloading PDB structure '2fae'...\n"
     ]
    },
    {
     "name": "stderr",
     "output_type": "stream",
     "text": [
      " 59%|█████▉    | 530/891 [09:19<05:13,  1.15it/s]"
     ]
    },
    {
     "name": "stdout",
     "output_type": "stream",
     "text": [
      "Aligned 76 residues (Free: 76, Bound: 77, Excluded: 1)\n",
      "Downloading PDB structure '1xze'...\n",
      "Downloading PDB structure '1xzk'...\n"
     ]
    },
    {
     "name": "stderr",
     "output_type": "stream",
     "text": [
      " 60%|█████▉    | 531/891 [09:20<05:21,  1.12it/s]"
     ]
    },
    {
     "name": "stdout",
     "output_type": "stream",
     "text": [
      "Aligned 197 residues (Free: 197, Bound: 197, Excluded: 0)\n",
      "Downloading PDB structure '2h68'...\n",
      "Downloading PDB structure '2g9a'...\n"
     ]
    },
    {
     "name": "stderr",
     "output_type": "stream",
     "text": [
      " 60%|█████▉    | 532/891 [09:21<05:32,  1.08it/s]"
     ]
    },
    {
     "name": "stdout",
     "output_type": "stream",
     "text": [
      "Aligned 303 residues (Free: 304, Bound: 310, Excluded: 8)\n",
      "Downloading PDB structure '2bis'...\n"
     ]
    },
    {
     "name": "stderr",
     "output_type": "stream",
     "text": [
      " 60%|█████▉    | 533/891 [09:22<05:43,  1.04it/s]"
     ]
    },
    {
     "name": "stdout",
     "output_type": "stream",
     "text": [
      "Structure exists: 'data/PSCDB/PDB_structures/pdb2bis.ent' \n",
      "Aligned 440 residues (Free: 440, Bound: 440, Excluded: 0)\n",
      "Downloading PDB structure '1f46'...\n",
      "Downloading PDB structure '1y2f'...\n"
     ]
    },
    {
     "name": "stderr",
     "output_type": "stream",
     "text": [
      " 60%|█████▉    | 534/891 [09:23<05:20,  1.11it/s]"
     ]
    },
    {
     "name": "stdout",
     "output_type": "stream",
     "text": [
      "Aligned 139 residues (Free: 139, Bound: 139, Excluded: 0)\n",
      "Downloading PDB structure '2c3v'...\n",
      "Downloading PDB structure '2c3w'...\n"
     ]
    },
    {
     "name": "stderr",
     "output_type": "stream",
     "text": [
      " 60%|██████    | 535/891 [09:24<05:31,  1.07it/s]"
     ]
    },
    {
     "name": "stdout",
     "output_type": "stream",
     "text": [
      "Aligned 18 residues (Free: 92, Bound: 95, Excluded: 151)\n",
      "Downloading PDB structure '1i3c'...\n",
      "Downloading PDB structure '1jlk'...\n"
     ]
    },
    {
     "name": "stderr",
     "output_type": "stream",
     "text": [
      " 60%|██████    | 536/891 [09:25<05:28,  1.08it/s]"
     ]
    },
    {
     "name": "stdout",
     "output_type": "stream",
     "text": [
      "Aligned 139 residues (Free: 142, Bound: 141, Excluded: 5)\n",
      "Downloading PDB structure '1z52'...\n",
      "Downloading PDB structure '3c0o'...\n"
     ]
    },
    {
     "name": "stderr",
     "output_type": "stream",
     "text": [
      " 60%|██████    | 537/891 [09:26<06:28,  1.10s/it]"
     ]
    },
    {
     "name": "stdout",
     "output_type": "stream",
     "text": [
      "Aligned 449 residues (Free: 451, Bound: 450, Excluded: 3)\n",
      "Downloading PDB structure '1fil'...\n",
      "Downloading PDB structure '1awi'...\n"
     ]
    },
    {
     "name": "stderr",
     "output_type": "stream",
     "text": [
      " 60%|██████    | 538/891 [09:27<05:51,  1.01it/s]"
     ]
    },
    {
     "name": "stdout",
     "output_type": "stream",
     "text": [
      "Aligned 138 residues (Free: 139, Bound: 138, Excluded: 1)\n",
      "Downloading PDB structure '1gnd'...\n",
      "Downloading PDB structure '1lv0'...\n"
     ]
    },
    {
     "name": "stderr",
     "output_type": "stream",
     "text": [
      " 60%|██████    | 539/891 [09:28<05:50,  1.01it/s]"
     ]
    },
    {
     "name": "stdout",
     "output_type": "stream",
     "text": [
      "Aligned 430 residues (Free: 430, Bound: 433, Excluded: 3)\n",
      "Downloading PDB structure '1yft'...\n",
      "Downloading PDB structure '1yfr'...\n"
     ]
    },
    {
     "name": "stderr",
     "output_type": "stream",
     "text": [
      " 61%|██████    | 540/891 [09:29<05:58,  1.02s/it]"
     ]
    },
    {
     "name": "stdout",
     "output_type": "stream",
     "text": [
      "Aligned 448 residues (Free: 448, Bound: 448, Excluded: 0)\n",
      "Downloading PDB structure '1ox8'...\n",
      "Downloading PDB structure '1ox9'...\n"
     ]
    },
    {
     "name": "stderr",
     "output_type": "stream",
     "text": [
      " 61%|██████    | 541/891 [09:30<06:12,  1.07s/it]"
     ]
    },
    {
     "name": "stdout",
     "output_type": "stream",
     "text": [
      "Aligned 105 residues (Free: 105, Bound: 108, Excluded: 3)\n",
      "Downloading PDB structure '2ecr'...\n",
      "Downloading PDB structure '2ed4'...\n"
     ]
    },
    {
     "name": "stderr",
     "output_type": "stream",
     "text": [
      " 61%|██████    | 542/891 [09:31<05:49,  1.00s/it]"
     ]
    },
    {
     "name": "stdout",
     "output_type": "stream",
     "text": [
      "Aligned 149 residues (Free: 149, Bound: 149, Excluded: 0)\n",
      "Downloading PDB structure '1r6k'...\n",
      "Downloading PDB structure '1r6n'...\n"
     ]
    },
    {
     "name": "stderr",
     "output_type": "stream",
     "text": [
      " 61%|██████    | 543/891 [09:32<05:17,  1.10it/s]"
     ]
    },
    {
     "name": "stdout",
     "output_type": "stream",
     "text": [
      "Aligned 187 residues (Free: 187, Bound: 196, Excluded: 9)\n",
      "Downloading PDB structure '1p5q'...\n",
      "Downloading PDB structure '1qz2'...\n"
     ]
    },
    {
     "name": "stderr",
     "output_type": "stream",
     "text": [
      " 61%|██████    | 544/891 [09:33<05:25,  1.06it/s]"
     ]
    },
    {
     "name": "stdout",
     "output_type": "stream",
     "text": [
      "Aligned 279 residues (Free: 281, Bound: 285, Excluded: 8)\n",
      "Downloading PDB structure '1jwf'...\n",
      "Downloading PDB structure '1jwg'...\n"
     ]
    },
    {
     "name": "stderr",
     "output_type": "stream",
     "text": [
      " 61%|██████    | 545/891 [09:34<04:58,  1.16it/s]"
     ]
    },
    {
     "name": "stdout",
     "output_type": "stream",
     "text": [
      "Aligned 139 residues (Free: 139, Bound: 140, Excluded: 1)\n",
      "Downloading PDB structure '2gvl'...\n",
      "Downloading PDB structure '2gvg'...\n"
     ]
    },
    {
     "name": "stderr",
     "output_type": "stream",
     "text": [
      " 61%|██████▏   | 546/891 [09:35<06:36,  1.15s/it]"
     ]
    },
    {
     "name": "stdout",
     "output_type": "stream",
     "text": [
      "Aligned 460 residues (Free: 463, Bound: 461, Excluded: 4)\n",
      "Downloading PDB structure '1k9x'...\n",
      "Downloading PDB structure '1ka2'...\n"
     ]
    },
    {
     "name": "stderr",
     "output_type": "stream",
     "text": [
      " 61%|██████▏   | 547/891 [09:37<07:20,  1.28s/it]"
     ]
    },
    {
     "name": "stdout",
     "output_type": "stream",
     "text": [
      "Aligned 497 residues (Free: 497, Bound: 497, Excluded: 0)\n",
      "Downloading PDB structure '2dcz'...\n",
      "Downloading PDB structure '2qz3'...\n"
     ]
    },
    {
     "name": "stderr",
     "output_type": "stream",
     "text": [
      " 62%|██████▏   | 548/891 [09:38<06:41,  1.17s/it]"
     ]
    },
    {
     "name": "stdout",
     "output_type": "stream",
     "text": [
      "Aligned 184 residues (Free: 185, Bound: 184, Excluded: 1)\n",
      "Downloading PDB structure '1xqv'...\n",
      "Downloading PDB structure '1xrr'...\n"
     ]
    },
    {
     "name": "stderr",
     "output_type": "stream",
     "text": [
      " 62%|██████▏   | 549/891 [09:39<06:04,  1.07s/it]"
     ]
    },
    {
     "name": "stdout",
     "output_type": "stream",
     "text": [
      "Aligned 290 residues (Free: 290, Bound: 290, Excluded: 0)\n",
      "Downloading PDB structure '1slc'...\n",
      "Downloading PDB structure '1slb'...\n"
     ]
    },
    {
     "name": "stderr",
     "output_type": "stream",
     "text": [
      " 62%|██████▏   | 550/891 [09:40<06:19,  1.11s/it]"
     ]
    },
    {
     "name": "stdout",
     "output_type": "stream",
     "text": [
      "Aligned 134 residues (Free: 134, Bound: 134, Excluded: 0)\n",
      "Downloading PDB structure '2fs5'...\n",
      "Downloading PDB structure '2ft0'...\n"
     ]
    },
    {
     "name": "stderr",
     "output_type": "stream",
     "text": [
      " 62%|██████▏   | 551/891 [09:41<06:02,  1.07s/it]"
     ]
    },
    {
     "name": "stdout",
     "output_type": "stream",
     "text": [
      "Aligned 222 residues (Free: 222, Bound: 222, Excluded: 0)\n",
      "Downloading PDB structure '1yz4'...\n"
     ]
    },
    {
     "name": "stderr",
     "output_type": "stream",
     "text": [
      " 62%|██████▏   | 552/891 [09:41<04:56,  1.14it/s]"
     ]
    },
    {
     "name": "stdout",
     "output_type": "stream",
     "text": [
      "Structure exists: 'data/PSCDB/PDB_structures/pdb1yz4.ent' \n",
      "Aligned 159 residues (Free: 159, Bound: 159, Excluded: 0)\n",
      "Downloading PDB structure '1lwb'...\n",
      "Downloading PDB structure '1kp4'...\n"
     ]
    },
    {
     "name": "stderr",
     "output_type": "stream",
     "text": [
      " 62%|██████▏   | 553/891 [09:42<04:31,  1.25it/s]"
     ]
    },
    {
     "name": "stdout",
     "output_type": "stream",
     "text": [
      "Aligned 122 residues (Free: 122, Bound: 122, Excluded: 0)\n",
      "Downloading PDB structure '2d1z'...\n",
      "Downloading PDB structure '2d24'...\n"
     ]
    },
    {
     "name": "stderr",
     "output_type": "stream",
     "text": [
      " 62%|██████▏   | 554/891 [09:43<05:15,  1.07it/s]"
     ]
    },
    {
     "name": "stdout",
     "output_type": "stream",
     "text": [
      "Aligned 427 residues (Free: 427, Bound: 427, Excluded: 0)\n",
      "Downloading PDB structure '2ckd'...\n",
      "Downloading PDB structure '2uyq'...\n"
     ]
    },
    {
     "name": "stderr",
     "output_type": "stream",
     "text": [
      " 62%|██████▏   | 555/891 [09:44<05:12,  1.07it/s]"
     ]
    },
    {
     "name": "stdout",
     "output_type": "stream",
     "text": [
      "Aligned 274 residues (Free: 303, Bound: 274, Excluded: 29)\n",
      "Downloading PDB structure '2hvf'...\n",
      "Downloading PDB structure '2hba'...\n"
     ]
    },
    {
     "name": "stderr",
     "output_type": "stream",
     "text": [
      " 62%|██████▏   | 556/891 [09:45<04:47,  1.17it/s]"
     ]
    },
    {
     "name": "stdout",
     "output_type": "stream",
     "text": [
      "Aligned 51 residues (Free: 51, Bound: 52, Excluded: 1)\n",
      "Downloading PDB structure '1pp3'...\n",
      "Downloading PDB structure '2oqn'...\n"
     ]
    },
    {
     "name": "stderr",
     "output_type": "stream",
     "text": [
      " 63%|██████▎   | 557/891 [09:46<04:45,  1.17it/s]"
     ]
    },
    {
     "name": "stdout",
     "output_type": "stream",
     "text": [
      "Aligned 207 residues (Free: 207, Bound: 207, Excluded: 0)\n",
      "Downloading PDB structure '2bjw'...\n",
      "Downloading PDB structure '2c9c'...\n"
     ]
    },
    {
     "name": "stderr",
     "output_type": "stream",
     "text": [
      " 63%|██████▎   | 558/891 [09:47<04:51,  1.14it/s]"
     ]
    },
    {
     "name": "stdout",
     "output_type": "stream",
     "text": [
      "Aligned 242 residues (Free: 242, Bound: 244, Excluded: 2)\n",
      "Downloading PDB structure '2gty'...\n",
      "Downloading PDB structure '2hyr'...\n"
     ]
    },
    {
     "name": "stderr",
     "output_type": "stream",
     "text": [
      " 63%|██████▎   | 559/891 [09:47<04:49,  1.15it/s]"
     ]
    },
    {
     "name": "stdout",
     "output_type": "stream",
     "text": [
      "Aligned 121 residues (Free: 121, Bound: 121, Excluded: 0)\n",
      "Downloading PDB structure '2q5x'...\n",
      "Downloading PDB structure '2q5y'...\n"
     ]
    },
    {
     "name": "stderr",
     "output_type": "stream",
     "text": [
      " 63%|██████▎   | 560/891 [09:48<04:56,  1.12it/s]"
     ]
    },
    {
     "name": "stdout",
     "output_type": "stream",
     "text": [
      "Aligned 144 residues (Free: 151, Bound: 152, Excluded: 15)\n",
      "Downloading PDB structure '1knl'...\n",
      "Downloading PDB structure '1mc9'...\n"
     ]
    },
    {
     "name": "stderr",
     "output_type": "stream",
     "text": [
      " 63%|██████▎   | 561/891 [09:49<04:23,  1.25it/s]"
     ]
    },
    {
     "name": "stdout",
     "output_type": "stream",
     "text": [
      "Aligned 126 residues (Free: 126, Bound: 126, Excluded: 0)\n",
      "Downloading PDB structure '1lxt'...\n",
      "Downloading PDB structure '3pmg'...\n"
     ]
    },
    {
     "name": "stderr",
     "output_type": "stream",
     "text": [
      " 63%|██████▎   | 562/891 [09:51<05:40,  1.04s/it]"
     ]
    },
    {
     "name": "stdout",
     "output_type": "stream",
     "text": [
      "Aligned 560 residues (Free: 561, Bound: 560, Excluded: 1)\n",
      "Downloading PDB structure '2rad'...\n",
      "Downloading PDB structure '3b55'...\n"
     ]
    },
    {
     "name": "stderr",
     "output_type": "stream",
     "text": [
      " 63%|██████▎   | 563/891 [09:52<05:56,  1.09s/it]"
     ]
    },
    {
     "name": "stdout",
     "output_type": "stream",
     "text": [
      "Aligned 395 residues (Free: 395, Bound: 400, Excluded: 5)\n",
      "Downloading PDB structure '1oee'...\n",
      "Downloading PDB structure '1oek'...\n"
     ]
    },
    {
     "name": "stderr",
     "output_type": "stream",
     "text": [
      " 63%|██████▎   | 564/891 [09:52<05:14,  1.04it/s]"
     ]
    },
    {
     "name": "stdout",
     "output_type": "stream",
     "text": [
      "Aligned 185 residues (Free: 185, Bound: 185, Excluded: 0)\n",
      "Downloading PDB structure '1t7n'...\n",
      "Downloading PDB structure '1ndi'...\n"
     ]
    },
    {
     "name": "stderr",
     "output_type": "stream",
     "text": [
      " 63%|██████▎   | 565/891 [09:54<05:39,  1.04s/it]"
     ]
    },
    {
     "name": "stdout",
     "output_type": "stream",
     "text": [
      "Aligned 596 residues (Free: 599, Bound: 596, Excluded: 3)\n",
      "Downloading PDB structure '3c8n'...\n",
      "Downloading PDB structure '3b4y'...\n"
     ]
    },
    {
     "name": "stderr",
     "output_type": "stream",
     "text": [
      " 64%|██████▎   | 566/891 [09:55<06:20,  1.17s/it]"
     ]
    },
    {
     "name": "stdout",
     "output_type": "stream",
     "text": [
      "Aligned 322 residues (Free: 334, Bound: 323, Excluded: 13)\n",
      "Downloading PDB structure '1vhr'...\n",
      "Downloading PDB structure '1j4x'...\n"
     ]
    },
    {
     "name": "stderr",
     "output_type": "stream",
     "text": [
      " 64%|██████▎   | 567/891 [09:56<05:40,  1.05s/it]"
     ]
    },
    {
     "name": "stdout",
     "output_type": "stream",
     "text": [
      "Aligned 178 residues (Free: 178, Bound: 178, Excluded: 0)\n",
      "Downloading PDB structure '2zg2'...\n",
      "Downloading PDB structure '2zg1'...\n"
     ]
    },
    {
     "name": "stderr",
     "output_type": "stream",
     "text": [
      " 64%|██████▎   | 568/891 [09:57<05:10,  1.04it/s]"
     ]
    },
    {
     "name": "stdout",
     "output_type": "stream",
     "text": [
      "Aligned 208 residues (Free: 214, Bound: 208, Excluded: 6)\n",
      "Downloading PDB structure '2gxu'...\n",
      "Downloading PDB structure '2gxs'...\n"
     ]
    },
    {
     "name": "stderr",
     "output_type": "stream",
     "text": [
      " 64%|██████▍   | 569/891 [09:57<04:57,  1.08it/s]"
     ]
    },
    {
     "name": "stdout",
     "output_type": "stream",
     "text": [
      "Aligned 206 residues (Free: 206, Bound: 206, Excluded: 0)\n",
      "Downloading PDB structure '1gcu'...\n",
      "Downloading PDB structure '1lc3'...\n"
     ]
    },
    {
     "name": "stderr",
     "output_type": "stream",
     "text": [
      " 64%|██████▍   | 570/891 [09:58<05:04,  1.05it/s]"
     ]
    },
    {
     "name": "stdout",
     "output_type": "stream",
     "text": [
      "Aligned 291 residues (Free: 292, Bound: 292, Excluded: 2)\n",
      "Downloading PDB structure '1qim'...\n",
      "Downloading PDB structure '1zgc'...\n"
     ]
    },
    {
     "name": "stderr",
     "output_type": "stream",
     "text": [
      " 64%|██████▍   | 571/891 [10:00<05:48,  1.09s/it]"
     ]
    },
    {
     "name": "stdout",
     "output_type": "stream",
     "text": [
      "Aligned 528 residues (Free: 532, Bound: 528, Excluded: 4)\n",
      "Downloading PDB structure '4kiv'...\n",
      "Downloading PDB structure '3kiv'...\n"
     ]
    },
    {
     "name": "stderr",
     "output_type": "stream",
     "text": [
      " 64%|██████▍   | 572/891 [10:01<05:04,  1.05it/s]"
     ]
    },
    {
     "name": "stdout",
     "output_type": "stream",
     "text": [
      "Aligned 79 residues (Free: 79, Bound: 79, Excluded: 0)\n",
      "Downloading PDB structure '3e2j'...\n",
      "Downloading PDB structure '3e3z'...\n"
     ]
    },
    {
     "name": "stderr",
     "output_type": "stream",
     "text": [
      " 64%|██████▍   | 573/891 [10:01<05:04,  1.04it/s]"
     ]
    },
    {
     "name": "stdout",
     "output_type": "stream",
     "text": [
      "Aligned 175 residues (Free: 175, Bound: 176, Excluded: 1)\n",
      "Downloading PDB structure '1gxm'...\n",
      "Downloading PDB structure '1gxo'...\n"
     ]
    },
    {
     "name": "stderr",
     "output_type": "stream",
     "text": [
      " 64%|██████▍   | 574/891 [10:02<05:03,  1.04it/s]"
     ]
    },
    {
     "name": "stdout",
     "output_type": "stream",
     "text": [
      "Aligned 320 residues (Free: 324, Bound: 320, Excluded: 4)\n",
      "Downloading PDB structure '2cbm'...\n",
      "Downloading PDB structure '2cbo'...\n"
     ]
    },
    {
     "name": "stderr",
     "output_type": "stream",
     "text": [
      " 65%|██████▍   | 575/891 [10:03<04:37,  1.14it/s]"
     ]
    },
    {
     "name": "stdout",
     "output_type": "stream",
     "text": [
      "Aligned 112 residues (Free: 112, Bound: 115, Excluded: 3)\n",
      "Downloading PDB structure '2if8'...\n",
      "Structure exists: 'data/PSCDB/PDB_structures/pdb2if8.ent' \n"
     ]
    },
    {
     "name": "stderr",
     "output_type": "stream",
     "text": [
      " 65%|██████▍   | 576/891 [10:04<04:36,  1.14it/s]"
     ]
    },
    {
     "name": "stdout",
     "output_type": "stream",
     "text": [
      "Aligned 255 residues (Free: 255, Bound: 255, Excluded: 0)\n",
      "Downloading PDB structure '2z2n'...\n",
      "Downloading PDB structure '2z2p'...\n"
     ]
    },
    {
     "name": "stderr",
     "output_type": "stream",
     "text": [
      " 65%|██████▍   | 577/891 [10:05<04:47,  1.09it/s]"
     ]
    },
    {
     "name": "stdout",
     "output_type": "stream",
     "text": [
      "Aligned 289 residues (Free: 289, Bound: 293, Excluded: 4)\n",
      "Downloading PDB structure '1ayf'...\n",
      "Downloading PDB structure '2bt6'...\n"
     ]
    },
    {
     "name": "stderr",
     "output_type": "stream",
     "text": [
      " 65%|██████▍   | 578/891 [10:06<04:32,  1.15it/s]"
     ]
    },
    {
     "name": "stdout",
     "output_type": "stream",
     "text": [
      "Aligned 103 residues (Free: 103, Bound: 104, Excluded: 1)\n",
      "Downloading PDB structure '1fbt'...\n",
      "Downloading PDB structure '1c80'...\n"
     ]
    },
    {
     "name": "stderr",
     "output_type": "stream",
     "text": [
      " 65%|██████▍   | 579/891 [10:07<04:31,  1.15it/s]"
     ]
    },
    {
     "name": "stdout",
     "output_type": "stream",
     "text": [
      "Aligned 186 residues (Free: 186, Bound: 191, Excluded: 5)\n",
      "Downloading PDB structure '1cz3'...\n",
      "Downloading PDB structure '1d1g'...\n"
     ]
    },
    {
     "name": "stderr",
     "output_type": "stream",
     "text": [
      " 65%|██████▌   | 580/891 [10:07<04:27,  1.16it/s]"
     ]
    },
    {
     "name": "stdout",
     "output_type": "stream",
     "text": [
      "Aligned 164 residues (Free: 164, Bound: 164, Excluded: 0)\n",
      "Downloading PDB structure '1x2j'...\n",
      "Downloading PDB structure '1x2r'...\n"
     ]
    },
    {
     "name": "stderr",
     "output_type": "stream",
     "text": [
      " 65%|██████▌   | 581/891 [10:08<04:19,  1.20it/s]"
     ]
    },
    {
     "name": "stdout",
     "output_type": "stream",
     "text": [
      "Aligned 290 residues (Free: 290, Bound: 290, Excluded: 0)\n",
      "Downloading PDB structure '3dwh'...\n",
      "Downloading PDB structure '3bi7'...\n"
     ]
    },
    {
     "name": "stderr",
     "output_type": "stream",
     "text": [
      " 65%|██████▌   | 582/891 [10:09<04:37,  1.11it/s]"
     ]
    },
    {
     "name": "stdout",
     "output_type": "stream",
     "text": [
      "Aligned 187 residues (Free: 193, Bound: 192, Excluded: 11)\n",
      "Downloading PDB structure '1qpo'...\n",
      "Downloading PDB structure '1qpr'...\n"
     ]
    },
    {
     "name": "stderr",
     "output_type": "stream",
     "text": [
      " 65%|██████▌   | 583/891 [10:11<05:31,  1.07s/it]"
     ]
    },
    {
     "name": "stdout",
     "output_type": "stream",
     "text": [
      "Aligned 284 residues (Free: 284, Bound: 284, Excluded: 0)\n",
      "Downloading PDB structure '2awx'...\n",
      "Downloading PDB structure '2g2l'...\n"
     ]
    },
    {
     "name": "stderr",
     "output_type": "stream",
     "text": [
      " 66%|██████▌   | 584/891 [10:11<04:48,  1.06it/s]"
     ]
    },
    {
     "name": "stdout",
     "output_type": "stream",
     "text": [
      "Aligned 90 residues (Free: 92, Bound: 90, Excluded: 2)\n",
      "Downloading PDB structure '1wgc'...\n",
      "Downloading PDB structure '2uvo'...\n"
     ]
    },
    {
     "name": "stderr",
     "output_type": "stream",
     "text": [
      " 66%|██████▌   | 585/891 [10:13<05:21,  1.05s/it]"
     ]
    },
    {
     "name": "stdout",
     "output_type": "stream",
     "text": [
      "Aligned 169 residues (Free: 170, Bound: 169, Excluded: 1)\n",
      "Downloading PDB structure '2a6c'...\n"
     ]
    },
    {
     "name": "stderr",
     "output_type": "stream",
     "text": [
      " 66%|██████▌   | 586/891 [10:13<04:16,  1.19it/s]"
     ]
    },
    {
     "name": "stdout",
     "output_type": "stream",
     "text": [
      "Structure exists: 'data/PSCDB/PDB_structures/pdb2a6c.ent' \n",
      "Aligned 72 residues (Free: 72, Bound: 72, Excluded: 0)\n",
      "Downloading PDB structure '1b6w'...\n",
      "Downloading PDB structure '1a7w'...\n"
     ]
    },
    {
     "name": "stderr",
     "output_type": "stream",
     "text": [
      " 66%|██████▌   | 587/891 [10:14<03:56,  1.29it/s]"
     ]
    },
    {
     "name": "stdout",
     "output_type": "stream",
     "text": [
      "Aligned 66 residues (Free: 66, Bound: 68, Excluded: 2)\n",
      "Downloading PDB structure '1sqg'...\n",
      "Downloading PDB structure '1sqf'...\n"
     ]
    },
    {
     "name": "stderr",
     "output_type": "stream",
     "text": [
      " 66%|██████▌   | 588/891 [10:15<04:19,  1.17it/s]"
     ]
    },
    {
     "name": "stdout",
     "output_type": "stream",
     "text": [
      "Aligned 424 residues (Free: 424, Bound: 425, Excluded: 1)\n",
      "Downloading PDB structure '1u24'...\n",
      "Downloading PDB structure '1u26'...\n"
     ]
    },
    {
     "name": "stderr",
     "output_type": "stream",
     "text": [
      " 66%|██████▌   | 589/891 [10:16<04:45,  1.06it/s]"
     ]
    },
    {
     "name": "stdout",
     "output_type": "stream",
     "text": [
      "Aligned 308 residues (Free: 308, Bound: 314, Excluded: 6)\n",
      "Downloading PDB structure '1glh'...\n",
      "Downloading PDB structure '1byh'...\n"
     ]
    },
    {
     "name": "stderr",
     "output_type": "stream",
     "text": [
      " 66%|██████▌   | 590/891 [10:17<04:48,  1.04it/s]"
     ]
    },
    {
     "name": "stdout",
     "output_type": "stream",
     "text": [
      "Aligned 214 residues (Free: 214, Bound: 214, Excluded: 0)\n",
      "Downloading PDB structure '2huz'...\n",
      "Downloading PDB structure '2o28'...\n"
     ]
    },
    {
     "name": "stderr",
     "output_type": "stream",
     "text": [
      " 66%|██████▋   | 591/891 [10:18<04:45,  1.05it/s]"
     ]
    },
    {
     "name": "stdout",
     "output_type": "stream",
     "text": [
      "Aligned 182 residues (Free: 182, Bound: 182, Excluded: 0)\n",
      "Downloading PDB structure '1f14'...\n",
      "Downloading PDB structure '1f12'...\n"
     ]
    },
    {
     "name": "stderr",
     "output_type": "stream",
     "text": [
      " 66%|██████▋   | 592/891 [10:19<04:54,  1.02it/s]"
     ]
    },
    {
     "name": "stdout",
     "output_type": "stream",
     "text": [
      "Aligned 291 residues (Free: 291, Bound: 293, Excluded: 2)\n",
      "Downloading PDB structure '2iru'...\n",
      "Downloading PDB structure '2iry'...\n"
     ]
    },
    {
     "name": "stderr",
     "output_type": "stream",
     "text": [
      " 67%|██████▋   | 593/891 [10:20<05:06,  1.03s/it]"
     ]
    },
    {
     "name": "stdout",
     "output_type": "stream",
     "text": [
      "Aligned 286 residues (Free: 286, Bound: 288, Excluded: 2)\n",
      "Downloading PDB structure '2h1v'...\n",
      "Downloading PDB structure '1c1h'...\n"
     ]
    },
    {
     "name": "stderr",
     "output_type": "stream",
     "text": [
      " 67%|██████▋   | 594/891 [10:21<05:21,  1.08s/it]"
     ]
    },
    {
     "name": "stdout",
     "output_type": "stream",
     "text": [
      "Aligned 306 residues (Free: 309, Bound: 306, Excluded: 3)\n",
      "Downloading PDB structure '1ew4'...\n",
      "Downloading PDB structure '2eff'...\n"
     ]
    },
    {
     "name": "stderr",
     "output_type": "stream",
     "text": [
      " 67%|██████▋   | 595/891 [10:22<04:51,  1.02it/s]"
     ]
    },
    {
     "name": "stdout",
     "output_type": "stream",
     "text": [
      "Aligned 106 residues (Free: 106, Bound: 106, Excluded: 0)\n",
      "Downloading PDB structure '1jax'...\n",
      "Downloading PDB structure '1jay'...\n"
     ]
    },
    {
     "name": "stderr",
     "output_type": "stream",
     "text": [
      " 67%|██████▋   | 596/891 [10:23<04:51,  1.01it/s]"
     ]
    },
    {
     "name": "stdout",
     "output_type": "stream",
     "text": [
      "Aligned 212 residues (Free: 212, Bound: 212, Excluded: 0)\n",
      "Downloading PDB structure '1wcv'...\n",
      "Downloading PDB structure '2bej'...\n"
     ]
    },
    {
     "name": "stderr",
     "output_type": "stream",
     "text": [
      " 67%|██████▋   | 597/891 [10:24<04:19,  1.13it/s]"
     ]
    },
    {
     "name": "stdout",
     "output_type": "stream",
     "text": [
      "No common residues between 1wcv and 2bej\n",
      "Downloading PDB structure '1w79'...\n",
      "Downloading PDB structure '1w8y'...\n"
     ]
    },
    {
     "name": "stderr",
     "output_type": "stream",
     "text": [
      " 67%|██████▋   | 598/891 [10:25<05:32,  1.14s/it]"
     ]
    },
    {
     "name": "stdout",
     "output_type": "stream",
     "text": [
      "Aligned 466 residues (Free: 466, Bound: 466, Excluded: 0)\n",
      "Downloading PDB structure '1nh1'...\n",
      "Downloading PDB structure '2nun'...\n"
     ]
    },
    {
     "name": "stderr",
     "output_type": "stream",
     "text": [
      " 67%|██████▋   | 599/891 [10:26<04:56,  1.01s/it]"
     ]
    },
    {
     "name": "stdout",
     "output_type": "stream",
     "text": [
      "Aligned 287 residues (Free: 290, Bound: 301, Excluded: 17)\n",
      "Downloading PDB structure '3cb6'...\n",
      "Downloading PDB structure '3cb5'...\n"
     ]
    },
    {
     "name": "stderr",
     "output_type": "stream",
     "text": [
      " 67%|██████▋   | 600/891 [10:27<05:26,  1.12s/it]"
     ]
    },
    {
     "name": "stdout",
     "output_type": "stream",
     "text": [
      "Aligned 436 residues (Free: 441, Bound: 439, Excluded: 8)\n",
      "Downloading PDB structure '1gyj'...\n",
      "Downloading PDB structure '1gyx'...\n"
     ]
    },
    {
     "name": "stderr",
     "output_type": "stream",
     "text": [
      " 67%|██████▋   | 601/891 [10:28<04:50,  1.00s/it]"
     ]
    },
    {
     "name": "stdout",
     "output_type": "stream",
     "text": [
      "Aligned 76 residues (Free: 76, Bound: 76, Excluded: 0)\n",
      "Downloading PDB structure '1zgr'...\n",
      "Downloading PDB structure '1zgs'...\n"
     ]
    },
    {
     "name": "stderr",
     "output_type": "stream",
     "text": [
      " 68%|██████▊   | 602/891 [10:30<05:31,  1.15s/it]"
     ]
    },
    {
     "name": "stdout",
     "output_type": "stream",
     "text": [
      "Aligned 441 residues (Free: 441, Bound: 442, Excluded: 1)\n",
      "Downloading PDB structure '1kpc'...\n",
      "Downloading PDB structure '1kpf'...\n"
     ]
    },
    {
     "name": "stderr",
     "output_type": "stream",
     "text": [
      " 68%|██████▊   | 603/891 [10:30<04:59,  1.04s/it]"
     ]
    },
    {
     "name": "stdout",
     "output_type": "stream",
     "text": [
      "Aligned 111 residues (Free: 111, Bound: 111, Excluded: 0)\n",
      "Downloading PDB structure '2byd'...\n",
      "Downloading PDB structure '2c43'...\n"
     ]
    },
    {
     "name": "stderr",
     "output_type": "stream",
     "text": [
      " 68%|██████▊   | 604/891 [10:31<04:33,  1.05it/s]"
     ]
    },
    {
     "name": "stdout",
     "output_type": "stream",
     "text": [
      "Aligned 278 residues (Free: 283, Bound: 280, Excluded: 7)\n",
      "Downloading PDB structure '1cmb'...\n",
      "Downloading PDB structure '1mjl'...\n"
     ]
    },
    {
     "name": "stderr",
     "output_type": "stream",
     "text": [
      " 68%|██████▊   | 605/891 [10:32<04:04,  1.17it/s]"
     ]
    },
    {
     "name": "stdout",
     "output_type": "stream",
     "text": [
      "Aligned 104 residues (Free: 104, Bound: 104, Excluded: 0)\n",
      "Downloading PDB structure '1h09'...\n",
      "Downloading PDB structure '2j8g'...\n"
     ]
    },
    {
     "name": "stderr",
     "output_type": "stream",
     "text": [
      " 68%|██████▊   | 606/891 [10:33<04:24,  1.08it/s]"
     ]
    },
    {
     "name": "stdout",
     "output_type": "stream",
     "text": [
      "Aligned 338 residues (Free: 338, Bound: 338, Excluded: 0)\n",
      "Downloading PDB structure '3cyp'...\n",
      "Downloading PDB structure '3cyq'...\n"
     ]
    },
    {
     "name": "stderr",
     "output_type": "stream",
     "text": [
      " 68%|██████▊   | 607/891 [10:34<04:49,  1.02s/it]"
     ]
    },
    {
     "name": "stdout",
     "output_type": "stream",
     "text": [
      "Aligned 129 residues (Free: 129, Bound: 133, Excluded: 4)\n",
      "Downloading PDB structure '2nyh'...\n",
      "Downloading PDB structure '2p8i'...\n"
     ]
    },
    {
     "name": "stderr",
     "output_type": "stream",
     "text": [
      " 68%|██████▊   | 608/891 [10:35<04:48,  1.02s/it]"
     ]
    },
    {
     "name": "stdout",
     "output_type": "stream",
     "text": [
      "Aligned 114 residues (Free: 114, Bound: 115, Excluded: 1)\n",
      "Downloading PDB structure '2jfd'...\n",
      "Downloading PDB structure '2jfk'...\n"
     ]
    },
    {
     "name": "stderr",
     "output_type": "stream",
     "text": [
      " 68%|██████▊   | 609/891 [10:37<05:39,  1.21s/it]"
     ]
    },
    {
     "name": "stdout",
     "output_type": "stream",
     "text": [
      "Aligned 400 residues (Free: 404, Bound: 400, Excluded: 4)\n",
      "Downloading PDB structure '1ri5'...\n",
      "Downloading PDB structure '1ri2'...\n"
     ]
    },
    {
     "name": "stderr",
     "output_type": "stream",
     "text": [
      " 68%|██████▊   | 610/891 [10:38<05:03,  1.08s/it]"
     ]
    },
    {
     "name": "stdout",
     "output_type": "stream",
     "text": [
      "Aligned 252 residues (Free: 252, Bound: 252, Excluded: 0)\n",
      "Downloading PDB structure '2ii2'...\n",
      "Downloading PDB structure '2iic'...\n"
     ]
    },
    {
     "name": "stderr",
     "output_type": "stream",
     "text": [
      " 69%|██████▊   | 611/891 [10:39<05:21,  1.15s/it]"
     ]
    },
    {
     "name": "stdout",
     "output_type": "stream",
     "text": [
      "Aligned 302 residues (Free: 304, Bound: 302, Excluded: 2)\n",
      "Downloading PDB structure '2i6i'...\n",
      "Downloading PDB structure '2i6p'...\n"
     ]
    },
    {
     "name": "stderr",
     "output_type": "stream",
     "text": [
      " 69%|██████▊   | 612/891 [10:40<04:43,  1.02s/it]"
     ]
    },
    {
     "name": "stdout",
     "output_type": "stream",
     "text": [
      "Aligned 159 residues (Free: 161, Bound: 159, Excluded: 2)\n",
      "Downloading PDB structure '1tw7'...\n",
      "Downloading PDB structure '1rv7'...\n"
     ]
    },
    {
     "name": "stderr",
     "output_type": "stream",
     "text": [
      " 69%|██████▉   | 613/891 [10:40<04:27,  1.04it/s]"
     ]
    },
    {
     "name": "stdout",
     "output_type": "stream",
     "text": [
      "Aligned 99 residues (Free: 99, Bound: 99, Excluded: 0)\n",
      "Downloading PDB structure '2atb'...\n",
      "Downloading PDB structure '2asc'...\n"
     ]
    },
    {
     "name": "stderr",
     "output_type": "stream",
     "text": [
      " 69%|██████▉   | 614/891 [10:41<03:58,  1.16it/s]"
     ]
    },
    {
     "name": "stdout",
     "output_type": "stream",
     "text": [
      "Aligned 65 residues (Free: 65, Bound: 65, Excluded: 0)\n",
      "Downloading PDB structure '1n57'...\n",
      "Downloading PDB structure '1ons'...\n"
     ]
    },
    {
     "name": "stderr",
     "output_type": "stream",
     "text": [
      " 69%|██████▉   | 615/891 [10:42<03:54,  1.18it/s]"
     ]
    },
    {
     "name": "stdout",
     "output_type": "stream",
     "text": [
      "Aligned 270 residues (Free: 272, Bound: 278, Excluded: 10)\n",
      "Downloading PDB structure '1qsa'...\n",
      "Downloading PDB structure '1sly'...\n",
      "Aligned 618 residues (Free: 618, Bound: 618, Excluded: 0)\n"
     ]
    },
    {
     "name": "stderr",
     "output_type": "stream",
     "text": [
      " 69%|██████▉   | 616/891 [10:43<04:38,  1.01s/it]"
     ]
    },
    {
     "name": "stdout",
     "output_type": "stream",
     "text": [
      "Downloading PDB structure '1xnh'...\n",
      "Downloading PDB structure '1xng'...\n"
     ]
    },
    {
     "name": "stderr",
     "output_type": "stream",
     "text": [
      " 69%|██████▉   | 617/891 [10:44<04:34,  1.00s/it]"
     ]
    },
    {
     "name": "stdout",
     "output_type": "stream",
     "text": [
      "Aligned 251 residues (Free: 251, Bound: 255, Excluded: 4)\n",
      "Downloading PDB structure '2obr'...\n",
      "Downloading PDB structure '2obt'...\n"
     ]
    },
    {
     "name": "stderr",
     "output_type": "stream",
     "text": [
      " 69%|██████▉   | 618/891 [10:45<04:14,  1.07it/s]"
     ]
    },
    {
     "name": "stdout",
     "output_type": "stream",
     "text": [
      "Aligned 296 residues (Free: 296, Bound: 307, Excluded: 11)\n",
      "Downloading PDB structure '1ppn'...\n",
      "Downloading PDB structure '4pad'...\n"
     ]
    },
    {
     "name": "stderr",
     "output_type": "stream",
     "text": [
      " 69%|██████▉   | 619/891 [10:46<03:49,  1.18it/s]"
     ]
    },
    {
     "name": "stdout",
     "output_type": "stream",
     "text": [
      "Aligned 212 residues (Free: 212, Bound: 212, Excluded: 0)\n",
      "Downloading PDB structure '1tje'...\n",
      "Downloading PDB structure '1tkg'...\n"
     ]
    },
    {
     "name": "stderr",
     "output_type": "stream",
     "text": [
      " 70%|██████▉   | 620/891 [10:46<03:46,  1.20it/s]"
     ]
    },
    {
     "name": "stdout",
     "output_type": "stream",
     "text": [
      "Aligned 224 residues (Free: 224, Bound: 224, Excluded: 0)\n",
      "Downloading PDB structure '1ah6'...\n",
      "Downloading PDB structure '1amw'...\n"
     ]
    },
    {
     "name": "stderr",
     "output_type": "stream",
     "text": [
      " 70%|██████▉   | 621/891 [10:47<03:28,  1.29it/s]"
     ]
    },
    {
     "name": "stdout",
     "output_type": "stream",
     "text": [
      "Aligned 213 residues (Free: 213, Bound: 213, Excluded: 0)\n",
      "Downloading PDB structure '2eak'...\n",
      "Downloading PDB structure '2eal'...\n"
     ]
    },
    {
     "name": "stderr",
     "output_type": "stream",
     "text": [
      " 70%|██████▉   | 622/891 [10:48<03:29,  1.28it/s]"
     ]
    },
    {
     "name": "stdout",
     "output_type": "stream",
     "text": [
      "Aligned 141 residues (Free: 143, Bound: 141, Excluded: 2)\n",
      "Downloading PDB structure '1wny'...\n",
      "Downloading PDB structure '1wk8'...\n"
     ]
    },
    {
     "name": "stderr",
     "output_type": "stream",
     "text": [
      " 70%|██████▉   | 623/891 [10:49<03:43,  1.20it/s]"
     ]
    },
    {
     "name": "stdout",
     "output_type": "stream",
     "text": [
      "Aligned 180 residues (Free: 180, Bound: 182, Excluded: 2)\n",
      "Downloading PDB structure '1f6y'...\n",
      "Downloading PDB structure '2ogy'...\n"
     ]
    },
    {
     "name": "stderr",
     "output_type": "stream",
     "text": [
      " 70%|███████   | 624/891 [10:50<03:59,  1.11it/s]"
     ]
    },
    {
     "name": "stdout",
     "output_type": "stream",
     "text": [
      "Aligned 258 residues (Free: 258, Bound: 262, Excluded: 4)\n",
      "Downloading PDB structure '1na8'...\n",
      "Downloading PDB structure '1om9'...\n"
     ]
    },
    {
     "name": "stderr",
     "output_type": "stream",
     "text": [
      " 70%|███████   | 625/891 [10:52<05:01,  1.13s/it]"
     ]
    },
    {
     "name": "stdout",
     "output_type": "stream",
     "text": [
      "Aligned 142 residues (Free: 151, Bound: 142, Excluded: 9)\n",
      "Downloading PDB structure '1ayx'...\n",
      "Downloading PDB structure '2f6d'...\n"
     ]
    },
    {
     "name": "stderr",
     "output_type": "stream",
     "text": [
      " 70%|███████   | 626/891 [10:53<05:01,  1.14s/it]"
     ]
    },
    {
     "name": "stdout",
     "output_type": "stream",
     "text": [
      "Aligned 492 residues (Free: 492, Bound: 492, Excluded: 0)\n",
      "Downloading PDB structure '1h8u'...\n",
      "Downloading PDB structure '2brs'...\n"
     ]
    },
    {
     "name": "stderr",
     "output_type": "stream",
     "text": [
      " 70%|███████   | 627/891 [10:54<04:54,  1.11s/it]"
     ]
    },
    {
     "name": "stdout",
     "output_type": "stream",
     "text": [
      "Aligned 115 residues (Free: 115, Bound: 115, Excluded: 0)\n",
      "Downloading PDB structure '1bk7'...\n",
      "Downloading PDB structure '1ucg'...\n"
     ]
    },
    {
     "name": "stderr",
     "output_type": "stream",
     "text": [
      " 70%|███████   | 628/891 [10:55<04:52,  1.11s/it]"
     ]
    },
    {
     "name": "stdout",
     "output_type": "stream",
     "text": [
      "Aligned 190 residues (Free: 190, Bound: 190, Excluded: 0)\n",
      "Downloading PDB structure '1k75'...\n",
      "Downloading PDB structure '1kae'...\n"
     ]
    },
    {
     "name": "stderr",
     "output_type": "stream",
     "text": [
      " 71%|███████   | 629/891 [10:56<05:05,  1.16s/it]"
     ]
    },
    {
     "name": "stdout",
     "output_type": "stream",
     "text": [
      "Aligned 425 residues (Free: 425, Bound: 427, Excluded: 2)\n",
      "Downloading PDB structure '2r7f'...\n",
      "Downloading PDB structure '2r7d'...\n"
     ]
    },
    {
     "name": "stderr",
     "output_type": "stream",
     "text": [
      " 71%|███████   | 630/891 [10:58<05:28,  1.26s/it]"
     ]
    },
    {
     "name": "stdout",
     "output_type": "stream",
     "text": [
      "Aligned 450 residues (Free: 450, Bound: 452, Excluded: 2)\n",
      "Downloading PDB structure '1c3f'...\n",
      "Downloading PDB structure '1c8y'...\n"
     ]
    },
    {
     "name": "stderr",
     "output_type": "stream",
     "text": [
      " 71%|███████   | 631/891 [10:59<04:54,  1.13s/it]"
     ]
    },
    {
     "name": "stdout",
     "output_type": "stream",
     "text": [
      "Aligned 265 residues (Free: 265, Bound: 265, Excluded: 0)\n",
      "Downloading PDB structure '2raf'...\n"
     ]
    },
    {
     "name": "stderr",
     "output_type": "stream",
     "text": [
      " 71%|███████   | 632/891 [10:59<04:16,  1.01it/s]"
     ]
    },
    {
     "name": "stdout",
     "output_type": "stream",
     "text": [
      "Structure exists: 'data/PSCDB/PDB_structures/pdb2raf.ent' \n",
      "Aligned 184 residues (Free: 184, Bound: 184, Excluded: 0)\n",
      "Downloading PDB structure '1w28'...\n",
      "Downloading PDB structure '1w2o'...\n"
     ]
    },
    {
     "name": "stderr",
     "output_type": "stream",
     "text": [
      " 71%|███████   | 633/891 [11:00<04:05,  1.05it/s]"
     ]
    },
    {
     "name": "stdout",
     "output_type": "stream",
     "text": [
      "Aligned 272 residues (Free: 272, Bound: 275, Excluded: 3)\n",
      "Downloading PDB structure '1r7i'...\n",
      "Downloading PDB structure '1t02'...\n"
     ]
    },
    {
     "name": "stderr",
     "output_type": "stream",
     "text": [
      " 71%|███████   | 634/891 [11:01<04:39,  1.09s/it]"
     ]
    },
    {
     "name": "stdout",
     "output_type": "stream",
     "text": [
      "Aligned 371 residues (Free: 372, Bound: 371, Excluded: 1)\n",
      "Downloading PDB structure '2hzb'...\n",
      "Downloading PDB structure '2o2z'...\n"
     ]
    },
    {
     "name": "stderr",
     "output_type": "stream",
     "text": [
      " 71%|███████▏  | 635/891 [11:03<04:42,  1.10s/it]"
     ]
    },
    {
     "name": "stdout",
     "output_type": "stream",
     "text": [
      "Aligned 303 residues (Free: 306, Bound: 304, Excluded: 4)\n",
      "Downloading PDB structure '2vfx'...\n",
      "Structure exists: 'data/PSCDB/PDB_structures/pdb2vfx.ent' \n"
     ]
    },
    {
     "name": "stderr",
     "output_type": "stream",
     "text": [
      " 71%|███████▏  | 636/891 [11:04<05:06,  1.20s/it]"
     ]
    },
    {
     "name": "stdout",
     "output_type": "stream",
     "text": [
      "Aligned 203 residues (Free: 203, Bound: 203, Excluded: 0)\n",
      "Downloading PDB structure '3d9i'...\n",
      "Downloading PDB structure '3d9p'...\n"
     ]
    },
    {
     "name": "stderr",
     "output_type": "stream",
     "text": [
      " 71%|███████▏  | 637/891 [11:05<05:03,  1.19s/it]"
     ]
    },
    {
     "name": "stdout",
     "output_type": "stream",
     "text": [
      "Aligned 138 residues (Free: 138, Bound: 138, Excluded: 0)\n",
      "Downloading PDB structure '1j85'...\n",
      "Downloading PDB structure '1mxi'...\n"
     ]
    },
    {
     "name": "stderr",
     "output_type": "stream",
     "text": [
      " 72%|███████▏  | 638/891 [11:06<04:23,  1.04s/it]"
     ]
    },
    {
     "name": "stdout",
     "output_type": "stream",
     "text": [
      "Aligned 156 residues (Free: 156, Bound: 156, Excluded: 0)\n",
      "Downloading PDB structure '4ptd'...\n",
      "Downloading PDB structure '1gym'...\n"
     ]
    },
    {
     "name": "stderr",
     "output_type": "stream",
     "text": [
      " 72%|███████▏  | 639/891 [11:07<03:58,  1.06it/s]"
     ]
    },
    {
     "name": "stdout",
     "output_type": "stream",
     "text": [
      "Aligned 296 residues (Free: 296, Bound: 296, Excluded: 0)\n",
      "Downloading PDB structure '1twd'...\n",
      "Downloading PDB structure '1x8c'...\n"
     ]
    },
    {
     "name": "stderr",
     "output_type": "stream",
     "text": [
      " 72%|███████▏  | 640/891 [11:08<03:56,  1.06it/s]"
     ]
    },
    {
     "name": "stdout",
     "output_type": "stream",
     "text": [
      "Aligned 224 residues (Free: 225, Bound: 224, Excluded: 1)\n",
      "Downloading PDB structure '1bdj'...\n",
      "Downloading PDB structure '2a0b'...\n"
     ]
    },
    {
     "name": "stderr",
     "output_type": "stream",
     "text": [
      " 72%|███████▏  | 641/891 [11:08<03:27,  1.21it/s]"
     ]
    },
    {
     "name": "stdout",
     "output_type": "stream",
     "text": [
      "No common residues between 1bdj and 2a0b\n",
      "Downloading PDB structure '2f5g'...\n",
      "Downloading PDB structure '2f4f'...\n"
     ]
    },
    {
     "name": "stderr",
     "output_type": "stream",
     "text": [
      " 72%|███████▏  | 642/891 [11:09<03:35,  1.16it/s]"
     ]
    },
    {
     "name": "stdout",
     "output_type": "stream",
     "text": [
      "Aligned 130 residues (Free: 130, Bound: 130, Excluded: 0)\n",
      "Downloading PDB structure '1qjv'...\n",
      "Downloading PDB structure '2nt9'...\n"
     ]
    },
    {
     "name": "stderr",
     "output_type": "stream",
     "text": [
      " 72%|███████▏  | 643/891 [11:11<05:21,  1.29s/it]"
     ]
    },
    {
     "name": "stdout",
     "output_type": "stream",
     "text": [
      "Aligned 342 residues (Free: 342, Bound: 342, Excluded: 0)\n",
      "Downloading PDB structure '2qgq'...\n",
      "Structure exists: 'data/PSCDB/PDB_structures/pdb2qgq.ent' \n"
     ]
    },
    {
     "name": "stderr",
     "output_type": "stream",
     "text": [
      " 72%|███████▏  | 644/891 [11:12<05:06,  1.24s/it]"
     ]
    },
    {
     "name": "stdout",
     "output_type": "stream",
     "text": [
      "Aligned 266 residues (Free: 266, Bound: 266, Excluded: 0)\n",
      "Downloading PDB structure '2vfy'...\n",
      "Downloading PDB structure '2vfk'...\n"
     ]
    },
    {
     "name": "stderr",
     "output_type": "stream",
     "text": [
      " 72%|███████▏  | 645/891 [11:13<04:34,  1.12s/it]"
     ]
    },
    {
     "name": "stdout",
     "output_type": "stream",
     "text": [
      "Aligned 203 residues (Free: 203, Bound: 205, Excluded: 2)\n",
      "Downloading PDB structure '1ww8'...\n",
      "Downloading PDB structure '2dvm'...\n"
     ]
    },
    {
     "name": "stderr",
     "output_type": "stream",
     "text": [
      " 73%|███████▎  | 646/891 [11:15<05:06,  1.25s/it]"
     ]
    },
    {
     "name": "stdout",
     "output_type": "stream",
     "text": [
      "Aligned 427 residues (Free: 427, Bound: 438, Excluded: 11)\n",
      "Downloading PDB structure '3c8h'...\n",
      "Downloading PDB structure '3c8d'...\n"
     ]
    },
    {
     "name": "stderr",
     "output_type": "stream",
     "text": [
      " 73%|███████▎  | 647/891 [11:17<05:48,  1.43s/it]"
     ]
    },
    {
     "name": "stdout",
     "output_type": "stream",
     "text": [
      "Aligned 370 residues (Free: 376, Bound: 378, Excluded: 14)\n",
      "Downloading PDB structure '1r6j'...\n",
      "Downloading PDB structure '1oby'...\n"
     ]
    },
    {
     "name": "stderr",
     "output_type": "stream",
     "text": [
      " 73%|███████▎  | 648/891 [11:17<04:42,  1.16s/it]"
     ]
    },
    {
     "name": "stdout",
     "output_type": "stream",
     "text": [
      "Aligned 75 residues (Free: 82, Bound: 75, Excluded: 7)\n",
      "Downloading PDB structure '1agj'...\n",
      "Downloading PDB structure '1exf'...\n"
     ]
    },
    {
     "name": "stderr",
     "output_type": "stream",
     "text": [
      " 73%|███████▎  | 649/891 [11:19<04:49,  1.20s/it]"
     ]
    },
    {
     "name": "stdout",
     "output_type": "stream",
     "text": [
      "Aligned 210 residues (Free: 242, Bound: 241, Excluded: 63)\n",
      "Downloading PDB structure '1v8q'...\n"
     ]
    },
    {
     "name": "stderr",
     "output_type": "stream",
     "text": [
      " 73%|███████▎  | 650/891 [11:19<03:42,  1.08it/s]"
     ]
    },
    {
     "name": "stdout",
     "output_type": "stream",
     "text": [
      "Structure exists: 'data/PSCDB/PDB_structures/pdb1v8q.ent' \n",
      "Aligned 66 residues (Free: 66, Bound: 66, Excluded: 0)\n",
      "Downloading PDB structure '2d05'...\n",
      "Downloading PDB structure '1qgi'...\n"
     ]
    },
    {
     "name": "stderr",
     "output_type": "stream",
     "text": [
      " 73%|███████▎  | 651/891 [11:20<03:31,  1.13it/s]"
     ]
    },
    {
     "name": "stdout",
     "output_type": "stream",
     "text": [
      "Aligned 259 residues (Free: 259, Bound: 259, Excluded: 0)\n",
      "Downloading PDB structure '2r88'...\n",
      "Downloading PDB structure '2r8a'...\n"
     ]
    },
    {
     "name": "stderr",
     "output_type": "stream",
     "text": [
      " 73%|███████▎  | 652/891 [11:21<03:49,  1.04it/s]"
     ]
    },
    {
     "name": "stdout",
     "output_type": "stream",
     "text": [
      "Aligned 357 residues (Free: 365, Bound: 360, Excluded: 11)\n",
      "Downloading PDB structure '2eh1'...\n"
     ]
    },
    {
     "name": "stderr",
     "output_type": "stream",
     "text": [
      " 73%|███████▎  | 653/891 [11:21<03:05,  1.29it/s]"
     ]
    },
    {
     "name": "stdout",
     "output_type": "stream",
     "text": [
      "Structure exists: 'data/PSCDB/PDB_structures/pdb2eh1.ent' \n",
      "Aligned 87 residues (Free: 87, Bound: 87, Excluded: 0)\n",
      "Downloading PDB structure '1gy7'...\n",
      "Downloading PDB structure '1gyb'...\n"
     ]
    },
    {
     "name": "stderr",
     "output_type": "stream",
     "text": [
      " 73%|███████▎  | 654/891 [11:22<03:34,  1.10it/s]"
     ]
    },
    {
     "name": "stdout",
     "output_type": "stream",
     "text": [
      "Aligned 121 residues (Free: 121, Bound: 122, Excluded: 1)\n",
      "Downloading PDB structure '1l8f'...\n",
      "Downloading PDB structure '1oa7'...\n",
      "Aligned 207 residues (Free: 207, Bound: 207, Excluded: 0)\n"
     ]
    },
    {
     "name": "stderr",
     "output_type": "stream",
     "text": [
      " 74%|███████▎  | 655/891 [11:23<03:11,  1.23it/s]"
     ]
    },
    {
     "name": "stdout",
     "output_type": "stream",
     "text": [
      "Downloading PDB structure '2fao'...\n",
      "Downloading PDB structure '2faq'...\n"
     ]
    },
    {
     "name": "stderr",
     "output_type": "stream",
     "text": [
      " 74%|███████▎  | 656/891 [11:24<03:25,  1.14it/s]"
     ]
    },
    {
     "name": "stdout",
     "output_type": "stream",
     "text": [
      "Aligned 295 residues (Free: 295, Bound: 295, Excluded: 0)\n",
      "Downloading PDB structure '1e9n'...\n",
      "Downloading PDB structure '2isi'...\n"
     ]
    },
    {
     "name": "stderr",
     "output_type": "stream",
     "text": [
      " 74%|███████▎  | 657/891 [11:25<03:49,  1.02it/s]"
     ]
    },
    {
     "name": "stdout",
     "output_type": "stream",
     "text": [
      "Aligned 274 residues (Free: 274, Bound: 276, Excluded: 2)\n",
      "Downloading PDB structure '4mat'...\n",
      "Downloading PDB structure '3mat'...\n"
     ]
    },
    {
     "name": "stderr",
     "output_type": "stream",
     "text": [
      " 74%|███████▍  | 658/891 [11:26<03:51,  1.01it/s]"
     ]
    },
    {
     "name": "stdout",
     "output_type": "stream",
     "text": [
      "Aligned 264 residues (Free: 271, Bound: 264, Excluded: 7)\n",
      "Downloading PDB structure '2j16'...\n",
      "Downloading PDB structure '2j17'...\n"
     ]
    },
    {
     "name": "stderr",
     "output_type": "stream",
     "text": [
      " 74%|███████▍  | 659/891 [11:27<03:37,  1.07it/s]"
     ]
    },
    {
     "name": "stdout",
     "output_type": "stream",
     "text": [
      "Aligned 132 residues (Free: 132, Bound: 144, Excluded: 12)\n",
      "Downloading PDB structure '2hqq'...\n",
      "Downloading PDB structure '2hw1'...\n"
     ]
    },
    {
     "name": "stderr",
     "output_type": "stream",
     "text": [
      " 74%|███████▍  | 660/891 [11:28<03:27,  1.11it/s]"
     ]
    },
    {
     "name": "stdout",
     "output_type": "stream",
     "text": [
      "Aligned 296 residues (Free: 296, Bound: 296, Excluded: 0)\n",
      "Downloading PDB structure '1qj9'...\n",
      "Downloading PDB structure '1qj8'...\n",
      "Aligned 148 residues (Free: 148, Bound: 148, Excluded: 0)\n"
     ]
    },
    {
     "name": "stderr",
     "output_type": "stream",
     "text": [
      " 74%|███████▍  | 661/891 [11:28<03:07,  1.22it/s]"
     ]
    },
    {
     "name": "stdout",
     "output_type": "stream",
     "text": [
      "Downloading PDB structure '1ohd'...\n",
      "Downloading PDB structure '1ohe'...\n"
     ]
    },
    {
     "name": "stderr",
     "output_type": "stream",
     "text": [
      " 74%|███████▍  | 662/891 [11:29<03:05,  1.24it/s]"
     ]
    },
    {
     "name": "stdout",
     "output_type": "stream",
     "text": [
      "Aligned 338 residues (Free: 338, Bound: 338, Excluded: 0)\n",
      "Downloading PDB structure '2fbt'...\n",
      "Downloading PDB structure '2fc0'...\n"
     ]
    },
    {
     "name": "stderr",
     "output_type": "stream",
     "text": [
      " 74%|███████▍  | 663/891 [11:30<03:08,  1.21it/s]"
     ]
    },
    {
     "name": "stdout",
     "output_type": "stream",
     "text": [
      "Aligned 196 residues (Free: 196, Bound: 196, Excluded: 0)\n",
      "Downloading PDB structure '1vz2'...\n",
      "Downloading PDB structure '1o6g'...\n"
     ]
    },
    {
     "name": "stderr",
     "output_type": "stream",
     "text": [
      " 75%|███████▍  | 664/891 [11:31<03:46,  1.00it/s]"
     ]
    },
    {
     "name": "stdout",
     "output_type": "stream",
     "text": [
      "Aligned 710 residues (Free: 710, Bound: 710, Excluded: 0)\n",
      "Downloading PDB structure '3db4'...\n",
      "Downloading PDB structure '3db3'...\n"
     ]
    },
    {
     "name": "stderr",
     "output_type": "stream",
     "text": [
      " 75%|███████▍  | 665/891 [11:32<03:36,  1.05it/s]"
     ]
    },
    {
     "name": "stdout",
     "output_type": "stream",
     "text": [
      "Aligned 132 residues (Free: 132, Bound: 137, Excluded: 5)\n",
      "Downloading PDB structure '1czt'...\n",
      "Downloading PDB structure '1czs'...\n"
     ]
    },
    {
     "name": "stderr",
     "output_type": "stream",
     "text": [
      " 75%|███████▍  | 666/891 [11:33<03:20,  1.12it/s]"
     ]
    },
    {
     "name": "stdout",
     "output_type": "stream",
     "text": [
      "Aligned 160 residues (Free: 160, Bound: 160, Excluded: 0)\n",
      "Downloading PDB structure '2rem'...\n"
     ]
    },
    {
     "name": "stderr",
     "output_type": "stream",
     "text": [
      " 75%|███████▍  | 667/891 [11:34<03:12,  1.17it/s]"
     ]
    },
    {
     "name": "stdout",
     "output_type": "stream",
     "text": [
      "Structure exists: 'data/PSCDB/PDB_structures/pdb2rem.ent' \n",
      "Aligned 190 residues (Free: 190, Bound: 190, Excluded: 0)\n",
      "Downloading PDB structure '1nl3'...\n",
      "Downloading PDB structure '1nkt'...\n"
     ]
    },
    {
     "name": "stderr",
     "output_type": "stream",
     "text": [
      " 75%|███████▍  | 668/891 [11:36<04:20,  1.17s/it]"
     ]
    },
    {
     "name": "stdout",
     "output_type": "stream",
     "text": [
      "Aligned 836 residues (Free: 839, Bound: 836, Excluded: 3)\n",
      "Downloading PDB structure '3c1z'...\n",
      "Downloading PDB structure '3c1y'...\n"
     ]
    },
    {
     "name": "stderr",
     "output_type": "stream",
     "text": [
      " 75%|███████▌  | 669/891 [11:37<04:17,  1.16s/it]"
     ]
    },
    {
     "name": "stdout",
     "output_type": "stream",
     "text": [
      "Aligned 349 residues (Free: 349, Bound: 349, Excluded: 0)\n",
      "Downloading PDB structure '1uyp'...\n",
      "Downloading PDB structure '1w2t'...\n"
     ]
    },
    {
     "name": "stderr",
     "output_type": "stream",
     "text": [
      " 75%|███████▌  | 670/891 [11:39<05:32,  1.50s/it]"
     ]
    },
    {
     "name": "stdout",
     "output_type": "stream",
     "text": [
      "Aligned 432 residues (Free: 432, Bound: 432, Excluded: 0)\n",
      "Downloading PDB structure '1wtj'...\n",
      "Downloading PDB structure '2cwh'...\n"
     ]
    },
    {
     "name": "stderr",
     "output_type": "stream",
     "text": [
      " 75%|███████▌  | 671/891 [11:40<05:06,  1.39s/it]"
     ]
    },
    {
     "name": "stdout",
     "output_type": "stream",
     "text": [
      "Aligned 332 residues (Free: 332, Bound: 332, Excluded: 0)\n",
      "Downloading PDB structure '1xxl'...\n",
      "Downloading PDB structure '2glu'...\n"
     ]
    },
    {
     "name": "stderr",
     "output_type": "stream",
     "text": [
      " 75%|███████▌  | 672/891 [11:41<04:40,  1.28s/it]"
     ]
    },
    {
     "name": "stdout",
     "output_type": "stream",
     "text": [
      "Aligned 231 residues (Free: 231, Bound: 231, Excluded: 0)\n",
      "Downloading PDB structure '3bi9'...\n",
      "Downloading PDB structure '3bib'...\n"
     ]
    },
    {
     "name": "stderr",
     "output_type": "stream",
     "text": [
      " 76%|███████▌  | 673/891 [11:42<03:58,  1.09s/it]"
     ]
    },
    {
     "name": "stdout",
     "output_type": "stream",
     "text": [
      "Aligned 109 residues (Free: 114, Bound: 109, Excluded: 5)\n",
      "Downloading PDB structure '1cqz'...\n",
      "Downloading PDB structure '1ek2'...\n"
     ]
    },
    {
     "name": "stderr",
     "output_type": "stream",
     "text": [
      " 76%|███████▌  | 674/891 [11:44<04:28,  1.24s/it]"
     ]
    },
    {
     "name": "stdout",
     "output_type": "stream",
     "text": [
      "Aligned 487 residues (Free: 487, Bound: 487, Excluded: 0)\n",
      "Downloading PDB structure '2hy7'...\n",
      "Downloading PDB structure '2q6v'...\n"
     ]
    },
    {
     "name": "stderr",
     "output_type": "stream",
     "text": [
      " 76%|███████▌  | 675/891 [11:45<04:14,  1.18s/it]"
     ]
    },
    {
     "name": "stdout",
     "output_type": "stream",
     "text": [
      "Aligned 370 residues (Free: 373, Bound: 370, Excluded: 3)\n",
      "Downloading PDB structure '2d0a'...\n",
      "Downloading PDB structure '2d0c'...\n"
     ]
    },
    {
     "name": "stderr",
     "output_type": "stream",
     "text": [
      " 76%|███████▌  | 676/891 [11:45<03:55,  1.09s/it]"
     ]
    },
    {
     "name": "stdout",
     "output_type": "stream",
     "text": [
      "Aligned 308 residues (Free: 308, Bound: 308, Excluded: 0)\n",
      "Downloading PDB structure '2uy2'...\n",
      "Downloading PDB structure '2uy3'...\n"
     ]
    },
    {
     "name": "stderr",
     "output_type": "stream",
     "text": [
      " 76%|███████▌  | 677/891 [11:46<03:18,  1.08it/s]"
     ]
    },
    {
     "name": "stdout",
     "output_type": "stream",
     "text": [
      "Aligned 284 residues (Free: 287, Bound: 285, Excluded: 4)\n",
      "Downloading PDB structure '1uc8'...\n",
      "Downloading PDB structure '1uc9'...\n"
     ]
    },
    {
     "name": "stderr",
     "output_type": "stream",
     "text": [
      " 76%|███████▌  | 678/891 [11:47<03:22,  1.05it/s]"
     ]
    },
    {
     "name": "stdout",
     "output_type": "stream",
     "text": [
      "Aligned 240 residues (Free: 240, Bound: 240, Excluded: 0)\n",
      "Downloading PDB structure '3sqc'...\n",
      "Downloading PDB structure '2sqc'...\n"
     ]
    },
    {
     "name": "stderr",
     "output_type": "stream",
     "text": [
      " 76%|███████▌  | 679/891 [11:49<04:05,  1.16s/it]"
     ]
    },
    {
     "name": "stdout",
     "output_type": "stream",
     "text": [
      "Aligned 619 residues (Free: 619, Bound: 623, Excluded: 4)\n",
      "Downloading PDB structure '2pfl'...\n",
      "Downloading PDB structure '1h16'...\n"
     ]
    },
    {
     "name": "stderr",
     "output_type": "stream",
     "text": [
      " 76%|███████▋  | 680/891 [11:50<04:38,  1.32s/it]"
     ]
    },
    {
     "name": "stdout",
     "output_type": "stream",
     "text": [
      "Aligned 759 residues (Free: 759, Bound: 759, Excluded: 0)\n",
      "Downloading PDB structure '2paw'...\n",
      "Downloading PDB structure '1efy'...\n"
     ]
    },
    {
     "name": "stderr",
     "output_type": "stream",
     "text": [
      " 76%|███████▋  | 681/891 [11:51<04:04,  1.17s/it]"
     ]
    },
    {
     "name": "stdout",
     "output_type": "stream",
     "text": [
      "Aligned 348 residues (Free: 348, Bound: 350, Excluded: 2)\n",
      "Downloading PDB structure '2q4o'...\n",
      "Downloading PDB structure '2a33'...\n"
     ]
    },
    {
     "name": "stderr",
     "output_type": "stream",
     "text": [
      " 77%|███████▋  | 682/891 [11:53<04:25,  1.27s/it]"
     ]
    },
    {
     "name": "stdout",
     "output_type": "stream",
     "text": [
      "Aligned 170 residues (Free: 170, Bound: 170, Excluded: 0)\n",
      "Downloading PDB structure '1lf6'...\n",
      "Downloading PDB structure '1lf9'...\n"
     ]
    },
    {
     "name": "stderr",
     "output_type": "stream",
     "text": [
      " 77%|███████▋  | 683/891 [11:54<04:33,  1.32s/it]"
     ]
    },
    {
     "name": "stdout",
     "output_type": "stream",
     "text": [
      "Aligned 674 residues (Free: 674, Bound: 674, Excluded: 0)\n",
      "Downloading PDB structure '1fe4'...\n",
      "Downloading PDB structure '1fee'...\n"
     ]
    },
    {
     "name": "stderr",
     "output_type": "stream",
     "text": [
      " 77%|███████▋  | 684/891 [11:55<03:57,  1.15s/it]"
     ]
    },
    {
     "name": "stdout",
     "output_type": "stream",
     "text": [
      "Aligned 67 residues (Free: 68, Bound: 67, Excluded: 1)\n",
      "Downloading PDB structure '2ree'...\n",
      "Downloading PDB structure '2ref'...\n"
     ]
    },
    {
     "name": "stderr",
     "output_type": "stream",
     "text": [
      " 77%|███████▋  | 685/891 [11:56<04:09,  1.21s/it]"
     ]
    },
    {
     "name": "stdout",
     "output_type": "stream",
     "text": [
      "Aligned 199 residues (Free: 199, Bound: 203, Excluded: 4)\n",
      "Downloading PDB structure '2q6z'...\n",
      "Downloading PDB structure '2q71'...\n"
     ]
    },
    {
     "name": "stderr",
     "output_type": "stream",
     "text": [
      " 77%|███████▋  | 686/891 [11:57<03:58,  1.16s/it]"
     ]
    },
    {
     "name": "stdout",
     "output_type": "stream",
     "text": [
      "Aligned 356 residues (Free: 356, Bound: 356, Excluded: 0)\n",
      "Downloading PDB structure '2egt'...\n",
      "Downloading PDB structure '2e8e'...\n"
     ]
    },
    {
     "name": "stderr",
     "output_type": "stream",
     "text": [
      " 77%|███████▋  | 687/891 [11:58<03:23,  1.00it/s]"
     ]
    },
    {
     "name": "stdout",
     "output_type": "stream",
     "text": [
      "Aligned 132 residues (Free: 132, Bound: 132, Excluded: 0)\n",
      "Downloading PDB structure '1ut9'...\n",
      "Downloading PDB structure '1rq5'...\n"
     ]
    },
    {
     "name": "stderr",
     "output_type": "stream",
     "text": [
      " 77%|███████▋  | 688/891 [11:59<03:38,  1.08s/it]"
     ]
    },
    {
     "name": "stdout",
     "output_type": "stream",
     "text": [
      "Aligned 602 residues (Free: 605, Bound: 602, Excluded: 3)\n",
      "Downloading PDB structure '2gwm'...\n",
      "Downloading PDB structure '2gwl'...\n"
     ]
    },
    {
     "name": "stderr",
     "output_type": "stream",
     "text": [
      " 77%|███████▋  | 689/891 [12:00<03:26,  1.02s/it]"
     ]
    },
    {
     "name": "stdout",
     "output_type": "stream",
     "text": [
      "Aligned 199 residues (Free: 200, Bound: 200, Excluded: 2)\n",
      "Downloading PDB structure '1i7a'...\n"
     ]
    },
    {
     "name": "stderr",
     "output_type": "stream",
     "text": [
      " 77%|███████▋  | 690/891 [12:01<02:56,  1.14it/s]"
     ]
    },
    {
     "name": "stdout",
     "output_type": "stream",
     "text": [
      "Structure exists: 'data/PSCDB/PDB_structures/pdb1i7a.ent' \n",
      "Aligned 103 residues (Free: 103, Bound: 103, Excluded: 0)\n",
      "Downloading PDB structure '1qyo'...\n",
      "Downloading PDB structure '1jbz'...\n"
     ]
    },
    {
     "name": "stderr",
     "output_type": "stream",
     "text": [
      " 78%|███████▊  | 691/891 [12:02<03:06,  1.07it/s]"
     ]
    },
    {
     "name": "stdout",
     "output_type": "stream",
     "text": [
      "Aligned 223 residues (Free: 236, Bound: 223, Excluded: 13)\n",
      "Downloading PDB structure '2f1v'...\n",
      "Downloading PDB structure '2f1t'...\n"
     ]
    },
    {
     "name": "stderr",
     "output_type": "stream",
     "text": [
      " 78%|███████▊  | 692/891 [12:03<03:18,  1.00it/s]"
     ]
    },
    {
     "name": "stdout",
     "output_type": "stream",
     "text": [
      "Aligned 182 residues (Free: 182, Bound: 183, Excluded: 1)\n",
      "Downloading PDB structure '2bkn'...\n",
      "Downloading PDB structure '2bko'...\n"
     ]
    },
    {
     "name": "stderr",
     "output_type": "stream",
     "text": [
      " 78%|███████▊  | 693/891 [12:03<02:58,  1.11it/s]"
     ]
    },
    {
     "name": "stdout",
     "output_type": "stream",
     "text": [
      "Aligned 188 residues (Free: 190, Bound: 190, Excluded: 4)\n",
      "Downloading PDB structure '1ogm'...\n",
      "Downloading PDB structure '1ogo'...\n"
     ]
    },
    {
     "name": "stderr",
     "output_type": "stream",
     "text": [
      " 78%|███████▊  | 694/891 [12:05<03:10,  1.03it/s]"
     ]
    },
    {
     "name": "stdout",
     "output_type": "stream",
     "text": [
      "Aligned 572 residues (Free: 572, Bound: 572, Excluded: 0)\n",
      "Downloading PDB structure '1f1m'...\n"
     ]
    },
    {
     "name": "stderr",
     "output_type": "stream",
     "text": [
      " 78%|███████▊  | 695/891 [12:05<03:00,  1.08it/s]"
     ]
    },
    {
     "name": "stdout",
     "output_type": "stream",
     "text": [
      "Structure exists: 'data/PSCDB/PDB_structures/pdb1f1m.ent' \n",
      "Aligned 162 residues (Free: 162, Bound: 162, Excluded: 0)\n",
      "Downloading PDB structure '2e4p'...\n"
     ]
    },
    {
     "name": "stderr",
     "output_type": "stream",
     "text": [
      " 78%|███████▊  | 696/891 [12:06<02:29,  1.31it/s]"
     ]
    },
    {
     "name": "stdout",
     "output_type": "stream",
     "text": [
      "Structure exists: 'data/PSCDB/PDB_structures/pdb2e4p.ent' \n",
      "Aligned 108 residues (Free: 108, Bound: 108, Excluded: 0)\n",
      "Downloading PDB structure '1ebb'...\n",
      "Downloading PDB structure '1h2f'...\n"
     ]
    },
    {
     "name": "stderr",
     "output_type": "stream",
     "text": [
      " 78%|███████▊  | 697/891 [12:07<02:25,  1.33it/s]"
     ]
    },
    {
     "name": "stdout",
     "output_type": "stream",
     "text": [
      "Aligned 202 residues (Free: 202, Bound: 207, Excluded: 5)\n",
      "Downloading PDB structure '1o9z'...\n",
      "Downloading PDB structure '1o9w'...\n"
     ]
    },
    {
     "name": "stderr",
     "output_type": "stream",
     "text": [
      " 78%|███████▊  | 698/891 [12:07<02:22,  1.36it/s]"
     ]
    },
    {
     "name": "stdout",
     "output_type": "stream",
     "text": [
      "Aligned 169 residues (Free: 170, Bound: 169, Excluded: 1)\n",
      "Downloading PDB structure '1l0x'...\n",
      "Downloading PDB structure '1l0y'...\n"
     ]
    },
    {
     "name": "stderr",
     "output_type": "stream",
     "text": [
      " 78%|███████▊  | 699/891 [12:09<02:58,  1.08it/s]"
     ]
    },
    {
     "name": "stdout",
     "output_type": "stream",
     "text": [
      "Aligned 236 residues (Free: 236, Bound: 236, Excluded: 0)\n",
      "Downloading PDB structure '2jhj'...\n",
      "Downloading PDB structure '2jhn'...\n"
     ]
    },
    {
     "name": "stderr",
     "output_type": "stream",
     "text": [
      " 79%|███████▊  | 700/891 [12:10<03:08,  1.01it/s]"
     ]
    },
    {
     "name": "stdout",
     "output_type": "stream",
     "text": [
      "Aligned 290 residues (Free: 290, Bound: 293, Excluded: 3)\n",
      "Downloading PDB structure '2cck'...\n",
      "Downloading PDB structure '2ccj'...\n"
     ]
    },
    {
     "name": "stderr",
     "output_type": "stream",
     "text": [
      " 79%|███████▊  | 701/891 [12:11<03:03,  1.03it/s]"
     ]
    },
    {
     "name": "stdout",
     "output_type": "stream",
     "text": [
      "Aligned 192 residues (Free: 192, Bound: 196, Excluded: 4)\n",
      "Downloading PDB structure '3crm'...\n",
      "Downloading PDB structure '3crq'...\n"
     ]
    },
    {
     "name": "stderr",
     "output_type": "stream",
     "text": [
      " 79%|███████▉  | 702/891 [12:11<02:44,  1.15it/s]"
     ]
    },
    {
     "name": "stdout",
     "output_type": "stream",
     "text": [
      "Aligned 236 residues (Free: 236, Bound: 236, Excluded: 0)\n",
      "Downloading PDB structure '1plu'...\n",
      "Downloading PDB structure '2ewe'...\n"
     ]
    },
    {
     "name": "stderr",
     "output_type": "stream",
     "text": [
      " 79%|███████▉  | 703/891 [12:12<02:43,  1.15it/s]"
     ]
    },
    {
     "name": "stdout",
     "output_type": "stream",
     "text": [
      "Aligned 352 residues (Free: 352, Bound: 352, Excluded: 0)\n",
      "Downloading PDB structure '3eo4'...\n"
     ]
    },
    {
     "name": "stderr",
     "output_type": "stream",
     "text": [
      " 79%|███████▉  | 704/891 [12:13<02:32,  1.22it/s]"
     ]
    },
    {
     "name": "stdout",
     "output_type": "stream",
     "text": [
      "Structure exists: 'data/PSCDB/PDB_structures/pdb3eo4.ent' \n",
      "Aligned 156 residues (Free: 156, Bound: 156, Excluded: 0)\n",
      "Downloading PDB structure '1ll3'...\n",
      "Downloading PDB structure '1ll2'...\n"
     ]
    },
    {
     "name": "stderr",
     "output_type": "stream",
     "text": [
      " 79%|███████▉  | 705/891 [12:14<02:22,  1.31it/s]"
     ]
    },
    {
     "name": "stdout",
     "output_type": "stream",
     "text": [
      "Aligned 255 residues (Free: 261, Bound: 255, Excluded: 6)\n",
      "Downloading PDB structure '1na3'...\n"
     ]
    },
    {
     "name": "stderr",
     "output_type": "stream",
     "text": [
      " 79%|███████▉  | 706/891 [12:14<01:58,  1.56it/s]"
     ]
    },
    {
     "name": "stdout",
     "output_type": "stream",
     "text": [
      "Structure exists: 'data/PSCDB/PDB_structures/pdb1na3.ent' \n",
      "Aligned 86 residues (Free: 86, Bound: 86, Excluded: 0)\n",
      "Downloading PDB structure '1ltu'...\n",
      "Downloading PDB structure '1ltz'...\n"
     ]
    },
    {
     "name": "stderr",
     "output_type": "stream",
     "text": [
      " 79%|███████▉  | 707/891 [12:15<02:07,  1.44it/s]"
     ]
    },
    {
     "name": "stdout",
     "output_type": "stream",
     "text": [
      "Aligned 274 residues (Free: 284, Bound: 274, Excluded: 10)\n",
      "Downloading PDB structure '3d59'...\n",
      "Downloading PDB structure '3d5e'...\n"
     ]
    },
    {
     "name": "stderr",
     "output_type": "stream",
     "text": [
      " 79%|███████▉  | 708/891 [12:16<02:50,  1.08it/s]"
     ]
    },
    {
     "name": "stdout",
     "output_type": "stream",
     "text": [
      "Aligned 372 residues (Free: 372, Bound: 373, Excluded: 1)\n",
      "Downloading PDB structure '1c3p'...\n",
      "Downloading PDB structure '1c3r'...\n"
     ]
    },
    {
     "name": "stderr",
     "output_type": "stream",
     "text": [
      " 80%|███████▉  | 709/891 [12:17<02:56,  1.03it/s]"
     ]
    },
    {
     "name": "stdout",
     "output_type": "stream",
     "text": [
      "Aligned 372 residues (Free: 372, Bound: 372, Excluded: 0)\n",
      "Downloading PDB structure '1qba'...\n",
      "Downloading PDB structure '1c7s'...\n"
     ]
    },
    {
     "name": "stderr",
     "output_type": "stream",
     "text": [
      " 80%|███████▉  | 710/891 [12:19<03:16,  1.09s/it]"
     ]
    },
    {
     "name": "stdout",
     "output_type": "stream",
     "text": [
      "Aligned 858 residues (Free: 858, Bound: 858, Excluded: 0)\n",
      "Downloading PDB structure '1l7j'...\n",
      "Downloading PDB structure '1mmu'...\n"
     ]
    },
    {
     "name": "stderr",
     "output_type": "stream",
     "text": [
      " 80%|███████▉  | 711/891 [12:20<03:38,  1.21s/it]"
     ]
    },
    {
     "name": "stdout",
     "output_type": "stream",
     "text": [
      "Aligned 338 residues (Free: 338, Bound: 339, Excluded: 1)\n",
      "Downloading PDB structure '2hzr'...\n",
      "Downloading PDB structure '2hzq'...\n"
     ]
    },
    {
     "name": "stderr",
     "output_type": "stream",
     "text": [
      " 80%|███████▉  | 712/891 [12:21<03:07,  1.05s/it]"
     ]
    },
    {
     "name": "stdout",
     "output_type": "stream",
     "text": [
      "Aligned 158 residues (Free: 158, Bound: 163, Excluded: 5)\n",
      "Downloading PDB structure '2e1y'...\n",
      "Downloading PDB structure '2e20'...\n"
     ]
    },
    {
     "name": "stderr",
     "output_type": "stream",
     "text": [
      " 80%|████████  | 713/891 [12:22<02:58,  1.00s/it]"
     ]
    },
    {
     "name": "stdout",
     "output_type": "stream",
     "text": [
      "Aligned 394 residues (Free: 394, Bound: 394, Excluded: 0)\n",
      "Downloading PDB structure '1eg3'...\n",
      "Downloading PDB structure '1eg4'...\n"
     ]
    },
    {
     "name": "stderr",
     "output_type": "stream",
     "text": [
      " 80%|████████  | 714/891 [12:22<02:43,  1.08it/s]"
     ]
    },
    {
     "name": "stdout",
     "output_type": "stream",
     "text": [
      "No common residues between 1eg3 and 1eg4\n",
      "Downloading PDB structure '2d2r'...\n",
      "Downloading PDB structure '2dtn'...\n"
     ]
    },
    {
     "name": "stderr",
     "output_type": "stream",
     "text": [
      " 80%|████████  | 715/891 [12:24<02:56,  1.00s/it]"
     ]
    },
    {
     "name": "stdout",
     "output_type": "stream",
     "text": [
      "Aligned 214 residues (Free: 215, Bound: 214, Excluded: 1)\n",
      "Downloading PDB structure '1bia'...\n",
      "Downloading PDB structure '1bib'...\n"
     ]
    },
    {
     "name": "stderr",
     "output_type": "stream",
     "text": [
      " 80%|████████  | 716/891 [12:24<02:49,  1.03it/s]"
     ]
    },
    {
     "name": "stdout",
     "output_type": "stream",
     "text": [
      "Aligned 291 residues (Free: 292, Bound: 294, Excluded: 4)\n",
      "Downloading PDB structure '2jcp'...\n",
      "Downloading PDB structure '2jcr'...\n"
     ]
    },
    {
     "name": "stderr",
     "output_type": "stream",
     "text": [
      " 80%|████████  | 717/891 [12:25<02:39,  1.09it/s]"
     ]
    },
    {
     "name": "stdout",
     "output_type": "stream",
     "text": [
      "Aligned 150 residues (Free: 150, Bound: 150, Excluded: 0)\n",
      "Downloading PDB structure '1b73'...\n",
      "Downloading PDB structure '1b74'...\n"
     ]
    },
    {
     "name": "stderr",
     "output_type": "stream",
     "text": [
      " 81%|████████  | 718/891 [12:26<02:28,  1.17it/s]"
     ]
    },
    {
     "name": "stdout",
     "output_type": "stream",
     "text": [
      "Aligned 252 residues (Free: 252, Bound: 252, Excluded: 0)\n",
      "Downloading PDB structure '1va0'...\n",
      "Downloading PDB structure '1v9a'...\n"
     ]
    },
    {
     "name": "stderr",
     "output_type": "stream",
     "text": [
      " 81%|████████  | 719/891 [12:27<02:35,  1.11it/s]"
     ]
    },
    {
     "name": "stdout",
     "output_type": "stream",
     "text": [
      "Aligned 219 residues (Free: 221, Bound: 219, Excluded: 2)\n",
      "Downloading PDB structure '2fv0'...\n",
      "Downloading PDB structure '2fv1'...\n"
     ]
    },
    {
     "name": "stderr",
     "output_type": "stream",
     "text": [
      " 81%|████████  | 720/891 [12:28<03:02,  1.07s/it]"
     ]
    },
    {
     "name": "stdout",
     "output_type": "stream",
     "text": [
      "Aligned 377 residues (Free: 377, Bound: 377, Excluded: 0)\n",
      "Downloading PDB structure '1nw8'...\n",
      "Downloading PDB structure '1nw5'...\n"
     ]
    },
    {
     "name": "stderr",
     "output_type": "stream",
     "text": [
      " 81%|████████  | 721/891 [12:29<02:48,  1.01it/s]"
     ]
    },
    {
     "name": "stdout",
     "output_type": "stream",
     "text": [
      "Aligned 270 residues (Free: 272, Bound: 270, Excluded: 2)\n",
      "Downloading PDB structure '3b9n'...\n",
      "Downloading PDB structure '3b9o'...\n"
     ]
    },
    {
     "name": "stderr",
     "output_type": "stream",
     "text": [
      " 81%|████████  | 722/891 [12:30<02:56,  1.04s/it]"
     ]
    },
    {
     "name": "stdout",
     "output_type": "stream",
     "text": [
      "Aligned 433 residues (Free: 433, Bound: 433, Excluded: 0)\n",
      "Downloading PDB structure '1sgk'...\n",
      "Downloading PDB structure '1ddt'...\n"
     ]
    },
    {
     "name": "stderr",
     "output_type": "stream",
     "text": [
      " 81%|████████  | 723/891 [12:31<02:46,  1.01it/s]"
     ]
    },
    {
     "name": "stdout",
     "output_type": "stream",
     "text": [
      "Aligned 523 residues (Free: 523, Bound: 523, Excluded: 0)\n",
      "Downloading PDB structure '1v43'...\n",
      "Downloading PDB structure '1vci'...\n"
     ]
    },
    {
     "name": "stderr",
     "output_type": "stream",
     "text": [
      " 81%|████████▏ | 724/891 [12:33<03:03,  1.10s/it]"
     ]
    },
    {
     "name": "stdout",
     "output_type": "stream",
     "text": [
      "Aligned 353 residues (Free: 353, Bound: 353, Excluded: 0)\n",
      "Downloading PDB structure '1dqg'...\n",
      "Downloading PDB structure '1fwu'...\n"
     ]
    },
    {
     "name": "stderr",
     "output_type": "stream",
     "text": [
      " 81%|████████▏ | 725/891 [12:33<02:40,  1.04it/s]"
     ]
    },
    {
     "name": "stdout",
     "output_type": "stream",
     "text": [
      "Aligned 134 residues (Free: 134, Bound: 134, Excluded: 0)\n",
      "Downloading PDB structure '2ghr'...\n",
      "Downloading PDB structure '2vdj'...\n"
     ]
    },
    {
     "name": "stderr",
     "output_type": "stream",
     "text": [
      " 81%|████████▏ | 726/891 [12:34<02:34,  1.07it/s]"
     ]
    },
    {
     "name": "stdout",
     "output_type": "stream",
     "text": [
      "Aligned 263 residues (Free: 264, Bound: 268, Excluded: 6)\n",
      "Downloading PDB structure '1xix'...\n",
      "Downloading PDB structure '1ne9'...\n"
     ]
    },
    {
     "name": "stderr",
     "output_type": "stream",
     "text": [
      " 82%|████████▏ | 727/891 [12:35<02:29,  1.10it/s]"
     ]
    },
    {
     "name": "stdout",
     "output_type": "stream",
     "text": [
      "Aligned 335 residues (Free: 335, Bound: 335, Excluded: 0)\n",
      "Downloading PDB structure '2v3j'...\n",
      "Downloading PDB structure '2v3k'...\n"
     ]
    },
    {
     "name": "stderr",
     "output_type": "stream",
     "text": [
      " 82%|████████▏ | 728/891 [12:36<02:22,  1.15it/s]"
     ]
    },
    {
     "name": "stdout",
     "output_type": "stream",
     "text": [
      "Aligned 210 residues (Free: 212, Bound: 213, Excluded: 5)\n",
      "Downloading PDB structure '1h9s'...\n",
      "Downloading PDB structure '1h9r'...\n"
     ]
    },
    {
     "name": "stderr",
     "output_type": "stream",
     "text": [
      " 82%|████████▏ | 729/891 [12:37<02:17,  1.18it/s]"
     ]
    },
    {
     "name": "stdout",
     "output_type": "stream",
     "text": [
      "Aligned 138 residues (Free: 138, Bound: 139, Excluded: 1)\n",
      "Downloading PDB structure '1edz'...\n",
      "Downloading PDB structure '1ee9'...\n"
     ]
    },
    {
     "name": "stderr",
     "output_type": "stream",
     "text": [
      " 82%|████████▏ | 730/891 [12:37<02:14,  1.20it/s]"
     ]
    },
    {
     "name": "stdout",
     "output_type": "stream",
     "text": [
      "Aligned 317 residues (Free: 317, Bound: 317, Excluded: 0)\n",
      "Downloading PDB structure '2hbj'...\n",
      "Downloading PDB structure '2hbm'...\n"
     ]
    },
    {
     "name": "stderr",
     "output_type": "stream",
     "text": [
      " 82%|████████▏ | 731/891 [12:39<02:28,  1.08it/s]"
     ]
    },
    {
     "name": "stdout",
     "output_type": "stream",
     "text": [
      "Aligned 390 residues (Free: 390, Bound: 390, Excluded: 0)\n",
      "Downloading PDB structure '2j0a'...\n",
      "Downloading PDB structure '2j0b'...\n"
     ]
    },
    {
     "name": "stderr",
     "output_type": "stream",
     "text": [
      " 82%|████████▏ | 732/891 [12:39<02:14,  1.18it/s]"
     ]
    },
    {
     "name": "stdout",
     "output_type": "stream",
     "text": [
      "Aligned 243 residues (Free: 243, Bound: 243, Excluded: 0)\n",
      "Downloading PDB structure '2vx4'...\n",
      "Downloading PDB structure '2vx7'...\n"
     ]
    },
    {
     "name": "stderr",
     "output_type": "stream",
     "text": [
      " 82%|████████▏ | 733/891 [12:40<02:18,  1.14it/s]"
     ]
    },
    {
     "name": "stdout",
     "output_type": "stream",
     "text": [
      "Aligned 367 residues (Free: 367, Bound: 367, Excluded: 0)\n",
      "Downloading PDB structure '3cxu'...\n",
      "Downloading PDB structure '2cjp'...\n"
     ]
    },
    {
     "name": "stderr",
     "output_type": "stream",
     "text": [
      " 82%|████████▏ | 734/891 [12:41<02:29,  1.05it/s]"
     ]
    },
    {
     "name": "stdout",
     "output_type": "stream",
     "text": [
      "Aligned 320 residues (Free: 320, Bound: 320, Excluded: 0)\n",
      "Downloading PDB structure '2g0a'...\n",
      "Downloading PDB structure '2g09'...\n"
     ]
    },
    {
     "name": "stderr",
     "output_type": "stream",
     "text": [
      " 82%|████████▏ | 735/891 [12:43<02:45,  1.06s/it]"
     ]
    },
    {
     "name": "stdout",
     "output_type": "stream",
     "text": [
      "Aligned 283 residues (Free: 283, Bound: 283, Excluded: 0)\n",
      "Downloading PDB structure '1ty0'...\n",
      "Downloading PDB structure '1ty2'...\n"
     ]
    },
    {
     "name": "stderr",
     "output_type": "stream",
     "text": [
      " 83%|████████▎ | 736/891 [12:43<02:35,  1.00s/it]"
     ]
    },
    {
     "name": "stdout",
     "output_type": "stream",
     "text": [
      "Aligned 211 residues (Free: 211, Bound: 211, Excluded: 0)\n",
      "Downloading PDB structure '1cem'...\n",
      "Downloading PDB structure '1kwf'...\n"
     ]
    },
    {
     "name": "stderr",
     "output_type": "stream",
     "text": [
      " 83%|████████▎ | 737/891 [12:45<02:49,  1.10s/it]"
     ]
    },
    {
     "name": "stdout",
     "output_type": "stream",
     "text": [
      "Aligned 363 residues (Free: 363, Bound: 363, Excluded: 0)\n",
      "Downloading PDB structure '2jfu'...\n",
      "Downloading PDB structure '2jfv'...\n"
     ]
    },
    {
     "name": "stderr",
     "output_type": "stream",
     "text": [
      " 83%|████████▎ | 738/891 [12:46<02:36,  1.02s/it]"
     ]
    },
    {
     "name": "stdout",
     "output_type": "stream",
     "text": [
      "Aligned 270 residues (Free: 271, Bound: 270, Excluded: 1)\n",
      "Downloading PDB structure '1zs7'...\n",
      "Downloading PDB structure '2cx1'...\n"
     ]
    },
    {
     "name": "stderr",
     "output_type": "stream",
     "text": [
      " 83%|████████▎ | 739/891 [12:46<02:19,  1.09it/s]"
     ]
    },
    {
     "name": "stdout",
     "output_type": "stream",
     "text": [
      "Aligned 181 residues (Free: 184, Bound: 181, Excluded: 3)\n",
      "Downloading PDB structure '1kuf'...\n",
      "Downloading PDB structure '1kug'...\n"
     ]
    },
    {
     "name": "stderr",
     "output_type": "stream",
     "text": [
      " 83%|████████▎ | 740/891 [12:47<02:24,  1.04it/s]"
     ]
    },
    {
     "name": "stdout",
     "output_type": "stream",
     "text": [
      "Aligned 201 residues (Free: 201, Bound: 201, Excluded: 0)\n",
      "Downloading PDB structure '1mpg'...\n",
      "Downloading PDB structure '1pvs'...\n"
     ]
    },
    {
     "name": "stderr",
     "output_type": "stream",
     "text": [
      " 83%|████████▎ | 741/891 [12:48<02:17,  1.09it/s]"
     ]
    },
    {
     "name": "stdout",
     "output_type": "stream",
     "text": [
      "Aligned 282 residues (Free: 282, Bound: 282, Excluded: 0)\n",
      "Downloading PDB structure '1q6h'...\n",
      "Downloading PDB structure '1q6i'...\n"
     ]
    },
    {
     "name": "stderr",
     "output_type": "stream",
     "text": [
      " 83%|████████▎ | 742/891 [12:49<02:16,  1.09it/s]"
     ]
    },
    {
     "name": "stdout",
     "output_type": "stream",
     "text": [
      "Aligned 208 residues (Free: 208, Bound: 208, Excluded: 0)\n",
      "Downloading PDB structure '2yvn'...\n",
      "Downloading PDB structure '2yvp'...\n"
     ]
    },
    {
     "name": "stderr",
     "output_type": "stream",
     "text": [
      " 83%|████████▎ | 743/891 [12:50<02:06,  1.17it/s]"
     ]
    },
    {
     "name": "stdout",
     "output_type": "stream",
     "text": [
      "Aligned 182 residues (Free: 182, Bound: 182, Excluded: 0)\n",
      "Downloading PDB structure '2p0f'...\n",
      "Downloading PDB structure '2p0h'...\n"
     ]
    },
    {
     "name": "stderr",
     "output_type": "stream",
     "text": [
      " 84%|████████▎ | 744/891 [12:50<01:49,  1.34it/s]"
     ]
    },
    {
     "name": "stdout",
     "output_type": "stream",
     "text": [
      "Aligned 118 residues (Free: 119, Bound: 118, Excluded: 1)\n",
      "Downloading PDB structure '3cj1'...\n",
      "Downloading PDB structure '3cja'...\n"
     ]
    },
    {
     "name": "stderr",
     "output_type": "stream",
     "text": [
      " 84%|████████▎ | 745/891 [12:52<02:14,  1.09it/s]"
     ]
    },
    {
     "name": "stdout",
     "output_type": "stream",
     "text": [
      "Aligned 419 residues (Free: 419, Bound: 419, Excluded: 0)\n",
      "Downloading PDB structure '2bvy'...\n",
      "Downloading PDB structure '2bvt'...\n"
     ]
    },
    {
     "name": "stderr",
     "output_type": "stream",
     "text": [
      " 84%|████████▎ | 746/891 [12:53<02:18,  1.05it/s]"
     ]
    },
    {
     "name": "stdout",
     "output_type": "stream",
     "text": [
      "Aligned 451 residues (Free: 451, Bound: 451, Excluded: 0)\n",
      "Downloading PDB structure '2cb9'...\n",
      "Downloading PDB structure '2cbg'...\n"
     ]
    },
    {
     "name": "stderr",
     "output_type": "stream",
     "text": [
      " 84%|████████▍ | 747/891 [12:53<02:10,  1.10it/s]"
     ]
    },
    {
     "name": "stdout",
     "output_type": "stream",
     "text": [
      "Aligned 210 residues (Free: 212, Bound: 210, Excluded: 2)\n",
      "Downloading PDB structure '2hkn'...\n",
      "Downloading PDB structure '2hl3'...\n"
     ]
    },
    {
     "name": "stderr",
     "output_type": "stream",
     "text": [
      " 84%|████████▍ | 748/891 [12:54<01:59,  1.20it/s]"
     ]
    },
    {
     "name": "stdout",
     "output_type": "stream",
     "text": [
      "Aligned 76 residues (Free: 76, Bound: 76, Excluded: 0)\n",
      "Downloading PDB structure '1w17'...\n",
      "Downloading PDB structure '1w1a'...\n"
     ]
    },
    {
     "name": "stderr",
     "output_type": "stream",
     "text": [
      " 84%|████████▍ | 749/891 [12:55<02:03,  1.15it/s]"
     ]
    },
    {
     "name": "stdout",
     "output_type": "stream",
     "text": [
      "No common residues between 1w17 and 1w1a\n",
      "Downloading PDB structure '1lbq'...\n",
      "Downloading PDB structure '1l8x'...\n"
     ]
    },
    {
     "name": "stderr",
     "output_type": "stream",
     "text": [
      " 84%|████████▍ | 750/891 [12:57<02:30,  1.07s/it]"
     ]
    },
    {
     "name": "stdout",
     "output_type": "stream",
     "text": [
      "Aligned 355 residues (Free: 356, Bound: 355, Excluded: 1)\n",
      "Downloading PDB structure '1wxd'...\n",
      "Downloading PDB structure '2ev9'...\n"
     ]
    },
    {
     "name": "stderr",
     "output_type": "stream",
     "text": [
      " 84%|████████▍ | 751/891 [12:58<02:25,  1.04s/it]"
     ]
    },
    {
     "name": "stdout",
     "output_type": "stream",
     "text": [
      "Aligned 261 residues (Free: 263, Bound: 261, Excluded: 2)\n",
      "Downloading PDB structure '1w9s'...\n",
      "Downloading PDB structure '1w9w'...\n"
     ]
    },
    {
     "name": "stderr",
     "output_type": "stream",
     "text": [
      " 84%|████████▍ | 752/891 [12:58<02:16,  1.02it/s]"
     ]
    },
    {
     "name": "stdout",
     "output_type": "stream",
     "text": [
      "Aligned 134 residues (Free: 134, Bound: 134, Excluded: 0)\n",
      "Downloading PDB structure '153l'...\n",
      "Downloading PDB structure '1lsp'...\n"
     ]
    },
    {
     "name": "stderr",
     "output_type": "stream",
     "text": [
      " 85%|████████▍ | 753/891 [12:59<02:05,  1.10it/s]"
     ]
    },
    {
     "name": "stdout",
     "output_type": "stream",
     "text": [
      "Aligned 185 residues (Free: 185, Bound: 185, Excluded: 0)\n",
      "Downloading PDB structure '2jh1'...\n",
      "Downloading PDB structure '2jh7'...\n"
     ]
    },
    {
     "name": "stderr",
     "output_type": "stream",
     "text": [
      " 85%|████████▍ | 754/891 [13:00<02:01,  1.13it/s]"
     ]
    },
    {
     "name": "stdout",
     "output_type": "stream",
     "text": [
      "Aligned 225 residues (Free: 234, Bound: 225, Excluded: 9)\n",
      "Downloading PDB structure '2e1u'...\n",
      "Downloading PDB structure '2e1t'...\n"
     ]
    },
    {
     "name": "stderr",
     "output_type": "stream",
     "text": [
      " 85%|████████▍ | 755/891 [13:01<02:18,  1.02s/it]"
     ]
    },
    {
     "name": "stdout",
     "output_type": "stream",
     "text": [
      "Aligned 440 residues (Free: 440, Bound: 440, Excluded: 0)\n",
      "Downloading PDB structure '1yd3'...\n",
      "Downloading PDB structure '1yd4'...\n"
     ]
    },
    {
     "name": "stderr",
     "output_type": "stream",
     "text": [
      " 85%|████████▍ | 756/891 [13:02<02:01,  1.11it/s]"
     ]
    },
    {
     "name": "stdout",
     "output_type": "stream",
     "text": [
      "Aligned 89 residues (Free: 90, Bound: 89, Excluded: 1)\n",
      "Downloading PDB structure '1tf5'...\n",
      "Downloading PDB structure '1tf2'...\n"
     ]
    },
    {
     "name": "stderr",
     "output_type": "stream",
     "text": [
      " 85%|████████▍ | 757/891 [13:03<02:10,  1.02it/s]"
     ]
    },
    {
     "name": "stdout",
     "output_type": "stream",
     "text": [
      "Aligned 772 residues (Free: 775, Bound: 772, Excluded: 3)\n",
      "Downloading PDB structure '2ciq'...\n",
      "Downloading PDB structure '2cir'...\n"
     ]
    },
    {
     "name": "stderr",
     "output_type": "stream",
     "text": [
      " 85%|████████▌ | 758/891 [13:04<02:14,  1.01s/it]"
     ]
    },
    {
     "name": "stdout",
     "output_type": "stream",
     "text": [
      "Aligned 286 residues (Free: 287, Bound: 287, Excluded: 2)\n",
      "Downloading PDB structure '2pgd'...\n",
      "Downloading PDB structure '1pgn'...\n"
     ]
    },
    {
     "name": "stderr",
     "output_type": "stream",
     "text": [
      " 85%|████████▌ | 759/891 [13:06<02:29,  1.13s/it]"
     ]
    },
    {
     "name": "stdout",
     "output_type": "stream",
     "text": [
      "Aligned 473 residues (Free: 473, Bound: 473, Excluded: 0)\n",
      "Downloading PDB structure '1xw3'...\n",
      "Downloading PDB structure '3cyi'...\n"
     ]
    },
    {
     "name": "stderr",
     "output_type": "stream",
     "text": [
      " 85%|████████▌ | 760/891 [13:06<02:08,  1.02it/s]"
     ]
    },
    {
     "name": "stdout",
     "output_type": "stream",
     "text": [
      "Aligned 107 residues (Free: 110, Bound: 107, Excluded: 3)\n",
      "Downloading PDB structure '3csr'...\n",
      "Downloading PDB structure '3ct5'...\n"
     ]
    },
    {
     "name": "stderr",
     "output_type": "stream",
     "text": [
      " 85%|████████▌ | 761/891 [13:07<01:52,  1.15it/s]"
     ]
    },
    {
     "name": "stdout",
     "output_type": "stream",
     "text": [
      "Aligned 159 residues (Free: 159, Bound: 159, Excluded: 0)\n",
      "Downloading PDB structure '1smn'...\n",
      "Downloading PDB structure '1g8t'...\n"
     ]
    },
    {
     "name": "stderr",
     "output_type": "stream",
     "text": [
      " 86%|████████▌ | 762/891 [13:08<02:01,  1.06it/s]"
     ]
    },
    {
     "name": "stdout",
     "output_type": "stream",
     "text": [
      "Aligned 241 residues (Free: 241, Bound: 241, Excluded: 0)\n",
      "Downloading PDB structure '1obs'...\n",
      "Downloading PDB structure '1ifu'...\n"
     ]
    },
    {
     "name": "stderr",
     "output_type": "stream",
     "text": [
      " 86%|████████▌ | 763/891 [13:09<01:54,  1.12it/s]"
     ]
    },
    {
     "name": "stdout",
     "output_type": "stream",
     "text": [
      "Aligned 257 residues (Free: 257, Bound: 258, Excluded: 1)\n",
      "Downloading PDB structure '1wos'...\n",
      "Downloading PDB structure '1wop'...\n"
     ]
    },
    {
     "name": "stderr",
     "output_type": "stream",
     "text": [
      " 86%|████████▌ | 764/891 [13:10<01:55,  1.10it/s]"
     ]
    },
    {
     "name": "stdout",
     "output_type": "stream",
     "text": [
      "Aligned 361 residues (Free: 361, Bound: 362, Excluded: 1)\n",
      "Downloading PDB structure '2nsg'...\n",
      "Downloading PDB structure '2nsf'...\n"
     ]
    },
    {
     "name": "stderr",
     "output_type": "stream",
     "text": [
      " 86%|████████▌ | 765/891 [13:11<01:59,  1.05it/s]"
     ]
    },
    {
     "name": "stdout",
     "output_type": "stream",
     "text": [
      "Aligned 240 residues (Free: 240, Bound: 240, Excluded: 0)\n",
      "Downloading PDB structure '1auo'...\n",
      "Downloading PDB structure '1aur'...\n"
     ]
    },
    {
     "name": "stderr",
     "output_type": "stream",
     "text": [
      " 86%|████████▌ | 766/891 [13:12<02:00,  1.03it/s]"
     ]
    },
    {
     "name": "stdout",
     "output_type": "stream",
     "text": [
      "Aligned 218 residues (Free: 218, Bound: 218, Excluded: 0)\n",
      "Downloading PDB structure '2r57'...\n",
      "Downloading PDB structure '2r5m'...\n"
     ]
    },
    {
     "name": "stderr",
     "output_type": "stream",
     "text": [
      " 86%|████████▌ | 767/891 [13:12<01:45,  1.17it/s]"
     ]
    },
    {
     "name": "stdout",
     "output_type": "stream",
     "text": [
      "Aligned 210 residues (Free: 210, Bound: 212, Excluded: 2)\n",
      "Downloading PDB structure '1jly'...\n",
      "Downloading PDB structure '1jlx'...\n"
     ]
    },
    {
     "name": "stderr",
     "output_type": "stream",
     "text": [
      " 86%|████████▌ | 768/891 [13:13<01:55,  1.06it/s]"
     ]
    },
    {
     "name": "stdout",
     "output_type": "stream",
     "text": [
      "Aligned 299 residues (Free: 299, Bound: 299, Excluded: 0)\n",
      "Downloading PDB structure '1i9y'...\n",
      "Downloading PDB structure '1i9z'...\n"
     ]
    },
    {
     "name": "stderr",
     "output_type": "stream",
     "text": [
      " 86%|████████▋ | 769/891 [13:14<01:52,  1.09it/s]"
     ]
    },
    {
     "name": "stdout",
     "output_type": "stream",
     "text": [
      "Aligned 336 residues (Free: 336, Bound: 336, Excluded: 0)\n",
      "Downloading PDB structure '2fma'...\n",
      "Downloading PDB structure '2fk1'...\n"
     ]
    },
    {
     "name": "stderr",
     "output_type": "stream",
     "text": [
      " 86%|████████▋ | 770/891 [13:15<01:38,  1.23it/s]"
     ]
    },
    {
     "name": "stdout",
     "output_type": "stream",
     "text": [
      "Aligned 59 residues (Free: 59, Bound: 59, Excluded: 0)\n",
      "Downloading PDB structure '2r60'...\n",
      "Downloading PDB structure '2r68'...\n"
     ]
    },
    {
     "name": "stderr",
     "output_type": "stream",
     "text": [
      " 87%|████████▋ | 771/891 [13:16<01:54,  1.05it/s]"
     ]
    },
    {
     "name": "stdout",
     "output_type": "stream",
     "text": [
      "Aligned 456 residues (Free: 456, Bound: 456, Excluded: 0)\n",
      "Downloading PDB structure '1g5r'...\n",
      "Downloading PDB structure '1g5t'...\n"
     ]
    },
    {
     "name": "stderr",
     "output_type": "stream",
     "text": [
      " 87%|████████▋ | 772/891 [13:17<01:43,  1.14it/s]"
     ]
    },
    {
     "name": "stdout",
     "output_type": "stream",
     "text": [
      "Aligned 152 residues (Free: 152, Bound: 157, Excluded: 5)\n",
      "Downloading PDB structure '1jsy'...\n",
      "Downloading PDB structure '1zsh'...\n"
     ]
    },
    {
     "name": "stderr",
     "output_type": "stream",
     "text": [
      " 87%|████████▋ | 773/891 [13:18<01:43,  1.14it/s]"
     ]
    },
    {
     "name": "stdout",
     "output_type": "stream",
     "text": [
      "Aligned 354 residues (Free: 358, Bound: 354, Excluded: 4)\n",
      "Downloading PDB structure '2r11'...\n",
      "Structure exists: 'data/PSCDB/PDB_structures/pdb2r11.ent' \n"
     ]
    },
    {
     "name": "stderr",
     "output_type": "stream",
     "text": [
      " 87%|████████▋ | 774/891 [13:19<01:42,  1.14it/s]"
     ]
    },
    {
     "name": "stdout",
     "output_type": "stream",
     "text": [
      "Aligned 274 residues (Free: 274, Bound: 274, Excluded: 0)\n",
      "Downloading PDB structure '2g7e'...\n",
      "Downloading PDB structure '2g7f'...\n"
     ]
    },
    {
     "name": "stderr",
     "output_type": "stream",
     "text": [
      " 87%|████████▋ | 775/891 [13:19<01:37,  1.19it/s]"
     ]
    },
    {
     "name": "stdout",
     "output_type": "stream",
     "text": [
      "Aligned 207 residues (Free: 207, Bound: 208, Excluded: 1)\n",
      "Downloading PDB structure '1j23'...\n",
      "Downloading PDB structure '1j25'...\n"
     ]
    },
    {
     "name": "stderr",
     "output_type": "stream",
     "text": [
      " 87%|████████▋ | 776/891 [13:20<01:25,  1.34it/s]"
     ]
    },
    {
     "name": "stdout",
     "output_type": "stream",
     "text": [
      "Aligned 131 residues (Free: 131, Bound: 133, Excluded: 2)\n",
      "Downloading PDB structure '2o4u'...\n",
      "Downloading PDB structure '2o48'...\n"
     ]
    },
    {
     "name": "stderr",
     "output_type": "stream",
     "text": [
      " 87%|████████▋ | 777/891 [13:20<01:18,  1.44it/s]"
     ]
    },
    {
     "name": "stdout",
     "output_type": "stream",
     "text": [
      "Aligned 331 residues (Free: 331, Bound: 331, Excluded: 0)\n",
      "Downloading PDB structure '2vl3'...\n",
      "Downloading PDB structure '2vl2'...\n"
     ]
    },
    {
     "name": "stderr",
     "output_type": "stream",
     "text": [
      " 87%|████████▋ | 778/891 [13:21<01:28,  1.28it/s]"
     ]
    },
    {
     "name": "stdout",
     "output_type": "stream",
     "text": [
      "Aligned 161 residues (Free: 162, Bound: 161, Excluded: 1)\n",
      "Downloading PDB structure '3byl'...\n",
      "Downloading PDB structure '3byn'...\n"
     ]
    },
    {
     "name": "stderr",
     "output_type": "stream",
     "text": [
      " 87%|████████▋ | 779/891 [13:22<01:35,  1.17it/s]"
     ]
    },
    {
     "name": "stdout",
     "output_type": "stream",
     "text": [
      "Aligned 440 residues (Free: 440, Bound: 440, Excluded: 0)\n",
      "Downloading PDB structure '1yqg'...\n",
      "Downloading PDB structure '2ag8'...\n"
     ]
    },
    {
     "name": "stderr",
     "output_type": "stream",
     "text": [
      " 88%|████████▊ | 780/891 [13:23<01:35,  1.16it/s]"
     ]
    },
    {
     "name": "stdout",
     "output_type": "stream",
     "text": [
      "Aligned 254 residues (Free: 254, Bound: 254, Excluded: 0)\n",
      "Downloading PDB structure '2c4k'...\n"
     ]
    },
    {
     "name": "stderr",
     "output_type": "stream",
     "text": [
      " 88%|████████▊ | 781/891 [13:24<01:38,  1.11it/s]"
     ]
    },
    {
     "name": "stdout",
     "output_type": "stream",
     "text": [
      "Structure exists: 'data/PSCDB/PDB_structures/pdb2c4k.ent' \n",
      "Aligned 305 residues (Free: 305, Bound: 305, Excluded: 0)\n",
      "Downloading PDB structure '2qtf'...\n",
      "Downloading PDB structure '2qth'...\n"
     ]
    },
    {
     "name": "stderr",
     "output_type": "stream",
     "text": [
      " 88%|████████▊ | 782/891 [13:25<01:38,  1.11it/s]"
     ]
    },
    {
     "name": "stdout",
     "output_type": "stream",
     "text": [
      "Aligned 311 residues (Free: 311, Bound: 311, Excluded: 0)\n",
      "Downloading PDB structure '3eua'...\n",
      "Structure exists: 'data/PSCDB/PDB_structures/pdb3eua.ent' \n"
     ]
    },
    {
     "name": "stderr",
     "output_type": "stream",
     "text": [
      " 88%|████████▊ | 783/891 [13:27<01:59,  1.11s/it]"
     ]
    },
    {
     "name": "stdout",
     "output_type": "stream",
     "text": [
      "Aligned 319 residues (Free: 319, Bound: 319, Excluded: 0)\n",
      "Downloading PDB structure '1hf8'...\n",
      "Downloading PDB structure '1hg2'...\n"
     ]
    },
    {
     "name": "stderr",
     "output_type": "stream",
     "text": [
      " 88%|████████▊ | 784/891 [13:28<01:49,  1.03s/it]"
     ]
    },
    {
     "name": "stdout",
     "output_type": "stream",
     "text": [
      "Aligned 263 residues (Free: 263, Bound: 263, Excluded: 0)\n",
      "Downloading PDB structure '3c7m'...\n"
     ]
    },
    {
     "name": "stderr",
     "output_type": "stream",
     "text": [
      " 88%|████████▊ | 785/891 [13:28<01:33,  1.13it/s]"
     ]
    },
    {
     "name": "stdout",
     "output_type": "stream",
     "text": [
      "Structure exists: 'data/PSCDB/PDB_structures/pdb3c7m.ent' \n",
      "Aligned 195 residues (Free: 195, Bound: 195, Excluded: 0)\n",
      "Downloading PDB structure '2q22'...\n"
     ]
    },
    {
     "name": "stderr",
     "output_type": "stream",
     "text": [
      " 88%|████████▊ | 786/891 [13:29<01:21,  1.28it/s]"
     ]
    },
    {
     "name": "stdout",
     "output_type": "stream",
     "text": [
      "Structure exists: 'data/PSCDB/PDB_structures/pdb2q22.ent' \n",
      "Aligned 128 residues (Free: 128, Bound: 128, Excluded: 0)\n",
      "Downloading PDB structure '1g0z'...\n",
      "Downloading PDB structure '1u4j'...\n"
     ]
    },
    {
     "name": "stderr",
     "output_type": "stream",
     "text": [
      " 88%|████████▊ | 787/891 [13:30<01:30,  1.15it/s]"
     ]
    },
    {
     "name": "stdout",
     "output_type": "stream",
     "text": [
      "Aligned 118 residues (Free: 118, Bound: 118, Excluded: 0)\n",
      "Downloading PDB structure '2qb0'...\n"
     ]
    },
    {
     "name": "stderr",
     "output_type": "stream",
     "text": [
      " 89%|████████▊ | 789/891 [13:31<00:59,  1.71it/s]"
     ]
    },
    {
     "name": "stdout",
     "output_type": "stream",
     "text": [
      "Structure exists: 'data/PSCDB/PDB_structures/pdb2qb0.ent' \n",
      "Aligned 77 residues (Free: 77, Bound: 77, Excluded: 0)\n",
      "Structure exists: 'data/PSCDB/PDB_structures/pdb1obp.ent' \n",
      "Structure exists: 'data/PSCDB/PDB_structures/pdb1pbo.ent' \n",
      "Aligned 156 residues (Free: 158, Bound: 157, Excluded: 3)\n",
      "Structure exists: 'data/PSCDB/PDB_structures/pdb1na5.ent' \n"
     ]
    },
    {
     "name": "stderr",
     "output_type": "stream",
     "text": [
      " 89%|████████▉ | 792/891 [13:31<00:28,  3.53it/s]"
     ]
    },
    {
     "name": "stdout",
     "output_type": "stream",
     "text": [
      "Structure exists: 'data/PSCDB/PDB_structures/pdb1ido.ent' \n",
      "Aligned 184 residues (Free: 195, Bound: 184, Excluded: 11)\n",
      "Structure exists: 'data/PSCDB/PDB_structures/pdb3wrp.ent' \n",
      "Structure exists: 'data/PSCDB/PDB_structures/pdb2oz9.ent' \n",
      "No common residues between 3wrp and 2oz9\n",
      "Structure exists: 'data/PSCDB/PDB_structures/pdb2f08.ent' \n",
      "Structure exists: 'data/PSCDB/PDB_structures/pdb1xwv.ent' \n",
      "Aligned 129 residues (Free: 129, Bound: 129, Excluded: 0)\n",
      "Structure exists: 'data/PSCDB/PDB_structures/pdb2quk.ent' \n",
      "Structure exists: 'data/PSCDB/PDB_structures/pdb2quj.ent' \n"
     ]
    },
    {
     "name": "stderr",
     "output_type": "stream",
     "text": [
      " 89%|████████▉ | 794/891 [13:31<00:25,  3.79it/s]"
     ]
    },
    {
     "name": "stdout",
     "output_type": "stream",
     "text": [
      "Aligned 374 residues (Free: 374, Bound: 388, Excluded: 14)\n",
      "Structure exists: 'data/PSCDB/PDB_structures/pdb2acf.ent' \n",
      "Structure exists: 'data/PSCDB/PDB_structures/pdb2fav.ent' \n",
      "No common residues between 2acf and 2fav\n",
      "Structure exists: 'data/PSCDB/PDB_structures/pdb2i7h.ent' \n",
      "Structure exists: 'data/PSCDB/PDB_structures/pdb2i7h.ent' \n"
     ]
    },
    {
     "name": "stderr",
     "output_type": "stream",
     "text": [
      " 89%|████████▉ | 796/891 [13:32<00:27,  3.51it/s]"
     ]
    },
    {
     "name": "stdout",
     "output_type": "stream",
     "text": [
      "Aligned 183 residues (Free: 183, Bound: 183, Excluded: 0)\n",
      "Structure exists: 'data/PSCDB/PDB_structures/pdb1ozt.ent' \n",
      "Structure exists: 'data/PSCDB/PDB_structures/pdb1spd.ent' \n",
      "No common residues between 1ozt and 1spd\n",
      "Structure exists: 'data/PSCDB/PDB_structures/pdb1uu0.ent' \n"
     ]
    },
    {
     "name": "stderr",
     "output_type": "stream",
     "text": [
      " 89%|████████▉ | 797/891 [13:32<00:24,  3.76it/s]"
     ]
    },
    {
     "name": "stdout",
     "output_type": "stream",
     "text": [
      "Structure exists: 'data/PSCDB/PDB_structures/pdb1uu2.ent' \n",
      "Aligned 321 residues (Free: 328, Bound: 321, Excluded: 7)\n",
      "Structure exists: 'data/PSCDB/PDB_structures/pdb1beo.ent' \n"
     ]
    },
    {
     "name": "stderr",
     "output_type": "stream",
     "text": [
      " 90%|████████▉ | 798/891 [13:32<00:25,  3.71it/s]"
     ]
    },
    {
     "name": "stdout",
     "output_type": "stream",
     "text": [
      "Structure exists: 'data/PSCDB/PDB_structures/pdb1lri.ent' \n",
      "Aligned 98 residues (Free: 98, Bound: 98, Excluded: 0)\n",
      "Structure exists: 'data/PSCDB/PDB_structures/pdb2sbt.ent' \n",
      "Structure exists: 'data/PSCDB/PDB_structures/pdb1ubn.ent' \n",
      "Aligned 274 residues (Free: 275, Bound: 274, Excluded: 1)\n",
      "Structure exists: 'data/PSCDB/PDB_structures/pdb1hxj.ent' \n"
     ]
    },
    {
     "name": "stderr",
     "output_type": "stream",
     "text": [
      " 90%|████████▉ | 800/891 [13:33<00:21,  4.24it/s]"
     ]
    },
    {
     "name": "stdout",
     "output_type": "stream",
     "text": [
      "Structure exists: 'data/PSCDB/PDB_structures/pdb1v08.ent' \n",
      "Aligned 484 residues (Free: 490, Bound: 490, Excluded: 12)\n",
      "Structure exists: 'data/PSCDB/PDB_structures/pdb1gy0.ent' \n",
      "Structure exists: 'data/PSCDB/PDB_structures/pdb1gxz.ent' \n",
      "Aligned 223 residues (Free: 223, Bound: 223, Excluded: 0)\n",
      "Structure exists: 'data/PSCDB/PDB_structures/pdb1fqn.ent' \n",
      "Structure exists: 'data/PSCDB/PDB_structures/pdb1xev.ent' \n"
     ]
    },
    {
     "name": "stderr",
     "output_type": "stream",
     "text": [
      " 90%|█████████ | 804/891 [13:33<00:15,  5.65it/s]"
     ]
    },
    {
     "name": "stdout",
     "output_type": "stream",
     "text": [
      "Aligned 257 residues (Free: 257, Bound: 258, Excluded: 1)\n",
      "Structure exists: 'data/PSCDB/PDB_structures/pdb2qvk.ent' \n",
      "Structure exists: 'data/PSCDB/PDB_structures/pdb2qvm.ent' \n",
      "Aligned 116 residues (Free: 121, Bound: 116, Excluded: 5)\n",
      "Structure exists: 'data/PSCDB/PDB_structures/pdb1x8e.ent' \n",
      "Structure exists: 'data/PSCDB/PDB_structures/pdb1x82.ent' \n",
      "Aligned 184 residues (Free: 189, Bound: 185, Excluded: 6)\n",
      "Structure exists: 'data/PSCDB/PDB_structures/pdb2qbv.ent' \n",
      "Structure exists: 'data/PSCDB/PDB_structures/pdb2vkl.ent' \n",
      "Aligned 62 residues (Free: 73, Bound: 77, Excluded: 26)\n",
      "Structure exists: 'data/PSCDB/PDB_structures/pdb2qzp.ent' \n",
      "Structure exists: 'data/PSCDB/PDB_structures/pdb1ve7.ent' \n"
     ]
    },
    {
     "name": "stderr",
     "output_type": "stream",
     "text": [
      " 91%|█████████ | 807/891 [13:34<00:16,  5.19it/s]"
     ]
    },
    {
     "name": "stdout",
     "output_type": "stream",
     "text": [
      "Aligned 560 residues (Free: 560, Bound: 573, Excluded: 13)\n",
      "Structure exists: 'data/PSCDB/PDB_structures/pdb2c7i.ent' \n",
      "Structure exists: 'data/PSCDB/PDB_structures/pdb2art.ent' \n",
      "Aligned 243 residues (Free: 244, Bound: 247, Excluded: 5)\n",
      "Structure exists: 'data/PSCDB/PDB_structures/pdb2dg0.ent' \n",
      "Structure exists: 'data/PSCDB/PDB_structures/pdb2dso.ent' \n",
      "Aligned 317 residues (Free: 317, Bound: 322, Excluded: 5)\n"
     ]
    },
    {
     "name": "stderr",
     "output_type": "stream",
     "text": [
      " 91%|█████████ | 808/891 [13:35<00:27,  3.04it/s]"
     ]
    },
    {
     "name": "stdout",
     "output_type": "stream",
     "text": [
      "Structure exists: 'data/PSCDB/PDB_structures/pdb2zf3.ent' \n",
      "Structure exists: 'data/PSCDB/PDB_structures/pdb2zf4.ent' \n"
     ]
    },
    {
     "name": "stderr",
     "output_type": "stream",
     "text": [
      " 91%|█████████ | 809/891 [13:35<00:30,  2.66it/s]"
     ]
    },
    {
     "name": "stdout",
     "output_type": "stream",
     "text": [
      "Aligned 185 residues (Free: 186, Bound: 187, Excluded: 3)\n",
      "Structure exists: 'data/PSCDB/PDB_structures/pdb2box.ent' \n",
      "Structure exists: 'data/PSCDB/PDB_structures/pdb2bo2.ent' \n",
      "Aligned 134 residues (Free: 135, Bound: 140, Excluded: 7)\n",
      "Structure exists: 'data/PSCDB/PDB_structures/pdb2av8.ent' \n",
      "Structure exists: 'data/PSCDB/PDB_structures/pdb1pfr.ent' \n"
     ]
    },
    {
     "name": "stderr",
     "output_type": "stream",
     "text": [
      " 91%|█████████ | 811/891 [13:36<00:21,  3.70it/s]"
     ]
    },
    {
     "name": "stdout",
     "output_type": "stream",
     "text": [
      "Aligned 340 residues (Free: 340, Bound: 340, Excluded: 0)\n",
      "Structure exists: 'data/PSCDB/PDB_structures/pdb1jiq.ent' \n"
     ]
    },
    {
     "name": "stderr",
     "output_type": "stream",
     "text": [
      " 91%|█████████ | 812/891 [13:36<00:26,  2.94it/s]"
     ]
    },
    {
     "name": "stdout",
     "output_type": "stream",
     "text": [
      "Structure exists: 'data/PSCDB/PDB_structures/pdb1nuh.ent' \n",
      "Aligned 555 residues (Free: 557, Bound: 555, Excluded: 2)\n",
      "Structure exists: 'data/PSCDB/PDB_structures/pdb1psr.ent' \n",
      "Structure exists: 'data/PSCDB/PDB_structures/pdb3psr.ent' \n",
      "Aligned 96 residues (Free: 100, Bound: 96, Excluded: 4)\n",
      "Structure exists: 'data/PSCDB/PDB_structures/pdb2rca.ent' \n"
     ]
    },
    {
     "name": "stderr",
     "output_type": "stream",
     "text": [
      " 91%|█████████▏| 814/891 [13:37<00:19,  3.95it/s]"
     ]
    },
    {
     "name": "stdout",
     "output_type": "stream",
     "text": [
      "Structure exists: 'data/PSCDB/PDB_structures/pdb2rcb.ent' \n",
      "Aligned 282 residues (Free: 282, Bound: 282, Excluded: 0)\n",
      "Structure exists: 'data/PSCDB/PDB_structures/pdb2yrf.ent' \n",
      "Structure exists: 'data/PSCDB/PDB_structures/pdb2yvk.ent' \n"
     ]
    },
    {
     "name": "stderr",
     "output_type": "stream",
     "text": [
      " 92%|█████████▏| 816/891 [13:37<00:19,  3.81it/s]"
     ]
    },
    {
     "name": "stdout",
     "output_type": "stream",
     "text": [
      "Aligned 340 residues (Free: 340, Bound: 349, Excluded: 9)\n",
      "Structure exists: 'data/PSCDB/PDB_structures/pdb1iun.ent' \n",
      "Structure exists: 'data/PSCDB/PDB_structures/pdb1uk9.ent' \n",
      "Aligned 271 residues (Free: 272, Bound: 271, Excluded: 1)\n",
      "Structure exists: 'data/PSCDB/PDB_structures/pdb1f2v.ent' \n",
      "Structure exists: 'data/PSCDB/PDB_structures/pdb1i1h.ent' \n",
      "Aligned 209 residues (Free: 209, Bound: 209, Excluded: 0)\n",
      "Structure exists: 'data/PSCDB/PDB_structures/pdb2o70.ent' \n",
      "Structure exists: 'data/PSCDB/PDB_structures/pdb2o74.ent' \n"
     ]
    },
    {
     "name": "stderr",
     "output_type": "stream",
     "text": [
      " 92%|█████████▏| 818/891 [13:37<00:15,  4.57it/s]"
     ]
    },
    {
     "name": "stdout",
     "output_type": "stream",
     "text": [
      "Aligned 165 residues (Free: 165, Bound: 165, Excluded: 0)\n",
      "Structure exists: 'data/PSCDB/PDB_structures/pdb2vb3.ent' \n",
      "Structure exists: 'data/PSCDB/PDB_structures/pdb2vb2.ent' \n",
      "Aligned 75 residues (Free: 75, Bound: 75, Excluded: 0)\n",
      "Structure exists: 'data/PSCDB/PDB_structures/pdb1avk.ent' \n"
     ]
    },
    {
     "name": "stderr",
     "output_type": "stream",
     "text": [
      " 92%|█████████▏| 820/891 [13:38<00:16,  4.22it/s]"
     ]
    },
    {
     "name": "stdout",
     "output_type": "stream",
     "text": [
      "Structure exists: 'data/PSCDB/PDB_structures/pdb1ui7.ent' \n",
      "Aligned 620 residues (Free: 620, Bound: 620, Excluded: 0)\n",
      "Structure exists: 'data/PSCDB/PDB_structures/pdb2vw0.ent' \n"
     ]
    },
    {
     "name": "stderr",
     "output_type": "stream",
     "text": [
      " 92%|█████████▏| 821/891 [13:38<00:16,  4.21it/s]"
     ]
    },
    {
     "name": "stdout",
     "output_type": "stream",
     "text": [
      "Structure exists: 'data/PSCDB/PDB_structures/pdb2vw1.ent' \n",
      "Aligned 657 residues (Free: 657, Bound: 658, Excluded: 1)\n",
      "Structure exists: 'data/PSCDB/PDB_structures/pdb1evq.ent' \n",
      "Structure exists: 'data/PSCDB/PDB_structures/pdb1qz3.ent' \n",
      "Aligned 304 residues (Free: 304, Bound: 309, Excluded: 5)\n",
      "Structure exists: 'data/PSCDB/PDB_structures/pdb2eaw.ent' \n",
      "Structure exists: 'data/PSCDB/PDB_structures/pdb3bgg.ent' \n"
     ]
    },
    {
     "name": "stderr",
     "output_type": "stream",
     "text": [
      " 92%|█████████▏| 823/891 [13:39<00:15,  4.37it/s]"
     ]
    },
    {
     "name": "stdout",
     "output_type": "stream",
     "text": [
      "Aligned 256 residues (Free: 256, Bound: 257, Excluded: 1)\n",
      "Structure exists: 'data/PSCDB/PDB_structures/pdb1mzl.ent' \n",
      "Structure exists: 'data/PSCDB/PDB_structures/pdb1fk1.ent' \n",
      "Aligned 93 residues (Free: 93, Bound: 93, Excluded: 0)\n",
      "Structure exists: 'data/PSCDB/PDB_structures/pdb1o9n.ent' \n",
      "Structure exists: 'data/PSCDB/PDB_structures/pdb1ocl.ent' \n"
     ]
    },
    {
     "name": "stderr",
     "output_type": "stream",
     "text": [
      " 93%|█████████▎| 825/891 [13:39<00:12,  5.22it/s]"
     ]
    },
    {
     "name": "stdout",
     "output_type": "stream",
     "text": [
      "Aligned 412 residues (Free: 412, Bound: 412, Excluded: 0)\n",
      "Structure exists: 'data/PSCDB/PDB_structures/pdb1jx1.ent' \n",
      "Structure exists: 'data/PSCDB/PDB_structures/pdb1jx1.ent' \n"
     ]
    },
    {
     "name": "stderr",
     "output_type": "stream",
     "text": [
      " 93%|█████████▎| 827/891 [13:40<00:15,  4.26it/s]"
     ]
    },
    {
     "name": "stdout",
     "output_type": "stream",
     "text": [
      "Aligned 218 residues (Free: 218, Bound: 218, Excluded: 0)\n",
      "Structure exists: 'data/PSCDB/PDB_structures/pdb2e7i.ent' \n",
      "Structure exists: 'data/PSCDB/PDB_structures/pdb2e7j.ent' \n",
      "Aligned 344 residues (Free: 344, Bound: 344, Excluded: 0)\n",
      "Structure exists: 'data/PSCDB/PDB_structures/pdb2oyc.ent' \n",
      "Structure exists: 'data/PSCDB/PDB_structures/pdb2p69.ent' \n",
      "Aligned 285 residues (Free: 289, Bound: 285, Excluded: 4)\n",
      "Structure exists: 'data/PSCDB/PDB_structures/pdb1mdf.ent' \n",
      "Structure exists: 'data/PSCDB/PDB_structures/pdb1md9.ent' \n",
      "Aligned 528 residues (Free: 536, Bound: 528, Excluded: 8)\n"
     ]
    },
    {
     "name": "stderr",
     "output_type": "stream",
     "text": [
      " 93%|█████████▎| 829/891 [13:40<00:11,  5.20it/s]"
     ]
    },
    {
     "name": "stdout",
     "output_type": "stream",
     "text": [
      "Structure exists: 'data/PSCDB/PDB_structures/pdb1w5r.ent' \n",
      "Structure exists: 'data/PSCDB/PDB_structures/pdb1w6f.ent' \n"
     ]
    },
    {
     "name": "stderr",
     "output_type": "stream",
     "text": [
      " 93%|█████████▎| 830/891 [13:40<00:15,  3.86it/s]"
     ]
    },
    {
     "name": "stdout",
     "output_type": "stream",
     "text": [
      "Aligned 273 residues (Free: 273, Bound: 273, Excluded: 0)\n",
      "Structure exists: 'data/PSCDB/PDB_structures/pdb2zr3.ent' \n",
      "Structure exists: 'data/PSCDB/PDB_structures/pdb2dq0.ent' \n"
     ]
    },
    {
     "name": "stderr",
     "output_type": "stream",
     "text": [
      " 93%|█████████▎| 832/891 [13:41<00:12,  4.63it/s]"
     ]
    },
    {
     "name": "stdout",
     "output_type": "stream",
     "text": [
      "Aligned 447 residues (Free: 448, Bound: 447, Excluded: 1)\n",
      "Structure exists: 'data/PSCDB/PDB_structures/pdb2iqy.ent' \n",
      "Structure exists: 'data/PSCDB/PDB_structures/pdb2iqx.ent' \n",
      "Aligned 185 residues (Free: 190, Bound: 185, Excluded: 5)\n",
      "Structure exists: 'data/PSCDB/PDB_structures/pdb2bkb.ent' \n"
     ]
    },
    {
     "name": "stderr",
     "output_type": "stream",
     "text": [
      " 93%|█████████▎| 833/891 [13:41<00:14,  3.89it/s]"
     ]
    },
    {
     "name": "stdout",
     "output_type": "stream",
     "text": [
      "Structure exists: 'data/PSCDB/PDB_structures/pdb1za5.ent' \n",
      "Aligned 192 residues (Free: 192, Bound: 192, Excluded: 0)\n",
      "Structure exists: 'data/PSCDB/PDB_structures/pdb1vf8.ent' \n",
      "Structure exists: 'data/PSCDB/PDB_structures/pdb1e9l.ent' \n",
      "Aligned 352 residues (Free: 373, Bound: 372, Excluded: 41)\n"
     ]
    },
    {
     "name": "stderr",
     "output_type": "stream",
     "text": [
      " 94%|█████████▎| 834/891 [13:41<00:13,  4.37it/s]"
     ]
    },
    {
     "name": "stdout",
     "output_type": "stream",
     "text": [
      "Structure exists: 'data/PSCDB/PDB_structures/pdb1fhm.ent' \n",
      "Structure exists: 'data/PSCDB/PDB_structures/pdb1t9p.ent' \n",
      "Aligned 53 residues (Free: 53, Bound: 54, Excluded: 1)\n",
      "Structure exists: 'data/PSCDB/PDB_structures/pdb1usl.ent' \n",
      "Structure exists: 'data/PSCDB/PDB_structures/pdb2vvo.ent' \n"
     ]
    },
    {
     "name": "stderr",
     "output_type": "stream",
     "text": [
      " 94%|█████████▍| 836/891 [13:41<00:10,  5.42it/s]"
     ]
    },
    {
     "name": "stdout",
     "output_type": "stream",
     "text": [
      "Aligned 156 residues (Free: 156, Bound: 156, Excluded: 0)\n",
      "Structure exists: 'data/PSCDB/PDB_structures/pdb2fyo.ent' \n"
     ]
    },
    {
     "name": "stderr",
     "output_type": "stream",
     "text": [
      " 94%|█████████▍| 837/891 [13:42<00:13,  4.05it/s]"
     ]
    },
    {
     "name": "stdout",
     "output_type": "stream",
     "text": [
      "Structure exists: 'data/PSCDB/PDB_structures/pdb2fw3.ent' \n",
      "Aligned 611 residues (Free: 613, Bound: 623, Excluded: 14)\n",
      "Structure exists: 'data/PSCDB/PDB_structures/pdb2fp8.ent' \n"
     ]
    },
    {
     "name": "stderr",
     "output_type": "stream",
     "text": [
      " 94%|█████████▍| 838/891 [13:42<00:12,  4.28it/s]"
     ]
    },
    {
     "name": "stdout",
     "output_type": "stream",
     "text": [
      "Structure exists: 'data/PSCDB/PDB_structures/pdb2fp9.ent' \n",
      "Aligned 302 residues (Free: 302, Bound: 305, Excluded: 3)\n",
      "Structure exists: 'data/PSCDB/PDB_structures/pdb2g6v.ent' \n",
      "Structure exists: 'data/PSCDB/PDB_structures/pdb2obc.ent' \n"
     ]
    },
    {
     "name": "stderr",
     "output_type": "stream",
     "text": [
      " 94%|█████████▍| 839/891 [13:42<00:11,  4.61it/s]"
     ]
    },
    {
     "name": "stdout",
     "output_type": "stream",
     "text": [
      "Aligned 345 residues (Free: 346, Bound: 345, Excluded: 1)\n",
      "Structure exists: 'data/PSCDB/PDB_structures/pdb3chi.ent' \n"
     ]
    },
    {
     "name": "stderr",
     "output_type": "stream",
     "text": [
      " 94%|█████████▍| 840/891 [13:43<00:13,  3.83it/s]"
     ]
    },
    {
     "name": "stdout",
     "output_type": "stream",
     "text": [
      "Structure exists: 'data/PSCDB/PDB_structures/pdb3cht.ent' \n",
      "Aligned 301 residues (Free: 301, Bound: 301, Excluded: 0)\n",
      "Structure exists: 'data/PSCDB/PDB_structures/pdb2byw.ent' \n",
      "Structure exists: 'data/PSCDB/PDB_structures/pdb2bui.ent' \n"
     ]
    },
    {
     "name": "stderr",
     "output_type": "stream",
     "text": [
      " 95%|█████████▍| 842/891 [13:43<00:14,  3.46it/s]"
     ]
    },
    {
     "name": "stdout",
     "output_type": "stream",
     "text": [
      "Aligned 406 residues (Free: 406, Bound: 406, Excluded: 0)\n",
      "Structure exists: 'data/PSCDB/PDB_structures/pdb2aej.ent' \n",
      "Structure exists: 'data/PSCDB/PDB_structures/pdb2aef.ent' \n",
      "Aligned 221 residues (Free: 224, Bound: 221, Excluded: 3)\n",
      "Structure exists: 'data/PSCDB/PDB_structures/pdb1wac.ent' \n",
      "Structure exists: 'data/PSCDB/PDB_structures/pdb1hhs.ent' \n"
     ]
    },
    {
     "name": "stderr",
     "output_type": "stream",
     "text": [
      " 95%|█████████▍| 843/891 [13:44<00:19,  2.40it/s]"
     ]
    },
    {
     "name": "stdout",
     "output_type": "stream",
     "text": [
      "Aligned 662 residues (Free: 662, Bound: 664, Excluded: 2)\n",
      "Structure exists: 'data/PSCDB/PDB_structures/pdb1ncz.ent' \n",
      "Structure exists: 'data/PSCDB/PDB_structures/pdb5tnc.ent' \n",
      "Aligned 161 residues (Free: 162, Bound: 161, Excluded: 1)\n",
      "Structure exists: 'data/PSCDB/PDB_structures/pdb1arl.ent' \n",
      "Structure exists: 'data/PSCDB/PDB_structures/pdb1cpx.ent' \n",
      "Aligned 305 residues (Free: 307, Bound: 305, Excluded: 2)\n"
     ]
    },
    {
     "name": "stderr",
     "output_type": "stream",
     "text": [
      " 95%|█████████▌| 847/891 [13:44<00:08,  5.22it/s]"
     ]
    },
    {
     "name": "stdout",
     "output_type": "stream",
     "text": [
      "Structure exists: 'data/PSCDB/PDB_structures/pdb2f3n.ent' \n",
      "Structure exists: 'data/PSCDB/PDB_structures/pdb2f44.ent' \n",
      "Aligned 65 residues (Free: 65, Bound: 65, Excluded: 0)\n",
      "Structure exists: 'data/PSCDB/PDB_structures/pdb1juk.ent' \n",
      "Structure exists: 'data/PSCDB/PDB_structures/pdb1lbl.ent' \n",
      "Aligned 247 residues (Free: 247, Bound: 247, Excluded: 0)\n",
      "Structure exists: 'data/PSCDB/PDB_structures/pdb2bw0.ent' \n"
     ]
    },
    {
     "name": "stderr",
     "output_type": "stream",
     "text": [
      " 95%|█████████▌| 848/891 [13:45<00:07,  5.77it/s]"
     ]
    },
    {
     "name": "stdout",
     "output_type": "stream",
     "text": [
      "Structure exists: 'data/PSCDB/PDB_structures/pdb2cfi.ent' \n",
      "Aligned 309 residues (Free: 309, Bound: 310, Excluded: 1)\n",
      "Structure exists: 'data/PSCDB/PDB_structures/pdb2yyv.ent' \n",
      "Structure exists: 'data/PSCDB/PDB_structures/pdb2yzo.ent' \n"
     ]
    },
    {
     "name": "stderr",
     "output_type": "stream",
     "text": [
      " 95%|█████████▌| 850/891 [13:45<00:08,  5.06it/s]"
     ]
    },
    {
     "name": "stdout",
     "output_type": "stream",
     "text": [
      "Aligned 223 residues (Free: 223, Bound: 223, Excluded: 0)\n",
      "Structure exists: 'data/PSCDB/PDB_structures/pdb2hkl.ent' \n",
      "Structure exists: 'data/PSCDB/PDB_structures/pdb1zat.ent' \n",
      "Aligned 248 residues (Free: 248, Bound: 248, Excluded: 0)\n",
      "Structure exists: 'data/PSCDB/PDB_structures/pdb2oam.ent' \n"
     ]
    },
    {
     "name": "stderr",
     "output_type": "stream",
     "text": [
      " 96%|█████████▌| 851/891 [13:45<00:09,  4.39it/s]"
     ]
    },
    {
     "name": "stdout",
     "output_type": "stream",
     "text": [
      "Structure exists: 'data/PSCDB/PDB_structures/pdb2oa1.ent' \n",
      "Aligned 523 residues (Free: 523, Bound: 527, Excluded: 4)\n",
      "Structure exists: 'data/PSCDB/PDB_structures/pdb1kko.ent' \n"
     ]
    },
    {
     "name": "stderr",
     "output_type": "stream",
     "text": [
      " 96%|█████████▌| 852/891 [13:46<00:12,  3.09it/s]"
     ]
    },
    {
     "name": "stdout",
     "output_type": "stream",
     "text": [
      "Structure exists: 'data/PSCDB/PDB_structures/pdb1kkr.ent' \n",
      "Aligned 401 residues (Free: 401, Bound: 401, Excluded: 0)\n",
      "Structure exists: 'data/PSCDB/PDB_structures/pdb2o6f.ent' \n",
      "Structure exists: 'data/PSCDB/PDB_structures/pdb2o6e.ent' \n",
      "Aligned 157 residues (Free: 157, Bound: 158, Excluded: 1)\n"
     ]
    },
    {
     "name": "stderr",
     "output_type": "stream",
     "text": [
      " 96%|█████████▌| 854/891 [13:46<00:08,  4.22it/s]"
     ]
    },
    {
     "name": "stdout",
     "output_type": "stream",
     "text": [
      "Structure exists: 'data/PSCDB/PDB_structures/pdb1bt2.ent' \n",
      "Structure exists: 'data/PSCDB/PDB_structures/pdb1bug.ent' \n",
      "Aligned 336 residues (Free: 336, Bound: 336, Excluded: 0)\n",
      "Structure exists: 'data/PSCDB/PDB_structures/pdb1lkp.ent' \n"
     ]
    },
    {
     "name": "stderr",
     "output_type": "stream",
     "text": [
      " 96%|█████████▌| 855/891 [13:46<00:09,  3.86it/s]"
     ]
    },
    {
     "name": "stdout",
     "output_type": "stream",
     "text": [
      "Structure exists: 'data/PSCDB/PDB_structures/pdb1dvb.ent' \n",
      "Aligned 190 residues (Free: 190, Bound: 191, Excluded: 1)\n",
      "Structure exists: 'data/PSCDB/PDB_structures/pdb1iad.ent' \n",
      "Structure exists: 'data/PSCDB/PDB_structures/pdb1iaa.ent' \n",
      "Aligned 200 residues (Free: 200, Bound: 200, Excluded: 0)\n",
      "Structure exists: 'data/PSCDB/PDB_structures/pdb2p76.ent' \n",
      "Structure exists: 'data/PSCDB/PDB_structures/pdb2oog.ent' \n"
     ]
    },
    {
     "name": "stderr",
     "output_type": "stream",
     "text": [
      " 96%|█████████▋| 858/891 [13:47<00:08,  3.95it/s]"
     ]
    },
    {
     "name": "stdout",
     "output_type": "stream",
     "text": [
      "Aligned 267 residues (Free: 267, Bound: 267, Excluded: 0)\n",
      "Structure exists: 'data/PSCDB/PDB_structures/pdb2yu2.ent' \n",
      "Structure exists: 'data/PSCDB/PDB_structures/pdb2yu1.ent' \n",
      "Aligned 385 residues (Free: 387, Bound: 386, Excluded: 3)\n",
      "Structure exists: 'data/PSCDB/PDB_structures/pdb1l7r.ent' \n",
      "Structure exists: 'data/PSCDB/PDB_structures/pdb1ju4.ent' \n"
     ]
    },
    {
     "name": "stderr",
     "output_type": "stream",
     "text": [
      " 96%|█████████▋| 859/891 [13:48<00:07,  4.10it/s]"
     ]
    },
    {
     "name": "stdout",
     "output_type": "stream",
     "text": [
      "Aligned 570 residues (Free: 573, Bound: 570, Excluded: 3)\n",
      "Structure exists: 'data/PSCDB/PDB_structures/pdb2vzo.ent' \n",
      "Structure exists: 'data/PSCDB/PDB_structures/pdb2vzs.ent' \n",
      "Aligned 850 residues (Free: 850, Bound: 857, Excluded: 7)\n"
     ]
    },
    {
     "name": "stderr",
     "output_type": "stream",
     "text": [
      " 97%|█████████▋| 862/891 [13:48<00:06,  4.28it/s]"
     ]
    },
    {
     "name": "stdout",
     "output_type": "stream",
     "text": [
      "Structure exists: 'data/PSCDB/PDB_structures/pdb1dcd.ent' \n",
      "Structure exists: 'data/PSCDB/PDB_structures/pdb1dxg.ent' \n",
      "Aligned 36 residues (Free: 36, Bound: 36, Excluded: 0)\n",
      "Structure exists: 'data/PSCDB/PDB_structures/pdb2e3j.ent' \n",
      "Structure exists: 'data/PSCDB/PDB_structures/pdb2zjf.ent' \n",
      "Aligned 346 residues (Free: 346, Bound: 346, Excluded: 0)\n",
      "Structure exists: 'data/PSCDB/PDB_structures/pdb2qev.ent' \n",
      "Structure exists: 'data/PSCDB/PDB_structures/pdb2qeo.ent' \n",
      "Aligned 144 residues (Free: 145, Bound: 144, Excluded: 1)\n",
      "Structure exists: 'data/PSCDB/PDB_structures/pdb2vfw.ent' \n"
     ]
    },
    {
     "name": "stderr",
     "output_type": "stream",
     "text": [
      " 97%|█████████▋| 864/891 [13:49<00:05,  5.04it/s]"
     ]
    },
    {
     "name": "stdout",
     "output_type": "stream",
     "text": [
      "Structure exists: 'data/PSCDB/PDB_structures/pdb2vg0.ent' \n",
      "Aligned 227 residues (Free: 227, Bound: 227, Excluded: 0)\n",
      "Structure exists: 'data/PSCDB/PDB_structures/pdb1mkb.ent' \n"
     ]
    },
    {
     "name": "stderr",
     "output_type": "stream",
     "text": [
      " 97%|█████████▋| 865/891 [13:49<00:06,  4.30it/s]"
     ]
    },
    {
     "name": "stdout",
     "output_type": "stream",
     "text": [
      "Structure exists: 'data/PSCDB/PDB_structures/pdb1mka.ent' \n",
      "Aligned 171 residues (Free: 171, Bound: 171, Excluded: 0)\n",
      "Structure exists: 'data/PSCDB/PDB_structures/pdb1fa8.ent' \n",
      "Structure exists: 'data/PSCDB/PDB_structures/pdb1f9z.ent' \n",
      "Aligned 128 residues (Free: 128, Bound: 128, Excluded: 0)\n",
      "Structure exists: 'data/PSCDB/PDB_structures/pdb3c6y.ent' \n"
     ]
    },
    {
     "name": "stderr",
     "output_type": "stream",
     "text": [
      " 97%|█████████▋| 868/891 [13:49<00:04,  5.73it/s]"
     ]
    },
    {
     "name": "stdout",
     "output_type": "stream",
     "text": [
      "Structure exists: 'data/PSCDB/PDB_structures/pdb1yas.ent' \n",
      "Aligned 256 residues (Free: 256, Bound: 256, Excluded: 0)\n",
      "Structure exists: 'data/PSCDB/PDB_structures/pdb1qam.ent' \n",
      "Structure exists: 'data/PSCDB/PDB_structures/pdb1qaq.ent' \n",
      "Aligned 235 residues (Free: 235, Bound: 236, Excluded: 1)\n",
      "Structure exists: 'data/PSCDB/PDB_structures/pdb2veo.ent' \n",
      "Structure exists: 'data/PSCDB/PDB_structures/pdb2veo.ent' \n"
     ]
    },
    {
     "name": "stderr",
     "output_type": "stream",
     "text": [
      " 98%|█████████▊| 870/891 [13:50<00:04,  4.81it/s]"
     ]
    },
    {
     "name": "stdout",
     "output_type": "stream",
     "text": [
      "Aligned 430 residues (Free: 430, Bound: 430, Excluded: 0)\n",
      "Structure exists: 'data/PSCDB/PDB_structures/pdb2i49.ent' \n",
      "Structure exists: 'data/PSCDB/PDB_structures/pdb2i4c.ent' \n",
      "Aligned 398 residues (Free: 398, Bound: 401, Excluded: 3)\n",
      "Structure exists: 'data/PSCDB/PDB_structures/pdb1tee.ent' \n"
     ]
    },
    {
     "name": "stderr",
     "output_type": "stream",
     "text": [
      " 98%|█████████▊| 871/891 [13:50<00:04,  4.25it/s]"
     ]
    },
    {
     "name": "stdout",
     "output_type": "stream",
     "text": [
      "Structure exists: 'data/PSCDB/PDB_structures/pdb1ted.ent' \n",
      "Aligned 368 residues (Free: 368, Bound: 368, Excluded: 0)\n",
      "Structure exists: 'data/PSCDB/PDB_structures/pdb1hzt.ent' \n"
     ]
    },
    {
     "name": "stderr",
     "output_type": "stream",
     "text": [
      " 98%|█████████▊| 872/891 [13:50<00:04,  3.98it/s]"
     ]
    },
    {
     "name": "stdout",
     "output_type": "stream",
     "text": [
      "Structure exists: 'data/PSCDB/PDB_structures/pdb1r67.ent' \n",
      "Aligned 151 residues (Free: 153, Bound: 151, Excluded: 2)\n",
      "Structure exists: 'data/PSCDB/PDB_structures/pdb1snz.ent' \n",
      "Structure exists: 'data/PSCDB/PDB_structures/pdb1so0.ent' \n"
     ]
    },
    {
     "name": "stderr",
     "output_type": "stream",
     "text": [
      " 98%|█████████▊| 873/891 [13:51<00:04,  3.87it/s]"
     ]
    },
    {
     "name": "stdout",
     "output_type": "stream",
     "text": [
      "Aligned 344 residues (Free: 344, Bound: 344, Excluded: 0)\n",
      "Structure exists: 'data/PSCDB/PDB_structures/pdb1iiw.ent' \n",
      "Structure exists: 'data/PSCDB/PDB_structures/pdb1ii5.ent' \n",
      "Aligned 221 residues (Free: 221, Bound: 221, Excluded: 0)\n",
      "Structure exists: 'data/PSCDB/PDB_structures/pdb2b3l.ent' \n",
      "Structure exists: 'data/PSCDB/PDB_structures/pdb2b3h.ent' \n"
     ]
    },
    {
     "name": "stderr",
     "output_type": "stream",
     "text": [
      " 98%|█████████▊| 875/891 [13:51<00:03,  4.85it/s]"
     ]
    },
    {
     "name": "stdout",
     "output_type": "stream",
     "text": [
      "Aligned 304 residues (Free: 305, Bound: 304, Excluded: 1)\n",
      "Structure exists: 'data/PSCDB/PDB_structures/pdb2v28.ent' \n"
     ]
    },
    {
     "name": "stderr",
     "output_type": "stream",
     "text": [
      " 98%|█████████▊| 876/891 [13:51<00:03,  3.87it/s]"
     ]
    },
    {
     "name": "stdout",
     "output_type": "stream",
     "text": [
      "Structure exists: 'data/PSCDB/PDB_structures/pdb2v27.ent' \n",
      "Aligned 264 residues (Free: 264, Bound: 264, Excluded: 0)\n",
      "Structure exists: 'data/PSCDB/PDB_structures/pdb1esc.ent' \n",
      "Structure exists: 'data/PSCDB/PDB_structures/pdb1ese.ent' \n"
     ]
    },
    {
     "name": "stderr",
     "output_type": "stream",
     "text": [
      " 98%|█████████▊| 877/891 [13:52<00:03,  4.57it/s]"
     ]
    },
    {
     "name": "stdout",
     "output_type": "stream",
     "text": [
      "Aligned 302 residues (Free: 302, Bound: 302, Excluded: 0)\n",
      "Structure exists: 'data/PSCDB/PDB_structures/pdb2cwc.ent' \n",
      "Structure exists: 'data/PSCDB/PDB_structures/pdb2yzv.ent' \n",
      "Aligned 284 residues (Free: 284, Bound: 286, Excluded: 2)\n",
      "Structure exists: 'data/PSCDB/PDB_structures/pdb2a0k.ent' \n",
      "Structure exists: 'data/PSCDB/PDB_structures/pdb2f62.ent' \n",
      "Aligned 151 residues (Free: 151, Bound: 151, Excluded: 0)\n"
     ]
    },
    {
     "name": "stderr",
     "output_type": "stream",
     "text": [
      " 99%|█████████▊| 879/891 [13:52<00:01,  6.03it/s]"
     ]
    },
    {
     "name": "stdout",
     "output_type": "stream",
     "text": [
      "Structure exists: 'data/PSCDB/PDB_structures/pdb2iw2.ent' \n"
     ]
    },
    {
     "name": "stderr",
     "output_type": "stream",
     "text": [
      " 99%|█████████▉| 880/891 [13:52<00:02,  4.09it/s]"
     ]
    },
    {
     "name": "stdout",
     "output_type": "stream",
     "text": [
      "Structure exists: 'data/PSCDB/PDB_structures/pdb2okn.ent' \n",
      "Aligned 477 residues (Free: 477, Bound: 477, Excluded: 0)\n",
      "Structure exists: 'data/PSCDB/PDB_structures/pdb1ilw.ent' \n",
      "Structure exists: 'data/PSCDB/PDB_structures/pdb1im5.ent' \n",
      "Aligned 179 residues (Free: 179, Bound: 179, Excluded: 0)\n"
     ]
    },
    {
     "name": "stderr",
     "output_type": "stream",
     "text": [
      " 99%|█████████▉| 882/891 [13:52<00:01,  5.43it/s]"
     ]
    },
    {
     "name": "stdout",
     "output_type": "stream",
     "text": [
      "Structure exists: 'data/PSCDB/PDB_structures/pdb3bbe.ent' \n",
      "Structure exists: 'data/PSCDB/PDB_structures/pdb3bbh.ent' \n",
      "Aligned 204 residues (Free: 204, Bound: 204, Excluded: 0)\n",
      "Structure exists: 'data/PSCDB/PDB_structures/pdb1l5n.ent' \n",
      "Structure exists: 'data/PSCDB/PDB_structures/pdb1l5l.ent' \n",
      "Aligned 346 residues (Free: 346, Bound: 347, Excluded: 1)\n"
     ]
    },
    {
     "name": "stderr",
     "output_type": "stream",
     "text": [
      " 99%|█████████▉| 883/891 [13:53<00:01,  5.81it/s]"
     ]
    },
    {
     "name": "stdout",
     "output_type": "stream",
     "text": [
      "Structure exists: 'data/PSCDB/PDB_structures/pdb3bf7.ent' \n",
      "Structure exists: 'data/PSCDB/PDB_structures/pdb3bf8.ent' \n",
      "Aligned 255 residues (Free: 255, Bound: 255, Excluded: 0)\n"
     ]
    },
    {
     "name": "stderr",
     "output_type": "stream",
     "text": [
      " 99%|█████████▉| 884/891 [13:53<00:01,  5.44it/s]"
     ]
    },
    {
     "name": "stdout",
     "output_type": "stream",
     "text": [
      "Structure exists: 'data/PSCDB/PDB_structures/pdb1tzb.ent' \n"
     ]
    },
    {
     "name": "stderr",
     "output_type": "stream",
     "text": [
      " 99%|█████████▉| 885/891 [13:53<00:01,  3.28it/s]"
     ]
    },
    {
     "name": "stdout",
     "output_type": "stream",
     "text": [
      "Structure exists: 'data/PSCDB/PDB_structures/pdb1tzc.ent' \n",
      "Aligned 301 residues (Free: 301, Bound: 301, Excluded: 0)\n",
      "Structure exists: 'data/PSCDB/PDB_structures/pdb1oi2.ent' \n",
      "Structure exists: 'data/PSCDB/PDB_structures/pdb1uod.ent' \n"
     ]
    },
    {
     "name": "stderr",
     "output_type": "stream",
     "text": [
      " 99%|█████████▉| 886/891 [13:54<00:01,  3.69it/s]"
     ]
    },
    {
     "name": "stdout",
     "output_type": "stream",
     "text": [
      "Aligned 336 residues (Free: 336, Bound: 336, Excluded: 0)\n",
      "Structure exists: 'data/PSCDB/PDB_structures/pdb2dec.ent' \n",
      "Structure exists: 'data/PSCDB/PDB_structures/pdb2df8.ent' \n"
     ]
    },
    {
     "name": "stderr",
     "output_type": "stream",
     "text": [
      "100%|█████████▉| 888/891 [13:54<00:00,  3.99it/s]"
     ]
    },
    {
     "name": "stdout",
     "output_type": "stream",
     "text": [
      "Aligned 325 residues (Free: 325, Bound: 325, Excluded: 0)\n",
      "Structure exists: 'data/PSCDB/PDB_structures/pdb3bu9.ent' \n",
      "Structure exists: 'data/PSCDB/PDB_structures/pdb3bu1.ent' \n",
      "Aligned 140 residues (Free: 140, Bound: 144, Excluded: 4)\n",
      "Structure exists: 'data/PSCDB/PDB_structures/pdb2f8h.ent' \n",
      "Structure exists: 'data/PSCDB/PDB_structures/pdb2f7v.ent' \n"
     ]
    },
    {
     "name": "stderr",
     "output_type": "stream",
     "text": [
      "100%|██████████| 891/891 [13:54<00:00,  1.07it/s]"
     ]
    },
    {
     "name": "stdout",
     "output_type": "stream",
     "text": [
      "Aligned 360 residues (Free: 360, Bound: 360, Excluded: 0)\n",
      "Structure exists: 'data/PSCDB/PDB_structures/pdb2qht.ent' \n",
      "Structure exists: 'data/PSCDB/PDB_structures/pdb2qhv.ent' \n",
      "Aligned 210 residues (Free: 210, Bound: 210, Excluded: 0)\n",
      "Structure exists: 'data/PSCDB/PDB_structures/pdb1uj4.ent' \n",
      "Structure exists: 'data/PSCDB/PDB_structures/pdb1uj5.ent' \n",
      "Aligned 221 residues (Free: 221, Bound: 225, Excluded: 4)\n",
      "\n",
      "\n",
      "Built 856 valid graph pairs\n"
     ]
    },
    {
     "name": "stderr",
     "output_type": "stream",
     "text": [
      "\n"
     ]
    }
   ],
   "source": [
    "builder = ProteinPairGraphBuilder(threshold=5.0, data_path='data/PSCDB/PDB_structures')\n",
    "my_dataset = []\n",
    "\n",
    "for _, row in tqdm(df_parsed.iterrows(), total=len(df_parsed)):\n",
    "    data = builder.build_graph_pair(\n",
    "        row['Free PDB'],\n",
    "        row['Bound PDB'],\n",
    "        row['motion_type_int']\n",
    "    )\n",
    "    if data:\n",
    "        my_dataset.append(data)\n",
    "\n",
    "print(f\"\\n\\nBuilt {len(my_dataset)} valid graph pairs\")"
   ]
  },
  {
   "cell_type": "code",
   "execution_count": 8,
   "metadata": {},
   "outputs": [
    {
     "name": "stdout",
     "output_type": "stream",
     "text": [
      "One-hot Amino Acid: \n",
      "tensor([0., 0., 0., 0., 0., 0., 0., 0., 1., 0., 0., 0., 0., 0., 0., 0., 0., 0.,\n",
      "        0., 0.])\n",
      "Amino Acid Label: K\n",
      "Free Structure Amino Acid Coords (x, y, z):   tensor([-23.0000, -12.9500, -39.1070])\n",
      "Bound Structure Amino Acid Coords (x, y, z):  tensor([89.3800, 75.6730, 79.5710])\n",
      "Displacement Coords (Bound - Free) (x, y, z): tensor([112.3800,  88.6230, 118.6780])\n"
     ]
    }
   ],
   "source": [
    "print(f\"One-hot Amino Acid: \\n{my_dataset[0].x[0,:20]}\")\n",
    "print(f\"Amino Acid Label: {idx_to_aa[(my_dataset[0].x[0,:20]).argmax().item()]}\")\n",
    "print(f\"Free Structure Amino Acid Coords (x, y, z):   {my_dataset[0].x[0,20:23]}\")\n",
    "print(f\"Bound Structure Amino Acid Coords (x, y, z):  {my_dataset[0].x[0,23:26]}\")\n",
    "print(f\"Displacement Coords (Bound - Free) (x, y, z): {my_dataset[0].x[0,26:29]}\")\n"
   ]
  },
  {
   "cell_type": "code",
   "execution_count": 9,
   "metadata": {},
   "outputs": [],
   "source": [
    "for i in range(len(my_dataset)):\n",
    "    if not my_dataset[i].x.__len__() == my_dataset[i].x[:,:20].sum().item():\n",
    "        print(f\"Missing amino acid(s) in data point{i}\")"
   ]
  },
  {
   "cell_type": "code",
   "execution_count": 10,
   "metadata": {},
   "outputs": [
    {
     "data": {
      "text/plain": [
       "[Data(x=[317, 29], y=[1], edge_index_free=[2, 385], edge_index_bound=[2, 389], edge_index_union=[2, 408], pos_free=[317, 3], pos_bound=[317, 3]),\n",
       " Data(x=[214, 29], y=[1], edge_index_free=[2, 270], edge_index_bound=[2, 265], edge_index_union=[2, 294], pos_free=[214, 3], pos_bound=[214, 3]),\n",
       " Data(x=[314, 29], y=[1], edge_index_free=[2, 403], edge_index_bound=[2, 412], edge_index_union=[2, 427], pos_free=[314, 3], pos_bound=[314, 3]),\n",
       " Data(x=[691, 29], y=[1], edge_index_free=[2, 889], edge_index_bound=[2, 931], edge_index_union=[2, 979], pos_free=[691, 3], pos_bound=[691, 3]),\n",
       " Data(x=[429, 29], y=[1], edge_index_free=[2, 560], edge_index_bound=[2, 534], edge_index_union=[2, 608], pos_free=[429, 3], pos_bound=[429, 3])]"
      ]
     },
     "execution_count": 10,
     "metadata": {},
     "output_type": "execute_result"
    }
   ],
   "source": [
    "my_dataset[:5]"
   ]
  },
  {
   "cell_type": "code",
   "execution_count": 11,
   "metadata": {},
   "outputs": [],
   "source": [
    "torch.save(my_dataset, 'hom_pscdb_graphs.pt')"
   ]
  },
  {
   "cell_type": "code",
   "execution_count": 12,
   "metadata": {},
   "outputs": [
    {
     "data": {
      "text/plain": [
       "856"
      ]
     },
     "execution_count": 12,
     "metadata": {},
     "output_type": "execute_result"
    }
   ],
   "source": [
    "dataset = torch.load('hom_pscdb_graphs.pt', weights_only=False)\n",
    "len(dataset)"
   ]
  }
 ],
 "metadata": {
  "kernelspec": {
   "display_name": "ML_ENV",
   "language": "python",
   "name": "python3"
  },
  "language_info": {
   "codemirror_mode": {
    "name": "ipython",
    "version": 3
   },
   "file_extension": ".py",
   "mimetype": "text/x-python",
   "name": "python",
   "nbconvert_exporter": "python",
   "pygments_lexer": "ipython3",
   "version": "3.10.12"
  }
 },
 "nbformat": 4,
 "nbformat_minor": 2
}
