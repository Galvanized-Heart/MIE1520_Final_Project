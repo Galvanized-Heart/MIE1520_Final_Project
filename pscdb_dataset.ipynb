{
 "cells": [
  {
   "cell_type": "code",
   "execution_count": null,
   "metadata": {},
   "outputs": [],
   "source": [
    "from pscdb_dataset import ProteinPairGraphBuilder\n",
    "from tqdm import tqdm\n",
    "import pandas as pd\n",
    "import torch\n",
    "\n",
    "import warnings\n",
    "from Bio import BiopythonWarning\n",
    "warnings.filterwarnings(\"ignore\", category=BiopythonWarning)\n"
   ]
  },
  {
   "cell_type": "code",
   "execution_count": null,
   "metadata": {},
   "outputs": [],
   "source": [
    "df = pd.read_csv('data/PSCDB/structural_rearrangement_data.csv')\n",
    "df.head()"
   ]
  },
  {
   "cell_type": "code",
   "execution_count": null,
   "metadata": {},
   "outputs": [],
   "source": [
    "df.shape"
   ]
  },
  {
   "cell_type": "code",
   "execution_count": null,
   "metadata": {},
   "outputs": [],
   "source": [
    "df_parsed = df[['Free PDB', 'Bound PDB', 'motion_type']]\n",
    "df_parsed"
   ]
  },
  {
   "cell_type": "code",
   "execution_count": null,
   "metadata": {},
   "outputs": [],
   "source": [
    "# Create int labels for motion_type\n",
    "df_parsed['motion_type'] = pd.Categorical(df_parsed['motion_type']).copy()\n",
    "df_parsed['motion_type_int'] = df_parsed['motion_type'].cat.codes\n",
    "\n",
    "# Mappings from int label to string label\n",
    "int_to_name = dict(enumerate(df_parsed['motion_type'].cat.categories))\n",
    "name_to_int = {v: k for k, v in int_to_name.items()}\n",
    "\n",
    "df_parsed.head()\n"
   ]
  },
  {
   "cell_type": "code",
   "execution_count": null,
   "metadata": {},
   "outputs": [],
   "source": [
    "three_to_one = {\n",
    "    'ALA': 'A', 'ARG': 'R', 'ASN': 'N', 'ASP': 'D',\n",
    "    'CYS': 'C', 'GLN': 'Q', 'GLU': 'E', 'GLY': 'G',\n",
    "    'HIS': 'H', 'ILE': 'I', 'LEU': 'L', 'LYS': 'K',\n",
    "    'MET': 'M', 'PHE': 'F', 'PRO': 'P', 'SER': 'S',\n",
    "    'THR': 'T', 'TRP': 'W', 'TYR': 'Y', 'VAL': 'V'\n",
    "}\n",
    "amino_acids = sorted(three_to_one.values())  # Sorted alphabetically\n",
    "idx_to_aa = {i: aa for i, aa in enumerate(amino_acids)}\n",
    "idx_to_aa"
   ]
  },
  {
   "cell_type": "code",
   "execution_count": null,
   "metadata": {},
   "outputs": [],
   "source": [
    "builder = ProteinPairGraphBuilder(threshold=5.0, data_path='data/PSCDB/PDB_structures')\n",
    "my_dataset = []\n",
    "\n",
    "for _, row in tqdm(df_parsed.iterrows(), total=len(df_parsed)):\n",
    "    data = builder.build_graph_pair(\n",
    "        row['Free PDB'],\n",
    "        row['Bound PDB'],\n",
    "        row['motion_type_int']\n",
    "    )\n",
    "    if data:\n",
    "        my_dataset.append(data)\n",
    "\n",
    "print(f\"\\n\\nBuilt {len(my_dataset)} valid graph pairs\")"
   ]
  },
  {
   "cell_type": "code",
   "execution_count": null,
   "metadata": {},
   "outputs": [],
   "source": [
    "print(f\"One-hot Amino Acid: \\n{my_dataset[0].x[0,:20]}\")\n",
    "print(f\"Amino Acid Label: {idx_to_aa[(my_dataset[0].x[0,:20]).argmax().item()]}\")\n",
    "print(f\"Free Structure Amino Acid Coords (x, y, z):   {my_dataset[0].x[0,20:23]}\")\n",
    "print(f\"Bound Structure Amino Acid Coords (x, y, z):  {my_dataset[0].x[0,23:26]}\")\n",
    "print(f\"Displacement Coords (Bound - Free) (x, y, z): {my_dataset[0].x[0,26:29]}\")\n"
   ]
  },
  {
   "cell_type": "code",
   "execution_count": null,
   "metadata": {},
   "outputs": [],
   "source": [
    "for i in range(len(my_dataset)):\n",
    "    if not my_dataset[i].x.__len__() == my_dataset[i].x[:,:20].sum().item():\n",
    "        print(f\"Missing amino acid(s) in data point{i}\")"
   ]
  },
  {
   "cell_type": "code",
   "execution_count": null,
   "metadata": {},
   "outputs": [],
   "source": [
    "my_dataset[:5]"
   ]
  },
  {
   "cell_type": "code",
   "execution_count": null,
   "metadata": {},
   "outputs": [],
   "source": [
    "torch.save(my_dataset, 'hom_pscdb_graphs.pt')"
   ]
  },
  {
   "cell_type": "code",
   "execution_count": null,
   "metadata": {},
   "outputs": [],
   "source": [
    "dataset = torch.load('hom_pscdb_graphs.pt', weights_only=False)\n",
    "len(dataset)"
   ]
  }
 ],
 "metadata": {
  "kernelspec": {
   "display_name": "ML_ENV",
   "language": "python",
   "name": "python3"
  },
  "language_info": {
   "codemirror_mode": {
    "name": "ipython",
    "version": 3
   },
   "file_extension": ".py",
   "mimetype": "text/x-python",
   "name": "python",
   "nbconvert_exporter": "python",
   "pygments_lexer": "ipython3",
   "version": "3.10.12"
  }
 },
 "nbformat": 4,
 "nbformat_minor": 2
}
